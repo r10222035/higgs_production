{
 "cells": [
  {
   "cell_type": "code",
   "execution_count": 1,
   "metadata": {},
   "outputs": [],
   "source": [
    "import os\n",
    "import h5py\n",
    "import shutil\n",
    "import numpy as np\n",
    "\n",
    "from pathlib import Path\n",
    "from utils import phi_shift_and_flipping, std_phi\n",
    "\n",
    "import utils_HDF5 as utils_h5\n",
    "\n",
    "MAX_CONSTI = {\n",
    "    'Jet': 50,\n",
    "    'Tower': 250,\n",
    "    'Track': 150,\n",
    "    'Photon': 2,\n",
    "    'Lepton': 4,\n",
    "}"
   ]
  },
  {
   "cell_type": "code",
   "execution_count": 2,
   "metadata": {},
   "outputs": [],
   "source": [
    "def pt_scale(pt):\n",
    "    return np.sqrt(0.052*pt*pt + 1.502*pt)"
   ]
  },
  {
   "cell_type": "markdown",
   "metadata": {},
   "source": [
    "# Merge GGF & VBF samples"
   ]
  },
  {
   "cell_type": "code",
   "execution_count": 3,
   "metadata": {},
   "outputs": [
    {
     "name": "stdout",
     "output_type": "stream",
     "text": [
      "'./data/GGF-03.h5' and ('./data/GGF-04.h5',) are same structure, can be merged.\n",
      "./data/GGF-03_merged.h5 not exist. Copy ./data/GGF-03.h5 to ./data/GGF-03_merged.h5\n",
      "Size of ./data/GGF-03.h5: 81263\n",
      "Size of ./data/GGF-04.h5: 81066\n",
      "Size of ./data/GGF-03_merged.h5: 162329\n",
      "'./data/VBF-03.h5' and () are same structure, can be merged.\n",
      "./data/VBF-03_merged.h5 not exist. Copy ./data/VBF-03.h5 to ./data/VBF-03_merged.h5\n",
      "Size of ./data/VBF-03.h5: 332187\n"
     ]
    }
   ],
   "source": [
    "files = [f'./data/GGF-{i:02}.h5' for i in range(3, 5)]\n",
    "\n",
    "merged_file = utils_h5.merge_h5_file(*files)\n",
    "new_name = './data/GGF.h5'\n",
    "\n",
    "os.rename(merged_file, new_name)\n",
    "\n",
    "files = [f'./data/VBF-{i:02}.h5' for i in range(3, 4)]\n",
    "\n",
    "merged_file = utils_h5.merge_h5_file(*files)\n",
    "new_name = './data/VBF.h5'\n",
    "\n",
    "os.rename(merged_file, new_name)"
   ]
  },
  {
   "cell_type": "code",
   "execution_count": 3,
   "metadata": {},
   "outputs": [
    {
     "name": "stdout",
     "output_type": "stream",
     "text": [
      "'./data/ZZ_4l/GGF_ZZ-03.h5' and ('./data/ZZ_4l/GGF_ZZ-04.h5', './data/ZZ_4l/GGF_ZZ-05.h5') are same structure, can be merged.\n",
      "./data/ZZ_4l/GGF_ZZ-03_merged.h5 not exist. Copy ./data/ZZ_4l/GGF_ZZ-03.h5 to ./data/ZZ_4l/GGF_ZZ-03_merged.h5\n",
      "Size of ./data/ZZ_4l/GGF_ZZ-03.h5: 65399\n",
      "Size of ./data/ZZ_4l/GGF_ZZ-04.h5: 65407\n",
      "Size of ./data/ZZ_4l/GGF_ZZ-03_merged.h5: 130806\n",
      "Size of ./data/ZZ_4l/GGF_ZZ-05.h5: 65401\n",
      "Size of ./data/ZZ_4l/GGF_ZZ-03_merged.h5: 196207\n",
      "'./data/ZZ_4l/VBF_ZZ-03.h5' and ('./data/ZZ_4l/VBF_ZZ-04.h5',) are same structure, can be merged.\n",
      "./data/ZZ_4l/VBF_ZZ-03_merged.h5 not exist. Copy ./data/ZZ_4l/VBF_ZZ-03.h5 to ./data/ZZ_4l/VBF_ZZ-03_merged.h5\n",
      "Size of ./data/ZZ_4l/VBF_ZZ-03.h5: 133162\n",
      "Size of ./data/ZZ_4l/VBF_ZZ-04.h5: 132982\n",
      "Size of ./data/ZZ_4l/VBF_ZZ-03_merged.h5: 266144\n"
     ]
    }
   ],
   "source": [
    "files = [f'./data/ZZ_4l/GGF_ZZ-{i:02}.h5' for i in range(3, 6)]\n",
    "\n",
    "merged_file = utils_h5.merge_h5_file(*files)\n",
    "new_name = './data/ZZ_4l/GGF.h5'\n",
    "\n",
    "os.rename(merged_file, new_name)\n",
    "\n",
    "files = [f'./data/ZZ_4l/VBF_ZZ-{i:02}.h5' for i in range(3, 5)]\n",
    "\n",
    "merged_file = utils_h5.merge_h5_file(*files)\n",
    "new_name = './data/ZZ_4l/VBF.h5'\n",
    "\n",
    "os.rename(merged_file, new_name)"
   ]
  },
  {
   "cell_type": "markdown",
   "metadata": {},
   "source": [
    "# Split SR (VBF) and BR (GGF) samples "
   ]
  },
  {
   "cell_type": "code",
   "execution_count": 3,
   "metadata": {},
   "outputs": [],
   "source": [
    "def get_dataset_keys(f):\n",
    "    keys = []\n",
    "    f.visit(lambda key : keys.append(key) if isinstance(f[key], h5py.Dataset) else None)\n",
    "    return keys\n",
    "\n",
    "def create_dataset(f, nevent, MAX_CONSTI):\n",
    "\n",
    "    f.create_dataset('J1/mask', (nevent, MAX_CONSTI['Jet']), maxshape=(None, MAX_CONSTI['Jet']), dtype='|b1')\n",
    "    f.create_dataset('J1/pt', (nevent, MAX_CONSTI['Jet']), maxshape=(None, MAX_CONSTI['Jet']), dtype='<f4')\n",
    "    f.create_dataset('J1/eta', (nevent, MAX_CONSTI['Jet']), maxshape=(None, MAX_CONSTI['Jet']), dtype='<f4')\n",
    "    f.create_dataset('J1/phi', (nevent, MAX_CONSTI['Jet']), maxshape=(None, MAX_CONSTI['Jet']), dtype='<f4')\n",
    "    f.create_dataset('J1/flavor', (nevent,), maxshape=(None,), dtype='<i8')\n",
    "\n",
    "    f.create_dataset('J2/mask', (nevent, MAX_CONSTI['Jet']), maxshape=(None, MAX_CONSTI['Jet']), dtype='|b1')\n",
    "    f.create_dataset('J2/pt', (nevent, MAX_CONSTI['Jet']), maxshape=(None, MAX_CONSTI['Jet']), dtype='<f4')\n",
    "    f.create_dataset('J2/eta', (nevent, MAX_CONSTI['Jet']), maxshape=(None, MAX_CONSTI['Jet']), dtype='<f4')\n",
    "    f.create_dataset('J2/phi', (nevent, MAX_CONSTI['Jet']), maxshape=(None, MAX_CONSTI['Jet']), dtype='<f4')\n",
    "    f.create_dataset('J2/flavor', (nevent,), maxshape=(None,), dtype='<i8')\n",
    "\n",
    "    f.create_dataset('TOWER/mask', (nevent, MAX_CONSTI['Tower']), maxshape=(None, MAX_CONSTI['Tower']), dtype='|b1')\n",
    "    f.create_dataset('TOWER/pt', (nevent, MAX_CONSTI['Tower']), maxshape=(None, MAX_CONSTI['Tower']), dtype='<f4')\n",
    "    f.create_dataset('TOWER/eta', (nevent, MAX_CONSTI['Tower']), maxshape=(None, MAX_CONSTI['Tower']), dtype='<f4')\n",
    "    f.create_dataset('TOWER/phi', (nevent, MAX_CONSTI['Tower']), maxshape=(None, MAX_CONSTI['Tower']), dtype='<f4')\n",
    "\n",
    "    f.create_dataset('TRACK/mask', (nevent, MAX_CONSTI['Track']), maxshape=(None, MAX_CONSTI['Track']), dtype='|b1')\n",
    "    f.create_dataset('TRACK/pt', (nevent, MAX_CONSTI['Track']), maxshape=(None, MAX_CONSTI['Track']), dtype='<f4')\n",
    "    f.create_dataset('TRACK/eta', (nevent, MAX_CONSTI['Track']), maxshape=(None, MAX_CONSTI['Track']), dtype='<f4')\n",
    "    f.create_dataset('TRACK/phi', (nevent, MAX_CONSTI['Track']), maxshape=(None, MAX_CONSTI['Track']), dtype='<f4')\n",
    "\n",
    "    f.create_dataset('PHOTON/pt', (nevent, MAX_CONSTI['Photon']), maxshape=(None, MAX_CONSTI['Photon']), dtype='<f4')\n",
    "    f.create_dataset('PHOTON/eta', (nevent, MAX_CONSTI['Photon']), maxshape=(None, MAX_CONSTI['Photon']), dtype='<f4')\n",
    "    f.create_dataset('PHOTON/phi', (nevent, MAX_CONSTI['Photon']), maxshape=(None, MAX_CONSTI['Photon']), dtype='<f4')\n",
    "\n",
    "    f.create_dataset('EVENT/mjj', (nevent,), maxshape=(None,), dtype='<f4')\n",
    "    f.create_dataset('EVENT/deta', (nevent,), maxshape=(None,), dtype='<f4')\n",
    "    f.create_dataset('EVENT/type', (nevent,), maxshape=(None,), dtype='<i8')\n",
    "\n",
    "def create_dataset_ZZ(f, nevent, MAX_CONSTI):\n",
    "\n",
    "    f.create_dataset('J1/mask', (nevent, MAX_CONSTI['Jet']), maxshape=(None, MAX_CONSTI['Jet']), dtype='|b1')\n",
    "    f.create_dataset('J1/pt', (nevent, MAX_CONSTI['Jet']), maxshape=(None, MAX_CONSTI['Jet']), dtype='<f4')\n",
    "    f.create_dataset('J1/eta', (nevent, MAX_CONSTI['Jet']), maxshape=(None, MAX_CONSTI['Jet']), dtype='<f4')\n",
    "    f.create_dataset('J1/phi', (nevent, MAX_CONSTI['Jet']), maxshape=(None, MAX_CONSTI['Jet']), dtype='<f4')\n",
    "    f.create_dataset('J1/flavor', (nevent,), maxshape=(None,), dtype='<i8')\n",
    "\n",
    "    f.create_dataset('J2/mask', (nevent, MAX_CONSTI['Jet']), maxshape=(None, MAX_CONSTI['Jet']), dtype='|b1')\n",
    "    f.create_dataset('J2/pt', (nevent, MAX_CONSTI['Jet']), maxshape=(None, MAX_CONSTI['Jet']), dtype='<f4')\n",
    "    f.create_dataset('J2/eta', (nevent, MAX_CONSTI['Jet']), maxshape=(None, MAX_CONSTI['Jet']), dtype='<f4')\n",
    "    f.create_dataset('J2/phi', (nevent, MAX_CONSTI['Jet']), maxshape=(None, MAX_CONSTI['Jet']), dtype='<f4')\n",
    "    f.create_dataset('J2/flavor', (nevent,), maxshape=(None,), dtype='<i8')\n",
    "\n",
    "    f.create_dataset('TOWER/mask', (nevent, MAX_CONSTI['Tower']), maxshape=(None, MAX_CONSTI['Tower']), dtype='|b1')\n",
    "    f.create_dataset('TOWER/pt', (nevent, MAX_CONSTI['Tower']), maxshape=(None, MAX_CONSTI['Tower']), dtype='<f4')\n",
    "    f.create_dataset('TOWER/eta', (nevent, MAX_CONSTI['Tower']), maxshape=(None, MAX_CONSTI['Tower']), dtype='<f4')\n",
    "    f.create_dataset('TOWER/phi', (nevent, MAX_CONSTI['Tower']), maxshape=(None, MAX_CONSTI['Tower']), dtype='<f4')\n",
    "\n",
    "    f.create_dataset('TRACK/mask', (nevent, MAX_CONSTI['Track']), maxshape=(None, MAX_CONSTI['Track']), dtype='|b1')\n",
    "    f.create_dataset('TRACK/pt', (nevent, MAX_CONSTI['Track']), maxshape=(None, MAX_CONSTI['Track']), dtype='<f4')\n",
    "    f.create_dataset('TRACK/eta', (nevent, MAX_CONSTI['Track']), maxshape=(None, MAX_CONSTI['Track']), dtype='<f4')\n",
    "    f.create_dataset('TRACK/phi', (nevent, MAX_CONSTI['Track']), maxshape=(None, MAX_CONSTI['Track']), dtype='<f4')\n",
    "\n",
    "    f.create_dataset('LEPTON/pt', (nevent, MAX_CONSTI['Lepton']), maxshape=(None, MAX_CONSTI['Lepton']), dtype='<f4')\n",
    "    f.create_dataset('LEPTON/eta', (nevent, MAX_CONSTI['Lepton']), maxshape=(None, MAX_CONSTI['Lepton']), dtype='<f4')\n",
    "    f.create_dataset('LEPTON/phi', (nevent, MAX_CONSTI['Lepton']), maxshape=(None, MAX_CONSTI['Lepton']), dtype='<f4')\n",
    "    f.create_dataset('LEPTON/flavor', (nevent, MAX_CONSTI['Lepton']), maxshape=(None, MAX_CONSTI['Lepton']), dtype='<i8')\n",
    "\n",
    "    f.create_dataset('EVENT/mjj', (nevent,), maxshape=(None,), dtype='<f4')\n",
    "    f.create_dataset('EVENT/deta', (nevent,), maxshape=(None,), dtype='<f4')\n",
    "    f.create_dataset('EVENT/type', (nevent,), maxshape=(None,), dtype='<i8')"
   ]
  },
  {
   "cell_type": "code",
   "execution_count": 4,
   "metadata": {},
   "outputs": [],
   "source": [
    "def split_SR_BR(h5_path, output_path, cut_type='mjj', cut_value=300, mode='di-photon'):\n",
    "    # read data\n",
    "    with h5py.File(h5_path, 'r') as f:\n",
    "\n",
    "        mjj = f[f'EVENT/mjj'][:]\n",
    "        deta = f[f'EVENT/deta'][:]\n",
    "        j1_flavor = f[f'J1/flavor'][:]\n",
    "        j2_flavor = f[f'J2/flavor'][:]\n",
    "        if cut_type == 'mjj':\n",
    "            SR_range = mjj > cut_value\n",
    "            BR_range = mjj < cut_value\n",
    "        elif cut_type == 'deta':\n",
    "            SR_range = deta > cut_value\n",
    "            BR_range = deta < cut_value\n",
    "        elif cut_type == 'mjj_deta':\n",
    "            SR_range = (mjj > cut_value[0]) & (deta > cut_value[1])\n",
    "            BR_range = (mjj < cut_value[0]) | (deta < cut_value[1])\n",
    "        elif cut_type == 'gluon_jet':\n",
    "            gluon_jet = (j1_flavor == 21).astype(int) + (j2_flavor == 21).astype(int)\n",
    "            SR_range = gluon_jet >= cut_value\n",
    "            BR_range = gluon_jet < cut_value\n",
    "        elif cut_type == 'quark_jet':\n",
    "            quark_jet = (j1_flavor < 6).astype(int) + (j2_flavor < 6).astype(int)\n",
    "            SR_range = quark_jet >= cut_value\n",
    "            BR_range = quark_jet < cut_value\n",
    "        elif cut_type == 'quark_gluon_jet':\n",
    "            gluon_jet = (j1_flavor == 21).astype(int) + (j2_flavor == 21).astype(int)\n",
    "            quark_jet = (j1_flavor < 6).astype(int) + (j2_flavor < 6).astype(int)\n",
    "            SR_range = quark_jet == cut_value\n",
    "            BR_range = gluon_jet == cut_value\n",
    "        else:\n",
    "            raise ValueError(f'cut_type {cut_type} not supported')\n",
    "\n",
    "        \n",
    "        root, _ = os.path.splitext(output_path)\n",
    "        output_path = Path(output_path)\n",
    "        output_path.parent.mkdir(parents=True, exist_ok=True)\n",
    "        root = output_path.with_suffix('')\n",
    "        SR_path = f'{root}_in_SR.h5'\n",
    "        BR_path = f'{root}_in_BR.h5'\n",
    "\n",
    "        with h5py.File(SR_path, 'w') as f_SR, h5py.File(BR_path, 'w') as f_SB:\n",
    "\n",
    "            if mode == 'di-photon':\n",
    "                create_dataset(f_SR, SR_range.sum(), MAX_CONSTI)\n",
    "                create_dataset(f_SB, BR_range.sum(), MAX_CONSTI)\n",
    "            elif mode == 'ZZ_4l':\n",
    "                create_dataset_ZZ(f_SR, SR_range.sum(), MAX_CONSTI)\n",
    "                create_dataset_ZZ(f_SB, BR_range.sum(), MAX_CONSTI)\n",
    "            else:\n",
    "                raise ValueError(f'mode {mode} not supported')\n",
    "\n",
    "            keys = get_dataset_keys(f_SR)\n",
    "            for key in keys:\n",
    "                f_SR[key][:] = f[key][:][SR_range]\n",
    "                f_SB[key][:] = f[key][:][BR_range]"
   ]
  },
  {
   "cell_type": "code",
   "execution_count": 5,
   "metadata": {},
   "outputs": [],
   "source": [
    "cut_type = 'mjj'\n",
    "cut_value = 225\n",
    "\n",
    "h5_path = 'data/GGF.h5'\n",
    "output_path = 'data/mjj_225_cut/GGF.h5'\n",
    "split_SR_BR(h5_path, output_path, cut_type, cut_value)\n",
    "\n",
    "h5_path = 'data/VBF.h5'\n",
    "output_path = 'data/mjj_225_cut/VBF.h5'\n",
    "split_SR_BR(h5_path, output_path, cut_type, cut_value)"
   ]
  },
  {
   "cell_type": "code",
   "execution_count": 6,
   "metadata": {},
   "outputs": [],
   "source": [
    "cut_type = 'deta'\n",
    "cut_value = 2.3\n",
    "\n",
    "h5_path = 'data/GGF.h5'\n",
    "output_path = 'data/deta_2.3_cut/GGF.h5'\n",
    "split_SR_BR(h5_path, output_path, cut_type, cut_value)\n",
    "\n",
    "h5_path = 'data/VBF.h5'\n",
    "output_path = 'data/deta_2.3_cut/VBF.h5'\n",
    "split_SR_BR(h5_path, output_path, cut_type, cut_value)"
   ]
  },
  {
   "cell_type": "code",
   "execution_count": 7,
   "metadata": {},
   "outputs": [],
   "source": [
    "cut_type = 'mjj_deta'\n",
    "cut_value = (225, 2.3)\n",
    "\n",
    "h5_path = 'data/GGF.h5'\n",
    "output_path = 'data/mjj_225_deta_2.3_cut/GGF.h5'\n",
    "split_SR_BR(h5_path, output_path, cut_type, cut_value)\n",
    "\n",
    "h5_path = 'data/VBF.h5'\n",
    "output_path = 'data/mjj_225_deta_2.3_cut/VBF.h5'\n",
    "split_SR_BR(h5_path, output_path, cut_type, cut_value)"
   ]
  },
  {
   "cell_type": "code",
   "execution_count": 11,
   "metadata": {},
   "outputs": [],
   "source": [
    "cut_type = 'gluon_jet'\n",
    "cut_value = 2\n",
    "\n",
    "h5_path = 'data/GGF.h5'\n",
    "output_path = f'data/{cut_type}_{cut_value}_cut/GGF.h5'\n",
    "split_SR_BR(h5_path, output_path, cut_type, cut_value)\n",
    "\n",
    "h5_path = 'data/VBF.h5'\n",
    "output_path = f'data/{cut_type}_{cut_value}_cut/VBF.h5'\n",
    "split_SR_BR(h5_path, output_path, cut_type, cut_value)\n",
    "\n",
    "cut_value = 1\n",
    "\n",
    "h5_path = 'data/GGF.h5'\n",
    "output_path = f'data/{cut_type}_{cut_value}_cut/GGF.h5'\n",
    "split_SR_BR(h5_path, output_path, cut_type, cut_value)\n",
    "\n",
    "h5_path = 'data/VBF.h5'\n",
    "output_path = f'data/{cut_type}_{cut_value}_cut/VBF.h5'\n",
    "split_SR_BR(h5_path, output_path, cut_type, cut_value)"
   ]
  },
  {
   "cell_type": "code",
   "execution_count": 5,
   "metadata": {},
   "outputs": [],
   "source": [
    "cut_type = 'quark_jet'\n",
    "cut_value = 2\n",
    "\n",
    "h5_path = 'data/GGF.h5'\n",
    "output_path = f'data/{cut_type}_{cut_value}_cut/GGF.h5'\n",
    "split_SR_BR(h5_path, output_path, cut_type, cut_value)\n",
    "\n",
    "h5_path = 'data/VBF.h5'\n",
    "output_path = f'data/{cut_type}_{cut_value}_cut/VBF.h5'\n",
    "split_SR_BR(h5_path, output_path, cut_type, cut_value)\n",
    "\n",
    "cut_value = 1\n",
    "\n",
    "h5_path = 'data/GGF.h5'\n",
    "output_path = f'data/{cut_type}_{cut_value}_cut/GGF.h5'\n",
    "split_SR_BR(h5_path, output_path, cut_type, cut_value)\n",
    "\n",
    "h5_path = 'data/VBF.h5'\n",
    "output_path = f'data/{cut_type}_{cut_value}_cut/VBF.h5'\n",
    "split_SR_BR(h5_path, output_path, cut_type, cut_value)"
   ]
  },
  {
   "cell_type": "code",
   "execution_count": 5,
   "metadata": {},
   "outputs": [],
   "source": [
    "cut_type = 'quark_gluon_jet'\n",
    "cut_value = 2\n",
    "\n",
    "h5_path = 'data/GGF.h5'\n",
    "output_path = f'data/{cut_type}_{cut_value}_cut/GGF.h5'\n",
    "split_SR_BR(h5_path, output_path, cut_type, cut_value)\n",
    "\n",
    "h5_path = 'data/VBF.h5'\n",
    "output_path = f'data/{cut_type}_{cut_value}_cut/VBF.h5'\n",
    "split_SR_BR(h5_path, output_path, cut_type, cut_value)"
   ]
  },
  {
   "cell_type": "code",
   "execution_count": 5,
   "metadata": {},
   "outputs": [],
   "source": [
    "cut_type = 'quark_jet'\n",
    "cut_value = 2\n",
    "\n",
    "h5_path = 'data/ZZ_4l/GGF.h5'\n",
    "output_path = f'data/ZZ_4l/{cut_type}_{cut_value}_cut/GGF.h5'\n",
    "split_SR_BR(h5_path, output_path, cut_type, cut_value, mode='ZZ_4l')\n",
    "\n",
    "h5_path = 'data/ZZ_4l/VBF.h5'\n",
    "output_path = f'data/ZZ_4l/{cut_type}_{cut_value}_cut/VBF.h5'\n",
    "split_SR_BR(h5_path, output_path, cut_type, cut_value, mode='ZZ_4l')\n",
    "\n",
    "cut_value = 1\n",
    "\n",
    "h5_path = 'data/ZZ_4l/GGF.h5'\n",
    "output_path = f'data/ZZ_4l/{cut_type}_{cut_value}_cut/GGF.h5'\n",
    "split_SR_BR(h5_path, output_path, cut_type, cut_value, mode='ZZ_4l')\n",
    "\n",
    "h5_path = 'data/ZZ_4l/VBF.h5'\n",
    "output_path = f'data/ZZ_4l/{cut_type}_{cut_value}_cut/VBF.h5'\n",
    "split_SR_BR(h5_path, output_path, cut_type, cut_value, mode='ZZ_4l')"
   ]
  },
  {
   "cell_type": "markdown",
   "metadata": {},
   "source": [
    "# $\\phi$ shifting and flipping"
   ]
  },
  {
   "cell_type": "code",
   "execution_count": 4,
   "metadata": {},
   "outputs": [],
   "source": [
    "def to_event_image_h5(h5_path, out_h5):\n",
    "    \n",
    "    out_h5 = Path(out_h5)\n",
    "    out_h5.parent.mkdir(parents=True, exist_ok=True)\n",
    "\n",
    "    shutil.copyfile(h5_path, out_h5)\n",
    "\n",
    "    with h5py.File(out_h5, 'a') as f_out:\n",
    "        print(out_h5)\n",
    "\n",
    "        event_pt = np.concatenate([f_out['TOWER/pt'][:], f_out['TRACK/pt'][:], f_out['PHOTON/pt'][:]], axis=1)\n",
    "        event_eta = np.concatenate([f_out['TOWER/eta'][:], f_out['TRACK/eta'][:], f_out['PHOTON/eta'][:]], axis=1)\n",
    "        event_phi = np.concatenate([f_out['TOWER/phi'][:], f_out['TRACK/phi'][:], f_out['PHOTON/phi'][:]], axis=1)\n",
    "\n",
    "        _, new_eta, new_phi = phi_shift_and_flipping(event_pt, event_eta, event_phi)\n",
    "\n",
    "        f_out['TOWER/eta'][:] = new_eta[:, :MAX_CONSTI['Tower']]\n",
    "        f_out['TRACK/eta'][:] = new_eta[:, MAX_CONSTI['Tower']:MAX_CONSTI['Tower']+MAX_CONSTI['Track']]\n",
    "        f_out['PHOTON/eta'][:] = new_eta[:, MAX_CONSTI['Tower']+MAX_CONSTI['Track']:]\n",
    "\n",
    "        f_out['TOWER/phi'][:] = new_phi[:, :MAX_CONSTI['Tower']]\n",
    "        f_out['TRACK/phi'][:] = new_phi[:, MAX_CONSTI['Tower']:MAX_CONSTI['Tower']+MAX_CONSTI['Track']]\n",
    "        f_out['PHOTON/phi'][:] = new_phi[:, MAX_CONSTI['Tower']+MAX_CONSTI['Track']:]\n",
    "\n",
    "def to_event_image_h5_ZZ(h5_path, out_h5):\n",
    "    \n",
    "    out_h5 = Path(out_h5)\n",
    "    out_h5.parent.mkdir(parents=True, exist_ok=True)\n",
    "\n",
    "    shutil.copyfile(h5_path, out_h5)\n",
    "\n",
    "    with h5py.File(out_h5, 'a') as f_out:\n",
    "        print(out_h5)\n",
    "\n",
    "        event_pt = np.concatenate([f_out['TOWER/pt'][:], f_out['TRACK/pt'][:], f_out['LEPTON/pt'][:]], axis=1)\n",
    "        event_eta = np.concatenate([f_out['TOWER/eta'][:], f_out['TRACK/eta'][:], f_out['LEPTON/eta'][:]], axis=1)\n",
    "        event_phi = np.concatenate([f_out['TOWER/phi'][:], f_out['TRACK/phi'][:], f_out['LEPTON/phi'][:]], axis=1)\n",
    "\n",
    "        _, new_eta, new_phi = phi_shift_and_flipping(event_pt, event_eta, event_phi)\n",
    "\n",
    "        f_out['TOWER/eta'][:] = new_eta[:, :MAX_CONSTI['Tower']]\n",
    "        f_out['TRACK/eta'][:] = new_eta[:, MAX_CONSTI['Tower']:MAX_CONSTI['Tower']+MAX_CONSTI['Track']]\n",
    "        f_out['LEPTON/eta'][:] = new_eta[:, MAX_CONSTI['Tower']+MAX_CONSTI['Track']:]\n",
    "\n",
    "        f_out['TOWER/phi'][:] = new_phi[:, :MAX_CONSTI['Tower']]\n",
    "        f_out['TRACK/phi'][:] = new_phi[:, MAX_CONSTI['Tower']:MAX_CONSTI['Tower']+MAX_CONSTI['Track']]\n",
    "        f_out['LEPTON/phi'][:] = new_phi[:, MAX_CONSTI['Tower']+MAX_CONSTI['Track']:]"
   ]
  },
  {
   "cell_type": "code",
   "execution_count": 9,
   "metadata": {},
   "outputs": [
    {
     "name": "stdout",
     "output_type": "stream",
     "text": [
      "data/mjj_cut/pre-processing/VBF_in_SR.h5\n",
      "data/mjj_cut/pre-processing/VBF_in_BR.h5\n",
      "data/mjj_cut/pre-processing/GGF_in_SR.h5\n",
      "data/mjj_cut/pre-processing/GGF_in_BR.h5\n",
      "data/deta_cut/pre-processing/VBF_in_SR.h5\n",
      "data/deta_cut/pre-processing/VBF_in_BR.h5\n",
      "data/deta_cut/pre-processing/GGF_in_SR.h5\n",
      "data/deta_cut/pre-processing/GGF_in_BR.h5\n",
      "data/mjj_deta_cut/pre-processing/VBF_in_SR.h5\n",
      "data/mjj_deta_cut/pre-processing/VBF_in_BR.h5\n",
      "data/mjj_deta_cut/pre-processing/GGF_in_SR.h5\n",
      "data/mjj_deta_cut/pre-processing/GGF_in_BR.h5\n"
     ]
    }
   ],
   "source": [
    "for name in ['VBF_in_SR', 'VBF_in_BR', 'GGF_in_SR', 'GGF_in_BR']:\n",
    "    h5_path = f'./data/mjj_cut/{name}.h5'\n",
    "    out_h5 = f'./data/mjj_cut/pre-processing/{name}.h5'\n",
    "    to_event_image_h5(h5_path, out_h5)\n",
    "\n",
    "for name in ['VBF_in_SR', 'VBF_in_BR', 'GGF_in_SR', 'GGF_in_BR']:\n",
    "    h5_path = f'./data/deta_cut/{name}.h5'\n",
    "    out_h5 = f'./data/deta_cut/pre-processing/{name}.h5'\n",
    "    to_event_image_h5(h5_path, out_h5)\n",
    "\n",
    "for name in ['VBF_in_SR', 'VBF_in_BR', 'GGF_in_SR', 'GGF_in_BR']:\n",
    "    h5_path = f'./data/mjj_deta_cut/{name}.h5'\n",
    "    out_h5 = f'./data/mjj_deta_cut/pre-processing/{name}.h5'\n",
    "    to_event_image_h5(h5_path, out_h5)"
   ]
  },
  {
   "cell_type": "code",
   "execution_count": 10,
   "metadata": {},
   "outputs": [
    {
     "name": "stdout",
     "output_type": "stream",
     "text": [
      "data/mjj_225_cut/pre-processing/VBF_in_SR.h5\n",
      "data/mjj_225_cut/pre-processing/VBF_in_BR.h5\n",
      "data/mjj_225_cut/pre-processing/GGF_in_SR.h5\n",
      "data/mjj_225_cut/pre-processing/GGF_in_BR.h5\n",
      "data/deta_2.3_cut/pre-processing/VBF_in_SR.h5\n",
      "data/deta_2.3_cut/pre-processing/VBF_in_BR.h5\n",
      "data/deta_2.3_cut/pre-processing/GGF_in_SR.h5\n",
      "data/deta_2.3_cut/pre-processing/GGF_in_BR.h5\n",
      "data/mjj_225_deta_2.3_cut/pre-processing/VBF_in_SR.h5\n",
      "data/mjj_225_deta_2.3_cut/pre-processing/VBF_in_BR.h5\n",
      "data/mjj_225_deta_2.3_cut/pre-processing/GGF_in_SR.h5\n",
      "data/mjj_225_deta_2.3_cut/pre-processing/GGF_in_BR.h5\n"
     ]
    }
   ],
   "source": [
    "for name in ['VBF_in_SR', 'VBF_in_BR', 'GGF_in_SR', 'GGF_in_BR']:\n",
    "    h5_path = f'./data/mjj_225_cut/{name}.h5'\n",
    "    out_h5 = f'./data/mjj_225_cut/pre-processing/{name}.h5'\n",
    "    to_event_image_h5(h5_path, out_h5)\n",
    "\n",
    "for name in ['VBF_in_SR', 'VBF_in_BR', 'GGF_in_SR', 'GGF_in_BR']:\n",
    "    h5_path = f'./data/deta_2.3_cut/{name}.h5'\n",
    "    out_h5 = f'./data/deta_2.3_cut/pre-processing/{name}.h5'\n",
    "    to_event_image_h5(h5_path, out_h5)\n",
    "\n",
    "for name in ['VBF_in_SR', 'VBF_in_BR', 'GGF_in_SR', 'GGF_in_BR']:\n",
    "    h5_path = f'./data/mjj_225_deta_2.3_cut/{name}.h5'\n",
    "    out_h5 = f'./data/mjj_225_deta_2.3_cut/pre-processing/{name}.h5'\n",
    "    to_event_image_h5(h5_path, out_h5)"
   ]
  },
  {
   "cell_type": "code",
   "execution_count": 3,
   "metadata": {},
   "outputs": [
    {
     "name": "stdout",
     "output_type": "stream",
     "text": [
      "data/supervised/pre-processing/VBF.h5\n",
      "data/supervised/pre-processing/GGF.h5\n"
     ]
    }
   ],
   "source": [
    "for name in ['VBF', 'GGF']:\n",
    "    h5_path = f'./data/{name}.h5'\n",
    "    out_h5 = f'./data/supervised/pre-processing/{name}.h5'\n",
    "    to_event_image_h5(h5_path, out_h5)"
   ]
  },
  {
   "cell_type": "code",
   "execution_count": 13,
   "metadata": {},
   "outputs": [
    {
     "name": "stdout",
     "output_type": "stream",
     "text": [
      "data/gluon_jet_2_cut/pre-processing/VBF_in_SR.h5\n",
      "data/gluon_jet_2_cut/pre-processing/VBF_in_BR.h5\n",
      "data/gluon_jet_2_cut/pre-processing/GGF_in_SR.h5\n",
      "data/gluon_jet_2_cut/pre-processing/GGF_in_BR.h5\n",
      "data/gluon_jet_1_cut/pre-processing/VBF_in_SR.h5\n",
      "data/gluon_jet_1_cut/pre-processing/VBF_in_BR.h5\n",
      "data/gluon_jet_1_cut/pre-processing/GGF_in_SR.h5\n",
      "data/gluon_jet_1_cut/pre-processing/GGF_in_BR.h5\n"
     ]
    }
   ],
   "source": [
    "for name in ['VBF_in_SR', 'VBF_in_BR', 'GGF_in_SR', 'GGF_in_BR']:\n",
    "    h5_path = f'./data/gluon_jet_2_cut/{name}.h5'\n",
    "    out_h5 = f'./data/gluon_jet_2_cut/pre-processing/{name}.h5'\n",
    "    to_event_image_h5(h5_path, out_h5)\n",
    "\n",
    "for name in ['VBF_in_SR', 'VBF_in_BR', 'GGF_in_SR', 'GGF_in_BR']:\n",
    "    h5_path = f'./data/gluon_jet_1_cut/{name}.h5'\n",
    "    out_h5 = f'./data/gluon_jet_1_cut/pre-processing/{name}.h5'\n",
    "    to_event_image_h5(h5_path, out_h5)"
   ]
  },
  {
   "cell_type": "code",
   "execution_count": 12,
   "metadata": {},
   "outputs": [
    {
     "name": "stdout",
     "output_type": "stream",
     "text": [
      "data/quark_jet_2_cut/pre-processing/VBF_in_SR.h5\n",
      "data/quark_jet_2_cut/pre-processing/VBF_in_BR.h5\n",
      "data/quark_jet_2_cut/pre-processing/GGF_in_SR.h5\n",
      "data/quark_jet_2_cut/pre-processing/GGF_in_BR.h5\n",
      "data/quark_jet_1_cut/pre-processing/VBF_in_SR.h5\n",
      "data/quark_jet_1_cut/pre-processing/VBF_in_BR.h5\n",
      "data/quark_jet_1_cut/pre-processing/GGF_in_SR.h5\n",
      "data/quark_jet_1_cut/pre-processing/GGF_in_BR.h5\n"
     ]
    }
   ],
   "source": [
    "for name in ['VBF_in_SR', 'VBF_in_BR', 'GGF_in_SR', 'GGF_in_BR']:\n",
    "    h5_path = f'./data/quark_jet_2_cut/{name}.h5'\n",
    "    out_h5 = f'./data/quark_jet_2_cut/pre-processing/{name}.h5'\n",
    "    to_event_image_h5(h5_path, out_h5)\n",
    "\n",
    "for name in ['VBF_in_SR', 'VBF_in_BR', 'GGF_in_SR', 'GGF_in_BR']:\n",
    "    h5_path = f'./data/quark_jet_1_cut/{name}.h5'\n",
    "    out_h5 = f'./data/quark_jet_1_cut/pre-processing/{name}.h5'\n",
    "    to_event_image_h5(h5_path, out_h5)"
   ]
  },
  {
   "cell_type": "code",
   "execution_count": 7,
   "metadata": {},
   "outputs": [
    {
     "name": "stdout",
     "output_type": "stream",
     "text": [
      "data/quark_gluon_jet_2_cut/pre-processing/VBF_in_SR.h5\n",
      "data/quark_gluon_jet_2_cut/pre-processing/VBF_in_BR.h5\n",
      "data/quark_gluon_jet_2_cut/pre-processing/GGF_in_SR.h5\n",
      "data/quark_gluon_jet_2_cut/pre-processing/GGF_in_BR.h5\n"
     ]
    }
   ],
   "source": [
    "for name in ['VBF_in_SR', 'VBF_in_BR', 'GGF_in_SR', 'GGF_in_BR']:\n",
    "    h5_path = f'./data/quark_gluon_jet_2_cut/{name}.h5'\n",
    "    out_h5 = f'./data/quark_gluon_jet_2_cut/pre-processing/{name}.h5'\n",
    "    to_event_image_h5(h5_path, out_h5)"
   ]
  },
  {
   "cell_type": "markdown",
   "metadata": {},
   "source": [
    "## $H \\to ZZ \\to 4\\ell$"
   ]
  },
  {
   "cell_type": "code",
   "execution_count": 7,
   "metadata": {},
   "outputs": [
    {
     "name": "stdout",
     "output_type": "stream",
     "text": [
      "data/ZZ_4l/quark_jet_2_cut/pre-processing/VBF_in_SR.h5\n",
      "data/ZZ_4l/quark_jet_2_cut/pre-processing/VBF_in_BR.h5\n",
      "data/ZZ_4l/quark_jet_2_cut/pre-processing/GGF_in_SR.h5\n",
      "data/ZZ_4l/quark_jet_2_cut/pre-processing/GGF_in_BR.h5\n"
     ]
    }
   ],
   "source": [
    "for name in ['VBF_in_SR', 'VBF_in_BR', 'GGF_in_SR', 'GGF_in_BR']:\n",
    "    h5_path = f'./data/ZZ_4l/quark_jet_2_cut/{name}.h5'\n",
    "    out_h5 = f'./data/ZZ_4l/quark_jet_2_cut/pre-processing/{name}.h5'\n",
    "    to_event_image_h5_ZZ(h5_path, out_h5)"
   ]
  },
  {
   "cell_type": "code",
   "execution_count": 5,
   "metadata": {},
   "outputs": [
    {
     "name": "stdout",
     "output_type": "stream",
     "text": [
      "data/ZZ_4l/supervised/pre-processing/VBF.h5\n",
      "data/ZZ_4l/supervised/pre-processing/GGF.h5\n"
     ]
    }
   ],
   "source": [
    "for name in ['VBF', 'GGF']:\n",
    "    h5_path = f'./data/ZZ_4l/{name}.h5'\n",
    "    out_h5 = f'./data/ZZ_4l/supervised/pre-processing/{name}.h5'\n",
    "    to_event_image_h5_ZZ(h5_path, out_h5)"
   ]
  },
  {
   "cell_type": "markdown",
   "metadata": {},
   "source": [
    "# $p_\\text{T}$ smearing"
   ]
  },
  {
   "cell_type": "code",
   "execution_count": 3,
   "metadata": {},
   "outputs": [],
   "source": [
    "def pt_smearing(h5_path, out_h5):\n",
    "\n",
    "    out_h5 = Path(out_h5)\n",
    "    out_h5.parent.mkdir(parents=True, exist_ok=True)\n",
    "\n",
    "    shutil.copyfile(h5_path, out_h5)\n",
    "\n",
    "    with h5py.File(out_h5, 'a') as f_out:\n",
    "        print(out_h5)\n",
    "        # Take pT information\n",
    "        event_pt = np.concatenate([f_out['TOWER/pt'][:], f_out['TRACK/pt'][:], f_out['PHOTON/pt'][:]], axis=1)\n",
    "            \n",
    "        # Smearing pt\n",
    "        event_pt_tmp = np.random.normal(loc=event_pt, scale=pt_scale(event_pt))\n",
    "        # set negative pt as 0\n",
    "        event_pt_tmp[event_pt_tmp < 0] = 0\n",
    "        event_eta = np.concatenate([f_out['TOWER/eta'][:], f_out['TRACK/eta'][:], f_out['PHOTON/eta'][:]], axis=1)\n",
    "        event_phi = np.concatenate([f_out['TOWER/phi'][:], f_out['TRACK/phi'][:], f_out['PHOTON/phi'][:]], axis=1)\n",
    "\n",
    "        _, _, new_phi = phi_shift_and_flipping(event_pt_tmp, event_eta, event_phi)\n",
    "\n",
    "        f_out['TOWER/phi'][:] = new_phi[:, :MAX_CONSTI['Tower']]\n",
    "        f_out['TRACK/phi'][:] = new_phi[:, MAX_CONSTI['Tower']:MAX_CONSTI['Tower']+MAX_CONSTI['Track']]\n",
    "        f_out['PHOTON/phi'][:] = new_phi[:, MAX_CONSTI['Tower']+MAX_CONSTI['Track']:]"
   ]
  },
  {
   "cell_type": "code",
   "execution_count": 8,
   "metadata": {},
   "outputs": [
    {
     "name": "stdout",
     "output_type": "stream",
     "text": [
      "data/quark_jet_2_cut/pT_smearing/11/VBF_in_SR.h5\n",
      "data/quark_jet_2_cut/pT_smearing/11/VBF_in_BR.h5\n",
      "data/quark_jet_2_cut/pT_smearing/11/GGF_in_SR.h5\n",
      "data/quark_jet_2_cut/pT_smearing/11/GGF_in_BR.h5\n",
      "data/quark_jet_2_cut/pT_smearing/12/VBF_in_SR.h5\n",
      "data/quark_jet_2_cut/pT_smearing/12/VBF_in_BR.h5\n",
      "data/quark_jet_2_cut/pT_smearing/12/GGF_in_SR.h5\n",
      "data/quark_jet_2_cut/pT_smearing/12/GGF_in_BR.h5\n",
      "data/quark_jet_2_cut/pT_smearing/13/VBF_in_SR.h5\n",
      "data/quark_jet_2_cut/pT_smearing/13/VBF_in_BR.h5\n",
      "data/quark_jet_2_cut/pT_smearing/13/GGF_in_SR.h5\n",
      "data/quark_jet_2_cut/pT_smearing/13/GGF_in_BR.h5\n",
      "data/quark_jet_2_cut/pT_smearing/14/VBF_in_SR.h5\n",
      "data/quark_jet_2_cut/pT_smearing/14/VBF_in_BR.h5\n",
      "data/quark_jet_2_cut/pT_smearing/14/GGF_in_SR.h5\n",
      "data/quark_jet_2_cut/pT_smearing/14/GGF_in_BR.h5\n",
      "data/quark_jet_2_cut/pT_smearing/15/VBF_in_SR.h5\n",
      "data/quark_jet_2_cut/pT_smearing/15/VBF_in_BR.h5\n",
      "data/quark_jet_2_cut/pT_smearing/15/GGF_in_SR.h5\n",
      "data/quark_jet_2_cut/pT_smearing/15/GGF_in_BR.h5\n"
     ]
    }
   ],
   "source": [
    "for n in range(11, 16):\n",
    "    \n",
    "    out_dir = Path(f'./data/quark_jet_2_cut/pT_smearing/{n:02}')\n",
    "\n",
    "    for name in ['VBF_in_SR', 'VBF_in_BR', 'GGF_in_SR', 'GGF_in_BR']:\n",
    "        h5_path = f'./data/quark_jet_2_cut/{name}.h5'\n",
    "        out_h5 = out_dir / f'{name}.h5'\n",
    "        pt_smearing(h5_path, out_h5)"
   ]
  },
  {
   "cell_type": "markdown",
   "metadata": {},
   "source": [
    "# $\\phi$ shifting augmentation"
   ]
  },
  {
   "cell_type": "code",
   "execution_count": 3,
   "metadata": {},
   "outputs": [],
   "source": [
    "def phi_shifting(h5_path, out_h5, shift_range=np.pi):\n",
    "    \n",
    "    out_h5 = Path(out_h5)\n",
    "    out_h5.parent.mkdir(parents=True, exist_ok=True)\n",
    "\n",
    "    shutil.copyfile(h5_path, out_h5)\n",
    "\n",
    "    with h5py.File(out_h5, 'a') as f_out:\n",
    "        print(out_h5)\n",
    "\n",
    "        event_pt = np.concatenate([f_out['TOWER/pt'][:], f_out['TRACK/pt'][:], f_out['PHOTON/pt'][:]], axis=1)\n",
    "        event_eta = np.concatenate([f_out['TOWER/eta'][:], f_out['TRACK/eta'][:], f_out['PHOTON/eta'][:]], axis=1)\n",
    "        event_phi = np.concatenate([f_out['TOWER/phi'][:], f_out['TRACK/phi'][:], f_out['PHOTON/phi'][:]], axis=1)\n",
    "\n",
    "        _, new_eta, new_phi = phi_shift_and_flipping(event_pt, event_eta, event_phi)\n",
    "\n",
    "        f_out['TOWER/eta'][:] = new_eta[:, :MAX_CONSTI['Tower']]\n",
    "        f_out['TRACK/eta'][:] = new_eta[:, MAX_CONSTI['Tower']:MAX_CONSTI['Tower']+MAX_CONSTI['Track']]\n",
    "        f_out['PHOTON/eta'][:] = new_eta[:, MAX_CONSTI['Tower']+MAX_CONSTI['Track']:]\n",
    "\n",
    "        f_out['TOWER/phi'][:] = new_phi[:, :MAX_CONSTI['Tower']]\n",
    "        f_out['TRACK/phi'][:] = new_phi[:, MAX_CONSTI['Tower']:MAX_CONSTI['Tower']+MAX_CONSTI['Track']]\n",
    "        f_out['PHOTON/phi'][:] = new_phi[:, MAX_CONSTI['Tower']+MAX_CONSTI['Track']:]\n",
    "\n",
    "        # phi shift augmentation\n",
    "        nevent = f_out['EVENT/type'].shape[0]\n",
    "        phi_shift = np.random.uniform(-shift_range, shift_range, size=nevent)[:, None]\n",
    "\n",
    "        f_out['TOWER/phi'][:] += phi_shift\n",
    "        f_out['TRACK/phi'][:] += phi_shift\n",
    "        f_out['PHOTON/phi'][:] += phi_shift\n",
    "\n",
    "        f_out['TOWER/phi'][:] = std_phi(f_out['TOWER/phi'][:])\n",
    "        f_out['TRACK/phi'][:] = std_phi(f_out['TRACK/phi'][:])\n",
    "        f_out['PHOTON/phi'][:] = std_phi(f_out['PHOTON/phi'][:])\n",
    "\n",
    "def phi_shifting_fix(h5_path, out_h5, shift_angle=np.pi):\n",
    "    \n",
    "    out_h5 = Path(out_h5)\n",
    "    out_h5.parent.mkdir(parents=True, exist_ok=True)\n",
    "\n",
    "    shutil.copyfile(h5_path, out_h5)\n",
    "\n",
    "    with h5py.File(out_h5, 'a') as f_out:\n",
    "        print(out_h5)\n",
    "\n",
    "        event_pt = np.concatenate([f_out['TOWER/pt'][:], f_out['TRACK/pt'][:], f_out['PHOTON/pt'][:]], axis=1)\n",
    "        event_eta = np.concatenate([f_out['TOWER/eta'][:], f_out['TRACK/eta'][:], f_out['PHOTON/eta'][:]], axis=1)\n",
    "        event_phi = np.concatenate([f_out['TOWER/phi'][:], f_out['TRACK/phi'][:], f_out['PHOTON/phi'][:]], axis=1)\n",
    "\n",
    "        _, new_eta, new_phi = phi_shift_and_flipping(event_pt, event_eta, event_phi)\n",
    "\n",
    "        f_out['TOWER/eta'][:] = new_eta[:, :MAX_CONSTI['Tower']]\n",
    "        f_out['TRACK/eta'][:] = new_eta[:, MAX_CONSTI['Tower']:MAX_CONSTI['Tower']+MAX_CONSTI['Track']]\n",
    "        f_out['PHOTON/eta'][:] = new_eta[:, MAX_CONSTI['Tower']+MAX_CONSTI['Track']:]\n",
    "\n",
    "        f_out['TOWER/phi'][:] = new_phi[:, :MAX_CONSTI['Tower']]\n",
    "        f_out['TRACK/phi'][:] = new_phi[:, MAX_CONSTI['Tower']:MAX_CONSTI['Tower']+MAX_CONSTI['Track']]\n",
    "        f_out['PHOTON/phi'][:] = new_phi[:, MAX_CONSTI['Tower']+MAX_CONSTI['Track']:]\n",
    "\n",
    "        # phi shift augmentation\n",
    "        f_out['TOWER/phi'][:] += shift_angle\n",
    "        f_out['TRACK/phi'][:] += shift_angle\n",
    "        f_out['PHOTON/phi'][:] += shift_angle\n",
    "\n",
    "        f_out['TOWER/phi'][:] = std_phi(f_out['TOWER/phi'][:])\n",
    "        f_out['TRACK/phi'][:] = std_phi(f_out['TRACK/phi'][:])\n",
    "        f_out['PHOTON/phi'][:] = std_phi(f_out['PHOTON/phi'][:])"
   ]
  },
  {
   "cell_type": "code",
   "execution_count": 3,
   "metadata": {},
   "outputs": [
    {
     "name": "stdout",
     "output_type": "stream",
     "text": [
      "data/quark_jet_2_cut/phi_shifting/06/VBF_in_SR.h5\n",
      "data/quark_jet_2_cut/phi_shifting/06/VBF_in_BR.h5\n",
      "data/quark_jet_2_cut/phi_shifting/06/GGF_in_SR.h5\n",
      "data/quark_jet_2_cut/phi_shifting/06/GGF_in_BR.h5\n",
      "data/quark_jet_2_cut/phi_shifting/07/VBF_in_SR.h5\n",
      "data/quark_jet_2_cut/phi_shifting/07/VBF_in_BR.h5\n",
      "data/quark_jet_2_cut/phi_shifting/07/GGF_in_SR.h5\n",
      "data/quark_jet_2_cut/phi_shifting/07/GGF_in_BR.h5\n",
      "data/quark_jet_2_cut/phi_shifting/08/VBF_in_SR.h5\n",
      "data/quark_jet_2_cut/phi_shifting/08/VBF_in_BR.h5\n",
      "data/quark_jet_2_cut/phi_shifting/08/GGF_in_SR.h5\n",
      "data/quark_jet_2_cut/phi_shifting/08/GGF_in_BR.h5\n",
      "data/quark_jet_2_cut/phi_shifting/09/VBF_in_SR.h5\n",
      "data/quark_jet_2_cut/phi_shifting/09/VBF_in_BR.h5\n",
      "data/quark_jet_2_cut/phi_shifting/09/GGF_in_SR.h5\n",
      "data/quark_jet_2_cut/phi_shifting/09/GGF_in_BR.h5\n",
      "data/quark_jet_2_cut/phi_shifting/10/VBF_in_SR.h5\n",
      "data/quark_jet_2_cut/phi_shifting/10/VBF_in_BR.h5\n",
      "data/quark_jet_2_cut/phi_shifting/10/GGF_in_SR.h5\n",
      "data/quark_jet_2_cut/phi_shifting/10/GGF_in_BR.h5\n",
      "data/quark_jet_2_cut/phi_shifting/11/VBF_in_SR.h5\n",
      "data/quark_jet_2_cut/phi_shifting/11/VBF_in_BR.h5\n",
      "data/quark_jet_2_cut/phi_shifting/11/GGF_in_SR.h5\n",
      "data/quark_jet_2_cut/phi_shifting/11/GGF_in_BR.h5\n",
      "data/quark_jet_2_cut/phi_shifting/12/VBF_in_SR.h5\n",
      "data/quark_jet_2_cut/phi_shifting/12/VBF_in_BR.h5\n",
      "data/quark_jet_2_cut/phi_shifting/12/GGF_in_SR.h5\n",
      "data/quark_jet_2_cut/phi_shifting/12/GGF_in_BR.h5\n",
      "data/quark_jet_2_cut/phi_shifting/13/VBF_in_SR.h5\n",
      "data/quark_jet_2_cut/phi_shifting/13/VBF_in_BR.h5\n",
      "data/quark_jet_2_cut/phi_shifting/13/GGF_in_SR.h5\n",
      "data/quark_jet_2_cut/phi_shifting/13/GGF_in_BR.h5\n",
      "data/quark_jet_2_cut/phi_shifting/14/VBF_in_SR.h5\n",
      "data/quark_jet_2_cut/phi_shifting/14/VBF_in_BR.h5\n",
      "data/quark_jet_2_cut/phi_shifting/14/GGF_in_SR.h5\n",
      "data/quark_jet_2_cut/phi_shifting/14/GGF_in_BR.h5\n",
      "data/quark_jet_2_cut/phi_shifting/15/VBF_in_SR.h5\n",
      "data/quark_jet_2_cut/phi_shifting/15/VBF_in_BR.h5\n",
      "data/quark_jet_2_cut/phi_shifting/15/GGF_in_SR.h5\n",
      "data/quark_jet_2_cut/phi_shifting/15/GGF_in_BR.h5\n"
     ]
    }
   ],
   "source": [
    "for n in range(6, 16):\n",
    "    \n",
    "    out_dir = Path(f'./data/quark_jet_2_cut/phi_shifting/{n:02}')\n",
    "\n",
    "    for name in ['VBF_in_SR', 'VBF_in_BR', 'GGF_in_SR', 'GGF_in_BR']:\n",
    "        h5_path = f'./data/quark_jet_2_cut/{name}.h5'\n",
    "        out_h5 = out_dir / f'{name}.h5'\n",
    "        phi_shifting(h5_path, out_h5)"
   ]
  },
  {
   "cell_type": "code",
   "execution_count": 4,
   "metadata": {},
   "outputs": [
    {
     "name": "stdout",
     "output_type": "stream",
     "text": [
      "data/quark_jet_2_cut/phi_shifting_fix/30/VBF_in_SR.h5\n",
      "data/quark_jet_2_cut/phi_shifting_fix/30/VBF_in_BR.h5\n",
      "data/quark_jet_2_cut/phi_shifting_fix/30/GGF_in_SR.h5\n",
      "data/quark_jet_2_cut/phi_shifting_fix/30/GGF_in_BR.h5\n",
      "data/quark_jet_2_cut/phi_shifting_fix/60/VBF_in_SR.h5\n",
      "data/quark_jet_2_cut/phi_shifting_fix/60/VBF_in_BR.h5\n",
      "data/quark_jet_2_cut/phi_shifting_fix/60/GGF_in_SR.h5\n",
      "data/quark_jet_2_cut/phi_shifting_fix/60/GGF_in_BR.h5\n",
      "data/quark_jet_2_cut/phi_shifting_fix/120/VBF_in_SR.h5\n",
      "data/quark_jet_2_cut/phi_shifting_fix/120/VBF_in_BR.h5\n",
      "data/quark_jet_2_cut/phi_shifting_fix/120/GGF_in_SR.h5\n",
      "data/quark_jet_2_cut/phi_shifting_fix/120/GGF_in_BR.h5\n",
      "data/quark_jet_2_cut/phi_shifting_fix/150/VBF_in_SR.h5\n",
      "data/quark_jet_2_cut/phi_shifting_fix/150/VBF_in_BR.h5\n",
      "data/quark_jet_2_cut/phi_shifting_fix/150/GGF_in_SR.h5\n",
      "data/quark_jet_2_cut/phi_shifting_fix/150/GGF_in_BR.h5\n",
      "data/quark_jet_2_cut/phi_shifting_fix/210/VBF_in_SR.h5\n",
      "data/quark_jet_2_cut/phi_shifting_fix/210/VBF_in_BR.h5\n",
      "data/quark_jet_2_cut/phi_shifting_fix/210/GGF_in_SR.h5\n",
      "data/quark_jet_2_cut/phi_shifting_fix/210/GGF_in_BR.h5\n",
      "data/quark_jet_2_cut/phi_shifting_fix/240/VBF_in_SR.h5\n",
      "data/quark_jet_2_cut/phi_shifting_fix/240/VBF_in_BR.h5\n",
      "data/quark_jet_2_cut/phi_shifting_fix/240/GGF_in_SR.h5\n",
      "data/quark_jet_2_cut/phi_shifting_fix/240/GGF_in_BR.h5\n",
      "data/quark_jet_2_cut/phi_shifting_fix/300/VBF_in_SR.h5\n",
      "data/quark_jet_2_cut/phi_shifting_fix/300/VBF_in_BR.h5\n",
      "data/quark_jet_2_cut/phi_shifting_fix/300/GGF_in_SR.h5\n",
      "data/quark_jet_2_cut/phi_shifting_fix/300/GGF_in_BR.h5\n",
      "data/quark_jet_2_cut/phi_shifting_fix/330/VBF_in_SR.h5\n",
      "data/quark_jet_2_cut/phi_shifting_fix/330/VBF_in_BR.h5\n",
      "data/quark_jet_2_cut/phi_shifting_fix/330/GGF_in_SR.h5\n",
      "data/quark_jet_2_cut/phi_shifting_fix/330/GGF_in_BR.h5\n"
     ]
    }
   ],
   "source": [
    "for angle in range(30, 360, 30):\n",
    "    \n",
    "    out_dir = Path(f'./data/quark_jet_2_cut/phi_shifting_fix/{angle}')\n",
    "\n",
    "    for name in ['VBF_in_SR', 'VBF_in_BR', 'GGF_in_SR', 'GGF_in_BR']:\n",
    "        h5_path = f'./data/quark_jet_2_cut/{name}.h5'\n",
    "        out_h5 = out_dir / f'{name}.h5'\n",
    "        \n",
    "        if not out_h5.exists():\n",
    "            phi_shifting_fix(h5_path, out_h5, angle * np.pi / 180)"
   ]
  },
  {
   "cell_type": "markdown",
   "metadata": {},
   "source": [
    "# $\\eta-\\phi$ smearing"
   ]
  },
  {
   "cell_type": "code",
   "execution_count": 2,
   "metadata": {},
   "outputs": [],
   "source": [
    "def eta_phi_smearing(h5_path, out_h5, std_scale=0.1):\n",
    "    \n",
    "    out_h5 = Path(out_h5)\n",
    "    out_h5.parent.mkdir(parents=True, exist_ok=True)\n",
    "\n",
    "    shutil.copyfile(h5_path, out_h5)\n",
    "\n",
    "    with h5py.File(out_h5, 'a') as f_out:\n",
    "        print(out_h5)\n",
    "\n",
    "        event_pt = np.concatenate([f_out['TOWER/pt'][:], f_out['TRACK/pt'][:], f_out['PHOTON/pt'][:]], axis=1)\n",
    "        event_eta = np.concatenate([f_out['TOWER/eta'][:], f_out['TRACK/eta'][:], f_out['PHOTON/eta'][:]], axis=1)\n",
    "        event_phi = np.concatenate([f_out['TOWER/phi'][:], f_out['TRACK/phi'][:], f_out['PHOTON/phi'][:]], axis=1)\n",
    "\n",
    "        std = np.divide(std_scale, event_pt, out=np.zeros_like(event_pt), where=(event_pt!=0))\n",
    "        event_eta = np.random.normal(loc=event_eta, scale=std)\n",
    "        event_phi = std_phi(np.random.normal(loc=event_phi, scale=std))\n",
    "\n",
    "        _, new_eta, new_phi = phi_shift_and_flipping(event_pt, event_eta, event_phi)\n",
    "\n",
    "        f_out['TOWER/eta'][:] = new_eta[:, :MAX_CONSTI['Tower']]\n",
    "        f_out['TRACK/eta'][:] = new_eta[:, MAX_CONSTI['Tower']:MAX_CONSTI['Tower']+MAX_CONSTI['Track']]\n",
    "        f_out['PHOTON/eta'][:] = new_eta[:, MAX_CONSTI['Tower']+MAX_CONSTI['Track']:]\n",
    "\n",
    "        f_out['TOWER/phi'][:] = new_phi[:, :MAX_CONSTI['Tower']]\n",
    "        f_out['TRACK/phi'][:] = new_phi[:, MAX_CONSTI['Tower']:MAX_CONSTI['Tower']+MAX_CONSTI['Track']]\n",
    "        f_out['PHOTON/phi'][:] = new_phi[:, MAX_CONSTI['Tower']+MAX_CONSTI['Track']:]"
   ]
  },
  {
   "cell_type": "code",
   "execution_count": null,
   "metadata": {},
   "outputs": [
    {
     "name": "stdout",
     "output_type": "stream",
     "text": [
      "data/quark_jet_2_cut/eta_phi_smearing/06/VBF_in_SR.h5\n",
      "data/quark_jet_2_cut/eta_phi_smearing/06/VBF_in_BR.h5\n",
      "data/quark_jet_2_cut/eta_phi_smearing/06/GGF_in_SR.h5\n",
      "data/quark_jet_2_cut/eta_phi_smearing/06/GGF_in_BR.h5\n",
      "data/quark_jet_2_cut/eta_phi_smearing/07/VBF_in_SR.h5\n",
      "data/quark_jet_2_cut/eta_phi_smearing/07/VBF_in_BR.h5\n",
      "data/quark_jet_2_cut/eta_phi_smearing/07/GGF_in_SR.h5\n",
      "data/quark_jet_2_cut/eta_phi_smearing/07/GGF_in_BR.h5\n",
      "data/quark_jet_2_cut/eta_phi_smearing/08/VBF_in_SR.h5\n",
      "data/quark_jet_2_cut/eta_phi_smearing/08/VBF_in_BR.h5\n",
      "data/quark_jet_2_cut/eta_phi_smearing/08/GGF_in_SR.h5\n",
      "data/quark_jet_2_cut/eta_phi_smearing/08/GGF_in_BR.h5\n",
      "data/quark_jet_2_cut/eta_phi_smearing/09/VBF_in_SR.h5\n",
      "data/quark_jet_2_cut/eta_phi_smearing/09/VBF_in_BR.h5\n",
      "data/quark_jet_2_cut/eta_phi_smearing/09/GGF_in_SR.h5\n",
      "data/quark_jet_2_cut/eta_phi_smearing/09/GGF_in_BR.h5\n",
      "data/quark_jet_2_cut/eta_phi_smearing/10/VBF_in_SR.h5\n",
      "data/quark_jet_2_cut/eta_phi_smearing/10/VBF_in_BR.h5\n",
      "data/quark_jet_2_cut/eta_phi_smearing/10/GGF_in_SR.h5\n",
      "data/quark_jet_2_cut/eta_phi_smearing/10/GGF_in_BR.h5\n",
      "data/quark_jet_2_cut/eta_phi_smearing/11/VBF_in_SR.h5\n",
      "data/quark_jet_2_cut/eta_phi_smearing/11/VBF_in_BR.h5\n",
      "data/quark_jet_2_cut/eta_phi_smearing/11/GGF_in_SR.h5\n",
      "data/quark_jet_2_cut/eta_phi_smearing/11/GGF_in_BR.h5\n",
      "data/quark_jet_2_cut/eta_phi_smearing/12/VBF_in_SR.h5\n",
      "data/quark_jet_2_cut/eta_phi_smearing/12/VBF_in_BR.h5\n",
      "data/quark_jet_2_cut/eta_phi_smearing/12/GGF_in_SR.h5\n",
      "data/quark_jet_2_cut/eta_phi_smearing/12/GGF_in_BR.h5\n",
      "data/quark_jet_2_cut/eta_phi_smearing/13/VBF_in_SR.h5\n",
      "data/quark_jet_2_cut/eta_phi_smearing/13/VBF_in_BR.h5\n",
      "data/quark_jet_2_cut/eta_phi_smearing/13/GGF_in_SR.h5\n",
      "data/quark_jet_2_cut/eta_phi_smearing/13/GGF_in_BR.h5\n",
      "data/quark_jet_2_cut/eta_phi_smearing/14/VBF_in_SR.h5\n",
      "data/quark_jet_2_cut/eta_phi_smearing/14/VBF_in_BR.h5\n",
      "data/quark_jet_2_cut/eta_phi_smearing/14/GGF_in_SR.h5\n",
      "data/quark_jet_2_cut/eta_phi_smearing/14/GGF_in_BR.h5\n",
      "data/quark_jet_2_cut/eta_phi_smearing/15/VBF_in_SR.h5\n"
     ]
    }
   ],
   "source": [
    "for n in range(6, 16):\n",
    "    \n",
    "    out_dir = Path(f'./data/quark_jet_2_cut/eta_phi_smearing/{n:02}')\n",
    "\n",
    "    for name in ['VBF_in_SR', 'VBF_in_BR', 'GGF_in_SR', 'GGF_in_BR']:\n",
    "        h5_path = f'./data/quark_jet_2_cut/{name}.h5'\n",
    "        out_h5 = out_dir / f'{name}.h5'\n",
    "        eta_phi_smearing(h5_path, out_h5)"
   ]
  },
  {
   "cell_type": "markdown",
   "metadata": {},
   "source": [
    "# Pixelation"
   ]
  },
  {
   "cell_type": "code",
   "execution_count": 11,
   "metadata": {},
   "outputs": [
    {
     "name": "stdout",
     "output_type": "stream",
     "text": [
      "python pixelation.py data/mjj_cut/pre-processing/VBF_in_SR.h5 data/mjj_cut/pre-processing/40x40/VBF_in_SR.npy 40 &\n",
      "python pixelation.py data/mjj_cut/pre-processing/VBF_in_BR.h5 data/mjj_cut/pre-processing/40x40/VBF_in_BR.npy 40 &\n",
      "python pixelation.py data/mjj_cut/pre-processing/GGF_in_SR.h5 data/mjj_cut/pre-processing/40x40/GGF_in_SR.npy 40 &\n",
      "python pixelation.py data/mjj_cut/pre-processing/GGF_in_BR.h5 data/mjj_cut/pre-processing/40x40/GGF_in_BR.npy 40 &\n",
      "python pixelation.py data/deta_cut/pre-processing/VBF_in_SR.h5 data/deta_cut/pre-processing/40x40/VBF_in_SR.npy 40 &\n",
      "python pixelation.py data/deta_cut/pre-processing/VBF_in_BR.h5 data/deta_cut/pre-processing/40x40/VBF_in_BR.npy 40 &\n",
      "python pixelation.py data/deta_cut/pre-processing/GGF_in_SR.h5 data/deta_cut/pre-processing/40x40/GGF_in_SR.npy 40 &\n",
      "python pixelation.py data/deta_cut/pre-processing/GGF_in_BR.h5 data/deta_cut/pre-processing/40x40/GGF_in_BR.npy 40 &\n",
      "python pixelation.py data/mjj_deta_cut/pre-processing/VBF_in_SR.h5 data/mjj_deta_cut/pre-processing/40x40/VBF_in_SR.npy 40 &\n",
      "python pixelation.py data/mjj_deta_cut/pre-processing/VBF_in_BR.h5 data/mjj_deta_cut/pre-processing/40x40/VBF_in_BR.npy 40 &\n",
      "python pixelation.py data/mjj_deta_cut/pre-processing/GGF_in_SR.h5 data/mjj_deta_cut/pre-processing/40x40/GGF_in_SR.npy 40 &\n",
      "python pixelation.py data/mjj_deta_cut/pre-processing/GGF_in_BR.h5 data/mjj_deta_cut/pre-processing/40x40/GGF_in_BR.npy 40 &\n"
     ]
    }
   ],
   "source": [
    "res = 40\n",
    "h5_dir = Path('./data/mjj_cut/pre-processing')\n",
    "npy_dir = Path(f'./data/mjj_cut/pre-processing/{res}x{res}')\n",
    "\n",
    "# create output directory\n",
    "npy_dir.mkdir(parents=True, exist_ok=True)\n",
    "\n",
    "for name in ['VBF_in_SR', 'VBF_in_BR', 'GGF_in_SR', 'GGF_in_BR']:\n",
    "    h5_path = h5_dir / f'{name}.h5'\n",
    "    npy_path = npy_dir / f'{name}.npy'\n",
    "    cmd = f'python pixelation.py {h5_path} {npy_path} {res} &'\n",
    "    print(cmd)\n",
    "\n",
    "h5_dir = Path('./data/deta_cut/pre-processing')\n",
    "npy_dir = Path(f'./data/deta_cut/pre-processing/{res}x{res}')\n",
    "\n",
    "# create output directory\n",
    "npy_dir.mkdir(parents=True, exist_ok=True)\n",
    "\n",
    "for name in ['VBF_in_SR', 'VBF_in_BR', 'GGF_in_SR', 'GGF_in_BR']:\n",
    "    h5_path = h5_dir / f'{name}.h5'\n",
    "    npy_path = npy_dir / f'{name}.npy'\n",
    "    cmd = f'python pixelation.py {h5_path} {npy_path} {res} &'\n",
    "    print(cmd)\n",
    "\n",
    "h5_dir = Path('./data/mjj_deta_cut/pre-processing')\n",
    "npy_dir = Path(f'./data/mjj_deta_cut/pre-processing/{res}x{res}')\n",
    "\n",
    "# create output directory\n",
    "npy_dir.mkdir(parents=True, exist_ok=True)\n",
    "\n",
    "for name in ['VBF_in_SR', 'VBF_in_BR', 'GGF_in_SR', 'GGF_in_BR']:\n",
    "    h5_path = h5_dir / f'{name}.h5'\n",
    "    npy_path = npy_dir / f'{name}.npy'\n",
    "    cmd = f'python pixelation.py {h5_path} {npy_path} {res} &'\n",
    "    print(cmd)"
   ]
  },
  {
   "cell_type": "code",
   "execution_count": 12,
   "metadata": {},
   "outputs": [
    {
     "name": "stdout",
     "output_type": "stream",
     "text": [
      "python pixelation.py data/mjj_225_cut/pre-processing/VBF_in_SR.h5 data/mjj_225_cut/pre-processing/40x40/VBF_in_SR.npy 40 &\n",
      "python pixelation.py data/mjj_225_cut/pre-processing/VBF_in_BR.h5 data/mjj_225_cut/pre-processing/40x40/VBF_in_BR.npy 40 &\n",
      "python pixelation.py data/mjj_225_cut/pre-processing/GGF_in_SR.h5 data/mjj_225_cut/pre-processing/40x40/GGF_in_SR.npy 40 &\n",
      "python pixelation.py data/mjj_225_cut/pre-processing/GGF_in_BR.h5 data/mjj_225_cut/pre-processing/40x40/GGF_in_BR.npy 40 &\n",
      "python pixelation.py data/deta_2.3_cut/pre-processing/VBF_in_SR.h5 data/deta_2.3_cut/pre-processing/40x40/VBF_in_SR.npy 40 &\n",
      "python pixelation.py data/deta_2.3_cut/pre-processing/VBF_in_BR.h5 data/deta_2.3_cut/pre-processing/40x40/VBF_in_BR.npy 40 &\n",
      "python pixelation.py data/deta_2.3_cut/pre-processing/GGF_in_SR.h5 data/deta_2.3_cut/pre-processing/40x40/GGF_in_SR.npy 40 &\n",
      "python pixelation.py data/deta_2.3_cut/pre-processing/GGF_in_BR.h5 data/deta_2.3_cut/pre-processing/40x40/GGF_in_BR.npy 40 &\n",
      "python pixelation.py data/mjj_225_deta_2.3_cut/pre-processing/VBF_in_SR.h5 data/mjj_225_deta_2.3_cut/pre-processing/40x40/VBF_in_SR.npy 40 &\n",
      "python pixelation.py data/mjj_225_deta_2.3_cut/pre-processing/VBF_in_BR.h5 data/mjj_225_deta_2.3_cut/pre-processing/40x40/VBF_in_BR.npy 40 &\n",
      "python pixelation.py data/mjj_225_deta_2.3_cut/pre-processing/GGF_in_SR.h5 data/mjj_225_deta_2.3_cut/pre-processing/40x40/GGF_in_SR.npy 40 &\n",
      "python pixelation.py data/mjj_225_deta_2.3_cut/pre-processing/GGF_in_BR.h5 data/mjj_225_deta_2.3_cut/pre-processing/40x40/GGF_in_BR.npy 40 &\n"
     ]
    }
   ],
   "source": [
    "res = 40\n",
    "h5_dir = Path('./data/mjj_225_cut/pre-processing')\n",
    "npy_dir = Path(f'./data/mjj_225_cut/pre-processing/{res}x{res}')\n",
    "\n",
    "# create output directory\n",
    "npy_dir.mkdir(parents=True, exist_ok=True)\n",
    "\n",
    "for name in ['VBF_in_SR', 'VBF_in_BR', 'GGF_in_SR', 'GGF_in_BR']:\n",
    "    h5_path = h5_dir / f'{name}.h5'\n",
    "    npy_path = npy_dir / f'{name}.npy'\n",
    "    cmd = f'python pixelation.py {h5_path} {npy_path} {res} &'\n",
    "    print(cmd)\n",
    "\n",
    "h5_dir = Path('./data/deta_2.3_cut/pre-processing')\n",
    "npy_dir = Path(f'./data/deta_2.3_cut/pre-processing/{res}x{res}')\n",
    "\n",
    "# create output directory\n",
    "npy_dir.mkdir(parents=True, exist_ok=True)\n",
    "\n",
    "for name in ['VBF_in_SR', 'VBF_in_BR', 'GGF_in_SR', 'GGF_in_BR']:\n",
    "    h5_path = h5_dir / f'{name}.h5'\n",
    "    npy_path = npy_dir / f'{name}.npy'\n",
    "    cmd = f'python pixelation.py {h5_path} {npy_path} {res} &'\n",
    "    print(cmd)\n",
    "\n",
    "h5_dir = Path('./data/mjj_225_deta_2.3_cut/pre-processing')\n",
    "npy_dir = Path(f'./data/mjj_225_deta_2.3_cut/pre-processing/{res}x{res}')\n",
    "\n",
    "# create output directory\n",
    "npy_dir.mkdir(parents=True, exist_ok=True)\n",
    "\n",
    "for name in ['VBF_in_SR', 'VBF_in_BR', 'GGF_in_SR', 'GGF_in_BR']:\n",
    "    h5_path = h5_dir / f'{name}.h5'\n",
    "    npy_path = npy_dir / f'{name}.npy'\n",
    "    cmd = f'python pixelation.py {h5_path} {npy_path} {res} &'\n",
    "    print(cmd)"
   ]
  },
  {
   "cell_type": "code",
   "execution_count": 4,
   "metadata": {},
   "outputs": [
    {
     "name": "stdout",
     "output_type": "stream",
     "text": [
      "python pixelation.py data/supervised/pre-processing/VBF.h5 data/supervised/pre-processing/40x40/VBF.npy 40 &\n",
      "python pixelation.py data/supervised/pre-processing/GGF.h5 data/supervised/pre-processing/40x40/GGF.npy 40 &\n"
     ]
    }
   ],
   "source": [
    "res = 40\n",
    "h5_dir = Path('./data/supervised/pre-processing')\n",
    "npy_dir = Path(f'./data/supervised/pre-processing/{res}x{res}')\n",
    "\n",
    "# create output directory\n",
    "npy_dir.mkdir(parents=True, exist_ok=True)\n",
    "\n",
    "for name in ['VBF', 'GGF']:\n",
    "    h5_path = h5_dir / f'{name}.h5'\n",
    "    npy_path = npy_dir / f'{name}.npy'\n",
    "    cmd = f'python pixelation.py {h5_path} {npy_path} {res} &'\n",
    "    print(cmd)"
   ]
  },
  {
   "cell_type": "markdown",
   "metadata": {},
   "source": [
    "## gluon jet"
   ]
  },
  {
   "cell_type": "code",
   "execution_count": 9,
   "metadata": {},
   "outputs": [
    {
     "name": "stdout",
     "output_type": "stream",
     "text": [
      "python pixelation.py data/gluon_jet_2_cut/pre-processing/VBF_in_SR.h5 data/gluon_jet_2_cut/pre-processing/40x40/VBF_in_SR.npy 40 &\n",
      "python pixelation.py data/gluon_jet_2_cut/pre-processing/VBF_in_BR.h5 data/gluon_jet_2_cut/pre-processing/40x40/VBF_in_BR.npy 40 &\n",
      "python pixelation.py data/gluon_jet_2_cut/pre-processing/GGF_in_SR.h5 data/gluon_jet_2_cut/pre-processing/40x40/GGF_in_SR.npy 40 &\n",
      "python pixelation.py data/gluon_jet_2_cut/pre-processing/GGF_in_BR.h5 data/gluon_jet_2_cut/pre-processing/40x40/GGF_in_BR.npy 40 &\n",
      "python pixelation.py data/gluon_jet_1_cut/pre-processing/VBF_in_SR.h5 data/gluon_jet_1_cut/pre-processing/40x40/VBF_in_SR.npy 40 &\n",
      "python pixelation.py data/gluon_jet_1_cut/pre-processing/VBF_in_BR.h5 data/gluon_jet_1_cut/pre-processing/40x40/VBF_in_BR.npy 40 &\n",
      "python pixelation.py data/gluon_jet_1_cut/pre-processing/GGF_in_SR.h5 data/gluon_jet_1_cut/pre-processing/40x40/GGF_in_SR.npy 40 &\n",
      "python pixelation.py data/gluon_jet_1_cut/pre-processing/GGF_in_BR.h5 data/gluon_jet_1_cut/pre-processing/40x40/GGF_in_BR.npy 40 &\n"
     ]
    }
   ],
   "source": [
    "res = 40\n",
    "h5_dir = Path('./data/gluon_jet_2_cut/pre-processing')\n",
    "npy_dir = Path(f'./data/gluon_jet_2_cut/pre-processing/{res}x{res}')\n",
    "\n",
    "# create output directory\n",
    "npy_dir.mkdir(parents=True, exist_ok=True)\n",
    "\n",
    "for name in ['VBF_in_SR', 'VBF_in_BR', 'GGF_in_SR', 'GGF_in_BR']:\n",
    "    h5_path = h5_dir / f'{name}.h5'\n",
    "    npy_path = npy_dir / f'{name}.npy'\n",
    "    cmd = f'python pixelation.py {h5_path} {npy_path} {res} &'\n",
    "    print(cmd)\n",
    "\n",
    "h5_dir = Path('./data/gluon_jet_1_cut/pre-processing')\n",
    "npy_dir = Path(f'./data/gluon_jet_1_cut/pre-processing/{res}x{res}')\n",
    "\n",
    "# create output directory\n",
    "npy_dir.mkdir(parents=True, exist_ok=True)\n",
    "\n",
    "for name in ['VBF_in_SR', 'VBF_in_BR', 'GGF_in_SR', 'GGF_in_BR']:\n",
    "    h5_path = h5_dir / f'{name}.h5'\n",
    "    npy_path = npy_dir / f'{name}.npy'\n",
    "    cmd = f'python pixelation.py {h5_path} {npy_path} {res} &'\n",
    "    print(cmd)"
   ]
  },
  {
   "cell_type": "markdown",
   "metadata": {},
   "source": [
    "## quark jet"
   ]
  },
  {
   "cell_type": "code",
   "execution_count": 13,
   "metadata": {},
   "outputs": [
    {
     "name": "stdout",
     "output_type": "stream",
     "text": [
      "python pixelation.py data/quark_jet_2_cut/pre-processing/VBF_in_SR.h5 data/quark_jet_2_cut/pre-processing/40x40/VBF_in_SR.npy 40 &\n",
      "python pixelation.py data/quark_jet_2_cut/pre-processing/VBF_in_BR.h5 data/quark_jet_2_cut/pre-processing/40x40/VBF_in_BR.npy 40 &\n",
      "python pixelation.py data/quark_jet_2_cut/pre-processing/GGF_in_SR.h5 data/quark_jet_2_cut/pre-processing/40x40/GGF_in_SR.npy 40 &\n",
      "python pixelation.py data/quark_jet_2_cut/pre-processing/GGF_in_BR.h5 data/quark_jet_2_cut/pre-processing/40x40/GGF_in_BR.npy 40 &\n",
      "python pixelation.py data/quark_jet_1_cut/pre-processing/VBF_in_SR.h5 data/quark_jet_1_cut/pre-processing/40x40/VBF_in_SR.npy 40 &\n",
      "python pixelation.py data/quark_jet_1_cut/pre-processing/VBF_in_BR.h5 data/quark_jet_1_cut/pre-processing/40x40/VBF_in_BR.npy 40 &\n",
      "python pixelation.py data/quark_jet_1_cut/pre-processing/GGF_in_SR.h5 data/quark_jet_1_cut/pre-processing/40x40/GGF_in_SR.npy 40 &\n",
      "python pixelation.py data/quark_jet_1_cut/pre-processing/GGF_in_BR.h5 data/quark_jet_1_cut/pre-processing/40x40/GGF_in_BR.npy 40 &\n"
     ]
    }
   ],
   "source": [
    "res = 40\n",
    "h5_dir = Path('./data/quark_jet_2_cut/pre-processing')\n",
    "npy_dir = Path(f'./data/quark_jet_2_cut/pre-processing/{res}x{res}')\n",
    "\n",
    "# create output directory\n",
    "npy_dir.mkdir(parents=True, exist_ok=True)\n",
    "\n",
    "for name in ['VBF_in_SR', 'VBF_in_BR', 'GGF_in_SR', 'GGF_in_BR']:\n",
    "    h5_path = h5_dir / f'{name}.h5'\n",
    "    npy_path = npy_dir / f'{name}.npy'\n",
    "    cmd = f'python pixelation.py {h5_path} {npy_path} {res} &'\n",
    "    print(cmd)\n",
    "\n",
    "h5_dir = Path('./data/quark_jet_1_cut/pre-processing')\n",
    "npy_dir = Path(f'./data/quark_jet_1_cut/pre-processing/{res}x{res}')\n",
    "\n",
    "# create output directory\n",
    "npy_dir.mkdir(parents=True, exist_ok=True)\n",
    "\n",
    "for name in ['VBF_in_SR', 'VBF_in_BR', 'GGF_in_SR', 'GGF_in_BR']:\n",
    "    h5_path = h5_dir / f'{name}.h5'\n",
    "    npy_path = npy_dir / f'{name}.npy'\n",
    "    cmd = f'python pixelation.py {h5_path} {npy_path} {res} &'\n",
    "    print(cmd)"
   ]
  },
  {
   "cell_type": "code",
   "execution_count": 8,
   "metadata": {},
   "outputs": [
    {
     "name": "stdout",
     "output_type": "stream",
     "text": [
      "python pixelation.py data/quark_gluon_jet_2_cut/pre-processing/VBF_in_SR.h5 data/quark_gluon_jet_2_cut/pre-processing/40x40/VBF_in_SR.npy 40 &\n",
      "python pixelation.py data/quark_gluon_jet_2_cut/pre-processing/VBF_in_BR.h5 data/quark_gluon_jet_2_cut/pre-processing/40x40/VBF_in_BR.npy 40 &\n",
      "python pixelation.py data/quark_gluon_jet_2_cut/pre-processing/GGF_in_SR.h5 data/quark_gluon_jet_2_cut/pre-processing/40x40/GGF_in_SR.npy 40 &\n",
      "python pixelation.py data/quark_gluon_jet_2_cut/pre-processing/GGF_in_BR.h5 data/quark_gluon_jet_2_cut/pre-processing/40x40/GGF_in_BR.npy 40 &\n"
     ]
    }
   ],
   "source": [
    "res = 40\n",
    "h5_dir = Path('./data/quark_gluon_jet_2_cut/pre-processing')\n",
    "npy_dir = Path(f'./data/quark_gluon_jet_2_cut/pre-processing/{res}x{res}')\n",
    "\n",
    "# create output directory\n",
    "npy_dir.mkdir(parents=True, exist_ok=True)\n",
    "\n",
    "for name in ['VBF_in_SR', 'VBF_in_BR', 'GGF_in_SR', 'GGF_in_BR']:\n",
    "    h5_path = h5_dir / f'{name}.h5'\n",
    "    npy_path = npy_dir / f'{name}.npy'\n",
    "    cmd = f'python pixelation.py {h5_path} {npy_path} {res} &'\n",
    "    print(cmd)"
   ]
  },
  {
   "cell_type": "markdown",
   "metadata": {},
   "source": [
    "## $p_\\text{T}$ smearing"
   ]
  },
  {
   "cell_type": "code",
   "execution_count": 9,
   "metadata": {},
   "outputs": [
    {
     "name": "stdout",
     "output_type": "stream",
     "text": [
      "python pixelation.py data/quark_jet_2_cut/pT_smearing/11/VBF_in_SR.h5 data/quark_jet_2_cut/pT_smearing/40x40/11/VBF_in_SR.npy 40 &\n",
      "python pixelation.py data/quark_jet_2_cut/pT_smearing/11/VBF_in_BR.h5 data/quark_jet_2_cut/pT_smearing/40x40/11/VBF_in_BR.npy 40 &\n",
      "python pixelation.py data/quark_jet_2_cut/pT_smearing/11/GGF_in_SR.h5 data/quark_jet_2_cut/pT_smearing/40x40/11/GGF_in_SR.npy 40 &\n",
      "python pixelation.py data/quark_jet_2_cut/pT_smearing/11/GGF_in_BR.h5 data/quark_jet_2_cut/pT_smearing/40x40/11/GGF_in_BR.npy 40 &\n",
      "python pixelation.py data/quark_jet_2_cut/pT_smearing/12/VBF_in_SR.h5 data/quark_jet_2_cut/pT_smearing/40x40/12/VBF_in_SR.npy 40 &\n",
      "python pixelation.py data/quark_jet_2_cut/pT_smearing/12/VBF_in_BR.h5 data/quark_jet_2_cut/pT_smearing/40x40/12/VBF_in_BR.npy 40 &\n",
      "python pixelation.py data/quark_jet_2_cut/pT_smearing/12/GGF_in_SR.h5 data/quark_jet_2_cut/pT_smearing/40x40/12/GGF_in_SR.npy 40 &\n",
      "python pixelation.py data/quark_jet_2_cut/pT_smearing/12/GGF_in_BR.h5 data/quark_jet_2_cut/pT_smearing/40x40/12/GGF_in_BR.npy 40 &\n",
      "python pixelation.py data/quark_jet_2_cut/pT_smearing/13/VBF_in_SR.h5 data/quark_jet_2_cut/pT_smearing/40x40/13/VBF_in_SR.npy 40 &\n",
      "python pixelation.py data/quark_jet_2_cut/pT_smearing/13/VBF_in_BR.h5 data/quark_jet_2_cut/pT_smearing/40x40/13/VBF_in_BR.npy 40 &\n",
      "python pixelation.py data/quark_jet_2_cut/pT_smearing/13/GGF_in_SR.h5 data/quark_jet_2_cut/pT_smearing/40x40/13/GGF_in_SR.npy 40 &\n",
      "python pixelation.py data/quark_jet_2_cut/pT_smearing/13/GGF_in_BR.h5 data/quark_jet_2_cut/pT_smearing/40x40/13/GGF_in_BR.npy 40 &\n",
      "python pixelation.py data/quark_jet_2_cut/pT_smearing/14/VBF_in_SR.h5 data/quark_jet_2_cut/pT_smearing/40x40/14/VBF_in_SR.npy 40 &\n",
      "python pixelation.py data/quark_jet_2_cut/pT_smearing/14/VBF_in_BR.h5 data/quark_jet_2_cut/pT_smearing/40x40/14/VBF_in_BR.npy 40 &\n",
      "python pixelation.py data/quark_jet_2_cut/pT_smearing/14/GGF_in_SR.h5 data/quark_jet_2_cut/pT_smearing/40x40/14/GGF_in_SR.npy 40 &\n",
      "python pixelation.py data/quark_jet_2_cut/pT_smearing/14/GGF_in_BR.h5 data/quark_jet_2_cut/pT_smearing/40x40/14/GGF_in_BR.npy 40 &\n",
      "python pixelation.py data/quark_jet_2_cut/pT_smearing/15/VBF_in_SR.h5 data/quark_jet_2_cut/pT_smearing/40x40/15/VBF_in_SR.npy 40 &\n",
      "python pixelation.py data/quark_jet_2_cut/pT_smearing/15/VBF_in_BR.h5 data/quark_jet_2_cut/pT_smearing/40x40/15/VBF_in_BR.npy 40 &\n",
      "python pixelation.py data/quark_jet_2_cut/pT_smearing/15/GGF_in_SR.h5 data/quark_jet_2_cut/pT_smearing/40x40/15/GGF_in_SR.npy 40 &\n",
      "python pixelation.py data/quark_jet_2_cut/pT_smearing/15/GGF_in_BR.h5 data/quark_jet_2_cut/pT_smearing/40x40/15/GGF_in_BR.npy 40 &\n"
     ]
    }
   ],
   "source": [
    "res = 40\n",
    "for n in range(11, 16):\n",
    "\n",
    "    h5_dir = Path(f'./data/quark_jet_2_cut/pT_smearing/{n:02}')\n",
    "    npy_dir = Path(f'./data/quark_jet_2_cut/pT_smearing/{res}x{res}/{n:02}')\n",
    "\n",
    "    npy_dir.mkdir(parents=True, exist_ok=True)\n",
    "\n",
    "    for name in ['VBF_in_SR', 'VBF_in_BR', 'GGF_in_SR', 'GGF_in_BR']:\n",
    "        h5_path = h5_dir / f'{name}.h5'\n",
    "        npy_path = npy_dir / f'{name}.npy'\n",
    "        cmd = f'python pixelation.py {h5_path} {npy_path} {res} &'\n",
    "        print(cmd)"
   ]
  },
  {
   "cell_type": "markdown",
   "metadata": {},
   "source": [
    "## $\\phi$ shifting"
   ]
  },
  {
   "cell_type": "code",
   "execution_count": 4,
   "metadata": {},
   "outputs": [
    {
     "name": "stdout",
     "output_type": "stream",
     "text": [
      "python pixelation.py data/quark_jet_2_cut/phi_shifting/06/VBF_in_SR.h5 data/quark_jet_2_cut/phi_shifting/40x40/06/VBF_in_SR.npy 40 &\n",
      "python pixelation.py data/quark_jet_2_cut/phi_shifting/06/VBF_in_BR.h5 data/quark_jet_2_cut/phi_shifting/40x40/06/VBF_in_BR.npy 40 &\n",
      "python pixelation.py data/quark_jet_2_cut/phi_shifting/06/GGF_in_SR.h5 data/quark_jet_2_cut/phi_shifting/40x40/06/GGF_in_SR.npy 40 &\n",
      "python pixelation.py data/quark_jet_2_cut/phi_shifting/06/GGF_in_BR.h5 data/quark_jet_2_cut/phi_shifting/40x40/06/GGF_in_BR.npy 40 &\n",
      "python pixelation.py data/quark_jet_2_cut/phi_shifting/07/VBF_in_SR.h5 data/quark_jet_2_cut/phi_shifting/40x40/07/VBF_in_SR.npy 40 &\n",
      "python pixelation.py data/quark_jet_2_cut/phi_shifting/07/VBF_in_BR.h5 data/quark_jet_2_cut/phi_shifting/40x40/07/VBF_in_BR.npy 40 &\n",
      "python pixelation.py data/quark_jet_2_cut/phi_shifting/07/GGF_in_SR.h5 data/quark_jet_2_cut/phi_shifting/40x40/07/GGF_in_SR.npy 40 &\n",
      "python pixelation.py data/quark_jet_2_cut/phi_shifting/07/GGF_in_BR.h5 data/quark_jet_2_cut/phi_shifting/40x40/07/GGF_in_BR.npy 40 &\n",
      "python pixelation.py data/quark_jet_2_cut/phi_shifting/08/VBF_in_SR.h5 data/quark_jet_2_cut/phi_shifting/40x40/08/VBF_in_SR.npy 40 &\n",
      "python pixelation.py data/quark_jet_2_cut/phi_shifting/08/VBF_in_BR.h5 data/quark_jet_2_cut/phi_shifting/40x40/08/VBF_in_BR.npy 40 &\n",
      "python pixelation.py data/quark_jet_2_cut/phi_shifting/08/GGF_in_SR.h5 data/quark_jet_2_cut/phi_shifting/40x40/08/GGF_in_SR.npy 40 &\n",
      "python pixelation.py data/quark_jet_2_cut/phi_shifting/08/GGF_in_BR.h5 data/quark_jet_2_cut/phi_shifting/40x40/08/GGF_in_BR.npy 40 &\n",
      "python pixelation.py data/quark_jet_2_cut/phi_shifting/09/VBF_in_SR.h5 data/quark_jet_2_cut/phi_shifting/40x40/09/VBF_in_SR.npy 40 &\n",
      "python pixelation.py data/quark_jet_2_cut/phi_shifting/09/VBF_in_BR.h5 data/quark_jet_2_cut/phi_shifting/40x40/09/VBF_in_BR.npy 40 &\n",
      "python pixelation.py data/quark_jet_2_cut/phi_shifting/09/GGF_in_SR.h5 data/quark_jet_2_cut/phi_shifting/40x40/09/GGF_in_SR.npy 40 &\n",
      "python pixelation.py data/quark_jet_2_cut/phi_shifting/09/GGF_in_BR.h5 data/quark_jet_2_cut/phi_shifting/40x40/09/GGF_in_BR.npy 40 &\n",
      "python pixelation.py data/quark_jet_2_cut/phi_shifting/10/VBF_in_SR.h5 data/quark_jet_2_cut/phi_shifting/40x40/10/VBF_in_SR.npy 40 &\n",
      "python pixelation.py data/quark_jet_2_cut/phi_shifting/10/VBF_in_BR.h5 data/quark_jet_2_cut/phi_shifting/40x40/10/VBF_in_BR.npy 40 &\n",
      "python pixelation.py data/quark_jet_2_cut/phi_shifting/10/GGF_in_SR.h5 data/quark_jet_2_cut/phi_shifting/40x40/10/GGF_in_SR.npy 40 &\n",
      "python pixelation.py data/quark_jet_2_cut/phi_shifting/10/GGF_in_BR.h5 data/quark_jet_2_cut/phi_shifting/40x40/10/GGF_in_BR.npy 40 &\n",
      "python pixelation.py data/quark_jet_2_cut/phi_shifting/11/VBF_in_SR.h5 data/quark_jet_2_cut/phi_shifting/40x40/11/VBF_in_SR.npy 40 &\n",
      "python pixelation.py data/quark_jet_2_cut/phi_shifting/11/VBF_in_BR.h5 data/quark_jet_2_cut/phi_shifting/40x40/11/VBF_in_BR.npy 40 &\n",
      "python pixelation.py data/quark_jet_2_cut/phi_shifting/11/GGF_in_SR.h5 data/quark_jet_2_cut/phi_shifting/40x40/11/GGF_in_SR.npy 40 &\n",
      "python pixelation.py data/quark_jet_2_cut/phi_shifting/11/GGF_in_BR.h5 data/quark_jet_2_cut/phi_shifting/40x40/11/GGF_in_BR.npy 40 &\n",
      "python pixelation.py data/quark_jet_2_cut/phi_shifting/12/VBF_in_SR.h5 data/quark_jet_2_cut/phi_shifting/40x40/12/VBF_in_SR.npy 40 &\n",
      "python pixelation.py data/quark_jet_2_cut/phi_shifting/12/VBF_in_BR.h5 data/quark_jet_2_cut/phi_shifting/40x40/12/VBF_in_BR.npy 40 &\n",
      "python pixelation.py data/quark_jet_2_cut/phi_shifting/12/GGF_in_SR.h5 data/quark_jet_2_cut/phi_shifting/40x40/12/GGF_in_SR.npy 40 &\n",
      "python pixelation.py data/quark_jet_2_cut/phi_shifting/12/GGF_in_BR.h5 data/quark_jet_2_cut/phi_shifting/40x40/12/GGF_in_BR.npy 40 &\n",
      "python pixelation.py data/quark_jet_2_cut/phi_shifting/13/VBF_in_SR.h5 data/quark_jet_2_cut/phi_shifting/40x40/13/VBF_in_SR.npy 40 &\n",
      "python pixelation.py data/quark_jet_2_cut/phi_shifting/13/VBF_in_BR.h5 data/quark_jet_2_cut/phi_shifting/40x40/13/VBF_in_BR.npy 40 &\n",
      "python pixelation.py data/quark_jet_2_cut/phi_shifting/13/GGF_in_SR.h5 data/quark_jet_2_cut/phi_shifting/40x40/13/GGF_in_SR.npy 40 &\n",
      "python pixelation.py data/quark_jet_2_cut/phi_shifting/13/GGF_in_BR.h5 data/quark_jet_2_cut/phi_shifting/40x40/13/GGF_in_BR.npy 40 &\n",
      "python pixelation.py data/quark_jet_2_cut/phi_shifting/14/VBF_in_SR.h5 data/quark_jet_2_cut/phi_shifting/40x40/14/VBF_in_SR.npy 40 &\n",
      "python pixelation.py data/quark_jet_2_cut/phi_shifting/14/VBF_in_BR.h5 data/quark_jet_2_cut/phi_shifting/40x40/14/VBF_in_BR.npy 40 &\n",
      "python pixelation.py data/quark_jet_2_cut/phi_shifting/14/GGF_in_SR.h5 data/quark_jet_2_cut/phi_shifting/40x40/14/GGF_in_SR.npy 40 &\n",
      "python pixelation.py data/quark_jet_2_cut/phi_shifting/14/GGF_in_BR.h5 data/quark_jet_2_cut/phi_shifting/40x40/14/GGF_in_BR.npy 40 &\n",
      "python pixelation.py data/quark_jet_2_cut/phi_shifting/15/VBF_in_SR.h5 data/quark_jet_2_cut/phi_shifting/40x40/15/VBF_in_SR.npy 40 &\n",
      "python pixelation.py data/quark_jet_2_cut/phi_shifting/15/VBF_in_BR.h5 data/quark_jet_2_cut/phi_shifting/40x40/15/VBF_in_BR.npy 40 &\n",
      "python pixelation.py data/quark_jet_2_cut/phi_shifting/15/GGF_in_SR.h5 data/quark_jet_2_cut/phi_shifting/40x40/15/GGF_in_SR.npy 40 &\n",
      "python pixelation.py data/quark_jet_2_cut/phi_shifting/15/GGF_in_BR.h5 data/quark_jet_2_cut/phi_shifting/40x40/15/GGF_in_BR.npy 40 &\n"
     ]
    }
   ],
   "source": [
    "res = 40\n",
    "for n in range(6, 16):\n",
    "\n",
    "    h5_dir = Path(f'./data/quark_jet_2_cut/phi_shifting/{n:02}')\n",
    "    npy_dir = Path(f'./data/quark_jet_2_cut/phi_shifting/{res}x{res}/{n:02}')\n",
    "\n",
    "    npy_dir.mkdir(parents=True, exist_ok=True)\n",
    "\n",
    "    for name in ['VBF_in_SR', 'VBF_in_BR', 'GGF_in_SR', 'GGF_in_BR']:\n",
    "        h5_path = h5_dir / f'{name}.h5'\n",
    "        npy_path = npy_dir / f'{name}.npy'\n",
    "        cmd = f'python pixelation.py {h5_path} {npy_path} {res} &'\n",
    "        print(cmd)"
   ]
  },
  {
   "cell_type": "markdown",
   "metadata": {},
   "source": [
    "## $\\eta-\\phi$ smearing"
   ]
  },
  {
   "cell_type": "code",
   "execution_count": 2,
   "metadata": {},
   "outputs": [
    {
     "name": "stdout",
     "output_type": "stream",
     "text": [
      "python pixelation.py data/quark_jet_2_cut/eta_phi_smearing/06/VBF_in_SR.h5 data/quark_jet_2_cut/eta_phi_smearing/40x40/06/VBF_in_SR.npy 40 &\n",
      "python pixelation.py data/quark_jet_2_cut/eta_phi_smearing/06/VBF_in_BR.h5 data/quark_jet_2_cut/eta_phi_smearing/40x40/06/VBF_in_BR.npy 40 &\n",
      "python pixelation.py data/quark_jet_2_cut/eta_phi_smearing/06/GGF_in_SR.h5 data/quark_jet_2_cut/eta_phi_smearing/40x40/06/GGF_in_SR.npy 40 &\n",
      "python pixelation.py data/quark_jet_2_cut/eta_phi_smearing/06/GGF_in_BR.h5 data/quark_jet_2_cut/eta_phi_smearing/40x40/06/GGF_in_BR.npy 40 &\n",
      "python pixelation.py data/quark_jet_2_cut/eta_phi_smearing/07/VBF_in_SR.h5 data/quark_jet_2_cut/eta_phi_smearing/40x40/07/VBF_in_SR.npy 40 &\n",
      "python pixelation.py data/quark_jet_2_cut/eta_phi_smearing/07/VBF_in_BR.h5 data/quark_jet_2_cut/eta_phi_smearing/40x40/07/VBF_in_BR.npy 40 &\n",
      "python pixelation.py data/quark_jet_2_cut/eta_phi_smearing/07/GGF_in_SR.h5 data/quark_jet_2_cut/eta_phi_smearing/40x40/07/GGF_in_SR.npy 40 &\n",
      "python pixelation.py data/quark_jet_2_cut/eta_phi_smearing/07/GGF_in_BR.h5 data/quark_jet_2_cut/eta_phi_smearing/40x40/07/GGF_in_BR.npy 40 &\n",
      "python pixelation.py data/quark_jet_2_cut/eta_phi_smearing/08/VBF_in_SR.h5 data/quark_jet_2_cut/eta_phi_smearing/40x40/08/VBF_in_SR.npy 40 &\n",
      "python pixelation.py data/quark_jet_2_cut/eta_phi_smearing/08/VBF_in_BR.h5 data/quark_jet_2_cut/eta_phi_smearing/40x40/08/VBF_in_BR.npy 40 &\n",
      "python pixelation.py data/quark_jet_2_cut/eta_phi_smearing/08/GGF_in_SR.h5 data/quark_jet_2_cut/eta_phi_smearing/40x40/08/GGF_in_SR.npy 40 &\n",
      "python pixelation.py data/quark_jet_2_cut/eta_phi_smearing/08/GGF_in_BR.h5 data/quark_jet_2_cut/eta_phi_smearing/40x40/08/GGF_in_BR.npy 40 &\n",
      "python pixelation.py data/quark_jet_2_cut/eta_phi_smearing/09/VBF_in_SR.h5 data/quark_jet_2_cut/eta_phi_smearing/40x40/09/VBF_in_SR.npy 40 &\n",
      "python pixelation.py data/quark_jet_2_cut/eta_phi_smearing/09/VBF_in_BR.h5 data/quark_jet_2_cut/eta_phi_smearing/40x40/09/VBF_in_BR.npy 40 &\n",
      "python pixelation.py data/quark_jet_2_cut/eta_phi_smearing/09/GGF_in_SR.h5 data/quark_jet_2_cut/eta_phi_smearing/40x40/09/GGF_in_SR.npy 40 &\n",
      "python pixelation.py data/quark_jet_2_cut/eta_phi_smearing/09/GGF_in_BR.h5 data/quark_jet_2_cut/eta_phi_smearing/40x40/09/GGF_in_BR.npy 40 &\n",
      "python pixelation.py data/quark_jet_2_cut/eta_phi_smearing/10/VBF_in_SR.h5 data/quark_jet_2_cut/eta_phi_smearing/40x40/10/VBF_in_SR.npy 40 &\n",
      "python pixelation.py data/quark_jet_2_cut/eta_phi_smearing/10/VBF_in_BR.h5 data/quark_jet_2_cut/eta_phi_smearing/40x40/10/VBF_in_BR.npy 40 &\n",
      "python pixelation.py data/quark_jet_2_cut/eta_phi_smearing/10/GGF_in_SR.h5 data/quark_jet_2_cut/eta_phi_smearing/40x40/10/GGF_in_SR.npy 40 &\n",
      "python pixelation.py data/quark_jet_2_cut/eta_phi_smearing/10/GGF_in_BR.h5 data/quark_jet_2_cut/eta_phi_smearing/40x40/10/GGF_in_BR.npy 40 &\n",
      "python pixelation.py data/quark_jet_2_cut/eta_phi_smearing/11/VBF_in_SR.h5 data/quark_jet_2_cut/eta_phi_smearing/40x40/11/VBF_in_SR.npy 40 &\n",
      "python pixelation.py data/quark_jet_2_cut/eta_phi_smearing/11/VBF_in_BR.h5 data/quark_jet_2_cut/eta_phi_smearing/40x40/11/VBF_in_BR.npy 40 &\n",
      "python pixelation.py data/quark_jet_2_cut/eta_phi_smearing/11/GGF_in_SR.h5 data/quark_jet_2_cut/eta_phi_smearing/40x40/11/GGF_in_SR.npy 40 &\n",
      "python pixelation.py data/quark_jet_2_cut/eta_phi_smearing/11/GGF_in_BR.h5 data/quark_jet_2_cut/eta_phi_smearing/40x40/11/GGF_in_BR.npy 40 &\n",
      "python pixelation.py data/quark_jet_2_cut/eta_phi_smearing/12/VBF_in_SR.h5 data/quark_jet_2_cut/eta_phi_smearing/40x40/12/VBF_in_SR.npy 40 &\n",
      "python pixelation.py data/quark_jet_2_cut/eta_phi_smearing/12/VBF_in_BR.h5 data/quark_jet_2_cut/eta_phi_smearing/40x40/12/VBF_in_BR.npy 40 &\n",
      "python pixelation.py data/quark_jet_2_cut/eta_phi_smearing/12/GGF_in_SR.h5 data/quark_jet_2_cut/eta_phi_smearing/40x40/12/GGF_in_SR.npy 40 &\n",
      "python pixelation.py data/quark_jet_2_cut/eta_phi_smearing/12/GGF_in_BR.h5 data/quark_jet_2_cut/eta_phi_smearing/40x40/12/GGF_in_BR.npy 40 &\n",
      "python pixelation.py data/quark_jet_2_cut/eta_phi_smearing/13/VBF_in_SR.h5 data/quark_jet_2_cut/eta_phi_smearing/40x40/13/VBF_in_SR.npy 40 &\n",
      "python pixelation.py data/quark_jet_2_cut/eta_phi_smearing/13/VBF_in_BR.h5 data/quark_jet_2_cut/eta_phi_smearing/40x40/13/VBF_in_BR.npy 40 &\n",
      "python pixelation.py data/quark_jet_2_cut/eta_phi_smearing/13/GGF_in_SR.h5 data/quark_jet_2_cut/eta_phi_smearing/40x40/13/GGF_in_SR.npy 40 &\n",
      "python pixelation.py data/quark_jet_2_cut/eta_phi_smearing/13/GGF_in_BR.h5 data/quark_jet_2_cut/eta_phi_smearing/40x40/13/GGF_in_BR.npy 40 &\n",
      "python pixelation.py data/quark_jet_2_cut/eta_phi_smearing/14/VBF_in_SR.h5 data/quark_jet_2_cut/eta_phi_smearing/40x40/14/VBF_in_SR.npy 40 &\n",
      "python pixelation.py data/quark_jet_2_cut/eta_phi_smearing/14/VBF_in_BR.h5 data/quark_jet_2_cut/eta_phi_smearing/40x40/14/VBF_in_BR.npy 40 &\n",
      "python pixelation.py data/quark_jet_2_cut/eta_phi_smearing/14/GGF_in_SR.h5 data/quark_jet_2_cut/eta_phi_smearing/40x40/14/GGF_in_SR.npy 40 &\n",
      "python pixelation.py data/quark_jet_2_cut/eta_phi_smearing/14/GGF_in_BR.h5 data/quark_jet_2_cut/eta_phi_smearing/40x40/14/GGF_in_BR.npy 40 &\n",
      "python pixelation.py data/quark_jet_2_cut/eta_phi_smearing/15/VBF_in_SR.h5 data/quark_jet_2_cut/eta_phi_smearing/40x40/15/VBF_in_SR.npy 40 &\n",
      "python pixelation.py data/quark_jet_2_cut/eta_phi_smearing/15/VBF_in_BR.h5 data/quark_jet_2_cut/eta_phi_smearing/40x40/15/VBF_in_BR.npy 40 &\n",
      "python pixelation.py data/quark_jet_2_cut/eta_phi_smearing/15/GGF_in_SR.h5 data/quark_jet_2_cut/eta_phi_smearing/40x40/15/GGF_in_SR.npy 40 &\n",
      "python pixelation.py data/quark_jet_2_cut/eta_phi_smearing/15/GGF_in_BR.h5 data/quark_jet_2_cut/eta_phi_smearing/40x40/15/GGF_in_BR.npy 40 &\n"
     ]
    }
   ],
   "source": [
    "res = 40\n",
    "for n in range(6, 16):\n",
    "\n",
    "    h5_dir = Path(f'./data/quark_jet_2_cut/eta_phi_smearing/{n:02}')\n",
    "    npy_dir = Path(f'./data/quark_jet_2_cut/eta_phi_smearing/{res}x{res}/{n:02}')\n",
    "\n",
    "    npy_dir.mkdir(parents=True, exist_ok=True)\n",
    "\n",
    "\n",
    "    for name in ['VBF_in_SR', 'VBF_in_BR', 'GGF_in_SR', 'GGF_in_BR']:\n",
    "        h5_path = h5_dir / f'{name}.h5'\n",
    "        npy_path = npy_dir / f'{name}.npy'\n",
    "        cmd = f'python pixelation.py {h5_path} {npy_path} {res} &'\n",
    "        print(cmd)"
   ]
  },
  {
   "cell_type": "markdown",
   "metadata": {},
   "source": [
    "## Without pre-process"
   ]
  },
  {
   "cell_type": "code",
   "execution_count": 2,
   "metadata": {},
   "outputs": [
    {
     "name": "stdout",
     "output_type": "stream",
     "text": [
      "python pixelation.py data/quark_jet_2_cut/VBF_in_SR.h5 data/quark_jet_2_cut/40x40/VBF_in_SR.npy 40 &\n",
      "python pixelation.py data/quark_jet_2_cut/VBF_in_BR.h5 data/quark_jet_2_cut/40x40/VBF_in_BR.npy 40 &\n",
      "python pixelation.py data/quark_jet_2_cut/GGF_in_SR.h5 data/quark_jet_2_cut/40x40/GGF_in_SR.npy 40 &\n",
      "python pixelation.py data/quark_jet_2_cut/GGF_in_BR.h5 data/quark_jet_2_cut/40x40/GGF_in_BR.npy 40 &\n"
     ]
    }
   ],
   "source": [
    "res = 40\n",
    "h5_dir = Path('./data/quark_jet_2_cut')\n",
    "npy_dir = Path(f'./data/quark_jet_2_cut/{res}x{res}')\n",
    "\n",
    "# create output directory\n",
    "npy_dir.mkdir(parents=True, exist_ok=True)\n",
    "\n",
    "for name in ['VBF_in_SR', 'VBF_in_BR', 'GGF_in_SR', 'GGF_in_BR']:\n",
    "    h5_path = h5_dir / f'{name}.h5'\n",
    "    npy_path = npy_dir / f'{name}.npy'\n",
    "    cmd = f'python pixelation.py {h5_path} {npy_path} {res} &'\n",
    "    print(cmd)"
   ]
  },
  {
   "cell_type": "markdown",
   "metadata": {},
   "source": [
    "## Remove photon"
   ]
  },
  {
   "cell_type": "code",
   "execution_count": 2,
   "metadata": {},
   "outputs": [
    {
     "name": "stdout",
     "output_type": "stream",
     "text": [
      "python pixelation-remove_photon.py data/quark_jet_2_cut/pre-processing/VBF_in_SR.h5 data/quark_jet_2_cut/pre-processing/remove_photon/40x40/VBF_in_SR.npy 40 &\n",
      "python pixelation-remove_photon.py data/quark_jet_2_cut/pre-processing/VBF_in_BR.h5 data/quark_jet_2_cut/pre-processing/remove_photon/40x40/VBF_in_BR.npy 40 &\n",
      "python pixelation-remove_photon.py data/quark_jet_2_cut/pre-processing/GGF_in_SR.h5 data/quark_jet_2_cut/pre-processing/remove_photon/40x40/GGF_in_SR.npy 40 &\n",
      "python pixelation-remove_photon.py data/quark_jet_2_cut/pre-processing/GGF_in_BR.h5 data/quark_jet_2_cut/pre-processing/remove_photon/40x40/GGF_in_BR.npy 40 &\n"
     ]
    }
   ],
   "source": [
    "res = 40\n",
    "h5_dir = Path('./data/quark_jet_2_cut/pre-processing')\n",
    "npy_dir = Path(f'./data/quark_jet_2_cut/pre-processing/remove_photon/{res}x{res}')\n",
    "\n",
    "# create output directory\n",
    "npy_dir.mkdir(parents=True, exist_ok=True)\n",
    "\n",
    "for name in ['VBF_in_SR', 'VBF_in_BR', 'GGF_in_SR', 'GGF_in_BR']:\n",
    "    h5_path = h5_dir / f'{name}.h5'\n",
    "    npy_path = npy_dir / f'{name}.npy'\n",
    "    cmd = f'python pixelation-remove_photon.py {h5_path} {npy_path} {res} &'\n",
    "    print(cmd)\n"
   ]
  },
  {
   "cell_type": "code",
   "execution_count": 4,
   "metadata": {},
   "outputs": [
    {
     "name": "stdout",
     "output_type": "stream",
     "text": [
      "python pixelation-remove_photon.py data/quark_jet_2_cut/phi_shifting/01/VBF_in_SR.h5 data/quark_jet_2_cut/phi_shifting/remove_photon/40x40/01/VBF_in_SR.npy 40 &\n",
      "python pixelation-remove_photon.py data/quark_jet_2_cut/phi_shifting/01/VBF_in_BR.h5 data/quark_jet_2_cut/phi_shifting/remove_photon/40x40/01/VBF_in_BR.npy 40 &\n",
      "python pixelation-remove_photon.py data/quark_jet_2_cut/phi_shifting/01/GGF_in_SR.h5 data/quark_jet_2_cut/phi_shifting/remove_photon/40x40/01/GGF_in_SR.npy 40 &\n",
      "python pixelation-remove_photon.py data/quark_jet_2_cut/phi_shifting/01/GGF_in_BR.h5 data/quark_jet_2_cut/phi_shifting/remove_photon/40x40/01/GGF_in_BR.npy 40 &\n",
      "python pixelation-remove_photon.py data/quark_jet_2_cut/phi_shifting/02/VBF_in_SR.h5 data/quark_jet_2_cut/phi_shifting/remove_photon/40x40/02/VBF_in_SR.npy 40 &\n",
      "python pixelation-remove_photon.py data/quark_jet_2_cut/phi_shifting/02/VBF_in_BR.h5 data/quark_jet_2_cut/phi_shifting/remove_photon/40x40/02/VBF_in_BR.npy 40 &\n",
      "python pixelation-remove_photon.py data/quark_jet_2_cut/phi_shifting/02/GGF_in_SR.h5 data/quark_jet_2_cut/phi_shifting/remove_photon/40x40/02/GGF_in_SR.npy 40 &\n",
      "python pixelation-remove_photon.py data/quark_jet_2_cut/phi_shifting/02/GGF_in_BR.h5 data/quark_jet_2_cut/phi_shifting/remove_photon/40x40/02/GGF_in_BR.npy 40 &\n",
      "python pixelation-remove_photon.py data/quark_jet_2_cut/phi_shifting/03/VBF_in_SR.h5 data/quark_jet_2_cut/phi_shifting/remove_photon/40x40/03/VBF_in_SR.npy 40 &\n",
      "python pixelation-remove_photon.py data/quark_jet_2_cut/phi_shifting/03/VBF_in_BR.h5 data/quark_jet_2_cut/phi_shifting/remove_photon/40x40/03/VBF_in_BR.npy 40 &\n",
      "python pixelation-remove_photon.py data/quark_jet_2_cut/phi_shifting/03/GGF_in_SR.h5 data/quark_jet_2_cut/phi_shifting/remove_photon/40x40/03/GGF_in_SR.npy 40 &\n",
      "python pixelation-remove_photon.py data/quark_jet_2_cut/phi_shifting/03/GGF_in_BR.h5 data/quark_jet_2_cut/phi_shifting/remove_photon/40x40/03/GGF_in_BR.npy 40 &\n",
      "python pixelation-remove_photon.py data/quark_jet_2_cut/phi_shifting/04/VBF_in_SR.h5 data/quark_jet_2_cut/phi_shifting/remove_photon/40x40/04/VBF_in_SR.npy 40 &\n",
      "python pixelation-remove_photon.py data/quark_jet_2_cut/phi_shifting/04/VBF_in_BR.h5 data/quark_jet_2_cut/phi_shifting/remove_photon/40x40/04/VBF_in_BR.npy 40 &\n",
      "python pixelation-remove_photon.py data/quark_jet_2_cut/phi_shifting/04/GGF_in_SR.h5 data/quark_jet_2_cut/phi_shifting/remove_photon/40x40/04/GGF_in_SR.npy 40 &\n",
      "python pixelation-remove_photon.py data/quark_jet_2_cut/phi_shifting/04/GGF_in_BR.h5 data/quark_jet_2_cut/phi_shifting/remove_photon/40x40/04/GGF_in_BR.npy 40 &\n",
      "python pixelation-remove_photon.py data/quark_jet_2_cut/phi_shifting/05/VBF_in_SR.h5 data/quark_jet_2_cut/phi_shifting/remove_photon/40x40/05/VBF_in_SR.npy 40 &\n",
      "python pixelation-remove_photon.py data/quark_jet_2_cut/phi_shifting/05/VBF_in_BR.h5 data/quark_jet_2_cut/phi_shifting/remove_photon/40x40/05/VBF_in_BR.npy 40 &\n",
      "python pixelation-remove_photon.py data/quark_jet_2_cut/phi_shifting/05/GGF_in_SR.h5 data/quark_jet_2_cut/phi_shifting/remove_photon/40x40/05/GGF_in_SR.npy 40 &\n",
      "python pixelation-remove_photon.py data/quark_jet_2_cut/phi_shifting/05/GGF_in_BR.h5 data/quark_jet_2_cut/phi_shifting/remove_photon/40x40/05/GGF_in_BR.npy 40 &\n",
      "python pixelation-remove_photon.py data/quark_jet_2_cut/phi_shifting/06/VBF_in_SR.h5 data/quark_jet_2_cut/phi_shifting/remove_photon/40x40/06/VBF_in_SR.npy 40 &\n",
      "python pixelation-remove_photon.py data/quark_jet_2_cut/phi_shifting/06/VBF_in_BR.h5 data/quark_jet_2_cut/phi_shifting/remove_photon/40x40/06/VBF_in_BR.npy 40 &\n",
      "python pixelation-remove_photon.py data/quark_jet_2_cut/phi_shifting/06/GGF_in_SR.h5 data/quark_jet_2_cut/phi_shifting/remove_photon/40x40/06/GGF_in_SR.npy 40 &\n",
      "python pixelation-remove_photon.py data/quark_jet_2_cut/phi_shifting/06/GGF_in_BR.h5 data/quark_jet_2_cut/phi_shifting/remove_photon/40x40/06/GGF_in_BR.npy 40 &\n",
      "python pixelation-remove_photon.py data/quark_jet_2_cut/phi_shifting/07/VBF_in_SR.h5 data/quark_jet_2_cut/phi_shifting/remove_photon/40x40/07/VBF_in_SR.npy 40 &\n",
      "python pixelation-remove_photon.py data/quark_jet_2_cut/phi_shifting/07/VBF_in_BR.h5 data/quark_jet_2_cut/phi_shifting/remove_photon/40x40/07/VBF_in_BR.npy 40 &\n",
      "python pixelation-remove_photon.py data/quark_jet_2_cut/phi_shifting/07/GGF_in_SR.h5 data/quark_jet_2_cut/phi_shifting/remove_photon/40x40/07/GGF_in_SR.npy 40 &\n",
      "python pixelation-remove_photon.py data/quark_jet_2_cut/phi_shifting/07/GGF_in_BR.h5 data/quark_jet_2_cut/phi_shifting/remove_photon/40x40/07/GGF_in_BR.npy 40 &\n",
      "python pixelation-remove_photon.py data/quark_jet_2_cut/phi_shifting/08/VBF_in_SR.h5 data/quark_jet_2_cut/phi_shifting/remove_photon/40x40/08/VBF_in_SR.npy 40 &\n",
      "python pixelation-remove_photon.py data/quark_jet_2_cut/phi_shifting/08/VBF_in_BR.h5 data/quark_jet_2_cut/phi_shifting/remove_photon/40x40/08/VBF_in_BR.npy 40 &\n",
      "python pixelation-remove_photon.py data/quark_jet_2_cut/phi_shifting/08/GGF_in_SR.h5 data/quark_jet_2_cut/phi_shifting/remove_photon/40x40/08/GGF_in_SR.npy 40 &\n",
      "python pixelation-remove_photon.py data/quark_jet_2_cut/phi_shifting/08/GGF_in_BR.h5 data/quark_jet_2_cut/phi_shifting/remove_photon/40x40/08/GGF_in_BR.npy 40 &\n",
      "python pixelation-remove_photon.py data/quark_jet_2_cut/phi_shifting/09/VBF_in_SR.h5 data/quark_jet_2_cut/phi_shifting/remove_photon/40x40/09/VBF_in_SR.npy 40 &\n",
      "python pixelation-remove_photon.py data/quark_jet_2_cut/phi_shifting/09/VBF_in_BR.h5 data/quark_jet_2_cut/phi_shifting/remove_photon/40x40/09/VBF_in_BR.npy 40 &\n",
      "python pixelation-remove_photon.py data/quark_jet_2_cut/phi_shifting/09/GGF_in_SR.h5 data/quark_jet_2_cut/phi_shifting/remove_photon/40x40/09/GGF_in_SR.npy 40 &\n",
      "python pixelation-remove_photon.py data/quark_jet_2_cut/phi_shifting/09/GGF_in_BR.h5 data/quark_jet_2_cut/phi_shifting/remove_photon/40x40/09/GGF_in_BR.npy 40 &\n",
      "python pixelation-remove_photon.py data/quark_jet_2_cut/phi_shifting/10/VBF_in_SR.h5 data/quark_jet_2_cut/phi_shifting/remove_photon/40x40/10/VBF_in_SR.npy 40 &\n",
      "python pixelation-remove_photon.py data/quark_jet_2_cut/phi_shifting/10/VBF_in_BR.h5 data/quark_jet_2_cut/phi_shifting/remove_photon/40x40/10/VBF_in_BR.npy 40 &\n",
      "python pixelation-remove_photon.py data/quark_jet_2_cut/phi_shifting/10/GGF_in_SR.h5 data/quark_jet_2_cut/phi_shifting/remove_photon/40x40/10/GGF_in_SR.npy 40 &\n",
      "python pixelation-remove_photon.py data/quark_jet_2_cut/phi_shifting/10/GGF_in_BR.h5 data/quark_jet_2_cut/phi_shifting/remove_photon/40x40/10/GGF_in_BR.npy 40 &\n",
      "python pixelation-remove_photon.py data/quark_jet_2_cut/phi_shifting/11/VBF_in_SR.h5 data/quark_jet_2_cut/phi_shifting/remove_photon/40x40/11/VBF_in_SR.npy 40 &\n",
      "python pixelation-remove_photon.py data/quark_jet_2_cut/phi_shifting/11/VBF_in_BR.h5 data/quark_jet_2_cut/phi_shifting/remove_photon/40x40/11/VBF_in_BR.npy 40 &\n",
      "python pixelation-remove_photon.py data/quark_jet_2_cut/phi_shifting/11/GGF_in_SR.h5 data/quark_jet_2_cut/phi_shifting/remove_photon/40x40/11/GGF_in_SR.npy 40 &\n",
      "python pixelation-remove_photon.py data/quark_jet_2_cut/phi_shifting/11/GGF_in_BR.h5 data/quark_jet_2_cut/phi_shifting/remove_photon/40x40/11/GGF_in_BR.npy 40 &\n",
      "python pixelation-remove_photon.py data/quark_jet_2_cut/phi_shifting/12/VBF_in_SR.h5 data/quark_jet_2_cut/phi_shifting/remove_photon/40x40/12/VBF_in_SR.npy 40 &\n",
      "python pixelation-remove_photon.py data/quark_jet_2_cut/phi_shifting/12/VBF_in_BR.h5 data/quark_jet_2_cut/phi_shifting/remove_photon/40x40/12/VBF_in_BR.npy 40 &\n",
      "python pixelation-remove_photon.py data/quark_jet_2_cut/phi_shifting/12/GGF_in_SR.h5 data/quark_jet_2_cut/phi_shifting/remove_photon/40x40/12/GGF_in_SR.npy 40 &\n",
      "python pixelation-remove_photon.py data/quark_jet_2_cut/phi_shifting/12/GGF_in_BR.h5 data/quark_jet_2_cut/phi_shifting/remove_photon/40x40/12/GGF_in_BR.npy 40 &\n",
      "python pixelation-remove_photon.py data/quark_jet_2_cut/phi_shifting/13/VBF_in_SR.h5 data/quark_jet_2_cut/phi_shifting/remove_photon/40x40/13/VBF_in_SR.npy 40 &\n",
      "python pixelation-remove_photon.py data/quark_jet_2_cut/phi_shifting/13/VBF_in_BR.h5 data/quark_jet_2_cut/phi_shifting/remove_photon/40x40/13/VBF_in_BR.npy 40 &\n",
      "python pixelation-remove_photon.py data/quark_jet_2_cut/phi_shifting/13/GGF_in_SR.h5 data/quark_jet_2_cut/phi_shifting/remove_photon/40x40/13/GGF_in_SR.npy 40 &\n",
      "python pixelation-remove_photon.py data/quark_jet_2_cut/phi_shifting/13/GGF_in_BR.h5 data/quark_jet_2_cut/phi_shifting/remove_photon/40x40/13/GGF_in_BR.npy 40 &\n",
      "python pixelation-remove_photon.py data/quark_jet_2_cut/phi_shifting/14/VBF_in_SR.h5 data/quark_jet_2_cut/phi_shifting/remove_photon/40x40/14/VBF_in_SR.npy 40 &\n",
      "python pixelation-remove_photon.py data/quark_jet_2_cut/phi_shifting/14/VBF_in_BR.h5 data/quark_jet_2_cut/phi_shifting/remove_photon/40x40/14/VBF_in_BR.npy 40 &\n",
      "python pixelation-remove_photon.py data/quark_jet_2_cut/phi_shifting/14/GGF_in_SR.h5 data/quark_jet_2_cut/phi_shifting/remove_photon/40x40/14/GGF_in_SR.npy 40 &\n",
      "python pixelation-remove_photon.py data/quark_jet_2_cut/phi_shifting/14/GGF_in_BR.h5 data/quark_jet_2_cut/phi_shifting/remove_photon/40x40/14/GGF_in_BR.npy 40 &\n",
      "python pixelation-remove_photon.py data/quark_jet_2_cut/phi_shifting/15/VBF_in_SR.h5 data/quark_jet_2_cut/phi_shifting/remove_photon/40x40/15/VBF_in_SR.npy 40 &\n",
      "python pixelation-remove_photon.py data/quark_jet_2_cut/phi_shifting/15/VBF_in_BR.h5 data/quark_jet_2_cut/phi_shifting/remove_photon/40x40/15/VBF_in_BR.npy 40 &\n",
      "python pixelation-remove_photon.py data/quark_jet_2_cut/phi_shifting/15/GGF_in_SR.h5 data/quark_jet_2_cut/phi_shifting/remove_photon/40x40/15/GGF_in_SR.npy 40 &\n",
      "python pixelation-remove_photon.py data/quark_jet_2_cut/phi_shifting/15/GGF_in_BR.h5 data/quark_jet_2_cut/phi_shifting/remove_photon/40x40/15/GGF_in_BR.npy 40 &\n"
     ]
    }
   ],
   "source": [
    "res = 40\n",
    "for n in range(1, 16):\n",
    "\n",
    "    h5_dir = Path(f'./data/quark_jet_2_cut/phi_shifting/{n:02}')\n",
    "    npy_dir = Path(f'./data/quark_jet_2_cut/phi_shifting/remove_photon/{res}x{res}/{n:02}')\n",
    "\n",
    "    npy_dir.mkdir(parents=True, exist_ok=True)\n",
    "\n",
    "    for name in ['VBF_in_SR', 'VBF_in_BR', 'GGF_in_SR', 'GGF_in_BR']:\n",
    "        h5_path = h5_dir / f'{name}.h5'\n",
    "        npy_path = npy_dir / f'{name}.npy'\n",
    "        cmd = f'python pixelation-remove_photon.py {h5_path} {npy_path} {res} &'\n",
    "        print(cmd)"
   ]
  },
  {
   "cell_type": "code",
   "execution_count": 3,
   "metadata": {},
   "outputs": [
    {
     "name": "stdout",
     "output_type": "stream",
     "text": [
      "python pixelation-remove_photon_channel.py data/quark_jet_2_cut/pre-processing/VBF_in_SR.h5 data/quark_jet_2_cut/pre-processing/remove_photon_channel/40x40/VBF_in_SR.npy 40 &\n",
      "python pixelation-remove_photon_channel.py data/quark_jet_2_cut/pre-processing/VBF_in_BR.h5 data/quark_jet_2_cut/pre-processing/remove_photon_channel/40x40/VBF_in_BR.npy 40 &\n",
      "python pixelation-remove_photon_channel.py data/quark_jet_2_cut/pre-processing/GGF_in_SR.h5 data/quark_jet_2_cut/pre-processing/remove_photon_channel/40x40/GGF_in_SR.npy 40 &\n",
      "python pixelation-remove_photon_channel.py data/quark_jet_2_cut/pre-processing/GGF_in_BR.h5 data/quark_jet_2_cut/pre-processing/remove_photon_channel/40x40/GGF_in_BR.npy 40 &\n"
     ]
    }
   ],
   "source": [
    "res = 40\n",
    "h5_dir = Path('./data/quark_jet_2_cut/pre-processing')\n",
    "npy_dir = Path(f'./data/quark_jet_2_cut/pre-processing/remove_photon_channel/{res}x{res}')\n",
    "\n",
    "# create output directory\n",
    "npy_dir.mkdir(parents=True, exist_ok=True)\n",
    "\n",
    "for name in ['VBF_in_SR', 'VBF_in_BR', 'GGF_in_SR', 'GGF_in_BR']:\n",
    "    h5_path = h5_dir / f'{name}.h5'\n",
    "    npy_path = npy_dir / f'{name}.npy'\n",
    "    cmd = f'python pixelation-remove_photon_channel.py {h5_path} {npy_path} {res} &'\n",
    "    print(cmd)"
   ]
  },
  {
   "cell_type": "code",
   "execution_count": 5,
   "metadata": {},
   "outputs": [
    {
     "name": "stdout",
     "output_type": "stream",
     "text": [
      "python pixelation-remove_photon_channel.py data/quark_jet_2_cut/phi_shifting/01/VBF_in_SR.h5 data/quark_jet_2_cut/phi_shifting/remove_photon_channel/40x40/01/VBF_in_SR.npy 40 &\n",
      "python pixelation-remove_photon_channel.py data/quark_jet_2_cut/phi_shifting/01/VBF_in_BR.h5 data/quark_jet_2_cut/phi_shifting/remove_photon_channel/40x40/01/VBF_in_BR.npy 40 &\n",
      "python pixelation-remove_photon_channel.py data/quark_jet_2_cut/phi_shifting/01/GGF_in_SR.h5 data/quark_jet_2_cut/phi_shifting/remove_photon_channel/40x40/01/GGF_in_SR.npy 40 &\n",
      "python pixelation-remove_photon_channel.py data/quark_jet_2_cut/phi_shifting/01/GGF_in_BR.h5 data/quark_jet_2_cut/phi_shifting/remove_photon_channel/40x40/01/GGF_in_BR.npy 40 &\n",
      "python pixelation-remove_photon_channel.py data/quark_jet_2_cut/phi_shifting/02/VBF_in_SR.h5 data/quark_jet_2_cut/phi_shifting/remove_photon_channel/40x40/02/VBF_in_SR.npy 40 &\n",
      "python pixelation-remove_photon_channel.py data/quark_jet_2_cut/phi_shifting/02/VBF_in_BR.h5 data/quark_jet_2_cut/phi_shifting/remove_photon_channel/40x40/02/VBF_in_BR.npy 40 &\n",
      "python pixelation-remove_photon_channel.py data/quark_jet_2_cut/phi_shifting/02/GGF_in_SR.h5 data/quark_jet_2_cut/phi_shifting/remove_photon_channel/40x40/02/GGF_in_SR.npy 40 &\n",
      "python pixelation-remove_photon_channel.py data/quark_jet_2_cut/phi_shifting/02/GGF_in_BR.h5 data/quark_jet_2_cut/phi_shifting/remove_photon_channel/40x40/02/GGF_in_BR.npy 40 &\n",
      "python pixelation-remove_photon_channel.py data/quark_jet_2_cut/phi_shifting/03/VBF_in_SR.h5 data/quark_jet_2_cut/phi_shifting/remove_photon_channel/40x40/03/VBF_in_SR.npy 40 &\n",
      "python pixelation-remove_photon_channel.py data/quark_jet_2_cut/phi_shifting/03/VBF_in_BR.h5 data/quark_jet_2_cut/phi_shifting/remove_photon_channel/40x40/03/VBF_in_BR.npy 40 &\n",
      "python pixelation-remove_photon_channel.py data/quark_jet_2_cut/phi_shifting/03/GGF_in_SR.h5 data/quark_jet_2_cut/phi_shifting/remove_photon_channel/40x40/03/GGF_in_SR.npy 40 &\n",
      "python pixelation-remove_photon_channel.py data/quark_jet_2_cut/phi_shifting/03/GGF_in_BR.h5 data/quark_jet_2_cut/phi_shifting/remove_photon_channel/40x40/03/GGF_in_BR.npy 40 &\n",
      "python pixelation-remove_photon_channel.py data/quark_jet_2_cut/phi_shifting/04/VBF_in_SR.h5 data/quark_jet_2_cut/phi_shifting/remove_photon_channel/40x40/04/VBF_in_SR.npy 40 &\n",
      "python pixelation-remove_photon_channel.py data/quark_jet_2_cut/phi_shifting/04/VBF_in_BR.h5 data/quark_jet_2_cut/phi_shifting/remove_photon_channel/40x40/04/VBF_in_BR.npy 40 &\n",
      "python pixelation-remove_photon_channel.py data/quark_jet_2_cut/phi_shifting/04/GGF_in_SR.h5 data/quark_jet_2_cut/phi_shifting/remove_photon_channel/40x40/04/GGF_in_SR.npy 40 &\n",
      "python pixelation-remove_photon_channel.py data/quark_jet_2_cut/phi_shifting/04/GGF_in_BR.h5 data/quark_jet_2_cut/phi_shifting/remove_photon_channel/40x40/04/GGF_in_BR.npy 40 &\n",
      "python pixelation-remove_photon_channel.py data/quark_jet_2_cut/phi_shifting/05/VBF_in_SR.h5 data/quark_jet_2_cut/phi_shifting/remove_photon_channel/40x40/05/VBF_in_SR.npy 40 &\n",
      "python pixelation-remove_photon_channel.py data/quark_jet_2_cut/phi_shifting/05/VBF_in_BR.h5 data/quark_jet_2_cut/phi_shifting/remove_photon_channel/40x40/05/VBF_in_BR.npy 40 &\n",
      "python pixelation-remove_photon_channel.py data/quark_jet_2_cut/phi_shifting/05/GGF_in_SR.h5 data/quark_jet_2_cut/phi_shifting/remove_photon_channel/40x40/05/GGF_in_SR.npy 40 &\n",
      "python pixelation-remove_photon_channel.py data/quark_jet_2_cut/phi_shifting/05/GGF_in_BR.h5 data/quark_jet_2_cut/phi_shifting/remove_photon_channel/40x40/05/GGF_in_BR.npy 40 &\n",
      "python pixelation-remove_photon_channel.py data/quark_jet_2_cut/phi_shifting/06/VBF_in_SR.h5 data/quark_jet_2_cut/phi_shifting/remove_photon_channel/40x40/06/VBF_in_SR.npy 40 &\n",
      "python pixelation-remove_photon_channel.py data/quark_jet_2_cut/phi_shifting/06/VBF_in_BR.h5 data/quark_jet_2_cut/phi_shifting/remove_photon_channel/40x40/06/VBF_in_BR.npy 40 &\n",
      "python pixelation-remove_photon_channel.py data/quark_jet_2_cut/phi_shifting/06/GGF_in_SR.h5 data/quark_jet_2_cut/phi_shifting/remove_photon_channel/40x40/06/GGF_in_SR.npy 40 &\n",
      "python pixelation-remove_photon_channel.py data/quark_jet_2_cut/phi_shifting/06/GGF_in_BR.h5 data/quark_jet_2_cut/phi_shifting/remove_photon_channel/40x40/06/GGF_in_BR.npy 40 &\n",
      "python pixelation-remove_photon_channel.py data/quark_jet_2_cut/phi_shifting/07/VBF_in_SR.h5 data/quark_jet_2_cut/phi_shifting/remove_photon_channel/40x40/07/VBF_in_SR.npy 40 &\n",
      "python pixelation-remove_photon_channel.py data/quark_jet_2_cut/phi_shifting/07/VBF_in_BR.h5 data/quark_jet_2_cut/phi_shifting/remove_photon_channel/40x40/07/VBF_in_BR.npy 40 &\n",
      "python pixelation-remove_photon_channel.py data/quark_jet_2_cut/phi_shifting/07/GGF_in_SR.h5 data/quark_jet_2_cut/phi_shifting/remove_photon_channel/40x40/07/GGF_in_SR.npy 40 &\n",
      "python pixelation-remove_photon_channel.py data/quark_jet_2_cut/phi_shifting/07/GGF_in_BR.h5 data/quark_jet_2_cut/phi_shifting/remove_photon_channel/40x40/07/GGF_in_BR.npy 40 &\n",
      "python pixelation-remove_photon_channel.py data/quark_jet_2_cut/phi_shifting/08/VBF_in_SR.h5 data/quark_jet_2_cut/phi_shifting/remove_photon_channel/40x40/08/VBF_in_SR.npy 40 &\n",
      "python pixelation-remove_photon_channel.py data/quark_jet_2_cut/phi_shifting/08/VBF_in_BR.h5 data/quark_jet_2_cut/phi_shifting/remove_photon_channel/40x40/08/VBF_in_BR.npy 40 &\n",
      "python pixelation-remove_photon_channel.py data/quark_jet_2_cut/phi_shifting/08/GGF_in_SR.h5 data/quark_jet_2_cut/phi_shifting/remove_photon_channel/40x40/08/GGF_in_SR.npy 40 &\n",
      "python pixelation-remove_photon_channel.py data/quark_jet_2_cut/phi_shifting/08/GGF_in_BR.h5 data/quark_jet_2_cut/phi_shifting/remove_photon_channel/40x40/08/GGF_in_BR.npy 40 &\n",
      "python pixelation-remove_photon_channel.py data/quark_jet_2_cut/phi_shifting/09/VBF_in_SR.h5 data/quark_jet_2_cut/phi_shifting/remove_photon_channel/40x40/09/VBF_in_SR.npy 40 &\n",
      "python pixelation-remove_photon_channel.py data/quark_jet_2_cut/phi_shifting/09/VBF_in_BR.h5 data/quark_jet_2_cut/phi_shifting/remove_photon_channel/40x40/09/VBF_in_BR.npy 40 &\n",
      "python pixelation-remove_photon_channel.py data/quark_jet_2_cut/phi_shifting/09/GGF_in_SR.h5 data/quark_jet_2_cut/phi_shifting/remove_photon_channel/40x40/09/GGF_in_SR.npy 40 &\n",
      "python pixelation-remove_photon_channel.py data/quark_jet_2_cut/phi_shifting/09/GGF_in_BR.h5 data/quark_jet_2_cut/phi_shifting/remove_photon_channel/40x40/09/GGF_in_BR.npy 40 &\n",
      "python pixelation-remove_photon_channel.py data/quark_jet_2_cut/phi_shifting/10/VBF_in_SR.h5 data/quark_jet_2_cut/phi_shifting/remove_photon_channel/40x40/10/VBF_in_SR.npy 40 &\n",
      "python pixelation-remove_photon_channel.py data/quark_jet_2_cut/phi_shifting/10/VBF_in_BR.h5 data/quark_jet_2_cut/phi_shifting/remove_photon_channel/40x40/10/VBF_in_BR.npy 40 &\n",
      "python pixelation-remove_photon_channel.py data/quark_jet_2_cut/phi_shifting/10/GGF_in_SR.h5 data/quark_jet_2_cut/phi_shifting/remove_photon_channel/40x40/10/GGF_in_SR.npy 40 &\n",
      "python pixelation-remove_photon_channel.py data/quark_jet_2_cut/phi_shifting/10/GGF_in_BR.h5 data/quark_jet_2_cut/phi_shifting/remove_photon_channel/40x40/10/GGF_in_BR.npy 40 &\n",
      "python pixelation-remove_photon_channel.py data/quark_jet_2_cut/phi_shifting/11/VBF_in_SR.h5 data/quark_jet_2_cut/phi_shifting/remove_photon_channel/40x40/11/VBF_in_SR.npy 40 &\n",
      "python pixelation-remove_photon_channel.py data/quark_jet_2_cut/phi_shifting/11/VBF_in_BR.h5 data/quark_jet_2_cut/phi_shifting/remove_photon_channel/40x40/11/VBF_in_BR.npy 40 &\n",
      "python pixelation-remove_photon_channel.py data/quark_jet_2_cut/phi_shifting/11/GGF_in_SR.h5 data/quark_jet_2_cut/phi_shifting/remove_photon_channel/40x40/11/GGF_in_SR.npy 40 &\n",
      "python pixelation-remove_photon_channel.py data/quark_jet_2_cut/phi_shifting/11/GGF_in_BR.h5 data/quark_jet_2_cut/phi_shifting/remove_photon_channel/40x40/11/GGF_in_BR.npy 40 &\n",
      "python pixelation-remove_photon_channel.py data/quark_jet_2_cut/phi_shifting/12/VBF_in_SR.h5 data/quark_jet_2_cut/phi_shifting/remove_photon_channel/40x40/12/VBF_in_SR.npy 40 &\n",
      "python pixelation-remove_photon_channel.py data/quark_jet_2_cut/phi_shifting/12/VBF_in_BR.h5 data/quark_jet_2_cut/phi_shifting/remove_photon_channel/40x40/12/VBF_in_BR.npy 40 &\n",
      "python pixelation-remove_photon_channel.py data/quark_jet_2_cut/phi_shifting/12/GGF_in_SR.h5 data/quark_jet_2_cut/phi_shifting/remove_photon_channel/40x40/12/GGF_in_SR.npy 40 &\n",
      "python pixelation-remove_photon_channel.py data/quark_jet_2_cut/phi_shifting/12/GGF_in_BR.h5 data/quark_jet_2_cut/phi_shifting/remove_photon_channel/40x40/12/GGF_in_BR.npy 40 &\n",
      "python pixelation-remove_photon_channel.py data/quark_jet_2_cut/phi_shifting/13/VBF_in_SR.h5 data/quark_jet_2_cut/phi_shifting/remove_photon_channel/40x40/13/VBF_in_SR.npy 40 &\n",
      "python pixelation-remove_photon_channel.py data/quark_jet_2_cut/phi_shifting/13/VBF_in_BR.h5 data/quark_jet_2_cut/phi_shifting/remove_photon_channel/40x40/13/VBF_in_BR.npy 40 &\n",
      "python pixelation-remove_photon_channel.py data/quark_jet_2_cut/phi_shifting/13/GGF_in_SR.h5 data/quark_jet_2_cut/phi_shifting/remove_photon_channel/40x40/13/GGF_in_SR.npy 40 &\n",
      "python pixelation-remove_photon_channel.py data/quark_jet_2_cut/phi_shifting/13/GGF_in_BR.h5 data/quark_jet_2_cut/phi_shifting/remove_photon_channel/40x40/13/GGF_in_BR.npy 40 &\n",
      "python pixelation-remove_photon_channel.py data/quark_jet_2_cut/phi_shifting/14/VBF_in_SR.h5 data/quark_jet_2_cut/phi_shifting/remove_photon_channel/40x40/14/VBF_in_SR.npy 40 &\n",
      "python pixelation-remove_photon_channel.py data/quark_jet_2_cut/phi_shifting/14/VBF_in_BR.h5 data/quark_jet_2_cut/phi_shifting/remove_photon_channel/40x40/14/VBF_in_BR.npy 40 &\n",
      "python pixelation-remove_photon_channel.py data/quark_jet_2_cut/phi_shifting/14/GGF_in_SR.h5 data/quark_jet_2_cut/phi_shifting/remove_photon_channel/40x40/14/GGF_in_SR.npy 40 &\n",
      "python pixelation-remove_photon_channel.py data/quark_jet_2_cut/phi_shifting/14/GGF_in_BR.h5 data/quark_jet_2_cut/phi_shifting/remove_photon_channel/40x40/14/GGF_in_BR.npy 40 &\n",
      "python pixelation-remove_photon_channel.py data/quark_jet_2_cut/phi_shifting/15/VBF_in_SR.h5 data/quark_jet_2_cut/phi_shifting/remove_photon_channel/40x40/15/VBF_in_SR.npy 40 &\n",
      "python pixelation-remove_photon_channel.py data/quark_jet_2_cut/phi_shifting/15/VBF_in_BR.h5 data/quark_jet_2_cut/phi_shifting/remove_photon_channel/40x40/15/VBF_in_BR.npy 40 &\n",
      "python pixelation-remove_photon_channel.py data/quark_jet_2_cut/phi_shifting/15/GGF_in_SR.h5 data/quark_jet_2_cut/phi_shifting/remove_photon_channel/40x40/15/GGF_in_SR.npy 40 &\n",
      "python pixelation-remove_photon_channel.py data/quark_jet_2_cut/phi_shifting/15/GGF_in_BR.h5 data/quark_jet_2_cut/phi_shifting/remove_photon_channel/40x40/15/GGF_in_BR.npy 40 &\n"
     ]
    }
   ],
   "source": [
    "res = 40\n",
    "for n in range(1, 16):\n",
    "\n",
    "    h5_dir = Path(f'./data/quark_jet_2_cut/phi_shifting/{n:02}')\n",
    "    npy_dir = Path(f'./data/quark_jet_2_cut/phi_shifting/remove_photon_channel/{res}x{res}/{n:02}')\n",
    "\n",
    "    npy_dir.mkdir(parents=True, exist_ok=True)\n",
    "\n",
    "    for name in ['VBF_in_SR', 'VBF_in_BR', 'GGF_in_SR', 'GGF_in_BR']:\n",
    "        h5_path = h5_dir / f'{name}.h5'\n",
    "        npy_path = npy_dir / f'{name}.npy'\n",
    "        cmd = f'python pixelation-remove_photon_channel.py {h5_path} {npy_path} {res} &'\n",
    "        print(cmd)"
   ]
  },
  {
   "cell_type": "code",
   "execution_count": 2,
   "metadata": {},
   "outputs": [
    {
     "name": "stdout",
     "output_type": "stream",
     "text": [
      "python pixelation-remove_photon_info.py data/quark_jet_2_cut/pre-processing/VBF_in_SR.h5 data/quark_jet_2_cut/pre-processing/remove_photon_case_3/40x40/VBF_in_SR.npy 40 3 &\n",
      "python pixelation-remove_photon_info.py data/quark_jet_2_cut/pre-processing/VBF_in_BR.h5 data/quark_jet_2_cut/pre-processing/remove_photon_case_3/40x40/VBF_in_BR.npy 40 3 &\n",
      "python pixelation-remove_photon_info.py data/quark_jet_2_cut/pre-processing/GGF_in_SR.h5 data/quark_jet_2_cut/pre-processing/remove_photon_case_3/40x40/GGF_in_SR.npy 40 3 &\n",
      "python pixelation-remove_photon_info.py data/quark_jet_2_cut/pre-processing/GGF_in_BR.h5 data/quark_jet_2_cut/pre-processing/remove_photon_case_3/40x40/GGF_in_BR.npy 40 3 &\n"
     ]
    }
   ],
   "source": [
    "res = 40\n",
    "case = 3\n",
    "h5_dir = Path('./data/quark_jet_2_cut/pre-processing')\n",
    "npy_dir = Path(f'./data/quark_jet_2_cut/pre-processing/remove_photon_case_{case}/{res}x{res}')\n",
    "\n",
    "# create output directory\n",
    "npy_dir.mkdir(parents=True, exist_ok=True)\n",
    "\n",
    "for name in ['VBF_in_SR', 'VBF_in_BR', 'GGF_in_SR', 'GGF_in_BR']:\n",
    "    h5_path = h5_dir / f'{name}.h5'\n",
    "    npy_path = npy_dir / f'{name}.npy'\n",
    "    cmd = f'python pixelation-remove_photon_info.py {h5_path} {npy_path} {res} {case} &'\n",
    "    print(cmd)"
   ]
  },
  {
   "cell_type": "code",
   "execution_count": 3,
   "metadata": {},
   "outputs": [
    {
     "name": "stdout",
     "output_type": "stream",
     "text": [
      "python pixelation-remove_photon_info.py data/quark_jet_2_cut/phi_shifting/01/VBF_in_SR.h5 data/quark_jet_2_cut/phi_shifting/remove_photon_case_3/40x40/01/VBF_in_SR.npy 40 3 &\n",
      "python pixelation-remove_photon_info.py data/quark_jet_2_cut/phi_shifting/01/VBF_in_BR.h5 data/quark_jet_2_cut/phi_shifting/remove_photon_case_3/40x40/01/VBF_in_BR.npy 40 3 &\n",
      "python pixelation-remove_photon_info.py data/quark_jet_2_cut/phi_shifting/01/GGF_in_SR.h5 data/quark_jet_2_cut/phi_shifting/remove_photon_case_3/40x40/01/GGF_in_SR.npy 40 3 &\n",
      "python pixelation-remove_photon_info.py data/quark_jet_2_cut/phi_shifting/01/GGF_in_BR.h5 data/quark_jet_2_cut/phi_shifting/remove_photon_case_3/40x40/01/GGF_in_BR.npy 40 3 &\n",
      "python pixelation-remove_photon_info.py data/quark_jet_2_cut/phi_shifting/02/VBF_in_SR.h5 data/quark_jet_2_cut/phi_shifting/remove_photon_case_3/40x40/02/VBF_in_SR.npy 40 3 &\n",
      "python pixelation-remove_photon_info.py data/quark_jet_2_cut/phi_shifting/02/VBF_in_BR.h5 data/quark_jet_2_cut/phi_shifting/remove_photon_case_3/40x40/02/VBF_in_BR.npy 40 3 &\n",
      "python pixelation-remove_photon_info.py data/quark_jet_2_cut/phi_shifting/02/GGF_in_SR.h5 data/quark_jet_2_cut/phi_shifting/remove_photon_case_3/40x40/02/GGF_in_SR.npy 40 3 &\n",
      "python pixelation-remove_photon_info.py data/quark_jet_2_cut/phi_shifting/02/GGF_in_BR.h5 data/quark_jet_2_cut/phi_shifting/remove_photon_case_3/40x40/02/GGF_in_BR.npy 40 3 &\n",
      "python pixelation-remove_photon_info.py data/quark_jet_2_cut/phi_shifting/03/VBF_in_SR.h5 data/quark_jet_2_cut/phi_shifting/remove_photon_case_3/40x40/03/VBF_in_SR.npy 40 3 &\n",
      "python pixelation-remove_photon_info.py data/quark_jet_2_cut/phi_shifting/03/VBF_in_BR.h5 data/quark_jet_2_cut/phi_shifting/remove_photon_case_3/40x40/03/VBF_in_BR.npy 40 3 &\n",
      "python pixelation-remove_photon_info.py data/quark_jet_2_cut/phi_shifting/03/GGF_in_SR.h5 data/quark_jet_2_cut/phi_shifting/remove_photon_case_3/40x40/03/GGF_in_SR.npy 40 3 &\n",
      "python pixelation-remove_photon_info.py data/quark_jet_2_cut/phi_shifting/03/GGF_in_BR.h5 data/quark_jet_2_cut/phi_shifting/remove_photon_case_3/40x40/03/GGF_in_BR.npy 40 3 &\n",
      "python pixelation-remove_photon_info.py data/quark_jet_2_cut/phi_shifting/04/VBF_in_SR.h5 data/quark_jet_2_cut/phi_shifting/remove_photon_case_3/40x40/04/VBF_in_SR.npy 40 3 &\n",
      "python pixelation-remove_photon_info.py data/quark_jet_2_cut/phi_shifting/04/VBF_in_BR.h5 data/quark_jet_2_cut/phi_shifting/remove_photon_case_3/40x40/04/VBF_in_BR.npy 40 3 &\n",
      "python pixelation-remove_photon_info.py data/quark_jet_2_cut/phi_shifting/04/GGF_in_SR.h5 data/quark_jet_2_cut/phi_shifting/remove_photon_case_3/40x40/04/GGF_in_SR.npy 40 3 &\n",
      "python pixelation-remove_photon_info.py data/quark_jet_2_cut/phi_shifting/04/GGF_in_BR.h5 data/quark_jet_2_cut/phi_shifting/remove_photon_case_3/40x40/04/GGF_in_BR.npy 40 3 &\n",
      "python pixelation-remove_photon_info.py data/quark_jet_2_cut/phi_shifting/05/VBF_in_SR.h5 data/quark_jet_2_cut/phi_shifting/remove_photon_case_3/40x40/05/VBF_in_SR.npy 40 3 &\n",
      "python pixelation-remove_photon_info.py data/quark_jet_2_cut/phi_shifting/05/VBF_in_BR.h5 data/quark_jet_2_cut/phi_shifting/remove_photon_case_3/40x40/05/VBF_in_BR.npy 40 3 &\n",
      "python pixelation-remove_photon_info.py data/quark_jet_2_cut/phi_shifting/05/GGF_in_SR.h5 data/quark_jet_2_cut/phi_shifting/remove_photon_case_3/40x40/05/GGF_in_SR.npy 40 3 &\n",
      "python pixelation-remove_photon_info.py data/quark_jet_2_cut/phi_shifting/05/GGF_in_BR.h5 data/quark_jet_2_cut/phi_shifting/remove_photon_case_3/40x40/05/GGF_in_BR.npy 40 3 &\n",
      "python pixelation-remove_photon_info.py data/quark_jet_2_cut/phi_shifting/06/VBF_in_SR.h5 data/quark_jet_2_cut/phi_shifting/remove_photon_case_3/40x40/06/VBF_in_SR.npy 40 3 &\n",
      "python pixelation-remove_photon_info.py data/quark_jet_2_cut/phi_shifting/06/VBF_in_BR.h5 data/quark_jet_2_cut/phi_shifting/remove_photon_case_3/40x40/06/VBF_in_BR.npy 40 3 &\n",
      "python pixelation-remove_photon_info.py data/quark_jet_2_cut/phi_shifting/06/GGF_in_SR.h5 data/quark_jet_2_cut/phi_shifting/remove_photon_case_3/40x40/06/GGF_in_SR.npy 40 3 &\n",
      "python pixelation-remove_photon_info.py data/quark_jet_2_cut/phi_shifting/06/GGF_in_BR.h5 data/quark_jet_2_cut/phi_shifting/remove_photon_case_3/40x40/06/GGF_in_BR.npy 40 3 &\n",
      "python pixelation-remove_photon_info.py data/quark_jet_2_cut/phi_shifting/07/VBF_in_SR.h5 data/quark_jet_2_cut/phi_shifting/remove_photon_case_3/40x40/07/VBF_in_SR.npy 40 3 &\n",
      "python pixelation-remove_photon_info.py data/quark_jet_2_cut/phi_shifting/07/VBF_in_BR.h5 data/quark_jet_2_cut/phi_shifting/remove_photon_case_3/40x40/07/VBF_in_BR.npy 40 3 &\n",
      "python pixelation-remove_photon_info.py data/quark_jet_2_cut/phi_shifting/07/GGF_in_SR.h5 data/quark_jet_2_cut/phi_shifting/remove_photon_case_3/40x40/07/GGF_in_SR.npy 40 3 &\n",
      "python pixelation-remove_photon_info.py data/quark_jet_2_cut/phi_shifting/07/GGF_in_BR.h5 data/quark_jet_2_cut/phi_shifting/remove_photon_case_3/40x40/07/GGF_in_BR.npy 40 3 &\n",
      "python pixelation-remove_photon_info.py data/quark_jet_2_cut/phi_shifting/08/VBF_in_SR.h5 data/quark_jet_2_cut/phi_shifting/remove_photon_case_3/40x40/08/VBF_in_SR.npy 40 3 &\n",
      "python pixelation-remove_photon_info.py data/quark_jet_2_cut/phi_shifting/08/VBF_in_BR.h5 data/quark_jet_2_cut/phi_shifting/remove_photon_case_3/40x40/08/VBF_in_BR.npy 40 3 &\n",
      "python pixelation-remove_photon_info.py data/quark_jet_2_cut/phi_shifting/08/GGF_in_SR.h5 data/quark_jet_2_cut/phi_shifting/remove_photon_case_3/40x40/08/GGF_in_SR.npy 40 3 &\n",
      "python pixelation-remove_photon_info.py data/quark_jet_2_cut/phi_shifting/08/GGF_in_BR.h5 data/quark_jet_2_cut/phi_shifting/remove_photon_case_3/40x40/08/GGF_in_BR.npy 40 3 &\n",
      "python pixelation-remove_photon_info.py data/quark_jet_2_cut/phi_shifting/09/VBF_in_SR.h5 data/quark_jet_2_cut/phi_shifting/remove_photon_case_3/40x40/09/VBF_in_SR.npy 40 3 &\n",
      "python pixelation-remove_photon_info.py data/quark_jet_2_cut/phi_shifting/09/VBF_in_BR.h5 data/quark_jet_2_cut/phi_shifting/remove_photon_case_3/40x40/09/VBF_in_BR.npy 40 3 &\n",
      "python pixelation-remove_photon_info.py data/quark_jet_2_cut/phi_shifting/09/GGF_in_SR.h5 data/quark_jet_2_cut/phi_shifting/remove_photon_case_3/40x40/09/GGF_in_SR.npy 40 3 &\n",
      "python pixelation-remove_photon_info.py data/quark_jet_2_cut/phi_shifting/09/GGF_in_BR.h5 data/quark_jet_2_cut/phi_shifting/remove_photon_case_3/40x40/09/GGF_in_BR.npy 40 3 &\n",
      "python pixelation-remove_photon_info.py data/quark_jet_2_cut/phi_shifting/10/VBF_in_SR.h5 data/quark_jet_2_cut/phi_shifting/remove_photon_case_3/40x40/10/VBF_in_SR.npy 40 3 &\n",
      "python pixelation-remove_photon_info.py data/quark_jet_2_cut/phi_shifting/10/VBF_in_BR.h5 data/quark_jet_2_cut/phi_shifting/remove_photon_case_3/40x40/10/VBF_in_BR.npy 40 3 &\n",
      "python pixelation-remove_photon_info.py data/quark_jet_2_cut/phi_shifting/10/GGF_in_SR.h5 data/quark_jet_2_cut/phi_shifting/remove_photon_case_3/40x40/10/GGF_in_SR.npy 40 3 &\n",
      "python pixelation-remove_photon_info.py data/quark_jet_2_cut/phi_shifting/10/GGF_in_BR.h5 data/quark_jet_2_cut/phi_shifting/remove_photon_case_3/40x40/10/GGF_in_BR.npy 40 3 &\n",
      "python pixelation-remove_photon_info.py data/quark_jet_2_cut/phi_shifting/11/VBF_in_SR.h5 data/quark_jet_2_cut/phi_shifting/remove_photon_case_3/40x40/11/VBF_in_SR.npy 40 3 &\n",
      "python pixelation-remove_photon_info.py data/quark_jet_2_cut/phi_shifting/11/VBF_in_BR.h5 data/quark_jet_2_cut/phi_shifting/remove_photon_case_3/40x40/11/VBF_in_BR.npy 40 3 &\n",
      "python pixelation-remove_photon_info.py data/quark_jet_2_cut/phi_shifting/11/GGF_in_SR.h5 data/quark_jet_2_cut/phi_shifting/remove_photon_case_3/40x40/11/GGF_in_SR.npy 40 3 &\n",
      "python pixelation-remove_photon_info.py data/quark_jet_2_cut/phi_shifting/11/GGF_in_BR.h5 data/quark_jet_2_cut/phi_shifting/remove_photon_case_3/40x40/11/GGF_in_BR.npy 40 3 &\n",
      "python pixelation-remove_photon_info.py data/quark_jet_2_cut/phi_shifting/12/VBF_in_SR.h5 data/quark_jet_2_cut/phi_shifting/remove_photon_case_3/40x40/12/VBF_in_SR.npy 40 3 &\n",
      "python pixelation-remove_photon_info.py data/quark_jet_2_cut/phi_shifting/12/VBF_in_BR.h5 data/quark_jet_2_cut/phi_shifting/remove_photon_case_3/40x40/12/VBF_in_BR.npy 40 3 &\n",
      "python pixelation-remove_photon_info.py data/quark_jet_2_cut/phi_shifting/12/GGF_in_SR.h5 data/quark_jet_2_cut/phi_shifting/remove_photon_case_3/40x40/12/GGF_in_SR.npy 40 3 &\n",
      "python pixelation-remove_photon_info.py data/quark_jet_2_cut/phi_shifting/12/GGF_in_BR.h5 data/quark_jet_2_cut/phi_shifting/remove_photon_case_3/40x40/12/GGF_in_BR.npy 40 3 &\n",
      "python pixelation-remove_photon_info.py data/quark_jet_2_cut/phi_shifting/13/VBF_in_SR.h5 data/quark_jet_2_cut/phi_shifting/remove_photon_case_3/40x40/13/VBF_in_SR.npy 40 3 &\n",
      "python pixelation-remove_photon_info.py data/quark_jet_2_cut/phi_shifting/13/VBF_in_BR.h5 data/quark_jet_2_cut/phi_shifting/remove_photon_case_3/40x40/13/VBF_in_BR.npy 40 3 &\n",
      "python pixelation-remove_photon_info.py data/quark_jet_2_cut/phi_shifting/13/GGF_in_SR.h5 data/quark_jet_2_cut/phi_shifting/remove_photon_case_3/40x40/13/GGF_in_SR.npy 40 3 &\n",
      "python pixelation-remove_photon_info.py data/quark_jet_2_cut/phi_shifting/13/GGF_in_BR.h5 data/quark_jet_2_cut/phi_shifting/remove_photon_case_3/40x40/13/GGF_in_BR.npy 40 3 &\n",
      "python pixelation-remove_photon_info.py data/quark_jet_2_cut/phi_shifting/14/VBF_in_SR.h5 data/quark_jet_2_cut/phi_shifting/remove_photon_case_3/40x40/14/VBF_in_SR.npy 40 3 &\n",
      "python pixelation-remove_photon_info.py data/quark_jet_2_cut/phi_shifting/14/VBF_in_BR.h5 data/quark_jet_2_cut/phi_shifting/remove_photon_case_3/40x40/14/VBF_in_BR.npy 40 3 &\n",
      "python pixelation-remove_photon_info.py data/quark_jet_2_cut/phi_shifting/14/GGF_in_SR.h5 data/quark_jet_2_cut/phi_shifting/remove_photon_case_3/40x40/14/GGF_in_SR.npy 40 3 &\n",
      "python pixelation-remove_photon_info.py data/quark_jet_2_cut/phi_shifting/14/GGF_in_BR.h5 data/quark_jet_2_cut/phi_shifting/remove_photon_case_3/40x40/14/GGF_in_BR.npy 40 3 &\n",
      "python pixelation-remove_photon_info.py data/quark_jet_2_cut/phi_shifting/15/VBF_in_SR.h5 data/quark_jet_2_cut/phi_shifting/remove_photon_case_3/40x40/15/VBF_in_SR.npy 40 3 &\n",
      "python pixelation-remove_photon_info.py data/quark_jet_2_cut/phi_shifting/15/VBF_in_BR.h5 data/quark_jet_2_cut/phi_shifting/remove_photon_case_3/40x40/15/VBF_in_BR.npy 40 3 &\n",
      "python pixelation-remove_photon_info.py data/quark_jet_2_cut/phi_shifting/15/GGF_in_SR.h5 data/quark_jet_2_cut/phi_shifting/remove_photon_case_3/40x40/15/GGF_in_SR.npy 40 3 &\n",
      "python pixelation-remove_photon_info.py data/quark_jet_2_cut/phi_shifting/15/GGF_in_BR.h5 data/quark_jet_2_cut/phi_shifting/remove_photon_case_3/40x40/15/GGF_in_BR.npy 40 3 &\n"
     ]
    }
   ],
   "source": [
    "res = 40\n",
    "case = 3\n",
    "for n in range(1, 16):\n",
    "\n",
    "    h5_dir = Path(f'./data/quark_jet_2_cut/phi_shifting/{n:02}')\n",
    "    npy_dir = Path(f'./data/quark_jet_2_cut/phi_shifting/remove_photon_case_{case}/{res}x{res}/{n:02}')\n",
    "\n",
    "    npy_dir.mkdir(parents=True, exist_ok=True)\n",
    "\n",
    "    for name in ['VBF_in_SR', 'VBF_in_BR', 'GGF_in_SR', 'GGF_in_BR']:\n",
    "        h5_path = h5_dir / f'{name}.h5'\n",
    "        npy_path = npy_dir / f'{name}.npy'\n",
    "        cmd = f'python pixelation-remove_photon_info.py {h5_path} {npy_path} {res} {case} &'\n",
    "        print(cmd)"
   ]
  },
  {
   "cell_type": "code",
   "execution_count": 3,
   "metadata": {},
   "outputs": [
    {
     "name": "stdout",
     "output_type": "stream",
     "text": [
      "python pixelation-remove_decay_product_info.py data/supervised/pre-processing/VBF.h5 data/supervised/pre-processing/remove_product_case_1/40x40/VBF.npy 40 1 &\n",
      "python pixelation-remove_decay_product_info.py data/supervised/pre-processing/GGF.h5 data/supervised/pre-processing/remove_product_case_1/40x40/GGF.npy 40 1 &\n"
     ]
    }
   ],
   "source": [
    "res = 40\n",
    "case = 1\n",
    "h5_dir = Path('./data/supervised/pre-processing')\n",
    "npy_dir = Path(f'./data/supervised/pre-processing/remove_product_case_{case}/{res}x{res}')\n",
    "\n",
    "# create output directory\n",
    "npy_dir.mkdir(parents=True, exist_ok=True)\n",
    "\n",
    "for name in ['VBF', 'GGF']:\n",
    "    h5_path = h5_dir / f'{name}.h5'\n",
    "    npy_path = npy_dir / f'{name}.npy'\n",
    "    cmd = f'python pixelation-remove_decay_product_info.py {h5_path} {npy_path} {res} {case} &'\n",
    "    print(cmd)"
   ]
  },
  {
   "cell_type": "markdown",
   "metadata": {},
   "source": [
    "## $\\phi$ shifting with fixed angle"
   ]
  },
  {
   "cell_type": "code",
   "execution_count": 5,
   "metadata": {},
   "outputs": [
    {
     "name": "stdout",
     "output_type": "stream",
     "text": [
      "python pixelation.py data/quark_jet_2_cut/phi_shifting_fix/30/VBF_in_SR.h5 data/quark_jet_2_cut/phi_shifting_fix/40x40/30/VBF_in_SR.npy 40 &\n",
      "python pixelation.py data/quark_jet_2_cut/phi_shifting_fix/30/VBF_in_BR.h5 data/quark_jet_2_cut/phi_shifting_fix/40x40/30/VBF_in_BR.npy 40 &\n",
      "python pixelation.py data/quark_jet_2_cut/phi_shifting_fix/30/GGF_in_SR.h5 data/quark_jet_2_cut/phi_shifting_fix/40x40/30/GGF_in_SR.npy 40 &\n",
      "python pixelation.py data/quark_jet_2_cut/phi_shifting_fix/30/GGF_in_BR.h5 data/quark_jet_2_cut/phi_shifting_fix/40x40/30/GGF_in_BR.npy 40 &\n",
      "python pixelation.py data/quark_jet_2_cut/phi_shifting_fix/60/VBF_in_SR.h5 data/quark_jet_2_cut/phi_shifting_fix/40x40/60/VBF_in_SR.npy 40 &\n",
      "python pixelation.py data/quark_jet_2_cut/phi_shifting_fix/60/VBF_in_BR.h5 data/quark_jet_2_cut/phi_shifting_fix/40x40/60/VBF_in_BR.npy 40 &\n",
      "python pixelation.py data/quark_jet_2_cut/phi_shifting_fix/60/GGF_in_SR.h5 data/quark_jet_2_cut/phi_shifting_fix/40x40/60/GGF_in_SR.npy 40 &\n",
      "python pixelation.py data/quark_jet_2_cut/phi_shifting_fix/60/GGF_in_BR.h5 data/quark_jet_2_cut/phi_shifting_fix/40x40/60/GGF_in_BR.npy 40 &\n",
      "python pixelation.py data/quark_jet_2_cut/phi_shifting_fix/90/VBF_in_SR.h5 data/quark_jet_2_cut/phi_shifting_fix/40x40/90/VBF_in_SR.npy 40 &\n",
      "python pixelation.py data/quark_jet_2_cut/phi_shifting_fix/90/VBF_in_BR.h5 data/quark_jet_2_cut/phi_shifting_fix/40x40/90/VBF_in_BR.npy 40 &\n",
      "python pixelation.py data/quark_jet_2_cut/phi_shifting_fix/90/GGF_in_SR.h5 data/quark_jet_2_cut/phi_shifting_fix/40x40/90/GGF_in_SR.npy 40 &\n",
      "python pixelation.py data/quark_jet_2_cut/phi_shifting_fix/90/GGF_in_BR.h5 data/quark_jet_2_cut/phi_shifting_fix/40x40/90/GGF_in_BR.npy 40 &\n",
      "python pixelation.py data/quark_jet_2_cut/phi_shifting_fix/120/VBF_in_SR.h5 data/quark_jet_2_cut/phi_shifting_fix/40x40/120/VBF_in_SR.npy 40 &\n",
      "python pixelation.py data/quark_jet_2_cut/phi_shifting_fix/120/VBF_in_BR.h5 data/quark_jet_2_cut/phi_shifting_fix/40x40/120/VBF_in_BR.npy 40 &\n",
      "python pixelation.py data/quark_jet_2_cut/phi_shifting_fix/120/GGF_in_SR.h5 data/quark_jet_2_cut/phi_shifting_fix/40x40/120/GGF_in_SR.npy 40 &\n",
      "python pixelation.py data/quark_jet_2_cut/phi_shifting_fix/120/GGF_in_BR.h5 data/quark_jet_2_cut/phi_shifting_fix/40x40/120/GGF_in_BR.npy 40 &\n",
      "python pixelation.py data/quark_jet_2_cut/phi_shifting_fix/150/VBF_in_SR.h5 data/quark_jet_2_cut/phi_shifting_fix/40x40/150/VBF_in_SR.npy 40 &\n",
      "python pixelation.py data/quark_jet_2_cut/phi_shifting_fix/150/VBF_in_BR.h5 data/quark_jet_2_cut/phi_shifting_fix/40x40/150/VBF_in_BR.npy 40 &\n",
      "python pixelation.py data/quark_jet_2_cut/phi_shifting_fix/150/GGF_in_SR.h5 data/quark_jet_2_cut/phi_shifting_fix/40x40/150/GGF_in_SR.npy 40 &\n",
      "python pixelation.py data/quark_jet_2_cut/phi_shifting_fix/150/GGF_in_BR.h5 data/quark_jet_2_cut/phi_shifting_fix/40x40/150/GGF_in_BR.npy 40 &\n",
      "python pixelation.py data/quark_jet_2_cut/phi_shifting_fix/180/VBF_in_SR.h5 data/quark_jet_2_cut/phi_shifting_fix/40x40/180/VBF_in_SR.npy 40 &\n",
      "python pixelation.py data/quark_jet_2_cut/phi_shifting_fix/180/VBF_in_BR.h5 data/quark_jet_2_cut/phi_shifting_fix/40x40/180/VBF_in_BR.npy 40 &\n",
      "python pixelation.py data/quark_jet_2_cut/phi_shifting_fix/180/GGF_in_SR.h5 data/quark_jet_2_cut/phi_shifting_fix/40x40/180/GGF_in_SR.npy 40 &\n",
      "python pixelation.py data/quark_jet_2_cut/phi_shifting_fix/180/GGF_in_BR.h5 data/quark_jet_2_cut/phi_shifting_fix/40x40/180/GGF_in_BR.npy 40 &\n",
      "python pixelation.py data/quark_jet_2_cut/phi_shifting_fix/210/VBF_in_SR.h5 data/quark_jet_2_cut/phi_shifting_fix/40x40/210/VBF_in_SR.npy 40 &\n",
      "python pixelation.py data/quark_jet_2_cut/phi_shifting_fix/210/VBF_in_BR.h5 data/quark_jet_2_cut/phi_shifting_fix/40x40/210/VBF_in_BR.npy 40 &\n",
      "python pixelation.py data/quark_jet_2_cut/phi_shifting_fix/210/GGF_in_SR.h5 data/quark_jet_2_cut/phi_shifting_fix/40x40/210/GGF_in_SR.npy 40 &\n",
      "python pixelation.py data/quark_jet_2_cut/phi_shifting_fix/210/GGF_in_BR.h5 data/quark_jet_2_cut/phi_shifting_fix/40x40/210/GGF_in_BR.npy 40 &\n",
      "python pixelation.py data/quark_jet_2_cut/phi_shifting_fix/240/VBF_in_SR.h5 data/quark_jet_2_cut/phi_shifting_fix/40x40/240/VBF_in_SR.npy 40 &\n",
      "python pixelation.py data/quark_jet_2_cut/phi_shifting_fix/240/VBF_in_BR.h5 data/quark_jet_2_cut/phi_shifting_fix/40x40/240/VBF_in_BR.npy 40 &\n",
      "python pixelation.py data/quark_jet_2_cut/phi_shifting_fix/240/GGF_in_SR.h5 data/quark_jet_2_cut/phi_shifting_fix/40x40/240/GGF_in_SR.npy 40 &\n",
      "python pixelation.py data/quark_jet_2_cut/phi_shifting_fix/240/GGF_in_BR.h5 data/quark_jet_2_cut/phi_shifting_fix/40x40/240/GGF_in_BR.npy 40 &\n",
      "python pixelation.py data/quark_jet_2_cut/phi_shifting_fix/270/VBF_in_SR.h5 data/quark_jet_2_cut/phi_shifting_fix/40x40/270/VBF_in_SR.npy 40 &\n",
      "python pixelation.py data/quark_jet_2_cut/phi_shifting_fix/270/VBF_in_BR.h5 data/quark_jet_2_cut/phi_shifting_fix/40x40/270/VBF_in_BR.npy 40 &\n",
      "python pixelation.py data/quark_jet_2_cut/phi_shifting_fix/270/GGF_in_SR.h5 data/quark_jet_2_cut/phi_shifting_fix/40x40/270/GGF_in_SR.npy 40 &\n",
      "python pixelation.py data/quark_jet_2_cut/phi_shifting_fix/270/GGF_in_BR.h5 data/quark_jet_2_cut/phi_shifting_fix/40x40/270/GGF_in_BR.npy 40 &\n",
      "python pixelation.py data/quark_jet_2_cut/phi_shifting_fix/300/VBF_in_SR.h5 data/quark_jet_2_cut/phi_shifting_fix/40x40/300/VBF_in_SR.npy 40 &\n",
      "python pixelation.py data/quark_jet_2_cut/phi_shifting_fix/300/VBF_in_BR.h5 data/quark_jet_2_cut/phi_shifting_fix/40x40/300/VBF_in_BR.npy 40 &\n",
      "python pixelation.py data/quark_jet_2_cut/phi_shifting_fix/300/GGF_in_SR.h5 data/quark_jet_2_cut/phi_shifting_fix/40x40/300/GGF_in_SR.npy 40 &\n",
      "python pixelation.py data/quark_jet_2_cut/phi_shifting_fix/300/GGF_in_BR.h5 data/quark_jet_2_cut/phi_shifting_fix/40x40/300/GGF_in_BR.npy 40 &\n",
      "python pixelation.py data/quark_jet_2_cut/phi_shifting_fix/330/VBF_in_SR.h5 data/quark_jet_2_cut/phi_shifting_fix/40x40/330/VBF_in_SR.npy 40 &\n",
      "python pixelation.py data/quark_jet_2_cut/phi_shifting_fix/330/VBF_in_BR.h5 data/quark_jet_2_cut/phi_shifting_fix/40x40/330/VBF_in_BR.npy 40 &\n",
      "python pixelation.py data/quark_jet_2_cut/phi_shifting_fix/330/GGF_in_SR.h5 data/quark_jet_2_cut/phi_shifting_fix/40x40/330/GGF_in_SR.npy 40 &\n",
      "python pixelation.py data/quark_jet_2_cut/phi_shifting_fix/330/GGF_in_BR.h5 data/quark_jet_2_cut/phi_shifting_fix/40x40/330/GGF_in_BR.npy 40 &\n"
     ]
    }
   ],
   "source": [
    "res = 40\n",
    "for angle in range(30, 360, 30):\n",
    "\n",
    "    h5_dir = Path(f'./data/quark_jet_2_cut/phi_shifting_fix/{angle}')\n",
    "    npy_dir = Path(f'./data/quark_jet_2_cut/phi_shifting_fix/{res}x{res}/{angle}')\n",
    "\n",
    "    npy_dir.mkdir(parents=True, exist_ok=True)\n",
    "\n",
    "    for name in ['VBF_in_SR', 'VBF_in_BR', 'GGF_in_SR', 'GGF_in_BR']:\n",
    "        h5_path = h5_dir / f'{name}.h5'\n",
    "        npy_path = npy_dir / f'{name}.npy'\n",
    "        cmd = f'python pixelation.py {h5_path} {npy_path} {res} &'\n",
    "        print(cmd)"
   ]
  },
  {
   "cell_type": "markdown",
   "metadata": {},
   "source": [
    "## $\\log(p_\\mathrm{T})$"
   ]
  },
  {
   "cell_type": "code",
   "execution_count": 2,
   "metadata": {},
   "outputs": [
    {
     "name": "stdout",
     "output_type": "stream",
     "text": [
      "python pixelation-log_pT.py data/quark_jet_2_cut/pre-processing/VBF_in_SR.h5 data/quark_jet_2_cut/pre-processing/log_pT/40x40/VBF_in_SR.npy 40 &\n",
      "python pixelation-log_pT.py data/quark_jet_2_cut/pre-processing/VBF_in_BR.h5 data/quark_jet_2_cut/pre-processing/log_pT/40x40/VBF_in_BR.npy 40 &\n",
      "python pixelation-log_pT.py data/quark_jet_2_cut/pre-processing/GGF_in_SR.h5 data/quark_jet_2_cut/pre-processing/log_pT/40x40/GGF_in_SR.npy 40 &\n",
      "python pixelation-log_pT.py data/quark_jet_2_cut/pre-processing/GGF_in_BR.h5 data/quark_jet_2_cut/pre-processing/log_pT/40x40/GGF_in_BR.npy 40 &\n"
     ]
    }
   ],
   "source": [
    "res = 40\n",
    "h5_dir = Path('./data/quark_jet_2_cut/pre-processing')\n",
    "npy_dir = Path(f'./data/quark_jet_2_cut/pre-processing/log_pT/{res}x{res}')\n",
    "\n",
    "# create output directory\n",
    "npy_dir.mkdir(parents=True, exist_ok=True)\n",
    "\n",
    "for name in ['VBF_in_SR', 'VBF_in_BR', 'GGF_in_SR', 'GGF_in_BR']:\n",
    "    h5_path = h5_dir / f'{name}.h5'\n",
    "    npy_path = npy_dir / f'{name}.npy'\n",
    "    cmd = f'python pixelation-log_pT.py {h5_path} {npy_path} {res} &'\n",
    "    print(cmd)"
   ]
  },
  {
   "cell_type": "markdown",
   "metadata": {},
   "source": [
    "## $H \\to ZZ \\to 4\\ell$"
   ]
  },
  {
   "cell_type": "code",
   "execution_count": 10,
   "metadata": {},
   "outputs": [
    {
     "name": "stdout",
     "output_type": "stream",
     "text": [
      "python pixelation.py data/ZZ_4l/quark_jet_2_cut/pre-processing/VBF_in_SR.h5 data/ZZ_4l/quark_jet_2_cut/pre-processing/40x40/VBF_in_SR.npy 40 &\n",
      "python pixelation.py data/ZZ_4l/quark_jet_2_cut/pre-processing/VBF_in_BR.h5 data/ZZ_4l/quark_jet_2_cut/pre-processing/40x40/VBF_in_BR.npy 40 &\n",
      "python pixelation.py data/ZZ_4l/quark_jet_2_cut/pre-processing/GGF_in_SR.h5 data/ZZ_4l/quark_jet_2_cut/pre-processing/40x40/GGF_in_SR.npy 40 &\n",
      "python pixelation.py data/ZZ_4l/quark_jet_2_cut/pre-processing/GGF_in_BR.h5 data/ZZ_4l/quark_jet_2_cut/pre-processing/40x40/GGF_in_BR.npy 40 &\n"
     ]
    }
   ],
   "source": [
    "res = 40\n",
    "h5_dir = Path('./data/ZZ_4l/quark_jet_2_cut/pre-processing')\n",
    "npy_dir = Path(f'./data/ZZ_4l/quark_jet_2_cut/pre-processing/{res}x{res}')\n",
    "\n",
    "# create output directory\n",
    "npy_dir.mkdir(parents=True, exist_ok=True)\n",
    "\n",
    "for name in ['VBF_in_SR', 'VBF_in_BR', 'GGF_in_SR', 'GGF_in_BR']:\n",
    "    h5_path = h5_dir / f'{name}.h5'\n",
    "    npy_path = npy_dir / f'{name}.npy'\n",
    "    cmd = f'python pixelation.py {h5_path} {npy_path} {res} &'\n",
    "    print(cmd)"
   ]
  },
  {
   "cell_type": "code",
   "execution_count": 11,
   "metadata": {},
   "outputs": [
    {
     "name": "stdout",
     "output_type": "stream",
     "text": [
      "python pixelation-remove_decay_product_info.py data/ZZ_4l/quark_jet_2_cut/pre-processing/VBF_in_SR.h5 data/ZZ_4l/quark_jet_2_cut/pre-processing/remove_product_case_4/40x40/VBF_in_SR.npy 40 4 &\n",
      "python pixelation-remove_decay_product_info.py data/ZZ_4l/quark_jet_2_cut/pre-processing/VBF_in_BR.h5 data/ZZ_4l/quark_jet_2_cut/pre-processing/remove_product_case_4/40x40/VBF_in_BR.npy 40 4 &\n",
      "python pixelation-remove_decay_product_info.py data/ZZ_4l/quark_jet_2_cut/pre-processing/GGF_in_SR.h5 data/ZZ_4l/quark_jet_2_cut/pre-processing/remove_product_case_4/40x40/GGF_in_SR.npy 40 4 &\n",
      "python pixelation-remove_decay_product_info.py data/ZZ_4l/quark_jet_2_cut/pre-processing/GGF_in_BR.h5 data/ZZ_4l/quark_jet_2_cut/pre-processing/remove_product_case_4/40x40/GGF_in_BR.npy 40 4 &\n"
     ]
    }
   ],
   "source": [
    "res = 40\n",
    "case = 4\n",
    "h5_dir = Path('./data/ZZ_4l/quark_jet_2_cut/pre-processing')\n",
    "npy_dir = Path(f'./data/ZZ_4l/quark_jet_2_cut/pre-processing/remove_product_case_{case}/{res}x{res}')\n",
    "\n",
    "# create output directory\n",
    "npy_dir.mkdir(parents=True, exist_ok=True)\n",
    "\n",
    "for name in ['VBF_in_SR', 'VBF_in_BR', 'GGF_in_SR', 'GGF_in_BR']:\n",
    "    h5_path = h5_dir / f'{name}.h5'\n",
    "    npy_path = npy_dir / f'{name}.npy'\n",
    "    cmd = f'python pixelation-remove_decay_product_info.py {h5_path} {npy_path} {res} {case} &'\n",
    "    print(cmd)"
   ]
  },
  {
   "cell_type": "code",
   "execution_count": 3,
   "metadata": {},
   "outputs": [
    {
     "name": "stdout",
     "output_type": "stream",
     "text": [
      "python pixelation-remove_decay_product_info.py data/ZZ_4l/quark_jet_2_cut/pre-processing/VBF_in_SR.h5 data/ZZ_4l/quark_jet_2_cut/pre-processing/remove_product_case_5/40x40/VBF_in_SR.npy 40 5 &\n",
      "python pixelation-remove_decay_product_info.py data/ZZ_4l/quark_jet_2_cut/pre-processing/VBF_in_BR.h5 data/ZZ_4l/quark_jet_2_cut/pre-processing/remove_product_case_5/40x40/VBF_in_BR.npy 40 5 &\n",
      "python pixelation-remove_decay_product_info.py data/ZZ_4l/quark_jet_2_cut/pre-processing/GGF_in_SR.h5 data/ZZ_4l/quark_jet_2_cut/pre-processing/remove_product_case_5/40x40/GGF_in_SR.npy 40 5 &\n",
      "python pixelation-remove_decay_product_info.py data/ZZ_4l/quark_jet_2_cut/pre-processing/GGF_in_BR.h5 data/ZZ_4l/quark_jet_2_cut/pre-processing/remove_product_case_5/40x40/GGF_in_BR.npy 40 5 &\n"
     ]
    }
   ],
   "source": [
    "res = 40\n",
    "case = 5\n",
    "h5_dir = Path('./data/ZZ_4l/quark_jet_2_cut/pre-processing')\n",
    "npy_dir = Path(f'./data/ZZ_4l/quark_jet_2_cut/pre-processing/remove_product_case_{case}/{res}x{res}')\n",
    "\n",
    "# create output directory\n",
    "npy_dir.mkdir(parents=True, exist_ok=True)\n",
    "\n",
    "for name in ['VBF_in_SR', 'VBF_in_BR', 'GGF_in_SR', 'GGF_in_BR']:\n",
    "    h5_path = h5_dir / f'{name}.h5'\n",
    "    npy_path = npy_dir / f'{name}.npy'\n",
    "    cmd = f'python pixelation-remove_decay_product_info.py {h5_path} {npy_path} {res} {case} &'\n",
    "    print(cmd)"
   ]
  },
  {
   "cell_type": "code",
   "execution_count": 7,
   "metadata": {},
   "outputs": [
    {
     "name": "stdout",
     "output_type": "stream",
     "text": [
      "python pixelation-remove_decay_product_info.py data/ZZ_4l/supervised/pre-processing/VBF.h5 data/ZZ_4l/supervised/pre-processing/remove_product_case_4/40x40/VBF.npy 40 4 &\n",
      "python pixelation-remove_decay_product_info.py data/ZZ_4l/supervised/pre-processing/GGF.h5 data/ZZ_4l/supervised/pre-processing/remove_product_case_4/40x40/GGF.npy 40 4 &\n"
     ]
    }
   ],
   "source": [
    "res = 40\n",
    "case = 4\n",
    "h5_dir = Path('./data/ZZ_4l/supervised/pre-processing')\n",
    "npy_dir = Path(f'./data/ZZ_4l/supervised/pre-processing/remove_product_case_{case}/{res}x{res}')\n",
    "\n",
    "# create output directory\n",
    "npy_dir.mkdir(parents=True, exist_ok=True)\n",
    "\n",
    "for name in ['VBF', 'GGF']:\n",
    "    h5_path = h5_dir / f'{name}.h5'\n",
    "    npy_path = npy_dir / f'{name}.npy'\n",
    "    cmd = f'python pixelation-remove_decay_product_info.py {h5_path} {npy_path} {res} {case} &'\n",
    "    print(cmd)"
   ]
  },
  {
   "cell_type": "code",
   "execution_count": 3,
   "metadata": {},
   "outputs": [
    {
     "name": "stdout",
     "output_type": "stream",
     "text": [
      "python pixelation-remove_decay_product_info.py data/ZZ_4l/supervised/pre-processing/VBF.h5 data/ZZ_4l/supervised/pre-processing/remove_product_case_5/40x40/VBF.npy 40 5 &\n",
      "python pixelation-remove_decay_product_info.py data/ZZ_4l/supervised/pre-processing/GGF.h5 data/ZZ_4l/supervised/pre-processing/remove_product_case_5/40x40/GGF.npy 40 5 &\n"
     ]
    }
   ],
   "source": [
    "res = 40\n",
    "case = 5\n",
    "h5_dir = Path('./data/ZZ_4l/supervised/pre-processing')\n",
    "npy_dir = Path(f'./data/ZZ_4l/supervised/pre-processing/remove_product_case_{case}/{res}x{res}')\n",
    "\n",
    "# create output directory\n",
    "npy_dir.mkdir(parents=True, exist_ok=True)\n",
    "\n",
    "for name in ['VBF', 'GGF']:\n",
    "    h5_path = h5_dir / f'{name}.h5'\n",
    "    npy_path = npy_dir / f'{name}.npy'\n",
    "    cmd = f'python pixelation-remove_decay_product_info.py {h5_path} {npy_path} {res} {case} &'\n",
    "    print(cmd)"
   ]
  }
 ],
 "metadata": {
  "kernelspec": {
   "display_name": "jupyter",
   "language": "python",
   "name": "python3"
  },
  "language_info": {
   "codemirror_mode": {
    "name": "ipython",
    "version": 3
   },
   "file_extension": ".py",
   "mimetype": "text/x-python",
   "name": "python",
   "nbconvert_exporter": "python",
   "pygments_lexer": "ipython3",
   "version": "3.8.16"
  }
 },
 "nbformat": 4,
 "nbformat_minor": 2
}
