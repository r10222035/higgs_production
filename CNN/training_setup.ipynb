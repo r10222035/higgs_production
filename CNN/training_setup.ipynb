{
 "cells": [
  {
   "cell_type": "code",
   "execution_count": 1,
   "metadata": {},
   "outputs": [],
   "source": [
    "import json"
   ]
  },
  {
   "cell_type": "markdown",
   "metadata": {},
   "source": [
    "# Luminosity 300 $\\text{fb}^{-1}$"
   ]
  },
  {
   "cell_type": "code",
   "execution_count": 2,
   "metadata": {},
   "outputs": [
    {
     "name": "stdout",
     "output_type": "stream",
     "text": [
      "python train_CNN.py config_files/mjj_cut_config_01.json\n",
      "python train_CNN.py config_files/mjj_cut_config_02.json\n",
      "python train_CNN.py config_files/mjj_cut_config_03.json\n",
      "python train_CNN.py config_files/mjj_cut_config_04.json\n",
      "python train_CNN.py config_files/mjj_cut_config_05.json\n",
      "python train_CNN.py config_files/mjj_cut_config_06.json\n",
      "python train_CNN.py config_files/mjj_cut_config_07.json\n",
      "python train_CNN.py config_files/mjj_cut_config_08.json\n",
      "python train_CNN.py config_files/mjj_cut_config_09.json\n",
      "python train_CNN.py config_files/mjj_cut_config_10.json\n"
     ]
    }
   ],
   "source": [
    "i = 1\n",
    "for seed in range(123, 1100, 100):\n",
    "    config_path = f'config_files/mjj_cut_config_{i:02}.json'\n",
    "    with open(config_path, 'w') as f:\n",
    "        data = {}\n",
    "\n",
    "        data['npy_paths'] = ['../Sample/data/mjj_cut/pre-processing/40x40/']\n",
    "        data['seed'] = seed\n",
    "        data['luminosity'] = 300\n",
    "        data['cut_type'] = 'mjj'\n",
    "        data['model_name'] = f'mjj_cut_{i:02}'\n",
    "        data['sample_type'] = f'mjj: 300 GeV'\n",
    "\n",
    "        json.dump(data, f, indent=4)\n",
    "\n",
    "    cmd = f'python train_CNN.py {config_path}'\n",
    "    print(cmd)\n",
    "    i += 1"
   ]
  },
  {
   "cell_type": "code",
   "execution_count": 3,
   "metadata": {},
   "outputs": [
    {
     "name": "stdout",
     "output_type": "stream",
     "text": [
      "python train_CNN.py config_files/deta_cut_config_01.json\n",
      "python train_CNN.py config_files/deta_cut_config_02.json\n",
      "python train_CNN.py config_files/deta_cut_config_03.json\n",
      "python train_CNN.py config_files/deta_cut_config_04.json\n",
      "python train_CNN.py config_files/deta_cut_config_05.json\n",
      "python train_CNN.py config_files/deta_cut_config_06.json\n",
      "python train_CNN.py config_files/deta_cut_config_07.json\n",
      "python train_CNN.py config_files/deta_cut_config_08.json\n",
      "python train_CNN.py config_files/deta_cut_config_09.json\n",
      "python train_CNN.py config_files/deta_cut_config_10.json\n"
     ]
    }
   ],
   "source": [
    "i = 1\n",
    "for seed in range(123, 1100, 100):\n",
    "    config_path = f'config_files/deta_cut_config_{i:02}.json'\n",
    "    with open(config_path, 'w') as f:\n",
    "        data = {}\n",
    "\n",
    "        data['npy_paths'] = ['../Sample/data/deta_cut/pre-processing/40x40/']\n",
    "        data['seed'] = seed\n",
    "        data['luminosity'] = 300\n",
    "        data['cut_type'] = 'deta'\n",
    "        data['model_name'] = f'deta_cut_{i:02}'\n",
    "        data['sample_type'] = f'deta: 3.1'\n",
    "\n",
    "        json.dump(data, f, indent=4)\n",
    "\n",
    "    cmd = f'python train_CNN.py {config_path}'\n",
    "    print(cmd)\n",
    "    i += 1"
   ]
  },
  {
   "cell_type": "code",
   "execution_count": 4,
   "metadata": {},
   "outputs": [
    {
     "name": "stdout",
     "output_type": "stream",
     "text": [
      "python train_CNN.py config_files/mjj_deta_cut_config_01.json\n",
      "python train_CNN.py config_files/mjj_deta_cut_config_02.json\n",
      "python train_CNN.py config_files/mjj_deta_cut_config_03.json\n",
      "python train_CNN.py config_files/mjj_deta_cut_config_04.json\n",
      "python train_CNN.py config_files/mjj_deta_cut_config_05.json\n",
      "python train_CNN.py config_files/mjj_deta_cut_config_06.json\n",
      "python train_CNN.py config_files/mjj_deta_cut_config_07.json\n",
      "python train_CNN.py config_files/mjj_deta_cut_config_08.json\n",
      "python train_CNN.py config_files/mjj_deta_cut_config_09.json\n",
      "python train_CNN.py config_files/mjj_deta_cut_config_10.json\n"
     ]
    }
   ],
   "source": [
    "i = 1\n",
    "for seed in range(123, 1100, 100):\n",
    "    config_path = f'config_files/mjj_deta_cut_config_{i:02}.json'\n",
    "    with open(config_path, 'w') as f:\n",
    "        data = {}\n",
    "\n",
    "        data['npy_paths'] = ['../Sample/data/mjj_deta_cut/pre-processing/40x40/']\n",
    "        data['seed'] = seed\n",
    "        data['luminosity'] = 300\n",
    "        data['cut_type'] = 'mjj, deta'\n",
    "        data['model_name'] = f'mjj_deta_cut_{i:02}'\n",
    "        data['sample_type'] = f'mjj: 300 GeV, deta: 3.1'\n",
    "\n",
    "        json.dump(data, f, indent=4)\n",
    "\n",
    "    cmd = f'python train_CNN.py {config_path}'\n",
    "    print(cmd)\n",
    "    i += 1"
   ]
  },
  {
   "cell_type": "markdown",
   "metadata": {},
   "source": [
    "# Luminosity 3000 $\\text{fb}^{-1}$"
   ]
  },
  {
   "cell_type": "code",
   "execution_count": 5,
   "metadata": {},
   "outputs": [
    {
     "name": "stdout",
     "output_type": "stream",
     "text": [
      "python train_CNN.py config_files/mjj_cut_L_3000_config_01.json\n",
      "python train_CNN.py config_files/mjj_cut_L_3000_config_02.json\n",
      "python train_CNN.py config_files/mjj_cut_L_3000_config_03.json\n",
      "python train_CNN.py config_files/mjj_cut_L_3000_config_04.json\n",
      "python train_CNN.py config_files/mjj_cut_L_3000_config_05.json\n",
      "python train_CNN.py config_files/mjj_cut_L_3000_config_06.json\n",
      "python train_CNN.py config_files/mjj_cut_L_3000_config_07.json\n",
      "python train_CNN.py config_files/mjj_cut_L_3000_config_08.json\n",
      "python train_CNN.py config_files/mjj_cut_L_3000_config_09.json\n",
      "python train_CNN.py config_files/mjj_cut_L_3000_config_10.json\n"
     ]
    }
   ],
   "source": [
    "i = 1\n",
    "for seed in range(123, 1100, 100):\n",
    "    config_path = f'config_files/mjj_cut_L_3000_config_{i:02}.json'\n",
    "    with open(config_path, 'w') as f:\n",
    "        data = {}\n",
    "\n",
    "        data['npy_paths'] = ['../Sample/data/mjj_cut/pre-processing/40x40/']\n",
    "        data['seed'] = seed\n",
    "        data['luminosity'] = 3000\n",
    "        data['cut_type'] = 'mjj'\n",
    "        data['model_name'] = f'mjj_cut_{i:02}'\n",
    "        data['sample_type'] = f'mjj: 300 GeV, L: 3000 fb^-1'\n",
    "\n",
    "        json.dump(data, f, indent=4)\n",
    "\n",
    "    cmd = f'python train_CNN.py {config_path}'\n",
    "    print(cmd)\n",
    "    i += 1"
   ]
  },
  {
   "cell_type": "code",
   "execution_count": 6,
   "metadata": {},
   "outputs": [
    {
     "name": "stdout",
     "output_type": "stream",
     "text": [
      "python train_CNN.py config_files/deta_cut_L_3000_config_01.json\n",
      "python train_CNN.py config_files/deta_cut_L_3000_config_02.json\n",
      "python train_CNN.py config_files/deta_cut_L_3000_config_03.json\n",
      "python train_CNN.py config_files/deta_cut_L_3000_config_04.json\n",
      "python train_CNN.py config_files/deta_cut_L_3000_config_05.json\n",
      "python train_CNN.py config_files/deta_cut_L_3000_config_06.json\n",
      "python train_CNN.py config_files/deta_cut_L_3000_config_07.json\n",
      "python train_CNN.py config_files/deta_cut_L_3000_config_08.json\n",
      "python train_CNN.py config_files/deta_cut_L_3000_config_09.json\n",
      "python train_CNN.py config_files/deta_cut_L_3000_config_10.json\n"
     ]
    }
   ],
   "source": [
    "i = 1\n",
    "for seed in range(123, 1100, 100):\n",
    "    config_path = f'config_files/deta_cut_L_3000_config_{i:02}.json'\n",
    "    with open(config_path, 'w') as f:\n",
    "        data = {}\n",
    "\n",
    "        data['npy_paths'] = ['../Sample/data/deta_cut/pre-processing/40x40/']\n",
    "        data['seed'] = seed\n",
    "        data['luminosity'] = 3000\n",
    "        data['cut_type'] = 'deta'\n",
    "        data['model_name'] = f'deta_cut_{i:02}'\n",
    "        data['sample_type'] = f'deta: 3.1, L: 3000 fb^-1'\n",
    "\n",
    "        json.dump(data, f, indent=4)\n",
    "\n",
    "    cmd = f'python train_CNN.py {config_path}'\n",
    "    print(cmd)\n",
    "    i += 1"
   ]
  },
  {
   "cell_type": "code",
   "execution_count": 7,
   "metadata": {},
   "outputs": [
    {
     "name": "stdout",
     "output_type": "stream",
     "text": [
      "python train_CNN.py config_files/mjj_deta_cut_L_3000_config_01.json\n",
      "python train_CNN.py config_files/mjj_deta_cut_L_3000_config_02.json\n",
      "python train_CNN.py config_files/mjj_deta_cut_L_3000_config_03.json\n",
      "python train_CNN.py config_files/mjj_deta_cut_L_3000_config_04.json\n",
      "python train_CNN.py config_files/mjj_deta_cut_L_3000_config_05.json\n",
      "python train_CNN.py config_files/mjj_deta_cut_L_3000_config_06.json\n",
      "python train_CNN.py config_files/mjj_deta_cut_L_3000_config_07.json\n",
      "python train_CNN.py config_files/mjj_deta_cut_L_3000_config_08.json\n",
      "python train_CNN.py config_files/mjj_deta_cut_L_3000_config_09.json\n",
      "python train_CNN.py config_files/mjj_deta_cut_L_3000_config_10.json\n"
     ]
    }
   ],
   "source": [
    "i = 1\n",
    "for seed in range(123, 1100, 100):\n",
    "    config_path = f'config_files/mjj_deta_cut_L_3000_config_{i:02}.json'\n",
    "    with open(config_path, 'w') as f:\n",
    "        data = {}\n",
    "\n",
    "        data['npy_paths'] = ['../Sample/data/mjj_deta_cut/pre-processing/40x40/']\n",
    "        data['seed'] = seed\n",
    "        data['luminosity'] = 3000\n",
    "        data['cut_type'] = 'mjj, deta'\n",
    "        data['model_name'] = f'mjj_deta_cut_{i:02}'\n",
    "        data['sample_type'] = f'mjj: 300 GeV, deta: 3.1, L: 3000 fb^-1'\n",
    "\n",
    "        json.dump(data, f, indent=4)\n",
    "\n",
    "    cmd = f'python train_CNN.py {config_path}'\n",
    "    print(cmd)\n",
    "    i += 1"
   ]
  },
  {
   "cell_type": "markdown",
   "metadata": {},
   "source": [
    "# Luminosity 3000 $\\text{fb}^{-1}$ with $p_{\\text{T}}$ normalization"
   ]
  },
  {
   "cell_type": "code",
   "execution_count": 8,
   "metadata": {},
   "outputs": [
    {
     "name": "stdout",
     "output_type": "stream",
     "text": [
      "python train_CNN.py config_files/mjj_cut_L_3000_pT_norm_config_01.json\n",
      "python train_CNN.py config_files/mjj_cut_L_3000_pT_norm_config_02.json\n",
      "python train_CNN.py config_files/mjj_cut_L_3000_pT_norm_config_03.json\n",
      "python train_CNN.py config_files/mjj_cut_L_3000_pT_norm_config_04.json\n",
      "python train_CNN.py config_files/mjj_cut_L_3000_pT_norm_config_05.json\n",
      "python train_CNN.py config_files/mjj_cut_L_3000_pT_norm_config_06.json\n",
      "python train_CNN.py config_files/mjj_cut_L_3000_pT_norm_config_07.json\n",
      "python train_CNN.py config_files/mjj_cut_L_3000_pT_norm_config_08.json\n",
      "python train_CNN.py config_files/mjj_cut_L_3000_pT_norm_config_09.json\n",
      "python train_CNN.py config_files/mjj_cut_L_3000_pT_norm_config_10.json\n"
     ]
    }
   ],
   "source": [
    "i = 1\n",
    "for seed in range(123, 1100, 100):\n",
    "    config_path = f'config_files/mjj_cut_L_3000_pT_norm_config_{i:02}.json'\n",
    "    with open(config_path, 'w') as f:\n",
    "        data = {}\n",
    "\n",
    "        data['npy_paths'] = ['../Sample/data/mjj_cut/pre-processing/40x40/']\n",
    "        data['seed'] = seed\n",
    "        data['luminosity'] = 3000\n",
    "        data['cut_type'] = 'mjj'\n",
    "        data['model_name'] = f'mjj_cut_{i:02}'\n",
    "        data['sample_type'] = f'mjj: 300 GeV, L: 3000 fb^-1, pT normalized'\n",
    "\n",
    "        json.dump(data, f, indent=4)\n",
    "\n",
    "    cmd = f'python train_CNN.py {config_path}'\n",
    "    print(cmd)\n",
    "    i += 1"
   ]
  },
  {
   "cell_type": "code",
   "execution_count": 9,
   "metadata": {},
   "outputs": [
    {
     "name": "stdout",
     "output_type": "stream",
     "text": [
      "python train_CNN.py config_files/deta_cut_L_3000_pT_norm_config_01.json\n",
      "python train_CNN.py config_files/deta_cut_L_3000_pT_norm_config_02.json\n",
      "python train_CNN.py config_files/deta_cut_L_3000_pT_norm_config_03.json\n",
      "python train_CNN.py config_files/deta_cut_L_3000_pT_norm_config_04.json\n",
      "python train_CNN.py config_files/deta_cut_L_3000_pT_norm_config_05.json\n",
      "python train_CNN.py config_files/deta_cut_L_3000_pT_norm_config_06.json\n",
      "python train_CNN.py config_files/deta_cut_L_3000_pT_norm_config_07.json\n",
      "python train_CNN.py config_files/deta_cut_L_3000_pT_norm_config_08.json\n",
      "python train_CNN.py config_files/deta_cut_L_3000_pT_norm_config_09.json\n",
      "python train_CNN.py config_files/deta_cut_L_3000_pT_norm_config_10.json\n"
     ]
    }
   ],
   "source": [
    "i = 1\n",
    "for seed in range(123, 1100, 100):\n",
    "    config_path = f'config_files/deta_cut_L_3000_pT_norm_config_{i:02}.json'\n",
    "    with open(config_path, 'w') as f:\n",
    "        data = {}\n",
    "\n",
    "        data['npy_paths'] = ['../Sample/data/deta_cut/pre-processing/40x40/']\n",
    "        data['seed'] = seed\n",
    "        data['luminosity'] = 3000\n",
    "        data['cut_type'] = 'deta'\n",
    "        data['model_name'] = f'deta_cut_{i:02}'\n",
    "        data['sample_type'] = f'deta: 3.1, L: 3000 fb^-1, pT normalized'\n",
    "\n",
    "        json.dump(data, f, indent=4)\n",
    "\n",
    "    cmd = f'python train_CNN.py {config_path}'\n",
    "    print(cmd)\n",
    "    i += 1"
   ]
  },
  {
   "cell_type": "code",
   "execution_count": 10,
   "metadata": {},
   "outputs": [
    {
     "name": "stdout",
     "output_type": "stream",
     "text": [
      "python train_CNN.py config_files/mjj_deta_cut_L_3000_pT_norm_config_01.json\n",
      "python train_CNN.py config_files/mjj_deta_cut_L_3000_pT_norm_config_02.json\n",
      "python train_CNN.py config_files/mjj_deta_cut_L_3000_pT_norm_config_03.json\n",
      "python train_CNN.py config_files/mjj_deta_cut_L_3000_pT_norm_config_04.json\n",
      "python train_CNN.py config_files/mjj_deta_cut_L_3000_pT_norm_config_05.json\n",
      "python train_CNN.py config_files/mjj_deta_cut_L_3000_pT_norm_config_06.json\n",
      "python train_CNN.py config_files/mjj_deta_cut_L_3000_pT_norm_config_07.json\n",
      "python train_CNN.py config_files/mjj_deta_cut_L_3000_pT_norm_config_08.json\n",
      "python train_CNN.py config_files/mjj_deta_cut_L_3000_pT_norm_config_09.json\n",
      "python train_CNN.py config_files/mjj_deta_cut_L_3000_pT_norm_config_10.json\n"
     ]
    }
   ],
   "source": [
    "i = 1\n",
    "for seed in range(123, 1100, 100):\n",
    "    config_path = f'config_files/mjj_deta_cut_L_3000_pT_norm_config_{i:02}.json'\n",
    "    with open(config_path, 'w') as f:\n",
    "        data = {}\n",
    "\n",
    "        data['npy_paths'] = ['../Sample/data/mjj_deta_cut/pre-processing/40x40/']\n",
    "        data['seed'] = seed\n",
    "        data['luminosity'] = 3000\n",
    "        data['cut_type'] = 'mjj, deta'\n",
    "        data['model_name'] = f'mjj_deta_cut_{i:02}'\n",
    "        data['sample_type'] = f'mjj: 300 GeV, deta: 3.1, L: 3000 fb^-1, pT normalized'\n",
    "\n",
    "        json.dump(data, f, indent=4)\n",
    "\n",
    "    cmd = f'python train_CNN.py {config_path}'\n",
    "    print(cmd)\n",
    "    i += 1"
   ]
  },
  {
   "cell_type": "markdown",
   "metadata": {},
   "source": [
    "# Luminosity 3000 $\\text{fb}^{-1}$ with $p_{\\text{T}}$ normalization, $m_{jj}$: 225 GeV, $\\Delta\\eta$: 2.3"
   ]
  },
  {
   "cell_type": "code",
   "execution_count": 11,
   "metadata": {},
   "outputs": [
    {
     "name": "stdout",
     "output_type": "stream",
     "text": [
      "python train_CNN.py config_files/mjj_225_cut_L_3000_pT_norm_config_01.json\n",
      "python train_CNN.py config_files/mjj_225_cut_L_3000_pT_norm_config_02.json\n",
      "python train_CNN.py config_files/mjj_225_cut_L_3000_pT_norm_config_03.json\n",
      "python train_CNN.py config_files/mjj_225_cut_L_3000_pT_norm_config_04.json\n",
      "python train_CNN.py config_files/mjj_225_cut_L_3000_pT_norm_config_05.json\n",
      "python train_CNN.py config_files/mjj_225_cut_L_3000_pT_norm_config_06.json\n",
      "python train_CNN.py config_files/mjj_225_cut_L_3000_pT_norm_config_07.json\n",
      "python train_CNN.py config_files/mjj_225_cut_L_3000_pT_norm_config_08.json\n",
      "python train_CNN.py config_files/mjj_225_cut_L_3000_pT_norm_config_09.json\n",
      "python train_CNN.py config_files/mjj_225_cut_L_3000_pT_norm_config_10.json\n",
      "python train_CNN.py config_files/deta_2.3_cut_L_3000_pT_norm_config_01.json\n",
      "python train_CNN.py config_files/deta_2.3_cut_L_3000_pT_norm_config_02.json\n",
      "python train_CNN.py config_files/deta_2.3_cut_L_3000_pT_norm_config_03.json\n",
      "python train_CNN.py config_files/deta_2.3_cut_L_3000_pT_norm_config_04.json\n",
      "python train_CNN.py config_files/deta_2.3_cut_L_3000_pT_norm_config_05.json\n",
      "python train_CNN.py config_files/deta_2.3_cut_L_3000_pT_norm_config_06.json\n",
      "python train_CNN.py config_files/deta_2.3_cut_L_3000_pT_norm_config_07.json\n",
      "python train_CNN.py config_files/deta_2.3_cut_L_3000_pT_norm_config_08.json\n",
      "python train_CNN.py config_files/deta_2.3_cut_L_3000_pT_norm_config_09.json\n",
      "python train_CNN.py config_files/deta_2.3_cut_L_3000_pT_norm_config_10.json\n",
      "python train_CNN.py config_files/mjj_225_deta_2.3_cut_L_3000_pT_norm_config_01.json\n",
      "python train_CNN.py config_files/mjj_225_deta_2.3_cut_L_3000_pT_norm_config_02.json\n",
      "python train_CNN.py config_files/mjj_225_deta_2.3_cut_L_3000_pT_norm_config_03.json\n",
      "python train_CNN.py config_files/mjj_225_deta_2.3_cut_L_3000_pT_norm_config_04.json\n",
      "python train_CNN.py config_files/mjj_225_deta_2.3_cut_L_3000_pT_norm_config_05.json\n",
      "python train_CNN.py config_files/mjj_225_deta_2.3_cut_L_3000_pT_norm_config_06.json\n",
      "python train_CNN.py config_files/mjj_225_deta_2.3_cut_L_3000_pT_norm_config_07.json\n",
      "python train_CNN.py config_files/mjj_225_deta_2.3_cut_L_3000_pT_norm_config_08.json\n",
      "python train_CNN.py config_files/mjj_225_deta_2.3_cut_L_3000_pT_norm_config_09.json\n",
      "python train_CNN.py config_files/mjj_225_deta_2.3_cut_L_3000_pT_norm_config_10.json\n"
     ]
    }
   ],
   "source": [
    "i = 1\n",
    "for seed in range(123, 1100, 100):\n",
    "    config_path = f'config_files/mjj_225_cut_L_3000_pT_norm_config_{i:02}.json'\n",
    "    with open(config_path, 'w') as f:\n",
    "        data = {}\n",
    "\n",
    "        data['npy_paths'] = ['../Sample/data/mjj_225_cut/pre-processing/40x40/']\n",
    "        data['seed'] = seed\n",
    "        data['luminosity'] = 3000\n",
    "        data['cut_type'] = 'mjj'\n",
    "        data['model_name'] = f'mjj_cut_{i:02}'\n",
    "        data['sample_type'] = f'mjj: 225 GeV, L: 3000 fb^-1, pT normalized'\n",
    "\n",
    "        json.dump(data, f, indent=4)\n",
    "\n",
    "    cmd = f'python train_CNN.py {config_path}'\n",
    "    print(cmd)\n",
    "    i += 1\n",
    "\n",
    "i = 1\n",
    "for seed in range(123, 1100, 100):\n",
    "    config_path = f'config_files/deta_2.3_cut_L_3000_pT_norm_config_{i:02}.json'\n",
    "    with open(config_path, 'w') as f:\n",
    "        data = {}\n",
    "\n",
    "        data['npy_paths'] = ['../Sample/data/deta_2.3_cut/pre-processing/40x40/']\n",
    "        data['seed'] = seed\n",
    "        data['luminosity'] = 3000\n",
    "        data['cut_type'] = 'deta'\n",
    "        data['model_name'] = f'deta_cut_{i:02}'\n",
    "        data['sample_type'] = f'deta: 2.3, L: 3000 fb^-1, pT normalized'\n",
    "\n",
    "        json.dump(data, f, indent=4)\n",
    "\n",
    "    cmd = f'python train_CNN.py {config_path}'\n",
    "    print(cmd)\n",
    "    i += 1\n",
    "\n",
    "i = 1\n",
    "for seed in range(123, 1100, 100):\n",
    "    config_path = f'config_files/mjj_225_deta_2.3_cut_L_3000_pT_norm_config_{i:02}.json'\n",
    "    with open(config_path, 'w') as f:\n",
    "        data = {}\n",
    "\n",
    "        data['npy_paths'] = ['../Sample/data/mjj_225_deta_2.3_cut/pre-processing/40x40/']\n",
    "        data['seed'] = seed\n",
    "        data['luminosity'] = 3000\n",
    "        data['cut_type'] = 'mjj, deta'\n",
    "        data['model_name'] = f'mjj_deta_cut_{i:02}'\n",
    "        data['sample_type'] = f'mjj: 225 GeV, deta: 2.3, L: 3000 fb^-1, pT normalized'\n",
    "\n",
    "        json.dump(data, f, indent=4)\n",
    "\n",
    "    cmd = f'python train_CNN.py {config_path}'\n",
    "    print(cmd)\n",
    "    i += 1"
   ]
  },
  {
   "cell_type": "markdown",
   "metadata": {},
   "source": [
    "# Supervised training"
   ]
  },
  {
   "cell_type": "code",
   "execution_count": 12,
   "metadata": {},
   "outputs": [
    {
     "name": "stdout",
     "output_type": "stream",
     "text": [
      "python train_CNN_supervised.py config_files/supervised_pT_norm_config_01.json\n",
      "python train_CNN_supervised.py config_files/supervised_pT_norm_config_02.json\n",
      "python train_CNN_supervised.py config_files/supervised_pT_norm_config_03.json\n",
      "python train_CNN_supervised.py config_files/supervised_pT_norm_config_04.json\n",
      "python train_CNN_supervised.py config_files/supervised_pT_norm_config_05.json\n",
      "python train_CNN_supervised.py config_files/supervised_pT_norm_config_06.json\n",
      "python train_CNN_supervised.py config_files/supervised_pT_norm_config_07.json\n",
      "python train_CNN_supervised.py config_files/supervised_pT_norm_config_08.json\n",
      "python train_CNN_supervised.py config_files/supervised_pT_norm_config_09.json\n",
      "python train_CNN_supervised.py config_files/supervised_pT_norm_config_10.json\n"
     ]
    }
   ],
   "source": [
    "i = 1\n",
    "for seed in range(123, 1100, 100):\n",
    "    config_path = f'config_files/supervised_pT_norm_config_{i:02}.json'\n",
    "    with open(config_path, 'w') as f:\n",
    "        data = {}\n",
    "\n",
    "        data['npy_path'] = '../Sample/data/supervised/pre-processing/40x40/'\n",
    "        data['seed'] = seed\n",
    "        data['n_train'] = 100000\n",
    "        data['n_val'] = 25000\n",
    "        data['n_test'] = 25000\n",
    "\n",
    "        data['model_name'] = f'supervised_{i:02}'\n",
    "        data['sample_type'] = f'pure, pT normalized'\n",
    "\n",
    "        json.dump(data, f, indent=4)\n",
    "\n",
    "    cmd = f'python train_CNN_supervised.py {config_path}'\n",
    "    print(cmd)\n",
    "    i += 1"
   ]
  },
  {
   "cell_type": "markdown",
   "metadata": {},
   "source": [
    "# Gluon jet cut"
   ]
  },
  {
   "cell_type": "code",
   "execution_count": 13,
   "metadata": {},
   "outputs": [
    {
     "name": "stdout",
     "output_type": "stream",
     "text": [
      "python train_CNN.py config_files/gluon_jet_2_cut_L_3000_pT_norm_config_01.json\n",
      "python train_CNN.py config_files/gluon_jet_2_cut_L_3000_pT_norm_config_02.json\n",
      "python train_CNN.py config_files/gluon_jet_2_cut_L_3000_pT_norm_config_03.json\n",
      "python train_CNN.py config_files/gluon_jet_2_cut_L_3000_pT_norm_config_04.json\n",
      "python train_CNN.py config_files/gluon_jet_2_cut_L_3000_pT_norm_config_05.json\n",
      "python train_CNN.py config_files/gluon_jet_2_cut_L_3000_pT_norm_config_06.json\n",
      "python train_CNN.py config_files/gluon_jet_2_cut_L_3000_pT_norm_config_07.json\n",
      "python train_CNN.py config_files/gluon_jet_2_cut_L_3000_pT_norm_config_08.json\n",
      "python train_CNN.py config_files/gluon_jet_2_cut_L_3000_pT_norm_config_09.json\n",
      "python train_CNN.py config_files/gluon_jet_2_cut_L_3000_pT_norm_config_10.json\n",
      "python train_CNN.py config_files/gluon_jet_1_cut_L_3000_pT_norm_config_01.json\n",
      "python train_CNN.py config_files/gluon_jet_1_cut_L_3000_pT_norm_config_02.json\n",
      "python train_CNN.py config_files/gluon_jet_1_cut_L_3000_pT_norm_config_03.json\n",
      "python train_CNN.py config_files/gluon_jet_1_cut_L_3000_pT_norm_config_04.json\n",
      "python train_CNN.py config_files/gluon_jet_1_cut_L_3000_pT_norm_config_05.json\n",
      "python train_CNN.py config_files/gluon_jet_1_cut_L_3000_pT_norm_config_06.json\n",
      "python train_CNN.py config_files/gluon_jet_1_cut_L_3000_pT_norm_config_07.json\n",
      "python train_CNN.py config_files/gluon_jet_1_cut_L_3000_pT_norm_config_08.json\n",
      "python train_CNN.py config_files/gluon_jet_1_cut_L_3000_pT_norm_config_09.json\n",
      "python train_CNN.py config_files/gluon_jet_1_cut_L_3000_pT_norm_config_10.json\n"
     ]
    }
   ],
   "source": [
    "i = 1\n",
    "for seed in range(123, 1100, 100):\n",
    "    config_path = f'config_files/gluon_jet_2_cut_L_3000_pT_norm_config_{i:02}.json'\n",
    "    with open(config_path, 'w') as f:\n",
    "        data = {}\n",
    "\n",
    "        data['npy_paths'] = ['../Sample/data/gluon_jet_2_cut/pre-processing/40x40/']\n",
    "        data['seed'] = seed\n",
    "        data['luminosity'] = 3000\n",
    "        data['cut_type'] = 'gluon_jet_2'\n",
    "        data['GGF_cutflow_file'] = '../Sample/selection_results_GGF_gluon_jet.npy'\n",
    "        data['VBF_cutflow_file'] = '../Sample/selection_results_VBF_gluon_jet.npy'\n",
    "        data['model_name'] = f'gluon_jet_2_cut_{i:02}'\n",
    "        data['sample_type'] = f'gluon jet: = 2, L: 3000 fb^-1, pT normalized'\n",
    "\n",
    "        json.dump(data, f, indent=4)\n",
    "\n",
    "    cmd = f'python train_CNN.py {config_path}'\n",
    "    print(cmd)\n",
    "    i += 1\n",
    "\n",
    "i = 1\n",
    "for seed in range(123, 1100, 100):\n",
    "    config_path = f'config_files/gluon_jet_1_cut_L_3000_pT_norm_config_{i:02}.json'\n",
    "    with open(config_path, 'w') as f:\n",
    "        data = {}\n",
    "\n",
    "        data['npy_paths'] = ['../Sample/data/gluon_jet_1_cut/pre-processing/40x40/']\n",
    "        data['seed'] = seed\n",
    "        data['luminosity'] = 3000\n",
    "        data['cut_type'] = 'gluon_jet_1'\n",
    "        data['GGF_cutflow_file'] = '../Sample/selection_results_GGF_gluon_jet.npy'\n",
    "        data['VBF_cutflow_file'] = '../Sample/selection_results_VBF_gluon_jet.npy'\n",
    "        data['model_name'] = f'gluon_jet_1_cut_{i:02}'\n",
    "        data['sample_type'] = f'gluon jet: >= 1, L: 3000 fb^-1, pT normalized'\n",
    "\n",
    "        json.dump(data, f, indent=4)\n",
    "\n",
    "    cmd = f'python train_CNN.py {config_path}'\n",
    "    print(cmd)\n",
    "    i += 1"
   ]
  },
  {
   "cell_type": "markdown",
   "metadata": {},
   "source": [
    "# 2 quark & 2 gluon jet cut"
   ]
  },
  {
   "cell_type": "code",
   "execution_count": 14,
   "metadata": {},
   "outputs": [
    {
     "name": "stdout",
     "output_type": "stream",
     "text": [
      "python train_CNN.py config_files/quark_gluon_jet_2_cut_L_3000_pT_norm_config_01.json\n",
      "python train_CNN.py config_files/quark_gluon_jet_2_cut_L_3000_pT_norm_config_02.json\n",
      "python train_CNN.py config_files/quark_gluon_jet_2_cut_L_3000_pT_norm_config_03.json\n",
      "python train_CNN.py config_files/quark_gluon_jet_2_cut_L_3000_pT_norm_config_04.json\n",
      "python train_CNN.py config_files/quark_gluon_jet_2_cut_L_3000_pT_norm_config_05.json\n",
      "python train_CNN.py config_files/quark_gluon_jet_2_cut_L_3000_pT_norm_config_06.json\n",
      "python train_CNN.py config_files/quark_gluon_jet_2_cut_L_3000_pT_norm_config_07.json\n",
      "python train_CNN.py config_files/quark_gluon_jet_2_cut_L_3000_pT_norm_config_08.json\n",
      "python train_CNN.py config_files/quark_gluon_jet_2_cut_L_3000_pT_norm_config_09.json\n",
      "python train_CNN.py config_files/quark_gluon_jet_2_cut_L_3000_pT_norm_config_10.json\n"
     ]
    }
   ],
   "source": [
    "i = 1\n",
    "for seed in range(123, 1100, 100):\n",
    "    config_path = f'config_files/quark_gluon_jet_2_cut_L_3000_pT_norm_config_{i:02}.json'\n",
    "    with open(config_path, 'w') as f:\n",
    "        data = {}\n",
    "\n",
    "        data['npy_paths'] = ['../Sample/data/quark_gluon_jet_2_cut/pre-processing/40x40/']\n",
    "        data['seed'] = seed\n",
    "        data['luminosity'] = 3000\n",
    "        data['cut_type'] = 'quark_gluon_jet_2'\n",
    "        data['GGF_cutflow_file'] = '../Sample/selection_results_GGF_2q2g_jet.npy'\n",
    "        data['VBF_cutflow_file'] = '../Sample/selection_results_VBF_2q2g_jet.npy'\n",
    "        data['model_name'] = f'quark_gluon_jet_2_cut_{i:02}'\n",
    "        data['sample_type'] = f'quark jet: 2, gluon jet: 2, L: 3000 fb^-1, pT normalized'\n",
    "\n",
    "        json.dump(data, f, indent=4)\n",
    "\n",
    "    cmd = f'python train_CNN.py {config_path}'\n",
    "    print(cmd)\n",
    "    i += 1"
   ]
  },
  {
   "cell_type": "markdown",
   "metadata": {},
   "source": [
    "# Jet tagging without $p_\\text{T}$ normalization"
   ]
  },
  {
   "cell_type": "code",
   "execution_count": 15,
   "metadata": {},
   "outputs": [
    {
     "name": "stdout",
     "output_type": "stream",
     "text": [
      "python train_CNN.py config_files/gluon_jet_2_cut_L_3000_config_01.json\n",
      "python train_CNN.py config_files/gluon_jet_2_cut_L_3000_config_02.json\n",
      "python train_CNN.py config_files/gluon_jet_2_cut_L_3000_config_03.json\n",
      "python train_CNN.py config_files/gluon_jet_2_cut_L_3000_config_04.json\n",
      "python train_CNN.py config_files/gluon_jet_2_cut_L_3000_config_05.json\n",
      "python train_CNN.py config_files/gluon_jet_2_cut_L_3000_config_06.json\n",
      "python train_CNN.py config_files/gluon_jet_2_cut_L_3000_config_07.json\n",
      "python train_CNN.py config_files/gluon_jet_2_cut_L_3000_config_08.json\n",
      "python train_CNN.py config_files/gluon_jet_2_cut_L_3000_config_09.json\n",
      "python train_CNN.py config_files/gluon_jet_2_cut_L_3000_config_10.json\n",
      "python train_CNN.py config_files/gluon_jet_1_cut_L_3000_config_01.json\n",
      "python train_CNN.py config_files/gluon_jet_1_cut_L_3000_config_02.json\n",
      "python train_CNN.py config_files/gluon_jet_1_cut_L_3000_config_03.json\n",
      "python train_CNN.py config_files/gluon_jet_1_cut_L_3000_config_04.json\n",
      "python train_CNN.py config_files/gluon_jet_1_cut_L_3000_config_05.json\n",
      "python train_CNN.py config_files/gluon_jet_1_cut_L_3000_config_06.json\n",
      "python train_CNN.py config_files/gluon_jet_1_cut_L_3000_config_07.json\n",
      "python train_CNN.py config_files/gluon_jet_1_cut_L_3000_config_08.json\n",
      "python train_CNN.py config_files/gluon_jet_1_cut_L_3000_config_09.json\n",
      "python train_CNN.py config_files/gluon_jet_1_cut_L_3000_config_10.json\n",
      "python train_CNN.py config_files/quark_gluon_jet_2_cut_L_3000_config_01.json\n",
      "python train_CNN.py config_files/quark_gluon_jet_2_cut_L_3000_config_02.json\n",
      "python train_CNN.py config_files/quark_gluon_jet_2_cut_L_3000_config_03.json\n",
      "python train_CNN.py config_files/quark_gluon_jet_2_cut_L_3000_config_04.json\n",
      "python train_CNN.py config_files/quark_gluon_jet_2_cut_L_3000_config_05.json\n",
      "python train_CNN.py config_files/quark_gluon_jet_2_cut_L_3000_config_06.json\n",
      "python train_CNN.py config_files/quark_gluon_jet_2_cut_L_3000_config_07.json\n",
      "python train_CNN.py config_files/quark_gluon_jet_2_cut_L_3000_config_08.json\n",
      "python train_CNN.py config_files/quark_gluon_jet_2_cut_L_3000_config_09.json\n",
      "python train_CNN.py config_files/quark_gluon_jet_2_cut_L_3000_config_10.json\n"
     ]
    }
   ],
   "source": [
    "i = 1\n",
    "for seed in range(123, 1100, 100):\n",
    "    config_path = f'config_files/gluon_jet_2_cut_L_3000_config_{i:02}.json'\n",
    "    with open(config_path, 'w') as f:\n",
    "        data = {}\n",
    "\n",
    "        data['npy_paths'] = ['../Sample/data/gluon_jet_2_cut/pre-processing/40x40/']\n",
    "        data['seed'] = seed\n",
    "        data['luminosity'] = 3000\n",
    "        data['cut_type'] = 'gluon_jet_2'\n",
    "        data['GGF_cutflow_file'] = '../Sample/selection_results_GGF_gluon_jet.npy'\n",
    "        data['VBF_cutflow_file'] = '../Sample/selection_results_VBF_gluon_jet.npy'\n",
    "        data['model_name'] = f'gluon_jet_2_cut_{i:02}'\n",
    "        data['sample_type'] = f'gluon jet: = 2, L: 3000 fb^-1'\n",
    "\n",
    "        json.dump(data, f, indent=4)\n",
    "\n",
    "    cmd = f'python train_CNN.py {config_path}'\n",
    "    print(cmd)\n",
    "    i += 1\n",
    "\n",
    "i = 1\n",
    "for seed in range(123, 1100, 100):\n",
    "    config_path = f'config_files/gluon_jet_1_cut_L_3000_config_{i:02}.json'\n",
    "    with open(config_path, 'w') as f:\n",
    "        data = {}\n",
    "\n",
    "        data['npy_paths'] = ['../Sample/data/gluon_jet_1_cut/pre-processing/40x40/']\n",
    "        data['seed'] = seed\n",
    "        data['luminosity'] = 3000\n",
    "        data['cut_type'] = 'gluon_jet_1'\n",
    "        data['GGF_cutflow_file'] = '../Sample/selection_results_GGF_gluon_jet.npy'\n",
    "        data['VBF_cutflow_file'] = '../Sample/selection_results_VBF_gluon_jet.npy'\n",
    "        data['model_name'] = f'gluon_jet_1_cut_{i:02}'\n",
    "        data['sample_type'] = f'gluon jet: >= 1, L: 3000 fb^-1'\n",
    "\n",
    "        json.dump(data, f, indent=4)\n",
    "\n",
    "    cmd = f'python train_CNN.py {config_path}'\n",
    "    print(cmd)\n",
    "    i += 1\n",
    "\n",
    "i = 1\n",
    "for seed in range(123, 1100, 100):\n",
    "    config_path = f'config_files/quark_gluon_jet_2_cut_L_3000_config_{i:02}.json'\n",
    "    with open(config_path, 'w') as f:\n",
    "        data = {}\n",
    "\n",
    "        data['npy_paths'] = ['../Sample/data/quark_gluon_jet_2_cut/pre-processing/40x40/']\n",
    "        data['seed'] = seed\n",
    "        data['luminosity'] = 3000\n",
    "        data['cut_type'] = 'quark_gluon_jet_2'\n",
    "        data['GGF_cutflow_file'] = '../Sample/selection_results_GGF_2q2g_jet.npy'\n",
    "        data['VBF_cutflow_file'] = '../Sample/selection_results_VBF_2q2g_jet.npy'\n",
    "        data['model_name'] = f'quark_gluon_jet_2_cut_{i:02}'\n",
    "        data['sample_type'] = f'quark jet: 2, gluon jet: 2, L: 3000 fb^-1'\n",
    "\n",
    "        json.dump(data, f, indent=4)\n",
    "\n",
    "    cmd = f'python train_CNN.py {config_path}'\n",
    "    print(cmd)\n",
    "    i += 1"
   ]
  },
  {
   "cell_type": "markdown",
   "metadata": {},
   "source": [
    "# Jet tagging without $p_\\text{T}$ normalization, loss weighted"
   ]
  },
  {
   "cell_type": "code",
   "execution_count": 16,
   "metadata": {},
   "outputs": [
    {
     "name": "stdout",
     "output_type": "stream",
     "text": [
      "python train_CNN.py config_files/quark_jet_2_cut_L_3000_config_01.json\n",
      "python train_CNN.py config_files/quark_jet_2_cut_L_3000_config_02.json\n",
      "python train_CNN.py config_files/quark_jet_2_cut_L_3000_config_03.json\n",
      "python train_CNN.py config_files/quark_jet_2_cut_L_3000_config_04.json\n",
      "python train_CNN.py config_files/quark_jet_2_cut_L_3000_config_05.json\n",
      "python train_CNN.py config_files/quark_jet_2_cut_L_3000_config_06.json\n",
      "python train_CNN.py config_files/quark_jet_2_cut_L_3000_config_07.json\n",
      "python train_CNN.py config_files/quark_jet_2_cut_L_3000_config_08.json\n",
      "python train_CNN.py config_files/quark_jet_2_cut_L_3000_config_09.json\n",
      "python train_CNN.py config_files/quark_jet_2_cut_L_3000_config_10.json\n",
      "python train_CNN.py config_files/quark_jet_1_cut_L_3000_config_01.json\n",
      "python train_CNN.py config_files/quark_jet_1_cut_L_3000_config_02.json\n",
      "python train_CNN.py config_files/quark_jet_1_cut_L_3000_config_03.json\n",
      "python train_CNN.py config_files/quark_jet_1_cut_L_3000_config_04.json\n",
      "python train_CNN.py config_files/quark_jet_1_cut_L_3000_config_05.json\n",
      "python train_CNN.py config_files/quark_jet_1_cut_L_3000_config_06.json\n",
      "python train_CNN.py config_files/quark_jet_1_cut_L_3000_config_07.json\n",
      "python train_CNN.py config_files/quark_jet_1_cut_L_3000_config_08.json\n",
      "python train_CNN.py config_files/quark_jet_1_cut_L_3000_config_09.json\n",
      "python train_CNN.py config_files/quark_jet_1_cut_L_3000_config_10.json\n",
      "python train_CNN.py config_files/quark_gluon_jet_2_cut_L_3000_config_01.json\n",
      "python train_CNN.py config_files/quark_gluon_jet_2_cut_L_3000_config_02.json\n",
      "python train_CNN.py config_files/quark_gluon_jet_2_cut_L_3000_config_03.json\n",
      "python train_CNN.py config_files/quark_gluon_jet_2_cut_L_3000_config_04.json\n",
      "python train_CNN.py config_files/quark_gluon_jet_2_cut_L_3000_config_05.json\n",
      "python train_CNN.py config_files/quark_gluon_jet_2_cut_L_3000_config_06.json\n",
      "python train_CNN.py config_files/quark_gluon_jet_2_cut_L_3000_config_07.json\n",
      "python train_CNN.py config_files/quark_gluon_jet_2_cut_L_3000_config_08.json\n",
      "python train_CNN.py config_files/quark_gluon_jet_2_cut_L_3000_config_09.json\n",
      "python train_CNN.py config_files/quark_gluon_jet_2_cut_L_3000_config_10.json\n"
     ]
    }
   ],
   "source": [
    "i = 1\n",
    "for seed in range(123, 1100, 100):\n",
    "    config_path = f'config_files/quark_jet_2_cut_L_3000_config_{i:02}.json'\n",
    "    with open(config_path, 'w') as f:\n",
    "        data = {}\n",
    "\n",
    "        data['npy_paths'] = ['../Sample/data/quark_jet_2_cut/pre-processing/40x40/']\n",
    "        data['seed'] = seed\n",
    "        data['luminosity'] = 3000\n",
    "        data['cut_type'] = 'quark_jet_2'\n",
    "        data['GGF_cutflow_file'] = '../Sample/selection_results_GGF_quark_jet.npy'\n",
    "        data['VBF_cutflow_file'] = '../Sample/selection_results_VBF_quark_jet.npy'\n",
    "        data['model_name'] = f'quark_jet_2_cut_{i:02}'\n",
    "        data['sample_type'] = f'quark jet: = 2, L: 3000 fb^-1'\n",
    "\n",
    "        json.dump(data, f, indent=4)\n",
    "\n",
    "    cmd = f'python train_CNN.py {config_path}'\n",
    "    print(cmd)\n",
    "    i += 1\n",
    "\n",
    "i = 1\n",
    "for seed in range(123, 1100, 100):\n",
    "    config_path = f'config_files/quark_jet_1_cut_L_3000_config_{i:02}.json'\n",
    "    with open(config_path, 'w') as f:\n",
    "        data = {}\n",
    "\n",
    "        data['npy_paths'] = ['../Sample/data/quark_jet_1_cut/pre-processing/40x40/']\n",
    "        data['seed'] = seed\n",
    "        data['luminosity'] = 3000\n",
    "        data['cut_type'] = 'quark_jet_1'\n",
    "        data['GGF_cutflow_file'] = '../Sample/selection_results_GGF_quark_jet.npy'\n",
    "        data['VBF_cutflow_file'] = '../Sample/selection_results_VBF_quark_jet.npy'\n",
    "        data['model_name'] = f'quark_jet_1_cut_{i:02}'\n",
    "        data['sample_type'] = f'quark jet: >= 1, L: 3000 fb^-1'\n",
    "\n",
    "        json.dump(data, f, indent=4)\n",
    "\n",
    "    cmd = f'python train_CNN.py {config_path}'\n",
    "    print(cmd)\n",
    "    i += 1\n",
    "\n",
    "i = 1\n",
    "for seed in range(123, 1100, 100):\n",
    "    config_path = f'config_files/quark_gluon_jet_2_cut_L_3000_config_{i:02}.json'\n",
    "    with open(config_path, 'w') as f:\n",
    "        data = {}\n",
    "\n",
    "        data['npy_paths'] = ['../Sample/data/quark_gluon_jet_2_cut/pre-processing/40x40/']\n",
    "        data['seed'] = seed\n",
    "        data['luminosity'] = 3000\n",
    "        data['cut_type'] = 'quark_gluon_jet_2'\n",
    "        data['GGF_cutflow_file'] = '../Sample/selection_results_GGF_2q2g_jet.npy'\n",
    "        data['VBF_cutflow_file'] = '../Sample/selection_results_VBF_2q2g_jet.npy'\n",
    "        data['model_name'] = f'quark_gluon_jet_2_cut_{i:02}'\n",
    "        data['sample_type'] = f'quark jet: 2, gluon jet: 2, L: 3000 fb^-1'\n",
    "\n",
    "        json.dump(data, f, indent=4)\n",
    "\n",
    "    cmd = f'python train_CNN.py {config_path}'\n",
    "    print(cmd)\n",
    "    i += 1"
   ]
  },
  {
   "cell_type": "markdown",
   "metadata": {},
   "source": [
    "# Jet tagging with total $p_\\text{T}$ scaling, loss weighted"
   ]
  },
  {
   "cell_type": "code",
   "execution_count": 17,
   "metadata": {},
   "outputs": [
    {
     "name": "stdout",
     "output_type": "stream",
     "text": [
      "python train_CNN.py config_files/quark_jet_2_cut_L_3000_pt_scale_config_01.json\n",
      "python train_CNN.py config_files/quark_jet_2_cut_L_3000_pt_scale_config_02.json\n",
      "python train_CNN.py config_files/quark_jet_2_cut_L_3000_pt_scale_config_03.json\n",
      "python train_CNN.py config_files/quark_jet_2_cut_L_3000_pt_scale_config_04.json\n",
      "python train_CNN.py config_files/quark_jet_2_cut_L_3000_pt_scale_config_05.json\n",
      "python train_CNN.py config_files/quark_jet_2_cut_L_3000_pt_scale_config_06.json\n",
      "python train_CNN.py config_files/quark_jet_2_cut_L_3000_pt_scale_config_07.json\n",
      "python train_CNN.py config_files/quark_jet_2_cut_L_3000_pt_scale_config_08.json\n",
      "python train_CNN.py config_files/quark_jet_2_cut_L_3000_pt_scale_config_09.json\n",
      "python train_CNN.py config_files/quark_jet_2_cut_L_3000_pt_scale_config_10.json\n",
      "python train_CNN.py config_files/quark_jet_1_cut_L_3000_pt_scale_config_01.json\n",
      "python train_CNN.py config_files/quark_jet_1_cut_L_3000_pt_scale_config_02.json\n",
      "python train_CNN.py config_files/quark_jet_1_cut_L_3000_pt_scale_config_03.json\n",
      "python train_CNN.py config_files/quark_jet_1_cut_L_3000_pt_scale_config_04.json\n",
      "python train_CNN.py config_files/quark_jet_1_cut_L_3000_pt_scale_config_05.json\n",
      "python train_CNN.py config_files/quark_jet_1_cut_L_3000_pt_scale_config_06.json\n",
      "python train_CNN.py config_files/quark_jet_1_cut_L_3000_pt_scale_config_07.json\n",
      "python train_CNN.py config_files/quark_jet_1_cut_L_3000_pt_scale_config_08.json\n",
      "python train_CNN.py config_files/quark_jet_1_cut_L_3000_pt_scale_config_09.json\n",
      "python train_CNN.py config_files/quark_jet_1_cut_L_3000_pt_scale_config_10.json\n",
      "python train_CNN.py config_files/quark_gluon_jet_2_cut_L_3000_pt_scale_config_01.json\n",
      "python train_CNN.py config_files/quark_gluon_jet_2_cut_L_3000_pt_scale_config_02.json\n",
      "python train_CNN.py config_files/quark_gluon_jet_2_cut_L_3000_pt_scale_config_03.json\n",
      "python train_CNN.py config_files/quark_gluon_jet_2_cut_L_3000_pt_scale_config_04.json\n",
      "python train_CNN.py config_files/quark_gluon_jet_2_cut_L_3000_pt_scale_config_05.json\n",
      "python train_CNN.py config_files/quark_gluon_jet_2_cut_L_3000_pt_scale_config_06.json\n",
      "python train_CNN.py config_files/quark_gluon_jet_2_cut_L_3000_pt_scale_config_07.json\n",
      "python train_CNN.py config_files/quark_gluon_jet_2_cut_L_3000_pt_scale_config_08.json\n",
      "python train_CNN.py config_files/quark_gluon_jet_2_cut_L_3000_pt_scale_config_09.json\n",
      "python train_CNN.py config_files/quark_gluon_jet_2_cut_L_3000_pt_scale_config_10.json\n"
     ]
    }
   ],
   "source": [
    "i = 1\n",
    "for seed in range(123, 1100, 100):\n",
    "    config_path = f'config_files/quark_jet_2_cut_L_3000_pt_scale_config_{i:02}.json'\n",
    "    with open(config_path, 'w') as f:\n",
    "        data = {}\n",
    "\n",
    "        data['npy_paths'] = ['../Sample/data/quark_jet_2_cut/pre-processing/40x40/']\n",
    "        data['seed'] = seed\n",
    "        data['luminosity'] = 3000\n",
    "        data['cut_type'] = 'quark_jet_2'\n",
    "        data['GGF_cutflow_file'] = '../Sample/selection_results_GGF_quark_jet.npy'\n",
    "        data['VBF_cutflow_file'] = '../Sample/selection_results_VBF_quark_jet.npy'\n",
    "        data['model_name'] = f'quark_jet_2_cut_{i:02}'\n",
    "        data['sample_type'] = f'quark jet: = 2, L: 3000 fb^-1, pT scaling'\n",
    "\n",
    "        json.dump(data, f, indent=4)\n",
    "\n",
    "    cmd = f'python train_CNN.py {config_path}'\n",
    "    print(cmd)\n",
    "    i += 1\n",
    "\n",
    "i = 1\n",
    "for seed in range(123, 1100, 100):\n",
    "    config_path = f'config_files/quark_jet_1_cut_L_3000_pt_scale_config_{i:02}.json'\n",
    "    with open(config_path, 'w') as f:\n",
    "        data = {}\n",
    "\n",
    "        data['npy_paths'] = ['../Sample/data/quark_jet_1_cut/pre-processing/40x40/']\n",
    "        data['seed'] = seed\n",
    "        data['luminosity'] = 3000\n",
    "        data['cut_type'] = 'quark_jet_1'\n",
    "        data['GGF_cutflow_file'] = '../Sample/selection_results_GGF_quark_jet.npy'\n",
    "        data['VBF_cutflow_file'] = '../Sample/selection_results_VBF_quark_jet.npy'\n",
    "        data['model_name'] = f'quark_jet_1_cut_{i:02}'\n",
    "        data['sample_type'] = f'quark jet: >= 1, L: 3000 fb^-1, pT scaling'\n",
    "\n",
    "        json.dump(data, f, indent=4)\n",
    "\n",
    "    cmd = f'python train_CNN.py {config_path}'\n",
    "    print(cmd)\n",
    "    i += 1\n",
    "\n",
    "i = 1\n",
    "for seed in range(123, 1100, 100):\n",
    "    config_path = f'config_files/quark_gluon_jet_2_cut_L_3000_pt_scale_config_{i:02}.json'\n",
    "    with open(config_path, 'w') as f:\n",
    "        data = {}\n",
    "\n",
    "        data['npy_paths'] = ['../Sample/data/quark_gluon_jet_2_cut/pre-processing/40x40/']\n",
    "        data['seed'] = seed\n",
    "        data['luminosity'] = 3000\n",
    "        data['cut_type'] = 'quark_gluon_jet_2'\n",
    "        data['GGF_cutflow_file'] = '../Sample/selection_results_GGF_2q2g_jet.npy'\n",
    "        data['VBF_cutflow_file'] = '../Sample/selection_results_VBF_2q2g_jet.npy'\n",
    "        data['model_name'] = f'quark_gluon_jet_2_cut_{i:02}'\n",
    "        data['sample_type'] = f'quark jet: 2, gluon jet: 2, L: 3000 fb^-1, pT scaling'\n",
    "\n",
    "        json.dump(data, f, indent=4)\n",
    "\n",
    "    cmd = f'python train_CNN.py {config_path}'\n",
    "    print(cmd)\n",
    "    i += 1"
   ]
  },
  {
   "cell_type": "markdown",
   "metadata": {},
   "source": [
    "# Jet tagging with $p_\\text{T}$ normalization, loss weighted"
   ]
  },
  {
   "cell_type": "code",
   "execution_count": 18,
   "metadata": {},
   "outputs": [
    {
     "name": "stdout",
     "output_type": "stream",
     "text": [
      "python train_CNN.py config_files/quark_jet_2_cut_L_3000_pT_norm_config_01.json\n",
      "python train_CNN.py config_files/quark_jet_2_cut_L_3000_pT_norm_config_02.json\n",
      "python train_CNN.py config_files/quark_jet_2_cut_L_3000_pT_norm_config_03.json\n",
      "python train_CNN.py config_files/quark_jet_2_cut_L_3000_pT_norm_config_04.json\n",
      "python train_CNN.py config_files/quark_jet_2_cut_L_3000_pT_norm_config_05.json\n",
      "python train_CNN.py config_files/quark_jet_2_cut_L_3000_pT_norm_config_06.json\n",
      "python train_CNN.py config_files/quark_jet_2_cut_L_3000_pT_norm_config_07.json\n",
      "python train_CNN.py config_files/quark_jet_2_cut_L_3000_pT_norm_config_08.json\n",
      "python train_CNN.py config_files/quark_jet_2_cut_L_3000_pT_norm_config_09.json\n",
      "python train_CNN.py config_files/quark_jet_2_cut_L_3000_pT_norm_config_10.json\n",
      "python train_CNN.py config_files/quark_jet_1_cut_L_3000_pT_norm_config_01.json\n",
      "python train_CNN.py config_files/quark_jet_1_cut_L_3000_pT_norm_config_02.json\n",
      "python train_CNN.py config_files/quark_jet_1_cut_L_3000_pT_norm_config_03.json\n",
      "python train_CNN.py config_files/quark_jet_1_cut_L_3000_pT_norm_config_04.json\n",
      "python train_CNN.py config_files/quark_jet_1_cut_L_3000_pT_norm_config_05.json\n",
      "python train_CNN.py config_files/quark_jet_1_cut_L_3000_pT_norm_config_06.json\n",
      "python train_CNN.py config_files/quark_jet_1_cut_L_3000_pT_norm_config_07.json\n",
      "python train_CNN.py config_files/quark_jet_1_cut_L_3000_pT_norm_config_08.json\n",
      "python train_CNN.py config_files/quark_jet_1_cut_L_3000_pT_norm_config_09.json\n",
      "python train_CNN.py config_files/quark_jet_1_cut_L_3000_pT_norm_config_10.json\n",
      "python train_CNN.py config_files/quark_gluon_jet_2_cut_L_3000_pT_norm_config_01.json\n",
      "python train_CNN.py config_files/quark_gluon_jet_2_cut_L_3000_pT_norm_config_02.json\n",
      "python train_CNN.py config_files/quark_gluon_jet_2_cut_L_3000_pT_norm_config_03.json\n",
      "python train_CNN.py config_files/quark_gluon_jet_2_cut_L_3000_pT_norm_config_04.json\n",
      "python train_CNN.py config_files/quark_gluon_jet_2_cut_L_3000_pT_norm_config_05.json\n",
      "python train_CNN.py config_files/quark_gluon_jet_2_cut_L_3000_pT_norm_config_06.json\n",
      "python train_CNN.py config_files/quark_gluon_jet_2_cut_L_3000_pT_norm_config_07.json\n",
      "python train_CNN.py config_files/quark_gluon_jet_2_cut_L_3000_pT_norm_config_08.json\n",
      "python train_CNN.py config_files/quark_gluon_jet_2_cut_L_3000_pT_norm_config_09.json\n",
      "python train_CNN.py config_files/quark_gluon_jet_2_cut_L_3000_pT_norm_config_10.json\n"
     ]
    }
   ],
   "source": [
    "i = 1\n",
    "for seed in range(123, 1100, 100):\n",
    "    config_path = f'config_files/quark_jet_2_cut_L_3000_pT_norm_config_{i:02}.json'\n",
    "    with open(config_path, 'w') as f:\n",
    "        data = {}\n",
    "\n",
    "        data['npy_paths'] = ['../Sample/data/quark_jet_2_cut/pre-processing/40x40/']\n",
    "        data['seed'] = seed\n",
    "        data['luminosity'] = 3000\n",
    "        data['cut_type'] = 'quark_jet_2'\n",
    "        data['GGF_cutflow_file'] = '../Sample/selection_results_GGF_quark_jet.npy'\n",
    "        data['VBF_cutflow_file'] = '../Sample/selection_results_VBF_quark_jet.npy'\n",
    "        data['model_name'] = f'quark_jet_2_cut_{i:02}'\n",
    "        data['sample_type'] = f'quark jet: = 2, L: 3000 fb^-1, pT normalized'\n",
    "\n",
    "        json.dump(data, f, indent=4)\n",
    "\n",
    "    cmd = f'python train_CNN.py {config_path}'\n",
    "    print(cmd)\n",
    "    i += 1\n",
    "\n",
    "i = 1\n",
    "for seed in range(123, 1100, 100):\n",
    "    config_path = f'config_files/quark_jet_1_cut_L_3000_pT_norm_config_{i:02}.json'\n",
    "    with open(config_path, 'w') as f:\n",
    "        data = {}\n",
    "\n",
    "        data['npy_paths'] = ['../Sample/data/quark_jet_1_cut/pre-processing/40x40/']\n",
    "        data['seed'] = seed\n",
    "        data['luminosity'] = 3000\n",
    "        data['cut_type'] = 'quark_jet_1'\n",
    "        data['GGF_cutflow_file'] = '../Sample/selection_results_GGF_quark_jet.npy'\n",
    "        data['VBF_cutflow_file'] = '../Sample/selection_results_VBF_quark_jet.npy'\n",
    "        data['model_name'] = f'quark_jet_1_cut_{i:02}'\n",
    "        data['sample_type'] = f'quark jet: >= 1, L: 3000 fb^-1, pT normalized'\n",
    "\n",
    "        json.dump(data, f, indent=4)\n",
    "\n",
    "    cmd = f'python train_CNN.py {config_path}'\n",
    "    print(cmd)\n",
    "    i += 1\n",
    "\n",
    "i = 1\n",
    "for seed in range(123, 1100, 100):\n",
    "    config_path = f'config_files/quark_gluon_jet_2_cut_L_3000_pT_norm_config_{i:02}.json'\n",
    "    with open(config_path, 'w') as f:\n",
    "        data = {}\n",
    "\n",
    "        data['npy_paths'] = ['../Sample/data/quark_gluon_jet_2_cut/pre-processing/40x40/']\n",
    "        data['seed'] = seed\n",
    "        data['luminosity'] = 3000\n",
    "        data['cut_type'] = 'quark_gluon_jet_2'\n",
    "        data['GGF_cutflow_file'] = '../Sample/selection_results_GGF_2q2g_jet.npy'\n",
    "        data['VBF_cutflow_file'] = '../Sample/selection_results_VBF_2q2g_jet.npy'\n",
    "        data['model_name'] = f'quark_gluon_jet_2_cut_{i:02}'\n",
    "        data['sample_type'] = f'quark jet: 2, gluon jet: 2, L: 3000 fb^-1, pT normalized'\n",
    "\n",
    "        json.dump(data, f, indent=4)\n",
    "\n",
    "    cmd = f'python train_CNN.py {config_path}'\n",
    "    print(cmd)\n",
    "    i += 1"
   ]
  },
  {
   "cell_type": "markdown",
   "metadata": {},
   "source": [
    "# $p_\\text{T}$ smearing"
   ]
  },
  {
   "cell_type": "code",
   "execution_count": 19,
   "metadata": {},
   "outputs": [
    {
     "name": "stdout",
     "output_type": "stream",
     "text": [
      "python train_CNN.py config_files/quark_jet_2_cut_L_3000_pT_norm_pT_aug_5_config_01.json\n",
      "python train_CNN.py config_files/quark_jet_2_cut_L_3000_pT_norm_pT_aug_5_config_02.json\n",
      "python train_CNN.py config_files/quark_jet_2_cut_L_3000_pT_norm_pT_aug_5_config_03.json\n",
      "python train_CNN.py config_files/quark_jet_2_cut_L_3000_pT_norm_pT_aug_5_config_04.json\n",
      "python train_CNN.py config_files/quark_jet_2_cut_L_3000_pT_norm_pT_aug_5_config_05.json\n",
      "python train_CNN.py config_files/quark_jet_2_cut_L_3000_pT_norm_pT_aug_5_config_06.json\n",
      "python train_CNN.py config_files/quark_jet_2_cut_L_3000_pT_norm_pT_aug_5_config_07.json\n",
      "python train_CNN.py config_files/quark_jet_2_cut_L_3000_pT_norm_pT_aug_5_config_08.json\n",
      "python train_CNN.py config_files/quark_jet_2_cut_L_3000_pT_norm_pT_aug_5_config_09.json\n",
      "python train_CNN.py config_files/quark_jet_2_cut_L_3000_pT_norm_pT_aug_5_config_10.json\n"
     ]
    }
   ],
   "source": [
    "i = 1\n",
    "aug = 5\n",
    "for seed in range(123, 1100, 100):\n",
    "    config_path = f'config_files/quark_jet_2_cut_L_3000_pT_norm_pT_aug_{aug}_config_{i:02}.json'\n",
    "    with open(config_path, 'w') as f:\n",
    "        data = {}\n",
    "\n",
    "        data['npy_paths'] = ['../Sample/data/quark_jet_2_cut/pre-processing/40x40/'] + [f'../Sample/data/quark_jet_2_cut/pT_smearing/40x40/{n:02}/' for n in range(1, 1 + aug)]\n",
    "        data['seed'] = seed\n",
    "        data['luminosity'] = 3000\n",
    "        data['cut_type'] = 'quark_jet_2'\n",
    "        data['GGF_cutflow_file'] = '../Sample/selection_results_GGF_quark_jet.npy'\n",
    "        data['VBF_cutflow_file'] = '../Sample/selection_results_VBF_quark_jet.npy'\n",
    "        data['model_name'] = f'quark_jet_2_cut_pT_aug_{aug}_{i:02}'\n",
    "        data['sample_type'] = f'quark jet: = 2, L: 3000 fb^-1, pT normalized, pT smearing: +{aug}'\n",
    "\n",
    "        json.dump(data, f, indent=4)\n",
    "\n",
    "    cmd = f'python train_CNN.py {config_path}'\n",
    "    print(cmd)\n",
    "    i += 1"
   ]
  },
  {
   "cell_type": "code",
   "execution_count": 20,
   "metadata": {},
   "outputs": [
    {
     "name": "stdout",
     "output_type": "stream",
     "text": [
      "python train_CNN.py config_files/quark_jet_2_cut_L_3000_pT_norm_pT_aug_10_config_01.json\n",
      "python train_CNN.py config_files/quark_jet_2_cut_L_3000_pT_norm_pT_aug_10_config_02.json\n",
      "python train_CNN.py config_files/quark_jet_2_cut_L_3000_pT_norm_pT_aug_10_config_03.json\n",
      "python train_CNN.py config_files/quark_jet_2_cut_L_3000_pT_norm_pT_aug_10_config_04.json\n",
      "python train_CNN.py config_files/quark_jet_2_cut_L_3000_pT_norm_pT_aug_10_config_05.json\n",
      "python train_CNN.py config_files/quark_jet_2_cut_L_3000_pT_norm_pT_aug_10_config_06.json\n",
      "python train_CNN.py config_files/quark_jet_2_cut_L_3000_pT_norm_pT_aug_10_config_07.json\n",
      "python train_CNN.py config_files/quark_jet_2_cut_L_3000_pT_norm_pT_aug_10_config_08.json\n",
      "python train_CNN.py config_files/quark_jet_2_cut_L_3000_pT_norm_pT_aug_10_config_09.json\n",
      "python train_CNN.py config_files/quark_jet_2_cut_L_3000_pT_norm_pT_aug_10_config_10.json\n"
     ]
    }
   ],
   "source": [
    "i = 1\n",
    "aug = 10\n",
    "for seed in range(123, 1100, 100):\n",
    "    config_path = f'config_files/quark_jet_2_cut_L_3000_pT_norm_pT_aug_{aug}_config_{i:02}.json'\n",
    "    with open(config_path, 'w') as f:\n",
    "        data = {}\n",
    "\n",
    "        data['npy_paths'] = ['../Sample/data/quark_jet_2_cut/pre-processing/40x40/'] + [f'../Sample/data/quark_jet_2_cut/pT_smearing/40x40/{n:02}/' for n in range(1, 1 + aug)]\n",
    "        data['seed'] = seed\n",
    "        data['luminosity'] = 3000\n",
    "        data['cut_type'] = 'quark_jet_2'\n",
    "        data['GGF_cutflow_file'] = '../Sample/selection_results_GGF_quark_jet.npy'\n",
    "        data['VBF_cutflow_file'] = '../Sample/selection_results_VBF_quark_jet.npy'\n",
    "        data['model_name'] = f'quark_jet_2_cut_pT_aug_{aug}_{i:02}'\n",
    "        data['sample_type'] = f'quark jet: = 2, L: 3000 fb^-1, pT normalized, pT smearing: +{aug}'\n",
    "\n",
    "        json.dump(data, f, indent=4)\n",
    "\n",
    "    cmd = f'python train_CNN.py {config_path}'\n",
    "    print(cmd)\n",
    "    i += 1"
   ]
  },
  {
   "cell_type": "code",
   "execution_count": 21,
   "metadata": {},
   "outputs": [
    {
     "name": "stdout",
     "output_type": "stream",
     "text": [
      "python train_CNN.py config_files/quark_jet_2_cut_L_3000_pT_norm_pT_aug_15_config_01.json\n",
      "python train_CNN.py config_files/quark_jet_2_cut_L_3000_pT_norm_pT_aug_15_config_02.json\n",
      "python train_CNN.py config_files/quark_jet_2_cut_L_3000_pT_norm_pT_aug_15_config_03.json\n",
      "python train_CNN.py config_files/quark_jet_2_cut_L_3000_pT_norm_pT_aug_15_config_04.json\n",
      "python train_CNN.py config_files/quark_jet_2_cut_L_3000_pT_norm_pT_aug_15_config_05.json\n",
      "python train_CNN.py config_files/quark_jet_2_cut_L_3000_pT_norm_pT_aug_15_config_06.json\n",
      "python train_CNN.py config_files/quark_jet_2_cut_L_3000_pT_norm_pT_aug_15_config_07.json\n",
      "python train_CNN.py config_files/quark_jet_2_cut_L_3000_pT_norm_pT_aug_15_config_08.json\n",
      "python train_CNN.py config_files/quark_jet_2_cut_L_3000_pT_norm_pT_aug_15_config_09.json\n",
      "python train_CNN.py config_files/quark_jet_2_cut_L_3000_pT_norm_pT_aug_15_config_10.json\n"
     ]
    }
   ],
   "source": [
    "i = 1\n",
    "aug = 15\n",
    "for seed in range(123, 1100, 100):\n",
    "    config_path = f'config_files/quark_jet_2_cut_L_3000_pT_norm_pT_aug_{aug}_config_{i:02}.json'\n",
    "    with open(config_path, 'w') as f:\n",
    "        data = {}\n",
    "\n",
    "        data['npy_paths'] = ['../Sample/data/quark_jet_2_cut/pre-processing/40x40/'] + [f'../Sample/data/quark_jet_2_cut/pT_smearing/40x40/{n:02}/' for n in range(1, 1 + aug)]\n",
    "        data['seed'] = seed\n",
    "        data['luminosity'] = 3000\n",
    "        data['cut_type'] = 'quark_jet_2'\n",
    "        data['GGF_cutflow_file'] = '../Sample/selection_results_GGF_quark_jet.npy'\n",
    "        data['VBF_cutflow_file'] = '../Sample/selection_results_VBF_quark_jet.npy'\n",
    "        data['model_name'] = f'quark_jet_2_cut_pT_aug_{aug}_{i:02}'\n",
    "        data['sample_type'] = f'quark jet: = 2, L: 3000 fb^-1, pT normalized, pT smearing: +{aug}'\n",
    "\n",
    "        json.dump(data, f, indent=4)\n",
    "\n",
    "    cmd = f'python train_CNN.py {config_path}'\n",
    "    print(cmd)\n",
    "    i += 1"
   ]
  },
  {
   "cell_type": "markdown",
   "metadata": {},
   "source": [
    "# $\\phi$ shifting"
   ]
  },
  {
   "cell_type": "code",
   "execution_count": 22,
   "metadata": {},
   "outputs": [
    {
     "name": "stdout",
     "output_type": "stream",
     "text": [
      "python train_CNN.py config_files/quark_jet_2_cut_L_3000_pT_norm_phi_aug_5_config_01.json\n",
      "python train_CNN.py config_files/quark_jet_2_cut_L_3000_pT_norm_phi_aug_5_config_02.json\n",
      "python train_CNN.py config_files/quark_jet_2_cut_L_3000_pT_norm_phi_aug_5_config_03.json\n",
      "python train_CNN.py config_files/quark_jet_2_cut_L_3000_pT_norm_phi_aug_5_config_04.json\n",
      "python train_CNN.py config_files/quark_jet_2_cut_L_3000_pT_norm_phi_aug_5_config_05.json\n",
      "python train_CNN.py config_files/quark_jet_2_cut_L_3000_pT_norm_phi_aug_5_config_06.json\n",
      "python train_CNN.py config_files/quark_jet_2_cut_L_3000_pT_norm_phi_aug_5_config_07.json\n",
      "python train_CNN.py config_files/quark_jet_2_cut_L_3000_pT_norm_phi_aug_5_config_08.json\n",
      "python train_CNN.py config_files/quark_jet_2_cut_L_3000_pT_norm_phi_aug_5_config_09.json\n",
      "python train_CNN.py config_files/quark_jet_2_cut_L_3000_pT_norm_phi_aug_5_config_10.json\n"
     ]
    }
   ],
   "source": [
    "i = 1\n",
    "aug = 5\n",
    "for seed in range(123, 1100, 100):\n",
    "    config_path = f'config_files/quark_jet_2_cut_L_3000_pT_norm_phi_aug_{aug}_config_{i:02}.json'\n",
    "    with open(config_path, 'w') as f:\n",
    "        data = {}\n",
    "\n",
    "        data['npy_paths'] = ['../Sample/data/quark_jet_2_cut/pre-processing/40x40/'] + [f'../Sample/data/quark_jet_2_cut/phi_shifting/40x40/{n:02}/' for n in range(1, 1 + aug)]\n",
    "        data['seed'] = seed\n",
    "        data['luminosity'] = 3000\n",
    "        data['cut_type'] = 'quark_jet_2'\n",
    "        data['GGF_cutflow_file'] = '../Sample/selection_results_GGF_quark_jet.npy'\n",
    "        data['VBF_cutflow_file'] = '../Sample/selection_results_VBF_quark_jet.npy'\n",
    "        data['model_name'] = f'quark_jet_2_cut_phi_aug_{aug}_{i:02}'\n",
    "        data['sample_type'] = f'quark jet: = 2, L: 3000 fb^-1, pT normalized, phi shifting: +{aug}'\n",
    "\n",
    "        json.dump(data, f, indent=4)\n",
    "\n",
    "    cmd = f'python train_CNN.py {config_path}'\n",
    "    print(cmd)\n",
    "    i += 1"
   ]
  },
  {
   "cell_type": "code",
   "execution_count": 23,
   "metadata": {},
   "outputs": [
    {
     "name": "stdout",
     "output_type": "stream",
     "text": [
      "python train_CNN.py config_files/quark_jet_2_cut_L_3000_pT_norm_phi_aug_10_config_01.json\n",
      "python train_CNN.py config_files/quark_jet_2_cut_L_3000_pT_norm_phi_aug_10_config_02.json\n",
      "python train_CNN.py config_files/quark_jet_2_cut_L_3000_pT_norm_phi_aug_10_config_03.json\n",
      "python train_CNN.py config_files/quark_jet_2_cut_L_3000_pT_norm_phi_aug_10_config_04.json\n",
      "python train_CNN.py config_files/quark_jet_2_cut_L_3000_pT_norm_phi_aug_10_config_05.json\n",
      "python train_CNN.py config_files/quark_jet_2_cut_L_3000_pT_norm_phi_aug_10_config_06.json\n",
      "python train_CNN.py config_files/quark_jet_2_cut_L_3000_pT_norm_phi_aug_10_config_07.json\n",
      "python train_CNN.py config_files/quark_jet_2_cut_L_3000_pT_norm_phi_aug_10_config_08.json\n",
      "python train_CNN.py config_files/quark_jet_2_cut_L_3000_pT_norm_phi_aug_10_config_09.json\n",
      "python train_CNN.py config_files/quark_jet_2_cut_L_3000_pT_norm_phi_aug_10_config_10.json\n"
     ]
    }
   ],
   "source": [
    "i = 1\n",
    "aug = 10\n",
    "for seed in range(123, 1100, 100):\n",
    "    config_path = f'config_files/quark_jet_2_cut_L_3000_pT_norm_phi_aug_{aug}_config_{i:02}.json'\n",
    "    with open(config_path, 'w') as f:\n",
    "        data = {}\n",
    "\n",
    "        data['npy_paths'] = ['../Sample/data/quark_jet_2_cut/pre-processing/40x40/'] + [f'../Sample/data/quark_jet_2_cut/phi_shifting/40x40/{n:02}/' for n in range(1, 1 + aug)]\n",
    "        data['seed'] = seed\n",
    "        data['luminosity'] = 3000\n",
    "        data['cut_type'] = 'quark_jet_2'\n",
    "        data['GGF_cutflow_file'] = '../Sample/selection_results_GGF_quark_jet.npy'\n",
    "        data['VBF_cutflow_file'] = '../Sample/selection_results_VBF_quark_jet.npy'\n",
    "        data['model_name'] = f'quark_jet_2_cut_phi_aug_{aug}_{i:02}'\n",
    "        data['sample_type'] = f'quark jet: = 2, L: 3000 fb^-1, pT normalized, phi shifting: +{aug}'\n",
    "\n",
    "        json.dump(data, f, indent=4)\n",
    "\n",
    "    cmd = f'python train_CNN.py {config_path}'\n",
    "    print(cmd)\n",
    "    i += 1"
   ]
  },
  {
   "cell_type": "code",
   "execution_count": 24,
   "metadata": {},
   "outputs": [
    {
     "name": "stdout",
     "output_type": "stream",
     "text": [
      "python train_CNN.py config_files/quark_jet_2_cut_L_3000_pT_norm_phi_aug_15_config_01.json\n",
      "python train_CNN.py config_files/quark_jet_2_cut_L_3000_pT_norm_phi_aug_15_config_02.json\n",
      "python train_CNN.py config_files/quark_jet_2_cut_L_3000_pT_norm_phi_aug_15_config_03.json\n",
      "python train_CNN.py config_files/quark_jet_2_cut_L_3000_pT_norm_phi_aug_15_config_04.json\n",
      "python train_CNN.py config_files/quark_jet_2_cut_L_3000_pT_norm_phi_aug_15_config_05.json\n",
      "python train_CNN.py config_files/quark_jet_2_cut_L_3000_pT_norm_phi_aug_15_config_06.json\n",
      "python train_CNN.py config_files/quark_jet_2_cut_L_3000_pT_norm_phi_aug_15_config_07.json\n",
      "python train_CNN.py config_files/quark_jet_2_cut_L_3000_pT_norm_phi_aug_15_config_08.json\n",
      "python train_CNN.py config_files/quark_jet_2_cut_L_3000_pT_norm_phi_aug_15_config_09.json\n",
      "python train_CNN.py config_files/quark_jet_2_cut_L_3000_pT_norm_phi_aug_15_config_10.json\n"
     ]
    }
   ],
   "source": [
    "i = 1\n",
    "aug = 15\n",
    "for seed in range(123, 1100, 100):\n",
    "    config_path = f'config_files/quark_jet_2_cut_L_3000_pT_norm_phi_aug_{aug}_config_{i:02}.json'\n",
    "    with open(config_path, 'w') as f:\n",
    "        data = {}\n",
    "\n",
    "        data['npy_paths'] = ['../Sample/data/quark_jet_2_cut/pre-processing/40x40/'] + [f'../Sample/data/quark_jet_2_cut/phi_shifting/40x40/{n:02}/' for n in range(1, 1 + aug)]\n",
    "        data['seed'] = seed\n",
    "        data['luminosity'] = 3000\n",
    "        data['cut_type'] = 'quark_jet_2'\n",
    "        data['GGF_cutflow_file'] = '../Sample/selection_results_GGF_quark_jet.npy'\n",
    "        data['VBF_cutflow_file'] = '../Sample/selection_results_VBF_quark_jet.npy'\n",
    "        data['model_name'] = f'quark_jet_2_cut_phi_aug_{aug}_{i:02}'\n",
    "        data['sample_type'] = f'quark jet: = 2, L: 3000 fb^-1, pT normalized, phi shifting: +{aug}'\n",
    "\n",
    "        json.dump(data, f, indent=4)\n",
    "\n",
    "    cmd = f'python train_CNN.py {config_path}'\n",
    "    print(cmd)\n",
    "    i += 1"
   ]
  },
  {
   "cell_type": "markdown",
   "metadata": {},
   "source": [
    "# $\\eta-\\phi$ smearing"
   ]
  },
  {
   "cell_type": "code",
   "execution_count": 25,
   "metadata": {},
   "outputs": [
    {
     "name": "stdout",
     "output_type": "stream",
     "text": [
      "python train_CNN.py config_files/quark_jet_2_cut_L_3000_pT_norm_eta_phi_aug_5_config_01.json\n",
      "python train_CNN.py config_files/quark_jet_2_cut_L_3000_pT_norm_eta_phi_aug_5_config_02.json\n",
      "python train_CNN.py config_files/quark_jet_2_cut_L_3000_pT_norm_eta_phi_aug_5_config_03.json\n",
      "python train_CNN.py config_files/quark_jet_2_cut_L_3000_pT_norm_eta_phi_aug_5_config_04.json\n",
      "python train_CNN.py config_files/quark_jet_2_cut_L_3000_pT_norm_eta_phi_aug_5_config_05.json\n",
      "python train_CNN.py config_files/quark_jet_2_cut_L_3000_pT_norm_eta_phi_aug_5_config_06.json\n",
      "python train_CNN.py config_files/quark_jet_2_cut_L_3000_pT_norm_eta_phi_aug_5_config_07.json\n",
      "python train_CNN.py config_files/quark_jet_2_cut_L_3000_pT_norm_eta_phi_aug_5_config_08.json\n",
      "python train_CNN.py config_files/quark_jet_2_cut_L_3000_pT_norm_eta_phi_aug_5_config_09.json\n",
      "python train_CNN.py config_files/quark_jet_2_cut_L_3000_pT_norm_eta_phi_aug_5_config_10.json\n"
     ]
    }
   ],
   "source": [
    "i = 1\n",
    "aug = 5\n",
    "for seed in range(123, 1100, 100):\n",
    "    config_path = f'config_files/quark_jet_2_cut_L_3000_pT_norm_eta_phi_aug_{aug}_config_{i:02}.json'\n",
    "    with open(config_path, 'w') as f:\n",
    "        data = {}\n",
    "\n",
    "        data['npy_paths'] = ['../Sample/data/quark_jet_2_cut/pre-processing/40x40/'] + [f'../Sample/data/quark_jet_2_cut/eta_phi_smearing/40x40/{n:02}/' for n in range(1, 1 + aug)]\n",
    "        data['seed'] = seed\n",
    "        data['luminosity'] = 3000\n",
    "        data['cut_type'] = 'quark_jet_2'\n",
    "        data['GGF_cutflow_file'] = '../Sample/selection_results_GGF_quark_jet.npy'\n",
    "        data['VBF_cutflow_file'] = '../Sample/selection_results_VBF_quark_jet.npy'\n",
    "        data['model_name'] = f'quark_jet_2_cut_eta_phi_aug_{aug}_{i:02}'\n",
    "        data['sample_type'] = f'quark jet: = 2, L: 3000 fb^-1, pT normalized, eta-phi smearing: +{aug}'\n",
    "\n",
    "        json.dump(data, f, indent=4)\n",
    "\n",
    "    cmd = f'python train_CNN.py {config_path}'\n",
    "    print(cmd)\n",
    "    i += 1"
   ]
  },
  {
   "cell_type": "code",
   "execution_count": 26,
   "metadata": {},
   "outputs": [
    {
     "name": "stdout",
     "output_type": "stream",
     "text": [
      "python train_CNN.py config_files/quark_jet_2_cut_L_3000_pT_norm_eta_phi_aug_10_config_01.json\n",
      "python train_CNN.py config_files/quark_jet_2_cut_L_3000_pT_norm_eta_phi_aug_10_config_02.json\n",
      "python train_CNN.py config_files/quark_jet_2_cut_L_3000_pT_norm_eta_phi_aug_10_config_03.json\n",
      "python train_CNN.py config_files/quark_jet_2_cut_L_3000_pT_norm_eta_phi_aug_10_config_04.json\n",
      "python train_CNN.py config_files/quark_jet_2_cut_L_3000_pT_norm_eta_phi_aug_10_config_05.json\n",
      "python train_CNN.py config_files/quark_jet_2_cut_L_3000_pT_norm_eta_phi_aug_10_config_06.json\n",
      "python train_CNN.py config_files/quark_jet_2_cut_L_3000_pT_norm_eta_phi_aug_10_config_07.json\n",
      "python train_CNN.py config_files/quark_jet_2_cut_L_3000_pT_norm_eta_phi_aug_10_config_08.json\n",
      "python train_CNN.py config_files/quark_jet_2_cut_L_3000_pT_norm_eta_phi_aug_10_config_09.json\n",
      "python train_CNN.py config_files/quark_jet_2_cut_L_3000_pT_norm_eta_phi_aug_10_config_10.json\n"
     ]
    }
   ],
   "source": [
    "i = 1\n",
    "aug = 10\n",
    "for seed in range(123, 1100, 100):\n",
    "    config_path = f'config_files/quark_jet_2_cut_L_3000_pT_norm_eta_phi_aug_{aug}_config_{i:02}.json'\n",
    "    with open(config_path, 'w') as f:\n",
    "        data = {}\n",
    "\n",
    "        data['npy_paths'] = ['../Sample/data/quark_jet_2_cut/pre-processing/40x40/'] + [f'../Sample/data/quark_jet_2_cut/eta_phi_smearing/40x40/{n:02}/' for n in range(1, 1 + aug)]\n",
    "        data['seed'] = seed\n",
    "        data['luminosity'] = 3000\n",
    "        data['cut_type'] = 'quark_jet_2'\n",
    "        data['GGF_cutflow_file'] = '../Sample/selection_results_GGF_quark_jet.npy'\n",
    "        data['VBF_cutflow_file'] = '../Sample/selection_results_VBF_quark_jet.npy'\n",
    "        data['model_name'] = f'quark_jet_2_cut_eta_phi_aug_{aug}_{i:02}'\n",
    "        data['sample_type'] = f'quark jet: = 2, L: 3000 fb^-1, pT normalized, eta-phi smearing: +{aug}'\n",
    "\n",
    "        json.dump(data, f, indent=4)\n",
    "\n",
    "    cmd = f'python train_CNN.py {config_path}'\n",
    "    print(cmd)\n",
    "    i += 1"
   ]
  },
  {
   "cell_type": "code",
   "execution_count": 27,
   "metadata": {},
   "outputs": [
    {
     "name": "stdout",
     "output_type": "stream",
     "text": [
      "python train_CNN.py config_files/quark_jet_2_cut_L_3000_pT_norm_eta_phi_aug_15_config_01.json\n",
      "python train_CNN.py config_files/quark_jet_2_cut_L_3000_pT_norm_eta_phi_aug_15_config_02.json\n",
      "python train_CNN.py config_files/quark_jet_2_cut_L_3000_pT_norm_eta_phi_aug_15_config_03.json\n",
      "python train_CNN.py config_files/quark_jet_2_cut_L_3000_pT_norm_eta_phi_aug_15_config_04.json\n",
      "python train_CNN.py config_files/quark_jet_2_cut_L_3000_pT_norm_eta_phi_aug_15_config_05.json\n",
      "python train_CNN.py config_files/quark_jet_2_cut_L_3000_pT_norm_eta_phi_aug_15_config_06.json\n",
      "python train_CNN.py config_files/quark_jet_2_cut_L_3000_pT_norm_eta_phi_aug_15_config_07.json\n",
      "python train_CNN.py config_files/quark_jet_2_cut_L_3000_pT_norm_eta_phi_aug_15_config_08.json\n",
      "python train_CNN.py config_files/quark_jet_2_cut_L_3000_pT_norm_eta_phi_aug_15_config_09.json\n",
      "python train_CNN.py config_files/quark_jet_2_cut_L_3000_pT_norm_eta_phi_aug_15_config_10.json\n"
     ]
    }
   ],
   "source": [
    "i = 1\n",
    "aug = 15\n",
    "for seed in range(123, 1100, 100):\n",
    "    config_path = f'config_files/quark_jet_2_cut_L_3000_pT_norm_eta_phi_aug_{aug}_config_{i:02}.json'\n",
    "    with open(config_path, 'w') as f:\n",
    "        data = {}\n",
    "\n",
    "        data['npy_paths'] = ['../Sample/data/quark_jet_2_cut/pre-processing/40x40/'] + [f'../Sample/data/quark_jet_2_cut/eta_phi_smearing/40x40/{n:02}/' for n in range(1, 1 + aug)]\n",
    "        data['seed'] = seed\n",
    "        data['luminosity'] = 3000\n",
    "        data['cut_type'] = 'quark_jet_2'\n",
    "        data['GGF_cutflow_file'] = '../Sample/selection_results_GGF_quark_jet.npy'\n",
    "        data['VBF_cutflow_file'] = '../Sample/selection_results_VBF_quark_jet.npy'\n",
    "        data['model_name'] = f'quark_jet_2_cut_eta_phi_aug_{aug}_{i:02}'\n",
    "        data['sample_type'] = f'quark jet: = 2, L: 3000 fb^-1, pT normalized, eta-phi smearing: +{aug}'\n",
    "\n",
    "        json.dump(data, f, indent=4)\n",
    "\n",
    "    cmd = f'python train_CNN.py {config_path}'\n",
    "    print(cmd)\n",
    "    i += 1"
   ]
  },
  {
   "cell_type": "markdown",
   "metadata": {},
   "source": [
    "# Only $\\phi$ shifting"
   ]
  },
  {
   "cell_type": "code",
   "execution_count": 28,
   "metadata": {},
   "outputs": [
    {
     "name": "stdout",
     "output_type": "stream",
     "text": [
      "python train_CNN.py config_files/quark_jet_2_cut_L_3000_pT_norm_only_phi_aug_5_config_01.json\n",
      "python train_CNN.py config_files/quark_jet_2_cut_L_3000_pT_norm_only_phi_aug_5_config_02.json\n",
      "python train_CNN.py config_files/quark_jet_2_cut_L_3000_pT_norm_only_phi_aug_5_config_03.json\n",
      "python train_CNN.py config_files/quark_jet_2_cut_L_3000_pT_norm_only_phi_aug_5_config_04.json\n",
      "python train_CNN.py config_files/quark_jet_2_cut_L_3000_pT_norm_only_phi_aug_5_config_05.json\n",
      "python train_CNN.py config_files/quark_jet_2_cut_L_3000_pT_norm_only_phi_aug_5_config_06.json\n",
      "python train_CNN.py config_files/quark_jet_2_cut_L_3000_pT_norm_only_phi_aug_5_config_07.json\n",
      "python train_CNN.py config_files/quark_jet_2_cut_L_3000_pT_norm_only_phi_aug_5_config_08.json\n",
      "python train_CNN.py config_files/quark_jet_2_cut_L_3000_pT_norm_only_phi_aug_5_config_09.json\n",
      "python train_CNN.py config_files/quark_jet_2_cut_L_3000_pT_norm_only_phi_aug_5_config_10.json\n"
     ]
    }
   ],
   "source": [
    "i = 1\n",
    "aug = 5\n",
    "for seed in range(123, 1100, 100):\n",
    "    config_path = f'config_files/quark_jet_2_cut_L_3000_pT_norm_only_phi_aug_{aug}_config_{i:02}.json'\n",
    "    with open(config_path, 'w') as f:\n",
    "        data = {}\n",
    "\n",
    "        data['npy_paths'] = [f'../Sample/data/quark_jet_2_cut/phi_shifting/40x40/{n:02}/' for n in range(1, 1 + aug)]\n",
    "        data['seed'] = seed\n",
    "        data['luminosity'] = 3000\n",
    "        data['cut_type'] = 'quark_jet_2'\n",
    "        data['GGF_cutflow_file'] = '../Sample/selection_results_GGF_quark_jet.npy'\n",
    "        data['VBF_cutflow_file'] = '../Sample/selection_results_VBF_quark_jet.npy'\n",
    "        data['model_name'] = f'quark_jet_2_cut_only_phi_aug_{aug}_{i:02}'\n",
    "        data['sample_type'] = f'quark jet: = 2, L: 3000 fb^-1, pT normalized, only phi shifting: +{aug}'\n",
    "\n",
    "        json.dump(data, f, indent=4)\n",
    "\n",
    "    cmd = f'python train_CNN.py {config_path}'\n",
    "    print(cmd)\n",
    "    i += 1"
   ]
  },
  {
   "cell_type": "code",
   "execution_count": 29,
   "metadata": {},
   "outputs": [
    {
     "name": "stdout",
     "output_type": "stream",
     "text": [
      "python train_CNN.py config_files/quark_jet_2_cut_L_3000_pT_norm_only_phi_aug_10_config_01.json\n",
      "python train_CNN.py config_files/quark_jet_2_cut_L_3000_pT_norm_only_phi_aug_10_config_02.json\n",
      "python train_CNN.py config_files/quark_jet_2_cut_L_3000_pT_norm_only_phi_aug_10_config_03.json\n",
      "python train_CNN.py config_files/quark_jet_2_cut_L_3000_pT_norm_only_phi_aug_10_config_04.json\n",
      "python train_CNN.py config_files/quark_jet_2_cut_L_3000_pT_norm_only_phi_aug_10_config_05.json\n",
      "python train_CNN.py config_files/quark_jet_2_cut_L_3000_pT_norm_only_phi_aug_10_config_06.json\n",
      "python train_CNN.py config_files/quark_jet_2_cut_L_3000_pT_norm_only_phi_aug_10_config_07.json\n",
      "python train_CNN.py config_files/quark_jet_2_cut_L_3000_pT_norm_only_phi_aug_10_config_08.json\n",
      "python train_CNN.py config_files/quark_jet_2_cut_L_3000_pT_norm_only_phi_aug_10_config_09.json\n",
      "python train_CNN.py config_files/quark_jet_2_cut_L_3000_pT_norm_only_phi_aug_10_config_10.json\n"
     ]
    }
   ],
   "source": [
    "i = 1\n",
    "aug = 10\n",
    "for seed in range(123, 1100, 100):\n",
    "    config_path = f'config_files/quark_jet_2_cut_L_3000_pT_norm_only_phi_aug_{aug}_config_{i:02}.json'\n",
    "    with open(config_path, 'w') as f:\n",
    "        data = {}\n",
    "\n",
    "        data['npy_paths'] = [f'../Sample/data/quark_jet_2_cut/phi_shifting/40x40/{n:02}/' for n in range(1, 1 + aug)]\n",
    "        data['seed'] = seed\n",
    "        data['luminosity'] = 3000\n",
    "        data['cut_type'] = 'quark_jet_2'\n",
    "        data['GGF_cutflow_file'] = '../Sample/selection_results_GGF_quark_jet.npy'\n",
    "        data['VBF_cutflow_file'] = '../Sample/selection_results_VBF_quark_jet.npy'\n",
    "        data['model_name'] = f'quark_jet_2_cut_only_phi_aug_{aug}_{i:02}'\n",
    "        data['sample_type'] = f'quark jet: = 2, L: 3000 fb^-1, pT normalized, only phi shifting: +{aug}'\n",
    "\n",
    "        json.dump(data, f, indent=4)\n",
    "\n",
    "    cmd = f'python train_CNN.py {config_path}'\n",
    "    print(cmd)\n",
    "    i += 1"
   ]
  },
  {
   "cell_type": "code",
   "execution_count": 30,
   "metadata": {},
   "outputs": [
    {
     "name": "stdout",
     "output_type": "stream",
     "text": [
      "python train_CNN.py config_files/quark_jet_2_cut_L_3000_pT_norm_only_phi_aug_15_config_01.json\n",
      "python train_CNN.py config_files/quark_jet_2_cut_L_3000_pT_norm_only_phi_aug_15_config_02.json\n",
      "python train_CNN.py config_files/quark_jet_2_cut_L_3000_pT_norm_only_phi_aug_15_config_03.json\n",
      "python train_CNN.py config_files/quark_jet_2_cut_L_3000_pT_norm_only_phi_aug_15_config_04.json\n",
      "python train_CNN.py config_files/quark_jet_2_cut_L_3000_pT_norm_only_phi_aug_15_config_05.json\n",
      "python train_CNN.py config_files/quark_jet_2_cut_L_3000_pT_norm_only_phi_aug_15_config_06.json\n",
      "python train_CNN.py config_files/quark_jet_2_cut_L_3000_pT_norm_only_phi_aug_15_config_07.json\n",
      "python train_CNN.py config_files/quark_jet_2_cut_L_3000_pT_norm_only_phi_aug_15_config_08.json\n",
      "python train_CNN.py config_files/quark_jet_2_cut_L_3000_pT_norm_only_phi_aug_15_config_09.json\n",
      "python train_CNN.py config_files/quark_jet_2_cut_L_3000_pT_norm_only_phi_aug_15_config_10.json\n"
     ]
    }
   ],
   "source": [
    "i = 1\n",
    "aug = 15\n",
    "for seed in range(123, 1100, 100):\n",
    "    config_path = f'config_files/quark_jet_2_cut_L_3000_pT_norm_only_phi_aug_{aug}_config_{i:02}.json'\n",
    "    with open(config_path, 'w') as f:\n",
    "        data = {}\n",
    "\n",
    "        data['npy_paths'] = [f'../Sample/data/quark_jet_2_cut/phi_shifting/40x40/{n:02}/' for n in range(1, 1 + aug)]\n",
    "        data['seed'] = seed\n",
    "        data['luminosity'] = 3000\n",
    "        data['cut_type'] = 'quark_jet_2'\n",
    "        data['GGF_cutflow_file'] = '../Sample/selection_results_GGF_quark_jet.npy'\n",
    "        data['VBF_cutflow_file'] = '../Sample/selection_results_VBF_quark_jet.npy'\n",
    "        data['model_name'] = f'quark_jet_2_cut_only_phi_aug_{aug}_{i:02}'\n",
    "        data['sample_type'] = f'quark jet: = 2, L: 3000 fb^-1, pT normalized, only phi shifting: +{aug}'\n",
    "\n",
    "        json.dump(data, f, indent=4)\n",
    "\n",
    "    cmd = f'python train_CNN.py {config_path}'\n",
    "    print(cmd)\n",
    "    i += 1"
   ]
  },
  {
   "cell_type": "markdown",
   "metadata": {},
   "source": [
    "# Remove photon information"
   ]
  },
  {
   "cell_type": "code",
   "execution_count": 31,
   "metadata": {},
   "outputs": [
    {
     "name": "stdout",
     "output_type": "stream",
     "text": [
      "python train_CNN.py config_files/quark_jet_2_cut_L_3000_pT_norm_remove_photon_config_01.json\n",
      "python train_CNN.py config_files/quark_jet_2_cut_L_3000_pT_norm_remove_photon_config_02.json\n",
      "python train_CNN.py config_files/quark_jet_2_cut_L_3000_pT_norm_remove_photon_config_03.json\n",
      "python train_CNN.py config_files/quark_jet_2_cut_L_3000_pT_norm_remove_photon_config_04.json\n",
      "python train_CNN.py config_files/quark_jet_2_cut_L_3000_pT_norm_remove_photon_config_05.json\n",
      "python train_CNN.py config_files/quark_jet_2_cut_L_3000_pT_norm_remove_photon_config_06.json\n",
      "python train_CNN.py config_files/quark_jet_2_cut_L_3000_pT_norm_remove_photon_config_07.json\n",
      "python train_CNN.py config_files/quark_jet_2_cut_L_3000_pT_norm_remove_photon_config_08.json\n",
      "python train_CNN.py config_files/quark_jet_2_cut_L_3000_pT_norm_remove_photon_config_09.json\n",
      "python train_CNN.py config_files/quark_jet_2_cut_L_3000_pT_norm_remove_photon_config_10.json\n"
     ]
    }
   ],
   "source": [
    "i = 1\n",
    "# aug = 5\n",
    "for seed in range(123, 1100, 100):\n",
    "    config_path = f'config_files/quark_jet_2_cut_L_3000_pT_norm_remove_photon_config_{i:02}.json'\n",
    "    with open(config_path, 'w') as f:\n",
    "        data = {}\n",
    "\n",
    "        data['npy_paths'] = ['../Sample/data/quark_jet_2_cut/pre-processing/remove_photon/40x40/']\n",
    "        data['seed'] = seed\n",
    "        data['luminosity'] = 3000\n",
    "        data['cut_type'] = 'quark_jet_2'\n",
    "        data['GGF_cutflow_file'] = '../Sample/selection_results_GGF_quark_jet.npy'\n",
    "        data['VBF_cutflow_file'] = '../Sample/selection_results_VBF_quark_jet.npy'\n",
    "        data['model_name'] = f'quark_jet_2_cut_wo_a_{i:02}'\n",
    "        data['sample_type'] = f'quark jet: = 2, L: 3000 fb^-1, pT normalized, remove photon'\n",
    "\n",
    "        json.dump(data, f, indent=4)\n",
    "\n",
    "    cmd = f'python train_CNN.py {config_path}'\n",
    "    print(cmd)\n",
    "    i += 1"
   ]
  },
  {
   "cell_type": "code",
   "execution_count": 32,
   "metadata": {},
   "outputs": [
    {
     "name": "stdout",
     "output_type": "stream",
     "text": [
      "python train_CNN.py config_files/quark_jet_2_cut_L_3000_pT_norm_remove_photon_phi_aug_5_config_01.json\n",
      "python train_CNN.py config_files/quark_jet_2_cut_L_3000_pT_norm_remove_photon_phi_aug_5_config_02.json\n",
      "python train_CNN.py config_files/quark_jet_2_cut_L_3000_pT_norm_remove_photon_phi_aug_5_config_03.json\n",
      "python train_CNN.py config_files/quark_jet_2_cut_L_3000_pT_norm_remove_photon_phi_aug_5_config_04.json\n",
      "python train_CNN.py config_files/quark_jet_2_cut_L_3000_pT_norm_remove_photon_phi_aug_5_config_05.json\n",
      "python train_CNN.py config_files/quark_jet_2_cut_L_3000_pT_norm_remove_photon_phi_aug_5_config_06.json\n",
      "python train_CNN.py config_files/quark_jet_2_cut_L_3000_pT_norm_remove_photon_phi_aug_5_config_07.json\n",
      "python train_CNN.py config_files/quark_jet_2_cut_L_3000_pT_norm_remove_photon_phi_aug_5_config_08.json\n",
      "python train_CNN.py config_files/quark_jet_2_cut_L_3000_pT_norm_remove_photon_phi_aug_5_config_09.json\n",
      "python train_CNN.py config_files/quark_jet_2_cut_L_3000_pT_norm_remove_photon_phi_aug_5_config_10.json\n",
      "python train_CNN.py config_files/quark_jet_2_cut_L_3000_pT_norm_remove_photon_phi_aug_10_config_01.json\n",
      "python train_CNN.py config_files/quark_jet_2_cut_L_3000_pT_norm_remove_photon_phi_aug_10_config_02.json\n",
      "python train_CNN.py config_files/quark_jet_2_cut_L_3000_pT_norm_remove_photon_phi_aug_10_config_03.json\n",
      "python train_CNN.py config_files/quark_jet_2_cut_L_3000_pT_norm_remove_photon_phi_aug_10_config_04.json\n",
      "python train_CNN.py config_files/quark_jet_2_cut_L_3000_pT_norm_remove_photon_phi_aug_10_config_05.json\n",
      "python train_CNN.py config_files/quark_jet_2_cut_L_3000_pT_norm_remove_photon_phi_aug_10_config_06.json\n",
      "python train_CNN.py config_files/quark_jet_2_cut_L_3000_pT_norm_remove_photon_phi_aug_10_config_07.json\n",
      "python train_CNN.py config_files/quark_jet_2_cut_L_3000_pT_norm_remove_photon_phi_aug_10_config_08.json\n",
      "python train_CNN.py config_files/quark_jet_2_cut_L_3000_pT_norm_remove_photon_phi_aug_10_config_09.json\n",
      "python train_CNN.py config_files/quark_jet_2_cut_L_3000_pT_norm_remove_photon_phi_aug_10_config_10.json\n",
      "python train_CNN.py config_files/quark_jet_2_cut_L_3000_pT_norm_remove_photon_phi_aug_15_config_01.json\n",
      "python train_CNN.py config_files/quark_jet_2_cut_L_3000_pT_norm_remove_photon_phi_aug_15_config_02.json\n",
      "python train_CNN.py config_files/quark_jet_2_cut_L_3000_pT_norm_remove_photon_phi_aug_15_config_03.json\n",
      "python train_CNN.py config_files/quark_jet_2_cut_L_3000_pT_norm_remove_photon_phi_aug_15_config_04.json\n",
      "python train_CNN.py config_files/quark_jet_2_cut_L_3000_pT_norm_remove_photon_phi_aug_15_config_05.json\n",
      "python train_CNN.py config_files/quark_jet_2_cut_L_3000_pT_norm_remove_photon_phi_aug_15_config_06.json\n",
      "python train_CNN.py config_files/quark_jet_2_cut_L_3000_pT_norm_remove_photon_phi_aug_15_config_07.json\n",
      "python train_CNN.py config_files/quark_jet_2_cut_L_3000_pT_norm_remove_photon_phi_aug_15_config_08.json\n",
      "python train_CNN.py config_files/quark_jet_2_cut_L_3000_pT_norm_remove_photon_phi_aug_15_config_09.json\n",
      "python train_CNN.py config_files/quark_jet_2_cut_L_3000_pT_norm_remove_photon_phi_aug_15_config_10.json\n"
     ]
    }
   ],
   "source": [
    "i = 1\n",
    "aug = 5\n",
    "for seed in range(123, 1100, 100):\n",
    "    config_path = f'config_files/quark_jet_2_cut_L_3000_pT_norm_remove_photon_phi_aug_{aug}_config_{i:02}.json'\n",
    "    with open(config_path, 'w') as f:\n",
    "        data = {}\n",
    "\n",
    "        data['npy_paths'] = ['../Sample/data/quark_jet_2_cut/pre-processing/remove_photon/40x40/'] + [f'../Sample/data/quark_jet_2_cut/phi_shifting/remove_photon/40x40/{n:02}/' for n in range(1, 1 + aug)]\n",
    "        data['seed'] = seed\n",
    "        data['luminosity'] = 3000\n",
    "        data['cut_type'] = 'quark_jet_2'\n",
    "        data['GGF_cutflow_file'] = '../Sample/selection_results_GGF_quark_jet.npy'\n",
    "        data['VBF_cutflow_file'] = '../Sample/selection_results_VBF_quark_jet.npy'\n",
    "        data['model_name'] = f'quark_jet_2_cut_wo_a_phi_aug_{aug}_{i:02}'\n",
    "        data['sample_type'] = f'quark jet: = 2, L: 3000 fb^-1, pT normalized, remove photon, phi shifting: +{aug}'\n",
    "\n",
    "        json.dump(data, f, indent=4)\n",
    "\n",
    "    cmd = f'python train_CNN.py {config_path}'\n",
    "    print(cmd)\n",
    "    i += 1\n",
    "\n",
    "i = 1\n",
    "aug = 10\n",
    "for seed in range(123, 1100, 100):\n",
    "    config_path = f'config_files/quark_jet_2_cut_L_3000_pT_norm_remove_photon_phi_aug_{aug}_config_{i:02}.json'\n",
    "    with open(config_path, 'w') as f:\n",
    "        data = {}\n",
    "\n",
    "        data['npy_paths'] = ['../Sample/data/quark_jet_2_cut/pre-processing/remove_photon/40x40/'] + [f'../Sample/data/quark_jet_2_cut/phi_shifting/remove_photon/40x40/{n:02}/' for n in range(1, 1 + aug)]\n",
    "        data['seed'] = seed\n",
    "        data['luminosity'] = 3000\n",
    "        data['cut_type'] = 'quark_jet_2'\n",
    "        data['GGF_cutflow_file'] = '../Sample/selection_results_GGF_quark_jet.npy'\n",
    "        data['VBF_cutflow_file'] = '../Sample/selection_results_VBF_quark_jet.npy'\n",
    "        data['model_name'] = f'quark_jet_2_cut_wo_a_phi_aug_{aug}_{i:02}'\n",
    "        data['sample_type'] = f'quark jet: = 2, L: 3000 fb^-1, pT normalized, remove photon, phi shifting: +{aug}'\n",
    "\n",
    "        json.dump(data, f, indent=4)\n",
    "\n",
    "    cmd = f'python train_CNN.py {config_path}'\n",
    "    print(cmd)\n",
    "    i += 1\n",
    "\n",
    "i = 1\n",
    "aug = 15\n",
    "for seed in range(123, 1100, 100):\n",
    "    config_path = f'config_files/quark_jet_2_cut_L_3000_pT_norm_remove_photon_phi_aug_{aug}_config_{i:02}.json'\n",
    "    with open(config_path, 'w') as f:\n",
    "        data = {}\n",
    "\n",
    "        data['npy_paths'] = ['../Sample/data/quark_jet_2_cut/pre-processing/remove_photon/40x40/'] + [f'../Sample/data/quark_jet_2_cut/phi_shifting/remove_photon/40x40/{n:02}/' for n in range(1, 1 + aug)]\n",
    "        data['seed'] = seed\n",
    "        data['luminosity'] = 3000\n",
    "        data['cut_type'] = 'quark_jet_2'\n",
    "        data['GGF_cutflow_file'] = '../Sample/selection_results_GGF_quark_jet.npy'\n",
    "        data['VBF_cutflow_file'] = '../Sample/selection_results_VBF_quark_jet.npy'\n",
    "        data['model_name'] = f'quark_jet_2_cut_wo_a_phi_aug_{aug}_{i:02}'\n",
    "        data['sample_type'] = f'quark jet: = 2, L: 3000 fb^-1, pT normalized, remove photon, phi shifting: +{aug}'\n",
    "\n",
    "        json.dump(data, f, indent=4)\n",
    "\n",
    "    cmd = f'python train_CNN.py {config_path}'\n",
    "    print(cmd)\n",
    "    i += 1"
   ]
  },
  {
   "cell_type": "code",
   "execution_count": 33,
   "metadata": {},
   "outputs": [
    {
     "name": "stdout",
     "output_type": "stream",
     "text": [
      "python train_CNN.py config_files/quark_jet_2_cut_L_3000_pT_norm_remove_photon_channel_config_01.json\n",
      "python train_CNN.py config_files/quark_jet_2_cut_L_3000_pT_norm_remove_photon_channel_config_02.json\n",
      "python train_CNN.py config_files/quark_jet_2_cut_L_3000_pT_norm_remove_photon_channel_config_03.json\n",
      "python train_CNN.py config_files/quark_jet_2_cut_L_3000_pT_norm_remove_photon_channel_config_04.json\n",
      "python train_CNN.py config_files/quark_jet_2_cut_L_3000_pT_norm_remove_photon_channel_config_05.json\n",
      "python train_CNN.py config_files/quark_jet_2_cut_L_3000_pT_norm_remove_photon_channel_config_06.json\n",
      "python train_CNN.py config_files/quark_jet_2_cut_L_3000_pT_norm_remove_photon_channel_config_07.json\n",
      "python train_CNN.py config_files/quark_jet_2_cut_L_3000_pT_norm_remove_photon_channel_config_08.json\n",
      "python train_CNN.py config_files/quark_jet_2_cut_L_3000_pT_norm_remove_photon_channel_config_09.json\n",
      "python train_CNN.py config_files/quark_jet_2_cut_L_3000_pT_norm_remove_photon_channel_config_10.json\n"
     ]
    }
   ],
   "source": [
    "i = 1\n",
    "# aug = 5\n",
    "for seed in range(123, 1100, 100):\n",
    "    config_path = f'config_files/quark_jet_2_cut_L_3000_pT_norm_remove_photon_channel_config_{i:02}.json'\n",
    "    with open(config_path, 'w') as f:\n",
    "        data = {}\n",
    "\n",
    "        data['npy_paths'] = ['../Sample/data/quark_jet_2_cut/pre-processing/remove_photon_channel/40x40/']\n",
    "        data['seed'] = seed\n",
    "        data['luminosity'] = 3000\n",
    "        data['cut_type'] = 'quark_jet_2'\n",
    "        data['GGF_cutflow_file'] = '../Sample/selection_results_GGF_quark_jet.npy'\n",
    "        data['VBF_cutflow_file'] = '../Sample/selection_results_VBF_quark_jet.npy'\n",
    "        data['model_name'] = f'quark_jet_2_cut_wo_a_ch_{i:02}'\n",
    "        data['sample_type'] = f'quark jet: = 2, L: 3000 fb^-1, pT normalized, remove photon channel'\n",
    "\n",
    "        json.dump(data, f, indent=4)\n",
    "\n",
    "    cmd = f'python train_CNN.py {config_path}'\n",
    "    print(cmd)\n",
    "    i += 1"
   ]
  },
  {
   "cell_type": "code",
   "execution_count": 34,
   "metadata": {},
   "outputs": [
    {
     "name": "stdout",
     "output_type": "stream",
     "text": [
      "python train_CNN.py config_files/quark_jet_2_cut_L_3000_pT_norm_remove_photon_channel_phi_aug_5_config_01.json\n",
      "python train_CNN.py config_files/quark_jet_2_cut_L_3000_pT_norm_remove_photon_channel_phi_aug_5_config_02.json\n",
      "python train_CNN.py config_files/quark_jet_2_cut_L_3000_pT_norm_remove_photon_channel_phi_aug_5_config_03.json\n",
      "python train_CNN.py config_files/quark_jet_2_cut_L_3000_pT_norm_remove_photon_channel_phi_aug_5_config_04.json\n",
      "python train_CNN.py config_files/quark_jet_2_cut_L_3000_pT_norm_remove_photon_channel_phi_aug_5_config_05.json\n",
      "python train_CNN.py config_files/quark_jet_2_cut_L_3000_pT_norm_remove_photon_channel_phi_aug_5_config_06.json\n",
      "python train_CNN.py config_files/quark_jet_2_cut_L_3000_pT_norm_remove_photon_channel_phi_aug_5_config_07.json\n",
      "python train_CNN.py config_files/quark_jet_2_cut_L_3000_pT_norm_remove_photon_channel_phi_aug_5_config_08.json\n",
      "python train_CNN.py config_files/quark_jet_2_cut_L_3000_pT_norm_remove_photon_channel_phi_aug_5_config_09.json\n",
      "python train_CNN.py config_files/quark_jet_2_cut_L_3000_pT_norm_remove_photon_channel_phi_aug_5_config_10.json\n",
      "python train_CNN.py config_files/quark_jet_2_cut_L_3000_pT_norm_remove_photon_channel_phi_aug_10_config_01.json\n",
      "python train_CNN.py config_files/quark_jet_2_cut_L_3000_pT_norm_remove_photon_channel_phi_aug_10_config_02.json\n",
      "python train_CNN.py config_files/quark_jet_2_cut_L_3000_pT_norm_remove_photon_channel_phi_aug_10_config_03.json\n",
      "python train_CNN.py config_files/quark_jet_2_cut_L_3000_pT_norm_remove_photon_channel_phi_aug_10_config_04.json\n",
      "python train_CNN.py config_files/quark_jet_2_cut_L_3000_pT_norm_remove_photon_channel_phi_aug_10_config_05.json\n",
      "python train_CNN.py config_files/quark_jet_2_cut_L_3000_pT_norm_remove_photon_channel_phi_aug_10_config_06.json\n",
      "python train_CNN.py config_files/quark_jet_2_cut_L_3000_pT_norm_remove_photon_channel_phi_aug_10_config_07.json\n",
      "python train_CNN.py config_files/quark_jet_2_cut_L_3000_pT_norm_remove_photon_channel_phi_aug_10_config_08.json\n",
      "python train_CNN.py config_files/quark_jet_2_cut_L_3000_pT_norm_remove_photon_channel_phi_aug_10_config_09.json\n",
      "python train_CNN.py config_files/quark_jet_2_cut_L_3000_pT_norm_remove_photon_channel_phi_aug_10_config_10.json\n",
      "python train_CNN.py config_files/quark_jet_2_cut_L_3000_pT_norm_remove_photon_channel_phi_aug_15_config_01.json\n",
      "python train_CNN.py config_files/quark_jet_2_cut_L_3000_pT_norm_remove_photon_channel_phi_aug_15_config_02.json\n",
      "python train_CNN.py config_files/quark_jet_2_cut_L_3000_pT_norm_remove_photon_channel_phi_aug_15_config_03.json\n",
      "python train_CNN.py config_files/quark_jet_2_cut_L_3000_pT_norm_remove_photon_channel_phi_aug_15_config_04.json\n",
      "python train_CNN.py config_files/quark_jet_2_cut_L_3000_pT_norm_remove_photon_channel_phi_aug_15_config_05.json\n",
      "python train_CNN.py config_files/quark_jet_2_cut_L_3000_pT_norm_remove_photon_channel_phi_aug_15_config_06.json\n",
      "python train_CNN.py config_files/quark_jet_2_cut_L_3000_pT_norm_remove_photon_channel_phi_aug_15_config_07.json\n",
      "python train_CNN.py config_files/quark_jet_2_cut_L_3000_pT_norm_remove_photon_channel_phi_aug_15_config_08.json\n",
      "python train_CNN.py config_files/quark_jet_2_cut_L_3000_pT_norm_remove_photon_channel_phi_aug_15_config_09.json\n",
      "python train_CNN.py config_files/quark_jet_2_cut_L_3000_pT_norm_remove_photon_channel_phi_aug_15_config_10.json\n"
     ]
    }
   ],
   "source": [
    "i = 1\n",
    "aug = 5\n",
    "for seed in range(123, 1100, 100):\n",
    "    config_path = f'config_files/quark_jet_2_cut_L_3000_pT_norm_remove_photon_channel_phi_aug_{aug}_config_{i:02}.json'\n",
    "    with open(config_path, 'w') as f:\n",
    "        data = {}\n",
    "\n",
    "        data['npy_paths'] = ['../Sample/data/quark_jet_2_cut/pre-processing/remove_photon_channel/40x40/'] + [f'../Sample/data/quark_jet_2_cut/phi_shifting/remove_photon_channel/40x40/{n:02}/' for n in range(1, 1 + aug)]\n",
    "        data['seed'] = seed\n",
    "        data['luminosity'] = 3000\n",
    "        data['cut_type'] = 'quark_jet_2'\n",
    "        data['GGF_cutflow_file'] = '../Sample/selection_results_GGF_quark_jet.npy'\n",
    "        data['VBF_cutflow_file'] = '../Sample/selection_results_VBF_quark_jet.npy'\n",
    "        data['model_name'] = f'quark_jet_2_cut_wo_a_ch_phi_aug_{aug}_{i:02}'\n",
    "        data['sample_type'] = f'quark jet: = 2, L: 3000 fb^-1, pT normalized, remove photon channel, phi shifting: +{aug}'\n",
    "\n",
    "        json.dump(data, f, indent=4)\n",
    "\n",
    "    cmd = f'python train_CNN.py {config_path}'\n",
    "    print(cmd)\n",
    "    i += 1\n",
    "\n",
    "i = 1\n",
    "aug = 10\n",
    "for seed in range(123, 1100, 100):\n",
    "    config_path = f'config_files/quark_jet_2_cut_L_3000_pT_norm_remove_photon_channel_phi_aug_{aug}_config_{i:02}.json'\n",
    "    with open(config_path, 'w') as f:\n",
    "        data = {}\n",
    "\n",
    "        data['npy_paths'] = ['../Sample/data/quark_jet_2_cut/pre-processing/remove_photon_channel/40x40/'] + [f'../Sample/data/quark_jet_2_cut/phi_shifting/remove_photon_channel/40x40/{n:02}/' for n in range(1, 1 + aug)]\n",
    "        data['seed'] = seed\n",
    "        data['luminosity'] = 3000\n",
    "        data['cut_type'] = 'quark_jet_2'\n",
    "        data['GGF_cutflow_file'] = '../Sample/selection_results_GGF_quark_jet.npy'\n",
    "        data['VBF_cutflow_file'] = '../Sample/selection_results_VBF_quark_jet.npy'\n",
    "        data['model_name'] = f'quark_jet_2_cut_wo_a_ch_phi_aug_{aug}_{i:02}'\n",
    "        data['sample_type'] = f'quark jet: = 2, L: 3000 fb^-1, pT normalized, remove photon channel, phi shifting: +{aug}'\n",
    "\n",
    "        json.dump(data, f, indent=4)\n",
    "\n",
    "    cmd = f'python train_CNN.py {config_path}'\n",
    "    print(cmd)\n",
    "    i += 1\n",
    "\n",
    "i = 1\n",
    "aug = 15\n",
    "for seed in range(123, 1100, 100):\n",
    "    config_path = f'config_files/quark_jet_2_cut_L_3000_pT_norm_remove_photon_channel_phi_aug_{aug}_config_{i:02}.json'\n",
    "    with open(config_path, 'w') as f:\n",
    "        data = {}\n",
    "\n",
    "        data['npy_paths'] = ['../Sample/data/quark_jet_2_cut/pre-processing/remove_photon_channel/40x40/'] + [f'../Sample/data/quark_jet_2_cut/phi_shifting/remove_photon_channel/40x40/{n:02}/' for n in range(1, 1 + aug)]\n",
    "        data['seed'] = seed\n",
    "        data['luminosity'] = 3000\n",
    "        data['cut_type'] = 'quark_jet_2'\n",
    "        data['GGF_cutflow_file'] = '../Sample/selection_results_GGF_quark_jet.npy'\n",
    "        data['VBF_cutflow_file'] = '../Sample/selection_results_VBF_quark_jet.npy'\n",
    "        data['model_name'] = f'quark_jet_2_cut_wo_a_ch_phi_aug_{aug}_{i:02}'\n",
    "        data['sample_type'] = f'quark jet: = 2, L: 3000 fb^-1, pT normalized, remove photon channel, phi shifting: +{aug}'\n",
    "\n",
    "        json.dump(data, f, indent=4)\n",
    "\n",
    "    cmd = f'python train_CNN.py {config_path}'\n",
    "    print(cmd)\n",
    "    i += 1"
   ]
  },
  {
   "cell_type": "code",
   "execution_count": 35,
   "metadata": {},
   "outputs": [
    {
     "name": "stdout",
     "output_type": "stream",
     "text": [
      "python train_CNN.py config_files/quark_jet_2_cut_L_3000_pT_norm_remove_photon_case3_config_01.json\n",
      "python train_CNN.py config_files/quark_jet_2_cut_L_3000_pT_norm_remove_photon_case3_config_02.json\n",
      "python train_CNN.py config_files/quark_jet_2_cut_L_3000_pT_norm_remove_photon_case3_config_03.json\n",
      "python train_CNN.py config_files/quark_jet_2_cut_L_3000_pT_norm_remove_photon_case3_config_04.json\n",
      "python train_CNN.py config_files/quark_jet_2_cut_L_3000_pT_norm_remove_photon_case3_config_05.json\n",
      "python train_CNN.py config_files/quark_jet_2_cut_L_3000_pT_norm_remove_photon_case3_config_06.json\n",
      "python train_CNN.py config_files/quark_jet_2_cut_L_3000_pT_norm_remove_photon_case3_config_07.json\n",
      "python train_CNN.py config_files/quark_jet_2_cut_L_3000_pT_norm_remove_photon_case3_config_08.json\n",
      "python train_CNN.py config_files/quark_jet_2_cut_L_3000_pT_norm_remove_photon_case3_config_09.json\n",
      "python train_CNN.py config_files/quark_jet_2_cut_L_3000_pT_norm_remove_photon_case3_config_10.json\n"
     ]
    }
   ],
   "source": [
    "i = 1\n",
    "# aug = 5\n",
    "for seed in range(123, 1100, 100):\n",
    "    config_path = f'config_files/quark_jet_2_cut_L_3000_pT_norm_remove_photon_case3_config_{i:02}.json'\n",
    "    with open(config_path, 'w') as f:\n",
    "        data = {}\n",
    "\n",
    "        data['npy_paths'] = ['../Sample/data/quark_jet_2_cut/pre-processing/remove_photon_case_3/40x40/']\n",
    "        data['seed'] = seed\n",
    "        data['luminosity'] = 3000\n",
    "        data['cut_type'] = 'quark_jet_2'\n",
    "        data['GGF_cutflow_file'] = '../Sample/selection_results_GGF_quark_jet.npy'\n",
    "        data['VBF_cutflow_file'] = '../Sample/selection_results_VBF_quark_jet.npy'\n",
    "        data['model_name'] = f'quark_jet_2_cut_wo_a_case3_{i:02}'\n",
    "        data['sample_type'] = f'quark jet: = 2, L: 3000 fb^-1, pT normalized, remove photon: case 3'\n",
    "\n",
    "        json.dump(data, f, indent=4)\n",
    "\n",
    "    cmd = f'python train_CNN.py {config_path}'\n",
    "    print(cmd)\n",
    "    i += 1"
   ]
  },
  {
   "cell_type": "code",
   "execution_count": 36,
   "metadata": {},
   "outputs": [
    {
     "name": "stdout",
     "output_type": "stream",
     "text": [
      "python train_CNN.py config_files/quark_jet_2_cut_L_3000_pT_norm_remove_photon_case3_phi_aug_5_config_01.json\n",
      "python train_CNN.py config_files/quark_jet_2_cut_L_3000_pT_norm_remove_photon_case3_phi_aug_5_config_02.json\n",
      "python train_CNN.py config_files/quark_jet_2_cut_L_3000_pT_norm_remove_photon_case3_phi_aug_5_config_03.json\n",
      "python train_CNN.py config_files/quark_jet_2_cut_L_3000_pT_norm_remove_photon_case3_phi_aug_5_config_04.json\n",
      "python train_CNN.py config_files/quark_jet_2_cut_L_3000_pT_norm_remove_photon_case3_phi_aug_5_config_05.json\n",
      "python train_CNN.py config_files/quark_jet_2_cut_L_3000_pT_norm_remove_photon_case3_phi_aug_5_config_06.json\n",
      "python train_CNN.py config_files/quark_jet_2_cut_L_3000_pT_norm_remove_photon_case3_phi_aug_5_config_07.json\n",
      "python train_CNN.py config_files/quark_jet_2_cut_L_3000_pT_norm_remove_photon_case3_phi_aug_5_config_08.json\n",
      "python train_CNN.py config_files/quark_jet_2_cut_L_3000_pT_norm_remove_photon_case3_phi_aug_5_config_09.json\n",
      "python train_CNN.py config_files/quark_jet_2_cut_L_3000_pT_norm_remove_photon_case3_phi_aug_5_config_10.json\n",
      "python train_CNN.py config_files/quark_jet_2_cut_L_3000_pT_norm_remove_photon_case3_phi_aug_10_config_01.json\n",
      "python train_CNN.py config_files/quark_jet_2_cut_L_3000_pT_norm_remove_photon_case3_phi_aug_10_config_02.json\n",
      "python train_CNN.py config_files/quark_jet_2_cut_L_3000_pT_norm_remove_photon_case3_phi_aug_10_config_03.json\n",
      "python train_CNN.py config_files/quark_jet_2_cut_L_3000_pT_norm_remove_photon_case3_phi_aug_10_config_04.json\n",
      "python train_CNN.py config_files/quark_jet_2_cut_L_3000_pT_norm_remove_photon_case3_phi_aug_10_config_05.json\n",
      "python train_CNN.py config_files/quark_jet_2_cut_L_3000_pT_norm_remove_photon_case3_phi_aug_10_config_06.json\n",
      "python train_CNN.py config_files/quark_jet_2_cut_L_3000_pT_norm_remove_photon_case3_phi_aug_10_config_07.json\n",
      "python train_CNN.py config_files/quark_jet_2_cut_L_3000_pT_norm_remove_photon_case3_phi_aug_10_config_08.json\n",
      "python train_CNN.py config_files/quark_jet_2_cut_L_3000_pT_norm_remove_photon_case3_phi_aug_10_config_09.json\n",
      "python train_CNN.py config_files/quark_jet_2_cut_L_3000_pT_norm_remove_photon_case3_phi_aug_10_config_10.json\n",
      "python train_CNN.py config_files/quark_jet_2_cut_L_3000_pT_norm_remove_photon_case3_phi_aug_15_config_01.json\n",
      "python train_CNN.py config_files/quark_jet_2_cut_L_3000_pT_norm_remove_photon_case3_phi_aug_15_config_02.json\n",
      "python train_CNN.py config_files/quark_jet_2_cut_L_3000_pT_norm_remove_photon_case3_phi_aug_15_config_03.json\n",
      "python train_CNN.py config_files/quark_jet_2_cut_L_3000_pT_norm_remove_photon_case3_phi_aug_15_config_04.json\n",
      "python train_CNN.py config_files/quark_jet_2_cut_L_3000_pT_norm_remove_photon_case3_phi_aug_15_config_05.json\n",
      "python train_CNN.py config_files/quark_jet_2_cut_L_3000_pT_norm_remove_photon_case3_phi_aug_15_config_06.json\n",
      "python train_CNN.py config_files/quark_jet_2_cut_L_3000_pT_norm_remove_photon_case3_phi_aug_15_config_07.json\n",
      "python train_CNN.py config_files/quark_jet_2_cut_L_3000_pT_norm_remove_photon_case3_phi_aug_15_config_08.json\n",
      "python train_CNN.py config_files/quark_jet_2_cut_L_3000_pT_norm_remove_photon_case3_phi_aug_15_config_09.json\n",
      "python train_CNN.py config_files/quark_jet_2_cut_L_3000_pT_norm_remove_photon_case3_phi_aug_15_config_10.json\n"
     ]
    }
   ],
   "source": [
    "i = 1\n",
    "aug = 5\n",
    "for seed in range(123, 1100, 100):\n",
    "    config_path = f'config_files/quark_jet_2_cut_L_3000_pT_norm_remove_photon_case3_phi_aug_{aug}_config_{i:02}.json'\n",
    "    with open(config_path, 'w') as f:\n",
    "        data = {}\n",
    "\n",
    "        data['npy_paths'] = ['../Sample/data/quark_jet_2_cut/pre-processing/remove_photon_case_3/40x40/'] + [f'../Sample/data/quark_jet_2_cut/phi_shifting/remove_photon_case_3/40x40/{n:02}/' for n in range(1, 1 + aug)]\n",
    "        data['seed'] = seed\n",
    "        data['luminosity'] = 3000\n",
    "        data['cut_type'] = 'quark_jet_2'\n",
    "        data['GGF_cutflow_file'] = '../Sample/selection_results_GGF_quark_jet.npy'\n",
    "        data['VBF_cutflow_file'] = '../Sample/selection_results_VBF_quark_jet.npy'\n",
    "        data['model_name'] = f'quark_jet_2_cut_wo_a_case3_phi_aug_{aug}_{i:02}'\n",
    "        data['sample_type'] = f'quark jet: = 2, L: 3000 fb^-1, pT normalized, remove photon: case 3, phi shifting: +{aug}'\n",
    "\n",
    "        json.dump(data, f, indent=4)\n",
    "\n",
    "    cmd = f'python train_CNN.py {config_path}'\n",
    "    print(cmd)\n",
    "    i += 1\n",
    "\n",
    "i = 1\n",
    "aug = 10\n",
    "for seed in range(123, 1100, 100):\n",
    "    config_path = f'config_files/quark_jet_2_cut_L_3000_pT_norm_remove_photon_case3_phi_aug_{aug}_config_{i:02}.json'\n",
    "    with open(config_path, 'w') as f:\n",
    "        data = {}\n",
    "\n",
    "        data['npy_paths'] = ['../Sample/data/quark_jet_2_cut/pre-processing/remove_photon_case_3/40x40/'] + [f'../Sample/data/quark_jet_2_cut/phi_shifting/remove_photon_case_3/40x40/{n:02}/' for n in range(1, 1 + aug)]\n",
    "        data['seed'] = seed\n",
    "        data['luminosity'] = 3000\n",
    "        data['cut_type'] = 'quark_jet_2'\n",
    "        data['GGF_cutflow_file'] = '../Sample/selection_results_GGF_quark_jet.npy'\n",
    "        data['VBF_cutflow_file'] = '../Sample/selection_results_VBF_quark_jet.npy'\n",
    "        data['model_name'] = f'quark_jet_2_cut_wo_a_case3_phi_aug_{aug}_{i:02}'\n",
    "        data['sample_type'] = f'quark jet: = 2, L: 3000 fb^-1, pT normalized, remove photon: case 3, phi shifting: +{aug}'\n",
    "\n",
    "        json.dump(data, f, indent=4)\n",
    "\n",
    "    cmd = f'python train_CNN.py {config_path}'\n",
    "    print(cmd)\n",
    "    i += 1\n",
    "\n",
    "i = 1\n",
    "aug = 15\n",
    "for seed in range(123, 1100, 100):\n",
    "    config_path = f'config_files/quark_jet_2_cut_L_3000_pT_norm_remove_photon_case3_phi_aug_{aug}_config_{i:02}.json'\n",
    "    with open(config_path, 'w') as f:\n",
    "        data = {}\n",
    "\n",
    "        data['npy_paths'] = ['../Sample/data/quark_jet_2_cut/pre-processing/remove_photon_case_3/40x40/'] + [f'../Sample/data/quark_jet_2_cut/phi_shifting/remove_photon_case_3/40x40/{n:02}/' for n in range(1, 1 + aug)]\n",
    "        data['seed'] = seed\n",
    "        data['luminosity'] = 3000\n",
    "        data['cut_type'] = 'quark_jet_2'\n",
    "        data['GGF_cutflow_file'] = '../Sample/selection_results_GGF_quark_jet.npy'\n",
    "        data['VBF_cutflow_file'] = '../Sample/selection_results_VBF_quark_jet.npy'\n",
    "        data['model_name'] = f'quark_jet_2_cut_wo_a_case3_phi_aug_{aug}_{i:02}'\n",
    "        data['sample_type'] = f'quark jet: = 2, L: 3000 fb^-1, pT normalized, remove photon: case 3, phi shifting: +{aug}'\n",
    "\n",
    "        json.dump(data, f, indent=4)\n",
    "\n",
    "    cmd = f'python train_CNN.py {config_path}'\n",
    "    print(cmd)\n",
    "    i += 1"
   ]
  },
  {
   "cell_type": "markdown",
   "metadata": {},
   "source": [
    "# $\\phi$ shifting with fixed angle"
   ]
  },
  {
   "cell_type": "code",
   "execution_count": 37,
   "metadata": {},
   "outputs": [
    {
     "name": "stdout",
     "output_type": "stream",
     "text": [
      "python train_CNN.py config_files/quark_jet_2_cut_L_3000_pT_norm_phi_aug_fix_45_config_01.json\n",
      "python train_CNN.py config_files/quark_jet_2_cut_L_3000_pT_norm_phi_aug_fix_45_config_02.json\n",
      "python train_CNN.py config_files/quark_jet_2_cut_L_3000_pT_norm_phi_aug_fix_45_config_03.json\n",
      "python train_CNN.py config_files/quark_jet_2_cut_L_3000_pT_norm_phi_aug_fix_45_config_04.json\n",
      "python train_CNN.py config_files/quark_jet_2_cut_L_3000_pT_norm_phi_aug_fix_45_config_05.json\n",
      "python train_CNN.py config_files/quark_jet_2_cut_L_3000_pT_norm_phi_aug_fix_45_config_06.json\n",
      "python train_CNN.py config_files/quark_jet_2_cut_L_3000_pT_norm_phi_aug_fix_45_config_07.json\n",
      "python train_CNN.py config_files/quark_jet_2_cut_L_3000_pT_norm_phi_aug_fix_45_config_08.json\n",
      "python train_CNN.py config_files/quark_jet_2_cut_L_3000_pT_norm_phi_aug_fix_45_config_09.json\n",
      "python train_CNN.py config_files/quark_jet_2_cut_L_3000_pT_norm_phi_aug_fix_45_config_10.json\n"
     ]
    }
   ],
   "source": [
    "i = 1\n",
    "aug = 45\n",
    "for seed in range(123, 1100, 100):\n",
    "    config_path = f'config_files/quark_jet_2_cut_L_3000_pT_norm_phi_aug_fix_{aug}_config_{i:02}.json'\n",
    "    with open(config_path, 'w') as f:\n",
    "        data = {}\n",
    "\n",
    "        data['npy_paths'] = ['../Sample/data/quark_jet_2_cut/pre-processing/40x40/'] + [f'../Sample/data/quark_jet_2_cut/phi_shifting_fix/40x40/{n:02}/' for n in range(aug, 360, aug)]\n",
    "        data['seed'] = seed\n",
    "        data['luminosity'] = 3000\n",
    "        data['cut_type'] = 'quark_jet_2'\n",
    "        data['GGF_cutflow_file'] = '../Sample/selection_results_GGF_quark_jet.npy'\n",
    "        data['VBF_cutflow_file'] = '../Sample/selection_results_VBF_quark_jet.npy'\n",
    "        data['model_name'] = f'quark_jet_2_cut_phi_aug_fix_{aug}_{i:02}'\n",
    "        data['sample_type'] = f'quark jet: = 2, L: 3000 fb^-1, pT normalized, phi shifting, fixed angle: {aug}'\n",
    "\n",
    "        json.dump(data, f, indent=4)\n",
    "\n",
    "    cmd = f'python train_CNN.py {config_path}'\n",
    "    print(cmd)\n",
    "    i += 1"
   ]
  },
  {
   "cell_type": "code",
   "execution_count": 38,
   "metadata": {},
   "outputs": [
    {
     "name": "stdout",
     "output_type": "stream",
     "text": [
      "python train_CNN.py config_files/quark_jet_2_cut_L_3000_pT_norm_phi_aug_fix_90_config_01.json\n",
      "python train_CNN.py config_files/quark_jet_2_cut_L_3000_pT_norm_phi_aug_fix_90_config_02.json\n",
      "python train_CNN.py config_files/quark_jet_2_cut_L_3000_pT_norm_phi_aug_fix_90_config_03.json\n",
      "python train_CNN.py config_files/quark_jet_2_cut_L_3000_pT_norm_phi_aug_fix_90_config_04.json\n",
      "python train_CNN.py config_files/quark_jet_2_cut_L_3000_pT_norm_phi_aug_fix_90_config_05.json\n",
      "python train_CNN.py config_files/quark_jet_2_cut_L_3000_pT_norm_phi_aug_fix_90_config_06.json\n",
      "python train_CNN.py config_files/quark_jet_2_cut_L_3000_pT_norm_phi_aug_fix_90_config_07.json\n",
      "python train_CNN.py config_files/quark_jet_2_cut_L_3000_pT_norm_phi_aug_fix_90_config_08.json\n",
      "python train_CNN.py config_files/quark_jet_2_cut_L_3000_pT_norm_phi_aug_fix_90_config_09.json\n",
      "python train_CNN.py config_files/quark_jet_2_cut_L_3000_pT_norm_phi_aug_fix_90_config_10.json\n"
     ]
    }
   ],
   "source": [
    "i = 1\n",
    "aug = 90\n",
    "for seed in range(123, 1100, 100):\n",
    "    config_path = f'config_files/quark_jet_2_cut_L_3000_pT_norm_phi_aug_fix_{aug}_config_{i:02}.json'\n",
    "    with open(config_path, 'w') as f:\n",
    "        data = {}\n",
    "\n",
    "        data['npy_paths'] = ['../Sample/data/quark_jet_2_cut/pre-processing/40x40/'] + [f'../Sample/data/quark_jet_2_cut/phi_shifting_fix/40x40/{n:02}/' for n in range(aug, 360, aug)]\n",
    "        data['seed'] = seed\n",
    "        data['luminosity'] = 3000\n",
    "        data['cut_type'] = 'quark_jet_2'\n",
    "        data['GGF_cutflow_file'] = '../Sample/selection_results_GGF_quark_jet.npy'\n",
    "        data['VBF_cutflow_file'] = '../Sample/selection_results_VBF_quark_jet.npy'\n",
    "        data['model_name'] = f'quark_jet_2_cut_phi_aug_fix_{aug}_{i:02}'\n",
    "        data['sample_type'] = f'quark jet: = 2, L: 3000 fb^-1, pT normalized, phi shifting, fixed angle: {aug}'\n",
    "\n",
    "        json.dump(data, f, indent=4)\n",
    "\n",
    "    cmd = f'python train_CNN.py {config_path}'\n",
    "    print(cmd)\n",
    "    i += 1"
   ]
  },
  {
   "cell_type": "code",
   "execution_count": 39,
   "metadata": {},
   "outputs": [
    {
     "name": "stdout",
     "output_type": "stream",
     "text": [
      "python train_CNN.py config_files/quark_jet_2_cut_L_3000_pT_norm_phi_aug_fix_30_config_01.json\n",
      "python train_CNN.py config_files/quark_jet_2_cut_L_3000_pT_norm_phi_aug_fix_30_config_02.json\n",
      "python train_CNN.py config_files/quark_jet_2_cut_L_3000_pT_norm_phi_aug_fix_30_config_03.json\n",
      "python train_CNN.py config_files/quark_jet_2_cut_L_3000_pT_norm_phi_aug_fix_30_config_04.json\n",
      "python train_CNN.py config_files/quark_jet_2_cut_L_3000_pT_norm_phi_aug_fix_30_config_05.json\n",
      "python train_CNN.py config_files/quark_jet_2_cut_L_3000_pT_norm_phi_aug_fix_30_config_06.json\n",
      "python train_CNN.py config_files/quark_jet_2_cut_L_3000_pT_norm_phi_aug_fix_30_config_07.json\n",
      "python train_CNN.py config_files/quark_jet_2_cut_L_3000_pT_norm_phi_aug_fix_30_config_08.json\n",
      "python train_CNN.py config_files/quark_jet_2_cut_L_3000_pT_norm_phi_aug_fix_30_config_09.json\n",
      "python train_CNN.py config_files/quark_jet_2_cut_L_3000_pT_norm_phi_aug_fix_30_config_10.json\n"
     ]
    }
   ],
   "source": [
    "i = 1\n",
    "aug = 30\n",
    "for seed in range(123, 1100, 100):\n",
    "    config_path = f'config_files/quark_jet_2_cut_L_3000_pT_norm_phi_aug_fix_{aug}_config_{i:02}.json'\n",
    "    with open(config_path, 'w') as f:\n",
    "        data = {}\n",
    "\n",
    "        data['npy_paths'] = ['../Sample/data/quark_jet_2_cut/pre-processing/40x40/'] + [f'../Sample/data/quark_jet_2_cut/phi_shifting_fix/40x40/{n:02}/' for n in range(aug, 360, aug)]\n",
    "        data['seed'] = seed\n",
    "        data['luminosity'] = 3000\n",
    "        data['cut_type'] = 'quark_jet_2'\n",
    "        data['GGF_cutflow_file'] = '../Sample/selection_results_GGF_quark_jet.npy'\n",
    "        data['VBF_cutflow_file'] = '../Sample/selection_results_VBF_quark_jet.npy'\n",
    "        data['model_name'] = f'quark_jet_2_cut_phi_aug_fix_{aug}_{i:02}'\n",
    "        data['sample_type'] = f'quark jet: = 2, L: 3000 fb^-1, pT normalized, phi shifting, fixed angle: {aug}'\n",
    "\n",
    "        json.dump(data, f, indent=4)\n",
    "\n",
    "    cmd = f'python train_CNN.py {config_path}'\n",
    "    print(cmd)\n",
    "    i += 1"
   ]
  },
  {
   "cell_type": "code",
   "execution_count": 40,
   "metadata": {},
   "outputs": [
    {
     "name": "stdout",
     "output_type": "stream",
     "text": [
      "python train_CNN.py config_files/quark_jet_2_cut_L_3000_pT_norm_phi_aug_fix_60_config_01.json\n",
      "python train_CNN.py config_files/quark_jet_2_cut_L_3000_pT_norm_phi_aug_fix_60_config_02.json\n",
      "python train_CNN.py config_files/quark_jet_2_cut_L_3000_pT_norm_phi_aug_fix_60_config_03.json\n",
      "python train_CNN.py config_files/quark_jet_2_cut_L_3000_pT_norm_phi_aug_fix_60_config_04.json\n",
      "python train_CNN.py config_files/quark_jet_2_cut_L_3000_pT_norm_phi_aug_fix_60_config_05.json\n",
      "python train_CNN.py config_files/quark_jet_2_cut_L_3000_pT_norm_phi_aug_fix_60_config_06.json\n",
      "python train_CNN.py config_files/quark_jet_2_cut_L_3000_pT_norm_phi_aug_fix_60_config_07.json\n",
      "python train_CNN.py config_files/quark_jet_2_cut_L_3000_pT_norm_phi_aug_fix_60_config_08.json\n",
      "python train_CNN.py config_files/quark_jet_2_cut_L_3000_pT_norm_phi_aug_fix_60_config_09.json\n",
      "python train_CNN.py config_files/quark_jet_2_cut_L_3000_pT_norm_phi_aug_fix_60_config_10.json\n"
     ]
    }
   ],
   "source": [
    "i = 1\n",
    "aug = 60\n",
    "for seed in range(123, 1100, 100):\n",
    "    config_path = f'config_files/quark_jet_2_cut_L_3000_pT_norm_phi_aug_fix_{aug}_config_{i:02}.json'\n",
    "    with open(config_path, 'w') as f:\n",
    "        data = {}\n",
    "\n",
    "        data['npy_paths'] = ['../Sample/data/quark_jet_2_cut/pre-processing/40x40/'] + [f'../Sample/data/quark_jet_2_cut/phi_shifting_fix/40x40/{n:02}/' for n in range(aug, 360, aug)]\n",
    "        data['seed'] = seed\n",
    "        data['luminosity'] = 3000\n",
    "        data['cut_type'] = 'quark_jet_2'\n",
    "        data['GGF_cutflow_file'] = '../Sample/selection_results_GGF_quark_jet.npy'\n",
    "        data['VBF_cutflow_file'] = '../Sample/selection_results_VBF_quark_jet.npy'\n",
    "        data['model_name'] = f'quark_jet_2_cut_phi_aug_fix_{aug}_{i:02}'\n",
    "        data['sample_type'] = f'quark jet: = 2, L: 3000 fb^-1, pT normalized, phi shifting, fixed angle: {aug}'\n",
    "\n",
    "        json.dump(data, f, indent=4)\n",
    "\n",
    "    cmd = f'python train_CNN.py {config_path}'\n",
    "    print(cmd)\n",
    "    i += 1"
   ]
  },
  {
   "cell_type": "markdown",
   "metadata": {},
   "source": [
    "# Supervised training remove decay product information"
   ]
  },
  {
   "cell_type": "code",
   "execution_count": 41,
   "metadata": {},
   "outputs": [
    {
     "name": "stdout",
     "output_type": "stream",
     "text": [
      "python train_CNN_supervised.py config_files/supervised_pT_norm_remove_photon_case1_config_01.json\n",
      "python train_CNN_supervised.py config_files/supervised_pT_norm_remove_photon_case1_config_02.json\n",
      "python train_CNN_supervised.py config_files/supervised_pT_norm_remove_photon_case1_config_03.json\n",
      "python train_CNN_supervised.py config_files/supervised_pT_norm_remove_photon_case1_config_04.json\n",
      "python train_CNN_supervised.py config_files/supervised_pT_norm_remove_photon_case1_config_05.json\n",
      "python train_CNN_supervised.py config_files/supervised_pT_norm_remove_photon_case1_config_06.json\n",
      "python train_CNN_supervised.py config_files/supervised_pT_norm_remove_photon_case1_config_07.json\n",
      "python train_CNN_supervised.py config_files/supervised_pT_norm_remove_photon_case1_config_08.json\n",
      "python train_CNN_supervised.py config_files/supervised_pT_norm_remove_photon_case1_config_09.json\n",
      "python train_CNN_supervised.py config_files/supervised_pT_norm_remove_photon_case1_config_10.json\n"
     ]
    }
   ],
   "source": [
    "i = 1\n",
    "for seed in range(123, 1100, 100):\n",
    "    config_path = f'config_files/supervised_pT_norm_remove_photon_case1_config_{i:02}.json'\n",
    "    with open(config_path, 'w') as f:\n",
    "        data = {}\n",
    "\n",
    "        data['npy_path'] = '../Sample/data/supervised/pre-processing/remove_product_case_1/40x40/'\n",
    "        data['seed'] = seed\n",
    "        data['n_train'] = 100000\n",
    "        data['n_val'] = 25000\n",
    "        data['n_test'] = 25000\n",
    "\n",
    "        data['model_name'] = f'supervised_wo_a_case1_{i:02}'\n",
    "        data['sample_type'] = f'pure, pT normalized, remove photon: case 1'\n",
    "\n",
    "        json.dump(data, f, indent=4)\n",
    "\n",
    "    cmd = f'python train_CNN_supervised.py {config_path}'\n",
    "    print(cmd)\n",
    "    i += 1"
   ]
  },
  {
   "cell_type": "code",
   "execution_count": 42,
   "metadata": {},
   "outputs": [
    {
     "name": "stdout",
     "output_type": "stream",
     "text": [
      "python train_CNN_supervised.py config_files/supervised_pT_norm_remove_product_case4_config_01.json\n",
      "python train_CNN_supervised.py config_files/supervised_pT_norm_remove_product_case4_config_02.json\n",
      "python train_CNN_supervised.py config_files/supervised_pT_norm_remove_product_case4_config_03.json\n",
      "python train_CNN_supervised.py config_files/supervised_pT_norm_remove_product_case4_config_04.json\n",
      "python train_CNN_supervised.py config_files/supervised_pT_norm_remove_product_case4_config_05.json\n",
      "python train_CNN_supervised.py config_files/supervised_pT_norm_remove_product_case4_config_06.json\n",
      "python train_CNN_supervised.py config_files/supervised_pT_norm_remove_product_case4_config_07.json\n",
      "python train_CNN_supervised.py config_files/supervised_pT_norm_remove_product_case4_config_08.json\n",
      "python train_CNN_supervised.py config_files/supervised_pT_norm_remove_product_case4_config_09.json\n",
      "python train_CNN_supervised.py config_files/supervised_pT_norm_remove_product_case4_config_10.json\n"
     ]
    }
   ],
   "source": [
    "i = 1\n",
    "for seed in range(123, 1100, 100):\n",
    "    config_path = f'config_files/supervised_pT_norm_remove_product_case4_config_{i:02}.json'\n",
    "    with open(config_path, 'w') as f:\n",
    "        data = {}\n",
    "\n",
    "        data['npy_path'] = '../Sample/data/ZZ_4l/supervised/pre-processing/remove_product_case_4/40x40/'\n",
    "        data['seed'] = seed\n",
    "        data['n_train'] = 100000\n",
    "        data['n_val'] = 25000\n",
    "        data['n_test'] = 25000\n",
    "\n",
    "        data['model_name'] = f'supervised_wo_product_case4_{i:02}'\n",
    "        data['sample_type'] = f'pure, pT normalized, remove product: case 4'\n",
    "\n",
    "        json.dump(data, f, indent=4)\n",
    "\n",
    "    cmd = f'python train_CNN_supervised.py {config_path}'\n",
    "    print(cmd)\n",
    "    i += 1"
   ]
  },
  {
   "cell_type": "code",
   "execution_count": 43,
   "metadata": {},
   "outputs": [
    {
     "name": "stdout",
     "output_type": "stream",
     "text": [
      "python train_CNN_supervised.py config_files/supervised_pT_norm_remove_product_case5_config_01.json\n",
      "python train_CNN_supervised.py config_files/supervised_pT_norm_remove_product_case5_config_02.json\n",
      "python train_CNN_supervised.py config_files/supervised_pT_norm_remove_product_case5_config_03.json\n",
      "python train_CNN_supervised.py config_files/supervised_pT_norm_remove_product_case5_config_04.json\n",
      "python train_CNN_supervised.py config_files/supervised_pT_norm_remove_product_case5_config_05.json\n",
      "python train_CNN_supervised.py config_files/supervised_pT_norm_remove_product_case5_config_06.json\n",
      "python train_CNN_supervised.py config_files/supervised_pT_norm_remove_product_case5_config_07.json\n",
      "python train_CNN_supervised.py config_files/supervised_pT_norm_remove_product_case5_config_08.json\n",
      "python train_CNN_supervised.py config_files/supervised_pT_norm_remove_product_case5_config_09.json\n",
      "python train_CNN_supervised.py config_files/supervised_pT_norm_remove_product_case5_config_10.json\n"
     ]
    }
   ],
   "source": [
    "i = 1\n",
    "for seed in range(123, 1100, 100):\n",
    "    config_path = f'config_files/supervised_pT_norm_remove_product_case5_config_{i:02}.json'\n",
    "    with open(config_path, 'w') as f:\n",
    "        data = {}\n",
    "\n",
    "        data['npy_path'] = '../Sample/data/ZZ_4l/supervised/pre-processing/remove_product_case_5/40x40/'\n",
    "        data['seed'] = seed\n",
    "        data['n_train'] = 100000\n",
    "        data['n_val'] = 25000\n",
    "        data['n_test'] = 25000\n",
    "\n",
    "        data['model_name'] = f'supervised_wo_product_case4_{i:02}'\n",
    "        data['sample_type'] = f'pure, pT normalized, remove product: case 5'\n",
    "\n",
    "        json.dump(data, f, indent=4)\n",
    "\n",
    "    cmd = f'python train_CNN_supervised.py {config_path}'\n",
    "    print(cmd)\n",
    "    i += 1"
   ]
  },
  {
   "cell_type": "markdown",
   "metadata": {},
   "source": [
    "# Jet tagging with luminosity 12000 $\\text{fb}^{-1}$"
   ]
  },
  {
   "cell_type": "code",
   "execution_count": 44,
   "metadata": {},
   "outputs": [
    {
     "name": "stdout",
     "output_type": "stream",
     "text": [
      "python train_CNN.py config_files/quark_jet_2_cut_L_12000_pT_norm_config_01.json\n",
      "python train_CNN.py config_files/quark_jet_2_cut_L_12000_pT_norm_config_02.json\n",
      "python train_CNN.py config_files/quark_jet_2_cut_L_12000_pT_norm_config_03.json\n",
      "python train_CNN.py config_files/quark_jet_2_cut_L_12000_pT_norm_config_04.json\n",
      "python train_CNN.py config_files/quark_jet_2_cut_L_12000_pT_norm_config_05.json\n",
      "python train_CNN.py config_files/quark_jet_2_cut_L_12000_pT_norm_config_06.json\n",
      "python train_CNN.py config_files/quark_jet_2_cut_L_12000_pT_norm_config_07.json\n",
      "python train_CNN.py config_files/quark_jet_2_cut_L_12000_pT_norm_config_08.json\n",
      "python train_CNN.py config_files/quark_jet_2_cut_L_12000_pT_norm_config_09.json\n",
      "python train_CNN.py config_files/quark_jet_2_cut_L_12000_pT_norm_config_10.json\n"
     ]
    }
   ],
   "source": [
    "i = 1\n",
    "for seed in range(123, 1100, 100):\n",
    "    config_path = f'config_files/quark_jet_2_cut_L_12000_pT_norm_config_{i:02}.json'\n",
    "    with open(config_path, 'w') as f:\n",
    "        data = {}\n",
    "\n",
    "        data['npy_paths'] = ['../Sample/data/quark_jet_2_cut/pre-processing/40x40/']\n",
    "        data['seed'] = seed\n",
    "        data['luminosity'] = 12000\n",
    "        data['cut_type'] = 'quark_jet_2'\n",
    "        data['GGF_cutflow_file'] = '../Sample/selection_results_GGF_quark_jet.npy'\n",
    "        data['VBF_cutflow_file'] = '../Sample/selection_results_VBF_quark_jet.npy'\n",
    "        data['model_name'] = f'quark_jet_2_cut_{i:02}'\n",
    "        data['sample_type'] = f'quark jet: = 2, L: 12000 fb^-1, pT normalized'\n",
    "\n",
    "        json.dump(data, f, indent=4)\n",
    "\n",
    "    cmd = f'python train_CNN.py {config_path}'\n",
    "    print(cmd)\n",
    "    i += 1"
   ]
  },
  {
   "cell_type": "markdown",
   "metadata": {},
   "source": [
    "# Jet tagging with $\\log(p_\\mathrm{T})$"
   ]
  },
  {
   "cell_type": "code",
   "execution_count": 45,
   "metadata": {},
   "outputs": [
    {
     "name": "stdout",
     "output_type": "stream",
     "text": [
      "python train_CNN.py config_files/quark_jet_2_cut_L_3000_log_pT_pT_norm_config_01.json\n",
      "python train_CNN.py config_files/quark_jet_2_cut_L_3000_log_pT_pT_norm_config_02.json\n",
      "python train_CNN.py config_files/quark_jet_2_cut_L_3000_log_pT_pT_norm_config_03.json\n",
      "python train_CNN.py config_files/quark_jet_2_cut_L_3000_log_pT_pT_norm_config_04.json\n",
      "python train_CNN.py config_files/quark_jet_2_cut_L_3000_log_pT_pT_norm_config_05.json\n",
      "python train_CNN.py config_files/quark_jet_2_cut_L_3000_log_pT_pT_norm_config_06.json\n",
      "python train_CNN.py config_files/quark_jet_2_cut_L_3000_log_pT_pT_norm_config_07.json\n",
      "python train_CNN.py config_files/quark_jet_2_cut_L_3000_log_pT_pT_norm_config_08.json\n",
      "python train_CNN.py config_files/quark_jet_2_cut_L_3000_log_pT_pT_norm_config_09.json\n",
      "python train_CNN.py config_files/quark_jet_2_cut_L_3000_log_pT_pT_norm_config_10.json\n"
     ]
    }
   ],
   "source": [
    "i = 1\n",
    "for seed in range(123, 1100, 100):\n",
    "    config_path = f'config_files/quark_jet_2_cut_L_3000_log_pT_pT_norm_config_{i:02}.json'\n",
    "    with open(config_path, 'w') as f:\n",
    "        data = {}\n",
    "\n",
    "        data['npy_paths'] = ['../Sample/data/quark_jet_2_cut/pre-processing/log_pT/40x40/']\n",
    "        data['seed'] = seed\n",
    "        data['luminosity'] = 3000\n",
    "        data['cut_type'] = 'quark_jet_2'\n",
    "        data['GGF_cutflow_file'] = '../Sample/selection_results_GGF_quark_jet.npy'\n",
    "        data['VBF_cutflow_file'] = '../Sample/selection_results_VBF_quark_jet.npy'\n",
    "        data['model_name'] = f'quark_jet_2_cut_log_pT_{i:02}'\n",
    "        data['sample_type'] = f'quark jet: = 2, L: 3000 fb^-1, pT normalized, log pT'\n",
    "\n",
    "        json.dump(data, f, indent=4)\n",
    "\n",
    "    cmd = f'python train_CNN.py {config_path}'\n",
    "    print(cmd)\n",
    "    i += 1"
   ]
  },
  {
   "cell_type": "markdown",
   "metadata": {},
   "source": [
    "# Jet tagging with event-CNN"
   ]
  },
  {
   "cell_type": "code",
   "execution_count": 46,
   "metadata": {},
   "outputs": [
    {
     "name": "stdout",
     "output_type": "stream",
     "text": [
      "python train_CNN.py config_files/quark_jet_2_cut_L_3000_eventCNN_pT_norm_config_01.json\n",
      "python train_CNN.py config_files/quark_jet_2_cut_L_3000_eventCNN_pT_norm_config_02.json\n",
      "python train_CNN.py config_files/quark_jet_2_cut_L_3000_eventCNN_pT_norm_config_03.json\n",
      "python train_CNN.py config_files/quark_jet_2_cut_L_3000_eventCNN_pT_norm_config_04.json\n",
      "python train_CNN.py config_files/quark_jet_2_cut_L_3000_eventCNN_pT_norm_config_05.json\n",
      "python train_CNN.py config_files/quark_jet_2_cut_L_3000_eventCNN_pT_norm_config_06.json\n",
      "python train_CNN.py config_files/quark_jet_2_cut_L_3000_eventCNN_pT_norm_config_07.json\n",
      "python train_CNN.py config_files/quark_jet_2_cut_L_3000_eventCNN_pT_norm_config_08.json\n",
      "python train_CNN.py config_files/quark_jet_2_cut_L_3000_eventCNN_pT_norm_config_09.json\n",
      "python train_CNN.py config_files/quark_jet_2_cut_L_3000_eventCNN_pT_norm_config_10.json\n"
     ]
    }
   ],
   "source": [
    "i = 1\n",
    "for seed in range(123, 1100, 100):\n",
    "    config_path = f'config_files/quark_jet_2_cut_L_3000_eventCNN_pT_norm_config_{i:02}.json'\n",
    "    with open(config_path, 'w') as f:\n",
    "        data = {}\n",
    "\n",
    "        data['npy_paths'] = ['../Sample/data/quark_jet_2_cut/pre-processing/40x40/']\n",
    "        data['seed'] = seed\n",
    "        data['luminosity'] = 3000\n",
    "        data['cut_type'] = 'quark_jet_2'\n",
    "        data['GGF_cutflow_file'] = '../Sample/selection_results_GGF_quark_jet.npy'\n",
    "        data['VBF_cutflow_file'] = '../Sample/selection_results_VBF_quark_jet.npy'\n",
    "        data['model_name'] = f'quark_jet_2_cut_eventCNN_{i:02}'\n",
    "        data['model_structure'] = 'event-CNN'\n",
    "        data['sample_type'] = f'quark jet: = 2, L: 3000 fb^-1, pT normalized'\n",
    "\n",
    "        json.dump(data, f, indent=4)\n",
    "\n",
    "    cmd = f'python train_CNN.py {config_path}'\n",
    "    print(cmd)\n",
    "    i += 1"
   ]
  },
  {
   "cell_type": "code",
   "execution_count": 47,
   "metadata": {},
   "outputs": [
    {
     "name": "stdout",
     "output_type": "stream",
     "text": [
      "python train_CNN_supervised.py config_files/supervised_pT_norm_eventCNN_config_01.json\n",
      "python train_CNN_supervised.py config_files/supervised_pT_norm_eventCNN_config_02.json\n",
      "python train_CNN_supervised.py config_files/supervised_pT_norm_eventCNN_config_03.json\n",
      "python train_CNN_supervised.py config_files/supervised_pT_norm_eventCNN_config_04.json\n",
      "python train_CNN_supervised.py config_files/supervised_pT_norm_eventCNN_config_05.json\n",
      "python train_CNN_supervised.py config_files/supervised_pT_norm_eventCNN_config_06.json\n",
      "python train_CNN_supervised.py config_files/supervised_pT_norm_eventCNN_config_07.json\n",
      "python train_CNN_supervised.py config_files/supervised_pT_norm_eventCNN_config_08.json\n",
      "python train_CNN_supervised.py config_files/supervised_pT_norm_eventCNN_config_09.json\n",
      "python train_CNN_supervised.py config_files/supervised_pT_norm_eventCNN_config_10.json\n"
     ]
    }
   ],
   "source": [
    "i = 1\n",
    "for seed in range(123, 1100, 100):\n",
    "    config_path = f'config_files/supervised_pT_norm_eventCNN_config_{i:02}.json'\n",
    "    with open(config_path, 'w') as f:\n",
    "        data = {}\n",
    "\n",
    "        data['npy_path'] = '../Sample/data/supervised/pre-processing/40x40/'\n",
    "        data['seed'] = seed\n",
    "        data['n_train'] = 100000\n",
    "        data['n_val'] = 25000\n",
    "        data['n_test'] = 25000\n",
    "\n",
    "        data['model_name'] = f'supervised_eventCNN_{i:02}'\n",
    "        data['model_structure'] = 'event-CNN'\n",
    "        data['sample_type'] = f'pure, pT normalized'\n",
    "\n",
    "        json.dump(data, f, indent=4)\n",
    "\n",
    "    cmd = f'python train_CNN_supervised.py {config_path}'\n",
    "    print(cmd)\n",
    "    i += 1"
   ]
  },
  {
   "cell_type": "code",
   "execution_count": 48,
   "metadata": {},
   "outputs": [
    {
     "name": "stdout",
     "output_type": "stream",
     "text": [
      "python train_CNN.py config_files/quark_jet_2_cut_L_3000_pT_norm_eventCNN_phi_aug_5_config_01.json\n",
      "python train_CNN.py config_files/quark_jet_2_cut_L_3000_pT_norm_eventCNN_phi_aug_5_config_02.json\n",
      "python train_CNN.py config_files/quark_jet_2_cut_L_3000_pT_norm_eventCNN_phi_aug_5_config_03.json\n",
      "python train_CNN.py config_files/quark_jet_2_cut_L_3000_pT_norm_eventCNN_phi_aug_5_config_04.json\n",
      "python train_CNN.py config_files/quark_jet_2_cut_L_3000_pT_norm_eventCNN_phi_aug_5_config_05.json\n",
      "python train_CNN.py config_files/quark_jet_2_cut_L_3000_pT_norm_eventCNN_phi_aug_5_config_06.json\n",
      "python train_CNN.py config_files/quark_jet_2_cut_L_3000_pT_norm_eventCNN_phi_aug_5_config_07.json\n",
      "python train_CNN.py config_files/quark_jet_2_cut_L_3000_pT_norm_eventCNN_phi_aug_5_config_08.json\n",
      "python train_CNN.py config_files/quark_jet_2_cut_L_3000_pT_norm_eventCNN_phi_aug_5_config_09.json\n",
      "python train_CNN.py config_files/quark_jet_2_cut_L_3000_pT_norm_eventCNN_phi_aug_5_config_10.json\n"
     ]
    }
   ],
   "source": [
    "i = 1\n",
    "aug = 5\n",
    "for seed in range(123, 1100, 100):\n",
    "    config_path = f'config_files/quark_jet_2_cut_L_3000_pT_norm_eventCNN_phi_aug_{aug}_config_{i:02}.json'\n",
    "    with open(config_path, 'w') as f:\n",
    "        data = {}\n",
    "\n",
    "        data['npy_paths'] = ['../Sample/data/quark_jet_2_cut/pre-processing/40x40/'] + [f'../Sample/data/quark_jet_2_cut/phi_shifting/40x40/{n:02}/' for n in range(1, 1 + aug)]\n",
    "        data['seed'] = seed\n",
    "        data['luminosity'] = 3000\n",
    "        data['cut_type'] = 'quark_jet_2'\n",
    "        data['GGF_cutflow_file'] = '../Sample/selection_results_GGF_quark_jet.npy'\n",
    "        data['VBF_cutflow_file'] = '../Sample/selection_results_VBF_quark_jet.npy'\n",
    "        data['model_name'] = f'quark_jet_2_cut_eventCNN_phi_aug_{aug}_{i:02}'\n",
    "        data['model_structure'] = 'event-CNN'\n",
    "        data['sample_type'] = f'quark jet: = 2, L: 3000 fb^-1, pT normalized, phi shifting: +{aug}'\n",
    "\n",
    "        json.dump(data, f, indent=4)\n",
    "\n",
    "    cmd = f'python train_CNN.py {config_path}'\n",
    "    print(cmd)\n",
    "    i += 1"
   ]
  },
  {
   "cell_type": "code",
   "execution_count": 49,
   "metadata": {},
   "outputs": [
    {
     "name": "stdout",
     "output_type": "stream",
     "text": [
      "python train_CNN.py config_files/quark_jet_2_cut_L_3000_pT_norm_eventCNN_phi_aug_10_config_01.json\n",
      "python train_CNN.py config_files/quark_jet_2_cut_L_3000_pT_norm_eventCNN_phi_aug_10_config_02.json\n",
      "python train_CNN.py config_files/quark_jet_2_cut_L_3000_pT_norm_eventCNN_phi_aug_10_config_03.json\n",
      "python train_CNN.py config_files/quark_jet_2_cut_L_3000_pT_norm_eventCNN_phi_aug_10_config_04.json\n",
      "python train_CNN.py config_files/quark_jet_2_cut_L_3000_pT_norm_eventCNN_phi_aug_10_config_05.json\n",
      "python train_CNN.py config_files/quark_jet_2_cut_L_3000_pT_norm_eventCNN_phi_aug_10_config_06.json\n",
      "python train_CNN.py config_files/quark_jet_2_cut_L_3000_pT_norm_eventCNN_phi_aug_10_config_07.json\n",
      "python train_CNN.py config_files/quark_jet_2_cut_L_3000_pT_norm_eventCNN_phi_aug_10_config_08.json\n",
      "python train_CNN.py config_files/quark_jet_2_cut_L_3000_pT_norm_eventCNN_phi_aug_10_config_09.json\n",
      "python train_CNN.py config_files/quark_jet_2_cut_L_3000_pT_norm_eventCNN_phi_aug_10_config_10.json\n"
     ]
    }
   ],
   "source": [
    "i = 1\n",
    "aug = 10\n",
    "for seed in range(123, 1100, 100):\n",
    "    config_path = f'config_files/quark_jet_2_cut_L_3000_pT_norm_eventCNN_phi_aug_{aug}_config_{i:02}.json'\n",
    "    with open(config_path, 'w') as f:\n",
    "        data = {}\n",
    "\n",
    "        data['npy_paths'] = ['../Sample/data/quark_jet_2_cut/pre-processing/40x40/'] + [f'../Sample/data/quark_jet_2_cut/phi_shifting/40x40/{n:02}/' for n in range(1, 1 + aug)]\n",
    "        data['seed'] = seed\n",
    "        data['luminosity'] = 3000\n",
    "        data['cut_type'] = 'quark_jet_2'\n",
    "        data['GGF_cutflow_file'] = '../Sample/selection_results_GGF_quark_jet.npy'\n",
    "        data['VBF_cutflow_file'] = '../Sample/selection_results_VBF_quark_jet.npy'\n",
    "        data['model_name'] = f'quark_jet_2_cut_eventCNN_phi_aug_{aug}_{i:02}'\n",
    "        data['model_structure'] = 'event-CNN'\n",
    "        data['sample_type'] = f'quark jet: = 2, L: 3000 fb^-1, pT normalized, phi shifting: +{aug}'\n",
    "\n",
    "        json.dump(data, f, indent=4)\n",
    "\n",
    "    cmd = f'python train_CNN.py {config_path}'\n",
    "    print(cmd)\n",
    "    i += 1"
   ]
  },
  {
   "cell_type": "code",
   "execution_count": 50,
   "metadata": {},
   "outputs": [
    {
     "name": "stdout",
     "output_type": "stream",
     "text": [
      "python train_CNN.py config_files/quark_jet_2_cut_L_3000_pT_norm_eventCNN_phi_aug_15_config_01.json\n",
      "python train_CNN.py config_files/quark_jet_2_cut_L_3000_pT_norm_eventCNN_phi_aug_15_config_02.json\n",
      "python train_CNN.py config_files/quark_jet_2_cut_L_3000_pT_norm_eventCNN_phi_aug_15_config_03.json\n",
      "python train_CNN.py config_files/quark_jet_2_cut_L_3000_pT_norm_eventCNN_phi_aug_15_config_04.json\n",
      "python train_CNN.py config_files/quark_jet_2_cut_L_3000_pT_norm_eventCNN_phi_aug_15_config_05.json\n",
      "python train_CNN.py config_files/quark_jet_2_cut_L_3000_pT_norm_eventCNN_phi_aug_15_config_06.json\n",
      "python train_CNN.py config_files/quark_jet_2_cut_L_3000_pT_norm_eventCNN_phi_aug_15_config_07.json\n",
      "python train_CNN.py config_files/quark_jet_2_cut_L_3000_pT_norm_eventCNN_phi_aug_15_config_08.json\n",
      "python train_CNN.py config_files/quark_jet_2_cut_L_3000_pT_norm_eventCNN_phi_aug_15_config_09.json\n",
      "python train_CNN.py config_files/quark_jet_2_cut_L_3000_pT_norm_eventCNN_phi_aug_15_config_10.json\n"
     ]
    }
   ],
   "source": [
    "i = 1\n",
    "aug = 15\n",
    "for seed in range(123, 1100, 100):\n",
    "    config_path = f'config_files/quark_jet_2_cut_L_3000_pT_norm_eventCNN_phi_aug_{aug}_config_{i:02}.json'\n",
    "    with open(config_path, 'w') as f:\n",
    "        data = {}\n",
    "\n",
    "        data['npy_paths'] = ['../Sample/data/quark_jet_2_cut/pre-processing/40x40/'] + [f'../Sample/data/quark_jet_2_cut/phi_shifting/40x40/{n:02}/' for n in range(1, 1 + aug)]\n",
    "        data['seed'] = seed\n",
    "        data['luminosity'] = 3000\n",
    "        data['cut_type'] = 'quark_jet_2'\n",
    "        data['GGF_cutflow_file'] = '../Sample/selection_results_GGF_quark_jet.npy'\n",
    "        data['VBF_cutflow_file'] = '../Sample/selection_results_VBF_quark_jet.npy'\n",
    "        data['model_name'] = f'quark_jet_2_cut_eventCNN_phi_aug_{aug}_{i:02}'\n",
    "        data['model_structure'] = 'event-CNN'\n",
    "        data['sample_type'] = f'quark jet: = 2, L: 3000 fb^-1, pT normalized, phi shifting: +{aug}'\n",
    "\n",
    "        json.dump(data, f, indent=4)\n",
    "\n",
    "    cmd = f'python train_CNN.py {config_path}'\n",
    "    print(cmd)\n",
    "    i += 1"
   ]
  }
 ],
 "metadata": {
  "kernelspec": {
   "display_name": "jupyter",
   "language": "python",
   "name": "python3"
  },
  "language_info": {
   "codemirror_mode": {
    "name": "ipython",
    "version": 3
   },
   "file_extension": ".py",
   "mimetype": "text/x-python",
   "name": "python",
   "nbconvert_exporter": "python",
   "pygments_lexer": "ipython3",
   "version": "3.8.16"
  }
 },
 "nbformat": 4,
 "nbformat_minor": 2
}
