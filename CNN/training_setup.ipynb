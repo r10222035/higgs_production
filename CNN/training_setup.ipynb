{
 "cells": [
  {
   "cell_type": "code",
   "execution_count": 1,
   "metadata": {},
   "outputs": [],
   "source": [
    "import json"
   ]
  },
  {
   "cell_type": "code",
   "execution_count": 2,
   "metadata": {},
   "outputs": [
    {
     "name": "stdout",
     "output_type": "stream",
     "text": [
      "python train_CNN.py config_files/mjj_cut_config_01.json\n",
      "python train_CNN.py config_files/mjj_cut_config_02.json\n",
      "python train_CNN.py config_files/mjj_cut_config_03.json\n",
      "python train_CNN.py config_files/mjj_cut_config_04.json\n",
      "python train_CNN.py config_files/mjj_cut_config_05.json\n",
      "python train_CNN.py config_files/mjj_cut_config_06.json\n",
      "python train_CNN.py config_files/mjj_cut_config_07.json\n",
      "python train_CNN.py config_files/mjj_cut_config_08.json\n",
      "python train_CNN.py config_files/mjj_cut_config_09.json\n",
      "python train_CNN.py config_files/mjj_cut_config_10.json\n"
     ]
    }
   ],
   "source": [
    "i = 1\n",
    "for seed in range(123, 1100, 100):\n",
    "    config_path = f'config_files/mjj_cut_config_{i:02}.json'\n",
    "    with open(config_path, 'w') as f:\n",
    "        data = {}\n",
    "\n",
    "        data['npy_paths'] = ['../Sample/data/mjj_cut/pre-processing/40x40/']\n",
    "        data['seed'] = seed\n",
    "        data['luminosity'] = 300\n",
    "        data['cut_type'] = 'mjj'\n",
    "        data['model_name'] = f'mjj_cut_{i:02}'\n",
    "        data['sample_type'] = f'mjj: 300 GeV'\n",
    "\n",
    "        json.dump(data, f, indent=4)\n",
    "\n",
    "    cmd = f'python train_CNN.py {config_path}'\n",
    "    print(cmd)\n",
    "    i += 1"
   ]
  },
  {
   "cell_type": "code",
   "execution_count": 3,
   "metadata": {},
   "outputs": [
    {
     "name": "stdout",
     "output_type": "stream",
     "text": [
      "python train_CNN.py config_files/deta_cut_config_01.json\n",
      "python train_CNN.py config_files/deta_cut_config_02.json\n",
      "python train_CNN.py config_files/deta_cut_config_03.json\n",
      "python train_CNN.py config_files/deta_cut_config_04.json\n",
      "python train_CNN.py config_files/deta_cut_config_05.json\n",
      "python train_CNN.py config_files/deta_cut_config_06.json\n",
      "python train_CNN.py config_files/deta_cut_config_07.json\n",
      "python train_CNN.py config_files/deta_cut_config_08.json\n",
      "python train_CNN.py config_files/deta_cut_config_09.json\n",
      "python train_CNN.py config_files/deta_cut_config_10.json\n"
     ]
    }
   ],
   "source": [
    "i = 1\n",
    "for seed in range(123, 1100, 100):\n",
    "    config_path = f'config_files/deta_cut_config_{i:02}.json'\n",
    "    with open(config_path, 'w') as f:\n",
    "        data = {}\n",
    "\n",
    "        data['npy_paths'] = ['../Sample/data/deta_cut/pre-processing/40x40/']\n",
    "        data['seed'] = seed\n",
    "        data['luminosity'] = 300\n",
    "        data['cut_type'] = 'deta'\n",
    "        data['model_name'] = f'deta_cut_{i:02}'\n",
    "        data['sample_type'] = f'deta: 3.1'\n",
    "\n",
    "        json.dump(data, f, indent=4)\n",
    "\n",
    "    cmd = f'python train_CNN.py {config_path}'\n",
    "    print(cmd)\n",
    "    i += 1"
   ]
  },
  {
   "cell_type": "code",
   "execution_count": 4,
   "metadata": {},
   "outputs": [
    {
     "name": "stdout",
     "output_type": "stream",
     "text": [
      "python train_CNN.py config_files/mjj_deta_cut_config_01.json\n",
      "python train_CNN.py config_files/mjj_deta_cut_config_02.json\n",
      "python train_CNN.py config_files/mjj_deta_cut_config_03.json\n",
      "python train_CNN.py config_files/mjj_deta_cut_config_04.json\n",
      "python train_CNN.py config_files/mjj_deta_cut_config_05.json\n",
      "python train_CNN.py config_files/mjj_deta_cut_config_06.json\n",
      "python train_CNN.py config_files/mjj_deta_cut_config_07.json\n",
      "python train_CNN.py config_files/mjj_deta_cut_config_08.json\n",
      "python train_CNN.py config_files/mjj_deta_cut_config_09.json\n",
      "python train_CNN.py config_files/mjj_deta_cut_config_10.json\n"
     ]
    }
   ],
   "source": [
    "i = 1\n",
    "for seed in range(123, 1100, 100):\n",
    "    config_path = f'config_files/mjj_deta_cut_config_{i:02}.json'\n",
    "    with open(config_path, 'w') as f:\n",
    "        data = {}\n",
    "\n",
    "        data['npy_paths'] = ['../Sample/data/mjj_deta_cut/pre-processing/40x40/']\n",
    "        data['seed'] = seed\n",
    "        data['luminosity'] = 300\n",
    "        data['cut_type'] = 'mjj, deta'\n",
    "        data['model_name'] = f'mjj_deta_cut_{i:02}'\n",
    "        data['sample_type'] = f'mjj: 300 GeV, deta: 3.1'\n",
    "\n",
    "        json.dump(data, f, indent=4)\n",
    "\n",
    "    cmd = f'python train_CNN.py {config_path}'\n",
    "    print(cmd)\n",
    "    i += 1"
   ]
  }
 ],
 "metadata": {
  "kernelspec": {
   "display_name": "jupyter",
   "language": "python",
   "name": "python3"
  },
  "language_info": {
   "codemirror_mode": {
    "name": "ipython",
    "version": 3
   },
   "file_extension": ".py",
   "mimetype": "text/x-python",
   "name": "python",
   "nbconvert_exporter": "python",
   "pygments_lexer": "ipython3",
   "version": "3.8.16"
  }
 },
 "nbformat": 4,
 "nbformat_minor": 2
}
