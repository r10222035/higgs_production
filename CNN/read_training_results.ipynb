{
 "cells": [
  {
   "cell_type": "code",
   "execution_count": 138,
   "metadata": {},
   "outputs": [],
   "source": [
    "import pandas as pd"
   ]
  },
  {
   "cell_type": "code",
   "execution_count": 139,
   "metadata": {},
   "outputs": [],
   "source": [
    "def print_ACC_AUC(df, sample_type):\n",
    "    latex_txt = ''\n",
    "    ACC = df[df['Sample Type'] == sample_type]['ACC']\n",
    "    AUC = df[df['Sample Type'] == sample_type]['AUC']\n",
    "\n",
    "    print(sample_type)\n",
    "    print(f'ACC: {ACC.mean():.3f} ± {ACC.std():.3f}')\n",
    "    print(f'AUC: {AUC.mean():.3f} ± {AUC.std():.3f}')\n",
    "    # print(f'${ACC.mean():.3f} \\pm {ACC.std():.3f}$ & ${AUC.mean():.3f} \\pm {AUC.std():.3f}$')\n",
    "    latex_txt += f'${ACC.mean():.3f} \\pm {ACC.std():.3f}$ & ${AUC.mean():.3f} \\pm {AUC.std():.3f}$'\n",
    "    ACC = df[df['Sample Type'] == sample_type]['ACC-true']\n",
    "    AUC = df[df['Sample Type'] == sample_type]['AUC-true']\n",
    "\n",
    "    print('True ACC and AUC')\n",
    "    print(f'ACC: {ACC.mean():.3f} ± {ACC.std():.3f}')\n",
    "    print(f'AUC: {AUC.mean():.3f} ± {AUC.std():.3f}')\n",
    "    # print(f'${ACC.mean():.3f} \\pm {ACC.std():.3f}$ & ${AUC.mean():.3f} \\pm {AUC.std():.3f}$')\n",
    "    latex_txt += f' & ${ACC.mean():.3f} \\pm {ACC.std():.3f}$ & ${AUC.mean():.3f} \\pm {AUC.std():.3f}$'\n",
    "    print(latex_txt)"
   ]
  },
  {
   "cell_type": "markdown",
   "metadata": {},
   "source": [
    "# Luminosity 300 $\\text{fb}^{-1}$"
   ]
  },
  {
   "cell_type": "code",
   "execution_count": 140,
   "metadata": {},
   "outputs": [],
   "source": [
    "file_name = './GGF_VBF_CWoLa_training_results.csv'\n",
    "df = pd.read_csv(file_name)\n",
    "df = df.query(\"time > '2025-03-08' and time < '2025-03-09'\")"
   ]
  },
  {
   "cell_type": "code",
   "execution_count": 141,
   "metadata": {},
   "outputs": [
    {
     "name": "stdout",
     "output_type": "stream",
     "text": [
      "mjj: 300 GeV\n",
      "ACC: 0.712 ± 0.023\n",
      "AUC: 0.741 ± 0.041\n",
      "True ACC and AUC\n",
      "ACC: 0.576 ± 0.010\n",
      "AUC: 0.596 ± 0.014\n",
      "$0.712 \\pm 0.023$ & $0.741 \\pm 0.041$ & $0.576 \\pm 0.010$ & $0.596 \\pm 0.014$\n"
     ]
    }
   ],
   "source": [
    "sample_type = 'mjj: 300 GeV'\n",
    "print_ACC_AUC(df, sample_type)"
   ]
  },
  {
   "cell_type": "code",
   "execution_count": 142,
   "metadata": {},
   "outputs": [
    {
     "name": "stdout",
     "output_type": "stream",
     "text": [
      "deta: 3.1\n",
      "ACC: 0.828 ± 0.043\n",
      "AUC: 0.889 ± 0.050\n",
      "True ACC and AUC\n",
      "ACC: 0.604 ± 0.014\n",
      "AUC: 0.630 ± 0.015\n",
      "$0.828 \\pm 0.043$ & $0.889 \\pm 0.050$ & $0.604 \\pm 0.014$ & $0.630 \\pm 0.015$\n"
     ]
    }
   ],
   "source": [
    "sample_type = 'deta: 3.1'\n",
    "print_ACC_AUC(df, sample_type)"
   ]
  },
  {
   "cell_type": "code",
   "execution_count": 143,
   "metadata": {},
   "outputs": [
    {
     "name": "stdout",
     "output_type": "stream",
     "text": [
      "mjj: 300 GeV, deta: 3.1\n",
      "ACC: 0.753 ± 0.022\n",
      "AUC: 0.792 ± 0.035\n",
      "True ACC and AUC\n",
      "ACC: 0.573 ± 0.007\n",
      "AUC: 0.596 ± 0.008\n",
      "$0.753 \\pm 0.022$ & $0.792 \\pm 0.035$ & $0.573 \\pm 0.007$ & $0.596 \\pm 0.008$\n"
     ]
    }
   ],
   "source": [
    "sample_type = 'mjj: 300 GeV, deta: 3.1'\n",
    "print_ACC_AUC(df, sample_type)"
   ]
  },
  {
   "cell_type": "markdown",
   "metadata": {},
   "source": [
    "# Luminosity 3000 $\\text{fb}^{-1}$"
   ]
  },
  {
   "cell_type": "code",
   "execution_count": 144,
   "metadata": {},
   "outputs": [],
   "source": [
    "file_name = './GGF_VBF_CWoLa_training_results.csv'\n",
    "df = pd.read_csv(file_name)\n",
    "df = df.query(\"time > '2025-03-08' and time < '2025-03-09'\")"
   ]
  },
  {
   "cell_type": "code",
   "execution_count": 145,
   "metadata": {},
   "outputs": [
    {
     "name": "stdout",
     "output_type": "stream",
     "text": [
      "mjj: 300 GeV, L: 3000 fb^-1\n",
      "ACC: 0.907 ± 0.002\n",
      "AUC: 0.969 ± 0.002\n",
      "True ACC and AUC\n",
      "ACC: 0.598 ± 0.008\n",
      "AUC: 0.625 ± 0.009\n",
      "$0.907 \\pm 0.002$ & $0.969 \\pm 0.002$ & $0.598 \\pm 0.008$ & $0.625 \\pm 0.009$\n"
     ]
    }
   ],
   "source": [
    "sample_type = 'mjj: 300 GeV, L: 3000 fb^-1'\n",
    "print_ACC_AUC(df, sample_type)"
   ]
  },
  {
   "cell_type": "code",
   "execution_count": 146,
   "metadata": {},
   "outputs": [
    {
     "name": "stdout",
     "output_type": "stream",
     "text": [
      "deta: 3.1, L: 3000 fb^-1\n",
      "ACC: 0.931 ± 0.004\n",
      "AUC: 0.979 ± 0.002\n",
      "True ACC and AUC\n",
      "ACC: 0.615 ± 0.005\n",
      "AUC: 0.648 ± 0.006\n",
      "$0.931 \\pm 0.004$ & $0.979 \\pm 0.002$ & $0.615 \\pm 0.005$ & $0.648 \\pm 0.006$\n"
     ]
    }
   ],
   "source": [
    "sample_type = 'deta: 3.1, L: 3000 fb^-1'\n",
    "print_ACC_AUC(df, sample_type)"
   ]
  },
  {
   "cell_type": "code",
   "execution_count": 147,
   "metadata": {},
   "outputs": [
    {
     "name": "stdout",
     "output_type": "stream",
     "text": [
      "mjj: 300 GeV, deta: 3.1, L: 3000 fb^-1\n",
      "ACC: 0.929 ± 0.003\n",
      "AUC: 0.978 ± 0.002\n",
      "True ACC and AUC\n",
      "ACC: 0.608 ± 0.004\n",
      "AUC: 0.638 ± 0.005\n",
      "$0.929 \\pm 0.003$ & $0.978 \\pm 0.002$ & $0.608 \\pm 0.004$ & $0.638 \\pm 0.005$\n"
     ]
    }
   ],
   "source": [
    "sample_type = 'mjj: 300 GeV, deta: 3.1, L: 3000 fb^-1'\n",
    "print_ACC_AUC(df, sample_type)"
   ]
  },
  {
   "cell_type": "markdown",
   "metadata": {},
   "source": [
    "# Luminosity 3000 $\\text{fb}^{-1}$ with $p_{\\text{T}}$ normalization"
   ]
  },
  {
   "cell_type": "code",
   "execution_count": 148,
   "metadata": {},
   "outputs": [],
   "source": [
    "file_name = './GGF_VBF_CWoLa_training_results.csv'\n",
    "df = pd.read_csv(file_name)\n",
    "df = df.query(\"time > '2025-03-16' and time < '2025-03-17'\")"
   ]
  },
  {
   "cell_type": "code",
   "execution_count": 149,
   "metadata": {},
   "outputs": [
    {
     "name": "stdout",
     "output_type": "stream",
     "text": [
      "mjj: 300 GeV, L: 3000 fb^-1, pT normalized\n",
      "ACC: 0.874 ± 0.004\n",
      "AUC: 0.946 ± 0.003\n",
      "True ACC and AUC\n",
      "ACC: 0.624 ± 0.005\n",
      "AUC: 0.663 ± 0.006\n",
      "$0.874 \\pm 0.004$ & $0.946 \\pm 0.003$ & $0.624 \\pm 0.005$ & $0.663 \\pm 0.006$\n"
     ]
    }
   ],
   "source": [
    "sample_type = 'mjj: 300 GeV, L: 3000 fb^-1, pT normalized'\n",
    "print_ACC_AUC(df, sample_type)"
   ]
  },
  {
   "cell_type": "code",
   "execution_count": 150,
   "metadata": {},
   "outputs": [
    {
     "name": "stdout",
     "output_type": "stream",
     "text": [
      "deta: 3.1, L: 3000 fb^-1, pT normalized\n",
      "ACC: 0.928 ± 0.005\n",
      "AUC: 0.979 ± 0.002\n",
      "True ACC and AUC\n",
      "ACC: 0.597 ± 0.005\n",
      "AUC: 0.630 ± 0.006\n",
      "$0.928 \\pm 0.005$ & $0.979 \\pm 0.002$ & $0.597 \\pm 0.005$ & $0.630 \\pm 0.006$\n"
     ]
    }
   ],
   "source": [
    "sample_type = 'deta: 3.1, L: 3000 fb^-1, pT normalized'\n",
    "print_ACC_AUC(df, sample_type)"
   ]
  },
  {
   "cell_type": "code",
   "execution_count": 151,
   "metadata": {},
   "outputs": [
    {
     "name": "stdout",
     "output_type": "stream",
     "text": [
      "mjj: 300 GeV, deta: 3.1, L: 3000 fb^-1, pT normalized\n",
      "ACC: 0.917 ± 0.003\n",
      "AUC: 0.973 ± 0.002\n",
      "True ACC and AUC\n",
      "ACC: 0.603 ± 0.004\n",
      "AUC: 0.636 ± 0.006\n",
      "$0.917 \\pm 0.003$ & $0.973 \\pm 0.002$ & $0.603 \\pm 0.004$ & $0.636 \\pm 0.006$\n"
     ]
    }
   ],
   "source": [
    "sample_type = 'mjj: 300 GeV, deta: 3.1, L: 3000 fb^-1, pT normalized'\n",
    "print_ACC_AUC(df, sample_type)"
   ]
  },
  {
   "cell_type": "markdown",
   "metadata": {},
   "source": [
    "# Luminosity 3000 $\\text{fb}^{-1}$ with $p_{\\text{T}}$ normalization, $m_{jj}$: 225 GeV, $\\Delta\\eta$: 2.3"
   ]
  },
  {
   "cell_type": "code",
   "execution_count": 152,
   "metadata": {},
   "outputs": [],
   "source": [
    "file_name = './GGF_VBF_CWoLa_training_results.csv'\n",
    "df = pd.read_csv(file_name)\n",
    "df = df.query(\"time > '2025-03-24' and time < '2025-03-25'\")"
   ]
  },
  {
   "cell_type": "code",
   "execution_count": 153,
   "metadata": {},
   "outputs": [
    {
     "name": "stdout",
     "output_type": "stream",
     "text": [
      "mjj: 225 GeV, L: 3000 fb^-1, pT normalized\n",
      "ACC: 0.863 ± 0.004\n",
      "AUC: 0.940 ± 0.002\n",
      "True ACC and AUC\n",
      "ACC: 0.716 ± 0.003\n",
      "AUC: 0.780 ± 0.004\n",
      "$0.863 \\pm 0.004$ & $0.940 \\pm 0.002$ & $0.716 \\pm 0.003$ & $0.780 \\pm 0.004$\n",
      "\n",
      "deta: 2.3, L: 3000 fb^-1, pT normalized\n",
      "ACC: 0.914 ± 0.004\n",
      "AUC: 0.972 ± 0.003\n",
      "True ACC and AUC\n",
      "ACC: 0.702 ± 0.003\n",
      "AUC: 0.754 ± 0.003\n",
      "$0.914 \\pm 0.004$ & $0.972 \\pm 0.003$ & $0.702 \\pm 0.003$ & $0.754 \\pm 0.003$\n",
      "\n",
      "mjj: 225 GeV, deta: 2.3, L: 3000 fb^-1, pT normalized\n",
      "ACC: 0.896 ± 0.006\n",
      "AUC: 0.962 ± 0.004\n",
      "True ACC and AUC\n",
      "ACC: 0.723 ± 0.003\n",
      "AUC: 0.780 ± 0.002\n",
      "$0.896 \\pm 0.006$ & $0.962 \\pm 0.004$ & $0.723 \\pm 0.003$ & $0.780 \\pm 0.002$\n"
     ]
    }
   ],
   "source": [
    "sample_type = 'mjj: 225 GeV, L: 3000 fb^-1, pT normalized'\n",
    "print_ACC_AUC(df, sample_type)\n",
    "print()\n",
    "\n",
    "sample_type = 'deta: 2.3, L: 3000 fb^-1, pT normalized'\n",
    "print_ACC_AUC(df, sample_type)\n",
    "print()\n",
    "\n",
    "sample_type = 'mjj: 225 GeV, deta: 2.3, L: 3000 fb^-1, pT normalized'\n",
    "print_ACC_AUC(df, sample_type)"
   ]
  },
  {
   "cell_type": "markdown",
   "metadata": {},
   "source": [
    "# Supervised CNN: 200k+50k+50k"
   ]
  },
  {
   "cell_type": "code",
   "execution_count": 154,
   "metadata": {},
   "outputs": [],
   "source": [
    "file_name = './GGF_VBF_CWoLa_training_results.csv'\n",
    "df = pd.read_csv(file_name)\n",
    "df = df.query(\"time > '2025-03-21' and time < '2025-03-22'\")"
   ]
  },
  {
   "cell_type": "code",
   "execution_count": 155,
   "metadata": {},
   "outputs": [
    {
     "name": "stdout",
     "output_type": "stream",
     "text": [
      "pure, pT normalized\n",
      "ACC: 0.785 ± 0.001\n",
      "AUC: 0.863 ± 0.001\n",
      "True ACC and AUC\n",
      "ACC: 0.784 ± 0.001\n",
      "AUC: 0.861 ± 0.001\n",
      "$0.785 \\pm 0.001$ & $0.863 \\pm 0.001$ & $0.784 \\pm 0.001$ & $0.861 \\pm 0.001$\n",
      "\n"
     ]
    }
   ],
   "source": [
    "sample_type = 'pure, pT normalized'\n",
    "print_ACC_AUC(df, sample_type)\n",
    "print()"
   ]
  },
  {
   "cell_type": "markdown",
   "metadata": {},
   "source": [
    "# Gluon jet"
   ]
  },
  {
   "cell_type": "code",
   "execution_count": 156,
   "metadata": {},
   "outputs": [],
   "source": [
    "file_name = './GGF_VBF_CWoLa_training_results.csv'\n",
    "df = pd.read_csv(file_name)\n",
    "df = df.query(\"time > '2025-03-30' and time < '2025-03-31'\")"
   ]
  },
  {
   "cell_type": "code",
   "execution_count": 157,
   "metadata": {},
   "outputs": [
    {
     "name": "stdout",
     "output_type": "stream",
     "text": [
      "gluon jet: = 2, L: 3000 fb^-1, pT normalized\n",
      "ACC: 0.934 ± 0.000\n",
      "AUC: 0.689 ± 0.012\n",
      "True ACC and AUC\n",
      "ACC: 0.662 ± 0.006\n",
      "AUC: 0.719 ± 0.008\n",
      "$0.934 \\pm 0.000$ & $0.689 \\pm 0.012$ & $0.662 \\pm 0.006$ & $0.719 \\pm 0.008$\n",
      "\n",
      "gluon jet: >= 1, L: 3000 fb^-1, pT normalized\n",
      "ACC: 0.623 ± 0.005\n",
      "AUC: 0.642 ± 0.005\n",
      "True ACC and AUC\n",
      "ACC: 0.653 ± 0.008\n",
      "AUC: 0.706 ± 0.009\n",
      "$0.623 \\pm 0.005$ & $0.642 \\pm 0.005$ & $0.653 \\pm 0.008$ & $0.706 \\pm 0.009$\n",
      "\n"
     ]
    }
   ],
   "source": [
    "sample_type = 'gluon jet: = 2, L: 3000 fb^-1, pT normalized'\n",
    "print_ACC_AUC(df, sample_type)\n",
    "print()\n",
    "\n",
    "sample_type = 'gluon jet: >= 1, L: 3000 fb^-1, pT normalized'\n",
    "print_ACC_AUC(df, sample_type)\n",
    "print()"
   ]
  },
  {
   "cell_type": "markdown",
   "metadata": {},
   "source": [
    "# 2 quark & 2 gluon jet"
   ]
  },
  {
   "cell_type": "code",
   "execution_count": 158,
   "metadata": {},
   "outputs": [],
   "source": [
    "file_name = './GGF_VBF_CWoLa_training_results.csv'\n",
    "df = pd.read_csv(file_name)\n",
    "df = df.query(\"time > '2025-03-31' and time < '2025-04-01'\")"
   ]
  },
  {
   "cell_type": "code",
   "execution_count": 159,
   "metadata": {},
   "outputs": [
    {
     "name": "stdout",
     "output_type": "stream",
     "text": [
      "quark jet: 2, gluon jet: 2, L: 3000 fb^-1, pT normalized\n",
      "ACC: 0.900 ± 0.000\n",
      "AUC: 0.740 ± 0.010\n",
      "True ACC and AUC\n",
      "ACC: 0.655 ± 0.008\n",
      "AUC: 0.710 ± 0.009\n",
      "$0.900 \\pm 0.000$ & $0.740 \\pm 0.010$ & $0.655 \\pm 0.008$ & $0.710 \\pm 0.009$\n",
      "\n"
     ]
    }
   ],
   "source": [
    "sample_type = 'quark jet: 2, gluon jet: 2, L: 3000 fb^-1, pT normalized'\n",
    "print_ACC_AUC(df, sample_type)\n",
    "print()"
   ]
  },
  {
   "cell_type": "markdown",
   "metadata": {},
   "source": [
    "# Jet tagging without $p_\\text{T}$ normalization"
   ]
  },
  {
   "cell_type": "code",
   "execution_count": 160,
   "metadata": {},
   "outputs": [],
   "source": [
    "file_name = './GGF_VBF_CWoLa_training_results.csv'\n",
    "df = pd.read_csv(file_name)\n",
    "df = df.query(\"time > '2025-04-07' and time < '2025-04-08'\")"
   ]
  },
  {
   "cell_type": "code",
   "execution_count": 161,
   "metadata": {},
   "outputs": [
    {
     "name": "stdout",
     "output_type": "stream",
     "text": [
      "gluon jet: = 2, L: 3000 fb^-1\n",
      "ACC: 0.934 ± 0.000\n",
      "AUC: 0.695 ± 0.015\n",
      "True ACC and AUC\n",
      "ACC: 0.643 ± 0.009\n",
      "AUC: 0.689 ± 0.011\n",
      "$0.934 \\pm 0.000$ & $0.695 \\pm 0.015$ & $0.643 \\pm 0.009$ & $0.689 \\pm 0.011$\n",
      "\n",
      "gluon jet: >= 1, L: 3000 fb^-1\n",
      "ACC: 0.615 ± 0.004\n",
      "AUC: 0.634 ± 0.006\n",
      "True ACC and AUC\n",
      "ACC: 0.646 ± 0.008\n",
      "AUC: 0.690 ± 0.011\n",
      "$0.615 \\pm 0.004$ & $0.634 \\pm 0.006$ & $0.646 \\pm 0.008$ & $0.690 \\pm 0.011$\n",
      "\n",
      "quark jet: 2, gluon jet: 2, L: 3000 fb^-1\n",
      "ACC: 0.900 ± 0.000\n",
      "AUC: 0.739 ± 0.012\n",
      "True ACC and AUC\n",
      "ACC: 0.628 ± 0.007\n",
      "AUC: 0.671 ± 0.011\n",
      "$0.900 \\pm 0.000$ & $0.739 \\pm 0.012$ & $0.628 \\pm 0.007$ & $0.671 \\pm 0.011$\n",
      "\n"
     ]
    }
   ],
   "source": [
    "sample_type = 'gluon jet: = 2, L: 3000 fb^-1'\n",
    "print_ACC_AUC(df, sample_type)\n",
    "print()\n",
    "\n",
    "sample_type = 'gluon jet: >= 1, L: 3000 fb^-1'\n",
    "print_ACC_AUC(df, sample_type)\n",
    "print()\n",
    "\n",
    "sample_type = 'quark jet: 2, gluon jet: 2, L: 3000 fb^-1'\n",
    "print_ACC_AUC(df, sample_type)\n",
    "print()"
   ]
  },
  {
   "cell_type": "markdown",
   "metadata": {},
   "source": [
    "# Jet tagging without $p_\\text{T}$ normalization, loss weighted"
   ]
  },
  {
   "cell_type": "code",
   "execution_count": 162,
   "metadata": {},
   "outputs": [],
   "source": [
    "file_name = './GGF_VBF_CWoLa_training_results.csv'\n",
    "df = pd.read_csv(file_name)\n",
    "df = df.query(\"time > '2025-04-07 16' and time < '2025-04-07 17:15'\")"
   ]
  },
  {
   "cell_type": "code",
   "execution_count": 163,
   "metadata": {},
   "outputs": [
    {
     "name": "stdout",
     "output_type": "stream",
     "text": [
      "quark jet: = 2, L: 3000 fb^-1\n",
      "ACC: 0.621 ± 0.006\n",
      "AUC: 0.635 ± 0.007\n",
      "True ACC and AUC\n",
      "ACC: 0.645 ± 0.009\n",
      "AUC: 0.688 ± 0.013\n",
      "$0.621 \\pm 0.006$ & $0.635 \\pm 0.007$ & $0.645 \\pm 0.009$ & $0.688 \\pm 0.013$\n",
      "\n",
      "quark jet: >= 1, L: 3000 fb^-1\n",
      "ACC: 0.934 ± 0.000\n",
      "AUC: 0.679 ± 0.016\n",
      "True ACC and AUC\n",
      "ACC: 0.624 ± 0.005\n",
      "AUC: 0.662 ± 0.008\n",
      "$0.934 \\pm 0.000$ & $0.679 \\pm 0.016$ & $0.624 \\pm 0.005$ & $0.662 \\pm 0.008$\n",
      "\n",
      "quark jet: 2, gluon jet: 2, L: 3000 fb^-1\n",
      "ACC: 0.900 ± 0.000\n",
      "AUC: 0.730 ± 0.013\n",
      "True ACC and AUC\n",
      "ACC: 0.621 ± 0.005\n",
      "AUC: 0.658 ± 0.008\n",
      "$0.900 \\pm 0.000$ & $0.730 \\pm 0.013$ & $0.621 \\pm 0.005$ & $0.658 \\pm 0.008$\n",
      "\n"
     ]
    }
   ],
   "source": [
    "sample_type = 'quark jet: = 2, L: 3000 fb^-1'\n",
    "print_ACC_AUC(df, sample_type)\n",
    "print()\n",
    "\n",
    "sample_type = 'quark jet: >= 1, L: 3000 fb^-1'\n",
    "print_ACC_AUC(df, sample_type)\n",
    "print()\n",
    "\n",
    "sample_type = 'quark jet: 2, gluon jet: 2, L: 3000 fb^-1'\n",
    "print_ACC_AUC(df, sample_type)\n",
    "print()"
   ]
  },
  {
   "cell_type": "markdown",
   "metadata": {},
   "source": [
    "# Jet tagging without $p_\\text{T}$ normalization, without loss weighted"
   ]
  },
  {
   "cell_type": "code",
   "execution_count": 164,
   "metadata": {},
   "outputs": [],
   "source": [
    "file_name = './GGF_VBF_CWoLa_training_results.csv'\n",
    "df = pd.read_csv(file_name)\n",
    "df = df.query(\"time > '2025-04-07 17:30' and time < '2025-04-08'\")"
   ]
  },
  {
   "cell_type": "code",
   "execution_count": 165,
   "metadata": {},
   "outputs": [
    {
     "name": "stdout",
     "output_type": "stream",
     "text": [
      "quark jet: = 2, L: 3000 fb^-1\n",
      "ACC: 0.614 ± 0.007\n",
      "AUC: 0.632 ± 0.011\n",
      "True ACC and AUC\n",
      "ACC: 0.646 ± 0.004\n",
      "AUC: 0.691 ± 0.006\n",
      "$0.614 \\pm 0.007$ & $0.632 \\pm 0.011$ & $0.646 \\pm 0.004$ & $0.691 \\pm 0.006$\n",
      "\n",
      "quark jet: >= 1, L: 3000 fb^-1\n",
      "ACC: 0.934 ± 0.000\n",
      "AUC: 0.693 ± 0.012\n",
      "True ACC and AUC\n",
      "ACC: 0.639 ± 0.007\n",
      "AUC: 0.686 ± 0.010\n",
      "$0.934 \\pm 0.000$ & $0.693 \\pm 0.012$ & $0.639 \\pm 0.007$ & $0.686 \\pm 0.010$\n",
      "\n",
      "quark jet: 2, gluon jet: 2, L: 3000 fb^-1\n",
      "ACC: 0.900 ± 0.000\n",
      "AUC: 0.745 ± 0.008\n",
      "True ACC and AUC\n",
      "ACC: 0.632 ± 0.005\n",
      "AUC: 0.677 ± 0.006\n",
      "$0.900 \\pm 0.000$ & $0.745 \\pm 0.008$ & $0.632 \\pm 0.005$ & $0.677 \\pm 0.006$\n",
      "\n"
     ]
    }
   ],
   "source": [
    "sample_type = 'quark jet: = 2, L: 3000 fb^-1'\n",
    "print_ACC_AUC(df, sample_type)\n",
    "print()\n",
    "\n",
    "sample_type = 'quark jet: >= 1, L: 3000 fb^-1'\n",
    "print_ACC_AUC(df, sample_type)\n",
    "print()\n",
    "\n",
    "sample_type = 'quark jet: 2, gluon jet: 2, L: 3000 fb^-1'\n",
    "print_ACC_AUC(df, sample_type)\n",
    "print()"
   ]
  },
  {
   "cell_type": "markdown",
   "metadata": {},
   "source": [
    "# Jet tagging with total $p_\\text{T}$ scaling, with loss weighted"
   ]
  },
  {
   "cell_type": "code",
   "execution_count": 166,
   "metadata": {},
   "outputs": [],
   "source": [
    "file_name = './GGF_VBF_CWoLa_training_results.csv'\n",
    "df = pd.read_csv(file_name)\n",
    "df = df.query(\"time > '2025-04-13 ' and time < '2025-04-14'\")"
   ]
  },
  {
   "cell_type": "code",
   "execution_count": 167,
   "metadata": {},
   "outputs": [
    {
     "name": "stdout",
     "output_type": "stream",
     "text": [
      "quark jet: = 2, L: 3000 fb^-1, pT scaling\n",
      "ACC: 0.622 ± 0.004\n",
      "AUC: 0.637 ± 0.008\n",
      "True ACC and AUC\n",
      "ACC: 0.638 ± 0.009\n",
      "AUC: 0.678 ± 0.011\n",
      "$0.622 \\pm 0.004$ & $0.637 \\pm 0.008$ & $0.638 \\pm 0.009$ & $0.678 \\pm 0.011$\n",
      "\n",
      "quark jet: >= 1, L: 3000 fb^-1, pT scaling\n",
      "ACC: 0.934 ± 0.000\n",
      "AUC: 0.673 ± 0.032\n",
      "True ACC and AUC\n",
      "ACC: 0.619 ± 0.019\n",
      "AUC: 0.652 ± 0.029\n",
      "$0.934 \\pm 0.000$ & $0.673 \\pm 0.032$ & $0.619 \\pm 0.019$ & $0.652 \\pm 0.029$\n",
      "\n",
      "quark jet: 2, gluon jet: 2, L: 3000 fb^-1, pT scaling\n",
      "ACC: 0.900 ± 0.000\n",
      "AUC: 0.733 ± 0.011\n",
      "True ACC and AUC\n",
      "ACC: 0.621 ± 0.006\n",
      "AUC: 0.657 ± 0.009\n",
      "$0.900 \\pm 0.000$ & $0.733 \\pm 0.011$ & $0.621 \\pm 0.006$ & $0.657 \\pm 0.009$\n",
      "\n"
     ]
    }
   ],
   "source": [
    "sample_type = 'quark jet: = 2, L: 3000 fb^-1, pT scaling'\n",
    "print_ACC_AUC(df, sample_type)\n",
    "print()\n",
    "\n",
    "sample_type = 'quark jet: >= 1, L: 3000 fb^-1, pT scaling'\n",
    "print_ACC_AUC(df, sample_type)\n",
    "print()\n",
    "\n",
    "sample_type = 'quark jet: 2, gluon jet: 2, L: 3000 fb^-1, pT scaling'\n",
    "print_ACC_AUC(df, sample_type)\n",
    "print()"
   ]
  },
  {
   "cell_type": "markdown",
   "metadata": {},
   "source": [
    "# Jet tagging with $p_\\text{T}$ nomalization, with loss weighted"
   ]
  },
  {
   "cell_type": "code",
   "execution_count": 168,
   "metadata": {},
   "outputs": [],
   "source": [
    "file_name = './GGF_VBF_CWoLa_training_results.csv'\n",
    "df = pd.read_csv(file_name)\n",
    "df = df.query(\"time > '2025-04-14 09:00' and time < '2025-04-14 09:40'\")"
   ]
  },
  {
   "cell_type": "code",
   "execution_count": 169,
   "metadata": {},
   "outputs": [
    {
     "name": "stdout",
     "output_type": "stream",
     "text": [
      "quark jet: = 2, L: 3000 fb^-1, pT normalized\n",
      "ACC: 0.615 ± 0.005\n",
      "AUC: 0.632 ± 0.007\n",
      "True ACC and AUC\n",
      "ACC: 0.650 ± 0.011\n",
      "AUC: 0.703 ± 0.015\n",
      "$0.615 \\pm 0.005$ & $0.632 \\pm 0.007$ & $0.650 \\pm 0.011$ & $0.703 \\pm 0.015$\n",
      "\n",
      "quark jet: >= 1, L: 3000 fb^-1, pT normalized\n",
      "ACC: 0.934 ± 0.000\n",
      "AUC: 0.662 ± 0.014\n",
      "True ACC and AUC\n",
      "ACC: 0.630 ± 0.008\n",
      "AUC: 0.675 ± 0.011\n",
      "$0.934 \\pm 0.000$ & $0.662 \\pm 0.014$ & $0.630 \\pm 0.008$ & $0.675 \\pm 0.011$\n",
      "\n",
      "quark jet: 2, gluon jet: 2, L: 3000 fb^-1, pT normalized\n",
      "ACC: 0.900 ± 0.000\n",
      "AUC: 0.716 ± 0.012\n",
      "True ACC and AUC\n",
      "ACC: 0.640 ± 0.007\n",
      "AUC: 0.690 ± 0.009\n",
      "$0.900 \\pm 0.000$ & $0.716 \\pm 0.012$ & $0.640 \\pm 0.007$ & $0.690 \\pm 0.009$\n",
      "\n"
     ]
    }
   ],
   "source": [
    "sample_type = 'quark jet: = 2, L: 3000 fb^-1, pT normalized'\n",
    "print_ACC_AUC(df, sample_type)\n",
    "print()\n",
    "\n",
    "sample_type = 'quark jet: >= 1, L: 3000 fb^-1, pT normalized'\n",
    "print_ACC_AUC(df, sample_type)\n",
    "print()\n",
    "\n",
    "sample_type = 'quark jet: 2, gluon jet: 2, L: 3000 fb^-1, pT normalized'\n",
    "print_ACC_AUC(df, sample_type)\n",
    "print()"
   ]
  },
  {
   "cell_type": "markdown",
   "metadata": {},
   "source": [
    "# Jet tagging without $p_\\text{T}$ nomalization, with loss weighted"
   ]
  },
  {
   "cell_type": "code",
   "execution_count": 170,
   "metadata": {},
   "outputs": [],
   "source": [
    "file_name = './GGF_VBF_CWoLa_training_results.csv'\n",
    "df = pd.read_csv(file_name)\n",
    "df = df.query(\"time > '2025-04-14 10:00' and time < '2025-04-14 11:00'\")"
   ]
  },
  {
   "cell_type": "code",
   "execution_count": 171,
   "metadata": {},
   "outputs": [
    {
     "name": "stdout",
     "output_type": "stream",
     "text": [
      "quark jet: = 2, L: 3000 fb^-1, pT normalized\n",
      "ACC: 0.620 ± 0.004\n",
      "AUC: 0.636 ± 0.005\n",
      "True ACC and AUC\n",
      "ACC: 0.643 ± 0.006\n",
      "AUC: 0.686 ± 0.007\n",
      "$0.620 \\pm 0.004$ & $0.636 \\pm 0.005$ & $0.643 \\pm 0.006$ & $0.686 \\pm 0.007$\n",
      "\n",
      "quark jet: >= 1, L: 3000 fb^-1, pT normalized\n",
      "ACC: 0.934 ± 0.000\n",
      "AUC: 0.680 ± 0.014\n",
      "True ACC and AUC\n",
      "ACC: 0.624 ± 0.010\n",
      "AUC: 0.660 ± 0.016\n",
      "$0.934 \\pm 0.000$ & $0.680 \\pm 0.014$ & $0.624 \\pm 0.010$ & $0.660 \\pm 0.016$\n",
      "\n",
      "quark jet: 2, gluon jet: 2, L: 3000 fb^-1, pT normalized\n",
      "ACC: 0.900 ± 0.000\n",
      "AUC: 0.727 ± 0.010\n",
      "True ACC and AUC\n",
      "ACC: 0.628 ± 0.008\n",
      "AUC: 0.666 ± 0.011\n",
      "$0.900 \\pm 0.000$ & $0.727 \\pm 0.010$ & $0.628 \\pm 0.008$ & $0.666 \\pm 0.011$\n",
      "\n"
     ]
    }
   ],
   "source": [
    "sample_type = 'quark jet: = 2, L: 3000 fb^-1, pT normalized'\n",
    "print_ACC_AUC(df, sample_type)\n",
    "print()\n",
    "\n",
    "sample_type = 'quark jet: >= 1, L: 3000 fb^-1, pT normalized'\n",
    "print_ACC_AUC(df, sample_type)\n",
    "print()\n",
    "\n",
    "sample_type = 'quark jet: 2, gluon jet: 2, L: 3000 fb^-1, pT normalized'\n",
    "print_ACC_AUC(df, sample_type)\n",
    "print()"
   ]
  },
  {
   "cell_type": "markdown",
   "metadata": {},
   "source": [
    "# $p_\\text{T}$ smearing: +5, +10, +15"
   ]
  },
  {
   "cell_type": "code",
   "execution_count": 172,
   "metadata": {},
   "outputs": [],
   "source": [
    "file_name = './GGF_VBF_CWoLa_training_results.csv'\n",
    "df = pd.read_csv(file_name)\n",
    "df = df.query(\"time > '2025-04-18' and time < '2025-04-21 11:10'\")"
   ]
  },
  {
   "cell_type": "code",
   "execution_count": 173,
   "metadata": {},
   "outputs": [
    {
     "name": "stdout",
     "output_type": "stream",
     "text": [
      "quark jet: = 2, L: 3000 fb^-1, pT normalized, pT smearing: +5\n",
      "ACC: 0.625 ± 0.006\n",
      "AUC: 0.653 ± 0.009\n",
      "True ACC and AUC\n",
      "ACC: 0.661 ± 0.010\n",
      "AUC: 0.714 ± 0.012\n",
      "$0.625 \\pm 0.006$ & $0.653 \\pm 0.009$ & $0.661 \\pm 0.010$ & $0.714 \\pm 0.012$\n",
      "\n",
      "quark jet: = 2, L: 3000 fb^-1, pT normalized, pT smearing: +10\n",
      "ACC: 0.629 ± 0.005\n",
      "AUC: 0.658 ± 0.005\n",
      "True ACC and AUC\n",
      "ACC: 0.666 ± 0.008\n",
      "AUC: 0.721 ± 0.009\n",
      "$0.629 \\pm 0.005$ & $0.658 \\pm 0.005$ & $0.666 \\pm 0.008$ & $0.721 \\pm 0.009$\n",
      "\n",
      "quark jet: = 2, L: 3000 fb^-1, pT normalized, pT smearing: +15\n",
      "ACC: 0.629 ± 0.003\n",
      "AUC: 0.660 ± 0.003\n",
      "True ACC and AUC\n",
      "ACC: 0.661 ± 0.015\n",
      "AUC: 0.710 ± 0.018\n",
      "$0.629 \\pm 0.003$ & $0.660 \\pm 0.003$ & $0.661 \\pm 0.015$ & $0.710 \\pm 0.018$\n",
      "\n"
     ]
    }
   ],
   "source": [
    "sample_type = 'quark jet: = 2, L: 3000 fb^-1, pT normalized, pT smearing: +5'\n",
    "print_ACC_AUC(df, sample_type)\n",
    "print()\n",
    "\n",
    "sample_type = 'quark jet: = 2, L: 3000 fb^-1, pT normalized, pT smearing: +10'\n",
    "print_ACC_AUC(df, sample_type)\n",
    "print()\n",
    "\n",
    "sample_type = 'quark jet: = 2, L: 3000 fb^-1, pT normalized, pT smearing: +15'\n",
    "print_ACC_AUC(df, sample_type)\n",
    "print()"
   ]
  },
  {
   "cell_type": "markdown",
   "metadata": {},
   "source": [
    "# $\\phi$ shifting: +5, +10, +15"
   ]
  },
  {
   "cell_type": "code",
   "execution_count": 174,
   "metadata": {},
   "outputs": [],
   "source": [
    "file_name = './GGF_VBF_CWoLa_training_results.csv'\n",
    "df = pd.read_csv(file_name)\n",
    "df = df.query(\"time > '2025-04-27' and time < '2025-04-28'\")"
   ]
  },
  {
   "cell_type": "code",
   "execution_count": 175,
   "metadata": {},
   "outputs": [
    {
     "name": "stdout",
     "output_type": "stream",
     "text": [
      "quark jet: = 2, L: 3000 fb^-1, pT normalized, phi shifting: +5\n",
      "ACC: 0.641 ± 0.003\n",
      "AUC: 0.680 ± 0.004\n",
      "True ACC and AUC\n",
      "ACC: 0.683 ± 0.010\n",
      "AUC: 0.736 ± 0.013\n",
      "$0.641 \\pm 0.003$ & $0.680 \\pm 0.004$ & $0.683 \\pm 0.010$ & $0.736 \\pm 0.013$\n",
      "\n",
      "quark jet: = 2, L: 3000 fb^-1, pT normalized, phi shifting: +10\n",
      "ACC: 0.642 ± 0.006\n",
      "AUC: 0.684 ± 0.008\n",
      "True ACC and AUC\n",
      "ACC: 0.686 ± 0.008\n",
      "AUC: 0.739 ± 0.011\n",
      "$0.642 \\pm 0.006$ & $0.684 \\pm 0.008$ & $0.686 \\pm 0.008$ & $0.739 \\pm 0.011$\n",
      "\n",
      "quark jet: = 2, L: 3000 fb^-1, pT normalized, phi shifting: +15\n",
      "ACC: 0.643 ± 0.005\n",
      "AUC: 0.685 ± 0.006\n",
      "True ACC and AUC\n",
      "ACC: 0.687 ± 0.009\n",
      "AUC: 0.742 ± 0.010\n",
      "$0.643 \\pm 0.005$ & $0.685 \\pm 0.006$ & $0.687 \\pm 0.009$ & $0.742 \\pm 0.010$\n",
      "\n"
     ]
    }
   ],
   "source": [
    "sample_type = 'quark jet: = 2, L: 3000 fb^-1, pT normalized, phi shifting: +5'\n",
    "print_ACC_AUC(df, sample_type)\n",
    "print()\n",
    "\n",
    "sample_type = 'quark jet: = 2, L: 3000 fb^-1, pT normalized, phi shifting: +10'\n",
    "print_ACC_AUC(df, sample_type)\n",
    "print()\n",
    "\n",
    "sample_type = 'quark jet: = 2, L: 3000 fb^-1, pT normalized, phi shifting: +15'\n",
    "print_ACC_AUC(df, sample_type)\n",
    "print()"
   ]
  },
  {
   "cell_type": "markdown",
   "metadata": {},
   "source": [
    "# $\\eta-\\phi$ smearing: +5, +10, +15"
   ]
  },
  {
   "cell_type": "code",
   "execution_count": 176,
   "metadata": {},
   "outputs": [],
   "source": [
    "file_name = './GGF_VBF_CWoLa_training_results.csv'\n",
    "df = pd.read_csv(file_name)\n",
    "df = df.query(\"time > '2025-04-27' and time < '2025-04-28'\")"
   ]
  },
  {
   "cell_type": "code",
   "execution_count": 177,
   "metadata": {},
   "outputs": [
    {
     "name": "stdout",
     "output_type": "stream",
     "text": [
      "quark jet: = 2, L: 3000 fb^-1, pT normalized, eta-phi smearing: +5\n",
      "ACC: 0.618 ± 0.004\n",
      "AUC: 0.640 ± 0.006\n",
      "True ACC and AUC\n",
      "ACC: 0.658 ± 0.009\n",
      "AUC: 0.711 ± 0.013\n",
      "$0.618 \\pm 0.004$ & $0.640 \\pm 0.006$ & $0.658 \\pm 0.009$ & $0.711 \\pm 0.013$\n",
      "\n",
      "quark jet: = 2, L: 3000 fb^-1, pT normalized, eta-phi smearing: +10\n",
      "ACC: 0.617 ± 0.004\n",
      "AUC: 0.641 ± 0.006\n",
      "True ACC and AUC\n",
      "ACC: 0.654 ± 0.010\n",
      "AUC: 0.705 ± 0.012\n",
      "$0.617 \\pm 0.004$ & $0.641 \\pm 0.006$ & $0.654 \\pm 0.010$ & $0.705 \\pm 0.012$\n",
      "\n",
      "quark jet: = 2, L: 3000 fb^-1, pT normalized, eta-phi smearing: +15\n",
      "ACC: 0.612 ± 0.006\n",
      "AUC: 0.628 ± 0.008\n",
      "True ACC and AUC\n",
      "ACC: 0.635 ± 0.009\n",
      "AUC: 0.679 ± 0.013\n",
      "$0.612 \\pm 0.006$ & $0.628 \\pm 0.008$ & $0.635 \\pm 0.009$ & $0.679 \\pm 0.013$\n",
      "\n"
     ]
    }
   ],
   "source": [
    "sample_type = 'quark jet: = 2, L: 3000 fb^-1, pT normalized, eta-phi smearing: +5'\n",
    "print_ACC_AUC(df, sample_type)\n",
    "print()\n",
    "\n",
    "sample_type = 'quark jet: = 2, L: 3000 fb^-1, pT normalized, eta-phi smearing: +10'\n",
    "print_ACC_AUC(df, sample_type)\n",
    "print()\n",
    "\n",
    "sample_type = 'quark jet: = 2, L: 3000 fb^-1, pT normalized, eta-phi smearing: +15'\n",
    "print_ACC_AUC(df, sample_type)\n",
    "print()"
   ]
  },
  {
   "cell_type": "markdown",
   "metadata": {},
   "source": [
    "# Remove photon informaiton: $\\eta-\\phi$ smearing: +5, +10, +15"
   ]
  },
  {
   "cell_type": "code",
   "execution_count": 178,
   "metadata": {},
   "outputs": [],
   "source": [
    "file_name = './GGF_VBF_CWoLa_training_results.csv'\n",
    "df = pd.read_csv(file_name)\n",
    "df = df.query(\"time > '2025-05-23' and time < '2025-05-24'\")"
   ]
  },
  {
   "cell_type": "code",
   "execution_count": 179,
   "metadata": {},
   "outputs": [
    {
     "name": "stdout",
     "output_type": "stream",
     "text": [
      "quark jet: = 2, L: 3000 fb^-1, pT normalized, remove photon\n",
      "ACC: 0.633 ± 0.005\n",
      "AUC: 0.664 ± 0.008\n",
      "True ACC and AUC\n",
      "ACC: 0.690 ± 0.005\n",
      "AUC: 0.750 ± 0.008\n",
      "$0.633 \\pm 0.005$ & $0.664 \\pm 0.008$ & $0.690 \\pm 0.005$ & $0.750 \\pm 0.008$\n",
      "\n",
      "quark jet: = 2, L: 3000 fb^-1, pT normalized, remove photon, phi shifting: +5\n",
      "ACC: 0.644 ± 0.004\n",
      "AUC: 0.687 ± 0.005\n",
      "True ACC and AUC\n",
      "ACC: 0.693 ± 0.007\n",
      "AUC: 0.746 ± 0.006\n",
      "$0.644 \\pm 0.004$ & $0.687 \\pm 0.005$ & $0.693 \\pm 0.007$ & $0.746 \\pm 0.006$\n",
      "\n",
      "quark jet: = 2, L: 3000 fb^-1, pT normalized, remove photon, phi shifting: +10\n",
      "ACC: 0.645 ± 0.004\n",
      "AUC: 0.689 ± 0.005\n",
      "True ACC and AUC\n",
      "ACC: 0.697 ± 0.009\n",
      "AUC: 0.751 ± 0.011\n",
      "$0.645 \\pm 0.004$ & $0.689 \\pm 0.005$ & $0.697 \\pm 0.009$ & $0.751 \\pm 0.011$\n",
      "\n",
      "quark jet: = 2, L: 3000 fb^-1, pT normalized, remove photon, phi shifting: +15\n",
      "ACC: 0.645 ± 0.004\n",
      "AUC: 0.689 ± 0.005\n",
      "True ACC and AUC\n",
      "ACC: 0.698 ± 0.009\n",
      "AUC: 0.753 ± 0.010\n",
      "$0.645 \\pm 0.004$ & $0.689 \\pm 0.005$ & $0.698 \\pm 0.009$ & $0.753 \\pm 0.010$\n",
      "\n"
     ]
    }
   ],
   "source": [
    "sample_type = 'quark jet: = 2, L: 3000 fb^-1, pT normalized, remove photon'\n",
    "print_ACC_AUC(df, sample_type)\n",
    "print()\n",
    "\n",
    "sample_type = 'quark jet: = 2, L: 3000 fb^-1, pT normalized, remove photon, phi shifting: +5'\n",
    "print_ACC_AUC(df, sample_type)\n",
    "print()\n",
    "\n",
    "sample_type = 'quark jet: = 2, L: 3000 fb^-1, pT normalized, remove photon, phi shifting: +10'\n",
    "print_ACC_AUC(df, sample_type)\n",
    "print()\n",
    "\n",
    "sample_type = 'quark jet: = 2, L: 3000 fb^-1, pT normalized, remove photon, phi shifting: +15'\n",
    "print_ACC_AUC(df, sample_type)\n",
    "print()"
   ]
  },
  {
   "cell_type": "code",
   "execution_count": 180,
   "metadata": {},
   "outputs": [
    {
     "name": "stdout",
     "output_type": "stream",
     "text": [
      "quark jet: = 2, L: 3000 fb^-1, pT normalized, remove photon channel\n",
      "ACC: 0.621 ± 0.005\n",
      "AUC: 0.640 ± 0.008\n",
      "True ACC and AUC\n",
      "ACC: 0.661 ± 0.007\n",
      "AUC: 0.715 ± 0.010\n",
      "$0.621 \\pm 0.005$ & $0.640 \\pm 0.008$ & $0.661 \\pm 0.007$ & $0.715 \\pm 0.010$\n",
      "\n",
      "quark jet: = 2, L: 3000 fb^-1, pT normalized, remove photon channel, phi shifting: +5\n",
      "ACC: 0.636 ± 0.004\n",
      "AUC: 0.673 ± 0.006\n",
      "True ACC and AUC\n",
      "ACC: 0.673 ± 0.009\n",
      "AUC: 0.727 ± 0.011\n",
      "$0.636 \\pm 0.004$ & $0.673 \\pm 0.006$ & $0.673 \\pm 0.009$ & $0.727 \\pm 0.011$\n",
      "\n",
      "quark jet: = 2, L: 3000 fb^-1, pT normalized, remove photon channel, phi shifting: +10\n",
      "ACC: 0.639 ± 0.004\n",
      "AUC: 0.677 ± 0.005\n",
      "True ACC and AUC\n",
      "ACC: 0.677 ± 0.007\n",
      "AUC: 0.728 ± 0.010\n",
      "$0.639 \\pm 0.004$ & $0.677 \\pm 0.005$ & $0.677 \\pm 0.007$ & $0.728 \\pm 0.010$\n",
      "\n",
      "quark jet: = 2, L: 3000 fb^-1, pT normalized, remove photon channel, phi shifting: +15\n",
      "ACC: 0.640 ± 0.005\n",
      "AUC: 0.679 ± 0.007\n",
      "True ACC and AUC\n",
      "ACC: 0.678 ± 0.007\n",
      "AUC: 0.731 ± 0.010\n",
      "$0.640 \\pm 0.005$ & $0.679 \\pm 0.007$ & $0.678 \\pm 0.007$ & $0.731 \\pm 0.010$\n",
      "\n"
     ]
    }
   ],
   "source": [
    "sample_type = 'quark jet: = 2, L: 3000 fb^-1, pT normalized, remove photon channel'\n",
    "print_ACC_AUC(df, sample_type)\n",
    "print()\n",
    "\n",
    "sample_type = 'quark jet: = 2, L: 3000 fb^-1, pT normalized, remove photon channel, phi shifting: +5'\n",
    "print_ACC_AUC(df, sample_type)\n",
    "print()\n",
    "\n",
    "sample_type = 'quark jet: = 2, L: 3000 fb^-1, pT normalized, remove photon channel, phi shifting: +10'\n",
    "print_ACC_AUC(df, sample_type)\n",
    "print()\n",
    "\n",
    "sample_type = 'quark jet: = 2, L: 3000 fb^-1, pT normalized, remove photon channel, phi shifting: +15'\n",
    "print_ACC_AUC(df, sample_type)\n",
    "print()"
   ]
  },
  {
   "cell_type": "code",
   "execution_count": 181,
   "metadata": {},
   "outputs": [],
   "source": [
    "file_name = './GGF_VBF_CWoLa_training_results.csv'\n",
    "df = pd.read_csv(file_name)\n",
    "df = df.query(\"time > '2025-05-26' and time < '2025-05-27'\")"
   ]
  },
  {
   "cell_type": "code",
   "execution_count": 182,
   "metadata": {},
   "outputs": [
    {
     "name": "stdout",
     "output_type": "stream",
     "text": [
      "quark jet: = 2, L: 3000 fb^-1, pT normalized, remove photon: case 3\n",
      "ACC: 0.629 ± 0.004\n",
      "AUC: 0.653 ± 0.006\n",
      "True ACC and AUC\n",
      "ACC: 0.670 ± 0.008\n",
      "AUC: 0.726 ± 0.009\n",
      "$0.629 \\pm 0.004$ & $0.653 \\pm 0.006$ & $0.670 \\pm 0.008$ & $0.726 \\pm 0.009$\n",
      "\n",
      "quark jet: = 2, L: 3000 fb^-1, pT normalized, remove photon: case 3, phi shifting: +5\n",
      "ACC: 0.642 ± 0.005\n",
      "AUC: 0.682 ± 0.008\n",
      "True ACC and AUC\n",
      "ACC: 0.690 ± 0.010\n",
      "AUC: 0.742 ± 0.011\n",
      "$0.642 \\pm 0.005$ & $0.682 \\pm 0.008$ & $0.690 \\pm 0.010$ & $0.742 \\pm 0.011$\n",
      "\n",
      "quark jet: = 2, L: 3000 fb^-1, pT normalized, remove photon: case 3, phi shifting: +10\n",
      "ACC: 0.644 ± 0.003\n",
      "AUC: 0.686 ± 0.004\n",
      "True ACC and AUC\n",
      "ACC: 0.692 ± 0.006\n",
      "AUC: 0.746 ± 0.008\n",
      "$0.644 \\pm 0.003$ & $0.686 \\pm 0.004$ & $0.692 \\pm 0.006$ & $0.746 \\pm 0.008$\n",
      "\n",
      "quark jet: = 2, L: 3000 fb^-1, pT normalized, remove photon: case 3, phi shifting: +15\n",
      "ACC: 0.645 ± 0.005\n",
      "AUC: 0.687 ± 0.007\n",
      "True ACC and AUC\n",
      "ACC: 0.690 ± 0.007\n",
      "AUC: 0.745 ± 0.007\n",
      "$0.645 \\pm 0.005$ & $0.687 \\pm 0.007$ & $0.690 \\pm 0.007$ & $0.745 \\pm 0.007$\n",
      "\n"
     ]
    }
   ],
   "source": [
    "sample_type = 'quark jet: = 2, L: 3000 fb^-1, pT normalized, remove photon: case 3'\n",
    "print_ACC_AUC(df, sample_type)\n",
    "print()\n",
    "\n",
    "sample_type = 'quark jet: = 2, L: 3000 fb^-1, pT normalized, remove photon: case 3, phi shifting: +5'\n",
    "print_ACC_AUC(df, sample_type)\n",
    "print()\n",
    "\n",
    "sample_type = 'quark jet: = 2, L: 3000 fb^-1, pT normalized, remove photon: case 3, phi shifting: +10'\n",
    "print_ACC_AUC(df, sample_type)\n",
    "print()\n",
    "\n",
    "sample_type = 'quark jet: = 2, L: 3000 fb^-1, pT normalized, remove photon: case 3, phi shifting: +15'\n",
    "print_ACC_AUC(df, sample_type)\n",
    "print()"
   ]
  },
  {
   "cell_type": "markdown",
   "metadata": {},
   "source": [
    "# $\\phi$ shifting, fixed angle: 30, 45, 60, 90"
   ]
  },
  {
   "cell_type": "code",
   "execution_count": 183,
   "metadata": {},
   "outputs": [],
   "source": [
    "file_name = './GGF_VBF_CWoLa_training_results.csv'\n",
    "df = pd.read_csv(file_name)\n",
    "df = df.query(\"time > '2025-06-23' and time < '2025-06-25'\")"
   ]
  },
  {
   "cell_type": "code",
   "execution_count": 184,
   "metadata": {},
   "outputs": [
    {
     "name": "stdout",
     "output_type": "stream",
     "text": [
      "quark jet: = 2, L: 3000 fb^-1, pT normalized, phi shifting, fixed angle: 90\n",
      "ACC: 0.637 ± 0.005\n",
      "AUC: 0.675 ± 0.007\n",
      "True ACC and AUC\n",
      "ACC: 0.684 ± 0.010\n",
      "AUC: 0.739 ± 0.012\n",
      "$0.637 \\pm 0.005$ & $0.675 \\pm 0.007$ & $0.684 \\pm 0.010$ & $0.739 \\pm 0.012$\n",
      "\n",
      "quark jet: = 2, L: 3000 fb^-1, pT normalized, phi shifting, fixed angle: 60\n",
      "ACC: 0.642 ± 0.003\n",
      "AUC: 0.682 ± 0.005\n",
      "True ACC and AUC\n",
      "ACC: 0.689 ± 0.007\n",
      "AUC: 0.745 ± 0.010\n",
      "$0.642 \\pm 0.003$ & $0.682 \\pm 0.005$ & $0.689 \\pm 0.007$ & $0.745 \\pm 0.010$\n",
      "\n",
      "quark jet: = 2, L: 3000 fb^-1, pT normalized, phi shifting, fixed angle: 45\n",
      "ACC: 0.643 ± 0.003\n",
      "AUC: 0.685 ± 0.004\n",
      "True ACC and AUC\n",
      "ACC: 0.689 ± 0.008\n",
      "AUC: 0.742 ± 0.012\n",
      "$0.643 \\pm 0.003$ & $0.685 \\pm 0.004$ & $0.689 \\pm 0.008$ & $0.742 \\pm 0.012$\n",
      "\n",
      "quark jet: = 2, L: 3000 fb^-1, pT normalized, phi shifting, fixed angle: 30\n",
      "ACC: 0.643 ± 0.006\n",
      "AUC: 0.684 ± 0.009\n",
      "True ACC and AUC\n",
      "ACC: 0.688 ± 0.007\n",
      "AUC: 0.744 ± 0.008\n",
      "$0.643 \\pm 0.006$ & $0.684 \\pm 0.009$ & $0.688 \\pm 0.007$ & $0.744 \\pm 0.008$\n",
      "\n"
     ]
    }
   ],
   "source": [
    "sample_type = 'quark jet: = 2, L: 3000 fb^-1, pT normalized, phi shifting, fixed angle: 90'\n",
    "print_ACC_AUC(df, sample_type)\n",
    "print()\n",
    "\n",
    "sample_type = 'quark jet: = 2, L: 3000 fb^-1, pT normalized, phi shifting, fixed angle: 60'\n",
    "print_ACC_AUC(df, sample_type)\n",
    "print()\n",
    "\n",
    "sample_type = 'quark jet: = 2, L: 3000 fb^-1, pT normalized, phi shifting, fixed angle: 45'\n",
    "print_ACC_AUC(df, sample_type)\n",
    "print()\n",
    "\n",
    "sample_type = 'quark jet: = 2, L: 3000 fb^-1, pT normalized, phi shifting, fixed angle: 30'\n",
    "print_ACC_AUC(df, sample_type)\n",
    "print()"
   ]
  },
  {
   "cell_type": "markdown",
   "metadata": {},
   "source": [
    "# Supervised CNN: 200k+50k+50k, removed photon information"
   ]
  },
  {
   "cell_type": "code",
   "execution_count": 185,
   "metadata": {},
   "outputs": [],
   "source": [
    "file_name = './GGF_VBF_CWoLa_training_results.csv'\n",
    "df = pd.read_csv(file_name)\n",
    "df = df.query(\"time > '2025-06-27' and time < '2025-06-28'\")"
   ]
  },
  {
   "cell_type": "code",
   "execution_count": 186,
   "metadata": {},
   "outputs": [
    {
     "name": "stdout",
     "output_type": "stream",
     "text": [
      "pure, pT normalized, remove photon: case 1\n",
      "ACC: 0.776 ± 0.001\n",
      "AUC: 0.853 ± 0.001\n",
      "True ACC and AUC\n",
      "ACC: 0.775 ± 0.001\n",
      "AUC: 0.852 ± 0.001\n",
      "$0.776 \\pm 0.001$ & $0.853 \\pm 0.001$ & $0.775 \\pm 0.001$ & $0.852 \\pm 0.001$\n",
      "\n"
     ]
    }
   ],
   "source": [
    "sample_type = 'pure, pT normalized, remove photon: case 1'\n",
    "print_ACC_AUC(df, sample_type)\n",
    "print()"
   ]
  },
  {
   "cell_type": "code",
   "execution_count": 187,
   "metadata": {},
   "outputs": [],
   "source": [
    "file_name = './GGF_VBF_CWoLa_training_results.csv'\n",
    "df = pd.read_csv(file_name)\n",
    "df = df.query(\"time > '2025-06-29' and time < '2025-06-30'\")"
   ]
  },
  {
   "cell_type": "code",
   "execution_count": 188,
   "metadata": {},
   "outputs": [
    {
     "name": "stdout",
     "output_type": "stream",
     "text": [
      "pure, pT normalized, remove product: case 4\n",
      "ACC: 0.838 ± 0.001\n",
      "AUC: 0.917 ± 0.001\n",
      "True ACC and AUC\n",
      "ACC: 0.841 ± 0.001\n",
      "AUC: 0.919 ± 0.001\n",
      "$0.838 \\pm 0.001$ & $0.917 \\pm 0.001$ & $0.841 \\pm 0.001$ & $0.919 \\pm 0.001$\n",
      "\n"
     ]
    }
   ],
   "source": [
    "sample_type = 'pure, pT normalized, remove product: case 4'\n",
    "print_ACC_AUC(df, sample_type)\n",
    "print()"
   ]
  },
  {
   "cell_type": "code",
   "execution_count": 189,
   "metadata": {},
   "outputs": [],
   "source": [
    "file_name = './GGF_VBF_CWoLa_training_results.csv'\n",
    "df = pd.read_csv(file_name)\n",
    "df = df.query(\"time > '2025-06-30' and time < '2025-07-01'\")"
   ]
  },
  {
   "cell_type": "code",
   "execution_count": 190,
   "metadata": {},
   "outputs": [
    {
     "name": "stdout",
     "output_type": "stream",
     "text": [
      "pure, pT normalized, remove product: case 5\n",
      "ACC: 0.789 ± 0.002\n",
      "AUC: 0.869 ± 0.001\n",
      "True ACC and AUC\n",
      "ACC: 0.793 ± 0.001\n",
      "AUC: 0.872 ± 0.001\n",
      "$0.789 \\pm 0.002$ & $0.869 \\pm 0.001$ & $0.793 \\pm 0.001$ & $0.872 \\pm 0.001$\n",
      "\n"
     ]
    }
   ],
   "source": [
    "sample_type = 'pure, pT normalized, remove product: case 5'\n",
    "print_ACC_AUC(df, sample_type)\n",
    "print()"
   ]
  },
  {
   "cell_type": "markdown",
   "metadata": {},
   "source": [
    "# Jet tagging with luminosity 12000 $\\text{fb}^{-1}$"
   ]
  },
  {
   "cell_type": "code",
   "execution_count": 191,
   "metadata": {},
   "outputs": [],
   "source": [
    "file_name = './GGF_VBF_CWoLa_training_results.csv'\n",
    "df = pd.read_csv(file_name)\n",
    "df = df.query(\"time > '2025-07-01' and time < '2025-07-02'\")"
   ]
  },
  {
   "cell_type": "code",
   "execution_count": 192,
   "metadata": {},
   "outputs": [
    {
     "name": "stdout",
     "output_type": "stream",
     "text": [
      "quark jet: = 2, L: 12000 fb^-1, pT normalized\n",
      "ACC: 0.643 ± 0.002\n",
      "AUC: 0.684 ± 0.003\n",
      "True ACC and AUC\n",
      "ACC: 0.689 ± 0.009\n",
      "AUC: 0.743 ± 0.011\n",
      "$0.643 \\pm 0.002$ & $0.684 \\pm 0.003$ & $0.689 \\pm 0.009$ & $0.743 \\pm 0.011$\n",
      "\n"
     ]
    }
   ],
   "source": [
    "sample_type = 'quark jet: = 2, L: 12000 fb^-1, pT normalized'\n",
    "print_ACC_AUC(df, sample_type)\n",
    "print()"
   ]
  },
  {
   "cell_type": "markdown",
   "metadata": {},
   "source": [
    "# Jet tagging with $\\log(p_\\mathrm{T})$"
   ]
  },
  {
   "cell_type": "code",
   "execution_count": 193,
   "metadata": {},
   "outputs": [],
   "source": [
    "file_name = './GGF_VBF_CWoLa_training_results.csv'\n",
    "df = pd.read_csv(file_name)\n",
    "df = df.query(\"time > '2025-07-15' and time < '2025-07-16'\")"
   ]
  },
  {
   "cell_type": "code",
   "execution_count": 194,
   "metadata": {},
   "outputs": [
    {
     "name": "stdout",
     "output_type": "stream",
     "text": [
      "quark jet: = 2, L: 3000 fb^-1, pT normalized, log pT\n",
      "ACC: 0.615 ± 0.006\n",
      "AUC: 0.635 ± 0.009\n",
      "True ACC and AUC\n",
      "ACC: 0.644 ± 0.010\n",
      "AUC: 0.694 ± 0.014\n",
      "$0.615 \\pm 0.006$ & $0.635 \\pm 0.009$ & $0.644 \\pm 0.010$ & $0.694 \\pm 0.014$\n",
      "\n"
     ]
    }
   ],
   "source": [
    "sample_type = 'quark jet: = 2, L: 3000 fb^-1, pT normalized, log pT'\n",
    "print_ACC_AUC(df, sample_type)\n",
    "print()"
   ]
  },
  {
   "cell_type": "markdown",
   "metadata": {},
   "source": [
    "# Jet tagging with event-CNN"
   ]
  },
  {
   "cell_type": "code",
   "execution_count": 195,
   "metadata": {},
   "outputs": [],
   "source": [
    "file_name = './GGF_VBF_CWoLa_training_results.csv'\n",
    "df = pd.read_csv(file_name)\n",
    "df = df.query(\"time > '2025-07-16' and time < '2025-07-17'\")"
   ]
  },
  {
   "cell_type": "code",
   "execution_count": 196,
   "metadata": {},
   "outputs": [
    {
     "name": "stdout",
     "output_type": "stream",
     "text": [
      "quark jet: = 2, L: 3000 fb^-1, pT normalized\n",
      "ACC: 0.624 ± 0.011\n",
      "AUC: 0.644 ± 0.021\n",
      "True ACC and AUC\n",
      "ACC: 0.679 ± 0.009\n",
      "AUC: 0.739 ± 0.012\n",
      "$0.624 \\pm 0.011$ & $0.644 \\pm 0.021$ & $0.679 \\pm 0.009$ & $0.739 \\pm 0.012$\n",
      "\n"
     ]
    }
   ],
   "source": [
    "sample_type = 'quark jet: = 2, L: 3000 fb^-1, pT normalized'\n",
    "print_ACC_AUC(df, sample_type)\n",
    "print()"
   ]
  },
  {
   "cell_type": "code",
   "execution_count": 197,
   "metadata": {},
   "outputs": [
    {
     "name": "stdout",
     "output_type": "stream",
     "text": [
      "pure, pT normalized\n",
      "ACC: 0.794 ± 0.001\n",
      "AUC: 0.873 ± 0.001\n",
      "True ACC and AUC\n",
      "ACC: 0.792 ± 0.001\n",
      "AUC: 0.871 ± 0.001\n",
      "$0.794 \\pm 0.001$ & $0.873 \\pm 0.001$ & $0.792 \\pm 0.001$ & $0.871 \\pm 0.001$\n",
      "\n"
     ]
    }
   ],
   "source": [
    "sample_type = 'pure, pT normalized'\n",
    "print_ACC_AUC(df, sample_type)\n",
    "print()"
   ]
  },
  {
   "cell_type": "code",
   "execution_count": 198,
   "metadata": {},
   "outputs": [],
   "source": [
    "file_name = './GGF_VBF_CWoLa_training_results.csv'\n",
    "df = pd.read_csv(file_name)\n",
    "df = df.query(\"time > '2025-07-19' and time < '2025-07-20'\")"
   ]
  },
  {
   "cell_type": "code",
   "execution_count": 199,
   "metadata": {},
   "outputs": [
    {
     "name": "stdout",
     "output_type": "stream",
     "text": [
      "quark jet: = 2, L: 3000 fb^-1, pT normalized, phi shifting: +5\n",
      "ACC: 0.649 ± 0.004\n",
      "AUC: 0.691 ± 0.005\n",
      "True ACC and AUC\n",
      "ACC: 0.681 ± 0.005\n",
      "AUC: 0.739 ± 0.005\n",
      "$0.649 \\pm 0.004$ & $0.691 \\pm 0.005$ & $0.681 \\pm 0.005$ & $0.739 \\pm 0.005$\n",
      "\n",
      "quark jet: = 2, L: 3000 fb^-1, pT normalized, phi shifting: +10\n",
      "ACC: 0.650 ± 0.004\n",
      "AUC: 0.692 ± 0.004\n",
      "True ACC and AUC\n",
      "ACC: 0.678 ± 0.007\n",
      "AUC: 0.735 ± 0.010\n",
      "$0.650 \\pm 0.004$ & $0.692 \\pm 0.004$ & $0.678 \\pm 0.007$ & $0.735 \\pm 0.010$\n",
      "\n",
      "quark jet: = 2, L: 3000 fb^-1, pT normalized, phi shifting: +15\n",
      "ACC: 0.651 ± 0.004\n",
      "AUC: 0.694 ± 0.005\n",
      "True ACC and AUC\n",
      "ACC: 0.676 ± 0.006\n",
      "AUC: 0.732 ± 0.007\n",
      "$0.651 \\pm 0.004$ & $0.694 \\pm 0.005$ & $0.676 \\pm 0.006$ & $0.732 \\pm 0.007$\n",
      "\n"
     ]
    }
   ],
   "source": [
    "sample_type = 'quark jet: = 2, L: 3000 fb^-1, pT normalized, phi shifting: +5'\n",
    "print_ACC_AUC(df, sample_type)\n",
    "print()\n",
    "\n",
    "sample_type = 'quark jet: = 2, L: 3000 fb^-1, pT normalized, phi shifting: +10'\n",
    "print_ACC_AUC(df, sample_type)\n",
    "print()\n",
    "\n",
    "sample_type = 'quark jet: = 2, L: 3000 fb^-1, pT normalized, phi shifting: +15'\n",
    "print_ACC_AUC(df, sample_type)\n",
    "print()"
   ]
  },
  {
   "cell_type": "markdown",
   "metadata": {},
   "source": [
    "## Remove photon information"
   ]
  },
  {
   "cell_type": "code",
   "execution_count": 200,
   "metadata": {},
   "outputs": [],
   "source": [
    "file_name = './GGF_VBF_CWoLa_training_results.csv'\n",
    "df = pd.read_csv(file_name)\n",
    "df = df.query(\"time > '2025-07-21' and time < '2025-07-22'\")"
   ]
  },
  {
   "cell_type": "code",
   "execution_count": 201,
   "metadata": {},
   "outputs": [
    {
     "name": "stdout",
     "output_type": "stream",
     "text": [
      "quark jet: = 2, L: 3000 fb^-1, pT normalized, remove photon: case 1\n",
      "ACC: 0.637 ± 0.012\n",
      "AUC: 0.667 ± 0.020\n",
      "True ACC and AUC\n",
      "ACC: 0.682 ± 0.004\n",
      "AUC: 0.740 ± 0.005\n",
      "$0.637 \\pm 0.012$ & $0.667 \\pm 0.020$ & $0.682 \\pm 0.004$ & $0.740 \\pm 0.005$\n",
      "\n"
     ]
    }
   ],
   "source": [
    "sample_type = 'quark jet: = 2, L: 3000 fb^-1, pT normalized, remove photon: case 1'\n",
    "print_ACC_AUC(df, sample_type)\n",
    "print()"
   ]
  },
  {
   "cell_type": "markdown",
   "metadata": {},
   "source": [
    "## with luminosity 12000 $\\text{fb}^{-1}$"
   ]
  },
  {
   "cell_type": "code",
   "execution_count": 202,
   "metadata": {},
   "outputs": [],
   "source": [
    "file_name = './GGF_VBF_CWoLa_training_results.csv'\n",
    "df = pd.read_csv(file_name)\n",
    "df = df.query(\"time > '2025-07-21' and time < '2025-07-22'\")"
   ]
  },
  {
   "cell_type": "code",
   "execution_count": 203,
   "metadata": {},
   "outputs": [
    {
     "name": "stdout",
     "output_type": "stream",
     "text": [
      "quark jet: = 2, L: 12000 fb^-1, pT normalized\n",
      "ACC: 0.655 ± 0.002\n",
      "AUC: 0.701 ± 0.003\n",
      "True ACC and AUC\n",
      "ACC: 0.683 ± 0.004\n",
      "AUC: 0.742 ± 0.005\n",
      "$0.655 \\pm 0.002$ & $0.701 \\pm 0.003$ & $0.683 \\pm 0.004$ & $0.742 \\pm 0.005$\n",
      "\n"
     ]
    }
   ],
   "source": [
    "sample_type = 'quark jet: = 2, L: 12000 fb^-1, pT normalized'\n",
    "print_ACC_AUC(df, sample_type)\n",
    "print()"
   ]
  },
  {
   "cell_type": "markdown",
   "metadata": {},
   "source": [
    "## with various luminosity 300, 1800 $\\text{fb}^{-1}$"
   ]
  },
  {
   "cell_type": "code",
   "execution_count": 204,
   "metadata": {},
   "outputs": [],
   "source": [
    "file_name = './GGF_VBF_CWoLa_training_results.csv'\n",
    "df = pd.read_csv(file_name)\n",
    "df = df.query(\"time > '2025-07-30' and time < '2025-07-31'\")"
   ]
  },
  {
   "cell_type": "code",
   "execution_count": 205,
   "metadata": {},
   "outputs": [
    {
     "name": "stdout",
     "output_type": "stream",
     "text": [
      "quark jet: = 2, L: 300 fb^-1, pT normalized\n",
      "ACC: 0.610 ± 0.015\n",
      "AUC: 0.589 ± 0.036\n",
      "True ACC and AUC\n",
      "ACC: 0.606 ± 0.033\n",
      "AUC: 0.641 ± 0.045\n",
      "$0.610 \\pm 0.015$ & $0.589 \\pm 0.036$ & $0.606 \\pm 0.033$ & $0.641 \\pm 0.045$\n",
      "\n"
     ]
    }
   ],
   "source": [
    "sample_type = 'quark jet: = 2, L: 300 fb^-1, pT normalized'\n",
    "print_ACC_AUC(df, sample_type)\n",
    "print()"
   ]
  },
  {
   "cell_type": "code",
   "execution_count": 206,
   "metadata": {},
   "outputs": [
    {
     "name": "stdout",
     "output_type": "stream",
     "text": [
      "quark jet: = 2, L: 1800 fb^-1, pT normalized\n",
      "ACC: 0.625 ± 0.010\n",
      "AUC: 0.644 ± 0.019\n",
      "True ACC and AUC\n",
      "ACC: 0.674 ± 0.009\n",
      "AUC: 0.732 ± 0.012\n",
      "$0.625 \\pm 0.010$ & $0.644 \\pm 0.019$ & $0.674 \\pm 0.009$ & $0.732 \\pm 0.012$\n",
      "\n"
     ]
    }
   ],
   "source": [
    "sample_type = 'quark jet: = 2, L: 1800 fb^-1, pT normalized'\n",
    "print_ACC_AUC(df, sample_type)\n",
    "print()"
   ]
  }
 ],
 "metadata": {
  "kernelspec": {
   "display_name": "jupyter",
   "language": "python",
   "name": "python3"
  },
  "language_info": {
   "codemirror_mode": {
    "name": "ipython",
    "version": 3
   },
   "file_extension": ".py",
   "mimetype": "text/x-python",
   "name": "python",
   "nbconvert_exporter": "python",
   "pygments_lexer": "ipython3",
   "version": "3.8.16"
  }
 },
 "nbformat": 4,
 "nbformat_minor": 2
}
