{
 "cells": [
  {
   "cell_type": "code",
   "execution_count": 1,
   "metadata": {},
   "outputs": [],
   "source": [
    "import pandas as pd"
   ]
  },
  {
   "cell_type": "code",
   "execution_count": 2,
   "metadata": {},
   "outputs": [],
   "source": [
    "def print_ACC_AUC(df, sample_type):\n",
    "    ACC = df[df['Sample Type'] == sample_type]['ACC']\n",
    "    AUC = df[df['Sample Type'] == sample_type]['AUC']\n",
    "\n",
    "    print(sample_type)\n",
    "    print(f'ACC: {ACC.mean():.3f} ± {ACC.std():.3f}')\n",
    "    print(f'AUC: {AUC.mean():.3f} ± {AUC.std():.3f}')\n",
    "    print(f'${ACC.mean():.3f} \\pm {ACC.std():.3f}$ & ${AUC.mean():.3f} \\pm {AUC.std():.3f}$')\n",
    "\n",
    "    ACC = df[df['Sample Type'] == sample_type]['ACC-true']\n",
    "    AUC = df[df['Sample Type'] == sample_type]['AUC-true']\n",
    "\n",
    "    print('True ACC and AUC')\n",
    "    print(f'ACC: {ACC.mean():.3f} ± {ACC.std():.3f}')\n",
    "    print(f'AUC: {AUC.mean():.3f} ± {AUC.std():.3f}')\n",
    "    print(f'${ACC.mean():.3f} \\pm {ACC.std():.3f}$ & ${AUC.mean():.3f} \\pm {AUC.std():.3f}$')"
   ]
  },
  {
   "cell_type": "markdown",
   "metadata": {},
   "source": [
    "# Luminosity 300 $\\text{fb}^{-1}$"
   ]
  },
  {
   "cell_type": "code",
   "execution_count": 3,
   "metadata": {},
   "outputs": [],
   "source": [
    "file_name = './GGF_VBF_CWoLa_training_results.csv'\n",
    "df = pd.read_csv(file_name)\n",
    "df = df.query(\"time > '2025-03-08' and time < '2025-03-09'\")"
   ]
  },
  {
   "cell_type": "code",
   "execution_count": 4,
   "metadata": {},
   "outputs": [
    {
     "name": "stdout",
     "output_type": "stream",
     "text": [
      "mjj: 300 GeV\n",
      "ACC: 0.712 ± 0.023\n",
      "AUC: 0.741 ± 0.041\n",
      "$0.712 \\pm 0.023$ & $0.741 \\pm 0.041$\n",
      "True ACC and AUC\n",
      "ACC: 0.576 ± 0.010\n",
      "AUC: 0.596 ± 0.014\n",
      "$0.576 \\pm 0.010$ & $0.596 \\pm 0.014$\n"
     ]
    }
   ],
   "source": [
    "sample_type = 'mjj: 300 GeV'\n",
    "print_ACC_AUC(df, sample_type)"
   ]
  },
  {
   "cell_type": "code",
   "execution_count": 5,
   "metadata": {},
   "outputs": [
    {
     "name": "stdout",
     "output_type": "stream",
     "text": [
      "deta: 3.1\n",
      "ACC: 0.828 ± 0.043\n",
      "AUC: 0.889 ± 0.050\n",
      "$0.828 \\pm 0.043$ & $0.889 \\pm 0.050$\n",
      "True ACC and AUC\n",
      "ACC: 0.604 ± 0.014\n",
      "AUC: 0.630 ± 0.015\n",
      "$0.604 \\pm 0.014$ & $0.630 \\pm 0.015$\n"
     ]
    }
   ],
   "source": [
    "sample_type = 'deta: 3.1'\n",
    "print_ACC_AUC(df, sample_type)"
   ]
  },
  {
   "cell_type": "code",
   "execution_count": 6,
   "metadata": {},
   "outputs": [
    {
     "name": "stdout",
     "output_type": "stream",
     "text": [
      "mjj: 300 GeV, deta: 3.1\n",
      "ACC: 0.753 ± 0.022\n",
      "AUC: 0.792 ± 0.035\n",
      "$0.753 \\pm 0.022$ & $0.792 \\pm 0.035$\n",
      "True ACC and AUC\n",
      "ACC: 0.573 ± 0.007\n",
      "AUC: 0.596 ± 0.008\n",
      "$0.573 \\pm 0.007$ & $0.596 \\pm 0.008$\n"
     ]
    }
   ],
   "source": [
    "sample_type = 'mjj: 300 GeV, deta: 3.1'\n",
    "print_ACC_AUC(df, sample_type)"
   ]
  },
  {
   "cell_type": "markdown",
   "metadata": {},
   "source": [
    "# Luminosity 3000 $\\text{fb}^{-1}$"
   ]
  },
  {
   "cell_type": "code",
   "execution_count": 7,
   "metadata": {},
   "outputs": [],
   "source": [
    "file_name = './GGF_VBF_CWoLa_training_results.csv'\n",
    "df = pd.read_csv(file_name)\n",
    "df = df.query(\"time > '2025-03-08' and time < '2025-03-09'\")"
   ]
  },
  {
   "cell_type": "code",
   "execution_count": 8,
   "metadata": {},
   "outputs": [
    {
     "name": "stdout",
     "output_type": "stream",
     "text": [
      "mjj: 300 GeV, L: 3000 fb^-1\n",
      "ACC: 0.907 ± 0.002\n",
      "AUC: 0.969 ± 0.002\n",
      "$0.907 \\pm 0.002$ & $0.969 \\pm 0.002$\n",
      "True ACC and AUC\n",
      "ACC: 0.598 ± 0.008\n",
      "AUC: 0.625 ± 0.009\n",
      "$0.598 \\pm 0.008$ & $0.625 \\pm 0.009$\n"
     ]
    }
   ],
   "source": [
    "sample_type = 'mjj: 300 GeV, L: 3000 fb^-1'\n",
    "print_ACC_AUC(df, sample_type)"
   ]
  },
  {
   "cell_type": "code",
   "execution_count": 9,
   "metadata": {},
   "outputs": [
    {
     "name": "stdout",
     "output_type": "stream",
     "text": [
      "deta: 3.1, L: 3000 fb^-1\n",
      "ACC: 0.931 ± 0.004\n",
      "AUC: 0.979 ± 0.002\n",
      "$0.931 \\pm 0.004$ & $0.979 \\pm 0.002$\n",
      "True ACC and AUC\n",
      "ACC: 0.615 ± 0.005\n",
      "AUC: 0.648 ± 0.006\n",
      "$0.615 \\pm 0.005$ & $0.648 \\pm 0.006$\n"
     ]
    }
   ],
   "source": [
    "sample_type = 'deta: 3.1, L: 3000 fb^-1'\n",
    "print_ACC_AUC(df, sample_type)"
   ]
  },
  {
   "cell_type": "code",
   "execution_count": 10,
   "metadata": {},
   "outputs": [
    {
     "name": "stdout",
     "output_type": "stream",
     "text": [
      "mjj: 300 GeV, deta: 3.1, L: 3000 fb^-1\n",
      "ACC: 0.929 ± 0.003\n",
      "AUC: 0.978 ± 0.002\n",
      "$0.929 \\pm 0.003$ & $0.978 \\pm 0.002$\n",
      "True ACC and AUC\n",
      "ACC: 0.608 ± 0.004\n",
      "AUC: 0.638 ± 0.005\n",
      "$0.608 \\pm 0.004$ & $0.638 \\pm 0.005$\n"
     ]
    }
   ],
   "source": [
    "sample_type = 'mjj: 300 GeV, deta: 3.1, L: 3000 fb^-1'\n",
    "print_ACC_AUC(df, sample_type)"
   ]
  },
  {
   "cell_type": "markdown",
   "metadata": {},
   "source": [
    "# Luminosity 3000 $\\text{fb}^{-1}$ with $p_{\\text{T}}$ normalization"
   ]
  },
  {
   "cell_type": "code",
   "execution_count": 11,
   "metadata": {},
   "outputs": [],
   "source": [
    "file_name = './GGF_VBF_CWoLa_training_results.csv'\n",
    "df = pd.read_csv(file_name)\n",
    "df = df.query(\"time > '2025-03-16' and time < '2025-03-17'\")"
   ]
  },
  {
   "cell_type": "code",
   "execution_count": 12,
   "metadata": {},
   "outputs": [
    {
     "name": "stdout",
     "output_type": "stream",
     "text": [
      "mjj: 300 GeV, L: 3000 fb^-1, pT normalized\n",
      "ACC: 0.874 ± 0.004\n",
      "AUC: 0.946 ± 0.003\n",
      "$0.874 \\pm 0.004$ & $0.946 \\pm 0.003$\n",
      "True ACC and AUC\n",
      "ACC: 0.624 ± 0.005\n",
      "AUC: 0.663 ± 0.006\n",
      "$0.624 \\pm 0.005$ & $0.663 \\pm 0.006$\n"
     ]
    }
   ],
   "source": [
    "sample_type = 'mjj: 300 GeV, L: 3000 fb^-1, pT normalized'\n",
    "print_ACC_AUC(df, sample_type)"
   ]
  },
  {
   "cell_type": "code",
   "execution_count": 13,
   "metadata": {},
   "outputs": [
    {
     "name": "stdout",
     "output_type": "stream",
     "text": [
      "deta: 3.1, L: 3000 fb^-1, pT normalized\n",
      "ACC: 0.928 ± 0.005\n",
      "AUC: 0.979 ± 0.002\n",
      "$0.928 \\pm 0.005$ & $0.979 \\pm 0.002$\n",
      "True ACC and AUC\n",
      "ACC: 0.597 ± 0.005\n",
      "AUC: 0.630 ± 0.006\n",
      "$0.597 \\pm 0.005$ & $0.630 \\pm 0.006$\n"
     ]
    }
   ],
   "source": [
    "sample_type = 'deta: 3.1, L: 3000 fb^-1, pT normalized'\n",
    "print_ACC_AUC(df, sample_type)"
   ]
  },
  {
   "cell_type": "code",
   "execution_count": 14,
   "metadata": {},
   "outputs": [
    {
     "name": "stdout",
     "output_type": "stream",
     "text": [
      "mjj: 300 GeV, deta: 3.1, L: 3000 fb^-1, pT normalized\n",
      "ACC: 0.917 ± 0.003\n",
      "AUC: 0.973 ± 0.002\n",
      "$0.917 \\pm 0.003$ & $0.973 \\pm 0.002$\n",
      "True ACC and AUC\n",
      "ACC: 0.603 ± 0.004\n",
      "AUC: 0.636 ± 0.006\n",
      "$0.603 \\pm 0.004$ & $0.636 \\pm 0.006$\n"
     ]
    }
   ],
   "source": [
    "sample_type = 'mjj: 300 GeV, deta: 3.1, L: 3000 fb^-1, pT normalized'\n",
    "print_ACC_AUC(df, sample_type)"
   ]
  },
  {
   "cell_type": "markdown",
   "metadata": {},
   "source": [
    "# Luminosity 3000 $\\text{fb}^{-1}$ with $p_{\\text{T}}$ normalization, $m_{jj}$: 225 GeV, $\\Delta\\eta$: 2.3"
   ]
  },
  {
   "cell_type": "code",
   "execution_count": 15,
   "metadata": {},
   "outputs": [],
   "source": [
    "file_name = './GGF_VBF_CWoLa_training_results.csv'\n",
    "df = pd.read_csv(file_name)\n",
    "df = df.query(\"time > '2025-03-24' and time < '2025-03-25'\")"
   ]
  },
  {
   "cell_type": "code",
   "execution_count": 16,
   "metadata": {},
   "outputs": [
    {
     "name": "stdout",
     "output_type": "stream",
     "text": [
      "mjj: 225 GeV, L: 3000 fb^-1, pT normalized\n",
      "ACC: 0.863 ± 0.004\n",
      "AUC: 0.940 ± 0.002\n",
      "$0.863 \\pm 0.004$ & $0.940 \\pm 0.002$\n",
      "True ACC and AUC\n",
      "ACC: 0.716 ± 0.003\n",
      "AUC: 0.780 ± 0.004\n",
      "$0.716 \\pm 0.003$ & $0.780 \\pm 0.004$\n",
      "\n",
      "deta: 2.3, L: 3000 fb^-1, pT normalized\n",
      "ACC: 0.914 ± 0.004\n",
      "AUC: 0.972 ± 0.003\n",
      "$0.914 \\pm 0.004$ & $0.972 \\pm 0.003$\n",
      "True ACC and AUC\n",
      "ACC: 0.702 ± 0.003\n",
      "AUC: 0.754 ± 0.003\n",
      "$0.702 \\pm 0.003$ & $0.754 \\pm 0.003$\n",
      "\n",
      "mjj: 225 GeV, deta: 2.3, L: 3000 fb^-1, pT normalized\n",
      "ACC: 0.896 ± 0.006\n",
      "AUC: 0.962 ± 0.004\n",
      "$0.896 \\pm 0.006$ & $0.962 \\pm 0.004$\n",
      "True ACC and AUC\n",
      "ACC: 0.723 ± 0.003\n",
      "AUC: 0.780 ± 0.002\n",
      "$0.723 \\pm 0.003$ & $0.780 \\pm 0.002$\n"
     ]
    }
   ],
   "source": [
    "sample_type = 'mjj: 225 GeV, L: 3000 fb^-1, pT normalized'\n",
    "print_ACC_AUC(df, sample_type)\n",
    "print()\n",
    "\n",
    "sample_type = 'deta: 2.3, L: 3000 fb^-1, pT normalized'\n",
    "print_ACC_AUC(df, sample_type)\n",
    "print()\n",
    "\n",
    "sample_type = 'mjj: 225 GeV, deta: 2.3, L: 3000 fb^-1, pT normalized'\n",
    "print_ACC_AUC(df, sample_type)"
   ]
  },
  {
   "cell_type": "markdown",
   "metadata": {},
   "source": [
    "# Supervised CNN: 200k+50k+50k"
   ]
  },
  {
   "cell_type": "code",
   "execution_count": 17,
   "metadata": {},
   "outputs": [],
   "source": [
    "file_name = './GGF_VBF_CWoLa_training_results.csv'\n",
    "df = pd.read_csv(file_name)\n",
    "df = df.query(\"time > '2025-03-21' and time < '2025-03-22'\")"
   ]
  },
  {
   "cell_type": "code",
   "execution_count": 18,
   "metadata": {},
   "outputs": [
    {
     "name": "stdout",
     "output_type": "stream",
     "text": [
      "pure, pT normalized\n",
      "ACC: 0.785 ± 0.001\n",
      "AUC: 0.863 ± 0.001\n",
      "$0.785 \\pm 0.001$ & $0.863 \\pm 0.001$\n",
      "True ACC and AUC\n",
      "ACC: 0.784 ± 0.001\n",
      "AUC: 0.861 ± 0.001\n",
      "$0.784 \\pm 0.001$ & $0.861 \\pm 0.001$\n",
      "\n"
     ]
    }
   ],
   "source": [
    "sample_type = 'pure, pT normalized'\n",
    "print_ACC_AUC(df, sample_type)\n",
    "print()"
   ]
  },
  {
   "cell_type": "markdown",
   "metadata": {},
   "source": [
    "# Gluon jet"
   ]
  },
  {
   "cell_type": "code",
   "execution_count": 19,
   "metadata": {},
   "outputs": [],
   "source": [
    "file_name = './GGF_VBF_CWoLa_training_results.csv'\n",
    "df = pd.read_csv(file_name)\n",
    "df = df.query(\"time > '2025-03-30' and time < '2025-03-31'\")"
   ]
  },
  {
   "cell_type": "code",
   "execution_count": 20,
   "metadata": {},
   "outputs": [
    {
     "name": "stdout",
     "output_type": "stream",
     "text": [
      "gluon jet: = 2, L: 3000 fb^-1, pT normalized\n",
      "ACC: 0.934 ± 0.000\n",
      "AUC: 0.689 ± 0.012\n",
      "$0.934 \\pm 0.000$ & $0.689 \\pm 0.012$\n",
      "True ACC and AUC\n",
      "ACC: 0.662 ± 0.006\n",
      "AUC: 0.719 ± 0.008\n",
      "$0.662 \\pm 0.006$ & $0.719 \\pm 0.008$\n",
      "\n",
      "gluon jet: >= 1, L: 3000 fb^-1, pT normalized\n",
      "ACC: 0.623 ± 0.005\n",
      "AUC: 0.642 ± 0.005\n",
      "$0.623 \\pm 0.005$ & $0.642 \\pm 0.005$\n",
      "True ACC and AUC\n",
      "ACC: 0.653 ± 0.008\n",
      "AUC: 0.706 ± 0.009\n",
      "$0.653 \\pm 0.008$ & $0.706 \\pm 0.009$\n",
      "\n"
     ]
    }
   ],
   "source": [
    "sample_type = 'gluon jet: = 2, L: 3000 fb^-1, pT normalized'\n",
    "print_ACC_AUC(df, sample_type)\n",
    "print()\n",
    "\n",
    "sample_type = 'gluon jet: >= 1, L: 3000 fb^-1, pT normalized'\n",
    "print_ACC_AUC(df, sample_type)\n",
    "print()"
   ]
  },
  {
   "cell_type": "markdown",
   "metadata": {},
   "source": [
    "# 2 quark & 2 gluon jet"
   ]
  },
  {
   "cell_type": "code",
   "execution_count": 21,
   "metadata": {},
   "outputs": [],
   "source": [
    "file_name = './GGF_VBF_CWoLa_training_results.csv'\n",
    "df = pd.read_csv(file_name)\n",
    "df = df.query(\"time > '2025-03-31' and time < '2025-04-01'\")"
   ]
  },
  {
   "cell_type": "code",
   "execution_count": 22,
   "metadata": {},
   "outputs": [
    {
     "name": "stdout",
     "output_type": "stream",
     "text": [
      "quark jet: 2, gluon jet: 2, L: 3000 fb^-1, pT normalized\n",
      "ACC: 0.900 ± 0.000\n",
      "AUC: 0.740 ± 0.010\n",
      "$0.900 \\pm 0.000$ & $0.740 \\pm 0.010$\n",
      "True ACC and AUC\n",
      "ACC: 0.655 ± 0.008\n",
      "AUC: 0.710 ± 0.009\n",
      "$0.655 \\pm 0.008$ & $0.710 \\pm 0.009$\n",
      "\n"
     ]
    }
   ],
   "source": [
    "sample_type = 'quark jet: 2, gluon jet: 2, L: 3000 fb^-1, pT normalized'\n",
    "print_ACC_AUC(df, sample_type)\n",
    "print()"
   ]
  },
  {
   "cell_type": "markdown",
   "metadata": {},
   "source": [
    "# Jet tagging without $p_\\text{T}$ normalization"
   ]
  },
  {
   "cell_type": "code",
   "execution_count": 23,
   "metadata": {},
   "outputs": [],
   "source": [
    "file_name = './GGF_VBF_CWoLa_training_results.csv'\n",
    "df = pd.read_csv(file_name)\n",
    "df = df.query(\"time > '2025-04-07' and time < '2025-04-08'\")"
   ]
  },
  {
   "cell_type": "code",
   "execution_count": 24,
   "metadata": {},
   "outputs": [
    {
     "name": "stdout",
     "output_type": "stream",
     "text": [
      "gluon jet: = 2, L: 3000 fb^-1\n",
      "ACC: 0.934 ± 0.000\n",
      "AUC: 0.695 ± 0.015\n",
      "$0.934 \\pm 0.000$ & $0.695 \\pm 0.015$\n",
      "True ACC and AUC\n",
      "ACC: 0.643 ± 0.009\n",
      "AUC: 0.689 ± 0.011\n",
      "$0.643 \\pm 0.009$ & $0.689 \\pm 0.011$\n",
      "\n",
      "gluon jet: >= 1, L: 3000 fb^-1\n",
      "ACC: 0.615 ± 0.004\n",
      "AUC: 0.634 ± 0.006\n",
      "$0.615 \\pm 0.004$ & $0.634 \\pm 0.006$\n",
      "True ACC and AUC\n",
      "ACC: 0.646 ± 0.008\n",
      "AUC: 0.690 ± 0.011\n",
      "$0.646 \\pm 0.008$ & $0.690 \\pm 0.011$\n",
      "\n",
      "quark jet: 2, gluon jet: 2, L: 3000 fb^-1\n",
      "ACC: 0.900 ± 0.000\n",
      "AUC: 0.743 ± 0.011\n",
      "$0.900 \\pm 0.000$ & $0.743 \\pm 0.011$\n",
      "True ACC and AUC\n",
      "ACC: 0.632 ± 0.007\n",
      "AUC: 0.677 ± 0.008\n",
      "$0.632 \\pm 0.007$ & $0.677 \\pm 0.008$\n",
      "\n"
     ]
    }
   ],
   "source": [
    "sample_type = 'gluon jet: = 2, L: 3000 fb^-1'\n",
    "print_ACC_AUC(df, sample_type)\n",
    "print()\n",
    "\n",
    "sample_type = 'gluon jet: >= 1, L: 3000 fb^-1'\n",
    "print_ACC_AUC(df, sample_type)\n",
    "print()\n",
    "\n",
    "sample_type = 'quark jet: 2, gluon jet: 2, L: 3000 fb^-1'\n",
    "print_ACC_AUC(df, sample_type)\n",
    "print()"
   ]
  }
 ],
 "metadata": {
  "kernelspec": {
   "display_name": "jupyter",
   "language": "python",
   "name": "python3"
  },
  "language_info": {
   "codemirror_mode": {
    "name": "ipython",
    "version": 3
   },
   "file_extension": ".py",
   "mimetype": "text/x-python",
   "name": "python",
   "nbconvert_exporter": "python",
   "pygments_lexer": "ipython3",
   "version": "3.8.16"
  }
 },
 "nbformat": 4,
 "nbformat_minor": 2
}
