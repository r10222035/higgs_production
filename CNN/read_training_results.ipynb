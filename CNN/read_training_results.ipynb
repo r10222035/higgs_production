{
 "cells": [
  {
   "cell_type": "code",
   "execution_count": 1,
   "metadata": {},
   "outputs": [],
   "source": [
    "import pandas as pd\n",
    "import matplotlib.pyplot as plt"
   ]
  },
  {
   "cell_type": "code",
   "execution_count": 2,
   "metadata": {},
   "outputs": [],
   "source": [
    "def print_ACC_AUC(df, sample_type):\n",
    "    latex_txt = ''\n",
    "    ACC = df[df['Sample Type'] == sample_type]['ACC']\n",
    "    AUC = df[df['Sample Type'] == sample_type]['AUC']\n",
    "\n",
    "    print(sample_type)\n",
    "    print(f'ACC: {ACC.mean():.3f} ± {ACC.std():.3f}')\n",
    "    print(f'AUC: {AUC.mean():.3f} ± {AUC.std():.3f}')\n",
    "    # print(f'${ACC.mean():.3f} \\pm {ACC.std():.3f}$ & ${AUC.mean():.3f} \\pm {AUC.std():.3f}$')\n",
    "    latex_txt += f'${ACC.mean():.3f} \\pm {ACC.std():.3f}$ & ${AUC.mean():.3f} \\pm {AUC.std():.3f}$'\n",
    "    ACC = df[df['Sample Type'] == sample_type]['ACC-true']\n",
    "    AUC = df[df['Sample Type'] == sample_type]['AUC-true']\n",
    "\n",
    "    print('True ACC and AUC')\n",
    "    print(f'ACC: {ACC.mean():.3f} ± {ACC.std():.3f}')\n",
    "    print(f'AUC: {AUC.mean():.3f} ± {AUC.std():.3f}')\n",
    "    # print(f'${ACC.mean():.3f} \\pm {ACC.std():.3f}$ & ${AUC.mean():.3f} \\pm {AUC.std():.3f}$')\n",
    "    latex_txt += f' & ${ACC.mean():.3f} \\pm {ACC.std():.3f}$ & ${AUC.mean():.3f} \\pm {AUC.std():.3f}$'\n",
    "    print(latex_txt)"
   ]
  },
  {
   "cell_type": "markdown",
   "metadata": {},
   "source": [
    "# Luminosity 300 $\\text{fb}^{-1}$"
   ]
  },
  {
   "cell_type": "code",
   "execution_count": 3,
   "metadata": {},
   "outputs": [],
   "source": [
    "file_name = './GGF_VBF_CWoLa_training_results.csv'\n",
    "df = pd.read_csv(file_name)\n",
    "df = df.query(\"time > '2025-03-08' and time < '2025-03-09'\")"
   ]
  },
  {
   "cell_type": "code",
   "execution_count": 4,
   "metadata": {},
   "outputs": [
    {
     "name": "stdout",
     "output_type": "stream",
     "text": [
      "mjj: 300 GeV\n",
      "ACC: 0.712 ± 0.023\n",
      "AUC: 0.741 ± 0.041\n",
      "True ACC and AUC\n",
      "ACC: 0.576 ± 0.010\n",
      "AUC: 0.596 ± 0.014\n",
      "$0.712 \\pm 0.023$ & $0.741 \\pm 0.041$ & $0.576 \\pm 0.010$ & $0.596 \\pm 0.014$\n"
     ]
    }
   ],
   "source": [
    "sample_type = 'mjj: 300 GeV'\n",
    "print_ACC_AUC(df, sample_type)"
   ]
  },
  {
   "cell_type": "code",
   "execution_count": 5,
   "metadata": {},
   "outputs": [
    {
     "name": "stdout",
     "output_type": "stream",
     "text": [
      "deta: 3.1\n",
      "ACC: 0.828 ± 0.043\n",
      "AUC: 0.889 ± 0.050\n",
      "True ACC and AUC\n",
      "ACC: 0.604 ± 0.014\n",
      "AUC: 0.630 ± 0.015\n",
      "$0.828 \\pm 0.043$ & $0.889 \\pm 0.050$ & $0.604 \\pm 0.014$ & $0.630 \\pm 0.015$\n"
     ]
    }
   ],
   "source": [
    "sample_type = 'deta: 3.1'\n",
    "print_ACC_AUC(df, sample_type)"
   ]
  },
  {
   "cell_type": "code",
   "execution_count": 6,
   "metadata": {},
   "outputs": [
    {
     "name": "stdout",
     "output_type": "stream",
     "text": [
      "mjj: 300 GeV, deta: 3.1\n",
      "ACC: 0.753 ± 0.022\n",
      "AUC: 0.792 ± 0.035\n",
      "True ACC and AUC\n",
      "ACC: 0.573 ± 0.007\n",
      "AUC: 0.596 ± 0.008\n",
      "$0.753 \\pm 0.022$ & $0.792 \\pm 0.035$ & $0.573 \\pm 0.007$ & $0.596 \\pm 0.008$\n"
     ]
    }
   ],
   "source": [
    "sample_type = 'mjj: 300 GeV, deta: 3.1'\n",
    "print_ACC_AUC(df, sample_type)"
   ]
  },
  {
   "cell_type": "markdown",
   "metadata": {},
   "source": [
    "# Luminosity 3000 $\\text{fb}^{-1}$"
   ]
  },
  {
   "cell_type": "code",
   "execution_count": 7,
   "metadata": {},
   "outputs": [],
   "source": [
    "file_name = './GGF_VBF_CWoLa_training_results.csv'\n",
    "df = pd.read_csv(file_name)\n",
    "df = df.query(\"time > '2025-03-08' and time < '2025-03-09'\")"
   ]
  },
  {
   "cell_type": "code",
   "execution_count": 8,
   "metadata": {},
   "outputs": [
    {
     "name": "stdout",
     "output_type": "stream",
     "text": [
      "mjj: 300 GeV, L: 3000 fb^-1\n",
      "ACC: 0.907 ± 0.002\n",
      "AUC: 0.969 ± 0.002\n",
      "True ACC and AUC\n",
      "ACC: 0.598 ± 0.008\n",
      "AUC: 0.625 ± 0.009\n",
      "$0.907 \\pm 0.002$ & $0.969 \\pm 0.002$ & $0.598 \\pm 0.008$ & $0.625 \\pm 0.009$\n"
     ]
    }
   ],
   "source": [
    "sample_type = 'mjj: 300 GeV, L: 3000 fb^-1'\n",
    "print_ACC_AUC(df, sample_type)"
   ]
  },
  {
   "cell_type": "code",
   "execution_count": 9,
   "metadata": {},
   "outputs": [
    {
     "name": "stdout",
     "output_type": "stream",
     "text": [
      "deta: 3.1, L: 3000 fb^-1\n",
      "ACC: 0.931 ± 0.004\n",
      "AUC: 0.979 ± 0.002\n",
      "True ACC and AUC\n",
      "ACC: 0.615 ± 0.005\n",
      "AUC: 0.648 ± 0.006\n",
      "$0.931 \\pm 0.004$ & $0.979 \\pm 0.002$ & $0.615 \\pm 0.005$ & $0.648 \\pm 0.006$\n"
     ]
    }
   ],
   "source": [
    "sample_type = 'deta: 3.1, L: 3000 fb^-1'\n",
    "print_ACC_AUC(df, sample_type)"
   ]
  },
  {
   "cell_type": "code",
   "execution_count": 10,
   "metadata": {},
   "outputs": [
    {
     "name": "stdout",
     "output_type": "stream",
     "text": [
      "mjj: 300 GeV, deta: 3.1, L: 3000 fb^-1\n",
      "ACC: 0.929 ± 0.003\n",
      "AUC: 0.978 ± 0.002\n",
      "True ACC and AUC\n",
      "ACC: 0.608 ± 0.004\n",
      "AUC: 0.638 ± 0.005\n",
      "$0.929 \\pm 0.003$ & $0.978 \\pm 0.002$ & $0.608 \\pm 0.004$ & $0.638 \\pm 0.005$\n"
     ]
    }
   ],
   "source": [
    "sample_type = 'mjj: 300 GeV, deta: 3.1, L: 3000 fb^-1'\n",
    "print_ACC_AUC(df, sample_type)"
   ]
  },
  {
   "cell_type": "markdown",
   "metadata": {},
   "source": [
    "# Luminosity 3000 $\\text{fb}^{-1}$ with $p_{\\text{T}}$ normalization"
   ]
  },
  {
   "cell_type": "code",
   "execution_count": 11,
   "metadata": {},
   "outputs": [],
   "source": [
    "file_name = './GGF_VBF_CWoLa_training_results.csv'\n",
    "df = pd.read_csv(file_name)\n",
    "df = df.query(\"time > '2025-03-16' and time < '2025-03-17'\")"
   ]
  },
  {
   "cell_type": "code",
   "execution_count": 12,
   "metadata": {},
   "outputs": [
    {
     "name": "stdout",
     "output_type": "stream",
     "text": [
      "mjj: 300 GeV, L: 3000 fb^-1, pT normalized\n",
      "ACC: 0.874 ± 0.004\n",
      "AUC: 0.946 ± 0.003\n",
      "True ACC and AUC\n",
      "ACC: 0.624 ± 0.005\n",
      "AUC: 0.663 ± 0.006\n",
      "$0.874 \\pm 0.004$ & $0.946 \\pm 0.003$ & $0.624 \\pm 0.005$ & $0.663 \\pm 0.006$\n"
     ]
    }
   ],
   "source": [
    "sample_type = 'mjj: 300 GeV, L: 3000 fb^-1, pT normalized'\n",
    "print_ACC_AUC(df, sample_type)"
   ]
  },
  {
   "cell_type": "code",
   "execution_count": 13,
   "metadata": {},
   "outputs": [
    {
     "name": "stdout",
     "output_type": "stream",
     "text": [
      "deta: 3.1, L: 3000 fb^-1, pT normalized\n",
      "ACC: 0.928 ± 0.005\n",
      "AUC: 0.979 ± 0.002\n",
      "True ACC and AUC\n",
      "ACC: 0.597 ± 0.005\n",
      "AUC: 0.630 ± 0.006\n",
      "$0.928 \\pm 0.005$ & $0.979 \\pm 0.002$ & $0.597 \\pm 0.005$ & $0.630 \\pm 0.006$\n"
     ]
    }
   ],
   "source": [
    "sample_type = 'deta: 3.1, L: 3000 fb^-1, pT normalized'\n",
    "print_ACC_AUC(df, sample_type)"
   ]
  },
  {
   "cell_type": "code",
   "execution_count": 14,
   "metadata": {},
   "outputs": [
    {
     "name": "stdout",
     "output_type": "stream",
     "text": [
      "mjj: 300 GeV, deta: 3.1, L: 3000 fb^-1, pT normalized\n",
      "ACC: 0.917 ± 0.003\n",
      "AUC: 0.973 ± 0.002\n",
      "True ACC and AUC\n",
      "ACC: 0.603 ± 0.004\n",
      "AUC: 0.636 ± 0.006\n",
      "$0.917 \\pm 0.003$ & $0.973 \\pm 0.002$ & $0.603 \\pm 0.004$ & $0.636 \\pm 0.006$\n"
     ]
    }
   ],
   "source": [
    "sample_type = 'mjj: 300 GeV, deta: 3.1, L: 3000 fb^-1, pT normalized'\n",
    "print_ACC_AUC(df, sample_type)"
   ]
  },
  {
   "cell_type": "markdown",
   "metadata": {},
   "source": [
    "# Luminosity 3000 $\\text{fb}^{-1}$ with $p_{\\text{T}}$ normalization, $m_{jj}$: 225 GeV, $\\Delta\\eta$: 2.3"
   ]
  },
  {
   "cell_type": "code",
   "execution_count": 15,
   "metadata": {},
   "outputs": [],
   "source": [
    "file_name = './GGF_VBF_CWoLa_training_results.csv'\n",
    "df = pd.read_csv(file_name)\n",
    "df = df.query(\"time > '2025-03-24' and time < '2025-03-25'\")"
   ]
  },
  {
   "cell_type": "code",
   "execution_count": 16,
   "metadata": {},
   "outputs": [
    {
     "name": "stdout",
     "output_type": "stream",
     "text": [
      "mjj: 225 GeV, L: 3000 fb^-1, pT normalized\n",
      "ACC: 0.863 ± 0.004\n",
      "AUC: 0.940 ± 0.002\n",
      "True ACC and AUC\n",
      "ACC: 0.716 ± 0.003\n",
      "AUC: 0.780 ± 0.004\n",
      "$0.863 \\pm 0.004$ & $0.940 \\pm 0.002$ & $0.716 \\pm 0.003$ & $0.780 \\pm 0.004$\n",
      "\n",
      "deta: 2.3, L: 3000 fb^-1, pT normalized\n",
      "ACC: 0.914 ± 0.004\n",
      "AUC: 0.972 ± 0.003\n",
      "True ACC and AUC\n",
      "ACC: 0.702 ± 0.003\n",
      "AUC: 0.754 ± 0.003\n",
      "$0.914 \\pm 0.004$ & $0.972 \\pm 0.003$ & $0.702 \\pm 0.003$ & $0.754 \\pm 0.003$\n",
      "\n",
      "mjj: 225 GeV, deta: 2.3, L: 3000 fb^-1, pT normalized\n",
      "ACC: 0.896 ± 0.006\n",
      "AUC: 0.962 ± 0.004\n",
      "True ACC and AUC\n",
      "ACC: 0.723 ± 0.003\n",
      "AUC: 0.780 ± 0.002\n",
      "$0.896 \\pm 0.006$ & $0.962 \\pm 0.004$ & $0.723 \\pm 0.003$ & $0.780 \\pm 0.002$\n"
     ]
    }
   ],
   "source": [
    "sample_type = 'mjj: 225 GeV, L: 3000 fb^-1, pT normalized'\n",
    "print_ACC_AUC(df, sample_type)\n",
    "print()\n",
    "\n",
    "sample_type = 'deta: 2.3, L: 3000 fb^-1, pT normalized'\n",
    "print_ACC_AUC(df, sample_type)\n",
    "print()\n",
    "\n",
    "sample_type = 'mjj: 225 GeV, deta: 2.3, L: 3000 fb^-1, pT normalized'\n",
    "print_ACC_AUC(df, sample_type)"
   ]
  },
  {
   "cell_type": "markdown",
   "metadata": {},
   "source": [
    "# Supervised CNN: 200k+50k+50k"
   ]
  },
  {
   "cell_type": "code",
   "execution_count": 17,
   "metadata": {},
   "outputs": [],
   "source": [
    "file_name = './GGF_VBF_CWoLa_training_results.csv'\n",
    "df = pd.read_csv(file_name)\n",
    "df = df.query(\"time > '2025-03-21' and time < '2025-03-22'\")"
   ]
  },
  {
   "cell_type": "code",
   "execution_count": 18,
   "metadata": {},
   "outputs": [
    {
     "name": "stdout",
     "output_type": "stream",
     "text": [
      "pure, pT normalized\n",
      "ACC: 0.785 ± 0.001\n",
      "AUC: 0.863 ± 0.001\n",
      "True ACC and AUC\n",
      "ACC: 0.784 ± 0.001\n",
      "AUC: 0.861 ± 0.001\n",
      "$0.785 \\pm 0.001$ & $0.863 \\pm 0.001$ & $0.784 \\pm 0.001$ & $0.861 \\pm 0.001$\n",
      "\n"
     ]
    }
   ],
   "source": [
    "sample_type = 'pure, pT normalized'\n",
    "print_ACC_AUC(df, sample_type)\n",
    "print()"
   ]
  },
  {
   "cell_type": "markdown",
   "metadata": {},
   "source": [
    "# Gluon jet"
   ]
  },
  {
   "cell_type": "code",
   "execution_count": 19,
   "metadata": {},
   "outputs": [],
   "source": [
    "file_name = './GGF_VBF_CWoLa_training_results.csv'\n",
    "df = pd.read_csv(file_name)\n",
    "df = df.query(\"time > '2025-03-30' and time < '2025-03-31'\")"
   ]
  },
  {
   "cell_type": "code",
   "execution_count": 20,
   "metadata": {},
   "outputs": [
    {
     "name": "stdout",
     "output_type": "stream",
     "text": [
      "gluon jet: = 2, L: 3000 fb^-1, pT normalized\n",
      "ACC: 0.934 ± 0.000\n",
      "AUC: 0.689 ± 0.012\n",
      "True ACC and AUC\n",
      "ACC: 0.662 ± 0.006\n",
      "AUC: 0.719 ± 0.008\n",
      "$0.934 \\pm 0.000$ & $0.689 \\pm 0.012$ & $0.662 \\pm 0.006$ & $0.719 \\pm 0.008$\n",
      "\n",
      "gluon jet: >= 1, L: 3000 fb^-1, pT normalized\n",
      "ACC: 0.623 ± 0.005\n",
      "AUC: 0.642 ± 0.005\n",
      "True ACC and AUC\n",
      "ACC: 0.653 ± 0.008\n",
      "AUC: 0.706 ± 0.009\n",
      "$0.623 \\pm 0.005$ & $0.642 \\pm 0.005$ & $0.653 \\pm 0.008$ & $0.706 \\pm 0.009$\n",
      "\n"
     ]
    }
   ],
   "source": [
    "sample_type = 'gluon jet: = 2, L: 3000 fb^-1, pT normalized'\n",
    "print_ACC_AUC(df, sample_type)\n",
    "print()\n",
    "\n",
    "sample_type = 'gluon jet: >= 1, L: 3000 fb^-1, pT normalized'\n",
    "print_ACC_AUC(df, sample_type)\n",
    "print()"
   ]
  },
  {
   "cell_type": "markdown",
   "metadata": {},
   "source": [
    "# 2 quark & 2 gluon jet"
   ]
  },
  {
   "cell_type": "code",
   "execution_count": 21,
   "metadata": {},
   "outputs": [],
   "source": [
    "file_name = './GGF_VBF_CWoLa_training_results.csv'\n",
    "df = pd.read_csv(file_name)\n",
    "df = df.query(\"time > '2025-03-31' and time < '2025-04-01'\")"
   ]
  },
  {
   "cell_type": "code",
   "execution_count": 22,
   "metadata": {},
   "outputs": [
    {
     "name": "stdout",
     "output_type": "stream",
     "text": [
      "quark jet: 2, gluon jet: 2, L: 3000 fb^-1, pT normalized\n",
      "ACC: 0.900 ± 0.000\n",
      "AUC: 0.740 ± 0.010\n",
      "True ACC and AUC\n",
      "ACC: 0.655 ± 0.008\n",
      "AUC: 0.710 ± 0.009\n",
      "$0.900 \\pm 0.000$ & $0.740 \\pm 0.010$ & $0.655 \\pm 0.008$ & $0.710 \\pm 0.009$\n",
      "\n"
     ]
    }
   ],
   "source": [
    "sample_type = 'quark jet: 2, gluon jet: 2, L: 3000 fb^-1, pT normalized'\n",
    "print_ACC_AUC(df, sample_type)\n",
    "print()"
   ]
  },
  {
   "cell_type": "markdown",
   "metadata": {},
   "source": [
    "# Jet tagging without $p_\\text{T}$ normalization"
   ]
  },
  {
   "cell_type": "code",
   "execution_count": 23,
   "metadata": {},
   "outputs": [],
   "source": [
    "file_name = './GGF_VBF_CWoLa_training_results.csv'\n",
    "df = pd.read_csv(file_name)\n",
    "df = df.query(\"time > '2025-04-07' and time < '2025-04-08'\")"
   ]
  },
  {
   "cell_type": "code",
   "execution_count": 24,
   "metadata": {},
   "outputs": [
    {
     "name": "stdout",
     "output_type": "stream",
     "text": [
      "gluon jet: = 2, L: 3000 fb^-1\n",
      "ACC: 0.934 ± 0.000\n",
      "AUC: 0.695 ± 0.015\n",
      "True ACC and AUC\n",
      "ACC: 0.643 ± 0.009\n",
      "AUC: 0.689 ± 0.011\n",
      "$0.934 \\pm 0.000$ & $0.695 \\pm 0.015$ & $0.643 \\pm 0.009$ & $0.689 \\pm 0.011$\n",
      "\n",
      "gluon jet: >= 1, L: 3000 fb^-1\n",
      "ACC: 0.615 ± 0.004\n",
      "AUC: 0.634 ± 0.006\n",
      "True ACC and AUC\n",
      "ACC: 0.646 ± 0.008\n",
      "AUC: 0.690 ± 0.011\n",
      "$0.615 \\pm 0.004$ & $0.634 \\pm 0.006$ & $0.646 \\pm 0.008$ & $0.690 \\pm 0.011$\n",
      "\n",
      "quark jet: 2, gluon jet: 2, L: 3000 fb^-1\n",
      "ACC: 0.900 ± 0.000\n",
      "AUC: 0.739 ± 0.012\n",
      "True ACC and AUC\n",
      "ACC: 0.628 ± 0.007\n",
      "AUC: 0.671 ± 0.011\n",
      "$0.900 \\pm 0.000$ & $0.739 \\pm 0.012$ & $0.628 \\pm 0.007$ & $0.671 \\pm 0.011$\n",
      "\n"
     ]
    }
   ],
   "source": [
    "sample_type = 'gluon jet: = 2, L: 3000 fb^-1'\n",
    "print_ACC_AUC(df, sample_type)\n",
    "print()\n",
    "\n",
    "sample_type = 'gluon jet: >= 1, L: 3000 fb^-1'\n",
    "print_ACC_AUC(df, sample_type)\n",
    "print()\n",
    "\n",
    "sample_type = 'quark jet: 2, gluon jet: 2, L: 3000 fb^-1'\n",
    "print_ACC_AUC(df, sample_type)\n",
    "print()"
   ]
  },
  {
   "cell_type": "markdown",
   "metadata": {},
   "source": [
    "# Jet tagging without $p_\\text{T}$ normalization, loss weighted"
   ]
  },
  {
   "cell_type": "code",
   "execution_count": 25,
   "metadata": {},
   "outputs": [],
   "source": [
    "file_name = './GGF_VBF_CWoLa_training_results.csv'\n",
    "df = pd.read_csv(file_name)\n",
    "df = df.query(\"time > '2025-04-07 16' and time < '2025-04-07 17:15'\")"
   ]
  },
  {
   "cell_type": "code",
   "execution_count": 26,
   "metadata": {},
   "outputs": [
    {
     "name": "stdout",
     "output_type": "stream",
     "text": [
      "quark jet: = 2, L: 3000 fb^-1\n",
      "ACC: 0.621 ± 0.006\n",
      "AUC: 0.635 ± 0.007\n",
      "True ACC and AUC\n",
      "ACC: 0.645 ± 0.009\n",
      "AUC: 0.688 ± 0.013\n",
      "$0.621 \\pm 0.006$ & $0.635 \\pm 0.007$ & $0.645 \\pm 0.009$ & $0.688 \\pm 0.013$\n",
      "\n",
      "quark jet: >= 1, L: 3000 fb^-1\n",
      "ACC: 0.934 ± 0.000\n",
      "AUC: 0.679 ± 0.016\n",
      "True ACC and AUC\n",
      "ACC: 0.624 ± 0.005\n",
      "AUC: 0.662 ± 0.008\n",
      "$0.934 \\pm 0.000$ & $0.679 \\pm 0.016$ & $0.624 \\pm 0.005$ & $0.662 \\pm 0.008$\n",
      "\n",
      "quark jet: 2, gluon jet: 2, L: 3000 fb^-1\n",
      "ACC: 0.900 ± 0.000\n",
      "AUC: 0.730 ± 0.013\n",
      "True ACC and AUC\n",
      "ACC: 0.621 ± 0.005\n",
      "AUC: 0.658 ± 0.008\n",
      "$0.900 \\pm 0.000$ & $0.730 \\pm 0.013$ & $0.621 \\pm 0.005$ & $0.658 \\pm 0.008$\n",
      "\n"
     ]
    }
   ],
   "source": [
    "sample_type = 'quark jet: = 2, L: 3000 fb^-1'\n",
    "print_ACC_AUC(df, sample_type)\n",
    "print()\n",
    "\n",
    "sample_type = 'quark jet: >= 1, L: 3000 fb^-1'\n",
    "print_ACC_AUC(df, sample_type)\n",
    "print()\n",
    "\n",
    "sample_type = 'quark jet: 2, gluon jet: 2, L: 3000 fb^-1'\n",
    "print_ACC_AUC(df, sample_type)\n",
    "print()"
   ]
  },
  {
   "cell_type": "markdown",
   "metadata": {},
   "source": [
    "# Jet tagging without $p_\\text{T}$ normalization, without loss weighted"
   ]
  },
  {
   "cell_type": "code",
   "execution_count": 27,
   "metadata": {},
   "outputs": [],
   "source": [
    "file_name = './GGF_VBF_CWoLa_training_results.csv'\n",
    "df = pd.read_csv(file_name)\n",
    "df = df.query(\"time > '2025-04-07 17:30' and time < '2025-04-08'\")"
   ]
  },
  {
   "cell_type": "code",
   "execution_count": 28,
   "metadata": {},
   "outputs": [
    {
     "name": "stdout",
     "output_type": "stream",
     "text": [
      "quark jet: = 2, L: 3000 fb^-1\n",
      "ACC: 0.614 ± 0.007\n",
      "AUC: 0.632 ± 0.011\n",
      "True ACC and AUC\n",
      "ACC: 0.646 ± 0.004\n",
      "AUC: 0.691 ± 0.006\n",
      "$0.614 \\pm 0.007$ & $0.632 \\pm 0.011$ & $0.646 \\pm 0.004$ & $0.691 \\pm 0.006$\n",
      "\n",
      "quark jet: >= 1, L: 3000 fb^-1\n",
      "ACC: 0.934 ± 0.000\n",
      "AUC: 0.693 ± 0.012\n",
      "True ACC and AUC\n",
      "ACC: 0.639 ± 0.007\n",
      "AUC: 0.686 ± 0.010\n",
      "$0.934 \\pm 0.000$ & $0.693 \\pm 0.012$ & $0.639 \\pm 0.007$ & $0.686 \\pm 0.010$\n",
      "\n",
      "quark jet: 2, gluon jet: 2, L: 3000 fb^-1\n",
      "ACC: 0.900 ± 0.000\n",
      "AUC: 0.745 ± 0.008\n",
      "True ACC and AUC\n",
      "ACC: 0.632 ± 0.005\n",
      "AUC: 0.677 ± 0.006\n",
      "$0.900 \\pm 0.000$ & $0.745 \\pm 0.008$ & $0.632 \\pm 0.005$ & $0.677 \\pm 0.006$\n",
      "\n"
     ]
    }
   ],
   "source": [
    "sample_type = 'quark jet: = 2, L: 3000 fb^-1'\n",
    "print_ACC_AUC(df, sample_type)\n",
    "print()\n",
    "\n",
    "sample_type = 'quark jet: >= 1, L: 3000 fb^-1'\n",
    "print_ACC_AUC(df, sample_type)\n",
    "print()\n",
    "\n",
    "sample_type = 'quark jet: 2, gluon jet: 2, L: 3000 fb^-1'\n",
    "print_ACC_AUC(df, sample_type)\n",
    "print()"
   ]
  },
  {
   "cell_type": "markdown",
   "metadata": {},
   "source": [
    "# Jet tagging with total $p_\\text{T}$ scaling, with loss weighted"
   ]
  },
  {
   "cell_type": "code",
   "execution_count": 29,
   "metadata": {},
   "outputs": [],
   "source": [
    "file_name = './GGF_VBF_CWoLa_training_results.csv'\n",
    "df = pd.read_csv(file_name)\n",
    "df = df.query(\"time > '2025-04-13 ' and time < '2025-04-14'\")"
   ]
  },
  {
   "cell_type": "code",
   "execution_count": 30,
   "metadata": {},
   "outputs": [
    {
     "name": "stdout",
     "output_type": "stream",
     "text": [
      "quark jet: = 2, L: 3000 fb^-1, pT scaling\n",
      "ACC: 0.622 ± 0.004\n",
      "AUC: 0.637 ± 0.008\n",
      "True ACC and AUC\n",
      "ACC: 0.638 ± 0.009\n",
      "AUC: 0.678 ± 0.011\n",
      "$0.622 \\pm 0.004$ & $0.637 \\pm 0.008$ & $0.638 \\pm 0.009$ & $0.678 \\pm 0.011$\n",
      "\n",
      "quark jet: >= 1, L: 3000 fb^-1, pT scaling\n",
      "ACC: 0.934 ± 0.000\n",
      "AUC: 0.673 ± 0.032\n",
      "True ACC and AUC\n",
      "ACC: 0.619 ± 0.019\n",
      "AUC: 0.652 ± 0.029\n",
      "$0.934 \\pm 0.000$ & $0.673 \\pm 0.032$ & $0.619 \\pm 0.019$ & $0.652 \\pm 0.029$\n",
      "\n",
      "quark jet: 2, gluon jet: 2, L: 3000 fb^-1, pT scaling\n",
      "ACC: 0.900 ± 0.000\n",
      "AUC: 0.733 ± 0.011\n",
      "True ACC and AUC\n",
      "ACC: 0.621 ± 0.006\n",
      "AUC: 0.657 ± 0.009\n",
      "$0.900 \\pm 0.000$ & $0.733 \\pm 0.011$ & $0.621 \\pm 0.006$ & $0.657 \\pm 0.009$\n",
      "\n"
     ]
    }
   ],
   "source": [
    "sample_type = 'quark jet: = 2, L: 3000 fb^-1, pT scaling'\n",
    "print_ACC_AUC(df, sample_type)\n",
    "print()\n",
    "\n",
    "sample_type = 'quark jet: >= 1, L: 3000 fb^-1, pT scaling'\n",
    "print_ACC_AUC(df, sample_type)\n",
    "print()\n",
    "\n",
    "sample_type = 'quark jet: 2, gluon jet: 2, L: 3000 fb^-1, pT scaling'\n",
    "print_ACC_AUC(df, sample_type)\n",
    "print()"
   ]
  },
  {
   "cell_type": "markdown",
   "metadata": {},
   "source": [
    "# Jet tagging with $p_\\text{T}$ nomalization, with loss weighted"
   ]
  },
  {
   "cell_type": "code",
   "execution_count": 31,
   "metadata": {},
   "outputs": [],
   "source": [
    "file_name = './GGF_VBF_CWoLa_training_results.csv'\n",
    "df = pd.read_csv(file_name)\n",
    "df = df.query(\"time > '2025-04-14 09:00' and time < '2025-04-14 09:40'\")"
   ]
  },
  {
   "cell_type": "code",
   "execution_count": 32,
   "metadata": {},
   "outputs": [
    {
     "name": "stdout",
     "output_type": "stream",
     "text": [
      "quark jet: = 2, L: 3000 fb^-1, pT normalized\n",
      "ACC: 0.615 ± 0.005\n",
      "AUC: 0.632 ± 0.007\n",
      "True ACC and AUC\n",
      "ACC: 0.650 ± 0.011\n",
      "AUC: 0.703 ± 0.015\n",
      "$0.615 \\pm 0.005$ & $0.632 \\pm 0.007$ & $0.650 \\pm 0.011$ & $0.703 \\pm 0.015$\n",
      "\n",
      "quark jet: >= 1, L: 3000 fb^-1, pT normalized\n",
      "ACC: 0.934 ± 0.000\n",
      "AUC: 0.662 ± 0.014\n",
      "True ACC and AUC\n",
      "ACC: 0.630 ± 0.008\n",
      "AUC: 0.675 ± 0.011\n",
      "$0.934 \\pm 0.000$ & $0.662 \\pm 0.014$ & $0.630 \\pm 0.008$ & $0.675 \\pm 0.011$\n",
      "\n",
      "quark jet: 2, gluon jet: 2, L: 3000 fb^-1, pT normalized\n",
      "ACC: 0.900 ± 0.000\n",
      "AUC: 0.716 ± 0.012\n",
      "True ACC and AUC\n",
      "ACC: 0.640 ± 0.007\n",
      "AUC: 0.690 ± 0.009\n",
      "$0.900 \\pm 0.000$ & $0.716 \\pm 0.012$ & $0.640 \\pm 0.007$ & $0.690 \\pm 0.009$\n",
      "\n"
     ]
    }
   ],
   "source": [
    "sample_type = 'quark jet: = 2, L: 3000 fb^-1, pT normalized'\n",
    "print_ACC_AUC(df, sample_type)\n",
    "print()\n",
    "\n",
    "sample_type = 'quark jet: >= 1, L: 3000 fb^-1, pT normalized'\n",
    "print_ACC_AUC(df, sample_type)\n",
    "print()\n",
    "\n",
    "sample_type = 'quark jet: 2, gluon jet: 2, L: 3000 fb^-1, pT normalized'\n",
    "print_ACC_AUC(df, sample_type)\n",
    "print()"
   ]
  },
  {
   "cell_type": "markdown",
   "metadata": {},
   "source": [
    "# Jet tagging without $p_\\text{T}$ nomalization, with loss weighted"
   ]
  },
  {
   "cell_type": "code",
   "execution_count": 33,
   "metadata": {},
   "outputs": [],
   "source": [
    "file_name = './GGF_VBF_CWoLa_training_results.csv'\n",
    "df = pd.read_csv(file_name)\n",
    "df = df.query(\"time > '2025-04-14 10:00' and time < '2025-04-14 11:00'\")"
   ]
  },
  {
   "cell_type": "code",
   "execution_count": 34,
   "metadata": {},
   "outputs": [
    {
     "name": "stdout",
     "output_type": "stream",
     "text": [
      "quark jet: = 2, L: 3000 fb^-1, pT normalized\n",
      "ACC: 0.620 ± 0.004\n",
      "AUC: 0.636 ± 0.005\n",
      "True ACC and AUC\n",
      "ACC: 0.643 ± 0.006\n",
      "AUC: 0.686 ± 0.007\n",
      "$0.620 \\pm 0.004$ & $0.636 \\pm 0.005$ & $0.643 \\pm 0.006$ & $0.686 \\pm 0.007$\n",
      "\n",
      "quark jet: >= 1, L: 3000 fb^-1, pT normalized\n",
      "ACC: 0.934 ± 0.000\n",
      "AUC: 0.680 ± 0.014\n",
      "True ACC and AUC\n",
      "ACC: 0.624 ± 0.010\n",
      "AUC: 0.660 ± 0.016\n",
      "$0.934 \\pm 0.000$ & $0.680 \\pm 0.014$ & $0.624 \\pm 0.010$ & $0.660 \\pm 0.016$\n",
      "\n",
      "quark jet: 2, gluon jet: 2, L: 3000 fb^-1, pT normalized\n",
      "ACC: 0.900 ± 0.000\n",
      "AUC: 0.727 ± 0.010\n",
      "True ACC and AUC\n",
      "ACC: 0.628 ± 0.008\n",
      "AUC: 0.666 ± 0.011\n",
      "$0.900 \\pm 0.000$ & $0.727 \\pm 0.010$ & $0.628 \\pm 0.008$ & $0.666 \\pm 0.011$\n",
      "\n"
     ]
    }
   ],
   "source": [
    "sample_type = 'quark jet: = 2, L: 3000 fb^-1, pT normalized'\n",
    "print_ACC_AUC(df, sample_type)\n",
    "print()\n",
    "\n",
    "sample_type = 'quark jet: >= 1, L: 3000 fb^-1, pT normalized'\n",
    "print_ACC_AUC(df, sample_type)\n",
    "print()\n",
    "\n",
    "sample_type = 'quark jet: 2, gluon jet: 2, L: 3000 fb^-1, pT normalized'\n",
    "print_ACC_AUC(df, sample_type)\n",
    "print()"
   ]
  },
  {
   "cell_type": "markdown",
   "metadata": {},
   "source": [
    "# $p_\\text{T}$ smearing: +5, +10, +15"
   ]
  },
  {
   "cell_type": "code",
   "execution_count": 35,
   "metadata": {},
   "outputs": [],
   "source": [
    "file_name = './GGF_VBF_CWoLa_training_results.csv'\n",
    "df = pd.read_csv(file_name)\n",
    "df = df.query(\"time > '2025-04-18' and time < '2025-04-21 11:10'\")"
   ]
  },
  {
   "cell_type": "code",
   "execution_count": 36,
   "metadata": {},
   "outputs": [
    {
     "name": "stdout",
     "output_type": "stream",
     "text": [
      "quark jet: = 2, L: 3000 fb^-1, pT normalized, pT smearing: +5\n",
      "ACC: 0.625 ± 0.006\n",
      "AUC: 0.653 ± 0.009\n",
      "True ACC and AUC\n",
      "ACC: 0.661 ± 0.010\n",
      "AUC: 0.714 ± 0.012\n",
      "$0.625 \\pm 0.006$ & $0.653 \\pm 0.009$ & $0.661 \\pm 0.010$ & $0.714 \\pm 0.012$\n",
      "\n",
      "quark jet: = 2, L: 3000 fb^-1, pT normalized, pT smearing: +10\n",
      "ACC: 0.629 ± 0.005\n",
      "AUC: 0.658 ± 0.005\n",
      "True ACC and AUC\n",
      "ACC: 0.666 ± 0.008\n",
      "AUC: 0.721 ± 0.009\n",
      "$0.629 \\pm 0.005$ & $0.658 \\pm 0.005$ & $0.666 \\pm 0.008$ & $0.721 \\pm 0.009$\n",
      "\n",
      "quark jet: = 2, L: 3000 fb^-1, pT normalized, pT smearing: +15\n",
      "ACC: 0.629 ± 0.003\n",
      "AUC: 0.660 ± 0.003\n",
      "True ACC and AUC\n",
      "ACC: 0.661 ± 0.015\n",
      "AUC: 0.710 ± 0.018\n",
      "$0.629 \\pm 0.003$ & $0.660 \\pm 0.003$ & $0.661 \\pm 0.015$ & $0.710 \\pm 0.018$\n",
      "\n"
     ]
    }
   ],
   "source": [
    "sample_type = 'quark jet: = 2, L: 3000 fb^-1, pT normalized, pT smearing: +5'\n",
    "print_ACC_AUC(df, sample_type)\n",
    "print()\n",
    "\n",
    "sample_type = 'quark jet: = 2, L: 3000 fb^-1, pT normalized, pT smearing: +10'\n",
    "print_ACC_AUC(df, sample_type)\n",
    "print()\n",
    "\n",
    "sample_type = 'quark jet: = 2, L: 3000 fb^-1, pT normalized, pT smearing: +15'\n",
    "print_ACC_AUC(df, sample_type)\n",
    "print()"
   ]
  },
  {
   "cell_type": "markdown",
   "metadata": {},
   "source": [
    "# $\\phi$ shifting: +5, +10, +15"
   ]
  },
  {
   "cell_type": "code",
   "execution_count": 37,
   "metadata": {},
   "outputs": [],
   "source": [
    "file_name = './GGF_VBF_CWoLa_training_results.csv'\n",
    "df = pd.read_csv(file_name)\n",
    "df = df.query(\"time > '2025-04-27' and time < '2025-04-28'\")"
   ]
  },
  {
   "cell_type": "code",
   "execution_count": 38,
   "metadata": {},
   "outputs": [
    {
     "name": "stdout",
     "output_type": "stream",
     "text": [
      "quark jet: = 2, L: 3000 fb^-1, pT normalized, phi shifting: +5\n",
      "ACC: 0.641 ± 0.003\n",
      "AUC: 0.680 ± 0.004\n",
      "True ACC and AUC\n",
      "ACC: 0.683 ± 0.010\n",
      "AUC: 0.736 ± 0.013\n",
      "$0.641 \\pm 0.003$ & $0.680 \\pm 0.004$ & $0.683 \\pm 0.010$ & $0.736 \\pm 0.013$\n",
      "\n",
      "quark jet: = 2, L: 3000 fb^-1, pT normalized, phi shifting: +10\n",
      "ACC: 0.642 ± 0.006\n",
      "AUC: 0.684 ± 0.008\n",
      "True ACC and AUC\n",
      "ACC: 0.686 ± 0.008\n",
      "AUC: 0.739 ± 0.011\n",
      "$0.642 \\pm 0.006$ & $0.684 \\pm 0.008$ & $0.686 \\pm 0.008$ & $0.739 \\pm 0.011$\n",
      "\n",
      "quark jet: = 2, L: 3000 fb^-1, pT normalized, phi shifting: +15\n",
      "ACC: 0.643 ± 0.005\n",
      "AUC: 0.685 ± 0.006\n",
      "True ACC and AUC\n",
      "ACC: 0.687 ± 0.009\n",
      "AUC: 0.742 ± 0.010\n",
      "$0.643 \\pm 0.005$ & $0.685 \\pm 0.006$ & $0.687 \\pm 0.009$ & $0.742 \\pm 0.010$\n",
      "\n"
     ]
    }
   ],
   "source": [
    "sample_type = 'quark jet: = 2, L: 3000 fb^-1, pT normalized, phi shifting: +5'\n",
    "print_ACC_AUC(df, sample_type)\n",
    "print()\n",
    "\n",
    "sample_type = 'quark jet: = 2, L: 3000 fb^-1, pT normalized, phi shifting: +10'\n",
    "print_ACC_AUC(df, sample_type)\n",
    "print()\n",
    "\n",
    "sample_type = 'quark jet: = 2, L: 3000 fb^-1, pT normalized, phi shifting: +15'\n",
    "print_ACC_AUC(df, sample_type)\n",
    "print()"
   ]
  },
  {
   "cell_type": "markdown",
   "metadata": {},
   "source": [
    "# $\\eta-\\phi$ smearing: +5, +10, +15"
   ]
  },
  {
   "cell_type": "code",
   "execution_count": 39,
   "metadata": {},
   "outputs": [],
   "source": [
    "file_name = './GGF_VBF_CWoLa_training_results.csv'\n",
    "df = pd.read_csv(file_name)\n",
    "df = df.query(\"time > '2025-04-27' and time < '2025-04-28'\")"
   ]
  },
  {
   "cell_type": "code",
   "execution_count": 40,
   "metadata": {},
   "outputs": [
    {
     "name": "stdout",
     "output_type": "stream",
     "text": [
      "quark jet: = 2, L: 3000 fb^-1, pT normalized, eta-phi smearing: +5\n",
      "ACC: 0.618 ± 0.004\n",
      "AUC: 0.640 ± 0.006\n",
      "True ACC and AUC\n",
      "ACC: 0.658 ± 0.009\n",
      "AUC: 0.711 ± 0.013\n",
      "$0.618 \\pm 0.004$ & $0.640 \\pm 0.006$ & $0.658 \\pm 0.009$ & $0.711 \\pm 0.013$\n",
      "\n",
      "quark jet: = 2, L: 3000 fb^-1, pT normalized, eta-phi smearing: +10\n",
      "ACC: 0.617 ± 0.004\n",
      "AUC: 0.641 ± 0.006\n",
      "True ACC and AUC\n",
      "ACC: 0.654 ± 0.010\n",
      "AUC: 0.705 ± 0.012\n",
      "$0.617 \\pm 0.004$ & $0.641 \\pm 0.006$ & $0.654 \\pm 0.010$ & $0.705 \\pm 0.012$\n",
      "\n",
      "quark jet: = 2, L: 3000 fb^-1, pT normalized, eta-phi smearing: +15\n",
      "ACC: 0.612 ± 0.006\n",
      "AUC: 0.628 ± 0.008\n",
      "True ACC and AUC\n",
      "ACC: 0.635 ± 0.009\n",
      "AUC: 0.679 ± 0.013\n",
      "$0.612 \\pm 0.006$ & $0.628 \\pm 0.008$ & $0.635 \\pm 0.009$ & $0.679 \\pm 0.013$\n",
      "\n"
     ]
    }
   ],
   "source": [
    "sample_type = 'quark jet: = 2, L: 3000 fb^-1, pT normalized, eta-phi smearing: +5'\n",
    "print_ACC_AUC(df, sample_type)\n",
    "print()\n",
    "\n",
    "sample_type = 'quark jet: = 2, L: 3000 fb^-1, pT normalized, eta-phi smearing: +10'\n",
    "print_ACC_AUC(df, sample_type)\n",
    "print()\n",
    "\n",
    "sample_type = 'quark jet: = 2, L: 3000 fb^-1, pT normalized, eta-phi smearing: +15'\n",
    "print_ACC_AUC(df, sample_type)\n",
    "print()"
   ]
  },
  {
   "cell_type": "markdown",
   "metadata": {},
   "source": [
    "# Remove photon informaiton: $\\eta-\\phi$ smearing: +5, +10, +15"
   ]
  },
  {
   "cell_type": "code",
   "execution_count": 41,
   "metadata": {},
   "outputs": [],
   "source": [
    "file_name = './GGF_VBF_CWoLa_training_results.csv'\n",
    "df = pd.read_csv(file_name)\n",
    "df = df.query(\"time > '2025-05-23' and time < '2025-05-24'\")"
   ]
  },
  {
   "cell_type": "code",
   "execution_count": 42,
   "metadata": {},
   "outputs": [
    {
     "name": "stdout",
     "output_type": "stream",
     "text": [
      "quark jet: = 2, L: 3000 fb^-1, pT normalized, remove photon\n",
      "ACC: 0.633 ± 0.005\n",
      "AUC: 0.664 ± 0.008\n",
      "True ACC and AUC\n",
      "ACC: 0.690 ± 0.005\n",
      "AUC: 0.750 ± 0.008\n",
      "$0.633 \\pm 0.005$ & $0.664 \\pm 0.008$ & $0.690 \\pm 0.005$ & $0.750 \\pm 0.008$\n",
      "\n",
      "quark jet: = 2, L: 3000 fb^-1, pT normalized, remove photon, phi shifting: +5\n",
      "ACC: 0.644 ± 0.004\n",
      "AUC: 0.687 ± 0.005\n",
      "True ACC and AUC\n",
      "ACC: 0.693 ± 0.007\n",
      "AUC: 0.746 ± 0.006\n",
      "$0.644 \\pm 0.004$ & $0.687 \\pm 0.005$ & $0.693 \\pm 0.007$ & $0.746 \\pm 0.006$\n",
      "\n",
      "quark jet: = 2, L: 3000 fb^-1, pT normalized, remove photon, phi shifting: +10\n",
      "ACC: 0.645 ± 0.004\n",
      "AUC: 0.689 ± 0.005\n",
      "True ACC and AUC\n",
      "ACC: 0.697 ± 0.009\n",
      "AUC: 0.751 ± 0.011\n",
      "$0.645 \\pm 0.004$ & $0.689 \\pm 0.005$ & $0.697 \\pm 0.009$ & $0.751 \\pm 0.011$\n",
      "\n",
      "quark jet: = 2, L: 3000 fb^-1, pT normalized, remove photon, phi shifting: +15\n",
      "ACC: 0.645 ± 0.004\n",
      "AUC: 0.689 ± 0.005\n",
      "True ACC and AUC\n",
      "ACC: 0.698 ± 0.009\n",
      "AUC: 0.753 ± 0.010\n",
      "$0.645 \\pm 0.004$ & $0.689 \\pm 0.005$ & $0.698 \\pm 0.009$ & $0.753 \\pm 0.010$\n",
      "\n"
     ]
    }
   ],
   "source": [
    "sample_type = 'quark jet: = 2, L: 3000 fb^-1, pT normalized, remove photon'\n",
    "print_ACC_AUC(df, sample_type)\n",
    "print()\n",
    "\n",
    "sample_type = 'quark jet: = 2, L: 3000 fb^-1, pT normalized, remove photon, phi shifting: +5'\n",
    "print_ACC_AUC(df, sample_type)\n",
    "print()\n",
    "\n",
    "sample_type = 'quark jet: = 2, L: 3000 fb^-1, pT normalized, remove photon, phi shifting: +10'\n",
    "print_ACC_AUC(df, sample_type)\n",
    "print()\n",
    "\n",
    "sample_type = 'quark jet: = 2, L: 3000 fb^-1, pT normalized, remove photon, phi shifting: +15'\n",
    "print_ACC_AUC(df, sample_type)\n",
    "print()"
   ]
  },
  {
   "cell_type": "code",
   "execution_count": 43,
   "metadata": {},
   "outputs": [
    {
     "name": "stdout",
     "output_type": "stream",
     "text": [
      "quark jet: = 2, L: 3000 fb^-1, pT normalized, remove photon channel\n",
      "ACC: 0.621 ± 0.005\n",
      "AUC: 0.640 ± 0.008\n",
      "True ACC and AUC\n",
      "ACC: 0.661 ± 0.007\n",
      "AUC: 0.715 ± 0.010\n",
      "$0.621 \\pm 0.005$ & $0.640 \\pm 0.008$ & $0.661 \\pm 0.007$ & $0.715 \\pm 0.010$\n",
      "\n",
      "quark jet: = 2, L: 3000 fb^-1, pT normalized, remove photon channel, phi shifting: +5\n",
      "ACC: 0.636 ± 0.004\n",
      "AUC: 0.673 ± 0.006\n",
      "True ACC and AUC\n",
      "ACC: 0.673 ± 0.009\n",
      "AUC: 0.727 ± 0.011\n",
      "$0.636 \\pm 0.004$ & $0.673 \\pm 0.006$ & $0.673 \\pm 0.009$ & $0.727 \\pm 0.011$\n",
      "\n",
      "quark jet: = 2, L: 3000 fb^-1, pT normalized, remove photon channel, phi shifting: +10\n",
      "ACC: 0.639 ± 0.004\n",
      "AUC: 0.677 ± 0.005\n",
      "True ACC and AUC\n",
      "ACC: 0.677 ± 0.007\n",
      "AUC: 0.728 ± 0.010\n",
      "$0.639 \\pm 0.004$ & $0.677 \\pm 0.005$ & $0.677 \\pm 0.007$ & $0.728 \\pm 0.010$\n",
      "\n",
      "quark jet: = 2, L: 3000 fb^-1, pT normalized, remove photon channel, phi shifting: +15\n",
      "ACC: 0.640 ± 0.005\n",
      "AUC: 0.679 ± 0.007\n",
      "True ACC and AUC\n",
      "ACC: 0.678 ± 0.007\n",
      "AUC: 0.731 ± 0.010\n",
      "$0.640 \\pm 0.005$ & $0.679 \\pm 0.007$ & $0.678 \\pm 0.007$ & $0.731 \\pm 0.010$\n",
      "\n"
     ]
    }
   ],
   "source": [
    "sample_type = 'quark jet: = 2, L: 3000 fb^-1, pT normalized, remove photon channel'\n",
    "print_ACC_AUC(df, sample_type)\n",
    "print()\n",
    "\n",
    "sample_type = 'quark jet: = 2, L: 3000 fb^-1, pT normalized, remove photon channel, phi shifting: +5'\n",
    "print_ACC_AUC(df, sample_type)\n",
    "print()\n",
    "\n",
    "sample_type = 'quark jet: = 2, L: 3000 fb^-1, pT normalized, remove photon channel, phi shifting: +10'\n",
    "print_ACC_AUC(df, sample_type)\n",
    "print()\n",
    "\n",
    "sample_type = 'quark jet: = 2, L: 3000 fb^-1, pT normalized, remove photon channel, phi shifting: +15'\n",
    "print_ACC_AUC(df, sample_type)\n",
    "print()"
   ]
  },
  {
   "cell_type": "code",
   "execution_count": 44,
   "metadata": {},
   "outputs": [],
   "source": [
    "file_name = './GGF_VBF_CWoLa_training_results.csv'\n",
    "df = pd.read_csv(file_name)\n",
    "df = df.query(\"time > '2025-05-26' and time < '2025-05-27'\")"
   ]
  },
  {
   "cell_type": "code",
   "execution_count": 45,
   "metadata": {},
   "outputs": [
    {
     "name": "stdout",
     "output_type": "stream",
     "text": [
      "quark jet: = 2, L: 3000 fb^-1, pT normalized, remove photon: case 3\n",
      "ACC: 0.629 ± 0.004\n",
      "AUC: 0.653 ± 0.006\n",
      "True ACC and AUC\n",
      "ACC: 0.670 ± 0.008\n",
      "AUC: 0.726 ± 0.009\n",
      "$0.629 \\pm 0.004$ & $0.653 \\pm 0.006$ & $0.670 \\pm 0.008$ & $0.726 \\pm 0.009$\n",
      "\n",
      "quark jet: = 2, L: 3000 fb^-1, pT normalized, remove photon: case 3, phi shifting: +5\n",
      "ACC: 0.642 ± 0.005\n",
      "AUC: 0.682 ± 0.008\n",
      "True ACC and AUC\n",
      "ACC: 0.690 ± 0.010\n",
      "AUC: 0.742 ± 0.011\n",
      "$0.642 \\pm 0.005$ & $0.682 \\pm 0.008$ & $0.690 \\pm 0.010$ & $0.742 \\pm 0.011$\n",
      "\n",
      "quark jet: = 2, L: 3000 fb^-1, pT normalized, remove photon: case 3, phi shifting: +10\n",
      "ACC: 0.644 ± 0.003\n",
      "AUC: 0.686 ± 0.004\n",
      "True ACC and AUC\n",
      "ACC: 0.692 ± 0.006\n",
      "AUC: 0.746 ± 0.008\n",
      "$0.644 \\pm 0.003$ & $0.686 \\pm 0.004$ & $0.692 \\pm 0.006$ & $0.746 \\pm 0.008$\n",
      "\n",
      "quark jet: = 2, L: 3000 fb^-1, pT normalized, remove photon: case 3, phi shifting: +15\n",
      "ACC: 0.645 ± 0.005\n",
      "AUC: 0.687 ± 0.007\n",
      "True ACC and AUC\n",
      "ACC: 0.690 ± 0.007\n",
      "AUC: 0.745 ± 0.007\n",
      "$0.645 \\pm 0.005$ & $0.687 \\pm 0.007$ & $0.690 \\pm 0.007$ & $0.745 \\pm 0.007$\n",
      "\n"
     ]
    }
   ],
   "source": [
    "sample_type = 'quark jet: = 2, L: 3000 fb^-1, pT normalized, remove photon: case 3'\n",
    "print_ACC_AUC(df, sample_type)\n",
    "print()\n",
    "\n",
    "sample_type = 'quark jet: = 2, L: 3000 fb^-1, pT normalized, remove photon: case 3, phi shifting: +5'\n",
    "print_ACC_AUC(df, sample_type)\n",
    "print()\n",
    "\n",
    "sample_type = 'quark jet: = 2, L: 3000 fb^-1, pT normalized, remove photon: case 3, phi shifting: +10'\n",
    "print_ACC_AUC(df, sample_type)\n",
    "print()\n",
    "\n",
    "sample_type = 'quark jet: = 2, L: 3000 fb^-1, pT normalized, remove photon: case 3, phi shifting: +15'\n",
    "print_ACC_AUC(df, sample_type)\n",
    "print()"
   ]
  },
  {
   "cell_type": "markdown",
   "metadata": {},
   "source": [
    "# $\\phi$ shifting, fixed angle: 30, 45, 60, 90"
   ]
  },
  {
   "cell_type": "code",
   "execution_count": 46,
   "metadata": {},
   "outputs": [],
   "source": [
    "file_name = './GGF_VBF_CWoLa_training_results.csv'\n",
    "df = pd.read_csv(file_name)\n",
    "df = df.query(\"time > '2025-06-23' and time < '2025-06-25'\")"
   ]
  },
  {
   "cell_type": "code",
   "execution_count": 47,
   "metadata": {},
   "outputs": [
    {
     "name": "stdout",
     "output_type": "stream",
     "text": [
      "quark jet: = 2, L: 3000 fb^-1, pT normalized, phi shifting, fixed angle: 90\n",
      "ACC: 0.637 ± 0.005\n",
      "AUC: 0.675 ± 0.007\n",
      "True ACC and AUC\n",
      "ACC: 0.684 ± 0.010\n",
      "AUC: 0.739 ± 0.012\n",
      "$0.637 \\pm 0.005$ & $0.675 \\pm 0.007$ & $0.684 \\pm 0.010$ & $0.739 \\pm 0.012$\n",
      "\n",
      "quark jet: = 2, L: 3000 fb^-1, pT normalized, phi shifting, fixed angle: 60\n",
      "ACC: 0.642 ± 0.003\n",
      "AUC: 0.682 ± 0.005\n",
      "True ACC and AUC\n",
      "ACC: 0.689 ± 0.007\n",
      "AUC: 0.745 ± 0.010\n",
      "$0.642 \\pm 0.003$ & $0.682 \\pm 0.005$ & $0.689 \\pm 0.007$ & $0.745 \\pm 0.010$\n",
      "\n",
      "quark jet: = 2, L: 3000 fb^-1, pT normalized, phi shifting, fixed angle: 45\n",
      "ACC: 0.643 ± 0.003\n",
      "AUC: 0.685 ± 0.004\n",
      "True ACC and AUC\n",
      "ACC: 0.689 ± 0.008\n",
      "AUC: 0.742 ± 0.012\n",
      "$0.643 \\pm 0.003$ & $0.685 \\pm 0.004$ & $0.689 \\pm 0.008$ & $0.742 \\pm 0.012$\n",
      "\n",
      "quark jet: = 2, L: 3000 fb^-1, pT normalized, phi shifting, fixed angle: 30\n",
      "ACC: 0.643 ± 0.006\n",
      "AUC: 0.684 ± 0.009\n",
      "True ACC and AUC\n",
      "ACC: 0.688 ± 0.007\n",
      "AUC: 0.744 ± 0.008\n",
      "$0.643 \\pm 0.006$ & $0.684 \\pm 0.009$ & $0.688 \\pm 0.007$ & $0.744 \\pm 0.008$\n",
      "\n"
     ]
    }
   ],
   "source": [
    "sample_type = 'quark jet: = 2, L: 3000 fb^-1, pT normalized, phi shifting, fixed angle: 90'\n",
    "print_ACC_AUC(df, sample_type)\n",
    "print()\n",
    "\n",
    "sample_type = 'quark jet: = 2, L: 3000 fb^-1, pT normalized, phi shifting, fixed angle: 60'\n",
    "print_ACC_AUC(df, sample_type)\n",
    "print()\n",
    "\n",
    "sample_type = 'quark jet: = 2, L: 3000 fb^-1, pT normalized, phi shifting, fixed angle: 45'\n",
    "print_ACC_AUC(df, sample_type)\n",
    "print()\n",
    "\n",
    "sample_type = 'quark jet: = 2, L: 3000 fb^-1, pT normalized, phi shifting, fixed angle: 30'\n",
    "print_ACC_AUC(df, sample_type)\n",
    "print()"
   ]
  },
  {
   "cell_type": "markdown",
   "metadata": {},
   "source": [
    "# Supervised CNN: 200k+50k+50k, removed photon information"
   ]
  },
  {
   "cell_type": "code",
   "execution_count": 48,
   "metadata": {},
   "outputs": [],
   "source": [
    "file_name = './GGF_VBF_CWoLa_training_results.csv'\n",
    "df = pd.read_csv(file_name)\n",
    "df = df.query(\"time > '2025-06-27' and time < '2025-06-28'\")"
   ]
  },
  {
   "cell_type": "code",
   "execution_count": 49,
   "metadata": {},
   "outputs": [
    {
     "name": "stdout",
     "output_type": "stream",
     "text": [
      "pure, pT normalized, remove photon: case 1\n",
      "ACC: 0.776 ± 0.001\n",
      "AUC: 0.853 ± 0.001\n",
      "True ACC and AUC\n",
      "ACC: 0.775 ± 0.001\n",
      "AUC: 0.852 ± 0.001\n",
      "$0.776 \\pm 0.001$ & $0.853 \\pm 0.001$ & $0.775 \\pm 0.001$ & $0.852 \\pm 0.001$\n",
      "\n"
     ]
    }
   ],
   "source": [
    "sample_type = 'pure, pT normalized, remove photon: case 1'\n",
    "print_ACC_AUC(df, sample_type)\n",
    "print()"
   ]
  },
  {
   "cell_type": "code",
   "execution_count": 50,
   "metadata": {},
   "outputs": [],
   "source": [
    "file_name = './GGF_VBF_CWoLa_training_results.csv'\n",
    "df = pd.read_csv(file_name)\n",
    "df = df.query(\"time > '2025-06-29' and time < '2025-06-30'\")"
   ]
  },
  {
   "cell_type": "code",
   "execution_count": 51,
   "metadata": {},
   "outputs": [
    {
     "name": "stdout",
     "output_type": "stream",
     "text": [
      "pure, pT normalized, remove product: case 4\n",
      "ACC: 0.838 ± 0.001\n",
      "AUC: 0.917 ± 0.001\n",
      "True ACC and AUC\n",
      "ACC: 0.841 ± 0.001\n",
      "AUC: 0.919 ± 0.001\n",
      "$0.838 \\pm 0.001$ & $0.917 \\pm 0.001$ & $0.841 \\pm 0.001$ & $0.919 \\pm 0.001$\n",
      "\n"
     ]
    }
   ],
   "source": [
    "sample_type = 'pure, pT normalized, remove product: case 4'\n",
    "print_ACC_AUC(df, sample_type)\n",
    "print()"
   ]
  },
  {
   "cell_type": "code",
   "execution_count": 52,
   "metadata": {},
   "outputs": [],
   "source": [
    "file_name = './GGF_VBF_CWoLa_training_results.csv'\n",
    "df = pd.read_csv(file_name)\n",
    "df = df.query(\"time > '2025-06-30' and time < '2025-07-01'\")"
   ]
  },
  {
   "cell_type": "code",
   "execution_count": 53,
   "metadata": {},
   "outputs": [
    {
     "name": "stdout",
     "output_type": "stream",
     "text": [
      "pure, pT normalized, remove product: case 5\n",
      "ACC: 0.789 ± 0.002\n",
      "AUC: 0.869 ± 0.001\n",
      "True ACC and AUC\n",
      "ACC: 0.793 ± 0.001\n",
      "AUC: 0.872 ± 0.001\n",
      "$0.789 \\pm 0.002$ & $0.869 \\pm 0.001$ & $0.793 \\pm 0.001$ & $0.872 \\pm 0.001$\n",
      "\n"
     ]
    }
   ],
   "source": [
    "sample_type = 'pure, pT normalized, remove product: case 5'\n",
    "print_ACC_AUC(df, sample_type)\n",
    "print()"
   ]
  },
  {
   "cell_type": "markdown",
   "metadata": {},
   "source": [
    "# Jet tagging with luminosity 12000 $\\text{fb}^{-1}$"
   ]
  },
  {
   "cell_type": "code",
   "execution_count": 54,
   "metadata": {},
   "outputs": [],
   "source": [
    "file_name = './GGF_VBF_CWoLa_training_results.csv'\n",
    "df = pd.read_csv(file_name)\n",
    "df = df.query(\"time > '2025-07-01' and time < '2025-07-02'\")"
   ]
  },
  {
   "cell_type": "code",
   "execution_count": 55,
   "metadata": {},
   "outputs": [
    {
     "name": "stdout",
     "output_type": "stream",
     "text": [
      "quark jet: = 2, L: 12000 fb^-1, pT normalized\n",
      "ACC: 0.643 ± 0.002\n",
      "AUC: 0.684 ± 0.003\n",
      "True ACC and AUC\n",
      "ACC: 0.689 ± 0.009\n",
      "AUC: 0.743 ± 0.011\n",
      "$0.643 \\pm 0.002$ & $0.684 \\pm 0.003$ & $0.689 \\pm 0.009$ & $0.743 \\pm 0.011$\n",
      "\n"
     ]
    }
   ],
   "source": [
    "sample_type = 'quark jet: = 2, L: 12000 fb^-1, pT normalized'\n",
    "print_ACC_AUC(df, sample_type)\n",
    "print()"
   ]
  },
  {
   "cell_type": "markdown",
   "metadata": {},
   "source": [
    "# Jet tagging with $\\log(p_\\mathrm{T})$"
   ]
  },
  {
   "cell_type": "code",
   "execution_count": 56,
   "metadata": {},
   "outputs": [],
   "source": [
    "file_name = './GGF_VBF_CWoLa_training_results.csv'\n",
    "df = pd.read_csv(file_name)\n",
    "df = df.query(\"time > '2025-07-15' and time < '2025-07-16'\")"
   ]
  },
  {
   "cell_type": "code",
   "execution_count": 57,
   "metadata": {},
   "outputs": [
    {
     "name": "stdout",
     "output_type": "stream",
     "text": [
      "quark jet: = 2, L: 3000 fb^-1, pT normalized, log pT\n",
      "ACC: 0.615 ± 0.006\n",
      "AUC: 0.635 ± 0.009\n",
      "True ACC and AUC\n",
      "ACC: 0.644 ± 0.010\n",
      "AUC: 0.694 ± 0.014\n",
      "$0.615 \\pm 0.006$ & $0.635 \\pm 0.009$ & $0.644 \\pm 0.010$ & $0.694 \\pm 0.014$\n",
      "\n"
     ]
    }
   ],
   "source": [
    "sample_type = 'quark jet: = 2, L: 3000 fb^-1, pT normalized, log pT'\n",
    "print_ACC_AUC(df, sample_type)\n",
    "print()"
   ]
  },
  {
   "cell_type": "markdown",
   "metadata": {},
   "source": [
    "# Jet tagging with event-CNN"
   ]
  },
  {
   "cell_type": "code",
   "execution_count": 58,
   "metadata": {},
   "outputs": [],
   "source": [
    "file_name = './GGF_VBF_CWoLa_training_results.csv'\n",
    "df = pd.read_csv(file_name)\n",
    "df = df.query(\"time > '2025-07-16' and time < '2025-07-17'\")"
   ]
  },
  {
   "cell_type": "code",
   "execution_count": 59,
   "metadata": {},
   "outputs": [
    {
     "name": "stdout",
     "output_type": "stream",
     "text": [
      "quark jet: = 2, L: 3000 fb^-1, pT normalized\n",
      "ACC: 0.624 ± 0.011\n",
      "AUC: 0.644 ± 0.021\n",
      "True ACC and AUC\n",
      "ACC: 0.679 ± 0.009\n",
      "AUC: 0.739 ± 0.012\n",
      "$0.624 \\pm 0.011$ & $0.644 \\pm 0.021$ & $0.679 \\pm 0.009$ & $0.739 \\pm 0.012$\n",
      "\n"
     ]
    }
   ],
   "source": [
    "sample_type = 'quark jet: = 2, L: 3000 fb^-1, pT normalized'\n",
    "print_ACC_AUC(df, sample_type)\n",
    "print()"
   ]
  },
  {
   "cell_type": "code",
   "execution_count": 60,
   "metadata": {},
   "outputs": [
    {
     "name": "stdout",
     "output_type": "stream",
     "text": [
      "pure, pT normalized\n",
      "ACC: 0.794 ± 0.001\n",
      "AUC: 0.873 ± 0.001\n",
      "True ACC and AUC\n",
      "ACC: 0.792 ± 0.001\n",
      "AUC: 0.871 ± 0.001\n",
      "$0.794 \\pm 0.001$ & $0.873 \\pm 0.001$ & $0.792 \\pm 0.001$ & $0.871 \\pm 0.001$\n",
      "\n"
     ]
    }
   ],
   "source": [
    "sample_type = 'pure, pT normalized'\n",
    "print_ACC_AUC(df, sample_type)\n",
    "print()"
   ]
  },
  {
   "cell_type": "code",
   "execution_count": 61,
   "metadata": {},
   "outputs": [],
   "source": [
    "file_name = './GGF_VBF_CWoLa_training_results.csv'\n",
    "df = pd.read_csv(file_name)\n",
    "df = df.query(\"time > '2025-07-19' and time < '2025-07-20'\")"
   ]
  },
  {
   "cell_type": "code",
   "execution_count": 62,
   "metadata": {},
   "outputs": [
    {
     "name": "stdout",
     "output_type": "stream",
     "text": [
      "quark jet: = 2, L: 3000 fb^-1, pT normalized, phi shifting: +5\n",
      "ACC: 0.649 ± 0.004\n",
      "AUC: 0.691 ± 0.005\n",
      "True ACC and AUC\n",
      "ACC: 0.681 ± 0.005\n",
      "AUC: 0.739 ± 0.005\n",
      "$0.649 \\pm 0.004$ & $0.691 \\pm 0.005$ & $0.681 \\pm 0.005$ & $0.739 \\pm 0.005$\n",
      "\n",
      "quark jet: = 2, L: 3000 fb^-1, pT normalized, phi shifting: +10\n",
      "ACC: 0.650 ± 0.004\n",
      "AUC: 0.692 ± 0.004\n",
      "True ACC and AUC\n",
      "ACC: 0.678 ± 0.007\n",
      "AUC: 0.735 ± 0.010\n",
      "$0.650 \\pm 0.004$ & $0.692 \\pm 0.004$ & $0.678 \\pm 0.007$ & $0.735 \\pm 0.010$\n",
      "\n",
      "quark jet: = 2, L: 3000 fb^-1, pT normalized, phi shifting: +15\n",
      "ACC: 0.651 ± 0.004\n",
      "AUC: 0.694 ± 0.005\n",
      "True ACC and AUC\n",
      "ACC: 0.676 ± 0.006\n",
      "AUC: 0.732 ± 0.007\n",
      "$0.651 \\pm 0.004$ & $0.694 \\pm 0.005$ & $0.676 \\pm 0.006$ & $0.732 \\pm 0.007$\n",
      "\n"
     ]
    }
   ],
   "source": [
    "sample_type = 'quark jet: = 2, L: 3000 fb^-1, pT normalized, phi shifting: +5'\n",
    "print_ACC_AUC(df, sample_type)\n",
    "print()\n",
    "\n",
    "sample_type = 'quark jet: = 2, L: 3000 fb^-1, pT normalized, phi shifting: +10'\n",
    "print_ACC_AUC(df, sample_type)\n",
    "print()\n",
    "\n",
    "sample_type = 'quark jet: = 2, L: 3000 fb^-1, pT normalized, phi shifting: +15'\n",
    "print_ACC_AUC(df, sample_type)\n",
    "print()"
   ]
  },
  {
   "cell_type": "markdown",
   "metadata": {},
   "source": [
    "## Remove photon information"
   ]
  },
  {
   "cell_type": "code",
   "execution_count": 63,
   "metadata": {},
   "outputs": [],
   "source": [
    "file_name = './GGF_VBF_CWoLa_training_results.csv'\n",
    "df = pd.read_csv(file_name)\n",
    "df = df.query(\"time > '2025-07-21' and time < '2025-07-22'\")"
   ]
  },
  {
   "cell_type": "code",
   "execution_count": 64,
   "metadata": {},
   "outputs": [
    {
     "name": "stdout",
     "output_type": "stream",
     "text": [
      "quark jet: = 2, L: 3000 fb^-1, pT normalized, remove photon: case 1\n",
      "ACC: 0.637 ± 0.012\n",
      "AUC: 0.667 ± 0.020\n",
      "True ACC and AUC\n",
      "ACC: 0.682 ± 0.004\n",
      "AUC: 0.740 ± 0.005\n",
      "$0.637 \\pm 0.012$ & $0.667 \\pm 0.020$ & $0.682 \\pm 0.004$ & $0.740 \\pm 0.005$\n",
      "\n"
     ]
    }
   ],
   "source": [
    "sample_type = 'quark jet: = 2, L: 3000 fb^-1, pT normalized, remove photon: case 1'\n",
    "print_ACC_AUC(df, sample_type)\n",
    "print()"
   ]
  },
  {
   "cell_type": "markdown",
   "metadata": {},
   "source": [
    "## with luminosity 12000 $\\text{fb}^{-1}$"
   ]
  },
  {
   "cell_type": "code",
   "execution_count": 65,
   "metadata": {},
   "outputs": [],
   "source": [
    "file_name = './GGF_VBF_CWoLa_training_results.csv'\n",
    "df = pd.read_csv(file_name)\n",
    "df = df.query(\"time > '2025-07-21' and time < '2025-07-22'\")"
   ]
  },
  {
   "cell_type": "code",
   "execution_count": 66,
   "metadata": {},
   "outputs": [
    {
     "name": "stdout",
     "output_type": "stream",
     "text": [
      "quark jet: = 2, L: 12000 fb^-1, pT normalized\n",
      "ACC: 0.655 ± 0.002\n",
      "AUC: 0.701 ± 0.003\n",
      "True ACC and AUC\n",
      "ACC: 0.683 ± 0.004\n",
      "AUC: 0.742 ± 0.005\n",
      "$0.655 \\pm 0.002$ & $0.701 \\pm 0.003$ & $0.683 \\pm 0.004$ & $0.742 \\pm 0.005$\n",
      "\n"
     ]
    }
   ],
   "source": [
    "sample_type = 'quark jet: = 2, L: 12000 fb^-1, pT normalized'\n",
    "print_ACC_AUC(df, sample_type)\n",
    "print()"
   ]
  },
  {
   "cell_type": "markdown",
   "metadata": {},
   "source": [
    "## with various luminosity 300, 900, 1800 $\\text{fb}^{-1}$"
   ]
  },
  {
   "cell_type": "code",
   "execution_count": 67,
   "metadata": {},
   "outputs": [],
   "source": [
    "file_name = './GGF_VBF_CWoLa_training_results.csv'\n",
    "df = pd.read_csv(file_name)\n",
    "df = df.query(\"time > '2025-07-30' and time < '2025-07-31'\")"
   ]
  },
  {
   "cell_type": "code",
   "execution_count": 68,
   "metadata": {},
   "outputs": [
    {
     "name": "stdout",
     "output_type": "stream",
     "text": [
      "quark jet: = 2, L: 300 fb^-1, pT normalized\n",
      "ACC: 0.610 ± 0.015\n",
      "AUC: 0.589 ± 0.036\n",
      "True ACC and AUC\n",
      "ACC: 0.606 ± 0.033\n",
      "AUC: 0.641 ± 0.045\n",
      "$0.610 \\pm 0.015$ & $0.589 \\pm 0.036$ & $0.606 \\pm 0.033$ & $0.641 \\pm 0.045$\n",
      "\n"
     ]
    }
   ],
   "source": [
    "sample_type = 'quark jet: = 2, L: 300 fb^-1, pT normalized'\n",
    "print_ACC_AUC(df, sample_type)\n",
    "print()"
   ]
  },
  {
   "cell_type": "code",
   "execution_count": 69,
   "metadata": {},
   "outputs": [
    {
     "name": "stdout",
     "output_type": "stream",
     "text": [
      "quark jet: = 2, L: 900 fb^-1, pT normalized\n",
      "ACC: 0.625 ± 0.007\n",
      "AUC: 0.628 ± 0.009\n",
      "True ACC and AUC\n",
      "ACC: 0.660 ± 0.014\n",
      "AUC: 0.715 ± 0.018\n",
      "$0.625 \\pm 0.007$ & $0.628 \\pm 0.009$ & $0.660 \\pm 0.014$ & $0.715 \\pm 0.018$\n",
      "\n"
     ]
    }
   ],
   "source": [
    "sample_type = 'quark jet: = 2, L: 900 fb^-1, pT normalized'\n",
    "print_ACC_AUC(df, sample_type)\n",
    "print()"
   ]
  },
  {
   "cell_type": "code",
   "execution_count": 70,
   "metadata": {},
   "outputs": [
    {
     "name": "stdout",
     "output_type": "stream",
     "text": [
      "quark jet: = 2, L: 1800 fb^-1, pT normalized\n",
      "ACC: 0.625 ± 0.010\n",
      "AUC: 0.644 ± 0.019\n",
      "True ACC and AUC\n",
      "ACC: 0.674 ± 0.009\n",
      "AUC: 0.732 ± 0.012\n",
      "$0.625 \\pm 0.010$ & $0.644 \\pm 0.019$ & $0.674 \\pm 0.009$ & $0.732 \\pm 0.012$\n",
      "\n"
     ]
    }
   ],
   "source": [
    "sample_type = 'quark jet: = 2, L: 1800 fb^-1, pT normalized'\n",
    "print_ACC_AUC(df, sample_type)\n",
    "print()"
   ]
  },
  {
   "cell_type": "markdown",
   "metadata": {},
   "source": [
    "## $H \\to ZZ \\to 4\\ell$ channel"
   ]
  },
  {
   "cell_type": "code",
   "execution_count": 71,
   "metadata": {},
   "outputs": [],
   "source": [
    "file_name = './GGF_VBF_CWoLa_training_results.csv'\n",
    "df = pd.read_csv(file_name)\n",
    "df = df.query(\"time > '2025-07-30' and time < '2025-07-31'\")"
   ]
  },
  {
   "cell_type": "code",
   "execution_count": 72,
   "metadata": {},
   "outputs": [
    {
     "name": "stdout",
     "output_type": "stream",
     "text": [
      "quark jet: = 2, L: 3000 fb^-1, pT normalized, ZZ4l\n",
      "ACC: 0.575 ± 0.012\n",
      "AUC: 0.508 ± 0.039\n",
      "True ACC and AUC\n",
      "ACC: 0.538 ± 0.026\n",
      "AUC: 0.543 ± 0.035\n",
      "$0.575 \\pm 0.012$ & $0.508 \\pm 0.039$ & $0.538 \\pm 0.026$ & $0.543 \\pm 0.035$\n"
     ]
    }
   ],
   "source": [
    "sample_type = 'quark jet: = 2, L: 3000 fb^-1, pT normalized, ZZ4l'\n",
    "print_ACC_AUC(df, sample_type)"
   ]
  },
  {
   "cell_type": "code",
   "execution_count": 73,
   "metadata": {},
   "outputs": [
    {
     "name": "stdout",
     "output_type": "stream",
     "text": [
      "quark jet: = 2, L: 30000 fb^-1, pT normalized, ZZ4l\n",
      "ACC: 0.601 ± 0.010\n",
      "AUC: 0.621 ± 0.012\n",
      "True ACC and AUC\n",
      "ACC: 0.732 ± 0.018\n",
      "AUC: 0.800 ± 0.023\n",
      "$0.601 \\pm 0.010$ & $0.621 \\pm 0.012$ & $0.732 \\pm 0.018$ & $0.800 \\pm 0.023$\n"
     ]
    }
   ],
   "source": [
    "sample_type = 'quark jet: = 2, L: 30000 fb^-1, pT normalized, ZZ4l'\n",
    "print_ACC_AUC(df, sample_type)"
   ]
  },
  {
   "cell_type": "code",
   "execution_count": 74,
   "metadata": {},
   "outputs": [
    {
     "name": "stdout",
     "output_type": "stream",
     "text": [
      "quark jet: = 2, L: 30000 fb^-1, pT normalized, ZZ4l, remove product: case 5\n",
      "ACC: 0.606 ± 0.010\n",
      "AUC: 0.626 ± 0.012\n",
      "True ACC and AUC\n",
      "ACC: 0.645 ± 0.006\n",
      "AUC: 0.697 ± 0.009\n",
      "$0.606 \\pm 0.010$ & $0.626 \\pm 0.012$ & $0.645 \\pm 0.006$ & $0.697 \\pm 0.009$\n"
     ]
    }
   ],
   "source": [
    "sample_type = 'quark jet: = 2, L: 30000 fb^-1, pT normalized, ZZ4l, remove product: case 5'\n",
    "print_ACC_AUC(df, sample_type)"
   ]
  },
  {
   "cell_type": "markdown",
   "metadata": {},
   "source": [
    "## $H \\to \\gamma\\gamma$ channel with luminosity 300 $\\text{fb}^{-1}$ without decay product + $\\phi$ shifting"
   ]
  },
  {
   "cell_type": "code",
   "execution_count": 75,
   "metadata": {},
   "outputs": [],
   "source": [
    "file_name = './GGF_VBF_CWoLa_training_results.csv'\n",
    "df = pd.read_csv(file_name)\n",
    "df = df.query(\"time > '2025-07-30' and time < '2025-07-31'\")"
   ]
  },
  {
   "cell_type": "code",
   "execution_count": 76,
   "metadata": {},
   "outputs": [
    {
     "name": "stdout",
     "output_type": "stream",
     "text": [
      "quark jet: = 2, L: 300 fb^-1, pT normalized, remove photon: case 1\n",
      "ACC: 0.624 ± 0.014\n",
      "AUC: 0.624 ± 0.019\n",
      "True ACC and AUC\n",
      "ACC: 0.666 ± 0.013\n",
      "AUC: 0.722 ± 0.016\n",
      "$0.624 \\pm 0.014$ & $0.624 \\pm 0.019$ & $0.666 \\pm 0.013$ & $0.722 \\pm 0.016$\n"
     ]
    }
   ],
   "source": [
    "sample_type = 'quark jet: = 2, L: 300 fb^-1, pT normalized, remove photon: case 1'\n",
    "print_ACC_AUC(df, sample_type)"
   ]
  },
  {
   "cell_type": "code",
   "execution_count": 77,
   "metadata": {},
   "outputs": [
    {
     "name": "stdout",
     "output_type": "stream",
     "text": [
      "quark jet: = 2, L: 300 fb^-1, pT normalized, remove photon: case 1, phi shifting: +5\n",
      "ACC: 0.628 ± 0.011\n",
      "AUC: 0.645 ± 0.014\n",
      "True ACC and AUC\n",
      "ACC: 0.664 ± 0.009\n",
      "AUC: 0.721 ± 0.010\n",
      "$0.628 \\pm 0.011$ & $0.645 \\pm 0.014$ & $0.664 \\pm 0.009$ & $0.721 \\pm 0.010$\n",
      "\n",
      "quark jet: = 2, L: 300 fb^-1, pT normalized, remove photon: case 1, phi shifting: +10\n",
      "ACC: 0.626 ± 0.009\n",
      "AUC: 0.649 ± 0.014\n",
      "True ACC and AUC\n",
      "ACC: 0.666 ± 0.007\n",
      "AUC: 0.723 ± 0.009\n",
      "$0.626 \\pm 0.009$ & $0.649 \\pm 0.014$ & $0.666 \\pm 0.007$ & $0.723 \\pm 0.009$\n",
      "\n",
      "quark jet: = 2, L: 300 fb^-1, pT normalized, remove photon: case 1, phi shifting: +15\n",
      "ACC: 0.630 ± 0.011\n",
      "AUC: 0.651 ± 0.014\n",
      "True ACC and AUC\n",
      "ACC: 0.667 ± 0.007\n",
      "AUC: 0.724 ± 0.009\n",
      "$0.630 \\pm 0.011$ & $0.651 \\pm 0.014$ & $0.667 \\pm 0.007$ & $0.724 \\pm 0.009$\n"
     ]
    }
   ],
   "source": [
    "sample_type = 'quark jet: = 2, L: 300 fb^-1, pT normalized, remove photon: case 1, phi shifting: +5'\n",
    "print_ACC_AUC(df, sample_type)\n",
    "print()\n",
    "\n",
    "sample_type = 'quark jet: = 2, L: 300 fb^-1, pT normalized, remove photon: case 1, phi shifting: +10'\n",
    "print_ACC_AUC(df, sample_type)\n",
    "print()\n",
    "\n",
    "sample_type = 'quark jet: = 2, L: 300 fb^-1, pT normalized, remove photon: case 1, phi shifting: +15'\n",
    "print_ACC_AUC(df, sample_type)"
   ]
  },
  {
   "cell_type": "markdown",
   "metadata": {},
   "source": [
    "## $H \\to \\gamma\\gamma$ channel with various luminosity $\\text{fb}^{-1}$ without decay product "
   ]
  },
  {
   "cell_type": "code",
   "execution_count": 78,
   "metadata": {},
   "outputs": [],
   "source": [
    "file_name = './GGF_VBF_CWoLa_training_results.csv'\n",
    "df = pd.read_csv(file_name)\n",
    "df = df.query(\"time > '2025-07-31' and time < '2025-08-01'\")"
   ]
  },
  {
   "cell_type": "code",
   "execution_count": 79,
   "metadata": {},
   "outputs": [
    {
     "name": "stdout",
     "output_type": "stream",
     "text": [
      "quark jet: = 2, L: 100 fb^-1, pT normalized\n",
      "ACC: 0.601 ± 0.012\n",
      "AUC: 0.537 ± 0.061\n",
      "True ACC and AUC\n",
      "ACC: 0.560 ± 0.031\n",
      "AUC: 0.577 ± 0.045\n",
      "$0.601 \\pm 0.012$ & $0.537 \\pm 0.061$ & $0.560 \\pm 0.031$ & $0.577 \\pm 0.045$\n",
      "\n",
      "quark jet: = 2, L: 300 fb^-1, pT normalized\n",
      "ACC: 0.614 ± 0.016\n",
      "AUC: 0.597 ± 0.057\n",
      "True ACC and AUC\n",
      "ACC: 0.619 ± 0.047\n",
      "AUC: 0.658 ± 0.067\n",
      "$0.614 \\pm 0.016$ & $0.597 \\pm 0.057$ & $0.619 \\pm 0.047$ & $0.658 \\pm 0.067$\n",
      "\n",
      "quark jet: = 2, L: 900 fb^-1, pT normalized\n",
      "ACC: 0.625 ± 0.007\n",
      "AUC: 0.631 ± 0.013\n",
      "True ACC and AUC\n",
      "ACC: 0.664 ± 0.009\n",
      "AUC: 0.719 ± 0.011\n",
      "$0.625 \\pm 0.007$ & $0.631 \\pm 0.013$ & $0.664 \\pm 0.009$ & $0.719 \\pm 0.011$\n",
      "\n",
      "quark jet: = 2, L: 1800 fb^-1, pT normalized\n",
      "ACC: 0.622 ± 0.007\n",
      "AUC: 0.639 ± 0.013\n",
      "True ACC and AUC\n",
      "ACC: 0.681 ± 0.007\n",
      "AUC: 0.741 ± 0.009\n",
      "$0.622 \\pm 0.007$ & $0.639 \\pm 0.013$ & $0.681 \\pm 0.007$ & $0.741 \\pm 0.009$\n",
      "\n",
      "quark jet: = 2, L: 3000 fb^-1, pT normalized\n",
      "ACC: 0.628 ± 0.013\n",
      "AUC: 0.651 ± 0.023\n",
      "True ACC and AUC\n",
      "ACC: 0.683 ± 0.009\n",
      "AUC: 0.742 ± 0.012\n",
      "$0.628 \\pm 0.013$ & $0.651 \\pm 0.023$ & $0.683 \\pm 0.009$ & $0.742 \\pm 0.012$\n"
     ]
    }
   ],
   "source": [
    "sample_type = 'quark jet: = 2, L: 100 fb^-1, pT normalized'\n",
    "print_ACC_AUC(df, sample_type)\n",
    "print()\n",
    "\n",
    "sample_type = 'quark jet: = 2, L: 300 fb^-1, pT normalized'\n",
    "print_ACC_AUC(df, sample_type)\n",
    "print()\n",
    "\n",
    "sample_type = 'quark jet: = 2, L: 900 fb^-1, pT normalized'\n",
    "print_ACC_AUC(df, sample_type)\n",
    "print()\n",
    "\n",
    "sample_type = 'quark jet: = 2, L: 1800 fb^-1, pT normalized'\n",
    "print_ACC_AUC(df, sample_type)\n",
    "print()\n",
    "\n",
    "sample_type = 'quark jet: = 2, L: 3000 fb^-1, pT normalized'\n",
    "print_ACC_AUC(df, sample_type)"
   ]
  },
  {
   "cell_type": "code",
   "execution_count": 80,
   "metadata": {},
   "outputs": [
    {
     "name": "stdout",
     "output_type": "stream",
     "text": [
      "quark jet: = 2, L: 100 fb^-1, pT normalized, remove photon: case 1\n",
      "ACC: 0.627 ± 0.028\n",
      "AUC: 0.601 ± 0.066\n",
      "True ACC and AUC\n",
      "ACC: 0.617 ± 0.064\n",
      "AUC: 0.655 ± 0.093\n",
      "$0.627 \\pm 0.028$ & $0.601 \\pm 0.066$ & $0.617 \\pm 0.064$ & $0.655 \\pm 0.093$\n",
      "\n",
      "quark jet: = 2, L: 300 fb^-1, pT normalized, remove photon: case 1\n",
      "ACC: 0.620 ± 0.010\n",
      "AUC: 0.620 ± 0.010\n",
      "True ACC and AUC\n",
      "ACC: 0.665 ± 0.007\n",
      "AUC: 0.721 ± 0.009\n",
      "$0.620 \\pm 0.010$ & $0.620 \\pm 0.010$ & $0.665 \\pm 0.007$ & $0.721 \\pm 0.009$\n",
      "\n",
      "quark jet: = 2, L: 900 fb^-1, pT normalized, remove photon: case 1\n",
      "ACC: 0.630 ± 0.007\n",
      "AUC: 0.645 ± 0.012\n",
      "True ACC and AUC\n",
      "ACC: 0.676 ± 0.008\n",
      "AUC: 0.734 ± 0.008\n",
      "$0.630 \\pm 0.007$ & $0.645 \\pm 0.012$ & $0.676 \\pm 0.008$ & $0.734 \\pm 0.008$\n",
      "\n",
      "quark jet: = 2, L: 1800 fb^-1, pT normalized, remove photon: case 1\n",
      "ACC: 0.636 ± 0.006\n",
      "AUC: 0.666 ± 0.008\n",
      "True ACC and AUC\n",
      "ACC: 0.681 ± 0.003\n",
      "AUC: 0.740 ± 0.006\n",
      "$0.636 \\pm 0.006$ & $0.666 \\pm 0.008$ & $0.681 \\pm 0.003$ & $0.740 \\pm 0.006$\n",
      "\n",
      "quark jet: = 2, L: 3000 fb^-1, pT normalized, remove photon: case 1\n",
      "ACC: 0.640 ± 0.007\n",
      "AUC: 0.672 ± 0.013\n",
      "True ACC and AUC\n",
      "ACC: 0.684 ± 0.004\n",
      "AUC: 0.743 ± 0.005\n",
      "$0.640 \\pm 0.007$ & $0.672 \\pm 0.013$ & $0.684 \\pm 0.004$ & $0.743 \\pm 0.005$\n"
     ]
    }
   ],
   "source": [
    "sample_type = 'quark jet: = 2, L: 100 fb^-1, pT normalized, remove photon: case 1'\n",
    "print_ACC_AUC(df, sample_type)\n",
    "print()\n",
    "\n",
    "sample_type = 'quark jet: = 2, L: 300 fb^-1, pT normalized, remove photon: case 1'\n",
    "print_ACC_AUC(df, sample_type)\n",
    "print()\n",
    "\n",
    "sample_type = 'quark jet: = 2, L: 900 fb^-1, pT normalized, remove photon: case 1'\n",
    "print_ACC_AUC(df, sample_type)\n",
    "print()\n",
    "\n",
    "sample_type = 'quark jet: = 2, L: 1800 fb^-1, pT normalized, remove photon: case 1'\n",
    "print_ACC_AUC(df, sample_type)\n",
    "print()\n",
    "\n",
    "sample_type = 'quark jet: = 2, L: 3000 fb^-1, pT normalized, remove photon: case 1'\n",
    "print_ACC_AUC(df, sample_type)"
   ]
  },
  {
   "cell_type": "code",
   "execution_count": 81,
   "metadata": {},
   "outputs": [
    {
     "data": {
      "image/png": "[encoded data removed]",
      "text/plain": [
       "<Figure size 500x400 with 1 Axes>"
      ]
     },
     "metadata": {},
     "output_type": "display_data"
    }
   ],
   "source": [
    "def plot_luminosity_vs_AUC(ax, df, sample_type_pattern, luminosities, label=None):\n",
    "    AUCs, AUC_errors = [], []\n",
    "    for L in luminosities:\n",
    "        sample_type = sample_type_pattern.format(L)\n",
    "        AUC = df[df['Sample Type'] == sample_type]['AUC-true']\n",
    "        AUCs.append(AUC.mean())\n",
    "        AUC_errors.append(AUC.std())\n",
    "    ax.errorbar(luminosities, AUCs, yerr=AUC_errors, fmt='o-', label=label)\n",
    "\n",
    "\n",
    "fig, ax = plt.subplots(figsize=(5, 4))\n",
    "\n",
    "sample_type_pattern = 'quark jet: = 2, L: {} fb^-1, pT normalized, remove photon: case 1'\n",
    "luminosities = [100, 300, 900, 1800, 3000]\n",
    "plot_luminosity_vs_AUC(ax, df, sample_type_pattern, luminosities, label='w/o photon')\n",
    "\n",
    "sample_type_pattern = 'quark jet: = 2, L: {} fb^-1, pT normalized'\n",
    "plot_luminosity_vs_AUC(ax, df, sample_type_pattern, luminosities, label='w/ photon')\n",
    "\n",
    "ax.set_xscale('log')\n",
    "ax.set_xlabel('Luminosity [fb$^{-1}$]')\n",
    "ax.set_ylabel('AUC (pure events)')\n",
    "ax.set_title('Event-CNN')\n",
    "ax.legend(frameon=False, loc='lower right')\n",
    "\n",
    "# plt.savefig('../figures/event_CNN_AUC-true_L.pdf', dpi=300, facecolor='White', bbox_inches='tight')\n",
    "plt.show()\n"
   ]
  },
  {
   "cell_type": "markdown",
   "metadata": {},
   "source": [
    "## $H \\to \\gamma\\gamma$ channel with luminosity 100 $\\text{fb}^{-1}$ without decay product + $\\phi$ shifting"
   ]
  },
  {
   "cell_type": "code",
   "execution_count": 82,
   "metadata": {},
   "outputs": [],
   "source": [
    "file_name = './GGF_VBF_CWoLa_training_results.csv'\n",
    "df = pd.read_csv(file_name)\n",
    "df = df.query(\"time > '2025-07-31' and time < '2025-08-01'\")"
   ]
  },
  {
   "cell_type": "code",
   "execution_count": 83,
   "metadata": {},
   "outputs": [
    {
     "name": "stdout",
     "output_type": "stream",
     "text": [
      "quark jet: = 2, L: 100 fb^-1, pT normalized, remove photon: case 1\n",
      "ACC: 0.627 ± 0.028\n",
      "AUC: 0.601 ± 0.066\n",
      "True ACC and AUC\n",
      "ACC: 0.617 ± 0.064\n",
      "AUC: 0.655 ± 0.093\n",
      "$0.627 \\pm 0.028$ & $0.601 \\pm 0.066$ & $0.617 \\pm 0.064$ & $0.655 \\pm 0.093$\n"
     ]
    }
   ],
   "source": [
    "sample_type = 'quark jet: = 2, L: 100 fb^-1, pT normalized, remove photon: case 1'\n",
    "print_ACC_AUC(df, sample_type)"
   ]
  },
  {
   "cell_type": "code",
   "execution_count": 84,
   "metadata": {},
   "outputs": [
    {
     "name": "stdout",
     "output_type": "stream",
     "text": [
      "quark jet: = 2, L: 100 fb^-1, pT normalized, remove photon: case 1, phi shifting: +5\n",
      "ACC: 0.623 ± 0.017\n",
      "AUC: 0.621 ± 0.036\n",
      "True ACC and AUC\n",
      "ACC: 0.657 ± 0.019\n",
      "AUC: 0.709 ± 0.024\n",
      "$0.623 \\pm 0.017$ & $0.621 \\pm 0.036$ & $0.657 \\pm 0.019$ & $0.709 \\pm 0.024$\n",
      "\n",
      "quark jet: = 2, L: 100 fb^-1, pT normalized, remove photon: case 1, phi shifting: +10\n",
      "ACC: 0.627 ± 0.018\n",
      "AUC: 0.634 ± 0.033\n",
      "True ACC and AUC\n",
      "ACC: 0.663 ± 0.011\n",
      "AUC: 0.718 ± 0.015\n",
      "$0.627 \\pm 0.018$ & $0.634 \\pm 0.033$ & $0.663 \\pm 0.011$ & $0.718 \\pm 0.015$\n",
      "\n",
      "quark jet: = 2, L: 100 fb^-1, pT normalized, remove photon: case 1, phi shifting: +15\n",
      "ACC: 0.627 ± 0.016\n",
      "AUC: 0.635 ± 0.034\n",
      "True ACC and AUC\n",
      "ACC: 0.660 ± 0.009\n",
      "AUC: 0.713 ± 0.011\n",
      "$0.627 \\pm 0.016$ & $0.635 \\pm 0.034$ & $0.660 \\pm 0.009$ & $0.713 \\pm 0.011$\n"
     ]
    }
   ],
   "source": [
    "sample_type = 'quark jet: = 2, L: 100 fb^-1, pT normalized, remove photon: case 1, phi shifting: +5'\n",
    "print_ACC_AUC(df, sample_type)\n",
    "print()\n",
    "\n",
    "sample_type = 'quark jet: = 2, L: 100 fb^-1, pT normalized, remove photon: case 1, phi shifting: +10'\n",
    "print_ACC_AUC(df, sample_type)\n",
    "print()\n",
    "\n",
    "sample_type = 'quark jet: = 2, L: 100 fb^-1, pT normalized, remove photon: case 1, phi shifting: +15'\n",
    "print_ACC_AUC(df, sample_type)"
   ]
  },
  {
   "cell_type": "markdown",
   "metadata": {},
   "source": [
    "## Superviesed learning"
   ]
  },
  {
   "cell_type": "code",
   "execution_count": 85,
   "metadata": {},
   "outputs": [],
   "source": [
    "file_name = './GGF_VBF_CWoLa_training_results.csv'\n",
    "df = pd.read_csv(file_name)\n",
    "df = df.query(\"time > '2025-07-16' and time < '2025-07-17'\")"
   ]
  },
  {
   "cell_type": "code",
   "execution_count": 86,
   "metadata": {},
   "outputs": [
    {
     "name": "stdout",
     "output_type": "stream",
     "text": [
      "pure, pT normalized\n",
      "ACC: 0.794 ± 0.001\n",
      "AUC: 0.873 ± 0.001\n",
      "True ACC and AUC\n",
      "ACC: 0.792 ± 0.001\n",
      "AUC: 0.871 ± 0.001\n",
      "$0.794 \\pm 0.001$ & $0.873 \\pm 0.001$ & $0.792 \\pm 0.001$ & $0.871 \\pm 0.001$\n",
      "\n"
     ]
    }
   ],
   "source": [
    "sample_type = 'pure, pT normalized'\n",
    "print_ACC_AUC(df, sample_type)\n",
    "print()"
   ]
  },
  {
   "cell_type": "code",
   "execution_count": 87,
   "metadata": {},
   "outputs": [],
   "source": [
    "file_name = './GGF_VBF_CWoLa_training_results.csv'\n",
    "df = pd.read_csv(file_name)\n",
    "df = df.query(\"time > '2025-08-06' and time < '2025-08-07'\")"
   ]
  },
  {
   "cell_type": "code",
   "execution_count": 88,
   "metadata": {},
   "outputs": [
    {
     "name": "stdout",
     "output_type": "stream",
     "text": [
      "pure, pT normalized, remove photon: case 1\n",
      "ACC: 0.784 ± 0.001\n",
      "AUC: 0.864 ± 0.000\n",
      "True ACC and AUC\n",
      "ACC: 0.784 ± 0.001\n",
      "AUC: 0.862 ± 0.001\n",
      "$0.784 \\pm 0.001$ & $0.864 \\pm 0.000$ & $0.784 \\pm 0.001$ & $0.862 \\pm 0.001$\n",
      "\n"
     ]
    }
   ],
   "source": [
    "sample_type = 'pure, pT normalized, remove photon: case 1'\n",
    "print_ACC_AUC(df, sample_type)\n",
    "print()"
   ]
  },
  {
   "cell_type": "markdown",
   "metadata": {},
   "source": [
    "# Yian's sample"
   ]
  },
  {
   "cell_type": "markdown",
   "metadata": {},
   "source": [
    "## Superviesed learning"
   ]
  },
  {
   "cell_type": "code",
   "execution_count": 89,
   "metadata": {},
   "outputs": [],
   "source": [
    "file_name = './GGF_VBF_CWoLa_training_results.csv'\n",
    "df = pd.read_csv(file_name)\n",
    "df = df.query(\"time > '2025-08-28' and time < '2025-08-29'\")"
   ]
  },
  {
   "cell_type": "code",
   "execution_count": 90,
   "metadata": {},
   "outputs": [
    {
     "name": "stdout",
     "output_type": "stream",
     "text": [
      "pure, pT normalized, w/ photon, yian-0826\n",
      "ACC: 0.782 ± 0.001\n",
      "AUC: 0.861 ± 0.001\n",
      "True ACC and AUC\n",
      "ACC: 0.782 ± 0.001\n",
      "AUC: 0.859 ± 0.001\n",
      "$0.782 \\pm 0.001$ & $0.861 \\pm 0.001$ & $0.782 \\pm 0.001$ & $0.859 \\pm 0.001$\n",
      "\n",
      "pure, pT normalized, w/o photon, yian-0826\n",
      "ACC: 0.782 ± 0.002\n",
      "AUC: 0.860 ± 0.002\n",
      "True ACC and AUC\n",
      "ACC: 0.781 ± 0.001\n",
      "AUC: 0.858 ± 0.001\n",
      "$0.782 \\pm 0.002$ & $0.860 \\pm 0.002$ & $0.781 \\pm 0.001$ & $0.858 \\pm 0.001$\n"
     ]
    }
   ],
   "source": [
    "sample_type = 'pure, pT normalized, w/ photon, yian-0826'\n",
    "print_ACC_AUC(df, sample_type)\n",
    "print()\n",
    "\n",
    "sample_type = 'pure, pT normalized, w/o photon, yian-0826'\n",
    "print_ACC_AUC(df, sample_type)"
   ]
  },
  {
   "cell_type": "markdown",
   "metadata": {},
   "source": [
    "## CWoLa"
   ]
  },
  {
   "cell_type": "code",
   "execution_count": 91,
   "metadata": {},
   "outputs": [],
   "source": [
    "import numpy as np\n",
    "\n",
    "def get_AUCs_and_errors(df, sample_type_pattern, luminosities):\n",
    "    AUCs, AUC_errors = [], []\n",
    "    for L in luminosities:\n",
    "        sample_type = sample_type_pattern.format(L)\n",
    "        AUC = df[df['Sample Type'] == sample_type]['AUC-true']\n",
    "        AUCs.append(AUC.mean())\n",
    "        AUC_errors.append(AUC.std())\n",
    "    return AUCs, AUC_errors\n",
    "\n",
    "def offset_errorbar(ax, x, y, yerr, offset, color, **kwargs):\n",
    "    x = np.array(x)\n",
    "    ax.plot(x, y, label='mean', color=color)\n",
    "    ax.errorbar(x * offset, y, yerr=yerr, label='error', **kwargs)\n",
    "\n",
    "def plot_luminosity_vs_AUC(ax, df, sample_type_pattern, luminosities, color, offset=0.1, **kwargs):\n",
    "    AUCs, AUC_errors = [], []\n",
    "    for L in luminosities:\n",
    "        sample_type = sample_type_pattern.format(L)\n",
    "        AUC = df[df['Sample Type'] == sample_type]['AUC-true']\n",
    "        AUCs.append(AUC.mean())\n",
    "        AUC_errors.append(AUC.std())\n",
    "    # ax.errorbar(luminosities, AUCs, yerr=AUC_errors, fmt='o-', label=label)\n",
    "    \n",
    "    offset_errorbar(ax, luminosities, AUCs, AUC_errors, offset=offset, color=color, **kwargs)"
   ]
  },
  {
   "cell_type": "code",
   "execution_count": 92,
   "metadata": {},
   "outputs": [],
   "source": [
    "file_name = './GGF_VBF_CWoLa_training_results.csv'\n",
    "df = pd.read_csv(file_name)\n",
    "df = df.query(\"time > '2025-08-28' and time < '2025-08-29'\")"
   ]
  },
  {
   "cell_type": "code",
   "execution_count": 93,
   "metadata": {},
   "outputs": [
    {
     "name": "stdout",
     "output_type": "stream",
     "text": [
      "quark jet: = 2, L: 100 fb^-1, pT normalized, w/ photon, yian-0826\n",
      "ACC: 0.604 ± 0.017\n",
      "AUC: 0.517 ± 0.054\n",
      "True ACC and AUC\n",
      "ACC: 0.560 ± 0.046\n",
      "AUC: 0.572 ± 0.074\n",
      "$0.604 \\pm 0.017$ & $0.517 \\pm 0.054$ & $0.560 \\pm 0.046$ & $0.572 \\pm 0.074$\n",
      "\n",
      "quark jet: = 2, L: 300 fb^-1, pT normalized, w/ photon, yian-0826\n",
      "ACC: 0.603 ± 0.009\n",
      "AUC: 0.585 ± 0.021\n",
      "True ACC and AUC\n",
      "ACC: 0.620 ± 0.006\n",
      "AUC: 0.662 ± 0.009\n",
      "$0.603 \\pm 0.009$ & $0.585 \\pm 0.021$ & $0.620 \\pm 0.006$ & $0.662 \\pm 0.009$\n",
      "\n",
      "quark jet: = 2, L: 900 fb^-1, pT normalized, w/ photon, yian-0826\n",
      "ACC: 0.609 ± 0.006\n",
      "AUC: 0.606 ± 0.011\n",
      "True ACC and AUC\n",
      "ACC: 0.640 ± 0.005\n",
      "AUC: 0.694 ± 0.007\n",
      "$0.609 \\pm 0.006$ & $0.606 \\pm 0.011$ & $0.640 \\pm 0.005$ & $0.694 \\pm 0.007$\n",
      "\n",
      "quark jet: = 2, L: 1800 fb^-1, pT normalized, w/ photon, yian-0826\n",
      "ACC: 0.609 ± 0.006\n",
      "AUC: 0.616 ± 0.013\n",
      "True ACC and AUC\n",
      "ACC: 0.652 ± 0.011\n",
      "AUC: 0.708 ± 0.015\n",
      "$0.609 \\pm 0.006$ & $0.616 \\pm 0.013$ & $0.652 \\pm 0.011$ & $0.708 \\pm 0.015$\n",
      "\n",
      "quark jet: = 2, L: 3000 fb^-1, pT normalized, w/ photon, yian-0826\n",
      "ACC: 0.615 ± 0.005\n",
      "AUC: 0.630 ± 0.012\n",
      "True ACC and AUC\n",
      "ACC: 0.665 ± 0.015\n",
      "AUC: 0.724 ± 0.018\n",
      "$0.615 \\pm 0.005$ & $0.630 \\pm 0.012$ & $0.665 \\pm 0.015$ & $0.724 \\pm 0.018$\n"
     ]
    }
   ],
   "source": [
    "sample_type = 'quark jet: = 2, L: 100 fb^-1, pT normalized, w/ photon, yian-0826'\n",
    "\n",
    "print_ACC_AUC(df, sample_type)\n",
    "print()\n",
    "\n",
    "sample_type = 'quark jet: = 2, L: 300 fb^-1, pT normalized, w/ photon, yian-0826'\n",
    "print_ACC_AUC(df, sample_type)\n",
    "print()\n",
    "\n",
    "sample_type = 'quark jet: = 2, L: 900 fb^-1, pT normalized, w/ photon, yian-0826'\n",
    "print_ACC_AUC(df, sample_type)\n",
    "print()\n",
    "\n",
    "sample_type = 'quark jet: = 2, L: 1800 fb^-1, pT normalized, w/ photon, yian-0826'\n",
    "print_ACC_AUC(df, sample_type)\n",
    "print()\n",
    "\n",
    "sample_type = 'quark jet: = 2, L: 3000 fb^-1, pT normalized, w/ photon, yian-0826'\n",
    "print_ACC_AUC(df, sample_type)"
   ]
  },
  {
   "cell_type": "code",
   "execution_count": 94,
   "metadata": {},
   "outputs": [
    {
     "name": "stdout",
     "output_type": "stream",
     "text": [
      "quark jet: = 2, L: 100 fb^-1, pT normalized, w/o photon, yian-0826\n",
      "ACC: 0.608 ± 0.023\n",
      "AUC: 0.541 ± 0.069\n",
      "True ACC and AUC\n",
      "ACC: 0.553 ± 0.039\n",
      "AUC: 0.563 ± 0.061\n",
      "$0.608 \\pm 0.023$ & $0.541 \\pm 0.069$ & $0.553 \\pm 0.039$ & $0.563 \\pm 0.061$\n",
      "\n",
      "quark jet: = 2, L: 300 fb^-1, pT normalized, w/o photon, yian-0826\n",
      "ACC: 0.607 ± 0.009\n",
      "AUC: 0.590 ± 0.026\n",
      "True ACC and AUC\n",
      "ACC: 0.610 ± 0.024\n",
      "AUC: 0.651 ± 0.034\n",
      "$0.607 \\pm 0.009$ & $0.590 \\pm 0.026$ & $0.610 \\pm 0.024$ & $0.651 \\pm 0.034$\n",
      "\n",
      "quark jet: = 2, L: 900 fb^-1, pT normalized, w/o photon, yian-0826\n",
      "ACC: 0.611 ± 0.005\n",
      "AUC: 0.612 ± 0.012\n",
      "True ACC and AUC\n",
      "ACC: 0.637 ± 0.009\n",
      "AUC: 0.691 ± 0.011\n",
      "$0.611 \\pm 0.005$ & $0.612 \\pm 0.012$ & $0.637 \\pm 0.009$ & $0.691 \\pm 0.011$\n",
      "\n",
      "quark jet: = 2, L: 1800 fb^-1, pT normalized, w/o photon, yian-0826\n",
      "ACC: 0.611 ± 0.007\n",
      "AUC: 0.619 ± 0.013\n",
      "True ACC and AUC\n",
      "ACC: 0.656 ± 0.017\n",
      "AUC: 0.712 ± 0.021\n",
      "$0.611 \\pm 0.007$ & $0.619 \\pm 0.013$ & $0.656 \\pm 0.017$ & $0.712 \\pm 0.021$\n",
      "\n",
      "quark jet: = 2, L: 3000 fb^-1, pT normalized, w/o photon, yian-0826\n",
      "ACC: 0.620 ± 0.009\n",
      "AUC: 0.640 ± 0.018\n",
      "True ACC and AUC\n",
      "ACC: 0.669 ± 0.016\n",
      "AUC: 0.728 ± 0.020\n",
      "$0.620 \\pm 0.009$ & $0.640 \\pm 0.018$ & $0.669 \\pm 0.016$ & $0.728 \\pm 0.020$\n"
     ]
    }
   ],
   "source": [
    "sample_type = 'quark jet: = 2, L: 100 fb^-1, pT normalized, w/o photon, yian-0826'\n",
    "\n",
    "print_ACC_AUC(df, sample_type)\n",
    "print()\n",
    "\n",
    "sample_type = 'quark jet: = 2, L: 300 fb^-1, pT normalized, w/o photon, yian-0826'\n",
    "print_ACC_AUC(df, sample_type)\n",
    "print()\n",
    "\n",
    "sample_type = 'quark jet: = 2, L: 900 fb^-1, pT normalized, w/o photon, yian-0826'\n",
    "print_ACC_AUC(df, sample_type)\n",
    "print()\n",
    "\n",
    "sample_type = 'quark jet: = 2, L: 1800 fb^-1, pT normalized, w/o photon, yian-0826'\n",
    "print_ACC_AUC(df, sample_type)\n",
    "print()\n",
    "\n",
    "sample_type = 'quark jet: = 2, L: 3000 fb^-1, pT normalized, w/o photon, yian-0826'\n",
    "print_ACC_AUC(df, sample_type)"
   ]
  },
  {
   "cell_type": "code",
   "execution_count": 95,
   "metadata": {},
   "outputs": [
    {
     "data": {
      "image/png": "[encoded data removed]",
      "text/plain": [
       "<Figure size 500x400 with 1 Axes>"
      ]
     },
     "metadata": {},
     "output_type": "display_data"
    }
   ],
   "source": [
    "fig, ax = plt.subplots(figsize=(5, 4))\n",
    "\n",
    "file_name = './GGF_VBF_CWoLa_training_results.csv'\n",
    "df = pd.read_csv(file_name)\n",
    "df = df.query(\"time > '2025-07-31' and time < '2025-08-01'\")\n",
    "\n",
    "sample_type_pattern = 'quark jet: = 2, L: {} fb^-1, pT normalized, remove photon: case 1'\n",
    "plot_luminosity_vs_AUC(ax, df, sample_type_pattern, luminosities, color='C0', offset=0.97, linestyle='', capsize=3)\n",
    "\n",
    "sample_type_pattern = 'quark jet: = 2, L: {} fb^-1, pT normalized'\n",
    "plot_luminosity_vs_AUC(ax, df, sample_type_pattern, luminosities, color='C1', offset=0.99, linestyle='', capsize=3)\n",
    "\n",
    "\n",
    "file_name = './GGF_VBF_CWoLa_training_results.csv'\n",
    "df = pd.read_csv(file_name)\n",
    "df = df.query(\"time > '2025-08-28' and time < '2025-08-29'\")\n",
    "\n",
    "sample_type_pattern = 'quark jet: = 2, L: {} fb^-1, pT normalized, w/o photon, yian-0826'\n",
    "luminosities = [100, 300, 900, 1800, 3000]\n",
    "plot_luminosity_vs_AUC(ax, df, sample_type_pattern, luminosities, color='C2', offset=1.01, linestyle='', capsize=3)\n",
    "\n",
    "sample_type_pattern = 'quark jet: = 2, L: {} fb^-1, pT normalized, w/ photon, yian-0826'\n",
    "plot_luminosity_vs_AUC(ax, df, sample_type_pattern, luminosities, color='C3', offset=1.03, linestyle='', capsize=3)\n",
    "\n",
    "\n",
    "ax.set_xscale('log')\n",
    "ax.set_xlabel('Luminosity [fb$^{-1}$]')\n",
    "ax.set_ylabel('AUC (pure events)')\n",
    "ax.set_title('Event-CNN')\n",
    "\n",
    "handles, labels = ax.get_legend_handles_labels()\n",
    "n = len(handles) // 2\n",
    "handles = [(handles[i], handles[i+n]) for i in range(n)]\n",
    "labels = ['FY: w/o photon', 'FY: w/ photon', 'Yian: w/o photon', 'Yian: w/ photon']\n",
    "\n",
    "ax.legend(handles, labels, frameon=False, loc='lower right')\n",
    "\n",
    "# plt.savefig('../figures/event_CNN_AUC-true_L_yian_FY.pdf', dpi=300, facecolor='White', bbox_inches='tight')\n",
    "plt.show()\n"
   ]
  },
  {
   "cell_type": "code",
   "execution_count": 96,
   "metadata": {},
   "outputs": [],
   "source": [
    "file_name = './GGF_VBF_CWoLa_training_results.csv'\n",
    "df = pd.read_csv(file_name)\n",
    "df = df.query(\"time > '2025-09-03' and time < '2025-09-04'\")"
   ]
  },
  {
   "cell_type": "code",
   "execution_count": 97,
   "metadata": {},
   "outputs": [
    {
     "name": "stdout",
     "output_type": "stream",
     "text": [
      "quark jet: = 2, L: 100 fb^-1, pT normalized, w/ photon, yian-0903\n",
      "ACC: 0.607 ± 0.019\n",
      "AUC: 0.554 ± 0.058\n",
      "True ACC and AUC\n",
      "ACC: 0.560 ± 0.040\n",
      "AUC: 0.577 ± 0.056\n",
      "$0.607 \\pm 0.019$ & $0.554 \\pm 0.058$ & $0.560 \\pm 0.040$ & $0.577 \\pm 0.056$\n",
      "\n",
      "quark jet: = 2, L: 300 fb^-1, pT normalized, w/ photon, yian-0903\n",
      "ACC: 0.607 ± 0.011\n",
      "AUC: 0.587 ± 0.031\n",
      "True ACC and AUC\n",
      "ACC: 0.609 ± 0.038\n",
      "AUC: 0.644 ± 0.054\n",
      "$0.607 \\pm 0.011$ & $0.587 \\pm 0.031$ & $0.609 \\pm 0.038$ & $0.644 \\pm 0.054$\n",
      "\n",
      "quark jet: = 2, L: 900 fb^-1, pT normalized, w/ photon, yian-0903\n",
      "ACC: 0.621 ± 0.009\n",
      "AUC: 0.626 ± 0.014\n",
      "True ACC and AUC\n",
      "ACC: 0.665 ± 0.012\n",
      "AUC: 0.721 ± 0.015\n",
      "$0.621 \\pm 0.009$ & $0.626 \\pm 0.014$ & $0.665 \\pm 0.012$ & $0.721 \\pm 0.015$\n",
      "\n",
      "quark jet: = 2, L: 1800 fb^-1, pT normalized, w/ photon, yian-0903\n",
      "ACC: 0.625 ± 0.010\n",
      "AUC: 0.639 ± 0.015\n",
      "True ACC and AUC\n",
      "ACC: 0.677 ± 0.006\n",
      "AUC: 0.735 ± 0.008\n",
      "$0.625 \\pm 0.010$ & $0.639 \\pm 0.015$ & $0.677 \\pm 0.006$ & $0.735 \\pm 0.008$\n",
      "\n",
      "quark jet: = 2, L: 3000 fb^-1, pT normalized, w/ photon, yian-0903\n",
      "ACC: 0.629 ± 0.010\n",
      "AUC: 0.651 ± 0.019\n",
      "True ACC and AUC\n",
      "ACC: 0.679 ± 0.006\n",
      "AUC: 0.738 ± 0.008\n",
      "$0.629 \\pm 0.010$ & $0.651 \\pm 0.019$ & $0.679 \\pm 0.006$ & $0.738 \\pm 0.008$\n",
      "\n"
     ]
    }
   ],
   "source": [
    "for l in [100, 300, 900, 1800, 3000]:\n",
    "    sample_type = f'quark jet: = 2, L: {l} fb^-1, pT normalized, w/ photon, yian-0903'\n",
    "    print_ACC_AUC(df, sample_type)\n",
    "    print()"
   ]
  },
  {
   "cell_type": "code",
   "execution_count": 98,
   "metadata": {},
   "outputs": [
    {
     "name": "stdout",
     "output_type": "stream",
     "text": [
      "quark jet: = 2, L: 100 fb^-1, pT normalized, w/o photon, yian-0903\n",
      "ACC: 0.609 ± 0.025\n",
      "AUC: 0.560 ± 0.057\n",
      "True ACC and AUC\n",
      "ACC: 0.569 ± 0.040\n",
      "AUC: 0.585 ± 0.066\n",
      "$0.609 \\pm 0.025$ & $0.560 \\pm 0.057$ & $0.569 \\pm 0.040$ & $0.585 \\pm 0.066$\n",
      "\n",
      "quark jet: = 2, L: 300 fb^-1, pT normalized, w/o photon, yian-0903\n",
      "ACC: 0.610 ± 0.014\n",
      "AUC: 0.585 ± 0.042\n",
      "True ACC and AUC\n",
      "ACC: 0.613 ± 0.032\n",
      "AUC: 0.651 ± 0.045\n",
      "$0.610 \\pm 0.014$ & $0.585 \\pm 0.042$ & $0.613 \\pm 0.032$ & $0.651 \\pm 0.045$\n",
      "\n",
      "quark jet: = 2, L: 900 fb^-1, pT normalized, w/o photon, yian-0903\n",
      "ACC: 0.617 ± 0.008\n",
      "AUC: 0.625 ± 0.015\n",
      "True ACC and AUC\n",
      "ACC: 0.656 ± 0.009\n",
      "AUC: 0.711 ± 0.010\n",
      "$0.617 \\pm 0.008$ & $0.625 \\pm 0.015$ & $0.656 \\pm 0.009$ & $0.711 \\pm 0.010$\n",
      "\n",
      "quark jet: = 2, L: 1800 fb^-1, pT normalized, w/o photon, yian-0903\n",
      "ACC: 0.621 ± 0.008\n",
      "AUC: 0.641 ± 0.015\n",
      "True ACC and AUC\n",
      "ACC: 0.674 ± 0.010\n",
      "AUC: 0.734 ± 0.013\n",
      "$0.621 \\pm 0.008$ & $0.641 \\pm 0.015$ & $0.674 \\pm 0.010$ & $0.734 \\pm 0.013$\n",
      "\n",
      "quark jet: = 2, L: 3000 fb^-1, pT normalized, w/o photon, yian-0903\n",
      "ACC: 0.632 ± 0.009\n",
      "AUC: 0.662 ± 0.013\n",
      "True ACC and AUC\n",
      "ACC: 0.684 ± 0.007\n",
      "AUC: 0.746 ± 0.010\n",
      "$0.632 \\pm 0.009$ & $0.662 \\pm 0.013$ & $0.684 \\pm 0.007$ & $0.746 \\pm 0.010$\n",
      "\n",
      "quark jet: = 2, L: 3000 fb^-1, pT normalized, w/o photon, yian-0903\n",
      "ACC: 0.632 ± 0.009\n",
      "AUC: 0.662 ± 0.013\n",
      "True ACC and AUC\n",
      "ACC: 0.684 ± 0.007\n",
      "AUC: 0.746 ± 0.010\n",
      "$0.632 \\pm 0.009$ & $0.662 \\pm 0.013$ & $0.684 \\pm 0.007$ & $0.746 \\pm 0.010$\n"
     ]
    }
   ],
   "source": [
    "for l in [100, 300, 900, 1800, 3000]:\n",
    "    sample_type = f'quark jet: = 2, L: {l} fb^-1, pT normalized, w/o photon, yian-0903'\n",
    "    print_ACC_AUC(df, sample_type)\n",
    "    print()\n",
    "print_ACC_AUC(df, sample_type)"
   ]
  },
  {
   "cell_type": "code",
   "execution_count": 99,
   "metadata": {},
   "outputs": [],
   "source": [
    "file_name = './GGF_VBF_CWoLa_training_results.csv'\n",
    "df = pd.read_csv(file_name)\n",
    "df = df.query(\"time > '2025-09-05' and time < '2025-09-06'\")"
   ]
  },
  {
   "cell_type": "code",
   "execution_count": 100,
   "metadata": {},
   "outputs": [
    {
     "name": "stdout",
     "output_type": "stream",
     "text": [
      "quark jet: = 2, L: 100 fb^-1, pT normalized, w/ photon, yian-0905\n",
      "ACC: 0.603 ± 0.014\n",
      "AUC: 0.539 ± 0.058\n",
      "True ACC and AUC\n",
      "ACC: 0.549 ± 0.036\n",
      "AUC: 0.563 ± 0.052\n",
      "$0.603 \\pm 0.014$ & $0.539 \\pm 0.058$ & $0.549 \\pm 0.036$ & $0.563 \\pm 0.052$\n",
      "\n",
      "quark jet: = 2, L: 300 fb^-1, pT normalized, w/ photon, yian-0905\n",
      "ACC: 0.612 ± 0.016\n",
      "AUC: 0.589 ± 0.036\n",
      "True ACC and AUC\n",
      "ACC: 0.611 ± 0.030\n",
      "AUC: 0.647 ± 0.041\n",
      "$0.612 \\pm 0.016$ & $0.589 \\pm 0.036$ & $0.611 \\pm 0.030$ & $0.647 \\pm 0.041$\n",
      "\n",
      "quark jet: = 2, L: 900 fb^-1, pT normalized, w/ photon, yian-0905\n",
      "ACC: 0.626 ± 0.005\n",
      "AUC: 0.632 ± 0.009\n",
      "True ACC and AUC\n",
      "ACC: 0.667 ± 0.009\n",
      "AUC: 0.724 ± 0.012\n",
      "$0.626 \\pm 0.005$ & $0.632 \\pm 0.009$ & $0.667 \\pm 0.009$ & $0.724 \\pm 0.012$\n",
      "\n",
      "quark jet: = 2, L: 1800 fb^-1, pT normalized, w/ photon, yian-0905\n",
      "ACC: 0.622 ± 0.007\n",
      "AUC: 0.641 ± 0.012\n",
      "True ACC and AUC\n",
      "ACC: 0.676 ± 0.008\n",
      "AUC: 0.734 ± 0.012\n",
      "$0.622 \\pm 0.007$ & $0.641 \\pm 0.012$ & $0.676 \\pm 0.008$ & $0.734 \\pm 0.012$\n",
      "\n",
      "quark jet: = 2, L: 3000 fb^-1, pT normalized, w/ photon, yian-0905\n",
      "ACC: 0.630 ± 0.011\n",
      "AUC: 0.653 ± 0.021\n",
      "True ACC and AUC\n",
      "ACC: 0.682 ± 0.010\n",
      "AUC: 0.742 ± 0.012\n",
      "$0.630 \\pm 0.011$ & $0.653 \\pm 0.021$ & $0.682 \\pm 0.010$ & $0.742 \\pm 0.012$\n",
      "\n"
     ]
    }
   ],
   "source": [
    "for l in [100, 300, 900, 1800, 3000]:\n",
    "    sample_type = f'quark jet: = 2, L: {l} fb^-1, pT normalized, w/ photon, yian-0905'\n",
    "    print_ACC_AUC(df, sample_type)\n",
    "    print()"
   ]
  },
  {
   "cell_type": "code",
   "execution_count": 101,
   "metadata": {},
   "outputs": [
    {
     "name": "stdout",
     "output_type": "stream",
     "text": [
      "quark jet: = 2, L: 100 fb^-1, pT normalized, w/o photon, yian-0905\n",
      "ACC: 0.613 ± 0.020\n",
      "AUC: 0.558 ± 0.068\n",
      "True ACC and AUC\n",
      "ACC: 0.569 ± 0.039\n",
      "AUC: 0.585 ± 0.059\n",
      "$0.613 \\pm 0.020$ & $0.558 \\pm 0.068$ & $0.569 \\pm 0.039$ & $0.585 \\pm 0.059$\n",
      "\n",
      "quark jet: = 2, L: 300 fb^-1, pT normalized, w/o photon, yian-0905\n",
      "ACC: 0.612 ± 0.015\n",
      "AUC: 0.591 ± 0.041\n",
      "True ACC and AUC\n",
      "ACC: 0.610 ± 0.033\n",
      "AUC: 0.647 ± 0.047\n",
      "$0.612 \\pm 0.015$ & $0.591 \\pm 0.041$ & $0.610 \\pm 0.033$ & $0.647 \\pm 0.047$\n",
      "\n",
      "quark jet: = 2, L: 900 fb^-1, pT normalized, w/o photon, yian-0905\n",
      "ACC: 0.620 ± 0.009\n",
      "AUC: 0.629 ± 0.012\n",
      "True ACC and AUC\n",
      "ACC: 0.657 ± 0.012\n",
      "AUC: 0.712 ± 0.016\n",
      "$0.620 \\pm 0.009$ & $0.629 \\pm 0.012$ & $0.657 \\pm 0.012$ & $0.712 \\pm 0.016$\n",
      "\n",
      "quark jet: = 2, L: 1800 fb^-1, pT normalized, w/o photon, yian-0905\n",
      "ACC: 0.621 ± 0.012\n",
      "AUC: 0.641 ± 0.022\n",
      "True ACC and AUC\n",
      "ACC: 0.668 ± 0.015\n",
      "AUC: 0.726 ± 0.019\n",
      "$0.621 \\pm 0.012$ & $0.641 \\pm 0.022$ & $0.668 \\pm 0.015$ & $0.726 \\pm 0.019$\n",
      "\n",
      "quark jet: = 2, L: 3000 fb^-1, pT normalized, w/o photon, yian-0905\n",
      "ACC: 0.628 ± 0.006\n",
      "AUC: 0.653 ± 0.013\n",
      "True ACC and AUC\n",
      "ACC: 0.680 ± 0.007\n",
      "AUC: 0.741 ± 0.008\n",
      "$0.628 \\pm 0.006$ & $0.653 \\pm 0.013$ & $0.680 \\pm 0.007$ & $0.741 \\pm 0.008$\n",
      "\n",
      "quark jet: = 2, L: 3000 fb^-1, pT normalized, w/o photon, yian-0905\n",
      "ACC: 0.628 ± 0.006\n",
      "AUC: 0.653 ± 0.013\n",
      "True ACC and AUC\n",
      "ACC: 0.680 ± 0.007\n",
      "AUC: 0.741 ± 0.008\n",
      "$0.628 \\pm 0.006$ & $0.653 \\pm 0.013$ & $0.680 \\pm 0.007$ & $0.741 \\pm 0.008$\n"
     ]
    }
   ],
   "source": [
    "for l in [100, 300, 900, 1800, 3000]:\n",
    "    sample_type = f'quark jet: = 2, L: {l} fb^-1, pT normalized, w/o photon, yian-0905'\n",
    "    print_ACC_AUC(df, sample_type)\n",
    "    print()\n",
    "print_ACC_AUC(df, sample_type)"
   ]
  },
  {
   "cell_type": "code",
   "execution_count": 102,
   "metadata": {},
   "outputs": [
    {
     "data": {
      "image/png": "[encoded data removed]",
      "text/plain": [
       "<Figure size 500x400 with 1 Axes>"
      ]
     },
     "metadata": {},
     "output_type": "display_data"
    }
   ],
   "source": [
    "fig, ax = plt.subplots(figsize=(5, 4))\n",
    "\n",
    "file_name = './GGF_VBF_CWoLa_training_results.csv'\n",
    "df = pd.read_csv(file_name)\n",
    "df = df.query(\"time > '2025-07-31' and time < '2025-08-01'\")\n",
    "\n",
    "sample_type_pattern = 'quark jet: = 2, L: {} fb^-1, pT normalized, remove photon: case 1'\n",
    "plot_luminosity_vs_AUC(ax, df, sample_type_pattern, luminosities, color='C0', offset=0.97, linestyle='', capsize=3)\n",
    "\n",
    "sample_type_pattern = 'quark jet: = 2, L: {} fb^-1, pT normalized'\n",
    "plot_luminosity_vs_AUC(ax, df, sample_type_pattern, luminosities, color='C1', offset=0.99, linestyle='', capsize=3)\n",
    "\n",
    "\n",
    "file_name = './GGF_VBF_CWoLa_training_results.csv'\n",
    "df = pd.read_csv(file_name)\n",
    "df = df.query(\"time > '2025-09-05' and time < '2025-09-06'\")\n",
    "\n",
    "sample_type_pattern = 'quark jet: = 2, L: {} fb^-1, pT normalized, w/o photon, yian-0905'\n",
    "luminosities = [100, 300, 900, 1800, 3000]\n",
    "plot_luminosity_vs_AUC(ax, df, sample_type_pattern, luminosities, color='C2', offset=1.01, linestyle='', capsize=3)\n",
    "\n",
    "sample_type_pattern = 'quark jet: = 2, L: {} fb^-1, pT normalized, w/ photon, yian-0905'\n",
    "plot_luminosity_vs_AUC(ax, df, sample_type_pattern, luminosities, color='C3', offset=1.03, linestyle='', capsize=3)\n",
    "\n",
    "\n",
    "ax.set_xscale('log')\n",
    "ax.set_xlabel('Luminosity [fb$^{-1}$]')\n",
    "ax.set_ylabel('AUC (pure events)')\n",
    "ax.set_title('Event-CNN')\n",
    "\n",
    "handles, labels = ax.get_legend_handles_labels()\n",
    "n = len(handles) // 2\n",
    "handles = [(handles[i], handles[i+n]) for i in range(n)]\n",
    "labels = ['FY: w/o photon', 'FY: w/ photon', 'Yian: w/o photon', 'Yian: w/ photon']\n",
    "\n",
    "ax.legend(handles, labels, frameon=False, loc='lower right')\n",
    "\n",
    "# plt.savefig('../figures/event_CNN_AUC-true_L_yian_FY.pdf', dpi=300, facecolor='White', bbox_inches='tight')\n",
    "plt.show()"
   ]
  }
 ],
 "metadata": {
  "kernelspec": {
   "display_name": "jupyter",
   "language": "python",
   "name": "python3"
  },
  "language_info": {
   "codemirror_mode": {
    "name": "ipython",
    "version": 3
   },
   "file_extension": ".py",
   "mimetype": "text/x-python",
   "name": "python",
   "nbconvert_exporter": "python",
   "pygments_lexer": "ipython3",
   "version": "3.8.16"
  }
 },
 "nbformat": 4,
 "nbformat_minor": 2
}
