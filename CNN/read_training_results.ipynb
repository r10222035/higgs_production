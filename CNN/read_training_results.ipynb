{
 "cells": [
  {
   "cell_type": "code",
   "execution_count": 1,
   "metadata": {},
   "outputs": [],
   "source": [
    "import pandas as pd"
   ]
  },
  {
   "cell_type": "code",
   "execution_count": 2,
   "metadata": {},
   "outputs": [],
   "source": [
    "def print_ACC_AUC(df, sample_type):\n",
    "    ACC = df[df['Sample Type'] == sample_type]['ACC']\n",
    "    AUC = df[df['Sample Type'] == sample_type]['AUC']\n",
    "\n",
    "    print(sample_type)\n",
    "    print(f'ACC: {ACC.mean():.3f} ± {ACC.std():.3f}')\n",
    "    print(f'AUC: {AUC.mean():.3f} ± {AUC.std():.3f}')\n",
    "    print(f'${ACC.mean():.3f} \\pm {ACC.std():.3f}$ & ${AUC.mean():.3f} \\pm {AUC.std():.3f}$')\n",
    "\n",
    "    ACC = df[df['Sample Type'] == sample_type]['ACC-true']\n",
    "    AUC = df[df['Sample Type'] == sample_type]['AUC-true']\n",
    "\n",
    "    print('True ACC and AUC')\n",
    "    print(f'ACC: {ACC.mean():.3f} ± {ACC.std():.3f}')\n",
    "    print(f'AUC: {AUC.mean():.3f} ± {AUC.std():.3f}')\n",
    "    print(f'${ACC.mean():.3f} \\pm {ACC.std():.3f}$ & ${AUC.mean():.3f} \\pm {AUC.std():.3f}$')"
   ]
  },
  {
   "cell_type": "code",
   "execution_count": 3,
   "metadata": {},
   "outputs": [],
   "source": [
    "file_name = './GGF_VBF_CWoLa_training_results.csv'\n",
    "df = pd.read_csv(file_name)\n",
    "df = df.query(\"time > '2025-02-18' and time < '2025-02-19'\")"
   ]
  },
  {
   "cell_type": "code",
   "execution_count": 4,
   "metadata": {},
   "outputs": [
    {
     "name": "stdout",
     "output_type": "stream",
     "text": [
      "mjj: 300 GeV\n",
      "ACC: 0.781 ± 0.015\n",
      "AUC: 0.750 ± 0.047\n",
      "$0.781 \\pm 0.015$ & $0.750 \\pm 0.047$\n",
      "True ACC and AUC\n",
      "ACC: 0.587 ± 0.010\n",
      "AUC: 0.616 ± 0.015\n",
      "$0.587 \\pm 0.010$ & $0.616 \\pm 0.015$\n"
     ]
    }
   ],
   "source": [
    "sample_type = 'mjj: 300 GeV'\n",
    "print_ACC_AUC(df, sample_type)"
   ]
  },
  {
   "cell_type": "code",
   "execution_count": 5,
   "metadata": {},
   "outputs": [
    {
     "name": "stdout",
     "output_type": "stream",
     "text": [
      "deta: 3.1\n",
      "ACC: 0.796 ± 0.020\n",
      "AUC: 0.804 ± 0.046\n",
      "$0.796 \\pm 0.020$ & $0.804 \\pm 0.046$\n",
      "True ACC and AUC\n",
      "ACC: 0.586 ± 0.011\n",
      "AUC: 0.606 ± 0.015\n",
      "$0.586 \\pm 0.011$ & $0.606 \\pm 0.015$\n"
     ]
    }
   ],
   "source": [
    "sample_type = 'deta: 3.1'\n",
    "print_ACC_AUC(df, sample_type)"
   ]
  },
  {
   "cell_type": "code",
   "execution_count": 6,
   "metadata": {},
   "outputs": [
    {
     "name": "stdout",
     "output_type": "stream",
     "text": [
      "mjj: 300 GeV, deta: 3.1\n",
      "ACC: 0.774 ± 0.026\n",
      "AUC: 0.747 ± 0.063\n",
      "$0.774 \\pm 0.026$ & $0.747 \\pm 0.063$\n",
      "True ACC and AUC\n",
      "ACC: 0.556 ± 0.020\n",
      "AUC: 0.574 ± 0.027\n",
      "$0.556 \\pm 0.020$ & $0.574 \\pm 0.027$\n"
     ]
    }
   ],
   "source": [
    "sample_type = 'mjj: 300 GeV, deta: 3.1'\n",
    "print_ACC_AUC(df, sample_type)"
   ]
  }
 ],
 "metadata": {
  "kernelspec": {
   "display_name": "jupyter",
   "language": "python",
   "name": "python3"
  },
  "language_info": {
   "codemirror_mode": {
    "name": "ipython",
    "version": 3
   },
   "file_extension": ".py",
   "mimetype": "text/x-python",
   "name": "python",
   "nbconvert_exporter": "python",
   "pygments_lexer": "ipython3",
   "version": "3.8.16"
  }
 },
 "nbformat": 4,
 "nbformat_minor": 2
}
