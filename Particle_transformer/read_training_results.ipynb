{
 "cells": [
  {
   "cell_type": "code",
   "execution_count": 1,
   "id": "237b6e22",
   "metadata": {},
   "outputs": [],
   "source": [
    "import numpy as np\n",
    "import pandas as pd\n",
    "import matplotlib.pyplot as plt"
   ]
  },
  {
   "cell_type": "code",
   "execution_count": 2,
   "id": "301f0872",
   "metadata": {},
   "outputs": [],
   "source": [
    "def print_ACC_AUC(df, sample_type):\n",
    "    latex_txt = ''\n",
    "    ACC = df[df['Sample Type'] == sample_type]['ACC']\n",
    "    AUC = df[df['Sample Type'] == sample_type]['AUC']\n",
    "\n",
    "    print(sample_type)\n",
    "    print(f'ACC: {ACC.mean():.3f} ± {ACC.std():.3f}')\n",
    "    print(f'AUC: {AUC.mean():.3f} ± {AUC.std():.3f}')\n",
    "    latex_txt += f'${ACC.mean():.3f} \\pm {ACC.std():.3f}$ & ${AUC.mean():.3f} \\pm {AUC.std():.3f}$'\n",
    "    ACC = df[df['Sample Type'] == sample_type]['ACC-true']\n",
    "    AUC = df[df['Sample Type'] == sample_type]['AUC-true']\n",
    "\n",
    "    print('True ACC and AUC')\n",
    "    print(f'ACC: {ACC.mean():.3f} ± {ACC.std():.3f}')\n",
    "    print(f'AUC: {AUC.mean():.3f} ± {AUC.std():.3f}')\n",
    "    latex_txt += f' & ${ACC.mean():.3f} \\pm {ACC.std():.3f}$ & ${AUC.mean():.3f} \\pm {AUC.std():.3f}$'\n",
    "    print(latex_txt)"
   ]
  },
  {
   "cell_type": "markdown",
   "id": "940c5805",
   "metadata": {},
   "source": [
    "# Superviesed learning with Particle Transformer"
   ]
  },
  {
   "cell_type": "markdown",
   "id": "be259da6",
   "metadata": {},
   "source": [
    "## With photon"
   ]
  },
  {
   "cell_type": "code",
   "execution_count": 3,
   "id": "bda622fe",
   "metadata": {},
   "outputs": [],
   "source": [
    "file_name = './GGF_VBF_training_results.csv'\n",
    "df = pd.read_csv(file_name)\n",
    "df = df.query(\"time > '2025-08-11' and time < '2025-08-14'\")"
   ]
  },
  {
   "cell_type": "code",
   "execution_count": 4,
   "id": "6ad0e7fc",
   "metadata": {},
   "outputs": [
    {
     "name": "stdout",
     "output_type": "stream",
     "text": [
      "pure, w/ photon\n",
      "ACC: 0.782 ± 0.013\n",
      "AUC: 0.861 ± 0.014\n",
      "True ACC and AUC\n",
      "ACC: 0.785 ± 0.013\n",
      "AUC: 0.862 ± 0.014\n",
      "$0.782 \\pm 0.013$ & $0.861 \\pm 0.014$ & $0.785 \\pm 0.013$ & $0.862 \\pm 0.014$\n"
     ]
    }
   ],
   "source": [
    "sample_type = 'pure, w/ photon'\n",
    "print_ACC_AUC(df, sample_type)"
   ]
  },
  {
   "cell_type": "markdown",
   "id": "b376b3a7",
   "metadata": {},
   "source": [
    "## Without photon"
   ]
  },
  {
   "cell_type": "code",
   "execution_count": 5,
   "id": "ff0adcdd",
   "metadata": {},
   "outputs": [
    {
     "name": "stdout",
     "output_type": "stream",
     "text": [
      "pure, w/o photon\n",
      "ACC: 0.771 ± 0.020\n",
      "AUC: 0.849 ± 0.023\n",
      "True ACC and AUC\n",
      "ACC: 0.773 ± 0.019\n",
      "AUC: 0.850 ± 0.022\n",
      "$0.771 \\pm 0.020$ & $0.849 \\pm 0.023$ & $0.773 \\pm 0.019$ & $0.850 \\pm 0.022$\n"
     ]
    }
   ],
   "source": [
    "sample_type = 'pure, w/o photon'\n",
    "print_ACC_AUC(df, sample_type)"
   ]
  },
  {
   "cell_type": "markdown",
   "id": "a92a5779",
   "metadata": {},
   "source": [
    "# CWoLa with Particle Transformer"
   ]
  },
  {
   "cell_type": "markdown",
   "id": "f4bdcaef",
   "metadata": {},
   "source": [
    "## With photon"
   ]
  },
  {
   "cell_type": "code",
   "execution_count": 6,
   "id": "909cc159",
   "metadata": {},
   "outputs": [],
   "source": [
    "file_name = './GGF_VBF_training_results.csv'\n",
    "df = pd.read_csv(file_name)\n",
    "df = df.query(\"time > '2025-08-12' and time < '2025-08-13 07'\")"
   ]
  },
  {
   "cell_type": "code",
   "execution_count": 7,
   "id": "0aa432f5",
   "metadata": {},
   "outputs": [
    {
     "name": "stdout",
     "output_type": "stream",
     "text": [
      "quark jet: = 2, L: 100 fb^-1, w/ photon\n",
      "ACC: 0.607 ± 0.017\n",
      "AUC: 0.533 ± 0.053\n",
      "True ACC and AUC\n",
      "ACC: 0.538 ± 0.037\n",
      "AUC: 0.527 ± 0.080\n",
      "$0.607 \\pm 0.017$ & $0.533 \\pm 0.053$ & $0.538 \\pm 0.037$ & $0.527 \\pm 0.080$\n",
      "\n",
      "quark jet: = 2, L: 300 fb^-1, w/ photon\n",
      "ACC: 0.606 ± 0.012\n",
      "AUC: 0.562 ± 0.034\n",
      "True ACC and AUC\n",
      "ACC: 0.568 ± 0.034\n",
      "AUC: 0.590 ± 0.049\n",
      "$0.606 \\pm 0.012$ & $0.562 \\pm 0.034$ & $0.568 \\pm 0.034$ & $0.590 \\pm 0.049$\n",
      "\n",
      "quark jet: = 2, L: 900 fb^-1, w/ photon\n",
      "ACC: 0.602 ± 0.009\n",
      "AUC: 0.568 ± 0.044\n",
      "True ACC and AUC\n",
      "ACC: 0.589 ± 0.058\n",
      "AUC: 0.618 ± 0.081\n",
      "$0.602 \\pm 0.009$ & $0.568 \\pm 0.044$ & $0.589 \\pm 0.058$ & $0.618 \\pm 0.081$\n",
      "\n",
      "quark jet: = 2, L: 1800 fb^-1, w/ photon\n",
      "ACC: 0.603 ± 0.008\n",
      "AUC: 0.563 ± 0.049\n",
      "True ACC and AUC\n",
      "ACC: 0.587 ± 0.065\n",
      "AUC: 0.612 ± 0.099\n",
      "$0.603 \\pm 0.008$ & $0.563 \\pm 0.049$ & $0.587 \\pm 0.065$ & $0.612 \\pm 0.099$\n",
      "\n",
      "quark jet: = 2, L: 3000 fb^-1, w/ photon\n",
      "ACC: 0.609 ± 0.014\n",
      "AUC: 0.595 ± 0.051\n",
      "True ACC and AUC\n",
      "ACC: 0.628 ± 0.064\n",
      "AUC: 0.672 ± 0.087\n",
      "$0.609 \\pm 0.014$ & $0.595 \\pm 0.051$ & $0.628 \\pm 0.064$ & $0.672 \\pm 0.087$\n"
     ]
    }
   ],
   "source": [
    "sample_type = 'quark jet: = 2, L: 100 fb^-1, w/ photon'\n",
    "print_ACC_AUC(df, sample_type)\n",
    "print()\n",
    "\n",
    "sample_type = 'quark jet: = 2, L: 300 fb^-1, w/ photon'\n",
    "print_ACC_AUC(df, sample_type)\n",
    "print()\n",
    "\n",
    "sample_type = 'quark jet: = 2, L: 900 fb^-1, w/ photon'\n",
    "print_ACC_AUC(df, sample_type)\n",
    "print()\n",
    "\n",
    "sample_type = 'quark jet: = 2, L: 1800 fb^-1, w/ photon'\n",
    "print_ACC_AUC(df, sample_type)\n",
    "print()\n",
    "\n",
    "sample_type = 'quark jet: = 2, L: 3000 fb^-1, w/ photon'\n",
    "print_ACC_AUC(df, sample_type)"
   ]
  },
  {
   "cell_type": "code",
   "execution_count": 8,
   "id": "5e5bb706",
   "metadata": {},
   "outputs": [],
   "source": [
    "file_name = './GGF_VBF_training_results.csv'\n",
    "df = pd.read_csv(file_name)\n",
    "df = df.query(\"time > '2025-08-13 09' and time < '2025-08-14 02'\")"
   ]
  },
  {
   "cell_type": "code",
   "execution_count": 9,
   "id": "5a067854",
   "metadata": {},
   "outputs": [
    {
     "name": "stdout",
     "output_type": "stream",
     "text": [
      "quark jet: = 2, L: 100 fb^-1, w/ photon\n",
      "ACC: 0.603 ± 0.015\n",
      "AUC: 0.539 ± 0.041\n",
      "True ACC and AUC\n",
      "ACC: 0.544 ± 0.043\n",
      "AUC: 0.540 ± 0.078\n",
      "$0.603 \\pm 0.015$ & $0.539 \\pm 0.041$ & $0.544 \\pm 0.043$ & $0.540 \\pm 0.078$\n",
      "\n",
      "quark jet: = 2, L: 300 fb^-1, w/ photon\n",
      "ACC: 0.607 ± 0.015\n",
      "AUC: 0.549 ± 0.066\n",
      "True ACC and AUC\n",
      "ACC: 0.572 ± 0.071\n",
      "AUC: 0.584 ± 0.112\n",
      "$0.607 \\pm 0.015$ & $0.549 \\pm 0.066$ & $0.572 \\pm 0.071$ & $0.584 \\pm 0.112$\n",
      "\n",
      "quark jet: = 2, L: 900 fb^-1, w/ photon\n",
      "ACC: 0.620 ± 0.013\n",
      "AUC: 0.617 ± 0.060\n",
      "True ACC and AUC\n",
      "ACC: 0.657 ± 0.062\n",
      "AUC: 0.705 ± 0.099\n",
      "$0.620 \\pm 0.013$ & $0.617 \\pm 0.060$ & $0.657 \\pm 0.062$ & $0.705 \\pm 0.099$\n",
      "\n",
      "quark jet: = 2, L: 1800 fb^-1, w/ photon\n",
      "ACC: 0.609 ± 0.018\n",
      "AUC: 0.575 ± 0.071\n",
      "True ACC and AUC\n",
      "ACC: 0.607 ± 0.086\n",
      "AUC: 0.638 ± 0.117\n",
      "$0.609 \\pm 0.018$ & $0.575 \\pm 0.071$ & $0.607 \\pm 0.086$ & $0.638 \\pm 0.117$\n",
      "\n",
      "quark jet: = 2, L: 3000 fb^-1, w/ photon\n",
      "ACC: 0.622 ± 0.019\n",
      "AUC: 0.607 ± 0.088\n",
      "True ACC and AUC\n",
      "ACC: 0.648 ± 0.097\n",
      "AUC: 0.681 ± 0.152\n",
      "$0.622 \\pm 0.019$ & $0.607 \\pm 0.088$ & $0.648 \\pm 0.097$ & $0.681 \\pm 0.152$\n"
     ]
    }
   ],
   "source": [
    "sample_type = 'quark jet: = 2, L: 100 fb^-1, w/ photon'\n",
    "print_ACC_AUC(df, sample_type)\n",
    "print()\n",
    "\n",
    "sample_type = 'quark jet: = 2, L: 300 fb^-1, w/ photon'\n",
    "print_ACC_AUC(df, sample_type)\n",
    "print()\n",
    "\n",
    "sample_type = 'quark jet: = 2, L: 900 fb^-1, w/ photon'\n",
    "print_ACC_AUC(df, sample_type)\n",
    "print()\n",
    "\n",
    "sample_type = 'quark jet: = 2, L: 1800 fb^-1, w/ photon'\n",
    "print_ACC_AUC(df, sample_type)\n",
    "print()\n",
    "\n",
    "sample_type = 'quark jet: = 2, L: 3000 fb^-1, w/ photon'\n",
    "print_ACC_AUC(df, sample_type)"
   ]
  },
  {
   "cell_type": "code",
   "execution_count": 10,
   "id": "38de4afb",
   "metadata": {},
   "outputs": [],
   "source": [
    "file_name = './GGF_VBF_training_results.csv'\n",
    "df = pd.read_csv(file_name)\n",
    "df = df.query(\"time > '2025-08-12' and time < '2025-08-13 09'\")"
   ]
  },
  {
   "cell_type": "code",
   "execution_count": 11,
   "id": "525dcef8",
   "metadata": {},
   "outputs": [
    {
     "data": {
      "image/png": "[encoded data removed]",
      "text/plain": [
       "<Figure size 500x400 with 1 Axes>"
      ]
     },
     "metadata": {},
     "output_type": "display_data"
    }
   ],
   "source": [
    "def plot_luminosity_vs_AUC(ax, df, sample_type_pattern, luminosities, label=None):\n",
    "    AUCs, AUC_errors = [], []\n",
    "    for L in luminosities:\n",
    "        sample_type = sample_type_pattern.format(L)\n",
    "        AUC = df[df['Sample Type'] == sample_type]['AUC-true']\n",
    "        AUCs.append(AUC.mean())\n",
    "        AUC_errors.append(AUC.std())\n",
    "    ax.errorbar(luminosities, AUCs, yerr=AUC_errors, fmt='o-', label=label)\n",
    "\n",
    "\n",
    "fig, ax = plt.subplots(figsize=(5, 4))\n",
    "\n",
    "sample_type_pattern = 'quark jet: = 2, L: {} fb^-1, w/o photon'\n",
    "luminosities = [100, 300, 900, 1800, 3000]\n",
    "plot_luminosity_vs_AUC(ax, df, sample_type_pattern, luminosities, label='w/o photon')\n",
    "\n",
    "sample_type_pattern = 'quark jet: = 2, L: {} fb^-1, w/ photon'\n",
    "plot_luminosity_vs_AUC(ax, df, sample_type_pattern, luminosities, label='w/ photon')\n",
    "\n",
    "ax.set_xscale('log')\n",
    "ax.set_xlabel('Luminosity [fb$^{-1}$]')\n",
    "ax.set_ylabel('AUC (pure events)')\n",
    "ax.set_title('Particle Transformer')\n",
    "ax.legend(frameon=False, loc='lower right')\n",
    "\n",
    "# plt.savefig('../figures/event_CNN_AUC-true_L.pdf', dpi=300, facecolor='White', bbox_inches='tight')\n",
    "plt.show()"
   ]
  },
  {
   "cell_type": "code",
   "execution_count": 12,
   "id": "3f15a5cb",
   "metadata": {},
   "outputs": [],
   "source": [
    "file_name = './GGF_VBF_training_results.csv'\n",
    "df = pd.read_csv(file_name)\n",
    "df = df.query(\"time > '2025-08-13 09' and time < '2025-08-14 02'\")"
   ]
  },
  {
   "cell_type": "code",
   "execution_count": 13,
   "id": "67f6649a",
   "metadata": {},
   "outputs": [
    {
     "ename": "KeyboardInterrupt",
     "evalue": "",
     "output_type": "error",
     "traceback": [
      "\u001b[0;31m---------------------------------------------------------------------------\u001b[0m",
      "\u001b[0;31mKeyboardInterrupt\u001b[0m                         Traceback (most recent call last)",
      "Cell \u001b[0;32mIn[13], line 27\u001b[0m\n\u001b[1;32m     24\u001b[0m ax\u001b[38;5;241m.\u001b[39mlegend(frameon\u001b[38;5;241m=\u001b[39m\u001b[38;5;28;01mFalse\u001b[39;00m, loc\u001b[38;5;241m=\u001b[39m\u001b[38;5;124m'\u001b[39m\u001b[38;5;124mlower right\u001b[39m\u001b[38;5;124m'\u001b[39m)\n\u001b[1;32m     26\u001b[0m \u001b[38;5;66;03m# plt.savefig('../figures/ParT_AUC-true_L.pdf', dpi=300, facecolor='White', bbox_inches='tight')\u001b[39;00m\n\u001b[0;32m---> 27\u001b[0m \u001b[43mplt\u001b[49m\u001b[38;5;241;43m.\u001b[39;49m\u001b[43mshow\u001b[49m\u001b[43m(\u001b[49m\u001b[43m)\u001b[49m\n",
      "File \u001b[0;32m~/.conda/envs/jupyter/lib/python3.8/site-packages/matplotlib/pyplot.py:368\u001b[0m, in \u001b[0;36mshow\u001b[0;34m(*args, **kwargs)\u001b[0m\n\u001b[1;32m    324\u001b[0m \u001b[38;5;250m\u001b[39m\u001b[38;5;124;03m\"\"\"\u001b[39;00m\n\u001b[1;32m    325\u001b[0m \u001b[38;5;124;03mDisplay all open figures.\u001b[39;00m\n\u001b[1;32m    326\u001b[0m \n\u001b[0;32m   (...)\u001b[0m\n\u001b[1;32m    365\u001b[0m \u001b[38;5;124;03mexplicitly there.\u001b[39;00m\n\u001b[1;32m    366\u001b[0m \u001b[38;5;124;03m\"\"\"\u001b[39;00m\n\u001b[1;32m    367\u001b[0m _warn_if_gui_out_of_main_thread()\n\u001b[0;32m--> 368\u001b[0m \u001b[38;5;28;01mreturn\u001b[39;00m \u001b[43m_backend_mod\u001b[49m\u001b[38;5;241;43m.\u001b[39;49m\u001b[43mshow\u001b[49m\u001b[43m(\u001b[49m\u001b[38;5;241;43m*\u001b[39;49m\u001b[43margs\u001b[49m\u001b[43m,\u001b[49m\u001b[43m \u001b[49m\u001b[38;5;241;43m*\u001b[39;49m\u001b[38;5;241;43m*\u001b[39;49m\u001b[43mkwargs\u001b[49m\u001b[43m)\u001b[49m\n",
      "File \u001b[0;32m~/.conda/envs/jupyter/lib/python3.8/site-packages/matplotlib_inline/backend_inline.py:90\u001b[0m, in \u001b[0;36mshow\u001b[0;34m(close, block)\u001b[0m\n\u001b[1;32m     88\u001b[0m \u001b[38;5;28;01mtry\u001b[39;00m:\n\u001b[1;32m     89\u001b[0m     \u001b[38;5;28;01mfor\u001b[39;00m figure_manager \u001b[38;5;129;01min\u001b[39;00m Gcf\u001b[38;5;241m.\u001b[39mget_all_fig_managers():\n\u001b[0;32m---> 90\u001b[0m         \u001b[43mdisplay\u001b[49m\u001b[43m(\u001b[49m\n\u001b[1;32m     91\u001b[0m \u001b[43m            \u001b[49m\u001b[43mfigure_manager\u001b[49m\u001b[38;5;241;43m.\u001b[39;49m\u001b[43mcanvas\u001b[49m\u001b[38;5;241;43m.\u001b[39;49m\u001b[43mfigure\u001b[49m\u001b[43m,\u001b[49m\n\u001b[1;32m     92\u001b[0m \u001b[43m            \u001b[49m\u001b[43mmetadata\u001b[49m\u001b[38;5;241;43m=\u001b[39;49m\u001b[43m_fetch_figure_metadata\u001b[49m\u001b[43m(\u001b[49m\u001b[43mfigure_manager\u001b[49m\u001b[38;5;241;43m.\u001b[39;49m\u001b[43mcanvas\u001b[49m\u001b[38;5;241;43m.\u001b[39;49m\u001b[43mfigure\u001b[49m\u001b[43m)\u001b[49m\n\u001b[1;32m     93\u001b[0m \u001b[43m        \u001b[49m\u001b[43m)\u001b[49m\n\u001b[1;32m     94\u001b[0m \u001b[38;5;28;01mfinally\u001b[39;00m:\n\u001b[1;32m     95\u001b[0m     show\u001b[38;5;241m.\u001b[39m_to_draw \u001b[38;5;241m=\u001b[39m []\n",
      "File \u001b[0;32m~/.conda/envs/jupyter/lib/python3.8/site-packages/IPython/core/display_functions.py:298\u001b[0m, in \u001b[0;36mdisplay\u001b[0;34m(include, exclude, metadata, transient, display_id, raw, clear, *objs, **kwargs)\u001b[0m\n\u001b[1;32m    296\u001b[0m     publish_display_data(data\u001b[38;5;241m=\u001b[39mobj, metadata\u001b[38;5;241m=\u001b[39mmetadata, \u001b[38;5;241m*\u001b[39m\u001b[38;5;241m*\u001b[39mkwargs)\n\u001b[1;32m    297\u001b[0m \u001b[38;5;28;01melse\u001b[39;00m:\n\u001b[0;32m--> 298\u001b[0m     format_dict, md_dict \u001b[38;5;241m=\u001b[39m \u001b[38;5;28;43mformat\u001b[39;49m\u001b[43m(\u001b[49m\u001b[43mobj\u001b[49m\u001b[43m,\u001b[49m\u001b[43m \u001b[49m\u001b[43minclude\u001b[49m\u001b[38;5;241;43m=\u001b[39;49m\u001b[43minclude\u001b[49m\u001b[43m,\u001b[49m\u001b[43m \u001b[49m\u001b[43mexclude\u001b[49m\u001b[38;5;241;43m=\u001b[39;49m\u001b[43mexclude\u001b[49m\u001b[43m)\u001b[49m\n\u001b[1;32m    299\u001b[0m     \u001b[38;5;28;01mif\u001b[39;00m \u001b[38;5;129;01mnot\u001b[39;00m format_dict:\n\u001b[1;32m    300\u001b[0m         \u001b[38;5;66;03m# nothing to display (e.g. _ipython_display_ took over)\u001b[39;00m\n\u001b[1;32m    301\u001b[0m         \u001b[38;5;28;01mcontinue\u001b[39;00m\n",
      "File \u001b[0;32m~/.conda/envs/jupyter/lib/python3.8/site-packages/IPython/core/formatters.py:179\u001b[0m, in \u001b[0;36mDisplayFormatter.format\u001b[0;34m(self, obj, include, exclude)\u001b[0m\n\u001b[1;32m    177\u001b[0m md \u001b[38;5;241m=\u001b[39m \u001b[38;5;28;01mNone\u001b[39;00m\n\u001b[1;32m    178\u001b[0m \u001b[38;5;28;01mtry\u001b[39;00m:\n\u001b[0;32m--> 179\u001b[0m     data \u001b[38;5;241m=\u001b[39m \u001b[43mformatter\u001b[49m\u001b[43m(\u001b[49m\u001b[43mobj\u001b[49m\u001b[43m)\u001b[49m\n\u001b[1;32m    180\u001b[0m \u001b[38;5;28;01mexcept\u001b[39;00m:\n\u001b[1;32m    181\u001b[0m     \u001b[38;5;66;03m# FIXME: log the exception\u001b[39;00m\n\u001b[1;32m    182\u001b[0m     \u001b[38;5;28;01mraise\u001b[39;00m\n",
      "File \u001b[0;32m~/.conda/envs/jupyter/lib/python3.8/site-packages/decorator.py:232\u001b[0m, in \u001b[0;36mdecorate.<locals>.fun\u001b[0;34m(*args, **kw)\u001b[0m\n\u001b[1;32m    230\u001b[0m \u001b[38;5;28;01mif\u001b[39;00m \u001b[38;5;129;01mnot\u001b[39;00m kwsyntax:\n\u001b[1;32m    231\u001b[0m     args, kw \u001b[38;5;241m=\u001b[39m fix(args, kw, sig)\n\u001b[0;32m--> 232\u001b[0m \u001b[38;5;28;01mreturn\u001b[39;00m \u001b[43mcaller\u001b[49m\u001b[43m(\u001b[49m\u001b[43mfunc\u001b[49m\u001b[43m,\u001b[49m\u001b[43m \u001b[49m\u001b[38;5;241;43m*\u001b[39;49m\u001b[43m(\u001b[49m\u001b[43mextras\u001b[49m\u001b[43m \u001b[49m\u001b[38;5;241;43m+\u001b[39;49m\u001b[43m \u001b[49m\u001b[43margs\u001b[49m\u001b[43m)\u001b[49m\u001b[43m,\u001b[49m\u001b[43m \u001b[49m\u001b[38;5;241;43m*\u001b[39;49m\u001b[38;5;241;43m*\u001b[39;49m\u001b[43mkw\u001b[49m\u001b[43m)\u001b[49m\n",
      "File \u001b[0;32m~/.conda/envs/jupyter/lib/python3.8/site-packages/IPython/core/formatters.py:223\u001b[0m, in \u001b[0;36mcatch_format_error\u001b[0;34m(method, self, *args, **kwargs)\u001b[0m\n\u001b[1;32m    221\u001b[0m \u001b[38;5;250m\u001b[39m\u001b[38;5;124;03m\"\"\"show traceback on failed format call\"\"\"\u001b[39;00m\n\u001b[1;32m    222\u001b[0m \u001b[38;5;28;01mtry\u001b[39;00m:\n\u001b[0;32m--> 223\u001b[0m     r \u001b[38;5;241m=\u001b[39m \u001b[43mmethod\u001b[49m\u001b[43m(\u001b[49m\u001b[38;5;28;43mself\u001b[39;49m\u001b[43m,\u001b[49m\u001b[43m \u001b[49m\u001b[38;5;241;43m*\u001b[39;49m\u001b[43margs\u001b[49m\u001b[43m,\u001b[49m\u001b[43m \u001b[49m\u001b[38;5;241;43m*\u001b[39;49m\u001b[38;5;241;43m*\u001b[39;49m\u001b[43mkwargs\u001b[49m\u001b[43m)\u001b[49m\n\u001b[1;32m    224\u001b[0m \u001b[38;5;28;01mexcept\u001b[39;00m \u001b[38;5;167;01mNotImplementedError\u001b[39;00m:\n\u001b[1;32m    225\u001b[0m     \u001b[38;5;66;03m# don't warn on NotImplementedErrors\u001b[39;00m\n\u001b[1;32m    226\u001b[0m     \u001b[38;5;28;01mreturn\u001b[39;00m \u001b[38;5;28mself\u001b[39m\u001b[38;5;241m.\u001b[39m_check_return(\u001b[38;5;28;01mNone\u001b[39;00m, args[\u001b[38;5;241m0\u001b[39m])\n",
      "File \u001b[0;32m~/.conda/envs/jupyter/lib/python3.8/site-packages/IPython/core/formatters.py:340\u001b[0m, in \u001b[0;36mBaseFormatter.__call__\u001b[0;34m(self, obj)\u001b[0m\n\u001b[1;32m    338\u001b[0m     \u001b[38;5;28;01mpass\u001b[39;00m\n\u001b[1;32m    339\u001b[0m \u001b[38;5;28;01melse\u001b[39;00m:\n\u001b[0;32m--> 340\u001b[0m     \u001b[38;5;28;01mreturn\u001b[39;00m \u001b[43mprinter\u001b[49m\u001b[43m(\u001b[49m\u001b[43mobj\u001b[49m\u001b[43m)\u001b[49m\n\u001b[1;32m    341\u001b[0m \u001b[38;5;66;03m# Finally look for special method names\u001b[39;00m\n\u001b[1;32m    342\u001b[0m method \u001b[38;5;241m=\u001b[39m get_real_method(obj, \u001b[38;5;28mself\u001b[39m\u001b[38;5;241m.\u001b[39mprint_method)\n",
      "File \u001b[0;32m~/.conda/envs/jupyter/lib/python3.8/site-packages/IPython/core/pylabtools.py:152\u001b[0m, in \u001b[0;36mprint_figure\u001b[0;34m(fig, fmt, bbox_inches, base64, **kwargs)\u001b[0m\n\u001b[1;32m    149\u001b[0m     \u001b[38;5;28;01mfrom\u001b[39;00m \u001b[38;5;21;01mmatplotlib\u001b[39;00m\u001b[38;5;21;01m.\u001b[39;00m\u001b[38;5;21;01mbackend_bases\u001b[39;00m \u001b[38;5;28;01mimport\u001b[39;00m FigureCanvasBase\n\u001b[1;32m    150\u001b[0m     FigureCanvasBase(fig)\n\u001b[0;32m--> 152\u001b[0m \u001b[43mfig\u001b[49m\u001b[38;5;241;43m.\u001b[39;49m\u001b[43mcanvas\u001b[49m\u001b[38;5;241;43m.\u001b[39;49m\u001b[43mprint_figure\u001b[49m\u001b[43m(\u001b[49m\u001b[43mbytes_io\u001b[49m\u001b[43m,\u001b[49m\u001b[43m \u001b[49m\u001b[38;5;241;43m*\u001b[39;49m\u001b[38;5;241;43m*\u001b[39;49m\u001b[43mkw\u001b[49m\u001b[43m)\u001b[49m\n\u001b[1;32m    153\u001b[0m data \u001b[38;5;241m=\u001b[39m bytes_io\u001b[38;5;241m.\u001b[39mgetvalue()\n\u001b[1;32m    154\u001b[0m \u001b[38;5;28;01mif\u001b[39;00m fmt \u001b[38;5;241m==\u001b[39m \u001b[38;5;124m'\u001b[39m\u001b[38;5;124msvg\u001b[39m\u001b[38;5;124m'\u001b[39m:\n",
      "File \u001b[0;32m~/.conda/envs/jupyter/lib/python3.8/site-packages/matplotlib/backend_bases.py:2295\u001b[0m, in \u001b[0;36mFigureCanvasBase.print_figure\u001b[0;34m(self, filename, dpi, facecolor, edgecolor, orientation, format, bbox_inches, pad_inches, bbox_extra_artists, backend, **kwargs)\u001b[0m\n\u001b[1;32m   2289\u001b[0m     renderer \u001b[38;5;241m=\u001b[39m _get_renderer(\n\u001b[1;32m   2290\u001b[0m         \u001b[38;5;28mself\u001b[39m\u001b[38;5;241m.\u001b[39mfigure,\n\u001b[1;32m   2291\u001b[0m         functools\u001b[38;5;241m.\u001b[39mpartial(\n\u001b[1;32m   2292\u001b[0m             print_method, orientation\u001b[38;5;241m=\u001b[39morientation)\n\u001b[1;32m   2293\u001b[0m     )\n\u001b[1;32m   2294\u001b[0m     \u001b[38;5;28;01mwith\u001b[39;00m \u001b[38;5;28mgetattr\u001b[39m(renderer, \u001b[38;5;124m\"\u001b[39m\u001b[38;5;124m_draw_disabled\u001b[39m\u001b[38;5;124m\"\u001b[39m, nullcontext)():\n\u001b[0;32m-> 2295\u001b[0m         \u001b[38;5;28;43mself\u001b[39;49m\u001b[38;5;241;43m.\u001b[39;49m\u001b[43mfigure\u001b[49m\u001b[38;5;241;43m.\u001b[39;49m\u001b[43mdraw\u001b[49m\u001b[43m(\u001b[49m\u001b[43mrenderer\u001b[49m\u001b[43m)\u001b[49m\n\u001b[1;32m   2297\u001b[0m \u001b[38;5;28;01mif\u001b[39;00m bbox_inches:\n\u001b[1;32m   2298\u001b[0m     \u001b[38;5;28;01mif\u001b[39;00m bbox_inches \u001b[38;5;241m==\u001b[39m \u001b[38;5;124m\"\u001b[39m\u001b[38;5;124mtight\u001b[39m\u001b[38;5;124m\"\u001b[39m:\n",
      "File \u001b[0;32m~/.conda/envs/jupyter/lib/python3.8/site-packages/matplotlib/artist.py:73\u001b[0m, in \u001b[0;36m_finalize_rasterization.<locals>.draw_wrapper\u001b[0;34m(artist, renderer, *args, **kwargs)\u001b[0m\n\u001b[1;32m     71\u001b[0m \u001b[38;5;129m@wraps\u001b[39m(draw)\n\u001b[1;32m     72\u001b[0m \u001b[38;5;28;01mdef\u001b[39;00m \u001b[38;5;21mdraw_wrapper\u001b[39m(artist, renderer, \u001b[38;5;241m*\u001b[39margs, \u001b[38;5;241m*\u001b[39m\u001b[38;5;241m*\u001b[39mkwargs):\n\u001b[0;32m---> 73\u001b[0m     result \u001b[38;5;241m=\u001b[39m \u001b[43mdraw\u001b[49m\u001b[43m(\u001b[49m\u001b[43martist\u001b[49m\u001b[43m,\u001b[49m\u001b[43m \u001b[49m\u001b[43mrenderer\u001b[49m\u001b[43m,\u001b[49m\u001b[43m \u001b[49m\u001b[38;5;241;43m*\u001b[39;49m\u001b[43margs\u001b[49m\u001b[43m,\u001b[49m\u001b[43m \u001b[49m\u001b[38;5;241;43m*\u001b[39;49m\u001b[38;5;241;43m*\u001b[39;49m\u001b[43mkwargs\u001b[49m\u001b[43m)\u001b[49m\n\u001b[1;32m     74\u001b[0m     \u001b[38;5;28;01mif\u001b[39;00m renderer\u001b[38;5;241m.\u001b[39m_rasterizing:\n\u001b[1;32m     75\u001b[0m         renderer\u001b[38;5;241m.\u001b[39mstop_rasterizing()\n",
      "File \u001b[0;32m~/.conda/envs/jupyter/lib/python3.8/site-packages/matplotlib/artist.py:50\u001b[0m, in \u001b[0;36mallow_rasterization.<locals>.draw_wrapper\u001b[0;34m(artist, renderer)\u001b[0m\n\u001b[1;32m     47\u001b[0m     \u001b[38;5;28;01mif\u001b[39;00m artist\u001b[38;5;241m.\u001b[39mget_agg_filter() \u001b[38;5;129;01mis\u001b[39;00m \u001b[38;5;129;01mnot\u001b[39;00m \u001b[38;5;28;01mNone\u001b[39;00m:\n\u001b[1;32m     48\u001b[0m         renderer\u001b[38;5;241m.\u001b[39mstart_filter()\n\u001b[0;32m---> 50\u001b[0m     \u001b[38;5;28;01mreturn\u001b[39;00m \u001b[43mdraw\u001b[49m\u001b[43m(\u001b[49m\u001b[43martist\u001b[49m\u001b[43m,\u001b[49m\u001b[43m \u001b[49m\u001b[43mrenderer\u001b[49m\u001b[43m)\u001b[49m\n\u001b[1;32m     51\u001b[0m \u001b[38;5;28;01mfinally\u001b[39;00m:\n\u001b[1;32m     52\u001b[0m     \u001b[38;5;28;01mif\u001b[39;00m artist\u001b[38;5;241m.\u001b[39mget_agg_filter() \u001b[38;5;129;01mis\u001b[39;00m \u001b[38;5;129;01mnot\u001b[39;00m \u001b[38;5;28;01mNone\u001b[39;00m:\n",
      "File \u001b[0;32m~/.conda/envs/jupyter/lib/python3.8/site-packages/matplotlib/figure.py:2810\u001b[0m, in \u001b[0;36mFigure.draw\u001b[0;34m(self, renderer)\u001b[0m\n\u001b[1;32m   2807\u001b[0m         \u001b[38;5;66;03m# ValueError can occur when resizing a window.\u001b[39;00m\n\u001b[1;32m   2809\u001b[0m \u001b[38;5;28mself\u001b[39m\u001b[38;5;241m.\u001b[39mpatch\u001b[38;5;241m.\u001b[39mdraw(renderer)\n\u001b[0;32m-> 2810\u001b[0m \u001b[43mmimage\u001b[49m\u001b[38;5;241;43m.\u001b[39;49m\u001b[43m_draw_list_compositing_images\u001b[49m\u001b[43m(\u001b[49m\n\u001b[1;32m   2811\u001b[0m \u001b[43m    \u001b[49m\u001b[43mrenderer\u001b[49m\u001b[43m,\u001b[49m\u001b[43m \u001b[49m\u001b[38;5;28;43mself\u001b[39;49m\u001b[43m,\u001b[49m\u001b[43m \u001b[49m\u001b[43martists\u001b[49m\u001b[43m,\u001b[49m\u001b[43m \u001b[49m\u001b[38;5;28;43mself\u001b[39;49m\u001b[38;5;241;43m.\u001b[39;49m\u001b[43msuppressComposite\u001b[49m\u001b[43m)\u001b[49m\n\u001b[1;32m   2813\u001b[0m \u001b[38;5;28;01mfor\u001b[39;00m sfig \u001b[38;5;129;01min\u001b[39;00m \u001b[38;5;28mself\u001b[39m\u001b[38;5;241m.\u001b[39msubfigs:\n\u001b[1;32m   2814\u001b[0m     sfig\u001b[38;5;241m.\u001b[39mdraw(renderer)\n",
      "File \u001b[0;32m~/.conda/envs/jupyter/lib/python3.8/site-packages/matplotlib/image.py:132\u001b[0m, in \u001b[0;36m_draw_list_compositing_images\u001b[0;34m(renderer, parent, artists, suppress_composite)\u001b[0m\n\u001b[1;32m    130\u001b[0m \u001b[38;5;28;01mif\u001b[39;00m not_composite \u001b[38;5;129;01mor\u001b[39;00m \u001b[38;5;129;01mnot\u001b[39;00m has_images:\n\u001b[1;32m    131\u001b[0m     \u001b[38;5;28;01mfor\u001b[39;00m a \u001b[38;5;129;01min\u001b[39;00m artists:\n\u001b[0;32m--> 132\u001b[0m         \u001b[43ma\u001b[49m\u001b[38;5;241;43m.\u001b[39;49m\u001b[43mdraw\u001b[49m\u001b[43m(\u001b[49m\u001b[43mrenderer\u001b[49m\u001b[43m)\u001b[49m\n\u001b[1;32m    133\u001b[0m \u001b[38;5;28;01melse\u001b[39;00m:\n\u001b[1;32m    134\u001b[0m     \u001b[38;5;66;03m# Composite any adjacent images together\u001b[39;00m\n\u001b[1;32m    135\u001b[0m     image_group \u001b[38;5;241m=\u001b[39m []\n",
      "File \u001b[0;32m~/.conda/envs/jupyter/lib/python3.8/site-packages/matplotlib/artist.py:50\u001b[0m, in \u001b[0;36mallow_rasterization.<locals>.draw_wrapper\u001b[0;34m(artist, renderer)\u001b[0m\n\u001b[1;32m     47\u001b[0m     \u001b[38;5;28;01mif\u001b[39;00m artist\u001b[38;5;241m.\u001b[39mget_agg_filter() \u001b[38;5;129;01mis\u001b[39;00m \u001b[38;5;129;01mnot\u001b[39;00m \u001b[38;5;28;01mNone\u001b[39;00m:\n\u001b[1;32m     48\u001b[0m         renderer\u001b[38;5;241m.\u001b[39mstart_filter()\n\u001b[0;32m---> 50\u001b[0m     \u001b[38;5;28;01mreturn\u001b[39;00m \u001b[43mdraw\u001b[49m\u001b[43m(\u001b[49m\u001b[43martist\u001b[49m\u001b[43m,\u001b[49m\u001b[43m \u001b[49m\u001b[43mrenderer\u001b[49m\u001b[43m)\u001b[49m\n\u001b[1;32m     51\u001b[0m \u001b[38;5;28;01mfinally\u001b[39;00m:\n\u001b[1;32m     52\u001b[0m     \u001b[38;5;28;01mif\u001b[39;00m artist\u001b[38;5;241m.\u001b[39mget_agg_filter() \u001b[38;5;129;01mis\u001b[39;00m \u001b[38;5;129;01mnot\u001b[39;00m \u001b[38;5;28;01mNone\u001b[39;00m:\n",
      "File \u001b[0;32m~/.conda/envs/jupyter/lib/python3.8/site-packages/matplotlib/axes/_base.py:3082\u001b[0m, in \u001b[0;36m_AxesBase.draw\u001b[0;34m(self, renderer)\u001b[0m\n\u001b[1;32m   3079\u001b[0m         a\u001b[38;5;241m.\u001b[39mdraw(renderer)\n\u001b[1;32m   3080\u001b[0m     renderer\u001b[38;5;241m.\u001b[39mstop_rasterizing()\n\u001b[0;32m-> 3082\u001b[0m \u001b[43mmimage\u001b[49m\u001b[38;5;241;43m.\u001b[39;49m\u001b[43m_draw_list_compositing_images\u001b[49m\u001b[43m(\u001b[49m\n\u001b[1;32m   3083\u001b[0m \u001b[43m    \u001b[49m\u001b[43mrenderer\u001b[49m\u001b[43m,\u001b[49m\u001b[43m \u001b[49m\u001b[38;5;28;43mself\u001b[39;49m\u001b[43m,\u001b[49m\u001b[43m \u001b[49m\u001b[43martists\u001b[49m\u001b[43m,\u001b[49m\u001b[43m \u001b[49m\u001b[38;5;28;43mself\u001b[39;49m\u001b[38;5;241;43m.\u001b[39;49m\u001b[43mfigure\u001b[49m\u001b[38;5;241;43m.\u001b[39;49m\u001b[43msuppressComposite\u001b[49m\u001b[43m)\u001b[49m\n\u001b[1;32m   3085\u001b[0m renderer\u001b[38;5;241m.\u001b[39mclose_group(\u001b[38;5;124m'\u001b[39m\u001b[38;5;124maxes\u001b[39m\u001b[38;5;124m'\u001b[39m)\n\u001b[1;32m   3086\u001b[0m \u001b[38;5;28mself\u001b[39m\u001b[38;5;241m.\u001b[39mstale \u001b[38;5;241m=\u001b[39m \u001b[38;5;28;01mFalse\u001b[39;00m\n",
      "File \u001b[0;32m~/.conda/envs/jupyter/lib/python3.8/site-packages/matplotlib/image.py:132\u001b[0m, in \u001b[0;36m_draw_list_compositing_images\u001b[0;34m(renderer, parent, artists, suppress_composite)\u001b[0m\n\u001b[1;32m    130\u001b[0m \u001b[38;5;28;01mif\u001b[39;00m not_composite \u001b[38;5;129;01mor\u001b[39;00m \u001b[38;5;129;01mnot\u001b[39;00m has_images:\n\u001b[1;32m    131\u001b[0m     \u001b[38;5;28;01mfor\u001b[39;00m a \u001b[38;5;129;01min\u001b[39;00m artists:\n\u001b[0;32m--> 132\u001b[0m         \u001b[43ma\u001b[49m\u001b[38;5;241;43m.\u001b[39;49m\u001b[43mdraw\u001b[49m\u001b[43m(\u001b[49m\u001b[43mrenderer\u001b[49m\u001b[43m)\u001b[49m\n\u001b[1;32m    133\u001b[0m \u001b[38;5;28;01melse\u001b[39;00m:\n\u001b[1;32m    134\u001b[0m     \u001b[38;5;66;03m# Composite any adjacent images together\u001b[39;00m\n\u001b[1;32m    135\u001b[0m     image_group \u001b[38;5;241m=\u001b[39m []\n",
      "File \u001b[0;32m~/.conda/envs/jupyter/lib/python3.8/site-packages/matplotlib/artist.py:50\u001b[0m, in \u001b[0;36mallow_rasterization.<locals>.draw_wrapper\u001b[0;34m(artist, renderer)\u001b[0m\n\u001b[1;32m     47\u001b[0m     \u001b[38;5;28;01mif\u001b[39;00m artist\u001b[38;5;241m.\u001b[39mget_agg_filter() \u001b[38;5;129;01mis\u001b[39;00m \u001b[38;5;129;01mnot\u001b[39;00m \u001b[38;5;28;01mNone\u001b[39;00m:\n\u001b[1;32m     48\u001b[0m         renderer\u001b[38;5;241m.\u001b[39mstart_filter()\n\u001b[0;32m---> 50\u001b[0m     \u001b[38;5;28;01mreturn\u001b[39;00m \u001b[43mdraw\u001b[49m\u001b[43m(\u001b[49m\u001b[43martist\u001b[49m\u001b[43m,\u001b[49m\u001b[43m \u001b[49m\u001b[43mrenderer\u001b[49m\u001b[43m)\u001b[49m\n\u001b[1;32m     51\u001b[0m \u001b[38;5;28;01mfinally\u001b[39;00m:\n\u001b[1;32m     52\u001b[0m     \u001b[38;5;28;01mif\u001b[39;00m artist\u001b[38;5;241m.\u001b[39mget_agg_filter() \u001b[38;5;129;01mis\u001b[39;00m \u001b[38;5;129;01mnot\u001b[39;00m \u001b[38;5;28;01mNone\u001b[39;00m:\n",
      "File \u001b[0;32m~/.conda/envs/jupyter/lib/python3.8/site-packages/matplotlib/axis.py:1158\u001b[0m, in \u001b[0;36mAxis.draw\u001b[0;34m(self, renderer, *args, **kwargs)\u001b[0m\n\u001b[1;32m   1155\u001b[0m     \u001b[38;5;28;01mreturn\u001b[39;00m\n\u001b[1;32m   1156\u001b[0m renderer\u001b[38;5;241m.\u001b[39mopen_group(\u001b[38;5;18m__name__\u001b[39m, gid\u001b[38;5;241m=\u001b[39m\u001b[38;5;28mself\u001b[39m\u001b[38;5;241m.\u001b[39mget_gid())\n\u001b[0;32m-> 1158\u001b[0m ticks_to_draw \u001b[38;5;241m=\u001b[39m \u001b[38;5;28;43mself\u001b[39;49m\u001b[38;5;241;43m.\u001b[39;49m\u001b[43m_update_ticks\u001b[49m\u001b[43m(\u001b[49m\u001b[43m)\u001b[49m\n\u001b[1;32m   1159\u001b[0m ticklabelBoxes, ticklabelBoxes2 \u001b[38;5;241m=\u001b[39m \u001b[38;5;28mself\u001b[39m\u001b[38;5;241m.\u001b[39m_get_tick_bboxes(ticks_to_draw,\n\u001b[1;32m   1160\u001b[0m                                                         renderer)\n\u001b[1;32m   1162\u001b[0m \u001b[38;5;28;01mfor\u001b[39;00m tick \u001b[38;5;129;01min\u001b[39;00m ticks_to_draw:\n",
      "File \u001b[0;32m~/.conda/envs/jupyter/lib/python3.8/site-packages/matplotlib/axis.py:1055\u001b[0m, in \u001b[0;36mAxis._update_ticks\u001b[0;34m(self)\u001b[0m\n\u001b[1;32m   1053\u001b[0m minor_locs \u001b[38;5;241m=\u001b[39m \u001b[38;5;28mself\u001b[39m\u001b[38;5;241m.\u001b[39mget_minorticklocs()\n\u001b[1;32m   1054\u001b[0m minor_labels \u001b[38;5;241m=\u001b[39m \u001b[38;5;28mself\u001b[39m\u001b[38;5;241m.\u001b[39mminor\u001b[38;5;241m.\u001b[39mformatter\u001b[38;5;241m.\u001b[39mformat_ticks(minor_locs)\n\u001b[0;32m-> 1055\u001b[0m minor_ticks \u001b[38;5;241m=\u001b[39m \u001b[38;5;28;43mself\u001b[39;49m\u001b[38;5;241;43m.\u001b[39;49m\u001b[43mget_minor_ticks\u001b[49m\u001b[43m(\u001b[49m\u001b[38;5;28;43mlen\u001b[39;49m\u001b[43m(\u001b[49m\u001b[43mminor_locs\u001b[49m\u001b[43m)\u001b[49m\u001b[43m)\u001b[49m\n\u001b[1;32m   1056\u001b[0m \u001b[38;5;28mself\u001b[39m\u001b[38;5;241m.\u001b[39mminor\u001b[38;5;241m.\u001b[39mformatter\u001b[38;5;241m.\u001b[39mset_locs(minor_locs)\n\u001b[1;32m   1057\u001b[0m \u001b[38;5;28;01mfor\u001b[39;00m tick, loc, label \u001b[38;5;129;01min\u001b[39;00m \u001b[38;5;28mzip\u001b[39m(minor_ticks, minor_locs, minor_labels):\n",
      "File \u001b[0;32m~/.conda/envs/jupyter/lib/python3.8/site-packages/matplotlib/axis.py:1388\u001b[0m, in \u001b[0;36mAxis.get_minor_ticks\u001b[0;34m(self, numticks)\u001b[0m\n\u001b[1;32m   1384\u001b[0m     numticks \u001b[38;5;241m=\u001b[39m \u001b[38;5;28mlen\u001b[39m(\u001b[38;5;28mself\u001b[39m\u001b[38;5;241m.\u001b[39mget_minorticklocs())\n\u001b[1;32m   1386\u001b[0m \u001b[38;5;28;01mwhile\u001b[39;00m \u001b[38;5;28mlen\u001b[39m(\u001b[38;5;28mself\u001b[39m\u001b[38;5;241m.\u001b[39mminorTicks) \u001b[38;5;241m<\u001b[39m numticks:\n\u001b[1;32m   1387\u001b[0m     \u001b[38;5;66;03m# Update the new tick label properties from the old.\u001b[39;00m\n\u001b[0;32m-> 1388\u001b[0m     tick \u001b[38;5;241m=\u001b[39m \u001b[38;5;28;43mself\u001b[39;49m\u001b[38;5;241;43m.\u001b[39;49m\u001b[43m_get_tick\u001b[49m\u001b[43m(\u001b[49m\u001b[43mmajor\u001b[49m\u001b[38;5;241;43m=\u001b[39;49m\u001b[38;5;28;43;01mFalse\u001b[39;49;00m\u001b[43m)\u001b[49m\n\u001b[1;32m   1389\u001b[0m     \u001b[38;5;28mself\u001b[39m\u001b[38;5;241m.\u001b[39mminorTicks\u001b[38;5;241m.\u001b[39mappend(tick)\n\u001b[1;32m   1390\u001b[0m     \u001b[38;5;28mself\u001b[39m\u001b[38;5;241m.\u001b[39m_copy_tick_props(\u001b[38;5;28mself\u001b[39m\u001b[38;5;241m.\u001b[39mminorTicks[\u001b[38;5;241m0\u001b[39m], tick)\n",
      "File \u001b[0;32m~/.conda/envs/jupyter/lib/python3.8/site-packages/matplotlib/axis.py:2057\u001b[0m, in \u001b[0;36mXAxis._get_tick\u001b[0;34m(self, major)\u001b[0m\n\u001b[1;32m   2055\u001b[0m \u001b[38;5;28;01melse\u001b[39;00m:\n\u001b[1;32m   2056\u001b[0m     tick_kw \u001b[38;5;241m=\u001b[39m \u001b[38;5;28mself\u001b[39m\u001b[38;5;241m.\u001b[39m_minor_tick_kw\n\u001b[0;32m-> 2057\u001b[0m \u001b[38;5;28;01mreturn\u001b[39;00m \u001b[43mXTick\u001b[49m\u001b[43m(\u001b[49m\u001b[38;5;28;43mself\u001b[39;49m\u001b[38;5;241;43m.\u001b[39;49m\u001b[43maxes\u001b[49m\u001b[43m,\u001b[49m\u001b[43m \u001b[49m\u001b[38;5;241;43m0\u001b[39;49m\u001b[43m,\u001b[49m\u001b[43m \u001b[49m\u001b[43mmajor\u001b[49m\u001b[38;5;241;43m=\u001b[39;49m\u001b[43mmajor\u001b[49m\u001b[43m,\u001b[49m\u001b[43m \u001b[49m\u001b[38;5;241;43m*\u001b[39;49m\u001b[38;5;241;43m*\u001b[39;49m\u001b[43mtick_kw\u001b[49m\u001b[43m)\u001b[49m\n",
      "File \u001b[0;32m~/.conda/envs/jupyter/lib/python3.8/site-packages/matplotlib/axis.py:415\u001b[0m, in \u001b[0;36mXTick.__init__\u001b[0;34m(self, *args, **kwargs)\u001b[0m\n\u001b[1;32m    414\u001b[0m \u001b[38;5;28;01mdef\u001b[39;00m \u001b[38;5;21m__init__\u001b[39m(\u001b[38;5;28mself\u001b[39m, \u001b[38;5;241m*\u001b[39margs, \u001b[38;5;241m*\u001b[39m\u001b[38;5;241m*\u001b[39mkwargs):\n\u001b[0;32m--> 415\u001b[0m     \u001b[38;5;28;43msuper\u001b[39;49m\u001b[43m(\u001b[49m\u001b[43m)\u001b[49m\u001b[38;5;241;43m.\u001b[39;49m\u001b[38;5;21;43m__init__\u001b[39;49m\u001b[43m(\u001b[49m\u001b[38;5;241;43m*\u001b[39;49m\u001b[43margs\u001b[49m\u001b[43m,\u001b[49m\u001b[43m \u001b[49m\u001b[38;5;241;43m*\u001b[39;49m\u001b[38;5;241;43m*\u001b[39;49m\u001b[43mkwargs\u001b[49m\u001b[43m)\u001b[49m\n\u001b[1;32m    416\u001b[0m     \u001b[38;5;66;03m# x in data coords, y in axes coords\u001b[39;00m\n\u001b[1;32m    417\u001b[0m     ax \u001b[38;5;241m=\u001b[39m \u001b[38;5;28mself\u001b[39m\u001b[38;5;241m.\u001b[39maxes\n",
      "File \u001b[0;32m~/.conda/envs/jupyter/lib/python3.8/site-packages/matplotlib/axis.py:172\u001b[0m, in \u001b[0;36mTick.__init__\u001b[0;34m(self, axes, loc, size, width, color, tickdir, pad, labelsize, labelcolor, zorder, gridOn, tick1On, tick2On, label1On, label2On, major, labelrotation, grid_color, grid_linestyle, grid_linewidth, grid_alpha, **kw)\u001b[0m\n\u001b[1;32m    166\u001b[0m \u001b[38;5;28mself\u001b[39m\u001b[38;5;241m.\u001b[39mgridline\u001b[38;5;241m.\u001b[39mget_path()\u001b[38;5;241m.\u001b[39m_interpolation_steps \u001b[38;5;241m=\u001b[39m \\\n\u001b[1;32m    167\u001b[0m     GRIDLINE_INTERPOLATION_STEPS\n\u001b[1;32m    168\u001b[0m \u001b[38;5;28mself\u001b[39m\u001b[38;5;241m.\u001b[39mlabel1 \u001b[38;5;241m=\u001b[39m mtext\u001b[38;5;241m.\u001b[39mText(\n\u001b[1;32m    169\u001b[0m     np\u001b[38;5;241m.\u001b[39mnan, np\u001b[38;5;241m.\u001b[39mnan,\n\u001b[1;32m    170\u001b[0m     fontsize\u001b[38;5;241m=\u001b[39mlabelsize, color\u001b[38;5;241m=\u001b[39mlabelcolor, visible\u001b[38;5;241m=\u001b[39mlabel1On,\n\u001b[1;32m    171\u001b[0m     rotation\u001b[38;5;241m=\u001b[39m\u001b[38;5;28mself\u001b[39m\u001b[38;5;241m.\u001b[39m_labelrotation[\u001b[38;5;241m1\u001b[39m])\n\u001b[0;32m--> 172\u001b[0m \u001b[38;5;28mself\u001b[39m\u001b[38;5;241m.\u001b[39mlabel2 \u001b[38;5;241m=\u001b[39m \u001b[43mmtext\u001b[49m\u001b[38;5;241;43m.\u001b[39;49m\u001b[43mText\u001b[49m\u001b[43m(\u001b[49m\n\u001b[1;32m    173\u001b[0m \u001b[43m    \u001b[49m\u001b[43mnp\u001b[49m\u001b[38;5;241;43m.\u001b[39;49m\u001b[43mnan\u001b[49m\u001b[43m,\u001b[49m\u001b[43m \u001b[49m\u001b[43mnp\u001b[49m\u001b[38;5;241;43m.\u001b[39;49m\u001b[43mnan\u001b[49m\u001b[43m,\u001b[49m\n\u001b[1;32m    174\u001b[0m \u001b[43m    \u001b[49m\u001b[43mfontsize\u001b[49m\u001b[38;5;241;43m=\u001b[39;49m\u001b[43mlabelsize\u001b[49m\u001b[43m,\u001b[49m\u001b[43m \u001b[49m\u001b[43mcolor\u001b[49m\u001b[38;5;241;43m=\u001b[39;49m\u001b[43mlabelcolor\u001b[49m\u001b[43m,\u001b[49m\u001b[43m \u001b[49m\u001b[43mvisible\u001b[49m\u001b[38;5;241;43m=\u001b[39;49m\u001b[43mlabel2On\u001b[49m\u001b[43m,\u001b[49m\n\u001b[1;32m    175\u001b[0m \u001b[43m    \u001b[49m\u001b[43mrotation\u001b[49m\u001b[38;5;241;43m=\u001b[39;49m\u001b[38;5;28;43mself\u001b[39;49m\u001b[38;5;241;43m.\u001b[39;49m\u001b[43m_labelrotation\u001b[49m\u001b[43m[\u001b[49m\u001b[38;5;241;43m1\u001b[39;49m\u001b[43m]\u001b[49m\u001b[43m)\u001b[49m\n\u001b[1;32m    177\u001b[0m \u001b[38;5;28mself\u001b[39m\u001b[38;5;241m.\u001b[39m_apply_tickdir(tickdir)\n\u001b[1;32m    179\u001b[0m \u001b[38;5;28;01mfor\u001b[39;00m artist \u001b[38;5;129;01min\u001b[39;00m [\u001b[38;5;28mself\u001b[39m\u001b[38;5;241m.\u001b[39mtick1line, \u001b[38;5;28mself\u001b[39m\u001b[38;5;241m.\u001b[39mtick2line, \u001b[38;5;28mself\u001b[39m\u001b[38;5;241m.\u001b[39mgridline,\n\u001b[1;32m    180\u001b[0m                \u001b[38;5;28mself\u001b[39m\u001b[38;5;241m.\u001b[39mlabel1, \u001b[38;5;28mself\u001b[39m\u001b[38;5;241m.\u001b[39mlabel2]:\n",
      "File \u001b[0;32m~/.conda/envs/jupyter/lib/python3.8/site-packages/matplotlib/text.py:160\u001b[0m, in \u001b[0;36mText.__init__\u001b[0;34m(self, x, y, text, color, verticalalignment, horizontalalignment, multialignment, fontproperties, rotation, linespacing, rotation_mode, usetex, wrap, transform_rotates_text, parse_math, **kwargs)\u001b[0m\n\u001b[1;32m    158\u001b[0m \u001b[38;5;28mself\u001b[39m\u001b[38;5;241m.\u001b[39m_linespacing \u001b[38;5;241m=\u001b[39m linespacing\n\u001b[1;32m    159\u001b[0m \u001b[38;5;28mself\u001b[39m\u001b[38;5;241m.\u001b[39mset_rotation_mode(rotation_mode)\n\u001b[0;32m--> 160\u001b[0m \u001b[38;5;28;43mself\u001b[39;49m\u001b[38;5;241;43m.\u001b[39;49m\u001b[43mupdate\u001b[49m\u001b[43m(\u001b[49m\u001b[43mkwargs\u001b[49m\u001b[43m)\u001b[49m\n",
      "File \u001b[0;32m~/.conda/envs/jupyter/lib/python3.8/site-packages/matplotlib/text.py:172\u001b[0m, in \u001b[0;36mText.update\u001b[0;34m(self, kwargs)\u001b[0m\n\u001b[1;32m    170\u001b[0m \u001b[38;5;66;03m# Update bbox last, as it depends on font properties.\u001b[39;00m\n\u001b[1;32m    171\u001b[0m bbox \u001b[38;5;241m=\u001b[39m kwargs\u001b[38;5;241m.\u001b[39mpop(\u001b[38;5;124m\"\u001b[39m\u001b[38;5;124mbbox\u001b[39m\u001b[38;5;124m\"\u001b[39m, sentinel)\n\u001b[0;32m--> 172\u001b[0m \u001b[38;5;28;43msuper\u001b[39;49m\u001b[43m(\u001b[49m\u001b[43m)\u001b[49m\u001b[38;5;241;43m.\u001b[39;49m\u001b[43mupdate\u001b[49m\u001b[43m(\u001b[49m\u001b[43mkwargs\u001b[49m\u001b[43m)\u001b[49m\n\u001b[1;32m    173\u001b[0m \u001b[38;5;28;01mif\u001b[39;00m bbox \u001b[38;5;129;01mis\u001b[39;00m \u001b[38;5;129;01mnot\u001b[39;00m sentinel:\n\u001b[1;32m    174\u001b[0m     \u001b[38;5;28mself\u001b[39m\u001b[38;5;241m.\u001b[39mset_bbox(bbox)\n",
      "File \u001b[0;32m~/.conda/envs/jupyter/lib/python3.8/site-packages/matplotlib/artist.py:1069\u001b[0m, in \u001b[0;36mArtist.update\u001b[0;34m(self, props)\u001b[0m\n\u001b[1;32m   1067\u001b[0m \u001b[38;5;28;01mif\u001b[39;00m ret:\n\u001b[1;32m   1068\u001b[0m     \u001b[38;5;28mself\u001b[39m\u001b[38;5;241m.\u001b[39mpchanged()\n\u001b[0;32m-> 1069\u001b[0m     \u001b[38;5;28;43mself\u001b[39;49m\u001b[38;5;241;43m.\u001b[39;49m\u001b[43mstale\u001b[49m \u001b[38;5;241m=\u001b[39m \u001b[38;5;28;01mTrue\u001b[39;00m\n\u001b[1;32m   1070\u001b[0m \u001b[38;5;28;01mreturn\u001b[39;00m ret\n",
      "File \u001b[0;32m~/.conda/envs/jupyter/lib/python3.8/site-packages/matplotlib/artist.py:290\u001b[0m, in \u001b[0;36mArtist.stale\u001b[0;34m(self, val)\u001b[0m\n\u001b[1;32m    284\u001b[0m \u001b[38;5;250m    \u001b[39m\u001b[38;5;124;03m\"\"\"\u001b[39;00m\n\u001b[1;32m    285\u001b[0m \u001b[38;5;124;03m    Whether the artist is 'stale' and needs to be re-drawn for the output\u001b[39;00m\n\u001b[1;32m    286\u001b[0m \u001b[38;5;124;03m    to match the internal state of the artist.\u001b[39;00m\n\u001b[1;32m    287\u001b[0m \u001b[38;5;124;03m    \"\"\"\u001b[39;00m\n\u001b[1;32m    288\u001b[0m     \u001b[38;5;28;01mreturn\u001b[39;00m \u001b[38;5;28mself\u001b[39m\u001b[38;5;241m.\u001b[39m_stale\n\u001b[0;32m--> 290\u001b[0m \u001b[38;5;129m@stale\u001b[39m\u001b[38;5;241m.\u001b[39msetter\n\u001b[1;32m    291\u001b[0m \u001b[38;5;28;01mdef\u001b[39;00m \u001b[38;5;21mstale\u001b[39m(\u001b[38;5;28mself\u001b[39m, val):\n\u001b[1;32m    292\u001b[0m     \u001b[38;5;28mself\u001b[39m\u001b[38;5;241m.\u001b[39m_stale \u001b[38;5;241m=\u001b[39m val\n\u001b[1;32m    294\u001b[0m     \u001b[38;5;66;03m# if the artist is animated it does not take normal part in the\u001b[39;00m\n\u001b[1;32m    295\u001b[0m     \u001b[38;5;66;03m# draw stack and is not expected to be drawn as part of the normal\u001b[39;00m\n\u001b[1;32m    296\u001b[0m     \u001b[38;5;66;03m# draw loop (when not saving) so do not propagate this change\u001b[39;00m\n",
      "\u001b[0;31mKeyboardInterrupt\u001b[0m: "
     ]
    }
   ],
   "source": [
    "def plot_luminosity_vs_AUC(ax, df, sample_type_pattern, luminosities, label=None):\n",
    "    AUCs, AUC_errors = [], []\n",
    "    for L in luminosities:\n",
    "        sample_type = sample_type_pattern.format(L)\n",
    "        AUC = df[df['Sample Type'] == sample_type]['AUC-true']\n",
    "        AUCs.append(AUC.mean())\n",
    "        AUC_errors.append(AUC.std())\n",
    "    ax.errorbar(luminosities, AUCs, yerr=AUC_errors, fmt='o-', label=label)\n",
    "\n",
    "\n",
    "fig, ax = plt.subplots(figsize=(5, 4))\n",
    "\n",
    "sample_type_pattern = 'quark jet: = 2, L: {} fb^-1, w/o photon'\n",
    "luminosities = [100, 300, 900, 1800, 3000]\n",
    "plot_luminosity_vs_AUC(ax, df, sample_type_pattern, luminosities, label='w/o photon')\n",
    "\n",
    "sample_type_pattern = 'quark jet: = 2, L: {} fb^-1, w/ photon'\n",
    "plot_luminosity_vs_AUC(ax, df, sample_type_pattern, luminosities, label='w/ photon')\n",
    "\n",
    "ax.set_xscale('log')\n",
    "ax.set_xlabel('Luminosity [fb$^{-1}$]')\n",
    "ax.set_ylabel('AUC (pure events)')\n",
    "ax.set_title('Particle Transformer')\n",
    "ax.legend(frameon=False, loc='lower right')\n",
    "\n",
    "# plt.savefig('../figures/ParT_AUC-true_L.pdf', dpi=300, facecolor='White', bbox_inches='tight')\n",
    "plt.show()"
   ]
  },
  {
   "cell_type": "code",
   "execution_count": null,
   "id": "276a5a61",
   "metadata": {},
   "outputs": [],
   "source": [
    "file_name = './GGF_VBF_training_results.csv'\n",
    "df = pd.read_csv(file_name)\n",
    "df = df.query(\"time > '2025-08-21' and time < '2025-08-23 07'\")"
   ]
  },
  {
   "cell_type": "code",
   "execution_count": null,
   "id": "90677ee6",
   "metadata": {},
   "outputs": [
    {
     "data": {
      "image/png": "[encoded data removed]",
      "text/plain": [
       "<Figure size 500x400 with 1 Axes>"
      ]
     },
     "metadata": {},
     "output_type": "display_data"
    }
   ],
   "source": [
    "def plot_luminosity_vs_AUC(ax, df, sample_type_pattern, luminosities, label=None):\n",
    "    AUCs, AUC_errors = [], []\n",
    "    for L in luminosities:\n",
    "        sample_type = sample_type_pattern.format(L)\n",
    "        AUC = df[df['Sample Type'] == sample_type]['AUC-true']\n",
    "        AUCs.append(AUC.mean())\n",
    "        AUC_errors.append(AUC.std())\n",
    "    ax.errorbar(luminosities, AUCs, yerr=AUC_errors, fmt='o-', label=label)\n",
    "\n",
    "\n",
    "fig, ax = plt.subplots(figsize=(5, 4))\n",
    "\n",
    "sample_type_pattern = 'quark jet: = 2, L: {} fb^-1, w/o photon, pT normalization'\n",
    "luminosities = [100, 300, 900, 1800, 3000]\n",
    "plot_luminosity_vs_AUC(ax, df, sample_type_pattern, luminosities, label='w/o photon')\n",
    "\n",
    "sample_type_pattern = 'quark jet: = 2, L: {} fb^-1, w/ photon, pT normalization'\n",
    "plot_luminosity_vs_AUC(ax, df, sample_type_pattern, luminosities, label='w/ photon')\n",
    "\n",
    "ax.set_xscale('log')\n",
    "ax.set_xlabel('Luminosity [fb$^{-1}$]')\n",
    "ax.set_ylabel('AUC (pure events)')\n",
    "ax.set_title('Particle Transformer')\n",
    "ax.legend(frameon=False, loc='lower right')\n",
    "\n",
    "# plt.savefig('../figures/ParT_AUC-true_L-pTnorm.pdf', dpi=300, facecolor='White', bbox_inches='tight')\n",
    "plt.show()"
   ]
  },
  {
   "cell_type": "markdown",
   "id": "033a55a0",
   "metadata": {},
   "source": [
    "## Without photon"
   ]
  },
  {
   "cell_type": "code",
   "execution_count": null,
   "id": "ef1868f9",
   "metadata": {},
   "outputs": [],
   "source": [
    "file_name = './GGF_VBF_training_results.csv'\n",
    "df = pd.read_csv(file_name)\n",
    "df = df.query(\"time > '2025-08-12' and time < '2025-08-13 09'\")"
   ]
  },
  {
   "cell_type": "code",
   "execution_count": null,
   "id": "0bb5f62e",
   "metadata": {},
   "outputs": [
    {
     "name": "stdout",
     "output_type": "stream",
     "text": [
      "quark jet: = 2, L: 100 fb^-1, w/o photon\n",
      "ACC: 0.603 ± 0.010\n",
      "AUC: 0.546 ± 0.037\n",
      "True ACC and AUC\n",
      "ACC: 0.538 ± 0.031\n",
      "AUC: 0.540 ± 0.053\n",
      "$0.603 \\pm 0.010$ & $0.546 \\pm 0.037$ & $0.538 \\pm 0.031$ & $0.540 \\pm 0.053$\n",
      "\n",
      "quark jet: = 2, L: 300 fb^-1, w/o photon\n",
      "ACC: 0.603 ± 0.007\n",
      "AUC: 0.543 ± 0.044\n",
      "True ACC and AUC\n",
      "ACC: 0.562 ± 0.046\n",
      "AUC: 0.578 ± 0.070\n",
      "$0.603 \\pm 0.007$ & $0.543 \\pm 0.044$ & $0.562 \\pm 0.046$ & $0.578 \\pm 0.070$\n",
      "\n",
      "quark jet: = 2, L: 900 fb^-1, w/o photon\n",
      "ACC: 0.600 ± 0.006\n",
      "AUC: 0.549 ± 0.031\n",
      "True ACC and AUC\n",
      "ACC: 0.566 ± 0.046\n",
      "AUC: 0.586 ± 0.065\n",
      "$0.600 \\pm 0.006$ & $0.549 \\pm 0.031$ & $0.566 \\pm 0.046$ & $0.586 \\pm 0.065$\n",
      "\n",
      "quark jet: = 2, L: 1800 fb^-1, w/o photon\n",
      "ACC: 0.607 ± 0.014\n",
      "AUC: 0.578 ± 0.052\n",
      "True ACC and AUC\n",
      "ACC: 0.601 ± 0.063\n",
      "AUC: 0.636 ± 0.086\n",
      "$0.607 \\pm 0.014$ & $0.578 \\pm 0.052$ & $0.601 \\pm 0.063$ & $0.636 \\pm 0.086$\n",
      "\n",
      "quark jet: = 2, L: 3000 fb^-1, w/o photon\n",
      "ACC: 0.618 ± 0.017\n",
      "AUC: 0.611 ± 0.066\n",
      "True ACC and AUC\n",
      "ACC: 0.650 ± 0.075\n",
      "AUC: 0.695 ± 0.111\n",
      "$0.618 \\pm 0.017$ & $0.611 \\pm 0.066$ & $0.650 \\pm 0.075$ & $0.695 \\pm 0.111$\n"
     ]
    }
   ],
   "source": [
    "sample_type = 'quark jet: = 2, L: 100 fb^-1, w/o photon'\n",
    "print_ACC_AUC(df, sample_type)\n",
    "print()\n",
    "\n",
    "sample_type = 'quark jet: = 2, L: 300 fb^-1, w/o photon'\n",
    "print_ACC_AUC(df, sample_type)\n",
    "print()\n",
    "\n",
    "sample_type = 'quark jet: = 2, L: 900 fb^-1, w/o photon'\n",
    "print_ACC_AUC(df, sample_type)\n",
    "print()\n",
    "\n",
    "sample_type = 'quark jet: = 2, L: 1800 fb^-1, w/o photon'\n",
    "print_ACC_AUC(df, sample_type)\n",
    "print()\n",
    "\n",
    "sample_type = 'quark jet: = 2, L: 3000 fb^-1, w/o photon'\n",
    "print_ACC_AUC(df, sample_type)"
   ]
  },
  {
   "cell_type": "code",
   "execution_count": null,
   "id": "0c06779e",
   "metadata": {},
   "outputs": [],
   "source": [
    "file_name = './GGF_VBF_training_results.csv'\n",
    "df = pd.read_csv(file_name)\n",
    "df = df.query(\"time > '2025-08-13 09' and time < '2025-08-14 02'\")"
   ]
  },
  {
   "cell_type": "code",
   "execution_count": null,
   "id": "5c658514",
   "metadata": {},
   "outputs": [
    {
     "name": "stdout",
     "output_type": "stream",
     "text": [
      "quark jet: = 2, L: 100 fb^-1, w/o photon\n",
      "ACC: 0.612 ± 0.019\n",
      "AUC: 0.544 ± 0.061\n",
      "True ACC and AUC\n",
      "ACC: 0.545 ± 0.044\n",
      "AUC: 0.536 ± 0.082\n",
      "$0.612 \\pm 0.019$ & $0.544 \\pm 0.061$ & $0.545 \\pm 0.044$ & $0.536 \\pm 0.082$\n",
      "\n",
      "quark jet: = 2, L: 300 fb^-1, w/o photon\n",
      "ACC: 0.602 ± 0.012\n",
      "AUC: 0.535 ± 0.062\n",
      "True ACC and AUC\n",
      "ACC: 0.556 ± 0.046\n",
      "AUC: 0.564 ± 0.072\n",
      "$0.602 \\pm 0.012$ & $0.535 \\pm 0.062$ & $0.556 \\pm 0.046$ & $0.564 \\pm 0.072$\n",
      "\n",
      "quark jet: = 2, L: 900 fb^-1, w/o photon\n",
      "ACC: 0.610 ± 0.020\n",
      "AUC: 0.576 ± 0.064\n",
      "True ACC and AUC\n",
      "ACC: 0.595 ± 0.080\n",
      "AUC: 0.625 ± 0.110\n",
      "$0.610 \\pm 0.020$ & $0.576 \\pm 0.064$ & $0.595 \\pm 0.080$ & $0.625 \\pm 0.110$\n",
      "\n",
      "quark jet: = 2, L: 1800 fb^-1, w/o photon\n",
      "ACC: 0.620 ± 0.022\n",
      "AUC: 0.592 ± 0.098\n",
      "True ACC and AUC\n",
      "ACC: 0.637 ± 0.105\n",
      "AUC: 0.661 ± 0.168\n",
      "$0.620 \\pm 0.022$ & $0.592 \\pm 0.098$ & $0.637 \\pm 0.105$ & $0.661 \\pm 0.168$\n",
      "\n",
      "quark jet: = 2, L: 3000 fb^-1, w/o photon\n",
      "ACC: 0.637 ± 0.008\n",
      "AUC: 0.667 ± 0.015\n",
      "True ACC and AUC\n",
      "ACC: 0.714 ± 0.022\n",
      "AUC: 0.782 ± 0.026\n",
      "$0.637 \\pm 0.008$ & $0.667 \\pm 0.015$ & $0.714 \\pm 0.022$ & $0.782 \\pm 0.026$\n"
     ]
    }
   ],
   "source": [
    "sample_type = 'quark jet: = 2, L: 100 fb^-1, w/o photon'\n",
    "print_ACC_AUC(df, sample_type)\n",
    "print()\n",
    "\n",
    "sample_type = 'quark jet: = 2, L: 300 fb^-1, w/o photon'\n",
    "print_ACC_AUC(df, sample_type)\n",
    "print()\n",
    "\n",
    "sample_type = 'quark jet: = 2, L: 900 fb^-1, w/o photon'\n",
    "print_ACC_AUC(df, sample_type)\n",
    "print()\n",
    "\n",
    "sample_type = 'quark jet: = 2, L: 1800 fb^-1, w/o photon'\n",
    "print_ACC_AUC(df, sample_type)\n",
    "print()\n",
    "\n",
    "sample_type = 'quark jet: = 2, L: 3000 fb^-1, w/o photon'\n",
    "print_ACC_AUC(df, sample_type)"
   ]
  },
  {
   "cell_type": "markdown",
   "id": "b70b8673",
   "metadata": {},
   "source": [
    "## $\\phi$-shifting"
   ]
  },
  {
   "cell_type": "code",
   "execution_count": null,
   "id": "ac1aa1d2",
   "metadata": {},
   "outputs": [],
   "source": [
    "file_name = './GGF_VBF_training_results.csv'\n",
    "df = pd.read_csv(file_name)\n",
    "df = df.query(\"time > '2025-08-13 09' and time < '2025-08-14'\")"
   ]
  },
  {
   "cell_type": "code",
   "execution_count": null,
   "id": "ccac966e",
   "metadata": {},
   "outputs": [
    {
     "name": "stdout",
     "output_type": "stream",
     "text": [
      "quark jet: = 2, L: 100 fb^-1, w/o photon\n",
      "ACC: 0.612 ± 0.019\n",
      "AUC: 0.544 ± 0.061\n",
      "True ACC and AUC\n",
      "ACC: 0.545 ± 0.044\n",
      "AUC: 0.536 ± 0.082\n",
      "$0.612 \\pm 0.019$ & $0.544 \\pm 0.061$ & $0.545 \\pm 0.044$ & $0.536 \\pm 0.082$\n",
      "\n",
      "quark jet: = 2, L: 100 fb^-1, w/o photon, phi shifting: +5\n",
      "ACC: 0.595 ± 0.005\n",
      "AUC: 0.495 ± 0.031\n",
      "True ACC and AUC\n",
      "ACC: 0.515 ± 0.014\n",
      "AUC: 0.492 ± 0.042\n",
      "$0.595 \\pm 0.005$ & $0.495 \\pm 0.031$ & $0.515 \\pm 0.014$ & $0.492 \\pm 0.042$\n",
      "\n",
      "quark jet: = 2, L: 100 fb^-1, w/o photon, phi shifting: +10\n",
      "ACC: 0.606 ± 0.017\n",
      "AUC: 0.552 ± 0.065\n",
      "True ACC and AUC\n",
      "ACC: 0.579 ± 0.063\n",
      "AUC: 0.599 ± 0.094\n",
      "$0.606 \\pm 0.017$ & $0.552 \\pm 0.065$ & $0.579 \\pm 0.063$ & $0.599 \\pm 0.094$\n",
      "\n",
      "quark jet: = 2, L: 100 fb^-1, w/o photon, phi shifting: +15\n",
      "ACC: 0.630 ± 0.028\n",
      "AUC: 0.620 ± 0.065\n",
      "True ACC and AUC\n",
      "ACC: 0.646 ± 0.066\n",
      "AUC: 0.693 ± 0.093\n",
      "$0.630 \\pm 0.028$ & $0.620 \\pm 0.065$ & $0.646 \\pm 0.066$ & $0.693 \\pm 0.093$\n"
     ]
    }
   ],
   "source": [
    "sample_type = 'quark jet: = 2, L: 100 fb^-1, w/o photon'\n",
    "print_ACC_AUC(df, sample_type)\n",
    "print()\n",
    "\n",
    "sample_type = 'quark jet: = 2, L: 100 fb^-1, w/o photon, phi shifting: +5'\n",
    "print_ACC_AUC(df, sample_type)\n",
    "print()\n",
    "\n",
    "sample_type = 'quark jet: = 2, L: 100 fb^-1, w/o photon, phi shifting: +10'\n",
    "print_ACC_AUC(df, sample_type)\n",
    "print()\n",
    "\n",
    "sample_type = 'quark jet: = 2, L: 100 fb^-1, w/o photon, phi shifting: +15'\n",
    "print_ACC_AUC(df, sample_type)"
   ]
  },
  {
   "cell_type": "markdown",
   "id": "40b20fd9",
   "metadata": {},
   "source": [
    "## pT nomalization"
   ]
  },
  {
   "cell_type": "code",
   "execution_count": null,
   "id": "f5240f20",
   "metadata": {},
   "outputs": [],
   "source": [
    "file_name = './GGF_VBF_training_results.csv'\n",
    "df = pd.read_csv(file_name)\n",
    "df = df.query(\"time > '2025-08-21' and time < '2025-08-23 07'\")"
   ]
  },
  {
   "cell_type": "code",
   "execution_count": null,
   "id": "b003bb51",
   "metadata": {},
   "outputs": [
    {
     "name": "stdout",
     "output_type": "stream",
     "text": [
      "quark jet: = 2, L: 100 fb^-1, w/ photon, pT normalization\n",
      "ACC: 0.600 ± 0.011\n",
      "AUC: 0.511 ± 0.044\n",
      "True ACC and AUC\n",
      "ACC: 0.531 ± 0.028\n",
      "AUC: 0.510 ± 0.067\n",
      "$0.600 \\pm 0.011$ & $0.511 \\pm 0.044$ & $0.531 \\pm 0.028$ & $0.510 \\pm 0.067$\n",
      "\n",
      "quark jet: = 2, L: 300 fb^-1, w/ photon, pT normalization\n",
      "ACC: 0.601 ± 0.007\n",
      "AUC: 0.533 ± 0.050\n",
      "True ACC and AUC\n",
      "ACC: 0.553 ± 0.048\n",
      "AUC: 0.543 ± 0.092\n",
      "$0.601 \\pm 0.007$ & $0.533 \\pm 0.050$ & $0.553 \\pm 0.048$ & $0.543 \\pm 0.092$\n",
      "\n",
      "quark jet: = 2, L: 900 fb^-1, w/ photon, pT normalization\n",
      "ACC: 0.604 ± 0.013\n",
      "AUC: 0.549 ± 0.062\n",
      "True ACC and AUC\n",
      "ACC: 0.591 ± 0.077\n",
      "AUC: 0.605 ± 0.128\n",
      "$0.604 \\pm 0.013$ & $0.549 \\pm 0.062$ & $0.591 \\pm 0.077$ & $0.605 \\pm 0.128$\n",
      "\n",
      "quark jet: = 2, L: 1800 fb^-1, w/ photon, pT normalization\n",
      "ACC: 0.617 ± 0.012\n",
      "AUC: 0.616 ± 0.063\n",
      "True ACC and AUC\n",
      "ACC: 0.659 ± 0.067\n",
      "AUC: 0.704 ± 0.114\n",
      "$0.617 \\pm 0.012$ & $0.616 \\pm 0.063$ & $0.659 \\pm 0.067$ & $0.704 \\pm 0.114$\n",
      "\n",
      "quark jet: = 2, L: 3000 fb^-1, w/ photon, pT normalization\n",
      "ACC: 0.617 ± 0.016\n",
      "AUC: 0.609 ± 0.072\n",
      "True ACC and AUC\n",
      "ACC: 0.650 ± 0.086\n",
      "AUC: 0.696 ± 0.122\n",
      "$0.617 \\pm 0.016$ & $0.609 \\pm 0.072$ & $0.650 \\pm 0.086$ & $0.696 \\pm 0.122$\n"
     ]
    }
   ],
   "source": [
    "sample_type = 'quark jet: = 2, L: 100 fb^-1, w/ photon, pT normalization'\n",
    "print_ACC_AUC(df, sample_type)\n",
    "print()\n",
    "\n",
    "sample_type = 'quark jet: = 2, L: 300 fb^-1, w/ photon, pT normalization'\n",
    "print_ACC_AUC(df, sample_type)\n",
    "print()\n",
    "\n",
    "sample_type = 'quark jet: = 2, L: 900 fb^-1, w/ photon, pT normalization'\n",
    "print_ACC_AUC(df, sample_type)\n",
    "print()\n",
    "\n",
    "sample_type = 'quark jet: = 2, L: 1800 fb^-1, w/ photon, pT normalization'\n",
    "print_ACC_AUC(df, sample_type)\n",
    "print()\n",
    "\n",
    "sample_type = 'quark jet: = 2, L: 3000 fb^-1, w/ photon, pT normalization'\n",
    "print_ACC_AUC(df, sample_type)"
   ]
  },
  {
   "cell_type": "code",
   "execution_count": null,
   "id": "8321dce0",
   "metadata": {},
   "outputs": [
    {
     "name": "stdout",
     "output_type": "stream",
     "text": [
      "quark jet: = 2, L: 100 fb^-1, w/o photon, pT normalization\n",
      "ACC: 0.611 ± 0.014\n",
      "AUC: 0.552 ± 0.032\n",
      "True ACC and AUC\n",
      "ACC: 0.576 ± 0.031\n",
      "AUC: 0.589 ± 0.069\n",
      "$0.611 \\pm 0.014$ & $0.552 \\pm 0.032$ & $0.576 \\pm 0.031$ & $0.589 \\pm 0.069$\n",
      "\n",
      "quark jet: = 2, L: 300 fb^-1, w/o photon, pT normalization\n",
      "ACC: 0.602 ± 0.009\n",
      "AUC: 0.544 ± 0.034\n",
      "True ACC and AUC\n",
      "ACC: 0.568 ± 0.038\n",
      "AUC: 0.583 ± 0.058\n",
      "$0.602 \\pm 0.009$ & $0.544 \\pm 0.034$ & $0.568 \\pm 0.038$ & $0.583 \\pm 0.058$\n",
      "\n",
      "quark jet: = 2, L: 900 fb^-1, w/o photon, pT normalization\n",
      "ACC: 0.617 ± 0.014\n",
      "AUC: 0.596 ± 0.055\n",
      "True ACC and AUC\n",
      "ACC: 0.624 ± 0.067\n",
      "AUC: 0.661 ± 0.097\n",
      "$0.617 \\pm 0.014$ & $0.596 \\pm 0.055$ & $0.624 \\pm 0.067$ & $0.661 \\pm 0.097$\n",
      "\n",
      "quark jet: = 2, L: 1800 fb^-1, w/o photon, pT normalization\n",
      "ACC: 0.619 ± 0.014\n",
      "AUC: 0.619 ± 0.054\n",
      "True ACC and AUC\n",
      "ACC: 0.662 ± 0.057\n",
      "AUC: 0.712 ± 0.083\n",
      "$0.619 \\pm 0.014$ & $0.619 \\pm 0.054$ & $0.662 \\pm 0.057$ & $0.712 \\pm 0.083$\n",
      "\n",
      "quark jet: = 2, L: 3000 fb^-1, w/o photon, pT normalization\n",
      "ACC: 0.629 ± 0.013\n",
      "AUC: 0.649 ± 0.034\n",
      "True ACC and AUC\n",
      "ACC: 0.691 ± 0.031\n",
      "AUC: 0.752 ± 0.044\n",
      "$0.629 \\pm 0.013$ & $0.649 \\pm 0.034$ & $0.691 \\pm 0.031$ & $0.752 \\pm 0.044$\n"
     ]
    }
   ],
   "source": [
    "sample_type = 'quark jet: = 2, L: 100 fb^-1, w/o photon, pT normalization'\n",
    "print_ACC_AUC(df, sample_type)\n",
    "print()\n",
    "\n",
    "sample_type = 'quark jet: = 2, L: 300 fb^-1, w/o photon, pT normalization'\n",
    "print_ACC_AUC(df, sample_type)\n",
    "print()\n",
    "\n",
    "sample_type = 'quark jet: = 2, L: 900 fb^-1, w/o photon, pT normalization'\n",
    "print_ACC_AUC(df, sample_type)\n",
    "print()\n",
    "\n",
    "sample_type = 'quark jet: = 2, L: 1800 fb^-1, w/o photon, pT normalization'\n",
    "print_ACC_AUC(df, sample_type)\n",
    "print()\n",
    "\n",
    "sample_type = 'quark jet: = 2, L: 3000 fb^-1, w/o photon, pT normalization'\n",
    "print_ACC_AUC(df, sample_type)"
   ]
  },
  {
   "cell_type": "markdown",
   "id": "d2ae18d5",
   "metadata": {},
   "source": [
    "# Learning rate schedule"
   ]
  },
  {
   "cell_type": "code",
   "execution_count": null,
   "id": "3340f3d8",
   "metadata": {},
   "outputs": [],
   "source": [
    "file_name = './GGF_VBF_training_results.csv'\n",
    "df = pd.read_csv(file_name)\n",
    "df = df.query(\"time > '2025-08-25' and time < '2025-08-27'\")"
   ]
  },
  {
   "cell_type": "code",
   "execution_count": null,
   "id": "dcb9dde9",
   "metadata": {},
   "outputs": [
    {
     "name": "stdout",
     "output_type": "stream",
     "text": [
      "quark jet: = 2, L: 100 fb^-1, w/ photon, pT normalization\n",
      "ACC: 0.605 ± 0.011\n",
      "AUC: 0.534 ± 0.036\n",
      "True ACC and AUC\n",
      "ACC: 0.560 ± 0.032\n",
      "AUC: 0.572 ± 0.052\n",
      "$0.605 \\pm 0.011$ & $0.534 \\pm 0.036$ & $0.560 \\pm 0.032$ & $0.572 \\pm 0.052$\n",
      "\n",
      "quark jet: = 2, L: 300 fb^-1, w/ photon, pT normalization\n",
      "ACC: 0.600 ± 0.006\n",
      "AUC: 0.542 ± 0.026\n",
      "True ACC and AUC\n",
      "ACC: 0.579 ± 0.027\n",
      "AUC: 0.601 ± 0.038\n",
      "$0.600 \\pm 0.006$ & $0.542 \\pm 0.026$ & $0.579 \\pm 0.027$ & $0.601 \\pm 0.038$\n",
      "\n",
      "quark jet: = 2, L: 900 fb^-1, w/ photon, pT normalization\n",
      "ACC: 0.607 ± 0.012\n",
      "AUC: 0.586 ± 0.042\n",
      "True ACC and AUC\n",
      "ACC: 0.631 ± 0.047\n",
      "AUC: 0.674 ± 0.063\n",
      "$0.607 \\pm 0.012$ & $0.586 \\pm 0.042$ & $0.631 \\pm 0.047$ & $0.674 \\pm 0.063$\n",
      "\n",
      "quark jet: = 2, L: 1800 fb^-1, w/ photon, pT normalization\n",
      "ACC: 0.605 ± 0.008\n",
      "AUC: 0.587 ± 0.054\n",
      "True ACC and AUC\n",
      "ACC: 0.632 ± 0.072\n",
      "AUC: 0.661 ± 0.127\n",
      "$0.605 \\pm 0.008$ & $0.587 \\pm 0.054$ & $0.632 \\pm 0.072$ & $0.661 \\pm 0.127$\n",
      "\n",
      "quark jet: = 2, L: 3000 fb^-1, w/ photon, pT normalization\n",
      "ACC: 0.612 ± 0.013\n",
      "AUC: 0.604 ± 0.056\n",
      "True ACC and AUC\n",
      "ACC: 0.646 ± 0.075\n",
      "AUC: 0.694 ± 0.101\n",
      "$0.612 \\pm 0.013$ & $0.604 \\pm 0.056$ & $0.646 \\pm 0.075$ & $0.694 \\pm 0.101$\n"
     ]
    }
   ],
   "source": [
    "sample_type = 'quark jet: = 2, L: 100 fb^-1, w/ photon, pT normalization'\n",
    "print_ACC_AUC(df, sample_type)\n",
    "print()\n",
    "\n",
    "sample_type = 'quark jet: = 2, L: 300 fb^-1, w/ photon, pT normalization'\n",
    "print_ACC_AUC(df, sample_type)\n",
    "print()\n",
    "\n",
    "sample_type = 'quark jet: = 2, L: 900 fb^-1, w/ photon, pT normalization'\n",
    "print_ACC_AUC(df, sample_type)\n",
    "print()\n",
    "\n",
    "sample_type = 'quark jet: = 2, L: 1800 fb^-1, w/ photon, pT normalization'\n",
    "print_ACC_AUC(df, sample_type)\n",
    "print()\n",
    "\n",
    "sample_type = 'quark jet: = 2, L: 3000 fb^-1, w/ photon, pT normalization'\n",
    "print_ACC_AUC(df, sample_type)"
   ]
  },
  {
   "cell_type": "code",
   "execution_count": null,
   "id": "688bf594",
   "metadata": {},
   "outputs": [
    {
     "name": "stdout",
     "output_type": "stream",
     "text": [
      "quark jet: = 2, L: 100 fb^-1, w/o photon, pT normalization\n",
      "ACC: 0.607 ± 0.010\n",
      "AUC: 0.550 ± 0.020\n",
      "True ACC and AUC\n",
      "ACC: 0.574 ± 0.035\n",
      "AUC: 0.590 ± 0.062\n",
      "$0.607 \\pm 0.010$ & $0.550 \\pm 0.020$ & $0.574 \\pm 0.035$ & $0.590 \\pm 0.062$\n",
      "\n",
      "quark jet: = 2, L: 300 fb^-1, w/o photon, pT normalization\n",
      "ACC: 0.604 ± 0.006\n",
      "AUC: 0.553 ± 0.034\n",
      "True ACC and AUC\n",
      "ACC: 0.562 ± 0.033\n",
      "AUC: 0.579 ± 0.045\n",
      "$0.604 \\pm 0.006$ & $0.553 \\pm 0.034$ & $0.562 \\pm 0.033$ & $0.579 \\pm 0.045$\n",
      "\n",
      "quark jet: = 2, L: 900 fb^-1, w/o photon, pT normalization\n",
      "ACC: 0.616 ± 0.010\n",
      "AUC: 0.617 ± 0.034\n",
      "True ACC and AUC\n",
      "ACC: 0.655 ± 0.036\n",
      "AUC: 0.707 ± 0.047\n",
      "$0.616 \\pm 0.010$ & $0.617 \\pm 0.034$ & $0.655 \\pm 0.036$ & $0.707 \\pm 0.047$\n",
      "\n",
      "quark jet: = 2, L: 1800 fb^-1, w/o photon, pT normalization\n",
      "ACC: 0.617 ± 0.012\n",
      "AUC: 0.619 ± 0.038\n",
      "True ACC and AUC\n",
      "ACC: 0.653 ± 0.048\n",
      "AUC: 0.703 ± 0.064\n",
      "$0.617 \\pm 0.012$ & $0.619 \\pm 0.038$ & $0.653 \\pm 0.048$ & $0.703 \\pm 0.064$\n",
      "\n",
      "quark jet: = 2, L: 3000 fb^-1, w/o photon, pT normalization\n",
      "ACC: 0.615 ± 0.018\n",
      "AUC: 0.594 ± 0.083\n",
      "True ACC and AUC\n",
      "ACC: 0.630 ± 0.091\n",
      "AUC: 0.665 ± 0.133\n",
      "$0.615 \\pm 0.018$ & $0.594 \\pm 0.083$ & $0.630 \\pm 0.091$ & $0.665 \\pm 0.133$\n"
     ]
    }
   ],
   "source": [
    "sample_type = 'quark jet: = 2, L: 100 fb^-1, w/o photon, pT normalization'\n",
    "print_ACC_AUC(df, sample_type)\n",
    "print()\n",
    "\n",
    "sample_type = 'quark jet: = 2, L: 300 fb^-1, w/o photon, pT normalization'\n",
    "print_ACC_AUC(df, sample_type)\n",
    "print()\n",
    "\n",
    "sample_type = 'quark jet: = 2, L: 900 fb^-1, w/o photon, pT normalization'\n",
    "print_ACC_AUC(df, sample_type)\n",
    "print()\n",
    "\n",
    "sample_type = 'quark jet: = 2, L: 1800 fb^-1, w/o photon, pT normalization'\n",
    "print_ACC_AUC(df, sample_type)\n",
    "print()\n",
    "\n",
    "sample_type = 'quark jet: = 2, L: 3000 fb^-1, w/o photon, pT normalization'\n",
    "print_ACC_AUC(df, sample_type)"
   ]
  },
  {
   "cell_type": "code",
   "execution_count": null,
   "id": "a65f0712",
   "metadata": {},
   "outputs": [
    {
     "data": {
      "image/png": "[encoded data removed]",
      "text/plain": [
       "<Figure size 500x400 with 1 Axes>"
      ]
     },
     "metadata": {},
     "output_type": "display_data"
    }
   ],
   "source": [
    "def plot_luminosity_vs_AUC(ax, df, sample_type_pattern, luminosities, label=None):\n",
    "    AUCs, AUC_errors = [], []\n",
    "    for L in luminosities:\n",
    "        sample_type = sample_type_pattern.format(L)\n",
    "        AUC = df[df['Sample Type'] == sample_type]['AUC-true']\n",
    "        AUCs.append(AUC.mean())\n",
    "        AUC_errors.append(AUC.std())\n",
    "    ax.errorbar(luminosities, AUCs, yerr=AUC_errors, fmt='o-', label=label)\n",
    "\n",
    "\n",
    "fig, ax = plt.subplots(figsize=(5, 4))\n",
    "\n",
    "sample_type_pattern = 'quark jet: = 2, L: {} fb^-1, w/o photon, pT normalization'\n",
    "luminosities = [100, 300, 900, 1800, 3000]\n",
    "plot_luminosity_vs_AUC(ax, df, sample_type_pattern, luminosities, label='w/o photon')\n",
    "\n",
    "sample_type_pattern = 'quark jet: = 2, L: {} fb^-1, w/ photon, pT normalization'\n",
    "plot_luminosity_vs_AUC(ax, df, sample_type_pattern, luminosities, label='w/ photon')\n",
    "\n",
    "ax.set_xscale('log')\n",
    "ax.set_xlabel('Luminosity [fb$^{-1}$]')\n",
    "ax.set_ylabel('AUC (pure events)')\n",
    "ax.set_title('Particle Transformer')\n",
    "ax.legend(frameon=False, loc='lower right')\n",
    "\n",
    "# plt.savefig('../figures/ParT_AUC-true_L-pTnorm_lr_schedule.pdf', dpi=300, facecolor='White', bbox_inches='tight')\n",
    "plt.show()"
   ]
  },
  {
   "cell_type": "markdown",
   "id": "12c6c33f",
   "metadata": {},
   "source": [
    "# Learning rate: 1e-5"
   ]
  },
  {
   "cell_type": "code",
   "execution_count": null,
   "id": "e17fd183",
   "metadata": {},
   "outputs": [],
   "source": [
    "file_name = './GGF_VBF_training_results.csv'\n",
    "df = pd.read_csv(file_name)\n",
    "df = df.query(\"time > '2025-09-10' and time < '2025-09-11'\")"
   ]
  },
  {
   "cell_type": "code",
   "execution_count": null,
   "id": "e43927de",
   "metadata": {},
   "outputs": [
    {
     "name": "stdout",
     "output_type": "stream",
     "text": [
      "quark jet: = 2, L: 100 fb^-1, w/ photon, pT normalization\n",
      "ACC: 0.602 ± 0.011\n",
      "AUC: 0.517 ± 0.039\n",
      "True ACC and AUC\n",
      "ACC: 0.531 ± 0.025\n",
      "AUC: 0.526 ± 0.053\n",
      "$0.602 \\pm 0.011$ & $0.517 \\pm 0.039$ & $0.531 \\pm 0.025$ & $0.526 \\pm 0.053$\n"
     ]
    }
   ],
   "source": [
    "sample_type = 'quark jet: = 2, L: 100 fb^-1, w/ photon, pT normalization'\n",
    "print_ACC_AUC(df, sample_type)\n"
   ]
  },
  {
   "cell_type": "code",
   "execution_count": null,
   "id": "18bd547a",
   "metadata": {},
   "outputs": [],
   "source": [
    "file_name = './GGF_VBF_training_results.csv'\n",
    "df = pd.read_csv(file_name)\n",
    "df = df.query(\"time > '2025-09-11' and time < '2025-09-12'\")"
   ]
  },
  {
   "cell_type": "code",
   "execution_count": null,
   "id": "0dfda752",
   "metadata": {},
   "outputs": [
    {
     "name": "stdout",
     "output_type": "stream",
     "text": [
      "quark jet: = 2, L: 100 fb^-1, w/ photon, pT normalization\n",
      "ACC: 0.610 ± 0.010\n",
      "AUC: 0.557 ± 0.024\n",
      "True ACC and AUC\n",
      "ACC: 0.553 ± 0.033\n",
      "AUC: 0.560 ± 0.060\n",
      "$0.610 \\pm 0.010$ & $0.557 \\pm 0.024$ & $0.553 \\pm 0.033$ & $0.560 \\pm 0.060$\n"
     ]
    }
   ],
   "source": [
    "sample_type = 'quark jet: = 2, L: 100 fb^-1, w/ photon, pT normalization'\n",
    "print_ACC_AUC(df, sample_type)"
   ]
  },
  {
   "cell_type": "markdown",
   "id": "68569dd3",
   "metadata": {},
   "source": [
    "# Logit output"
   ]
  },
  {
   "cell_type": "code",
   "execution_count": null,
   "id": "8b5e7678",
   "metadata": {},
   "outputs": [],
   "source": [
    "def get_AUCs_and_errors(df, sample_type_pattern, luminosities):\n",
    "    AUCs, AUC_errors = [], []\n",
    "    for L in luminosities:\n",
    "        sample_type = sample_type_pattern.format(L)\n",
    "        AUC = df[df['Sample Type'] == sample_type]['AUC-true']\n",
    "        AUCs.append(AUC.mean())\n",
    "        AUC_errors.append(AUC.std())\n",
    "    return AUCs, AUC_errors\n",
    "\n",
    "def offset_errorbar(ax, x, y, yerr, offset, color, **kwargs):\n",
    "    x = np.array(x)\n",
    "    ax.plot(x, y, label='mean', color=color)\n",
    "    ax.errorbar(x * offset, y, yerr=yerr, label='error', **kwargs)\n",
    "\n",
    "def plot_luminosity_vs_AUC(ax, df, sample_type_pattern, luminosities, color, offset=0.1, **kwargs):\n",
    "    AUCs, AUC_errors = [], []\n",
    "    for L in luminosities:\n",
    "        sample_type = sample_type_pattern.format(L)\n",
    "        AUC = df[df['Sample Type'] == sample_type]['AUC-true']\n",
    "        AUCs.append(AUC.mean())\n",
    "        AUC_errors.append(AUC.std())\n",
    "    # ax.errorbar(luminosities, AUCs, yerr=AUC_errors, fmt='o-', label=label)\n",
    "    \n",
    "    offset_errorbar(ax, luminosities, AUCs, AUC_errors, offset=offset, color=color, **kwargs)"
   ]
  },
  {
   "cell_type": "code",
   "execution_count": null,
   "id": "45762efe",
   "metadata": {},
   "outputs": [],
   "source": [
    "file_name = './GGF_VBF_training_results.csv'\n",
    "df = pd.read_csv(file_name)\n",
    "df = df.query(\"time > '2025-09-16' and time < '2025-09-17 07'\")"
   ]
  },
  {
   "cell_type": "code",
   "execution_count": null,
   "id": "4faef252",
   "metadata": {},
   "outputs": [
    {
     "name": "stdout",
     "output_type": "stream",
     "text": [
      "quark jet: = 2, L: 100 fb^-1, w/ photon, pT normalization\n",
      "ACC: 0.615 ± 0.018\n",
      "AUC: 0.572 ± 0.029\n",
      "True ACC and AUC\n",
      "ACC: 0.606 ± 0.019\n",
      "AUC: 0.639 ± 0.027\n",
      "$0.615 \\pm 0.018$ & $0.572 \\pm 0.029$ & $0.606 \\pm 0.019$ & $0.639 \\pm 0.027$\n",
      "\n",
      "quark jet: = 2, L: 300 fb^-1, w/ photon, pT normalization\n",
      "ACC: 0.617 ± 0.013\n",
      "AUC: 0.613 ± 0.033\n",
      "True ACC and AUC\n",
      "ACC: 0.652 ± 0.018\n",
      "AUC: 0.704 ± 0.023\n",
      "$0.617 \\pm 0.013$ & $0.613 \\pm 0.033$ & $0.652 \\pm 0.018$ & $0.704 \\pm 0.023$\n",
      "\n",
      "quark jet: = 2, L: 900 fb^-1, w/ photon, pT normalization\n",
      "ACC: 0.625 ± 0.006\n",
      "AUC: 0.643 ± 0.008\n",
      "True ACC and AUC\n",
      "ACC: 0.686 ± 0.006\n",
      "AUC: 0.747 ± 0.006\n",
      "$0.625 \\pm 0.006$ & $0.643 \\pm 0.008$ & $0.686 \\pm 0.006$ & $0.747 \\pm 0.006$\n",
      "\n",
      "quark jet: = 2, L: 1800 fb^-1, w/ photon, pT normalization\n",
      "ACC: 0.627 ± 0.008\n",
      "AUC: 0.652 ± 0.009\n",
      "True ACC and AUC\n",
      "ACC: 0.693 ± 0.008\n",
      "AUC: 0.755 ± 0.008\n",
      "$0.627 \\pm 0.008$ & $0.652 \\pm 0.009$ & $0.693 \\pm 0.008$ & $0.755 \\pm 0.008$\n",
      "\n",
      "quark jet: = 2, L: 3000 fb^-1, w/ photon, pT normalization\n",
      "ACC: 0.632 ± 0.007\n",
      "AUC: 0.662 ± 0.009\n",
      "True ACC and AUC\n",
      "ACC: 0.704 ± 0.007\n",
      "AUC: 0.769 ± 0.008\n",
      "$0.632 \\pm 0.007$ & $0.662 \\pm 0.009$ & $0.704 \\pm 0.007$ & $0.769 \\pm 0.008$\n"
     ]
    }
   ],
   "source": [
    "sample_type = 'quark jet: = 2, L: 100 fb^-1, w/ photon, pT normalization'\n",
    "print_ACC_AUC(df, sample_type)\n",
    "print()\n",
    "\n",
    "sample_type = 'quark jet: = 2, L: 300 fb^-1, w/ photon, pT normalization'\n",
    "print_ACC_AUC(df, sample_type)\n",
    "print()\n",
    "\n",
    "sample_type = 'quark jet: = 2, L: 900 fb^-1, w/ photon, pT normalization'\n",
    "print_ACC_AUC(df, sample_type)\n",
    "print()\n",
    "\n",
    "sample_type = 'quark jet: = 2, L: 1800 fb^-1, w/ photon, pT normalization'\n",
    "print_ACC_AUC(df, sample_type)\n",
    "print()\n",
    "\n",
    "sample_type = 'quark jet: = 2, L: 3000 fb^-1, w/ photon, pT normalization'\n",
    "print_ACC_AUC(df, sample_type)"
   ]
  },
  {
   "cell_type": "code",
   "execution_count": null,
   "id": "fdfc74fe",
   "metadata": {},
   "outputs": [
    {
     "name": "stdout",
     "output_type": "stream",
     "text": [
      "quark jet: = 2, L: 100 fb^-1, w/o photon, pT normalization\n",
      "ACC: 0.615 ± 0.018\n",
      "AUC: 0.578 ± 0.047\n",
      "True ACC and AUC\n",
      "ACC: 0.625 ± 0.018\n",
      "AUC: 0.666 ± 0.023\n",
      "$0.615 \\pm 0.018$ & $0.578 \\pm 0.047$ & $0.625 \\pm 0.018$ & $0.666 \\pm 0.023$\n",
      "\n",
      "quark jet: = 2, L: 300 fb^-1, w/o photon, pT normalization\n",
      "ACC: 0.621 ± 0.016\n",
      "AUC: 0.617 ± 0.026\n",
      "True ACC and AUC\n",
      "ACC: 0.655 ± 0.007\n",
      "AUC: 0.706 ± 0.007\n",
      "$0.621 \\pm 0.016$ & $0.617 \\pm 0.026$ & $0.655 \\pm 0.007$ & $0.706 \\pm 0.007$\n",
      "\n",
      "quark jet: = 2, L: 900 fb^-1, w/o photon, pT normalization\n",
      "ACC: 0.627 ± 0.007\n",
      "AUC: 0.640 ± 0.012\n",
      "True ACC and AUC\n",
      "ACC: 0.679 ± 0.013\n",
      "AUC: 0.737 ± 0.015\n",
      "$0.627 \\pm 0.007$ & $0.640 \\pm 0.012$ & $0.679 \\pm 0.013$ & $0.737 \\pm 0.015$\n",
      "\n",
      "quark jet: = 2, L: 1800 fb^-1, w/o photon, pT normalization\n",
      "ACC: 0.629 ± 0.007\n",
      "AUC: 0.657 ± 0.007\n",
      "True ACC and AUC\n",
      "ACC: 0.702 ± 0.007\n",
      "AUC: 0.764 ± 0.008\n",
      "$0.629 \\pm 0.007$ & $0.657 \\pm 0.007$ & $0.702 \\pm 0.007$ & $0.764 \\pm 0.008$\n",
      "\n",
      "quark jet: = 2, L: 3000 fb^-1, w/o photon, pT normalization\n",
      "ACC: 0.634 ± 0.005\n",
      "AUC: 0.667 ± 0.009\n",
      "True ACC and AUC\n",
      "ACC: 0.702 ± 0.005\n",
      "AUC: 0.766 ± 0.006\n",
      "$0.634 \\pm 0.005$ & $0.667 \\pm 0.009$ & $0.702 \\pm 0.005$ & $0.766 \\pm 0.006$\n"
     ]
    }
   ],
   "source": [
    "sample_type = 'quark jet: = 2, L: 100 fb^-1, w/o photon, pT normalization'\n",
    "print_ACC_AUC(df, sample_type)\n",
    "print()\n",
    "\n",
    "sample_type = 'quark jet: = 2, L: 300 fb^-1, w/o photon, pT normalization'\n",
    "print_ACC_AUC(df, sample_type)\n",
    "print()\n",
    "\n",
    "sample_type = 'quark jet: = 2, L: 900 fb^-1, w/o photon, pT normalization'\n",
    "print_ACC_AUC(df, sample_type)\n",
    "print()\n",
    "\n",
    "sample_type = 'quark jet: = 2, L: 1800 fb^-1, w/o photon, pT normalization'\n",
    "print_ACC_AUC(df, sample_type)\n",
    "print()\n",
    "\n",
    "sample_type = 'quark jet: = 2, L: 3000 fb^-1, w/o photon, pT normalization'\n",
    "print_ACC_AUC(df, sample_type)"
   ]
  },
  {
   "cell_type": "code",
   "execution_count": null,
   "id": "2bb1f145",
   "metadata": {},
   "outputs": [
    {
     "data": {
      "image/png": "[encoded data removed]",
      "text/plain": [
       "<Figure size 500x400 with 1 Axes>"
      ]
     },
     "metadata": {},
     "output_type": "display_data"
    }
   ],
   "source": [
    "fig, ax = plt.subplots(figsize=(5, 4))\n",
    "\n",
    "sample_type_pattern = 'quark jet: = 2, L: {} fb^-1, w/o photon, pT normalization'\n",
    "luminosities = [100, 300, 900, 1800, 3000]\n",
    "plot_luminosity_vs_AUC(ax, df, sample_type_pattern, luminosities, color='C0', offset=0.99, linestyle='', capsize=3)\n",
    "\n",
    "sample_type_pattern = 'quark jet: = 2, L: {} fb^-1, w/ photon, pT normalization'\n",
    "plot_luminosity_vs_AUC(ax, df, sample_type_pattern, luminosities, color='C1', offset=1.01, linestyle='', capsize=3)\n",
    "\n",
    "ax.set_xscale('log')\n",
    "ax.set_xlabel('Luminosity [fb$^{-1}$]')\n",
    "ax.set_ylabel('AUC (pure events)')\n",
    "ax.set_title('Particle Transformer')\n",
    "\n",
    "handles, labels = ax.get_legend_handles_labels()\n",
    "n = len(handles) // 2\n",
    "handles = [(handles[i], handles[i+n]) for i in range(n)]\n",
    "labels = ['w/o photon', 'w/ photon']\n",
    "\n",
    "ax.legend(handles, labels, frameon=False, loc='lower right')\n",
    "\n",
    "plt.savefig('../figures/ParT_AUC-true_L-pTnorm_logit.pdf', dpi=300, facecolor='White', bbox_inches='tight')\n",
    "plt.show()"
   ]
  }
 ],
 "metadata": {
  "kernelspec": {
   "display_name": "jupyter",
   "language": "python",
   "name": "python3"
  },
  "language_info": {
   "codemirror_mode": {
    "name": "ipython",
    "version": 3
   },
   "file_extension": ".py",
   "mimetype": "text/x-python",
   "name": "python",
   "nbconvert_exporter": "python",
   "pygments_lexer": "ipython3",
   "version": "3.8.16"
  }
 },
 "nbformat": 4,
 "nbformat_minor": 5
}
