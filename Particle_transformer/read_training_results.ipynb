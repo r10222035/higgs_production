{
 "cells": [
  {
   "cell_type": "code",
   "execution_count": 1,
   "id": "237b6e22",
   "metadata": {},
   "outputs": [],
   "source": [
    "import pandas as pd"
   ]
  },
  {
   "cell_type": "code",
   "execution_count": 2,
   "id": "301f0872",
   "metadata": {},
   "outputs": [],
   "source": [
    "def print_ACC_AUC(df, sample_type):\n",
    "    latex_txt = ''\n",
    "    ACC = df[df['Sample Type'] == sample_type]['ACC']\n",
    "    AUC = df[df['Sample Type'] == sample_type]['AUC']\n",
    "\n",
    "    print(sample_type)\n",
    "    print(f'ACC: {ACC.mean():.3f} ± {ACC.std():.3f}')\n",
    "    print(f'AUC: {AUC.mean():.3f} ± {AUC.std():.3f}')\n",
    "    latex_txt += f'${ACC.mean():.3f} \\pm {ACC.std():.3f}$ & ${AUC.mean():.3f} \\pm {AUC.std():.3f}$'\n",
    "    ACC = df[df['Sample Type'] == sample_type]['ACC-true']\n",
    "    AUC = df[df['Sample Type'] == sample_type]['AUC-true']\n",
    "\n",
    "    print('True ACC and AUC')\n",
    "    print(f'ACC: {ACC.mean():.3f} ± {ACC.std():.3f}')\n",
    "    print(f'AUC: {AUC.mean():.3f} ± {AUC.std():.3f}')\n",
    "    latex_txt += f' & ${ACC.mean():.3f} \\pm {ACC.std():.3f}$ & ${AUC.mean():.3f} \\pm {AUC.std():.3f}$'\n",
    "    print(latex_txt)"
   ]
  },
  {
   "cell_type": "markdown",
   "id": "940c5805",
   "metadata": {},
   "source": [
    "# Superviesed learning with Particle Transformer"
   ]
  },
  {
   "cell_type": "markdown",
   "id": "be259da6",
   "metadata": {},
   "source": [
    "## With photon"
   ]
  },
  {
   "cell_type": "code",
   "execution_count": 3,
   "id": "bda622fe",
   "metadata": {},
   "outputs": [],
   "source": [
    "file_name = './GGF_VBF_training_results.csv'\n",
    "df = pd.read_csv(file_name)\n",
    "df = df.query(\"time > '2025-08-11' and time < '2025-08-14'\")"
   ]
  },
  {
   "cell_type": "code",
   "execution_count": 4,
   "id": "6ad0e7fc",
   "metadata": {},
   "outputs": [
    {
     "name": "stdout",
     "output_type": "stream",
     "text": [
      "pure, w/ photon\n",
      "ACC: 0.782 ± 0.013\n",
      "AUC: 0.861 ± 0.014\n",
      "True ACC and AUC\n",
      "ACC: 0.785 ± 0.013\n",
      "AUC: 0.862 ± 0.014\n",
      "$0.782 \\pm 0.013$ & $0.861 \\pm 0.014$ & $0.785 \\pm 0.013$ & $0.862 \\pm 0.014$\n"
     ]
    }
   ],
   "source": [
    "sample_type = 'pure, w/ photon'\n",
    "print_ACC_AUC(df, sample_type)"
   ]
  },
  {
   "cell_type": "markdown",
   "id": "b376b3a7",
   "metadata": {},
   "source": [
    "## Without photon"
   ]
  },
  {
   "cell_type": "code",
   "execution_count": 5,
   "id": "ff0adcdd",
   "metadata": {},
   "outputs": [
    {
     "name": "stdout",
     "output_type": "stream",
     "text": [
      "pure, w/o photon\n",
      "ACC: 0.771 ± 0.020\n",
      "AUC: 0.849 ± 0.023\n",
      "True ACC and AUC\n",
      "ACC: 0.773 ± 0.019\n",
      "AUC: 0.850 ± 0.022\n",
      "$0.771 \\pm 0.020$ & $0.849 \\pm 0.023$ & $0.773 \\pm 0.019$ & $0.850 \\pm 0.022$\n"
     ]
    }
   ],
   "source": [
    "sample_type = 'pure, w/o photon'\n",
    "print_ACC_AUC(df, sample_type)"
   ]
  },
  {
   "cell_type": "markdown",
   "id": "a92a5779",
   "metadata": {},
   "source": [
    "# CWoLa with Particle Transformer"
   ]
  },
  {
   "cell_type": "markdown",
   "id": "f4bdcaef",
   "metadata": {},
   "source": [
    "## With photon"
   ]
  },
  {
   "cell_type": "code",
   "execution_count": 6,
   "id": "909cc159",
   "metadata": {},
   "outputs": [],
   "source": [
    "file_name = './GGF_VBF_training_results.csv'\n",
    "df = pd.read_csv(file_name)\n",
    "df = df.query(\"time > '2025-08-12' and time < '2025-08-13 07'\")"
   ]
  },
  {
   "cell_type": "code",
   "execution_count": 7,
   "id": "0aa432f5",
   "metadata": {},
   "outputs": [
    {
     "name": "stdout",
     "output_type": "stream",
     "text": [
      "quark jet: = 2, L: 100 fb^-1, w/ photon\n",
      "ACC: 0.607 ± 0.017\n",
      "AUC: 0.533 ± 0.053\n",
      "True ACC and AUC\n",
      "ACC: 0.538 ± 0.037\n",
      "AUC: 0.527 ± 0.080\n",
      "$0.607 \\pm 0.017$ & $0.533 \\pm 0.053$ & $0.538 \\pm 0.037$ & $0.527 \\pm 0.080$\n",
      "\n",
      "quark jet: = 2, L: 300 fb^-1, w/ photon\n",
      "ACC: 0.606 ± 0.012\n",
      "AUC: 0.562 ± 0.034\n",
      "True ACC and AUC\n",
      "ACC: 0.568 ± 0.034\n",
      "AUC: 0.590 ± 0.049\n",
      "$0.606 \\pm 0.012$ & $0.562 \\pm 0.034$ & $0.568 \\pm 0.034$ & $0.590 \\pm 0.049$\n",
      "\n",
      "quark jet: = 2, L: 900 fb^-1, w/ photon\n",
      "ACC: 0.602 ± 0.009\n",
      "AUC: 0.568 ± 0.044\n",
      "True ACC and AUC\n",
      "ACC: 0.589 ± 0.058\n",
      "AUC: 0.618 ± 0.081\n",
      "$0.602 \\pm 0.009$ & $0.568 \\pm 0.044$ & $0.589 \\pm 0.058$ & $0.618 \\pm 0.081$\n",
      "\n",
      "quark jet: = 2, L: 1800 fb^-1, w/ photon\n",
      "ACC: 0.603 ± 0.008\n",
      "AUC: 0.563 ± 0.049\n",
      "True ACC and AUC\n",
      "ACC: 0.587 ± 0.065\n",
      "AUC: 0.612 ± 0.099\n",
      "$0.603 \\pm 0.008$ & $0.563 \\pm 0.049$ & $0.587 \\pm 0.065$ & $0.612 \\pm 0.099$\n",
      "\n",
      "quark jet: = 2, L: 3000 fb^-1, w/ photon\n",
      "ACC: 0.609 ± 0.014\n",
      "AUC: 0.595 ± 0.051\n",
      "True ACC and AUC\n",
      "ACC: 0.628 ± 0.064\n",
      "AUC: 0.672 ± 0.087\n",
      "$0.609 \\pm 0.014$ & $0.595 \\pm 0.051$ & $0.628 \\pm 0.064$ & $0.672 \\pm 0.087$\n"
     ]
    }
   ],
   "source": [
    "sample_type = 'quark jet: = 2, L: 100 fb^-1, w/ photon'\n",
    "print_ACC_AUC(df, sample_type)\n",
    "print()\n",
    "\n",
    "sample_type = 'quark jet: = 2, L: 300 fb^-1, w/ photon'\n",
    "print_ACC_AUC(df, sample_type)\n",
    "print()\n",
    "\n",
    "sample_type = 'quark jet: = 2, L: 900 fb^-1, w/ photon'\n",
    "print_ACC_AUC(df, sample_type)\n",
    "print()\n",
    "\n",
    "sample_type = 'quark jet: = 2, L: 1800 fb^-1, w/ photon'\n",
    "print_ACC_AUC(df, sample_type)\n",
    "print()\n",
    "\n",
    "sample_type = 'quark jet: = 2, L: 3000 fb^-1, w/ photon'\n",
    "print_ACC_AUC(df, sample_type)"
   ]
  },
  {
   "cell_type": "code",
   "execution_count": 8,
   "id": "5e5bb706",
   "metadata": {},
   "outputs": [],
   "source": [
    "file_name = './GGF_VBF_training_results.csv'\n",
    "df = pd.read_csv(file_name)\n",
    "df = df.query(\"time > '2025-08-13 09' and time < '2025-08-14 02'\")"
   ]
  },
  {
   "cell_type": "code",
   "execution_count": 9,
   "id": "5a067854",
   "metadata": {},
   "outputs": [
    {
     "name": "stdout",
     "output_type": "stream",
     "text": [
      "quark jet: = 2, L: 100 fb^-1, w/ photon\n",
      "ACC: 0.603 ± 0.015\n",
      "AUC: 0.539 ± 0.041\n",
      "True ACC and AUC\n",
      "ACC: 0.544 ± 0.043\n",
      "AUC: 0.540 ± 0.078\n",
      "$0.603 \\pm 0.015$ & $0.539 \\pm 0.041$ & $0.544 \\pm 0.043$ & $0.540 \\pm 0.078$\n",
      "\n",
      "quark jet: = 2, L: 300 fb^-1, w/ photon\n",
      "ACC: 0.607 ± 0.015\n",
      "AUC: 0.549 ± 0.066\n",
      "True ACC and AUC\n",
      "ACC: 0.572 ± 0.071\n",
      "AUC: 0.584 ± 0.112\n",
      "$0.607 \\pm 0.015$ & $0.549 \\pm 0.066$ & $0.572 \\pm 0.071$ & $0.584 \\pm 0.112$\n",
      "\n",
      "quark jet: = 2, L: 900 fb^-1, w/ photon\n",
      "ACC: 0.620 ± 0.013\n",
      "AUC: 0.617 ± 0.060\n",
      "True ACC and AUC\n",
      "ACC: 0.657 ± 0.062\n",
      "AUC: 0.705 ± 0.099\n",
      "$0.620 \\pm 0.013$ & $0.617 \\pm 0.060$ & $0.657 \\pm 0.062$ & $0.705 \\pm 0.099$\n",
      "\n",
      "quark jet: = 2, L: 1800 fb^-1, w/ photon\n",
      "ACC: 0.609 ± 0.018\n",
      "AUC: 0.575 ± 0.071\n",
      "True ACC and AUC\n",
      "ACC: 0.607 ± 0.086\n",
      "AUC: 0.638 ± 0.117\n",
      "$0.609 \\pm 0.018$ & $0.575 \\pm 0.071$ & $0.607 \\pm 0.086$ & $0.638 \\pm 0.117$\n",
      "\n",
      "quark jet: = 2, L: 3000 fb^-1, w/ photon\n",
      "ACC: 0.622 ± 0.019\n",
      "AUC: 0.607 ± 0.088\n",
      "True ACC and AUC\n",
      "ACC: 0.648 ± 0.097\n",
      "AUC: 0.681 ± 0.152\n",
      "$0.622 \\pm 0.019$ & $0.607 \\pm 0.088$ & $0.648 \\pm 0.097$ & $0.681 \\pm 0.152$\n"
     ]
    }
   ],
   "source": [
    "sample_type = 'quark jet: = 2, L: 100 fb^-1, w/ photon'\n",
    "print_ACC_AUC(df, sample_type)\n",
    "print()\n",
    "\n",
    "sample_type = 'quark jet: = 2, L: 300 fb^-1, w/ photon'\n",
    "print_ACC_AUC(df, sample_type)\n",
    "print()\n",
    "\n",
    "sample_type = 'quark jet: = 2, L: 900 fb^-1, w/ photon'\n",
    "print_ACC_AUC(df, sample_type)\n",
    "print()\n",
    "\n",
    "sample_type = 'quark jet: = 2, L: 1800 fb^-1, w/ photon'\n",
    "print_ACC_AUC(df, sample_type)\n",
    "print()\n",
    "\n",
    "sample_type = 'quark jet: = 2, L: 3000 fb^-1, w/ photon'\n",
    "print_ACC_AUC(df, sample_type)"
   ]
  },
  {
   "cell_type": "code",
   "execution_count": 10,
   "id": "38de4afb",
   "metadata": {},
   "outputs": [],
   "source": [
    "import matplotlib.pyplot as plt\n",
    "\n",
    "file_name = './GGF_VBF_training_results.csv'\n",
    "df = pd.read_csv(file_name)\n",
    "df = df.query(\"time > '2025-08-12' and time < '2025-08-13 09'\")"
   ]
  },
  {
   "cell_type": "code",
   "execution_count": 11,
   "id": "525dcef8",
   "metadata": {},
   "outputs": [
    {
     "data": {
      "image/png": "[encoded data removed]",
      "text/plain": [
       "<Figure size 500x400 with 1 Axes>"
      ]
     },
     "metadata": {},
     "output_type": "display_data"
    }
   ],
   "source": [
    "def plot_luminosity_vs_AUC(ax, df, sample_type_pattern, luminosities, label=None):\n",
    "    AUCs, AUC_errors = [], []\n",
    "    for L in luminosities:\n",
    "        sample_type = sample_type_pattern.format(L)\n",
    "        AUC = df[df['Sample Type'] == sample_type]['AUC-true']\n",
    "        AUCs.append(AUC.mean())\n",
    "        AUC_errors.append(AUC.std())\n",
    "    ax.errorbar(luminosities, AUCs, yerr=AUC_errors, fmt='o-', label=label)\n",
    "\n",
    "\n",
    "fig, ax = plt.subplots(figsize=(5, 4))\n",
    "\n",
    "sample_type_pattern = 'quark jet: = 2, L: {} fb^-1, w/o photon'\n",
    "luminosities = [100, 300, 900, 1800, 3000]\n",
    "plot_luminosity_vs_AUC(ax, df, sample_type_pattern, luminosities, label='w/o photon')\n",
    "\n",
    "sample_type_pattern = 'quark jet: = 2, L: {} fb^-1, w/ photon'\n",
    "plot_luminosity_vs_AUC(ax, df, sample_type_pattern, luminosities, label='w/ photon')\n",
    "\n",
    "ax.set_xscale('log')\n",
    "ax.set_xlabel('Luminosity [fb$^{-1}$]')\n",
    "ax.set_ylabel('AUC (pure events)')\n",
    "ax.set_title('Particle Transformer')\n",
    "ax.legend(frameon=False, loc='lower right')\n",
    "\n",
    "# plt.savefig('../figures/event_CNN_AUC-true_L.pdf', dpi=300, facecolor='White', bbox_inches='tight')\n",
    "plt.show()"
   ]
  },
  {
   "cell_type": "code",
   "execution_count": 12,
   "id": "3f15a5cb",
   "metadata": {},
   "outputs": [],
   "source": [
    "import matplotlib.pyplot as plt\n",
    "\n",
    "file_name = './GGF_VBF_training_results.csv'\n",
    "df = pd.read_csv(file_name)\n",
    "df = df.query(\"time > '2025-08-13 09' and time < '2025-08-14 02'\")"
   ]
  },
  {
   "cell_type": "code",
   "execution_count": 13,
   "id": "67f6649a",
   "metadata": {},
   "outputs": [
    {
     "data": {
      "image/png": "[encoded data removed]",
      "text/plain": [
       "<Figure size 500x400 with 1 Axes>"
      ]
     },
     "metadata": {},
     "output_type": "display_data"
    }
   ],
   "source": [
    "def plot_luminosity_vs_AUC(ax, df, sample_type_pattern, luminosities, label=None):\n",
    "    AUCs, AUC_errors = [], []\n",
    "    for L in luminosities:\n",
    "        sample_type = sample_type_pattern.format(L)\n",
    "        AUC = df[df['Sample Type'] == sample_type]['AUC-true']\n",
    "        AUCs.append(AUC.mean())\n",
    "        AUC_errors.append(AUC.std())\n",
    "    ax.errorbar(luminosities, AUCs, yerr=AUC_errors, fmt='o-', label=label)\n",
    "\n",
    "\n",
    "fig, ax = plt.subplots(figsize=(5, 4))\n",
    "\n",
    "sample_type_pattern = 'quark jet: = 2, L: {} fb^-1, w/o photon'\n",
    "luminosities = [100, 300, 900, 1800, 3000]\n",
    "plot_luminosity_vs_AUC(ax, df, sample_type_pattern, luminosities, label='w/o photon')\n",
    "\n",
    "sample_type_pattern = 'quark jet: = 2, L: {} fb^-1, w/ photon'\n",
    "plot_luminosity_vs_AUC(ax, df, sample_type_pattern, luminosities, label='w/ photon')\n",
    "\n",
    "ax.set_xscale('log')\n",
    "ax.set_xlabel('Luminosity [fb$^{-1}$]')\n",
    "ax.set_ylabel('AUC (pure events)')\n",
    "ax.set_title('Particle Transformer')\n",
    "ax.legend(frameon=False, loc='lower right')\n",
    "\n",
    "plt.savefig('../figures/ParT_AUC-true_L.pdf', dpi=300, facecolor='White', bbox_inches='tight')\n",
    "plt.show()"
   ]
  },
  {
   "cell_type": "markdown",
   "id": "033a55a0",
   "metadata": {},
   "source": [
    "## Without photon"
   ]
  },
  {
   "cell_type": "code",
   "execution_count": 14,
   "id": "ef1868f9",
   "metadata": {},
   "outputs": [],
   "source": [
    "file_name = './GGF_VBF_training_results.csv'\n",
    "df = pd.read_csv(file_name)\n",
    "df = df.query(\"time > '2025-08-12' and time < '2025-08-13 09'\")"
   ]
  },
  {
   "cell_type": "code",
   "execution_count": 15,
   "id": "0bb5f62e",
   "metadata": {},
   "outputs": [
    {
     "name": "stdout",
     "output_type": "stream",
     "text": [
      "quark jet: = 2, L: 100 fb^-1, w/o photon\n",
      "ACC: 0.603 ± 0.010\n",
      "AUC: 0.546 ± 0.037\n",
      "True ACC and AUC\n",
      "ACC: 0.538 ± 0.031\n",
      "AUC: 0.540 ± 0.053\n",
      "$0.603 \\pm 0.010$ & $0.546 \\pm 0.037$ & $0.538 \\pm 0.031$ & $0.540 \\pm 0.053$\n",
      "\n",
      "quark jet: = 2, L: 300 fb^-1, w/o photon\n",
      "ACC: 0.603 ± 0.007\n",
      "AUC: 0.543 ± 0.044\n",
      "True ACC and AUC\n",
      "ACC: 0.562 ± 0.046\n",
      "AUC: 0.578 ± 0.070\n",
      "$0.603 \\pm 0.007$ & $0.543 \\pm 0.044$ & $0.562 \\pm 0.046$ & $0.578 \\pm 0.070$\n",
      "\n",
      "quark jet: = 2, L: 900 fb^-1, w/o photon\n",
      "ACC: 0.600 ± 0.006\n",
      "AUC: 0.549 ± 0.031\n",
      "True ACC and AUC\n",
      "ACC: 0.566 ± 0.046\n",
      "AUC: 0.586 ± 0.065\n",
      "$0.600 \\pm 0.006$ & $0.549 \\pm 0.031$ & $0.566 \\pm 0.046$ & $0.586 \\pm 0.065$\n",
      "\n",
      "quark jet: = 2, L: 1800 fb^-1, w/o photon\n",
      "ACC: 0.607 ± 0.014\n",
      "AUC: 0.578 ± 0.052\n",
      "True ACC and AUC\n",
      "ACC: 0.601 ± 0.063\n",
      "AUC: 0.636 ± 0.086\n",
      "$0.607 \\pm 0.014$ & $0.578 \\pm 0.052$ & $0.601 \\pm 0.063$ & $0.636 \\pm 0.086$\n",
      "\n",
      "quark jet: = 2, L: 3000 fb^-1, w/o photon\n",
      "ACC: 0.618 ± 0.017\n",
      "AUC: 0.611 ± 0.066\n",
      "True ACC and AUC\n",
      "ACC: 0.650 ± 0.075\n",
      "AUC: 0.695 ± 0.111\n",
      "$0.618 \\pm 0.017$ & $0.611 \\pm 0.066$ & $0.650 \\pm 0.075$ & $0.695 \\pm 0.111$\n"
     ]
    }
   ],
   "source": [
    "sample_type = 'quark jet: = 2, L: 100 fb^-1, w/o photon'\n",
    "print_ACC_AUC(df, sample_type)\n",
    "print()\n",
    "\n",
    "sample_type = 'quark jet: = 2, L: 300 fb^-1, w/o photon'\n",
    "print_ACC_AUC(df, sample_type)\n",
    "print()\n",
    "\n",
    "sample_type = 'quark jet: = 2, L: 900 fb^-1, w/o photon'\n",
    "print_ACC_AUC(df, sample_type)\n",
    "print()\n",
    "\n",
    "sample_type = 'quark jet: = 2, L: 1800 fb^-1, w/o photon'\n",
    "print_ACC_AUC(df, sample_type)\n",
    "print()\n",
    "\n",
    "sample_type = 'quark jet: = 2, L: 3000 fb^-1, w/o photon'\n",
    "print_ACC_AUC(df, sample_type)"
   ]
  },
  {
   "cell_type": "code",
   "execution_count": 16,
   "id": "0c06779e",
   "metadata": {},
   "outputs": [],
   "source": [
    "file_name = './GGF_VBF_training_results.csv'\n",
    "df = pd.read_csv(file_name)\n",
    "df = df.query(\"time > '2025-08-13 09' and time < '2025-08-14 02'\")"
   ]
  },
  {
   "cell_type": "code",
   "execution_count": 17,
   "id": "5c658514",
   "metadata": {},
   "outputs": [
    {
     "name": "stdout",
     "output_type": "stream",
     "text": [
      "quark jet: = 2, L: 100 fb^-1, w/o photon\n",
      "ACC: 0.612 ± 0.019\n",
      "AUC: 0.544 ± 0.061\n",
      "True ACC and AUC\n",
      "ACC: 0.545 ± 0.044\n",
      "AUC: 0.536 ± 0.082\n",
      "$0.612 \\pm 0.019$ & $0.544 \\pm 0.061$ & $0.545 \\pm 0.044$ & $0.536 \\pm 0.082$\n",
      "\n",
      "quark jet: = 2, L: 300 fb^-1, w/o photon\n",
      "ACC: 0.602 ± 0.012\n",
      "AUC: 0.535 ± 0.062\n",
      "True ACC and AUC\n",
      "ACC: 0.556 ± 0.046\n",
      "AUC: 0.564 ± 0.072\n",
      "$0.602 \\pm 0.012$ & $0.535 \\pm 0.062$ & $0.556 \\pm 0.046$ & $0.564 \\pm 0.072$\n",
      "\n",
      "quark jet: = 2, L: 900 fb^-1, w/o photon\n",
      "ACC: 0.610 ± 0.020\n",
      "AUC: 0.576 ± 0.064\n",
      "True ACC and AUC\n",
      "ACC: 0.595 ± 0.080\n",
      "AUC: 0.625 ± 0.110\n",
      "$0.610 \\pm 0.020$ & $0.576 \\pm 0.064$ & $0.595 \\pm 0.080$ & $0.625 \\pm 0.110$\n",
      "\n",
      "quark jet: = 2, L: 1800 fb^-1, w/o photon\n",
      "ACC: 0.620 ± 0.022\n",
      "AUC: 0.592 ± 0.098\n",
      "True ACC and AUC\n",
      "ACC: 0.637 ± 0.105\n",
      "AUC: 0.661 ± 0.168\n",
      "$0.620 \\pm 0.022$ & $0.592 \\pm 0.098$ & $0.637 \\pm 0.105$ & $0.661 \\pm 0.168$\n",
      "\n",
      "quark jet: = 2, L: 3000 fb^-1, w/o photon\n",
      "ACC: 0.637 ± 0.008\n",
      "AUC: 0.667 ± 0.015\n",
      "True ACC and AUC\n",
      "ACC: 0.714 ± 0.022\n",
      "AUC: 0.782 ± 0.026\n",
      "$0.637 \\pm 0.008$ & $0.667 \\pm 0.015$ & $0.714 \\pm 0.022$ & $0.782 \\pm 0.026$\n"
     ]
    }
   ],
   "source": [
    "sample_type = 'quark jet: = 2, L: 100 fb^-1, w/o photon'\n",
    "print_ACC_AUC(df, sample_type)\n",
    "print()\n",
    "\n",
    "sample_type = 'quark jet: = 2, L: 300 fb^-1, w/o photon'\n",
    "print_ACC_AUC(df, sample_type)\n",
    "print()\n",
    "\n",
    "sample_type = 'quark jet: = 2, L: 900 fb^-1, w/o photon'\n",
    "print_ACC_AUC(df, sample_type)\n",
    "print()\n",
    "\n",
    "sample_type = 'quark jet: = 2, L: 1800 fb^-1, w/o photon'\n",
    "print_ACC_AUC(df, sample_type)\n",
    "print()\n",
    "\n",
    "sample_type = 'quark jet: = 2, L: 3000 fb^-1, w/o photon'\n",
    "print_ACC_AUC(df, sample_type)"
   ]
  },
  {
   "cell_type": "markdown",
   "id": "b70b8673",
   "metadata": {},
   "source": [
    "## $\\phi$-shifting"
   ]
  },
  {
   "cell_type": "code",
   "execution_count": 18,
   "id": "ac1aa1d2",
   "metadata": {},
   "outputs": [],
   "source": [
    "file_name = './GGF_VBF_training_results.csv'\n",
    "df = pd.read_csv(file_name)\n",
    "df = df.query(\"time > '2025-08-13 09' and time < '2025-08-14'\")"
   ]
  },
  {
   "cell_type": "code",
   "execution_count": 19,
   "id": "ccac966e",
   "metadata": {},
   "outputs": [
    {
     "name": "stdout",
     "output_type": "stream",
     "text": [
      "quark jet: = 2, L: 100 fb^-1, w/o photon\n",
      "ACC: 0.612 ± 0.019\n",
      "AUC: 0.544 ± 0.061\n",
      "True ACC and AUC\n",
      "ACC: 0.545 ± 0.044\n",
      "AUC: 0.536 ± 0.082\n",
      "$0.612 \\pm 0.019$ & $0.544 \\pm 0.061$ & $0.545 \\pm 0.044$ & $0.536 \\pm 0.082$\n",
      "\n",
      "quark jet: = 2, L: 100 fb^-1, w/o photon, phi shifting: +5\n",
      "ACC: 0.595 ± 0.005\n",
      "AUC: 0.495 ± 0.031\n",
      "True ACC and AUC\n",
      "ACC: 0.515 ± 0.014\n",
      "AUC: 0.492 ± 0.042\n",
      "$0.595 \\pm 0.005$ & $0.495 \\pm 0.031$ & $0.515 \\pm 0.014$ & $0.492 \\pm 0.042$\n",
      "\n",
      "quark jet: = 2, L: 100 fb^-1, w/o photon, phi shifting: +10\n",
      "ACC: 0.606 ± 0.017\n",
      "AUC: 0.552 ± 0.065\n",
      "True ACC and AUC\n",
      "ACC: 0.579 ± 0.063\n",
      "AUC: 0.599 ± 0.094\n",
      "$0.606 \\pm 0.017$ & $0.552 \\pm 0.065$ & $0.579 \\pm 0.063$ & $0.599 \\pm 0.094$\n",
      "\n",
      "quark jet: = 2, L: 100 fb^-1, w/o photon, phi shifting: +15\n",
      "ACC: 0.630 ± 0.028\n",
      "AUC: 0.620 ± 0.065\n",
      "True ACC and AUC\n",
      "ACC: 0.646 ± 0.066\n",
      "AUC: 0.693 ± 0.093\n",
      "$0.630 \\pm 0.028$ & $0.620 \\pm 0.065$ & $0.646 \\pm 0.066$ & $0.693 \\pm 0.093$\n"
     ]
    }
   ],
   "source": [
    "sample_type = 'quark jet: = 2, L: 100 fb^-1, w/o photon'\n",
    "print_ACC_AUC(df, sample_type)\n",
    "print()\n",
    "\n",
    "sample_type = 'quark jet: = 2, L: 100 fb^-1, w/o photon, phi shifting: +5'\n",
    "print_ACC_AUC(df, sample_type)\n",
    "print()\n",
    "\n",
    "sample_type = 'quark jet: = 2, L: 100 fb^-1, w/o photon, phi shifting: +10'\n",
    "print_ACC_AUC(df, sample_type)\n",
    "print()\n",
    "\n",
    "sample_type = 'quark jet: = 2, L: 100 fb^-1, w/o photon, phi shifting: +15'\n",
    "print_ACC_AUC(df, sample_type)"
   ]
  }
 ],
 "metadata": {
  "kernelspec": {
   "display_name": "jupyter",
   "language": "python",
   "name": "python3"
  },
  "language_info": {
   "codemirror_mode": {
    "name": "ipython",
    "version": 3
   },
   "file_extension": ".py",
   "mimetype": "text/x-python",
   "name": "python",
   "nbconvert_exporter": "python",
   "pygments_lexer": "ipython3",
   "version": "3.8.16"
  }
 },
 "nbformat": 4,
 "nbformat_minor": 5
}
