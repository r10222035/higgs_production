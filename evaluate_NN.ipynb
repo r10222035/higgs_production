{
 "cells": [
  {
   "cell_type": "code",
   "execution_count": 1,
   "id": "d037aaae",
   "metadata": {},
   "outputs": [
    {
     "name": "stderr",
     "output_type": "stream",
     "text": [
      "2025-10-08 10:23:57.542056: I tensorflow/core/platform/cpu_feature_guard.cc:193] This TensorFlow binary is optimized with oneAPI Deep Neural Network Library (oneDNN) to use the following CPU instructions in performance-critical operations:  SSE4.1 SSE4.2 AVX AVX2 AVX512F AVX512_VNNI FMA\n",
      "To enable them in other operations, rebuild TensorFlow with the appropriate compiler flags.\n",
      "2025-10-08 10:23:57.624997: I tensorflow/core/util/port.cc:104] oneDNN custom operations are on. You may see slightly different numerical results due to floating-point round-off errors from different computation orders. To turn them off, set the environment variable `TF_ENABLE_ONEDNN_OPTS=0`.\n"
     ]
    }
   ],
   "source": [
    "import os\n",
    "import json\n",
    "import h5py\n",
    "\n",
    "import numpy as np\n",
    "import pandas as pd\n",
    "import tensorflow as tf\n",
    "import matplotlib.pyplot as plt\n",
    "\n",
    "from pathlib import Path\n",
    "from sklearn.metrics import roc_curve, roc_auc_score, accuracy_score\n",
    "\n",
    "os.environ['CUDA_VISIBLE_DEVICES'] = '2'\n",
    "# solve the problem of \"libdevice not found at ./libdevice.10.bc\"\n",
    "os.environ['XLA_FLAGS'] = '--xla_gpu_cuda_data_dir=/home/r10222035/.conda/envs/tf2'"
   ]
  },
  {
   "cell_type": "markdown",
   "id": "1799be3d",
   "metadata": {},
   "source": [
    "# Apply $H \\to \\gamma\\gamma$ classifier to $H \\to ZZ \\to 4\\ell$ events"
   ]
  },
  {
   "cell_type": "code",
   "execution_count": 2,
   "id": "26f191d3",
   "metadata": {},
   "outputs": [],
   "source": [
    "def create_test_sample_from(npy_dirs: list, nevents: tuple, ratios=(0.8, 0.2), seed=0):\n",
    "    # npy_dirs: list of npy directories\n",
    "    # nevents: tuple of (n_VBF_SR, n_VBF_BR, n_GGF_SR, n_GGF_BR)\n",
    "    # ratios: tuple of (r_train, r_val)\n",
    "\n",
    "    npy_dir0 = Path(npy_dirs[0])\n",
    "\n",
    "    data_VBF_SR = np.load(npy_dir0 / 'VBF_in_SR-data.npy')\n",
    "    data_VBF_BR = np.load(npy_dir0 / 'VBF_in_BR-data.npy')\n",
    "    data_GGF_SR = np.load(npy_dir0 / 'GGF_in_SR-data.npy')\n",
    "    data_GGF_BR = np.load(npy_dir0 / 'GGF_in_BR-data.npy')\n",
    "\n",
    "    n_VBF_SR, n_GGF_SR, n_VBF_BR, n_GGF_BR = nevents\n",
    "    n_test = 10000\n",
    "    n_VBF_SR_test = int(data_VBF_SR.shape[0] / (data_VBF_SR.shape[0] + data_VBF_BR.shape[0]) * n_test)\n",
    "    n_VBF_BR_test = n_test - n_VBF_SR_test\n",
    "    n_GGF_SR_test = int(data_GGF_SR.shape[0] / (data_GGF_SR.shape[0] + data_GGF_BR.shape[0]) * n_test)\n",
    "    n_GGF_BR_test = n_test - n_GGF_SR_test\n",
    "\n",
    "    np.random.seed(seed)\n",
    "    # print(data_GGF_SR.shape[0], data_GGF_BR.shape[0], data_VBF_SR.shape[0], data_VBF_BR.shape[0])\n",
    "    idx_VBF_SR = np.random.choice(data_VBF_SR.shape[0], n_VBF_SR + n_VBF_SR_test, replace=False)\n",
    "    idx_VBF_BR = np.random.choice(data_VBF_BR.shape[0], n_VBF_BR + n_VBF_BR_test, replace=False)\n",
    "    idx_GGF_SR = np.random.choice(data_GGF_SR.shape[0], n_GGF_SR + n_GGF_SR_test, replace=False)\n",
    "    idx_GGF_BR = np.random.choice(data_GGF_BR.shape[0], n_GGF_BR + n_GGF_BR_test, replace=False)\n",
    "\n",
    "    idx_VBF_SR_te = idx_VBF_SR[n_VBF_SR:]\n",
    "    idx_VBF_BR_te = idx_VBF_BR[n_VBF_BR:]\n",
    "    idx_GGF_SR_te = idx_GGF_SR[n_GGF_SR:]\n",
    "    idx_GGF_BR_te = idx_GGF_BR[n_GGF_BR:]\n",
    "\n",
    "    print(f'Preparing dataset from {npy_dirs}')\n",
    "\n",
    "    new_data_te = np.concatenate([\n",
    "        data_VBF_SR[idx_VBF_SR_te],\n",
    "        data_VBF_BR[idx_VBF_BR_te],\n",
    "        data_GGF_SR[idx_GGF_SR_te],\n",
    "        data_GGF_BR[idx_GGF_BR_te],\n",
    "    ], axis=0)\n",
    "    data_te = new_data_te\n",
    "\n",
    "    new_label_te = np.zeros(new_data_te.shape[0])\n",
    "    new_label_te[:n_test] = 1\n",
    "    label_te = new_label_te\n",
    "\n",
    "    return data_te, label_te"
   ]
  },
  {
   "cell_type": "code",
   "execution_count": 3,
   "id": "f42d1001",
   "metadata": {},
   "outputs": [],
   "source": [
    "def compute_nevent_in_SR_BR(GGF_cutflow_file='../Sample/selection_results_GGF_300_3.1.npy', VBF_cutflow_file='../Sample/selection_results_VBF_300_3.1.npy', L=300, cut_type='mjj'):\n",
    "    # https://twiki.cern.ch/twiki/bin/view/LHCPhysics/CERNYellowReportPageAt14TeV\n",
    "    cross_section_GGF = 54.67 * 1000\n",
    "    cross_section_VBF = 4.278 * 1000\n",
    "    # https://twiki.cern.ch/twiki/bin/view/LHCPhysics/CERNYellowReportPageBR\n",
    "    BR_Haa = 0.00227\n",
    "\n",
    "    GGF_selection = np.load(GGF_cutflow_file, allow_pickle=True).item()\n",
    "    VBF_selection = np.load(VBF_cutflow_file, allow_pickle=True).item()\n",
    "\n",
    "    if cut_type == 'quark_jet_2':\n",
    "        n_GGF_SR = cross_section_GGF * GGF_selection['cutflow_number']['two quark jet: sig region'] / GGF_selection['cutflow_number']['Total'] * BR_Haa * L\n",
    "        n_GGF_BR = cross_section_GGF * GGF_selection['cutflow_number']['two quark jet: bkg region'] / GGF_selection['cutflow_number']['Total'] * BR_Haa * L\n",
    "        n_VBF_SR = cross_section_VBF * VBF_selection['cutflow_number']['two quark jet: sig region'] / VBF_selection['cutflow_number']['Total'] * BR_Haa * L\n",
    "        n_VBF_BR = cross_section_VBF * VBF_selection['cutflow_number']['two quark jet: bkg region'] / VBF_selection['cutflow_number']['Total'] * BR_Haa * L\n",
    "\n",
    "    else:\n",
    "        raise ValueError('cut_type must be mjj, deta, or mjj, or deta, or gluon_jet')\n",
    "    return n_VBF_SR, n_GGF_SR, n_VBF_BR, n_GGF_BR"
   ]
  },
  {
   "cell_type": "code",
   "execution_count": 4,
   "id": "79552f8b",
   "metadata": {},
   "outputs": [],
   "source": [
    "def get_sample_size(y):\n",
    "    if len(y.shape) == 1:\n",
    "        ns = (y == 1).sum()\n",
    "        nb = (y == 0).sum()\n",
    "    else:\n",
    "        ns = (y.argmax(axis=1) == 1).sum()\n",
    "        nb = (y.argmax(axis=1) == 0).sum()\n",
    "    print(ns, nb)\n",
    "    return ns, nb"
   ]
  },
  {
   "cell_type": "code",
   "execution_count": 5,
   "id": "bfd468fc",
   "metadata": {},
   "outputs": [],
   "source": [
    "def pt_normalization(X):\n",
    "    # input shape: (n, res, res, 3)\n",
    "    mean = np.mean(X, axis=(1, 2), keepdims=True)\n",
    "    std = np.std(X, axis=(1, 2), keepdims=True)\n",
    "    epsilon = 1e-8\n",
    "    std = np.where(std < epsilon, epsilon, std)\n",
    "    return (X - mean) / std"
   ]
  },
  {
   "cell_type": "markdown",
   "id": "f55414c2",
   "metadata": {},
   "source": [
    "# Training results"
   ]
  },
  {
   "cell_type": "code",
   "execution_count": 6,
   "id": "38d68237",
   "metadata": {},
   "outputs": [],
   "source": [
    "def get_highest_accuracy(y_true, y_pred):\n",
    "    _, _, thresholds = roc_curve(y_true, y_pred)\n",
    "    # compute highest accuracy\n",
    "    thresholds = np.array(thresholds)\n",
    "    if len(thresholds) > 1000:\n",
    "        thresholds = np.percentile(thresholds, np.linspace(0, 100, 1001))\n",
    "    accuracy_scores = []\n",
    "    for threshold in thresholds:\n",
    "        accuracy_scores.append(accuracy_score(y_true, y_pred > threshold))\n",
    "\n",
    "    accuracies = np.array(accuracy_scores)\n",
    "    return accuracies.max()"
   ]
  },
  {
   "cell_type": "code",
   "execution_count": 7,
   "id": "75199574",
   "metadata": {},
   "outputs": [],
   "source": [
    "# Training parameters\n",
    "with open('./CNN/params.json', 'r') as f:\n",
    "    params = json.load(f)\n",
    "BATCH_SIZE = params['BATCH_SIZE']"
   ]
  },
  {
   "cell_type": "code",
   "execution_count": 8,
   "id": "7bd02507",
   "metadata": {},
   "outputs": [],
   "source": [
    "def evaluate_EventCNN_on_diphoton_and_ZZ4l(config_path):\n",
    "\n",
    "    # Read config file\n",
    "    with open(config_path, 'r') as f:\n",
    "        config = json.load(f)\n",
    "    seed = config['seed']\n",
    "    luminosity = config['luminosity']\n",
    "    cut_type = config['cut_type']\n",
    "    model_name = config['model_name']\n",
    "    GGF_cutflow_file = './Sample/selection_results_GGF_quark_jet.npy'\n",
    "    VBF_cutflow_file = './Sample/selection_results_VBF_quark_jet.npy'\n",
    "    \n",
    "    save_model_name = f'./CNN/CNN_models/last_model_GGF_VBF_CWoLa_{model_name}/'\n",
    "    try:\n",
    "        loaded_model = tf.keras.models.load_model(save_model_name)\n",
    "    except:\n",
    "        print(f\"Model {save_model_name} not found. Skipping this configuration.\")\n",
    "        \n",
    "    \n",
    "    n_SR_VBF, n_SR_GGF, n_BR_VBF, n_BR_GGF = compute_nevent_in_SR_BR(GGF_cutflow_file, VBF_cutflow_file, luminosity, cut_type)\n",
    "    n_events = (int(n_SR_VBF), int(n_SR_GGF), int(n_BR_VBF), int(n_BR_GGF))\n",
    "    npy_paths = ['./Sample/data/quark_jet_2_cut/pre-processing/remove_photon_case_1/40x40/']\n",
    "    X_test, y_test = create_test_sample_from(npy_paths, n_events, (0.8, 0.2), seed=seed)\n",
    "    X_test = pt_normalization(X_test)\n",
    "    \n",
    "    y_pred = loaded_model.predict(X_test, batch_size=BATCH_SIZE)\n",
    "    ACC_aa = get_highest_accuracy(y_test, y_pred)\n",
    "    AUC_aa = roc_auc_score(y_test, y_pred)\n",
    "\n",
    "    # ZZ->4l case\n",
    "    GGF_cutflow_file = './Sample/selection_results_GGF_ZZ_4l_quark_jet.npy'\n",
    "    VBF_cutflow_file = './Sample/selection_results_VBF_ZZ_4l_quark_jet.npy'\n",
    "    n_SR_VBF, n_SR_GGF, n_BR_VBF, n_BR_GGF = compute_nevent_in_SR_BR(GGF_cutflow_file, VBF_cutflow_file, luminosity, cut_type)\n",
    "    n_events = (int(n_SR_VBF), int(n_SR_GGF), int(n_BR_VBF), int(n_BR_GGF))\n",
    "    npy_paths = ['./Sample/data/ZZ_4l/quark_jet_2_cut/pre-processing/remove_product_case_5/40x40/']\n",
    "    X_test, y_test = create_test_sample_from(npy_paths, n_events, (0.8, 0.2), seed=seed)\n",
    "    X_test = pt_normalization(X_test)\n",
    "    # Use the same loaded_model as above (same model_name)\n",
    "    y_pred = loaded_model.predict(X_test, batch_size=BATCH_SIZE)\n",
    "    ACC_ZZ_4l = get_highest_accuracy(y_test, y_pred)\n",
    "    AUC_ZZ_4l = roc_auc_score(y_test, y_pred)\n",
    "\n",
    "    # Write results\n",
    "    file_name = 'GGF_VBF_CWoLa_summary.csv'\n",
    "    data_dict = {\n",
    "                'Di-photon ACC': [ACC_aa],\n",
    "                'Di-photon AUC': [AUC_aa],\n",
    "                'ZZ->4l ACC': [ACC_ZZ_4l],\n",
    "                'ZZ->4l AUC': [AUC_ZZ_4l],\n",
    "                'Luminosity (fb^-1)': [luminosity],\n",
    "                'Model type': ['Event-CNN'],\n",
    "                'Model Name': [model_name],\n",
    "                }\n",
    "    \n",
    "    df = pd.DataFrame(data_dict)\n",
    "    if os.path.isfile(file_name):\n",
    "        training_results_df = pd.read_csv(file_name)\n",
    "        pd.concat([training_results_df, df], ignore_index=True).to_csv(file_name, index=False)\n",
    "    else:\n",
    "        df.to_csv(file_name, index=False)\n",
    "\n",
    "    return ACC_aa, AUC_aa, ACC_ZZ_4l, AUC_ZZ_4l"
   ]
  },
  {
   "cell_type": "code",
   "execution_count": 10,
   "id": "8f1a5154",
   "metadata": {},
   "outputs": [
    {
     "name": "stdout",
     "output_type": "stream",
     "text": [
      "Preparing dataset from ['./Sample/data/quark_jet_2_cut/pre-processing/remove_photon_case_1/40x40/']\n",
      "40/40 [==============================] - 0s 7ms/step\n",
      "Preparing dataset from ['./Sample/data/ZZ_4l/quark_jet_2_cut/pre-processing/remove_product_case_5/40x40/']\n",
      "40/40 [==============================] - 0s 7ms/step\n",
      "Preparing dataset from ['./Sample/data/quark_jet_2_cut/pre-processing/remove_photon_case_1/40x40/']\n",
      "40/40 [==============================] - 0s 7ms/step\n",
      "Preparing dataset from ['./Sample/data/ZZ_4l/quark_jet_2_cut/pre-processing/remove_product_case_5/40x40/']\n",
      "40/40 [==============================] - 0s 7ms/step\n",
      "Preparing dataset from ['./Sample/data/quark_jet_2_cut/pre-processing/remove_photon_case_1/40x40/']\n",
      "40/40 [==============================] - 0s 7ms/step\n",
      "Preparing dataset from ['./Sample/data/ZZ_4l/quark_jet_2_cut/pre-processing/remove_product_case_5/40x40/']\n",
      "40/40 [==============================] - 0s 7ms/step\n",
      "Preparing dataset from ['./Sample/data/quark_jet_2_cut/pre-processing/remove_photon_case_1/40x40/']\n",
      "40/40 [==============================] - 0s 7ms/step\n",
      "Preparing dataset from ['./Sample/data/ZZ_4l/quark_jet_2_cut/pre-processing/remove_product_case_5/40x40/']\n",
      "40/40 [==============================] - 0s 7ms/step\n",
      "Preparing dataset from ['./Sample/data/quark_jet_2_cut/pre-processing/remove_photon_case_1/40x40/']\n",
      "40/40 [==============================] - 0s 7ms/step\n",
      "Preparing dataset from ['./Sample/data/ZZ_4l/quark_jet_2_cut/pre-processing/remove_product_case_5/40x40/']\n",
      "40/40 [==============================] - 0s 7ms/step\n",
      "Preparing dataset from ['./Sample/data/quark_jet_2_cut/pre-processing/remove_photon_case_1/40x40/']\n",
      "40/40 [==============================] - 0s 7ms/step\n",
      "Preparing dataset from ['./Sample/data/ZZ_4l/quark_jet_2_cut/pre-processing/remove_product_case_5/40x40/']\n",
      "40/40 [==============================] - 0s 7ms/step\n",
      "Preparing dataset from ['./Sample/data/quark_jet_2_cut/pre-processing/remove_photon_case_1/40x40/']\n",
      "40/40 [==============================] - 0s 7ms/step\n",
      "Preparing dataset from ['./Sample/data/ZZ_4l/quark_jet_2_cut/pre-processing/remove_product_case_5/40x40/']\n",
      "40/40 [==============================] - 0s 7ms/step\n",
      "Preparing dataset from ['./Sample/data/quark_jet_2_cut/pre-processing/remove_photon_case_1/40x40/']\n",
      "40/40 [==============================] - 0s 7ms/step\n",
      "Preparing dataset from ['./Sample/data/ZZ_4l/quark_jet_2_cut/pre-processing/remove_product_case_5/40x40/']\n",
      "40/40 [==============================] - 0s 7ms/step\n",
      "Preparing dataset from ['./Sample/data/quark_jet_2_cut/pre-processing/remove_photon_case_1/40x40/']\n",
      "40/40 [==============================] - 0s 7ms/step\n",
      "Preparing dataset from ['./Sample/data/ZZ_4l/quark_jet_2_cut/pre-processing/remove_product_case_5/40x40/']\n",
      "40/40 [==============================] - 0s 7ms/step\n",
      "Preparing dataset from ['./Sample/data/quark_jet_2_cut/pre-processing/remove_photon_case_1/40x40/']\n",
      "40/40 [==============================] - 0s 7ms/step\n",
      "Preparing dataset from ['./Sample/data/ZZ_4l/quark_jet_2_cut/pre-processing/remove_product_case_5/40x40/']\n",
      "40/40 [==============================] - 0s 7ms/step\n",
      "Preparing dataset from ['./Sample/data/quark_jet_2_cut/pre-processing/remove_photon_case_1/40x40/']\n",
      "40/40 [==============================] - 0s 7ms/step\n",
      "Preparing dataset from ['./Sample/data/ZZ_4l/quark_jet_2_cut/pre-processing/remove_product_case_5/40x40/']\n",
      "40/40 [==============================] - 0s 8ms/step\n",
      "Preparing dataset from ['./Sample/data/quark_jet_2_cut/pre-processing/remove_photon_case_1/40x40/']\n",
      "40/40 [==============================] - 0s 7ms/step\n",
      "Preparing dataset from ['./Sample/data/ZZ_4l/quark_jet_2_cut/pre-processing/remove_product_case_5/40x40/']\n",
      "40/40 [==============================] - 0s 7ms/step\n",
      "Preparing dataset from ['./Sample/data/quark_jet_2_cut/pre-processing/remove_photon_case_1/40x40/']\n",
      "40/40 [==============================] - 0s 7ms/step\n",
      "Preparing dataset from ['./Sample/data/ZZ_4l/quark_jet_2_cut/pre-processing/remove_product_case_5/40x40/']\n",
      "40/40 [==============================] - 0s 7ms/step\n",
      "Preparing dataset from ['./Sample/data/quark_jet_2_cut/pre-processing/remove_photon_case_1/40x40/']\n",
      "40/40 [==============================] - 0s 7ms/step\n",
      "Preparing dataset from ['./Sample/data/ZZ_4l/quark_jet_2_cut/pre-processing/remove_product_case_5/40x40/']\n",
      "40/40 [==============================] - 0s 7ms/step\n",
      "Preparing dataset from ['./Sample/data/quark_jet_2_cut/pre-processing/remove_photon_case_1/40x40/']\n",
      "40/40 [==============================] - 0s 7ms/step\n",
      "Preparing dataset from ['./Sample/data/ZZ_4l/quark_jet_2_cut/pre-processing/remove_product_case_5/40x40/']\n",
      "40/40 [==============================] - 0s 7ms/step\n",
      "Preparing dataset from ['./Sample/data/quark_jet_2_cut/pre-processing/remove_photon_case_1/40x40/']\n",
      "40/40 [==============================] - 0s 7ms/step\n",
      "Preparing dataset from ['./Sample/data/ZZ_4l/quark_jet_2_cut/pre-processing/remove_product_case_5/40x40/']\n",
      "40/40 [==============================] - 0s 7ms/step\n",
      "Preparing dataset from ['./Sample/data/quark_jet_2_cut/pre-processing/remove_photon_case_1/40x40/']\n",
      "40/40 [==============================] - 0s 8ms/step\n",
      "Preparing dataset from ['./Sample/data/ZZ_4l/quark_jet_2_cut/pre-processing/remove_product_case_5/40x40/']\n",
      "40/40 [==============================] - 0s 7ms/step\n",
      "Preparing dataset from ['./Sample/data/quark_jet_2_cut/pre-processing/remove_photon_case_1/40x40/']\n",
      "40/40 [==============================] - 0s 7ms/step\n",
      "Preparing dataset from ['./Sample/data/ZZ_4l/quark_jet_2_cut/pre-processing/remove_product_case_5/40x40/']\n",
      "40/40 [==============================] - 0s 7ms/step\n",
      "Preparing dataset from ['./Sample/data/quark_jet_2_cut/pre-processing/remove_photon_case_1/40x40/']\n",
      "40/40 [==============================] - 0s 7ms/step\n",
      "Preparing dataset from ['./Sample/data/ZZ_4l/quark_jet_2_cut/pre-processing/remove_product_case_5/40x40/']\n",
      "40/40 [==============================] - 0s 7ms/step\n",
      "Preparing dataset from ['./Sample/data/quark_jet_2_cut/pre-processing/remove_photon_case_1/40x40/']\n",
      "40/40 [==============================] - 0s 7ms/step\n",
      "Preparing dataset from ['./Sample/data/ZZ_4l/quark_jet_2_cut/pre-processing/remove_product_case_5/40x40/']\n",
      "40/40 [==============================] - 0s 8ms/step\n",
      "Preparing dataset from ['./Sample/data/quark_jet_2_cut/pre-processing/remove_photon_case_1/40x40/']\n",
      "40/40 [==============================] - 0s 7ms/step\n",
      "Preparing dataset from ['./Sample/data/ZZ_4l/quark_jet_2_cut/pre-processing/remove_product_case_5/40x40/']\n",
      "40/40 [==============================] - 0s 7ms/step\n",
      "Preparing dataset from ['./Sample/data/quark_jet_2_cut/pre-processing/remove_photon_case_1/40x40/']\n",
      "40/40 [==============================] - 0s 7ms/step\n",
      "Preparing dataset from ['./Sample/data/ZZ_4l/quark_jet_2_cut/pre-processing/remove_product_case_5/40x40/']\n",
      "40/40 [==============================] - 0s 7ms/step\n",
      "Preparing dataset from ['./Sample/data/quark_jet_2_cut/pre-processing/remove_photon_case_1/40x40/']\n",
      "40/40 [==============================] - 0s 7ms/step\n",
      "Preparing dataset from ['./Sample/data/ZZ_4l/quark_jet_2_cut/pre-processing/remove_product_case_5/40x40/']\n",
      "40/40 [==============================] - 0s 7ms/step\n",
      "Preparing dataset from ['./Sample/data/quark_jet_2_cut/pre-processing/remove_photon_case_1/40x40/']\n",
      "40/40 [==============================] - 0s 7ms/step\n",
      "Preparing dataset from ['./Sample/data/ZZ_4l/quark_jet_2_cut/pre-processing/remove_product_case_5/40x40/']\n",
      "40/40 [==============================] - 0s 7ms/step\n",
      "Preparing dataset from ['./Sample/data/quark_jet_2_cut/pre-processing/remove_photon_case_1/40x40/']\n",
      "40/40 [==============================] - 0s 7ms/step\n",
      "Preparing dataset from ['./Sample/data/ZZ_4l/quark_jet_2_cut/pre-processing/remove_product_case_5/40x40/']\n",
      "40/40 [==============================] - 0s 7ms/step\n",
      "Preparing dataset from ['./Sample/data/quark_jet_2_cut/pre-processing/remove_photon_case_1/40x40/']\n",
      "40/40 [==============================] - 0s 8ms/step\n",
      "Preparing dataset from ['./Sample/data/ZZ_4l/quark_jet_2_cut/pre-processing/remove_product_case_5/40x40/']\n",
      "40/40 [==============================] - 0s 7ms/step\n",
      "Preparing dataset from ['./Sample/data/quark_jet_2_cut/pre-processing/remove_photon_case_1/40x40/']\n",
      "40/40 [==============================] - 0s 7ms/step\n",
      "Preparing dataset from ['./Sample/data/ZZ_4l/quark_jet_2_cut/pre-processing/remove_product_case_5/40x40/']\n",
      "40/40 [==============================] - 0s 7ms/step\n",
      "Preparing dataset from ['./Sample/data/quark_jet_2_cut/pre-processing/remove_photon_case_1/40x40/']\n",
      "40/40 [==============================] - 0s 7ms/step\n",
      "Preparing dataset from ['./Sample/data/ZZ_4l/quark_jet_2_cut/pre-processing/remove_product_case_5/40x40/']\n",
      "40/40 [==============================] - 0s 7ms/step\n",
      "Preparing dataset from ['./Sample/data/quark_jet_2_cut/pre-processing/remove_photon_case_1/40x40/']\n",
      "40/40 [==============================] - 0s 7ms/step\n",
      "Preparing dataset from ['./Sample/data/ZZ_4l/quark_jet_2_cut/pre-processing/remove_product_case_5/40x40/']\n",
      "40/40 [==============================] - 0s 7ms/step\n",
      "Preparing dataset from ['./Sample/data/quark_jet_2_cut/pre-processing/remove_photon_case_1/40x40/']\n",
      "40/40 [==============================] - 0s 8ms/step\n",
      "Preparing dataset from ['./Sample/data/ZZ_4l/quark_jet_2_cut/pre-processing/remove_product_case_5/40x40/']\n",
      "40/40 [==============================] - 0s 7ms/step\n",
      "Preparing dataset from ['./Sample/data/quark_jet_2_cut/pre-processing/remove_photon_case_1/40x40/']\n",
      "40/40 [==============================] - 0s 7ms/step\n",
      "Preparing dataset from ['./Sample/data/ZZ_4l/quark_jet_2_cut/pre-processing/remove_product_case_5/40x40/']\n",
      "40/40 [==============================] - 0s 7ms/step\n",
      "Preparing dataset from ['./Sample/data/quark_jet_2_cut/pre-processing/remove_photon_case_1/40x40/']\n",
      "40/40 [==============================] - 0s 7ms/step\n",
      "Preparing dataset from ['./Sample/data/ZZ_4l/quark_jet_2_cut/pre-processing/remove_product_case_5/40x40/']\n",
      "40/40 [==============================] - 0s 7ms/step\n",
      "Preparing dataset from ['./Sample/data/quark_jet_2_cut/pre-processing/remove_photon_case_1/40x40/']\n",
      "40/40 [==============================] - 0s 7ms/step\n",
      "Preparing dataset from ['./Sample/data/ZZ_4l/quark_jet_2_cut/pre-processing/remove_product_case_5/40x40/']\n",
      "40/40 [==============================] - 0s 7ms/step\n",
      "Preparing dataset from ['./Sample/data/quark_jet_2_cut/pre-processing/remove_photon_case_1/40x40/']\n",
      "40/40 [==============================] - 0s 7ms/step\n",
      "Preparing dataset from ['./Sample/data/ZZ_4l/quark_jet_2_cut/pre-processing/remove_product_case_5/40x40/']\n",
      "40/40 [==============================] - 0s 7ms/step\n",
      "Preparing dataset from ['./Sample/data/quark_jet_2_cut/pre-processing/remove_photon_case_1/40x40/']\n",
      "40/40 [==============================] - 0s 7ms/step\n",
      "Preparing dataset from ['./Sample/data/ZZ_4l/quark_jet_2_cut/pre-processing/remove_product_case_5/40x40/']\n",
      "40/40 [==============================] - 0s 7ms/step\n",
      "Preparing dataset from ['./Sample/data/quark_jet_2_cut/pre-processing/remove_photon_case_1/40x40/']\n",
      "40/40 [==============================] - 0s 7ms/step\n",
      "Preparing dataset from ['./Sample/data/ZZ_4l/quark_jet_2_cut/pre-processing/remove_product_case_5/40x40/']\n",
      "40/40 [==============================] - 0s 7ms/step\n",
      "Preparing dataset from ['./Sample/data/quark_jet_2_cut/pre-processing/remove_photon_case_1/40x40/']\n",
      "40/40 [==============================] - 0s 7ms/step\n",
      "Preparing dataset from ['./Sample/data/ZZ_4l/quark_jet_2_cut/pre-processing/remove_product_case_5/40x40/']\n",
      "40/40 [==============================] - 0s 7ms/step\n",
      "Preparing dataset from ['./Sample/data/quark_jet_2_cut/pre-processing/remove_photon_case_1/40x40/']\n",
      "40/40 [==============================] - 0s 8ms/step\n",
      "Preparing dataset from ['./Sample/data/ZZ_4l/quark_jet_2_cut/pre-processing/remove_product_case_5/40x40/']\n",
      "40/40 [==============================] - 0s 8ms/step\n",
      "Preparing dataset from ['./Sample/data/quark_jet_2_cut/pre-processing/remove_photon_case_1/40x40/']\n",
      "40/40 [==============================] - 0s 7ms/step\n",
      "Preparing dataset from ['./Sample/data/ZZ_4l/quark_jet_2_cut/pre-processing/remove_product_case_5/40x40/']\n",
      "40/40 [==============================] - 0s 7ms/step\n",
      "Preparing dataset from ['./Sample/data/quark_jet_2_cut/pre-processing/remove_photon_case_1/40x40/']\n",
      "40/40 [==============================] - 0s 7ms/step\n",
      "Preparing dataset from ['./Sample/data/ZZ_4l/quark_jet_2_cut/pre-processing/remove_product_case_5/40x40/']\n",
      "40/40 [==============================] - 0s 7ms/step\n",
      "Preparing dataset from ['./Sample/data/quark_jet_2_cut/pre-processing/remove_photon_case_1/40x40/']\n",
      "40/40 [==============================] - 0s 8ms/step\n",
      "Preparing dataset from ['./Sample/data/ZZ_4l/quark_jet_2_cut/pre-processing/remove_product_case_5/40x40/']\n",
      "40/40 [==============================] - 0s 7ms/step\n",
      "Preparing dataset from ['./Sample/data/quark_jet_2_cut/pre-processing/remove_photon_case_1/40x40/']\n",
      "40/40 [==============================] - 0s 7ms/step\n",
      "Preparing dataset from ['./Sample/data/ZZ_4l/quark_jet_2_cut/pre-processing/remove_product_case_5/40x40/']\n",
      "40/40 [==============================] - 0s 7ms/step\n",
      "Preparing dataset from ['./Sample/data/quark_jet_2_cut/pre-processing/remove_photon_case_1/40x40/']\n",
      "40/40 [==============================] - 0s 7ms/step\n",
      "Preparing dataset from ['./Sample/data/ZZ_4l/quark_jet_2_cut/pre-processing/remove_product_case_5/40x40/']\n",
      "40/40 [==============================] - 0s 7ms/step\n",
      "Preparing dataset from ['./Sample/data/quark_jet_2_cut/pre-processing/remove_photon_case_1/40x40/']\n",
      "40/40 [==============================] - 0s 7ms/step\n",
      "Preparing dataset from ['./Sample/data/ZZ_4l/quark_jet_2_cut/pre-processing/remove_product_case_5/40x40/']\n",
      "40/40 [==============================] - 0s 8ms/step\n",
      "Preparing dataset from ['./Sample/data/quark_jet_2_cut/pre-processing/remove_photon_case_1/40x40/']\n",
      "40/40 [==============================] - 0s 7ms/step\n",
      "Preparing dataset from ['./Sample/data/ZZ_4l/quark_jet_2_cut/pre-processing/remove_product_case_5/40x40/']\n",
      "40/40 [==============================] - 0s 7ms/step\n",
      "Preparing dataset from ['./Sample/data/quark_jet_2_cut/pre-processing/remove_photon_case_1/40x40/']\n",
      "40/40 [==============================] - 0s 8ms/step\n",
      "Preparing dataset from ['./Sample/data/ZZ_4l/quark_jet_2_cut/pre-processing/remove_product_case_5/40x40/']\n",
      "40/40 [==============================] - 0s 7ms/step\n",
      "Preparing dataset from ['./Sample/data/quark_jet_2_cut/pre-processing/remove_photon_case_1/40x40/']\n",
      "40/40 [==============================] - 0s 7ms/step\n",
      "Preparing dataset from ['./Sample/data/ZZ_4l/quark_jet_2_cut/pre-processing/remove_product_case_5/40x40/']\n",
      "40/40 [==============================] - 0s 7ms/step\n",
      "Preparing dataset from ['./Sample/data/quark_jet_2_cut/pre-processing/remove_photon_case_1/40x40/']\n",
      "40/40 [==============================] - 0s 8ms/step\n",
      "Preparing dataset from ['./Sample/data/ZZ_4l/quark_jet_2_cut/pre-processing/remove_product_case_5/40x40/']\n",
      "40/40 [==============================] - 0s 7ms/step\n",
      "Preparing dataset from ['./Sample/data/quark_jet_2_cut/pre-processing/remove_photon_case_1/40x40/']\n",
      "40/40 [==============================] - 0s 7ms/step\n",
      "Preparing dataset from ['./Sample/data/ZZ_4l/quark_jet_2_cut/pre-processing/remove_product_case_5/40x40/']\n",
      "40/40 [==============================] - 0s 7ms/step\n",
      "Preparing dataset from ['./Sample/data/quark_jet_2_cut/pre-processing/remove_photon_case_1/40x40/']\n",
      "40/40 [==============================] - 0s 7ms/step\n",
      "Preparing dataset from ['./Sample/data/ZZ_4l/quark_jet_2_cut/pre-processing/remove_product_case_5/40x40/']\n",
      "40/40 [==============================] - 0s 7ms/step\n"
     ]
    }
   ],
   "source": [
    "# for l in [100, 300, 900, 1800, 3000]:\n",
    "#     for i in range(1, 11):\n",
    "#         config_path = f'./CNN/config_files/quark_jet_2_cut_L_{l}_eventCNN_pT_norm_remove_photon_case1_config_{i:02}.json'\n",
    "#         evaluate_EventCNN_on_diphoton_and_ZZ4l(config_path)\n",
    "\n",
    "# for l in [100, 300, 900, 1800, 3000]:\n",
    "#     for i in range(1, 11):\n",
    "#         config_path = f'./CNN/config_files/quark_jet_2_cut_L_{l}_eventCNN_pT_norm_remove_photon_case1_phi_aug_5_config_{i:02}.json'\n",
    "#         evaluate_EventCNN_on_diphoton_and_ZZ4l(config_path)\n",
    "\n",
    "for l in [100, 300, 900, 1800, 3000]:\n",
    "    for i in range(1, 11):\n",
    "        config_path = f'./CNN/config_files/quark_jet_2_cut_L_{l}_eventCNN_pT_norm_remove_photon_case1_phi_aug_10_config_{i:02}.json'\n",
    "        evaluate_EventCNN_on_diphoton_and_ZZ4l(config_path)"
   ]
  },
  {
   "cell_type": "markdown",
   "id": "05a29afd",
   "metadata": {},
   "source": [
    "## Particle transformer"
   ]
  },
  {
   "cell_type": "code",
   "execution_count": 9,
   "id": "b1f8bab7",
   "metadata": {},
   "outputs": [],
   "source": [
    "MAX_CONSTI = {\n",
    "    'Jet': 50,\n",
    "    'Tower': 250,\n",
    "    'Track': 150,\n",
    "    'Photon': 2,\n",
    "    'PHOTON': 2,\n",
    "    'Lepton': 4,\n",
    "    'LEPTON': 4,\n",
    "}"
   ]
  },
  {
   "cell_type": "code",
   "execution_count": 10,
   "id": "070b4c28",
   "metadata": {},
   "outputs": [],
   "source": [
    "def prepare_feature_from_h5(h5_file, remove_decay_products=False):\n",
    "    with h5py.File(h5_file, 'r') as f:\n",
    "        if 'PHOTON' in f.keys():\n",
    "            decay_product = 'PHOTON'\n",
    "        elif 'LEPTON' in f.keys():\n",
    "            decay_product = 'LEPTON'\n",
    "        else:   \n",
    "            raise ValueError('No decay product found in the h5 file.')\n",
    "        event_pt = np.concatenate([f['TOWER/pt'][:], f['TRACK/pt'][:], f[f'{decay_product}/pt'][:]], axis=1)\n",
    "        event_eta = np.concatenate([f['TOWER/eta'][:], f['TRACK/eta'][:], f[f'{decay_product}/eta'][:]], axis=1)\n",
    "        event_phi = np.concatenate([f['TOWER/phi'][:], f['TRACK/phi'][:], f[f'{decay_product}/phi'][:]], axis=1)\n",
    "        event_mask = np.concatenate([f['TOWER/mask'][:], f['TRACK/mask'][:], np.tile([True] * MAX_CONSTI[decay_product], (event_pt.shape[0], 1))], axis=1)\n",
    "\n",
    "        if remove_decay_products:\n",
    "            decay_product_eta = f[f'{decay_product}/eta'][:]\n",
    "            decay_product_phi = f[f'{decay_product}/phi'][:]\n",
    "            indices = np.where((event_eta[:, :, None] == decay_product_eta[:, None, :]) & (event_phi[:, :, None] == decay_product_phi[:, None, :]))\n",
    "            event_mask[indices[0], indices[1]] = False\n",
    "\n",
    "        event_pt[event_mask == False] = float('nan')\n",
    "        event_eta[event_mask == False] = float('nan')\n",
    "        event_phi[event_mask == False] = float('nan')\n",
    "\n",
    "        event_particle_type_0 = np.array([1] * MAX_CONSTI['Tower'] + [0] * MAX_CONSTI['Track'] + [0] * MAX_CONSTI[decay_product])\n",
    "        event_particle_type_0 = np.tile(event_particle_type_0, (event_pt.shape[0], 1))\n",
    "        event_particle_type_1 = np.array([0] * MAX_CONSTI['Tower'] + [1] * MAX_CONSTI['Track'] + [0] * MAX_CONSTI[decay_product])\n",
    "        event_particle_type_1 = np.tile(event_particle_type_1, (event_pt.shape[0], 1))\n",
    "        event_particle_type_2 = np.array([0] * MAX_CONSTI['Tower'] + [0] * MAX_CONSTI['Track'] + [1] * MAX_CONSTI[decay_product])\n",
    "        event_particle_type_2 = np.tile(event_particle_type_2, (event_pt.shape[0], 1))\n",
    "\n",
    "        features = np.stack([event_pt, event_eta, event_phi, event_particle_type_0, event_particle_type_1, event_particle_type_2], axis=-1)\n",
    "\n",
    "    return features"
   ]
  },
  {
   "cell_type": "code",
   "execution_count": 11,
   "id": "312fef46",
   "metadata": {},
   "outputs": [],
   "source": [
    "def create_ParT_test_sample(h5_dirs: list, nevents: tuple, ratios=(0.8, 0.2), seed=0, remove_decay_products=False):\n",
    "    # h5_dirs: list of npy directories\n",
    "    # nevents: tuple of (n_VBF_SR, n_VBF_BR, n_GGF_SR, n_GGF_BR)\n",
    "    # ratios: tuple of (r_train, r_val)\n",
    "\n",
    "\n",
    "    h5_dir0 = Path(h5_dirs[0])\n",
    "    data_VBF_SR = prepare_feature_from_h5(h5_dir0 / 'VBF_in_SR.h5', remove_decay_products)\n",
    "    data_VBF_BR = prepare_feature_from_h5(h5_dir0 / 'VBF_in_BR.h5', remove_decay_products)\n",
    "    data_GGF_SR = prepare_feature_from_h5(h5_dir0 / 'GGF_in_SR.h5', remove_decay_products)\n",
    "    data_GGF_BR = prepare_feature_from_h5(h5_dir0 / 'GGF_in_BR.h5', remove_decay_products)\n",
    "    n_data_VBF_SR = data_VBF_SR.shape[0]\n",
    "    n_data_VBF_BR = data_VBF_BR.shape[0]\n",
    "    n_data_GGF_SR = data_GGF_SR.shape[0]\n",
    "    n_data_GGF_BR = data_GGF_BR.shape[0]\n",
    "    print(f'Number of events in VBF_SR: {n_data_VBF_SR}, VBF_BR: {n_data_VBF_BR}, GGF_SR: {n_data_GGF_SR}, GGF_BR: {n_data_GGF_BR}')\n",
    "\n",
    "    n_VBF_SR, n_GGF_SR, n_VBF_BR, n_GGF_BR = nevents\n",
    "    n_test = 10000\n",
    "    n_VBF_SR_test = int(n_data_VBF_SR / (n_data_VBF_SR + n_data_VBF_BR) * n_test)\n",
    "    n_VBF_BR_test = n_test - n_VBF_SR_test\n",
    "    n_GGF_SR_test = int(n_data_GGF_SR / (n_data_GGF_SR + n_data_GGF_BR) * n_test)\n",
    "    n_GGF_BR_test = n_test - n_GGF_SR_test\n",
    "\n",
    "\n",
    "    np.random.seed(seed)\n",
    "    idx_VBF_SR = np.random.choice(n_data_VBF_SR, n_VBF_SR + n_VBF_SR_test, replace=False)\n",
    "    idx_VBF_BR = np.random.choice(n_data_VBF_BR, n_VBF_BR + n_VBF_BR_test, replace=False)\n",
    "    idx_GGF_SR = np.random.choice(n_data_GGF_SR, n_GGF_SR + n_GGF_SR_test, replace=False)\n",
    "    idx_GGF_BR = np.random.choice(n_data_GGF_BR, n_GGF_BR + n_GGF_BR_test, replace=False)\n",
    "\n",
    "\n",
    "    idx_VBF_SR_te = idx_VBF_SR[n_VBF_SR:]\n",
    "    idx_VBF_BR_te = idx_VBF_BR[n_VBF_BR:]\n",
    "    idx_GGF_SR_te = idx_GGF_SR[n_GGF_SR:]\n",
    "    idx_GGF_BR_te = idx_GGF_BR[n_GGF_BR:]\n",
    "\n",
    "    print(f'Preparing dataset from {h5_dirs}')\n",
    "\n",
    "    new_data_te = np.concatenate([\n",
    "        data_VBF_SR[idx_VBF_SR_te],\n",
    "        data_VBF_BR[idx_VBF_BR_te],\n",
    "        data_GGF_SR[idx_GGF_SR_te],\n",
    "        data_GGF_BR[idx_GGF_BR_te],\n",
    "    ], axis=0)\n",
    "    data_te = new_data_te\n",
    "\n",
    "    new_label_te = np.zeros(new_data_te.shape[0])\n",
    "    new_label_te[:n_test] = 1\n",
    "    label_te = new_label_te\n",
    "\n",
    "    return  data_te, label_te\n",
    "\n",
    "def pt_normalization_ParT(X):\n",
    "    slices = [slice(0, 250), slice(250, 400), slice(400, 402)]\n",
    "    for i, s in enumerate(slices):\n",
    "        mean = np.nanmean(X[:, s, 0], axis=(1), keepdims=True)\n",
    "        std = np.nanstd(X[:, s, 0], axis=(1), keepdims=True)\n",
    "        mean[np.isnan(mean)] = 0\n",
    "        std[np.isnan(std)] = 1\n",
    "        epsilon = 1e-8\n",
    "        std = np.where(std < epsilon, epsilon, std)\n",
    "\n",
    "        X[:, s, 0] = (X[:, s, 0] - mean) / std"
   ]
  },
  {
   "cell_type": "code",
   "execution_count": 12,
   "id": "e92723f9",
   "metadata": {},
   "outputs": [],
   "source": [
    "def evaluate_ParT_on_diphoton_and_ZZ4l(config_path):\n",
    "\n",
    "    # Read config file\n",
    "    with open(config_path, 'r') as f:\n",
    "        config = json.load(f)\n",
    "    seed = config['seed']\n",
    "    luminosity = config['luminosity']\n",
    "    cut_type = config['cut_type']\n",
    "    model_name = config['model_name']\n",
    "    training_method = config['training_method']\n",
    "    remove_decay_products = config['remove_decay_products']\n",
    "    GGF_cutflow_file = './Sample/selection_results_GGF_quark_jet.npy'\n",
    "    VBF_cutflow_file = './Sample/selection_results_VBF_quark_jet.npy'\n",
    "    \n",
    "    save_model_name = f'./Particle_transformer/ParT_models/last_model_{training_method}_{model_name}/'\n",
    "    try:\n",
    "        loaded_model = tf.keras.models.load_model(save_model_name)\n",
    "    except:\n",
    "        print(f\"Model {save_model_name} not found. Skipping this configuration.\")\n",
    "        \n",
    "    \n",
    "    n_SR_VBF, n_SR_GGF, n_BR_VBF, n_BR_GGF = compute_nevent_in_SR_BR(GGF_cutflow_file, VBF_cutflow_file, luminosity, cut_type)\n",
    "    n_events = (int(n_SR_VBF), int(n_SR_GGF), int(n_BR_VBF), int(n_BR_GGF))\n",
    "    h5_dirs = ['./Sample/data/quark_jet_2_cut/pre-processing/']\n",
    "    X_test, y_test = create_ParT_test_sample(h5_dirs, n_events, (0.8, 0.2), seed=seed, remove_decay_products=remove_decay_products)\n",
    "    pt_normalization_ParT(X_test)\n",
    "    \n",
    "    y_pred = loaded_model.predict(X_test, batch_size=BATCH_SIZE)\n",
    "    ACC_aa = get_highest_accuracy(y_test, y_pred)\n",
    "    AUC_aa = roc_auc_score(y_test, y_pred)\n",
    "\n",
    "    # ZZ->4l case\n",
    "    GGF_cutflow_file = './Sample/selection_results_GGF_ZZ_4l_quark_jet.npy'\n",
    "    VBF_cutflow_file = './Sample/selection_results_VBF_ZZ_4l_quark_jet.npy'\n",
    "    n_SR_VBF, n_SR_GGF, n_BR_VBF, n_BR_GGF = compute_nevent_in_SR_BR(GGF_cutflow_file, VBF_cutflow_file, luminosity, cut_type)\n",
    "    n_events = (int(n_SR_VBF), int(n_SR_GGF), int(n_BR_VBF), int(n_BR_GGF))\n",
    "    npy_paths = ['./Sample/data/ZZ_4l/quark_jet_2_cut/pre-processing/']\n",
    "    X_test, y_test = create_ParT_test_sample(npy_paths, n_events, (0.8, 0.2), seed=seed, remove_decay_products=remove_decay_products)\n",
    "    pt_normalization_ParT(X_test)\n",
    "    # Use the same loaded_model as above (same model_name)\n",
    "    y_pred = loaded_model.predict(X_test, batch_size=BATCH_SIZE)\n",
    "    ACC_ZZ_4l = get_highest_accuracy(y_test, y_pred)\n",
    "    AUC_ZZ_4l = roc_auc_score(y_test, y_pred)\n",
    "\n",
    "    # Write results\n",
    "    file_name = 'GGF_VBF_CWoLa_summary.csv'\n",
    "    data_dict = {\n",
    "                'Di-photon ACC': [ACC_aa],\n",
    "                'Di-photon AUC': [AUC_aa],\n",
    "                'ZZ->4l ACC': [ACC_ZZ_4l],\n",
    "                'ZZ->4l AUC': [AUC_ZZ_4l],\n",
    "                'Luminosity (fb^-1)': [luminosity],\n",
    "                'Model type': ['ParT'],\n",
    "                'Model Name': [model_name],\n",
    "                }\n",
    "    \n",
    "    df = pd.DataFrame(data_dict)\n",
    "    if os.path.isfile(file_name):\n",
    "        training_results_df = pd.read_csv(file_name)\n",
    "        pd.concat([training_results_df, df], ignore_index=True).to_csv(file_name, index=False)\n",
    "    else:\n",
    "        df.to_csv(file_name, index=False)\n",
    "\n",
    "    return ACC_aa, AUC_aa, ACC_ZZ_4l, AUC_ZZ_4l"
   ]
  },
  {
   "cell_type": "code",
   "execution_count": 13,
   "id": "74422088",
   "metadata": {},
   "outputs": [
    {
     "name": "stderr",
     "output_type": "stream",
     "text": [
      "2025-10-08 10:24:40.180111: I tensorflow/core/platform/cpu_feature_guard.cc:193] This TensorFlow binary is optimized with oneAPI Deep Neural Network Library (oneDNN) to use the following CPU instructions in performance-critical operations:  SSE4.1 SSE4.2 AVX AVX2 AVX512F AVX512_VNNI FMA\n",
      "To enable them in other operations, rebuild TensorFlow with the appropriate compiler flags.\n",
      "2025-10-08 10:24:40.777222: I tensorflow/core/common_runtime/gpu/gpu_device.cc:1613] Created device /job:localhost/replica:0/task:0/device:GPU:0 with 22288 MB memory:  -> device: 0, name: NVIDIA GeForce RTX 3090, pci bus id: 0000:d8:00.0, compute capability: 8.6\n"
     ]
    },
    {
     "name": "stdout",
     "output_type": "stream",
     "text": [
      "Number of events in VBF_SR: 286751, VBF_BR: 45436, GGF_SR: 78945, GGF_BR: 83384\n",
      "Preparing dataset from ['./Sample/data/quark_jet_2_cut/pre-processing/']\n"
     ]
    },
    {
     "name": "stderr",
     "output_type": "stream",
     "text": [
      "/tmp/ipykernel_519871/2994601865.py:57: RuntimeWarning: Mean of empty slice\n",
      "  mean = np.nanmean(X[:, s, 0], axis=(1), keepdims=True)\n",
      "/home/r10222035/.conda/envs/tf2/lib/python3.8/site-packages/numpy/lib/nanfunctions.py:1872: RuntimeWarning: Degrees of freedom <= 0 for slice.\n",
      "  var = nanvar(a, axis=axis, dtype=dtype, out=out, ddof=ddof,\n",
      "2025-10-08 10:25:05.304389: I tensorflow/compiler/xla/stream_executor/cuda/cuda_dnn.cc:428] Loaded cuDNN version 8401\n",
      "2025-10-08 10:25:05.305949: I tensorflow/compiler/xla/stream_executor/cuda/cuda_blas.cc:630] TensorFloat-32 will be used for the matrix multiplication. This will only be logged once.\n"
     ]
    },
    {
     "name": "stdout",
     "output_type": "stream",
     "text": [
      "40/40 [==============================] - 7s 134ms/step\n",
      "Number of events in VBF_SR: 115461, VBF_BR: 17701, GGF_SR: 32970, GGF_BR: 32429\n",
      "Preparing dataset from ['./Sample/data/ZZ_4l/quark_jet_2_cut/pre-processing/']\n"
     ]
    },
    {
     "name": "stderr",
     "output_type": "stream",
     "text": [
      "/tmp/ipykernel_519871/2994601865.py:57: RuntimeWarning: Mean of empty slice\n",
      "  mean = np.nanmean(X[:, s, 0], axis=(1), keepdims=True)\n",
      "/home/r10222035/.conda/envs/tf2/lib/python3.8/site-packages/numpy/lib/nanfunctions.py:1872: RuntimeWarning: Degrees of freedom <= 0 for slice.\n",
      "  var = nanvar(a, axis=axis, dtype=dtype, out=out, ddof=ddof,\n"
     ]
    },
    {
     "name": "stdout",
     "output_type": "stream",
     "text": [
      "40/40 [==============================] - 6s 134ms/step\n",
      "Number of events in VBF_SR: 286751, VBF_BR: 45436, GGF_SR: 78945, GGF_BR: 83384\n",
      "Preparing dataset from ['./Sample/data/quark_jet_2_cut/pre-processing/']\n"
     ]
    },
    {
     "name": "stderr",
     "output_type": "stream",
     "text": [
      "/tmp/ipykernel_519871/2994601865.py:57: RuntimeWarning: Mean of empty slice\n",
      "  mean = np.nanmean(X[:, s, 0], axis=(1), keepdims=True)\n",
      "/home/r10222035/.conda/envs/tf2/lib/python3.8/site-packages/numpy/lib/nanfunctions.py:1872: RuntimeWarning: Degrees of freedom <= 0 for slice.\n",
      "  var = nanvar(a, axis=axis, dtype=dtype, out=out, ddof=ddof,\n"
     ]
    },
    {
     "name": "stdout",
     "output_type": "stream",
     "text": [
      "40/40 [==============================] - 6s 135ms/step\n",
      "Number of events in VBF_SR: 115461, VBF_BR: 17701, GGF_SR: 32970, GGF_BR: 32429\n",
      "Preparing dataset from ['./Sample/data/ZZ_4l/quark_jet_2_cut/pre-processing/']\n"
     ]
    },
    {
     "name": "stderr",
     "output_type": "stream",
     "text": [
      "/tmp/ipykernel_519871/2994601865.py:57: RuntimeWarning: Mean of empty slice\n",
      "  mean = np.nanmean(X[:, s, 0], axis=(1), keepdims=True)\n",
      "/home/r10222035/.conda/envs/tf2/lib/python3.8/site-packages/numpy/lib/nanfunctions.py:1872: RuntimeWarning: Degrees of freedom <= 0 for slice.\n",
      "  var = nanvar(a, axis=axis, dtype=dtype, out=out, ddof=ddof,\n"
     ]
    },
    {
     "name": "stdout",
     "output_type": "stream",
     "text": [
      "40/40 [==============================] - 6s 135ms/step\n",
      "Number of events in VBF_SR: 286751, VBF_BR: 45436, GGF_SR: 78945, GGF_BR: 83384\n",
      "Preparing dataset from ['./Sample/data/quark_jet_2_cut/pre-processing/']\n"
     ]
    },
    {
     "name": "stderr",
     "output_type": "stream",
     "text": [
      "/tmp/ipykernel_519871/2994601865.py:57: RuntimeWarning: Mean of empty slice\n",
      "  mean = np.nanmean(X[:, s, 0], axis=(1), keepdims=True)\n",
      "/home/r10222035/.conda/envs/tf2/lib/python3.8/site-packages/numpy/lib/nanfunctions.py:1872: RuntimeWarning: Degrees of freedom <= 0 for slice.\n",
      "  var = nanvar(a, axis=axis, dtype=dtype, out=out, ddof=ddof,\n"
     ]
    },
    {
     "name": "stdout",
     "output_type": "stream",
     "text": [
      "40/40 [==============================] - 6s 135ms/step\n",
      "Number of events in VBF_SR: 115461, VBF_BR: 17701, GGF_SR: 32970, GGF_BR: 32429\n",
      "Preparing dataset from ['./Sample/data/ZZ_4l/quark_jet_2_cut/pre-processing/']\n"
     ]
    },
    {
     "name": "stderr",
     "output_type": "stream",
     "text": [
      "/tmp/ipykernel_519871/2994601865.py:57: RuntimeWarning: Mean of empty slice\n",
      "  mean = np.nanmean(X[:, s, 0], axis=(1), keepdims=True)\n",
      "/home/r10222035/.conda/envs/tf2/lib/python3.8/site-packages/numpy/lib/nanfunctions.py:1872: RuntimeWarning: Degrees of freedom <= 0 for slice.\n",
      "  var = nanvar(a, axis=axis, dtype=dtype, out=out, ddof=ddof,\n"
     ]
    },
    {
     "name": "stdout",
     "output_type": "stream",
     "text": [
      "40/40 [==============================] - 6s 134ms/step\n",
      "Number of events in VBF_SR: 286751, VBF_BR: 45436, GGF_SR: 78945, GGF_BR: 83384\n",
      "Preparing dataset from ['./Sample/data/quark_jet_2_cut/pre-processing/']\n"
     ]
    },
    {
     "name": "stderr",
     "output_type": "stream",
     "text": [
      "/tmp/ipykernel_519871/2994601865.py:57: RuntimeWarning: Mean of empty slice\n",
      "  mean = np.nanmean(X[:, s, 0], axis=(1), keepdims=True)\n",
      "/home/r10222035/.conda/envs/tf2/lib/python3.8/site-packages/numpy/lib/nanfunctions.py:1872: RuntimeWarning: Degrees of freedom <= 0 for slice.\n",
      "  var = nanvar(a, axis=axis, dtype=dtype, out=out, ddof=ddof,\n"
     ]
    },
    {
     "name": "stdout",
     "output_type": "stream",
     "text": [
      "40/40 [==============================] - 6s 133ms/step\n",
      "Number of events in VBF_SR: 115461, VBF_BR: 17701, GGF_SR: 32970, GGF_BR: 32429\n",
      "Preparing dataset from ['./Sample/data/ZZ_4l/quark_jet_2_cut/pre-processing/']\n"
     ]
    },
    {
     "name": "stderr",
     "output_type": "stream",
     "text": [
      "/tmp/ipykernel_519871/2994601865.py:57: RuntimeWarning: Mean of empty slice\n",
      "  mean = np.nanmean(X[:, s, 0], axis=(1), keepdims=True)\n",
      "/home/r10222035/.conda/envs/tf2/lib/python3.8/site-packages/numpy/lib/nanfunctions.py:1872: RuntimeWarning: Degrees of freedom <= 0 for slice.\n",
      "  var = nanvar(a, axis=axis, dtype=dtype, out=out, ddof=ddof,\n"
     ]
    },
    {
     "name": "stdout",
     "output_type": "stream",
     "text": [
      "40/40 [==============================] - 6s 133ms/step\n",
      "Number of events in VBF_SR: 286751, VBF_BR: 45436, GGF_SR: 78945, GGF_BR: 83384\n",
      "Preparing dataset from ['./Sample/data/quark_jet_2_cut/pre-processing/']\n"
     ]
    },
    {
     "name": "stderr",
     "output_type": "stream",
     "text": [
      "/tmp/ipykernel_519871/2994601865.py:57: RuntimeWarning: Mean of empty slice\n",
      "  mean = np.nanmean(X[:, s, 0], axis=(1), keepdims=True)\n",
      "/home/r10222035/.conda/envs/tf2/lib/python3.8/site-packages/numpy/lib/nanfunctions.py:1872: RuntimeWarning: Degrees of freedom <= 0 for slice.\n",
      "  var = nanvar(a, axis=axis, dtype=dtype, out=out, ddof=ddof,\n"
     ]
    },
    {
     "name": "stdout",
     "output_type": "stream",
     "text": [
      "40/40 [==============================] - 6s 134ms/step\n",
      "Number of events in VBF_SR: 115461, VBF_BR: 17701, GGF_SR: 32970, GGF_BR: 32429\n",
      "Preparing dataset from ['./Sample/data/ZZ_4l/quark_jet_2_cut/pre-processing/']\n"
     ]
    },
    {
     "name": "stderr",
     "output_type": "stream",
     "text": [
      "/tmp/ipykernel_519871/2994601865.py:57: RuntimeWarning: Mean of empty slice\n",
      "  mean = np.nanmean(X[:, s, 0], axis=(1), keepdims=True)\n",
      "/home/r10222035/.conda/envs/tf2/lib/python3.8/site-packages/numpy/lib/nanfunctions.py:1872: RuntimeWarning: Degrees of freedom <= 0 for slice.\n",
      "  var = nanvar(a, axis=axis, dtype=dtype, out=out, ddof=ddof,\n"
     ]
    },
    {
     "name": "stdout",
     "output_type": "stream",
     "text": [
      "40/40 [==============================] - 6s 134ms/step\n",
      "Number of events in VBF_SR: 286751, VBF_BR: 45436, GGF_SR: 78945, GGF_BR: 83384\n",
      "Preparing dataset from ['./Sample/data/quark_jet_2_cut/pre-processing/']\n"
     ]
    },
    {
     "name": "stderr",
     "output_type": "stream",
     "text": [
      "/tmp/ipykernel_519871/2994601865.py:57: RuntimeWarning: Mean of empty slice\n",
      "  mean = np.nanmean(X[:, s, 0], axis=(1), keepdims=True)\n",
      "/home/r10222035/.conda/envs/tf2/lib/python3.8/site-packages/numpy/lib/nanfunctions.py:1872: RuntimeWarning: Degrees of freedom <= 0 for slice.\n",
      "  var = nanvar(a, axis=axis, dtype=dtype, out=out, ddof=ddof,\n"
     ]
    },
    {
     "name": "stdout",
     "output_type": "stream",
     "text": [
      "40/40 [==============================] - 6s 135ms/step\n",
      "Number of events in VBF_SR: 115461, VBF_BR: 17701, GGF_SR: 32970, GGF_BR: 32429\n",
      "Preparing dataset from ['./Sample/data/ZZ_4l/quark_jet_2_cut/pre-processing/']\n"
     ]
    },
    {
     "name": "stderr",
     "output_type": "stream",
     "text": [
      "/tmp/ipykernel_519871/2994601865.py:57: RuntimeWarning: Mean of empty slice\n",
      "  mean = np.nanmean(X[:, s, 0], axis=(1), keepdims=True)\n",
      "/home/r10222035/.conda/envs/tf2/lib/python3.8/site-packages/numpy/lib/nanfunctions.py:1872: RuntimeWarning: Degrees of freedom <= 0 for slice.\n",
      "  var = nanvar(a, axis=axis, dtype=dtype, out=out, ddof=ddof,\n"
     ]
    },
    {
     "name": "stdout",
     "output_type": "stream",
     "text": [
      "40/40 [==============================] - 6s 135ms/step\n",
      "Number of events in VBF_SR: 286751, VBF_BR: 45436, GGF_SR: 78945, GGF_BR: 83384\n",
      "Preparing dataset from ['./Sample/data/quark_jet_2_cut/pre-processing/']\n"
     ]
    },
    {
     "name": "stderr",
     "output_type": "stream",
     "text": [
      "/tmp/ipykernel_519871/2994601865.py:57: RuntimeWarning: Mean of empty slice\n",
      "  mean = np.nanmean(X[:, s, 0], axis=(1), keepdims=True)\n",
      "/home/r10222035/.conda/envs/tf2/lib/python3.8/site-packages/numpy/lib/nanfunctions.py:1872: RuntimeWarning: Degrees of freedom <= 0 for slice.\n",
      "  var = nanvar(a, axis=axis, dtype=dtype, out=out, ddof=ddof,\n"
     ]
    },
    {
     "name": "stdout",
     "output_type": "stream",
     "text": [
      "40/40 [==============================] - 6s 135ms/step\n",
      "Number of events in VBF_SR: 115461, VBF_BR: 17701, GGF_SR: 32970, GGF_BR: 32429\n",
      "Preparing dataset from ['./Sample/data/ZZ_4l/quark_jet_2_cut/pre-processing/']\n"
     ]
    },
    {
     "name": "stderr",
     "output_type": "stream",
     "text": [
      "/tmp/ipykernel_519871/2994601865.py:57: RuntimeWarning: Mean of empty slice\n",
      "  mean = np.nanmean(X[:, s, 0], axis=(1), keepdims=True)\n",
      "/home/r10222035/.conda/envs/tf2/lib/python3.8/site-packages/numpy/lib/nanfunctions.py:1872: RuntimeWarning: Degrees of freedom <= 0 for slice.\n",
      "  var = nanvar(a, axis=axis, dtype=dtype, out=out, ddof=ddof,\n"
     ]
    },
    {
     "name": "stdout",
     "output_type": "stream",
     "text": [
      "40/40 [==============================] - 6s 135ms/step\n",
      "Number of events in VBF_SR: 286751, VBF_BR: 45436, GGF_SR: 78945, GGF_BR: 83384\n",
      "Preparing dataset from ['./Sample/data/quark_jet_2_cut/pre-processing/']\n"
     ]
    },
    {
     "name": "stderr",
     "output_type": "stream",
     "text": [
      "/tmp/ipykernel_519871/2994601865.py:57: RuntimeWarning: Mean of empty slice\n",
      "  mean = np.nanmean(X[:, s, 0], axis=(1), keepdims=True)\n",
      "/home/r10222035/.conda/envs/tf2/lib/python3.8/site-packages/numpy/lib/nanfunctions.py:1872: RuntimeWarning: Degrees of freedom <= 0 for slice.\n",
      "  var = nanvar(a, axis=axis, dtype=dtype, out=out, ddof=ddof,\n"
     ]
    },
    {
     "name": "stdout",
     "output_type": "stream",
     "text": [
      "40/40 [==============================] - 6s 135ms/step\n",
      "Number of events in VBF_SR: 115461, VBF_BR: 17701, GGF_SR: 32970, GGF_BR: 32429\n",
      "Preparing dataset from ['./Sample/data/ZZ_4l/quark_jet_2_cut/pre-processing/']\n"
     ]
    },
    {
     "name": "stderr",
     "output_type": "stream",
     "text": [
      "/tmp/ipykernel_519871/2994601865.py:57: RuntimeWarning: Mean of empty slice\n",
      "  mean = np.nanmean(X[:, s, 0], axis=(1), keepdims=True)\n",
      "/home/r10222035/.conda/envs/tf2/lib/python3.8/site-packages/numpy/lib/nanfunctions.py:1872: RuntimeWarning: Degrees of freedom <= 0 for slice.\n",
      "  var = nanvar(a, axis=axis, dtype=dtype, out=out, ddof=ddof,\n"
     ]
    },
    {
     "name": "stdout",
     "output_type": "stream",
     "text": [
      "40/40 [==============================] - 6s 135ms/step\n",
      "Number of events in VBF_SR: 286751, VBF_BR: 45436, GGF_SR: 78945, GGF_BR: 83384\n",
      "Preparing dataset from ['./Sample/data/quark_jet_2_cut/pre-processing/']\n"
     ]
    },
    {
     "name": "stderr",
     "output_type": "stream",
     "text": [
      "/tmp/ipykernel_519871/2994601865.py:57: RuntimeWarning: Mean of empty slice\n",
      "  mean = np.nanmean(X[:, s, 0], axis=(1), keepdims=True)\n",
      "/home/r10222035/.conda/envs/tf2/lib/python3.8/site-packages/numpy/lib/nanfunctions.py:1872: RuntimeWarning: Degrees of freedom <= 0 for slice.\n",
      "  var = nanvar(a, axis=axis, dtype=dtype, out=out, ddof=ddof,\n"
     ]
    },
    {
     "name": "stdout",
     "output_type": "stream",
     "text": [
      "40/40 [==============================] - 6s 135ms/step\n",
      "Number of events in VBF_SR: 115461, VBF_BR: 17701, GGF_SR: 32970, GGF_BR: 32429\n",
      "Preparing dataset from ['./Sample/data/ZZ_4l/quark_jet_2_cut/pre-processing/']\n"
     ]
    },
    {
     "name": "stderr",
     "output_type": "stream",
     "text": [
      "/tmp/ipykernel_519871/2994601865.py:57: RuntimeWarning: Mean of empty slice\n",
      "  mean = np.nanmean(X[:, s, 0], axis=(1), keepdims=True)\n",
      "/home/r10222035/.conda/envs/tf2/lib/python3.8/site-packages/numpy/lib/nanfunctions.py:1872: RuntimeWarning: Degrees of freedom <= 0 for slice.\n",
      "  var = nanvar(a, axis=axis, dtype=dtype, out=out, ddof=ddof,\n"
     ]
    },
    {
     "name": "stdout",
     "output_type": "stream",
     "text": [
      "40/40 [==============================] - 6s 135ms/step\n",
      "Number of events in VBF_SR: 286751, VBF_BR: 45436, GGF_SR: 78945, GGF_BR: 83384\n",
      "Preparing dataset from ['./Sample/data/quark_jet_2_cut/pre-processing/']\n"
     ]
    },
    {
     "name": "stderr",
     "output_type": "stream",
     "text": [
      "/tmp/ipykernel_519871/2994601865.py:57: RuntimeWarning: Mean of empty slice\n",
      "  mean = np.nanmean(X[:, s, 0], axis=(1), keepdims=True)\n",
      "/home/r10222035/.conda/envs/tf2/lib/python3.8/site-packages/numpy/lib/nanfunctions.py:1872: RuntimeWarning: Degrees of freedom <= 0 for slice.\n",
      "  var = nanvar(a, axis=axis, dtype=dtype, out=out, ddof=ddof,\n"
     ]
    },
    {
     "name": "stdout",
     "output_type": "stream",
     "text": [
      "40/40 [==============================] - 6s 135ms/step\n",
      "Number of events in VBF_SR: 115461, VBF_BR: 17701, GGF_SR: 32970, GGF_BR: 32429\n",
      "Preparing dataset from ['./Sample/data/ZZ_4l/quark_jet_2_cut/pre-processing/']\n"
     ]
    },
    {
     "name": "stderr",
     "output_type": "stream",
     "text": [
      "/tmp/ipykernel_519871/2994601865.py:57: RuntimeWarning: Mean of empty slice\n",
      "  mean = np.nanmean(X[:, s, 0], axis=(1), keepdims=True)\n",
      "/home/r10222035/.conda/envs/tf2/lib/python3.8/site-packages/numpy/lib/nanfunctions.py:1872: RuntimeWarning: Degrees of freedom <= 0 for slice.\n",
      "  var = nanvar(a, axis=axis, dtype=dtype, out=out, ddof=ddof,\n"
     ]
    },
    {
     "name": "stdout",
     "output_type": "stream",
     "text": [
      "40/40 [==============================] - 6s 136ms/step\n",
      "Number of events in VBF_SR: 286751, VBF_BR: 45436, GGF_SR: 78945, GGF_BR: 83384\n",
      "Preparing dataset from ['./Sample/data/quark_jet_2_cut/pre-processing/']\n"
     ]
    },
    {
     "name": "stderr",
     "output_type": "stream",
     "text": [
      "/tmp/ipykernel_519871/2994601865.py:57: RuntimeWarning: Mean of empty slice\n",
      "  mean = np.nanmean(X[:, s, 0], axis=(1), keepdims=True)\n",
      "/home/r10222035/.conda/envs/tf2/lib/python3.8/site-packages/numpy/lib/nanfunctions.py:1872: RuntimeWarning: Degrees of freedom <= 0 for slice.\n",
      "  var = nanvar(a, axis=axis, dtype=dtype, out=out, ddof=ddof,\n"
     ]
    },
    {
     "name": "stdout",
     "output_type": "stream",
     "text": [
      "40/40 [==============================] - 6s 135ms/step\n",
      "Number of events in VBF_SR: 115461, VBF_BR: 17701, GGF_SR: 32970, GGF_BR: 32429\n",
      "Preparing dataset from ['./Sample/data/ZZ_4l/quark_jet_2_cut/pre-processing/']\n"
     ]
    },
    {
     "name": "stderr",
     "output_type": "stream",
     "text": [
      "/tmp/ipykernel_519871/2994601865.py:57: RuntimeWarning: Mean of empty slice\n",
      "  mean = np.nanmean(X[:, s, 0], axis=(1), keepdims=True)\n",
      "/home/r10222035/.conda/envs/tf2/lib/python3.8/site-packages/numpy/lib/nanfunctions.py:1872: RuntimeWarning: Degrees of freedom <= 0 for slice.\n",
      "  var = nanvar(a, axis=axis, dtype=dtype, out=out, ddof=ddof,\n"
     ]
    },
    {
     "name": "stdout",
     "output_type": "stream",
     "text": [
      "40/40 [==============================] - 6s 135ms/step\n",
      "Number of events in VBF_SR: 286751, VBF_BR: 45436, GGF_SR: 78945, GGF_BR: 83384\n",
      "Preparing dataset from ['./Sample/data/quark_jet_2_cut/pre-processing/']\n"
     ]
    },
    {
     "name": "stderr",
     "output_type": "stream",
     "text": [
      "/tmp/ipykernel_519871/2994601865.py:57: RuntimeWarning: Mean of empty slice\n",
      "  mean = np.nanmean(X[:, s, 0], axis=(1), keepdims=True)\n",
      "/home/r10222035/.conda/envs/tf2/lib/python3.8/site-packages/numpy/lib/nanfunctions.py:1872: RuntimeWarning: Degrees of freedom <= 0 for slice.\n",
      "  var = nanvar(a, axis=axis, dtype=dtype, out=out, ddof=ddof,\n"
     ]
    },
    {
     "name": "stdout",
     "output_type": "stream",
     "text": [
      "40/40 [==============================] - 6s 134ms/step\n",
      "Number of events in VBF_SR: 115461, VBF_BR: 17701, GGF_SR: 32970, GGF_BR: 32429\n",
      "Preparing dataset from ['./Sample/data/ZZ_4l/quark_jet_2_cut/pre-processing/']\n"
     ]
    },
    {
     "name": "stderr",
     "output_type": "stream",
     "text": [
      "/tmp/ipykernel_519871/2994601865.py:57: RuntimeWarning: Mean of empty slice\n",
      "  mean = np.nanmean(X[:, s, 0], axis=(1), keepdims=True)\n",
      "/home/r10222035/.conda/envs/tf2/lib/python3.8/site-packages/numpy/lib/nanfunctions.py:1872: RuntimeWarning: Degrees of freedom <= 0 for slice.\n",
      "  var = nanvar(a, axis=axis, dtype=dtype, out=out, ddof=ddof,\n"
     ]
    },
    {
     "name": "stdout",
     "output_type": "stream",
     "text": [
      "40/40 [==============================] - 6s 137ms/step\n",
      "Number of events in VBF_SR: 286751, VBF_BR: 45436, GGF_SR: 78945, GGF_BR: 83384\n",
      "Preparing dataset from ['./Sample/data/quark_jet_2_cut/pre-processing/']\n"
     ]
    },
    {
     "name": "stderr",
     "output_type": "stream",
     "text": [
      "/tmp/ipykernel_519871/2994601865.py:57: RuntimeWarning: Mean of empty slice\n",
      "  mean = np.nanmean(X[:, s, 0], axis=(1), keepdims=True)\n",
      "/home/r10222035/.conda/envs/tf2/lib/python3.8/site-packages/numpy/lib/nanfunctions.py:1872: RuntimeWarning: Degrees of freedom <= 0 for slice.\n",
      "  var = nanvar(a, axis=axis, dtype=dtype, out=out, ddof=ddof,\n"
     ]
    },
    {
     "name": "stdout",
     "output_type": "stream",
     "text": [
      "40/40 [==============================] - 6s 135ms/step\n",
      "Number of events in VBF_SR: 115461, VBF_BR: 17701, GGF_SR: 32970, GGF_BR: 32429\n",
      "Preparing dataset from ['./Sample/data/ZZ_4l/quark_jet_2_cut/pre-processing/']\n"
     ]
    },
    {
     "name": "stderr",
     "output_type": "stream",
     "text": [
      "/tmp/ipykernel_519871/2994601865.py:57: RuntimeWarning: Mean of empty slice\n",
      "  mean = np.nanmean(X[:, s, 0], axis=(1), keepdims=True)\n",
      "/home/r10222035/.conda/envs/tf2/lib/python3.8/site-packages/numpy/lib/nanfunctions.py:1872: RuntimeWarning: Degrees of freedom <= 0 for slice.\n",
      "  var = nanvar(a, axis=axis, dtype=dtype, out=out, ddof=ddof,\n"
     ]
    },
    {
     "name": "stdout",
     "output_type": "stream",
     "text": [
      "40/40 [==============================] - 6s 135ms/step\n",
      "Number of events in VBF_SR: 286751, VBF_BR: 45436, GGF_SR: 78945, GGF_BR: 83384\n",
      "Preparing dataset from ['./Sample/data/quark_jet_2_cut/pre-processing/']\n"
     ]
    },
    {
     "name": "stderr",
     "output_type": "stream",
     "text": [
      "/tmp/ipykernel_519871/2994601865.py:57: RuntimeWarning: Mean of empty slice\n",
      "  mean = np.nanmean(X[:, s, 0], axis=(1), keepdims=True)\n",
      "/home/r10222035/.conda/envs/tf2/lib/python3.8/site-packages/numpy/lib/nanfunctions.py:1872: RuntimeWarning: Degrees of freedom <= 0 for slice.\n",
      "  var = nanvar(a, axis=axis, dtype=dtype, out=out, ddof=ddof,\n"
     ]
    },
    {
     "name": "stdout",
     "output_type": "stream",
     "text": [
      "40/40 [==============================] - 6s 135ms/step\n",
      "Number of events in VBF_SR: 115461, VBF_BR: 17701, GGF_SR: 32970, GGF_BR: 32429\n",
      "Preparing dataset from ['./Sample/data/ZZ_4l/quark_jet_2_cut/pre-processing/']\n"
     ]
    },
    {
     "name": "stderr",
     "output_type": "stream",
     "text": [
      "/tmp/ipykernel_519871/2994601865.py:57: RuntimeWarning: Mean of empty slice\n",
      "  mean = np.nanmean(X[:, s, 0], axis=(1), keepdims=True)\n",
      "/home/r10222035/.conda/envs/tf2/lib/python3.8/site-packages/numpy/lib/nanfunctions.py:1872: RuntimeWarning: Degrees of freedom <= 0 for slice.\n",
      "  var = nanvar(a, axis=axis, dtype=dtype, out=out, ddof=ddof,\n"
     ]
    },
    {
     "name": "stdout",
     "output_type": "stream",
     "text": [
      "40/40 [==============================] - 6s 136ms/step\n",
      "Number of events in VBF_SR: 286751, VBF_BR: 45436, GGF_SR: 78945, GGF_BR: 83384\n",
      "Preparing dataset from ['./Sample/data/quark_jet_2_cut/pre-processing/']\n"
     ]
    },
    {
     "name": "stderr",
     "output_type": "stream",
     "text": [
      "/tmp/ipykernel_519871/2994601865.py:57: RuntimeWarning: Mean of empty slice\n",
      "  mean = np.nanmean(X[:, s, 0], axis=(1), keepdims=True)\n",
      "/home/r10222035/.conda/envs/tf2/lib/python3.8/site-packages/numpy/lib/nanfunctions.py:1872: RuntimeWarning: Degrees of freedom <= 0 for slice.\n",
      "  var = nanvar(a, axis=axis, dtype=dtype, out=out, ddof=ddof,\n"
     ]
    },
    {
     "name": "stdout",
     "output_type": "stream",
     "text": [
      "40/40 [==============================] - 6s 134ms/step\n",
      "Number of events in VBF_SR: 115461, VBF_BR: 17701, GGF_SR: 32970, GGF_BR: 32429\n",
      "Preparing dataset from ['./Sample/data/ZZ_4l/quark_jet_2_cut/pre-processing/']\n"
     ]
    },
    {
     "name": "stderr",
     "output_type": "stream",
     "text": [
      "/tmp/ipykernel_519871/2994601865.py:57: RuntimeWarning: Mean of empty slice\n",
      "  mean = np.nanmean(X[:, s, 0], axis=(1), keepdims=True)\n",
      "/home/r10222035/.conda/envs/tf2/lib/python3.8/site-packages/numpy/lib/nanfunctions.py:1872: RuntimeWarning: Degrees of freedom <= 0 for slice.\n",
      "  var = nanvar(a, axis=axis, dtype=dtype, out=out, ddof=ddof,\n"
     ]
    },
    {
     "name": "stdout",
     "output_type": "stream",
     "text": [
      "40/40 [==============================] - 6s 135ms/step\n",
      "Number of events in VBF_SR: 286751, VBF_BR: 45436, GGF_SR: 78945, GGF_BR: 83384\n",
      "Preparing dataset from ['./Sample/data/quark_jet_2_cut/pre-processing/']\n"
     ]
    },
    {
     "name": "stderr",
     "output_type": "stream",
     "text": [
      "/tmp/ipykernel_519871/2994601865.py:57: RuntimeWarning: Mean of empty slice\n",
      "  mean = np.nanmean(X[:, s, 0], axis=(1), keepdims=True)\n",
      "/home/r10222035/.conda/envs/tf2/lib/python3.8/site-packages/numpy/lib/nanfunctions.py:1872: RuntimeWarning: Degrees of freedom <= 0 for slice.\n",
      "  var = nanvar(a, axis=axis, dtype=dtype, out=out, ddof=ddof,\n"
     ]
    },
    {
     "name": "stdout",
     "output_type": "stream",
     "text": [
      "40/40 [==============================] - 6s 135ms/step\n",
      "Number of events in VBF_SR: 115461, VBF_BR: 17701, GGF_SR: 32970, GGF_BR: 32429\n",
      "Preparing dataset from ['./Sample/data/ZZ_4l/quark_jet_2_cut/pre-processing/']\n"
     ]
    },
    {
     "name": "stderr",
     "output_type": "stream",
     "text": [
      "/tmp/ipykernel_519871/2994601865.py:57: RuntimeWarning: Mean of empty slice\n",
      "  mean = np.nanmean(X[:, s, 0], axis=(1), keepdims=True)\n",
      "/home/r10222035/.conda/envs/tf2/lib/python3.8/site-packages/numpy/lib/nanfunctions.py:1872: RuntimeWarning: Degrees of freedom <= 0 for slice.\n",
      "  var = nanvar(a, axis=axis, dtype=dtype, out=out, ddof=ddof,\n"
     ]
    },
    {
     "name": "stdout",
     "output_type": "stream",
     "text": [
      "40/40 [==============================] - 6s 134ms/step\n",
      "Number of events in VBF_SR: 286751, VBF_BR: 45436, GGF_SR: 78945, GGF_BR: 83384\n",
      "Preparing dataset from ['./Sample/data/quark_jet_2_cut/pre-processing/']\n"
     ]
    },
    {
     "name": "stderr",
     "output_type": "stream",
     "text": [
      "/tmp/ipykernel_519871/2994601865.py:57: RuntimeWarning: Mean of empty slice\n",
      "  mean = np.nanmean(X[:, s, 0], axis=(1), keepdims=True)\n",
      "/home/r10222035/.conda/envs/tf2/lib/python3.8/site-packages/numpy/lib/nanfunctions.py:1872: RuntimeWarning: Degrees of freedom <= 0 for slice.\n",
      "  var = nanvar(a, axis=axis, dtype=dtype, out=out, ddof=ddof,\n"
     ]
    },
    {
     "name": "stdout",
     "output_type": "stream",
     "text": [
      "40/40 [==============================] - 6s 134ms/step\n",
      "Number of events in VBF_SR: 115461, VBF_BR: 17701, GGF_SR: 32970, GGF_BR: 32429\n",
      "Preparing dataset from ['./Sample/data/ZZ_4l/quark_jet_2_cut/pre-processing/']\n"
     ]
    },
    {
     "name": "stderr",
     "output_type": "stream",
     "text": [
      "/tmp/ipykernel_519871/2994601865.py:57: RuntimeWarning: Mean of empty slice\n",
      "  mean = np.nanmean(X[:, s, 0], axis=(1), keepdims=True)\n",
      "/home/r10222035/.conda/envs/tf2/lib/python3.8/site-packages/numpy/lib/nanfunctions.py:1872: RuntimeWarning: Degrees of freedom <= 0 for slice.\n",
      "  var = nanvar(a, axis=axis, dtype=dtype, out=out, ddof=ddof,\n"
     ]
    },
    {
     "name": "stdout",
     "output_type": "stream",
     "text": [
      "40/40 [==============================] - 6s 135ms/step\n",
      "Number of events in VBF_SR: 286751, VBF_BR: 45436, GGF_SR: 78945, GGF_BR: 83384\n",
      "Preparing dataset from ['./Sample/data/quark_jet_2_cut/pre-processing/']\n"
     ]
    },
    {
     "name": "stderr",
     "output_type": "stream",
     "text": [
      "/tmp/ipykernel_519871/2994601865.py:57: RuntimeWarning: Mean of empty slice\n",
      "  mean = np.nanmean(X[:, s, 0], axis=(1), keepdims=True)\n",
      "/home/r10222035/.conda/envs/tf2/lib/python3.8/site-packages/numpy/lib/nanfunctions.py:1872: RuntimeWarning: Degrees of freedom <= 0 for slice.\n",
      "  var = nanvar(a, axis=axis, dtype=dtype, out=out, ddof=ddof,\n"
     ]
    },
    {
     "name": "stdout",
     "output_type": "stream",
     "text": [
      "40/40 [==============================] - 6s 134ms/step\n",
      "Number of events in VBF_SR: 115461, VBF_BR: 17701, GGF_SR: 32970, GGF_BR: 32429\n",
      "Preparing dataset from ['./Sample/data/ZZ_4l/quark_jet_2_cut/pre-processing/']\n"
     ]
    },
    {
     "name": "stderr",
     "output_type": "stream",
     "text": [
      "/tmp/ipykernel_519871/2994601865.py:57: RuntimeWarning: Mean of empty slice\n",
      "  mean = np.nanmean(X[:, s, 0], axis=(1), keepdims=True)\n",
      "/home/r10222035/.conda/envs/tf2/lib/python3.8/site-packages/numpy/lib/nanfunctions.py:1872: RuntimeWarning: Degrees of freedom <= 0 for slice.\n",
      "  var = nanvar(a, axis=axis, dtype=dtype, out=out, ddof=ddof,\n"
     ]
    },
    {
     "name": "stdout",
     "output_type": "stream",
     "text": [
      "40/40 [==============================] - 6s 135ms/step\n",
      "Number of events in VBF_SR: 286751, VBF_BR: 45436, GGF_SR: 78945, GGF_BR: 83384\n",
      "Preparing dataset from ['./Sample/data/quark_jet_2_cut/pre-processing/']\n"
     ]
    },
    {
     "name": "stderr",
     "output_type": "stream",
     "text": [
      "/tmp/ipykernel_519871/2994601865.py:57: RuntimeWarning: Mean of empty slice\n",
      "  mean = np.nanmean(X[:, s, 0], axis=(1), keepdims=True)\n",
      "/home/r10222035/.conda/envs/tf2/lib/python3.8/site-packages/numpy/lib/nanfunctions.py:1872: RuntimeWarning: Degrees of freedom <= 0 for slice.\n",
      "  var = nanvar(a, axis=axis, dtype=dtype, out=out, ddof=ddof,\n"
     ]
    },
    {
     "name": "stdout",
     "output_type": "stream",
     "text": [
      "40/40 [==============================] - 6s 135ms/step\n",
      "Number of events in VBF_SR: 115461, VBF_BR: 17701, GGF_SR: 32970, GGF_BR: 32429\n",
      "Preparing dataset from ['./Sample/data/ZZ_4l/quark_jet_2_cut/pre-processing/']\n"
     ]
    },
    {
     "name": "stderr",
     "output_type": "stream",
     "text": [
      "/tmp/ipykernel_519871/2994601865.py:57: RuntimeWarning: Mean of empty slice\n",
      "  mean = np.nanmean(X[:, s, 0], axis=(1), keepdims=True)\n",
      "/home/r10222035/.conda/envs/tf2/lib/python3.8/site-packages/numpy/lib/nanfunctions.py:1872: RuntimeWarning: Degrees of freedom <= 0 for slice.\n",
      "  var = nanvar(a, axis=axis, dtype=dtype, out=out, ddof=ddof,\n"
     ]
    },
    {
     "name": "stdout",
     "output_type": "stream",
     "text": [
      "40/40 [==============================] - 6s 136ms/step\n",
      "Number of events in VBF_SR: 286751, VBF_BR: 45436, GGF_SR: 78945, GGF_BR: 83384\n",
      "Preparing dataset from ['./Sample/data/quark_jet_2_cut/pre-processing/']\n"
     ]
    },
    {
     "name": "stderr",
     "output_type": "stream",
     "text": [
      "/tmp/ipykernel_519871/2994601865.py:57: RuntimeWarning: Mean of empty slice\n",
      "  mean = np.nanmean(X[:, s, 0], axis=(1), keepdims=True)\n",
      "/home/r10222035/.conda/envs/tf2/lib/python3.8/site-packages/numpy/lib/nanfunctions.py:1872: RuntimeWarning: Degrees of freedom <= 0 for slice.\n",
      "  var = nanvar(a, axis=axis, dtype=dtype, out=out, ddof=ddof,\n"
     ]
    },
    {
     "name": "stdout",
     "output_type": "stream",
     "text": [
      "40/40 [==============================] - 6s 135ms/step\n",
      "Number of events in VBF_SR: 115461, VBF_BR: 17701, GGF_SR: 32970, GGF_BR: 32429\n",
      "Preparing dataset from ['./Sample/data/ZZ_4l/quark_jet_2_cut/pre-processing/']\n"
     ]
    },
    {
     "name": "stderr",
     "output_type": "stream",
     "text": [
      "/tmp/ipykernel_519871/2994601865.py:57: RuntimeWarning: Mean of empty slice\n",
      "  mean = np.nanmean(X[:, s, 0], axis=(1), keepdims=True)\n",
      "/home/r10222035/.conda/envs/tf2/lib/python3.8/site-packages/numpy/lib/nanfunctions.py:1872: RuntimeWarning: Degrees of freedom <= 0 for slice.\n",
      "  var = nanvar(a, axis=axis, dtype=dtype, out=out, ddof=ddof,\n"
     ]
    },
    {
     "name": "stdout",
     "output_type": "stream",
     "text": [
      "40/40 [==============================] - 6s 134ms/step\n",
      "Number of events in VBF_SR: 286751, VBF_BR: 45436, GGF_SR: 78945, GGF_BR: 83384\n",
      "Preparing dataset from ['./Sample/data/quark_jet_2_cut/pre-processing/']\n"
     ]
    },
    {
     "name": "stderr",
     "output_type": "stream",
     "text": [
      "/tmp/ipykernel_519871/2994601865.py:57: RuntimeWarning: Mean of empty slice\n",
      "  mean = np.nanmean(X[:, s, 0], axis=(1), keepdims=True)\n",
      "/home/r10222035/.conda/envs/tf2/lib/python3.8/site-packages/numpy/lib/nanfunctions.py:1872: RuntimeWarning: Degrees of freedom <= 0 for slice.\n",
      "  var = nanvar(a, axis=axis, dtype=dtype, out=out, ddof=ddof,\n"
     ]
    },
    {
     "name": "stdout",
     "output_type": "stream",
     "text": [
      "40/40 [==============================] - 6s 134ms/step\n",
      "Number of events in VBF_SR: 115461, VBF_BR: 17701, GGF_SR: 32970, GGF_BR: 32429\n",
      "Preparing dataset from ['./Sample/data/ZZ_4l/quark_jet_2_cut/pre-processing/']\n"
     ]
    },
    {
     "name": "stderr",
     "output_type": "stream",
     "text": [
      "/tmp/ipykernel_519871/2994601865.py:57: RuntimeWarning: Mean of empty slice\n",
      "  mean = np.nanmean(X[:, s, 0], axis=(1), keepdims=True)\n",
      "/home/r10222035/.conda/envs/tf2/lib/python3.8/site-packages/numpy/lib/nanfunctions.py:1872: RuntimeWarning: Degrees of freedom <= 0 for slice.\n",
      "  var = nanvar(a, axis=axis, dtype=dtype, out=out, ddof=ddof,\n"
     ]
    },
    {
     "name": "stdout",
     "output_type": "stream",
     "text": [
      "40/40 [==============================] - 6s 134ms/step\n",
      "Number of events in VBF_SR: 286751, VBF_BR: 45436, GGF_SR: 78945, GGF_BR: 83384\n",
      "Preparing dataset from ['./Sample/data/quark_jet_2_cut/pre-processing/']\n"
     ]
    },
    {
     "name": "stderr",
     "output_type": "stream",
     "text": [
      "/tmp/ipykernel_519871/2994601865.py:57: RuntimeWarning: Mean of empty slice\n",
      "  mean = np.nanmean(X[:, s, 0], axis=(1), keepdims=True)\n",
      "/home/r10222035/.conda/envs/tf2/lib/python3.8/site-packages/numpy/lib/nanfunctions.py:1872: RuntimeWarning: Degrees of freedom <= 0 for slice.\n",
      "  var = nanvar(a, axis=axis, dtype=dtype, out=out, ddof=ddof,\n"
     ]
    },
    {
     "name": "stdout",
     "output_type": "stream",
     "text": [
      "40/40 [==============================] - 6s 135ms/step\n",
      "Number of events in VBF_SR: 115461, VBF_BR: 17701, GGF_SR: 32970, GGF_BR: 32429\n",
      "Preparing dataset from ['./Sample/data/ZZ_4l/quark_jet_2_cut/pre-processing/']\n"
     ]
    },
    {
     "name": "stderr",
     "output_type": "stream",
     "text": [
      "/tmp/ipykernel_519871/2994601865.py:57: RuntimeWarning: Mean of empty slice\n",
      "  mean = np.nanmean(X[:, s, 0], axis=(1), keepdims=True)\n",
      "/home/r10222035/.conda/envs/tf2/lib/python3.8/site-packages/numpy/lib/nanfunctions.py:1872: RuntimeWarning: Degrees of freedom <= 0 for slice.\n",
      "  var = nanvar(a, axis=axis, dtype=dtype, out=out, ddof=ddof,\n"
     ]
    },
    {
     "name": "stdout",
     "output_type": "stream",
     "text": [
      "40/40 [==============================] - 6s 136ms/step\n",
      "Number of events in VBF_SR: 286751, VBF_BR: 45436, GGF_SR: 78945, GGF_BR: 83384\n",
      "Preparing dataset from ['./Sample/data/quark_jet_2_cut/pre-processing/']\n"
     ]
    },
    {
     "name": "stderr",
     "output_type": "stream",
     "text": [
      "/tmp/ipykernel_519871/2994601865.py:57: RuntimeWarning: Mean of empty slice\n",
      "  mean = np.nanmean(X[:, s, 0], axis=(1), keepdims=True)\n",
      "/home/r10222035/.conda/envs/tf2/lib/python3.8/site-packages/numpy/lib/nanfunctions.py:1872: RuntimeWarning: Degrees of freedom <= 0 for slice.\n",
      "  var = nanvar(a, axis=axis, dtype=dtype, out=out, ddof=ddof,\n"
     ]
    },
    {
     "name": "stdout",
     "output_type": "stream",
     "text": [
      "40/40 [==============================] - 6s 135ms/step\n",
      "Number of events in VBF_SR: 115461, VBF_BR: 17701, GGF_SR: 32970, GGF_BR: 32429\n",
      "Preparing dataset from ['./Sample/data/ZZ_4l/quark_jet_2_cut/pre-processing/']\n"
     ]
    },
    {
     "name": "stderr",
     "output_type": "stream",
     "text": [
      "/tmp/ipykernel_519871/2994601865.py:57: RuntimeWarning: Mean of empty slice\n",
      "  mean = np.nanmean(X[:, s, 0], axis=(1), keepdims=True)\n",
      "/home/r10222035/.conda/envs/tf2/lib/python3.8/site-packages/numpy/lib/nanfunctions.py:1872: RuntimeWarning: Degrees of freedom <= 0 for slice.\n",
      "  var = nanvar(a, axis=axis, dtype=dtype, out=out, ddof=ddof,\n"
     ]
    },
    {
     "name": "stdout",
     "output_type": "stream",
     "text": [
      "40/40 [==============================] - 6s 135ms/step\n",
      "Number of events in VBF_SR: 286751, VBF_BR: 45436, GGF_SR: 78945, GGF_BR: 83384\n",
      "Preparing dataset from ['./Sample/data/quark_jet_2_cut/pre-processing/']\n"
     ]
    },
    {
     "name": "stderr",
     "output_type": "stream",
     "text": [
      "/tmp/ipykernel_519871/2994601865.py:57: RuntimeWarning: Mean of empty slice\n",
      "  mean = np.nanmean(X[:, s, 0], axis=(1), keepdims=True)\n",
      "/home/r10222035/.conda/envs/tf2/lib/python3.8/site-packages/numpy/lib/nanfunctions.py:1872: RuntimeWarning: Degrees of freedom <= 0 for slice.\n",
      "  var = nanvar(a, axis=axis, dtype=dtype, out=out, ddof=ddof,\n"
     ]
    },
    {
     "name": "stdout",
     "output_type": "stream",
     "text": [
      "40/40 [==============================] - 6s 134ms/step\n",
      "Number of events in VBF_SR: 115461, VBF_BR: 17701, GGF_SR: 32970, GGF_BR: 32429\n",
      "Preparing dataset from ['./Sample/data/ZZ_4l/quark_jet_2_cut/pre-processing/']\n"
     ]
    },
    {
     "name": "stderr",
     "output_type": "stream",
     "text": [
      "/tmp/ipykernel_519871/2994601865.py:57: RuntimeWarning: Mean of empty slice\n",
      "  mean = np.nanmean(X[:, s, 0], axis=(1), keepdims=True)\n",
      "/home/r10222035/.conda/envs/tf2/lib/python3.8/site-packages/numpy/lib/nanfunctions.py:1872: RuntimeWarning: Degrees of freedom <= 0 for slice.\n",
      "  var = nanvar(a, axis=axis, dtype=dtype, out=out, ddof=ddof,\n"
     ]
    },
    {
     "name": "stdout",
     "output_type": "stream",
     "text": [
      "40/40 [==============================] - 6s 136ms/step\n",
      "Number of events in VBF_SR: 286751, VBF_BR: 45436, GGF_SR: 78945, GGF_BR: 83384\n",
      "Preparing dataset from ['./Sample/data/quark_jet_2_cut/pre-processing/']\n"
     ]
    },
    {
     "name": "stderr",
     "output_type": "stream",
     "text": [
      "/tmp/ipykernel_519871/2994601865.py:57: RuntimeWarning: Mean of empty slice\n",
      "  mean = np.nanmean(X[:, s, 0], axis=(1), keepdims=True)\n",
      "/home/r10222035/.conda/envs/tf2/lib/python3.8/site-packages/numpy/lib/nanfunctions.py:1872: RuntimeWarning: Degrees of freedom <= 0 for slice.\n",
      "  var = nanvar(a, axis=axis, dtype=dtype, out=out, ddof=ddof,\n"
     ]
    },
    {
     "name": "stdout",
     "output_type": "stream",
     "text": [
      "40/40 [==============================] - 6s 135ms/step\n",
      "Number of events in VBF_SR: 115461, VBF_BR: 17701, GGF_SR: 32970, GGF_BR: 32429\n",
      "Preparing dataset from ['./Sample/data/ZZ_4l/quark_jet_2_cut/pre-processing/']\n"
     ]
    },
    {
     "name": "stderr",
     "output_type": "stream",
     "text": [
      "/tmp/ipykernel_519871/2994601865.py:57: RuntimeWarning: Mean of empty slice\n",
      "  mean = np.nanmean(X[:, s, 0], axis=(1), keepdims=True)\n",
      "/home/r10222035/.conda/envs/tf2/lib/python3.8/site-packages/numpy/lib/nanfunctions.py:1872: RuntimeWarning: Degrees of freedom <= 0 for slice.\n",
      "  var = nanvar(a, axis=axis, dtype=dtype, out=out, ddof=ddof,\n"
     ]
    },
    {
     "name": "stdout",
     "output_type": "stream",
     "text": [
      "40/40 [==============================] - 6s 135ms/step\n",
      "Number of events in VBF_SR: 286751, VBF_BR: 45436, GGF_SR: 78945, GGF_BR: 83384\n",
      "Preparing dataset from ['./Sample/data/quark_jet_2_cut/pre-processing/']\n"
     ]
    },
    {
     "name": "stderr",
     "output_type": "stream",
     "text": [
      "/tmp/ipykernel_519871/2994601865.py:57: RuntimeWarning: Mean of empty slice\n",
      "  mean = np.nanmean(X[:, s, 0], axis=(1), keepdims=True)\n",
      "/home/r10222035/.conda/envs/tf2/lib/python3.8/site-packages/numpy/lib/nanfunctions.py:1872: RuntimeWarning: Degrees of freedom <= 0 for slice.\n",
      "  var = nanvar(a, axis=axis, dtype=dtype, out=out, ddof=ddof,\n"
     ]
    },
    {
     "name": "stdout",
     "output_type": "stream",
     "text": [
      "40/40 [==============================] - 6s 135ms/step\n",
      "Number of events in VBF_SR: 115461, VBF_BR: 17701, GGF_SR: 32970, GGF_BR: 32429\n",
      "Preparing dataset from ['./Sample/data/ZZ_4l/quark_jet_2_cut/pre-processing/']\n"
     ]
    },
    {
     "name": "stderr",
     "output_type": "stream",
     "text": [
      "/tmp/ipykernel_519871/2994601865.py:57: RuntimeWarning: Mean of empty slice\n",
      "  mean = np.nanmean(X[:, s, 0], axis=(1), keepdims=True)\n",
      "/home/r10222035/.conda/envs/tf2/lib/python3.8/site-packages/numpy/lib/nanfunctions.py:1872: RuntimeWarning: Degrees of freedom <= 0 for slice.\n",
      "  var = nanvar(a, axis=axis, dtype=dtype, out=out, ddof=ddof,\n"
     ]
    },
    {
     "name": "stdout",
     "output_type": "stream",
     "text": [
      "40/40 [==============================] - 6s 136ms/step\n",
      "Number of events in VBF_SR: 286751, VBF_BR: 45436, GGF_SR: 78945, GGF_BR: 83384\n",
      "Preparing dataset from ['./Sample/data/quark_jet_2_cut/pre-processing/']\n"
     ]
    },
    {
     "name": "stderr",
     "output_type": "stream",
     "text": [
      "/tmp/ipykernel_519871/2994601865.py:57: RuntimeWarning: Mean of empty slice\n",
      "  mean = np.nanmean(X[:, s, 0], axis=(1), keepdims=True)\n",
      "/home/r10222035/.conda/envs/tf2/lib/python3.8/site-packages/numpy/lib/nanfunctions.py:1872: RuntimeWarning: Degrees of freedom <= 0 for slice.\n",
      "  var = nanvar(a, axis=axis, dtype=dtype, out=out, ddof=ddof,\n"
     ]
    },
    {
     "name": "stdout",
     "output_type": "stream",
     "text": [
      "40/40 [==============================] - 6s 134ms/step\n",
      "Number of events in VBF_SR: 115461, VBF_BR: 17701, GGF_SR: 32970, GGF_BR: 32429\n",
      "Preparing dataset from ['./Sample/data/ZZ_4l/quark_jet_2_cut/pre-processing/']\n"
     ]
    },
    {
     "name": "stderr",
     "output_type": "stream",
     "text": [
      "/tmp/ipykernel_519871/2994601865.py:57: RuntimeWarning: Mean of empty slice\n",
      "  mean = np.nanmean(X[:, s, 0], axis=(1), keepdims=True)\n",
      "/home/r10222035/.conda/envs/tf2/lib/python3.8/site-packages/numpy/lib/nanfunctions.py:1872: RuntimeWarning: Degrees of freedom <= 0 for slice.\n",
      "  var = nanvar(a, axis=axis, dtype=dtype, out=out, ddof=ddof,\n"
     ]
    },
    {
     "name": "stdout",
     "output_type": "stream",
     "text": [
      "40/40 [==============================] - 6s 136ms/step\n",
      "Number of events in VBF_SR: 286751, VBF_BR: 45436, GGF_SR: 78945, GGF_BR: 83384\n",
      "Preparing dataset from ['./Sample/data/quark_jet_2_cut/pre-processing/']\n"
     ]
    },
    {
     "name": "stderr",
     "output_type": "stream",
     "text": [
      "/tmp/ipykernel_519871/2994601865.py:57: RuntimeWarning: Mean of empty slice\n",
      "  mean = np.nanmean(X[:, s, 0], axis=(1), keepdims=True)\n",
      "/home/r10222035/.conda/envs/tf2/lib/python3.8/site-packages/numpy/lib/nanfunctions.py:1872: RuntimeWarning: Degrees of freedom <= 0 for slice.\n",
      "  var = nanvar(a, axis=axis, dtype=dtype, out=out, ddof=ddof,\n"
     ]
    },
    {
     "name": "stdout",
     "output_type": "stream",
     "text": [
      "40/40 [==============================] - 6s 136ms/step\n",
      "Number of events in VBF_SR: 115461, VBF_BR: 17701, GGF_SR: 32970, GGF_BR: 32429\n",
      "Preparing dataset from ['./Sample/data/ZZ_4l/quark_jet_2_cut/pre-processing/']\n"
     ]
    },
    {
     "name": "stderr",
     "output_type": "stream",
     "text": [
      "/tmp/ipykernel_519871/2994601865.py:57: RuntimeWarning: Mean of empty slice\n",
      "  mean = np.nanmean(X[:, s, 0], axis=(1), keepdims=True)\n",
      "/home/r10222035/.conda/envs/tf2/lib/python3.8/site-packages/numpy/lib/nanfunctions.py:1872: RuntimeWarning: Degrees of freedom <= 0 for slice.\n",
      "  var = nanvar(a, axis=axis, dtype=dtype, out=out, ddof=ddof,\n"
     ]
    },
    {
     "name": "stdout",
     "output_type": "stream",
     "text": [
      "40/40 [==============================] - 6s 134ms/step\n",
      "Number of events in VBF_SR: 286751, VBF_BR: 45436, GGF_SR: 78945, GGF_BR: 83384\n",
      "Preparing dataset from ['./Sample/data/quark_jet_2_cut/pre-processing/']\n"
     ]
    },
    {
     "name": "stderr",
     "output_type": "stream",
     "text": [
      "/tmp/ipykernel_519871/2994601865.py:57: RuntimeWarning: Mean of empty slice\n",
      "  mean = np.nanmean(X[:, s, 0], axis=(1), keepdims=True)\n",
      "/home/r10222035/.conda/envs/tf2/lib/python3.8/site-packages/numpy/lib/nanfunctions.py:1872: RuntimeWarning: Degrees of freedom <= 0 for slice.\n",
      "  var = nanvar(a, axis=axis, dtype=dtype, out=out, ddof=ddof,\n"
     ]
    },
    {
     "name": "stdout",
     "output_type": "stream",
     "text": [
      "40/40 [==============================] - 6s 135ms/step\n",
      "Number of events in VBF_SR: 115461, VBF_BR: 17701, GGF_SR: 32970, GGF_BR: 32429\n",
      "Preparing dataset from ['./Sample/data/ZZ_4l/quark_jet_2_cut/pre-processing/']\n"
     ]
    },
    {
     "name": "stderr",
     "output_type": "stream",
     "text": [
      "/tmp/ipykernel_519871/2994601865.py:57: RuntimeWarning: Mean of empty slice\n",
      "  mean = np.nanmean(X[:, s, 0], axis=(1), keepdims=True)\n",
      "/home/r10222035/.conda/envs/tf2/lib/python3.8/site-packages/numpy/lib/nanfunctions.py:1872: RuntimeWarning: Degrees of freedom <= 0 for slice.\n",
      "  var = nanvar(a, axis=axis, dtype=dtype, out=out, ddof=ddof,\n"
     ]
    },
    {
     "name": "stdout",
     "output_type": "stream",
     "text": [
      "40/40 [==============================] - 6s 135ms/step\n",
      "Number of events in VBF_SR: 286751, VBF_BR: 45436, GGF_SR: 78945, GGF_BR: 83384\n",
      "Preparing dataset from ['./Sample/data/quark_jet_2_cut/pre-processing/']\n"
     ]
    },
    {
     "name": "stderr",
     "output_type": "stream",
     "text": [
      "/tmp/ipykernel_519871/2994601865.py:57: RuntimeWarning: Mean of empty slice\n",
      "  mean = np.nanmean(X[:, s, 0], axis=(1), keepdims=True)\n",
      "/home/r10222035/.conda/envs/tf2/lib/python3.8/site-packages/numpy/lib/nanfunctions.py:1872: RuntimeWarning: Degrees of freedom <= 0 for slice.\n",
      "  var = nanvar(a, axis=axis, dtype=dtype, out=out, ddof=ddof,\n"
     ]
    },
    {
     "name": "stdout",
     "output_type": "stream",
     "text": [
      "40/40 [==============================] - 6s 135ms/step\n",
      "Number of events in VBF_SR: 115461, VBF_BR: 17701, GGF_SR: 32970, GGF_BR: 32429\n",
      "Preparing dataset from ['./Sample/data/ZZ_4l/quark_jet_2_cut/pre-processing/']\n"
     ]
    },
    {
     "name": "stderr",
     "output_type": "stream",
     "text": [
      "/tmp/ipykernel_519871/2994601865.py:57: RuntimeWarning: Mean of empty slice\n",
      "  mean = np.nanmean(X[:, s, 0], axis=(1), keepdims=True)\n",
      "/home/r10222035/.conda/envs/tf2/lib/python3.8/site-packages/numpy/lib/nanfunctions.py:1872: RuntimeWarning: Degrees of freedom <= 0 for slice.\n",
      "  var = nanvar(a, axis=axis, dtype=dtype, out=out, ddof=ddof,\n"
     ]
    },
    {
     "name": "stdout",
     "output_type": "stream",
     "text": [
      "40/40 [==============================] - 6s 135ms/step\n",
      "Number of events in VBF_SR: 286751, VBF_BR: 45436, GGF_SR: 78945, GGF_BR: 83384\n",
      "Preparing dataset from ['./Sample/data/quark_jet_2_cut/pre-processing/']\n"
     ]
    },
    {
     "name": "stderr",
     "output_type": "stream",
     "text": [
      "/tmp/ipykernel_519871/2994601865.py:57: RuntimeWarning: Mean of empty slice\n",
      "  mean = np.nanmean(X[:, s, 0], axis=(1), keepdims=True)\n",
      "/home/r10222035/.conda/envs/tf2/lib/python3.8/site-packages/numpy/lib/nanfunctions.py:1872: RuntimeWarning: Degrees of freedom <= 0 for slice.\n",
      "  var = nanvar(a, axis=axis, dtype=dtype, out=out, ddof=ddof,\n"
     ]
    },
    {
     "name": "stdout",
     "output_type": "stream",
     "text": [
      "40/40 [==============================] - 6s 135ms/step\n",
      "Number of events in VBF_SR: 115461, VBF_BR: 17701, GGF_SR: 32970, GGF_BR: 32429\n",
      "Preparing dataset from ['./Sample/data/ZZ_4l/quark_jet_2_cut/pre-processing/']\n"
     ]
    },
    {
     "name": "stderr",
     "output_type": "stream",
     "text": [
      "/tmp/ipykernel_519871/2994601865.py:57: RuntimeWarning: Mean of empty slice\n",
      "  mean = np.nanmean(X[:, s, 0], axis=(1), keepdims=True)\n",
      "/home/r10222035/.conda/envs/tf2/lib/python3.8/site-packages/numpy/lib/nanfunctions.py:1872: RuntimeWarning: Degrees of freedom <= 0 for slice.\n",
      "  var = nanvar(a, axis=axis, dtype=dtype, out=out, ddof=ddof,\n"
     ]
    },
    {
     "name": "stdout",
     "output_type": "stream",
     "text": [
      "40/40 [==============================] - 6s 134ms/step\n",
      "Number of events in VBF_SR: 286751, VBF_BR: 45436, GGF_SR: 78945, GGF_BR: 83384\n",
      "Preparing dataset from ['./Sample/data/quark_jet_2_cut/pre-processing/']\n"
     ]
    },
    {
     "name": "stderr",
     "output_type": "stream",
     "text": [
      "/tmp/ipykernel_519871/2994601865.py:57: RuntimeWarning: Mean of empty slice\n",
      "  mean = np.nanmean(X[:, s, 0], axis=(1), keepdims=True)\n",
      "/home/r10222035/.conda/envs/tf2/lib/python3.8/site-packages/numpy/lib/nanfunctions.py:1872: RuntimeWarning: Degrees of freedom <= 0 for slice.\n",
      "  var = nanvar(a, axis=axis, dtype=dtype, out=out, ddof=ddof,\n"
     ]
    },
    {
     "name": "stdout",
     "output_type": "stream",
     "text": [
      "40/40 [==============================] - 6s 134ms/step\n",
      "Number of events in VBF_SR: 115461, VBF_BR: 17701, GGF_SR: 32970, GGF_BR: 32429\n",
      "Preparing dataset from ['./Sample/data/ZZ_4l/quark_jet_2_cut/pre-processing/']\n"
     ]
    },
    {
     "name": "stderr",
     "output_type": "stream",
     "text": [
      "/tmp/ipykernel_519871/2994601865.py:57: RuntimeWarning: Mean of empty slice\n",
      "  mean = np.nanmean(X[:, s, 0], axis=(1), keepdims=True)\n",
      "/home/r10222035/.conda/envs/tf2/lib/python3.8/site-packages/numpy/lib/nanfunctions.py:1872: RuntimeWarning: Degrees of freedom <= 0 for slice.\n",
      "  var = nanvar(a, axis=axis, dtype=dtype, out=out, ddof=ddof,\n"
     ]
    },
    {
     "name": "stdout",
     "output_type": "stream",
     "text": [
      "40/40 [==============================] - 6s 137ms/step\n",
      "Number of events in VBF_SR: 286751, VBF_BR: 45436, GGF_SR: 78945, GGF_BR: 83384\n",
      "Preparing dataset from ['./Sample/data/quark_jet_2_cut/pre-processing/']\n"
     ]
    },
    {
     "name": "stderr",
     "output_type": "stream",
     "text": [
      "/tmp/ipykernel_519871/2994601865.py:57: RuntimeWarning: Mean of empty slice\n",
      "  mean = np.nanmean(X[:, s, 0], axis=(1), keepdims=True)\n",
      "/home/r10222035/.conda/envs/tf2/lib/python3.8/site-packages/numpy/lib/nanfunctions.py:1872: RuntimeWarning: Degrees of freedom <= 0 for slice.\n",
      "  var = nanvar(a, axis=axis, dtype=dtype, out=out, ddof=ddof,\n"
     ]
    },
    {
     "name": "stdout",
     "output_type": "stream",
     "text": [
      "40/40 [==============================] - 6s 135ms/step\n",
      "Number of events in VBF_SR: 115461, VBF_BR: 17701, GGF_SR: 32970, GGF_BR: 32429\n",
      "Preparing dataset from ['./Sample/data/ZZ_4l/quark_jet_2_cut/pre-processing/']\n"
     ]
    },
    {
     "name": "stderr",
     "output_type": "stream",
     "text": [
      "/tmp/ipykernel_519871/2994601865.py:57: RuntimeWarning: Mean of empty slice\n",
      "  mean = np.nanmean(X[:, s, 0], axis=(1), keepdims=True)\n",
      "/home/r10222035/.conda/envs/tf2/lib/python3.8/site-packages/numpy/lib/nanfunctions.py:1872: RuntimeWarning: Degrees of freedom <= 0 for slice.\n",
      "  var = nanvar(a, axis=axis, dtype=dtype, out=out, ddof=ddof,\n"
     ]
    },
    {
     "name": "stdout",
     "output_type": "stream",
     "text": [
      "40/40 [==============================] - 6s 137ms/step\n",
      "Number of events in VBF_SR: 286751, VBF_BR: 45436, GGF_SR: 78945, GGF_BR: 83384\n",
      "Preparing dataset from ['./Sample/data/quark_jet_2_cut/pre-processing/']\n"
     ]
    },
    {
     "name": "stderr",
     "output_type": "stream",
     "text": [
      "/tmp/ipykernel_519871/2994601865.py:57: RuntimeWarning: Mean of empty slice\n",
      "  mean = np.nanmean(X[:, s, 0], axis=(1), keepdims=True)\n",
      "/home/r10222035/.conda/envs/tf2/lib/python3.8/site-packages/numpy/lib/nanfunctions.py:1872: RuntimeWarning: Degrees of freedom <= 0 for slice.\n",
      "  var = nanvar(a, axis=axis, dtype=dtype, out=out, ddof=ddof,\n"
     ]
    },
    {
     "name": "stdout",
     "output_type": "stream",
     "text": [
      "40/40 [==============================] - 6s 135ms/step\n",
      "Number of events in VBF_SR: 115461, VBF_BR: 17701, GGF_SR: 32970, GGF_BR: 32429\n",
      "Preparing dataset from ['./Sample/data/ZZ_4l/quark_jet_2_cut/pre-processing/']\n"
     ]
    },
    {
     "name": "stderr",
     "output_type": "stream",
     "text": [
      "/tmp/ipykernel_519871/2994601865.py:57: RuntimeWarning: Mean of empty slice\n",
      "  mean = np.nanmean(X[:, s, 0], axis=(1), keepdims=True)\n",
      "/home/r10222035/.conda/envs/tf2/lib/python3.8/site-packages/numpy/lib/nanfunctions.py:1872: RuntimeWarning: Degrees of freedom <= 0 for slice.\n",
      "  var = nanvar(a, axis=axis, dtype=dtype, out=out, ddof=ddof,\n"
     ]
    },
    {
     "name": "stdout",
     "output_type": "stream",
     "text": [
      "40/40 [==============================] - 6s 135ms/step\n",
      "Number of events in VBF_SR: 286751, VBF_BR: 45436, GGF_SR: 78945, GGF_BR: 83384\n",
      "Preparing dataset from ['./Sample/data/quark_jet_2_cut/pre-processing/']\n"
     ]
    },
    {
     "name": "stderr",
     "output_type": "stream",
     "text": [
      "/tmp/ipykernel_519871/2994601865.py:57: RuntimeWarning: Mean of empty slice\n",
      "  mean = np.nanmean(X[:, s, 0], axis=(1), keepdims=True)\n",
      "/home/r10222035/.conda/envs/tf2/lib/python3.8/site-packages/numpy/lib/nanfunctions.py:1872: RuntimeWarning: Degrees of freedom <= 0 for slice.\n",
      "  var = nanvar(a, axis=axis, dtype=dtype, out=out, ddof=ddof,\n"
     ]
    },
    {
     "name": "stdout",
     "output_type": "stream",
     "text": [
      "40/40 [==============================] - 6s 135ms/step\n",
      "Number of events in VBF_SR: 115461, VBF_BR: 17701, GGF_SR: 32970, GGF_BR: 32429\n",
      "Preparing dataset from ['./Sample/data/ZZ_4l/quark_jet_2_cut/pre-processing/']\n"
     ]
    },
    {
     "name": "stderr",
     "output_type": "stream",
     "text": [
      "/tmp/ipykernel_519871/2994601865.py:57: RuntimeWarning: Mean of empty slice\n",
      "  mean = np.nanmean(X[:, s, 0], axis=(1), keepdims=True)\n",
      "/home/r10222035/.conda/envs/tf2/lib/python3.8/site-packages/numpy/lib/nanfunctions.py:1872: RuntimeWarning: Degrees of freedom <= 0 for slice.\n",
      "  var = nanvar(a, axis=axis, dtype=dtype, out=out, ddof=ddof,\n"
     ]
    },
    {
     "name": "stdout",
     "output_type": "stream",
     "text": [
      "40/40 [==============================] - 6s 137ms/step\n",
      "Number of events in VBF_SR: 286751, VBF_BR: 45436, GGF_SR: 78945, GGF_BR: 83384\n",
      "Preparing dataset from ['./Sample/data/quark_jet_2_cut/pre-processing/']\n"
     ]
    },
    {
     "name": "stderr",
     "output_type": "stream",
     "text": [
      "/tmp/ipykernel_519871/2994601865.py:57: RuntimeWarning: Mean of empty slice\n",
      "  mean = np.nanmean(X[:, s, 0], axis=(1), keepdims=True)\n",
      "/home/r10222035/.conda/envs/tf2/lib/python3.8/site-packages/numpy/lib/nanfunctions.py:1872: RuntimeWarning: Degrees of freedom <= 0 for slice.\n",
      "  var = nanvar(a, axis=axis, dtype=dtype, out=out, ddof=ddof,\n"
     ]
    },
    {
     "name": "stdout",
     "output_type": "stream",
     "text": [
      "40/40 [==============================] - 6s 135ms/step\n",
      "Number of events in VBF_SR: 115461, VBF_BR: 17701, GGF_SR: 32970, GGF_BR: 32429\n",
      "Preparing dataset from ['./Sample/data/ZZ_4l/quark_jet_2_cut/pre-processing/']\n"
     ]
    },
    {
     "name": "stderr",
     "output_type": "stream",
     "text": [
      "/tmp/ipykernel_519871/2994601865.py:57: RuntimeWarning: Mean of empty slice\n",
      "  mean = np.nanmean(X[:, s, 0], axis=(1), keepdims=True)\n",
      "/home/r10222035/.conda/envs/tf2/lib/python3.8/site-packages/numpy/lib/nanfunctions.py:1872: RuntimeWarning: Degrees of freedom <= 0 for slice.\n",
      "  var = nanvar(a, axis=axis, dtype=dtype, out=out, ddof=ddof,\n"
     ]
    },
    {
     "name": "stdout",
     "output_type": "stream",
     "text": [
      "40/40 [==============================] - 6s 135ms/step\n",
      "Number of events in VBF_SR: 286751, VBF_BR: 45436, GGF_SR: 78945, GGF_BR: 83384\n",
      "Preparing dataset from ['./Sample/data/quark_jet_2_cut/pre-processing/']\n"
     ]
    },
    {
     "name": "stderr",
     "output_type": "stream",
     "text": [
      "/tmp/ipykernel_519871/2994601865.py:57: RuntimeWarning: Mean of empty slice\n",
      "  mean = np.nanmean(X[:, s, 0], axis=(1), keepdims=True)\n",
      "/home/r10222035/.conda/envs/tf2/lib/python3.8/site-packages/numpy/lib/nanfunctions.py:1872: RuntimeWarning: Degrees of freedom <= 0 for slice.\n",
      "  var = nanvar(a, axis=axis, dtype=dtype, out=out, ddof=ddof,\n"
     ]
    },
    {
     "name": "stdout",
     "output_type": "stream",
     "text": [
      "40/40 [==============================] - 6s 135ms/step\n",
      "Number of events in VBF_SR: 115461, VBF_BR: 17701, GGF_SR: 32970, GGF_BR: 32429\n",
      "Preparing dataset from ['./Sample/data/ZZ_4l/quark_jet_2_cut/pre-processing/']\n"
     ]
    },
    {
     "name": "stderr",
     "output_type": "stream",
     "text": [
      "/tmp/ipykernel_519871/2994601865.py:57: RuntimeWarning: Mean of empty slice\n",
      "  mean = np.nanmean(X[:, s, 0], axis=(1), keepdims=True)\n",
      "/home/r10222035/.conda/envs/tf2/lib/python3.8/site-packages/numpy/lib/nanfunctions.py:1872: RuntimeWarning: Degrees of freedom <= 0 for slice.\n",
      "  var = nanvar(a, axis=axis, dtype=dtype, out=out, ddof=ddof,\n"
     ]
    },
    {
     "name": "stdout",
     "output_type": "stream",
     "text": [
      "40/40 [==============================] - 6s 135ms/step\n",
      "Number of events in VBF_SR: 286751, VBF_BR: 45436, GGF_SR: 78945, GGF_BR: 83384\n",
      "Preparing dataset from ['./Sample/data/quark_jet_2_cut/pre-processing/']\n"
     ]
    },
    {
     "name": "stderr",
     "output_type": "stream",
     "text": [
      "/tmp/ipykernel_519871/2994601865.py:57: RuntimeWarning: Mean of empty slice\n",
      "  mean = np.nanmean(X[:, s, 0], axis=(1), keepdims=True)\n",
      "/home/r10222035/.conda/envs/tf2/lib/python3.8/site-packages/numpy/lib/nanfunctions.py:1872: RuntimeWarning: Degrees of freedom <= 0 for slice.\n",
      "  var = nanvar(a, axis=axis, dtype=dtype, out=out, ddof=ddof,\n"
     ]
    },
    {
     "name": "stdout",
     "output_type": "stream",
     "text": [
      "40/40 [==============================] - 6s 134ms/step\n",
      "Number of events in VBF_SR: 115461, VBF_BR: 17701, GGF_SR: 32970, GGF_BR: 32429\n",
      "Preparing dataset from ['./Sample/data/ZZ_4l/quark_jet_2_cut/pre-processing/']\n"
     ]
    },
    {
     "name": "stderr",
     "output_type": "stream",
     "text": [
      "/tmp/ipykernel_519871/2994601865.py:57: RuntimeWarning: Mean of empty slice\n",
      "  mean = np.nanmean(X[:, s, 0], axis=(1), keepdims=True)\n",
      "/home/r10222035/.conda/envs/tf2/lib/python3.8/site-packages/numpy/lib/nanfunctions.py:1872: RuntimeWarning: Degrees of freedom <= 0 for slice.\n",
      "  var = nanvar(a, axis=axis, dtype=dtype, out=out, ddof=ddof,\n"
     ]
    },
    {
     "name": "stdout",
     "output_type": "stream",
     "text": [
      "40/40 [==============================] - 6s 135ms/step\n",
      "Number of events in VBF_SR: 286751, VBF_BR: 45436, GGF_SR: 78945, GGF_BR: 83384\n",
      "Preparing dataset from ['./Sample/data/quark_jet_2_cut/pre-processing/']\n"
     ]
    },
    {
     "name": "stderr",
     "output_type": "stream",
     "text": [
      "/tmp/ipykernel_519871/2994601865.py:57: RuntimeWarning: Mean of empty slice\n",
      "  mean = np.nanmean(X[:, s, 0], axis=(1), keepdims=True)\n",
      "/home/r10222035/.conda/envs/tf2/lib/python3.8/site-packages/numpy/lib/nanfunctions.py:1872: RuntimeWarning: Degrees of freedom <= 0 for slice.\n",
      "  var = nanvar(a, axis=axis, dtype=dtype, out=out, ddof=ddof,\n"
     ]
    },
    {
     "name": "stdout",
     "output_type": "stream",
     "text": [
      "40/40 [==============================] - 6s 134ms/step\n",
      "Number of events in VBF_SR: 115461, VBF_BR: 17701, GGF_SR: 32970, GGF_BR: 32429\n",
      "Preparing dataset from ['./Sample/data/ZZ_4l/quark_jet_2_cut/pre-processing/']\n"
     ]
    },
    {
     "name": "stderr",
     "output_type": "stream",
     "text": [
      "/tmp/ipykernel_519871/2994601865.py:57: RuntimeWarning: Mean of empty slice\n",
      "  mean = np.nanmean(X[:, s, 0], axis=(1), keepdims=True)\n",
      "/home/r10222035/.conda/envs/tf2/lib/python3.8/site-packages/numpy/lib/nanfunctions.py:1872: RuntimeWarning: Degrees of freedom <= 0 for slice.\n",
      "  var = nanvar(a, axis=axis, dtype=dtype, out=out, ddof=ddof,\n"
     ]
    },
    {
     "name": "stdout",
     "output_type": "stream",
     "text": [
      "40/40 [==============================] - 6s 137ms/step\n",
      "Number of events in VBF_SR: 286751, VBF_BR: 45436, GGF_SR: 78945, GGF_BR: 83384\n",
      "Preparing dataset from ['./Sample/data/quark_jet_2_cut/pre-processing/']\n"
     ]
    },
    {
     "name": "stderr",
     "output_type": "stream",
     "text": [
      "/tmp/ipykernel_519871/2994601865.py:57: RuntimeWarning: Mean of empty slice\n",
      "  mean = np.nanmean(X[:, s, 0], axis=(1), keepdims=True)\n",
      "/home/r10222035/.conda/envs/tf2/lib/python3.8/site-packages/numpy/lib/nanfunctions.py:1872: RuntimeWarning: Degrees of freedom <= 0 for slice.\n",
      "  var = nanvar(a, axis=axis, dtype=dtype, out=out, ddof=ddof,\n"
     ]
    },
    {
     "name": "stdout",
     "output_type": "stream",
     "text": [
      "40/40 [==============================] - 6s 135ms/step\n",
      "Number of events in VBF_SR: 115461, VBF_BR: 17701, GGF_SR: 32970, GGF_BR: 32429\n",
      "Preparing dataset from ['./Sample/data/ZZ_4l/quark_jet_2_cut/pre-processing/']\n"
     ]
    },
    {
     "name": "stderr",
     "output_type": "stream",
     "text": [
      "/tmp/ipykernel_519871/2994601865.py:57: RuntimeWarning: Mean of empty slice\n",
      "  mean = np.nanmean(X[:, s, 0], axis=(1), keepdims=True)\n",
      "/home/r10222035/.conda/envs/tf2/lib/python3.8/site-packages/numpy/lib/nanfunctions.py:1872: RuntimeWarning: Degrees of freedom <= 0 for slice.\n",
      "  var = nanvar(a, axis=axis, dtype=dtype, out=out, ddof=ddof,\n"
     ]
    },
    {
     "name": "stdout",
     "output_type": "stream",
     "text": [
      "40/40 [==============================] - 6s 136ms/step\n",
      "Number of events in VBF_SR: 286751, VBF_BR: 45436, GGF_SR: 78945, GGF_BR: 83384\n",
      "Preparing dataset from ['./Sample/data/quark_jet_2_cut/pre-processing/']\n"
     ]
    },
    {
     "name": "stderr",
     "output_type": "stream",
     "text": [
      "/tmp/ipykernel_519871/2994601865.py:57: RuntimeWarning: Mean of empty slice\n",
      "  mean = np.nanmean(X[:, s, 0], axis=(1), keepdims=True)\n",
      "/home/r10222035/.conda/envs/tf2/lib/python3.8/site-packages/numpy/lib/nanfunctions.py:1872: RuntimeWarning: Degrees of freedom <= 0 for slice.\n",
      "  var = nanvar(a, axis=axis, dtype=dtype, out=out, ddof=ddof,\n"
     ]
    },
    {
     "name": "stdout",
     "output_type": "stream",
     "text": [
      "40/40 [==============================] - 6s 135ms/step\n",
      "Number of events in VBF_SR: 115461, VBF_BR: 17701, GGF_SR: 32970, GGF_BR: 32429\n",
      "Preparing dataset from ['./Sample/data/ZZ_4l/quark_jet_2_cut/pre-processing/']\n"
     ]
    },
    {
     "name": "stderr",
     "output_type": "stream",
     "text": [
      "/tmp/ipykernel_519871/2994601865.py:57: RuntimeWarning: Mean of empty slice\n",
      "  mean = np.nanmean(X[:, s, 0], axis=(1), keepdims=True)\n",
      "/home/r10222035/.conda/envs/tf2/lib/python3.8/site-packages/numpy/lib/nanfunctions.py:1872: RuntimeWarning: Degrees of freedom <= 0 for slice.\n",
      "  var = nanvar(a, axis=axis, dtype=dtype, out=out, ddof=ddof,\n"
     ]
    },
    {
     "name": "stdout",
     "output_type": "stream",
     "text": [
      "40/40 [==============================] - 6s 135ms/step\n",
      "Number of events in VBF_SR: 286751, VBF_BR: 45436, GGF_SR: 78945, GGF_BR: 83384\n",
      "Preparing dataset from ['./Sample/data/quark_jet_2_cut/pre-processing/']\n"
     ]
    },
    {
     "name": "stderr",
     "output_type": "stream",
     "text": [
      "/tmp/ipykernel_519871/2994601865.py:57: RuntimeWarning: Mean of empty slice\n",
      "  mean = np.nanmean(X[:, s, 0], axis=(1), keepdims=True)\n",
      "/home/r10222035/.conda/envs/tf2/lib/python3.8/site-packages/numpy/lib/nanfunctions.py:1872: RuntimeWarning: Degrees of freedom <= 0 for slice.\n",
      "  var = nanvar(a, axis=axis, dtype=dtype, out=out, ddof=ddof,\n"
     ]
    },
    {
     "name": "stdout",
     "output_type": "stream",
     "text": [
      "40/40 [==============================] - 6s 136ms/step\n",
      "Number of events in VBF_SR: 115461, VBF_BR: 17701, GGF_SR: 32970, GGF_BR: 32429\n",
      "Preparing dataset from ['./Sample/data/ZZ_4l/quark_jet_2_cut/pre-processing/']\n"
     ]
    },
    {
     "name": "stderr",
     "output_type": "stream",
     "text": [
      "/tmp/ipykernel_519871/2994601865.py:57: RuntimeWarning: Mean of empty slice\n",
      "  mean = np.nanmean(X[:, s, 0], axis=(1), keepdims=True)\n",
      "/home/r10222035/.conda/envs/tf2/lib/python3.8/site-packages/numpy/lib/nanfunctions.py:1872: RuntimeWarning: Degrees of freedom <= 0 for slice.\n",
      "  var = nanvar(a, axis=axis, dtype=dtype, out=out, ddof=ddof,\n"
     ]
    },
    {
     "name": "stdout",
     "output_type": "stream",
     "text": [
      "40/40 [==============================] - 6s 134ms/step\n",
      "Number of events in VBF_SR: 286751, VBF_BR: 45436, GGF_SR: 78945, GGF_BR: 83384\n",
      "Preparing dataset from ['./Sample/data/quark_jet_2_cut/pre-processing/']\n"
     ]
    },
    {
     "name": "stderr",
     "output_type": "stream",
     "text": [
      "/tmp/ipykernel_519871/2994601865.py:57: RuntimeWarning: Mean of empty slice\n",
      "  mean = np.nanmean(X[:, s, 0], axis=(1), keepdims=True)\n",
      "/home/r10222035/.conda/envs/tf2/lib/python3.8/site-packages/numpy/lib/nanfunctions.py:1872: RuntimeWarning: Degrees of freedom <= 0 for slice.\n",
      "  var = nanvar(a, axis=axis, dtype=dtype, out=out, ddof=ddof,\n"
     ]
    },
    {
     "name": "stdout",
     "output_type": "stream",
     "text": [
      "40/40 [==============================] - 6s 135ms/step\n",
      "Number of events in VBF_SR: 115461, VBF_BR: 17701, GGF_SR: 32970, GGF_BR: 32429\n",
      "Preparing dataset from ['./Sample/data/ZZ_4l/quark_jet_2_cut/pre-processing/']\n"
     ]
    },
    {
     "name": "stderr",
     "output_type": "stream",
     "text": [
      "/tmp/ipykernel_519871/2994601865.py:57: RuntimeWarning: Mean of empty slice\n",
      "  mean = np.nanmean(X[:, s, 0], axis=(1), keepdims=True)\n",
      "/home/r10222035/.conda/envs/tf2/lib/python3.8/site-packages/numpy/lib/nanfunctions.py:1872: RuntimeWarning: Degrees of freedom <= 0 for slice.\n",
      "  var = nanvar(a, axis=axis, dtype=dtype, out=out, ddof=ddof,\n"
     ]
    },
    {
     "name": "stdout",
     "output_type": "stream",
     "text": [
      "40/40 [==============================] - 6s 133ms/step\n",
      "Number of events in VBF_SR: 286751, VBF_BR: 45436, GGF_SR: 78945, GGF_BR: 83384\n",
      "Preparing dataset from ['./Sample/data/quark_jet_2_cut/pre-processing/']\n"
     ]
    },
    {
     "name": "stderr",
     "output_type": "stream",
     "text": [
      "/tmp/ipykernel_519871/2994601865.py:57: RuntimeWarning: Mean of empty slice\n",
      "  mean = np.nanmean(X[:, s, 0], axis=(1), keepdims=True)\n",
      "/home/r10222035/.conda/envs/tf2/lib/python3.8/site-packages/numpy/lib/nanfunctions.py:1872: RuntimeWarning: Degrees of freedom <= 0 for slice.\n",
      "  var = nanvar(a, axis=axis, dtype=dtype, out=out, ddof=ddof,\n"
     ]
    },
    {
     "name": "stdout",
     "output_type": "stream",
     "text": [
      "40/40 [==============================] - 6s 135ms/step\n",
      "Number of events in VBF_SR: 115461, VBF_BR: 17701, GGF_SR: 32970, GGF_BR: 32429\n",
      "Preparing dataset from ['./Sample/data/ZZ_4l/quark_jet_2_cut/pre-processing/']\n"
     ]
    },
    {
     "name": "stderr",
     "output_type": "stream",
     "text": [
      "/tmp/ipykernel_519871/2994601865.py:57: RuntimeWarning: Mean of empty slice\n",
      "  mean = np.nanmean(X[:, s, 0], axis=(1), keepdims=True)\n",
      "/home/r10222035/.conda/envs/tf2/lib/python3.8/site-packages/numpy/lib/nanfunctions.py:1872: RuntimeWarning: Degrees of freedom <= 0 for slice.\n",
      "  var = nanvar(a, axis=axis, dtype=dtype, out=out, ddof=ddof,\n"
     ]
    },
    {
     "name": "stdout",
     "output_type": "stream",
     "text": [
      "40/40 [==============================] - 6s 135ms/step\n",
      "Number of events in VBF_SR: 286751, VBF_BR: 45436, GGF_SR: 78945, GGF_BR: 83384\n",
      "Preparing dataset from ['./Sample/data/quark_jet_2_cut/pre-processing/']\n"
     ]
    },
    {
     "name": "stderr",
     "output_type": "stream",
     "text": [
      "/tmp/ipykernel_519871/2994601865.py:57: RuntimeWarning: Mean of empty slice\n",
      "  mean = np.nanmean(X[:, s, 0], axis=(1), keepdims=True)\n",
      "/home/r10222035/.conda/envs/tf2/lib/python3.8/site-packages/numpy/lib/nanfunctions.py:1872: RuntimeWarning: Degrees of freedom <= 0 for slice.\n",
      "  var = nanvar(a, axis=axis, dtype=dtype, out=out, ddof=ddof,\n"
     ]
    },
    {
     "name": "stdout",
     "output_type": "stream",
     "text": [
      "40/40 [==============================] - 6s 135ms/step\n",
      "Number of events in VBF_SR: 115461, VBF_BR: 17701, GGF_SR: 32970, GGF_BR: 32429\n",
      "Preparing dataset from ['./Sample/data/ZZ_4l/quark_jet_2_cut/pre-processing/']\n"
     ]
    },
    {
     "name": "stderr",
     "output_type": "stream",
     "text": [
      "/tmp/ipykernel_519871/2994601865.py:57: RuntimeWarning: Mean of empty slice\n",
      "  mean = np.nanmean(X[:, s, 0], axis=(1), keepdims=True)\n",
      "/home/r10222035/.conda/envs/tf2/lib/python3.8/site-packages/numpy/lib/nanfunctions.py:1872: RuntimeWarning: Degrees of freedom <= 0 for slice.\n",
      "  var = nanvar(a, axis=axis, dtype=dtype, out=out, ddof=ddof,\n"
     ]
    },
    {
     "name": "stdout",
     "output_type": "stream",
     "text": [
      "40/40 [==============================] - 6s 135ms/step\n",
      "Number of events in VBF_SR: 286751, VBF_BR: 45436, GGF_SR: 78945, GGF_BR: 83384\n",
      "Preparing dataset from ['./Sample/data/quark_jet_2_cut/pre-processing/']\n"
     ]
    },
    {
     "name": "stderr",
     "output_type": "stream",
     "text": [
      "/tmp/ipykernel_519871/2994601865.py:57: RuntimeWarning: Mean of empty slice\n",
      "  mean = np.nanmean(X[:, s, 0], axis=(1), keepdims=True)\n",
      "/home/r10222035/.conda/envs/tf2/lib/python3.8/site-packages/numpy/lib/nanfunctions.py:1872: RuntimeWarning: Degrees of freedom <= 0 for slice.\n",
      "  var = nanvar(a, axis=axis, dtype=dtype, out=out, ddof=ddof,\n"
     ]
    },
    {
     "name": "stdout",
     "output_type": "stream",
     "text": [
      "40/40 [==============================] - 6s 135ms/step\n",
      "Number of events in VBF_SR: 115461, VBF_BR: 17701, GGF_SR: 32970, GGF_BR: 32429\n",
      "Preparing dataset from ['./Sample/data/ZZ_4l/quark_jet_2_cut/pre-processing/']\n"
     ]
    },
    {
     "name": "stderr",
     "output_type": "stream",
     "text": [
      "/tmp/ipykernel_519871/2994601865.py:57: RuntimeWarning: Mean of empty slice\n",
      "  mean = np.nanmean(X[:, s, 0], axis=(1), keepdims=True)\n",
      "/home/r10222035/.conda/envs/tf2/lib/python3.8/site-packages/numpy/lib/nanfunctions.py:1872: RuntimeWarning: Degrees of freedom <= 0 for slice.\n",
      "  var = nanvar(a, axis=axis, dtype=dtype, out=out, ddof=ddof,\n"
     ]
    },
    {
     "name": "stdout",
     "output_type": "stream",
     "text": [
      "40/40 [==============================] - 6s 135ms/step\n",
      "Number of events in VBF_SR: 286751, VBF_BR: 45436, GGF_SR: 78945, GGF_BR: 83384\n",
      "Preparing dataset from ['./Sample/data/quark_jet_2_cut/pre-processing/']\n"
     ]
    },
    {
     "name": "stderr",
     "output_type": "stream",
     "text": [
      "/tmp/ipykernel_519871/2994601865.py:57: RuntimeWarning: Mean of empty slice\n",
      "  mean = np.nanmean(X[:, s, 0], axis=(1), keepdims=True)\n",
      "/home/r10222035/.conda/envs/tf2/lib/python3.8/site-packages/numpy/lib/nanfunctions.py:1872: RuntimeWarning: Degrees of freedom <= 0 for slice.\n",
      "  var = nanvar(a, axis=axis, dtype=dtype, out=out, ddof=ddof,\n"
     ]
    },
    {
     "name": "stdout",
     "output_type": "stream",
     "text": [
      "40/40 [==============================] - 6s 135ms/step\n",
      "Number of events in VBF_SR: 115461, VBF_BR: 17701, GGF_SR: 32970, GGF_BR: 32429\n",
      "Preparing dataset from ['./Sample/data/ZZ_4l/quark_jet_2_cut/pre-processing/']\n"
     ]
    },
    {
     "name": "stderr",
     "output_type": "stream",
     "text": [
      "/tmp/ipykernel_519871/2994601865.py:57: RuntimeWarning: Mean of empty slice\n",
      "  mean = np.nanmean(X[:, s, 0], axis=(1), keepdims=True)\n",
      "/home/r10222035/.conda/envs/tf2/lib/python3.8/site-packages/numpy/lib/nanfunctions.py:1872: RuntimeWarning: Degrees of freedom <= 0 for slice.\n",
      "  var = nanvar(a, axis=axis, dtype=dtype, out=out, ddof=ddof,\n"
     ]
    },
    {
     "name": "stdout",
     "output_type": "stream",
     "text": [
      "40/40 [==============================] - 6s 134ms/step\n",
      "Number of events in VBF_SR: 286751, VBF_BR: 45436, GGF_SR: 78945, GGF_BR: 83384\n",
      "Preparing dataset from ['./Sample/data/quark_jet_2_cut/pre-processing/']\n"
     ]
    },
    {
     "name": "stderr",
     "output_type": "stream",
     "text": [
      "/tmp/ipykernel_519871/2994601865.py:57: RuntimeWarning: Mean of empty slice\n",
      "  mean = np.nanmean(X[:, s, 0], axis=(1), keepdims=True)\n",
      "/home/r10222035/.conda/envs/tf2/lib/python3.8/site-packages/numpy/lib/nanfunctions.py:1872: RuntimeWarning: Degrees of freedom <= 0 for slice.\n",
      "  var = nanvar(a, axis=axis, dtype=dtype, out=out, ddof=ddof,\n"
     ]
    },
    {
     "name": "stdout",
     "output_type": "stream",
     "text": [
      "40/40 [==============================] - 6s 134ms/step\n",
      "Number of events in VBF_SR: 115461, VBF_BR: 17701, GGF_SR: 32970, GGF_BR: 32429\n",
      "Preparing dataset from ['./Sample/data/ZZ_4l/quark_jet_2_cut/pre-processing/']\n"
     ]
    },
    {
     "name": "stderr",
     "output_type": "stream",
     "text": [
      "/tmp/ipykernel_519871/2994601865.py:57: RuntimeWarning: Mean of empty slice\n",
      "  mean = np.nanmean(X[:, s, 0], axis=(1), keepdims=True)\n",
      "/home/r10222035/.conda/envs/tf2/lib/python3.8/site-packages/numpy/lib/nanfunctions.py:1872: RuntimeWarning: Degrees of freedom <= 0 for slice.\n",
      "  var = nanvar(a, axis=axis, dtype=dtype, out=out, ddof=ddof,\n"
     ]
    },
    {
     "name": "stdout",
     "output_type": "stream",
     "text": [
      "40/40 [==============================] - 6s 135ms/step\n",
      "Number of events in VBF_SR: 286751, VBF_BR: 45436, GGF_SR: 78945, GGF_BR: 83384\n",
      "Preparing dataset from ['./Sample/data/quark_jet_2_cut/pre-processing/']\n"
     ]
    },
    {
     "name": "stderr",
     "output_type": "stream",
     "text": [
      "/tmp/ipykernel_519871/2994601865.py:57: RuntimeWarning: Mean of empty slice\n",
      "  mean = np.nanmean(X[:, s, 0], axis=(1), keepdims=True)\n",
      "/home/r10222035/.conda/envs/tf2/lib/python3.8/site-packages/numpy/lib/nanfunctions.py:1872: RuntimeWarning: Degrees of freedom <= 0 for slice.\n",
      "  var = nanvar(a, axis=axis, dtype=dtype, out=out, ddof=ddof,\n"
     ]
    },
    {
     "name": "stdout",
     "output_type": "stream",
     "text": [
      "40/40 [==============================] - 6s 135ms/step\n",
      "Number of events in VBF_SR: 115461, VBF_BR: 17701, GGF_SR: 32970, GGF_BR: 32429\n",
      "Preparing dataset from ['./Sample/data/ZZ_4l/quark_jet_2_cut/pre-processing/']\n"
     ]
    },
    {
     "name": "stderr",
     "output_type": "stream",
     "text": [
      "/tmp/ipykernel_519871/2994601865.py:57: RuntimeWarning: Mean of empty slice\n",
      "  mean = np.nanmean(X[:, s, 0], axis=(1), keepdims=True)\n",
      "/home/r10222035/.conda/envs/tf2/lib/python3.8/site-packages/numpy/lib/nanfunctions.py:1872: RuntimeWarning: Degrees of freedom <= 0 for slice.\n",
      "  var = nanvar(a, axis=axis, dtype=dtype, out=out, ddof=ddof,\n"
     ]
    },
    {
     "name": "stdout",
     "output_type": "stream",
     "text": [
      "40/40 [==============================] - 6s 134ms/step\n",
      "Number of events in VBF_SR: 286751, VBF_BR: 45436, GGF_SR: 78945, GGF_BR: 83384\n",
      "Preparing dataset from ['./Sample/data/quark_jet_2_cut/pre-processing/']\n"
     ]
    },
    {
     "name": "stderr",
     "output_type": "stream",
     "text": [
      "/tmp/ipykernel_519871/2994601865.py:57: RuntimeWarning: Mean of empty slice\n",
      "  mean = np.nanmean(X[:, s, 0], axis=(1), keepdims=True)\n",
      "/home/r10222035/.conda/envs/tf2/lib/python3.8/site-packages/numpy/lib/nanfunctions.py:1872: RuntimeWarning: Degrees of freedom <= 0 for slice.\n",
      "  var = nanvar(a, axis=axis, dtype=dtype, out=out, ddof=ddof,\n"
     ]
    },
    {
     "name": "stdout",
     "output_type": "stream",
     "text": [
      "40/40 [==============================] - 6s 134ms/step\n",
      "Number of events in VBF_SR: 115461, VBF_BR: 17701, GGF_SR: 32970, GGF_BR: 32429\n",
      "Preparing dataset from ['./Sample/data/ZZ_4l/quark_jet_2_cut/pre-processing/']\n"
     ]
    },
    {
     "name": "stderr",
     "output_type": "stream",
     "text": [
      "/tmp/ipykernel_519871/2994601865.py:57: RuntimeWarning: Mean of empty slice\n",
      "  mean = np.nanmean(X[:, s, 0], axis=(1), keepdims=True)\n",
      "/home/r10222035/.conda/envs/tf2/lib/python3.8/site-packages/numpy/lib/nanfunctions.py:1872: RuntimeWarning: Degrees of freedom <= 0 for slice.\n",
      "  var = nanvar(a, axis=axis, dtype=dtype, out=out, ddof=ddof,\n"
     ]
    },
    {
     "name": "stdout",
     "output_type": "stream",
     "text": [
      "40/40 [==============================] - 6s 135ms/step\n"
     ]
    }
   ],
   "source": [
    "for l in [100, 300, 900, 1800, 3000]:\n",
    "    for i in range(1, 11):\n",
    "        # config_path = f'./Particle_transformer/config_files/CWoLa_ParT_L{l}_remove_decay_products_pTnorm_config_{i:02}.json'\n",
    "        # config_path = f'./Particle_transformer/config_files/CWoLa_ParT_L{l}_remove_decay_products_pTnorm_phi_aug_5_config_{i:02}.json'\n",
    "        config_path = f'./Particle_transformer/config_files/CWoLa_ParT_L{l}_remove_decay_products_pTnorm_phi_aug_10_config_{i:02}.json'\n",
    "        evaluate_ParT_on_diphoton_and_ZZ4l(config_path)"
   ]
  }
 ],
 "metadata": {
  "kernelspec": {
   "display_name": "tf2",
   "language": "python",
   "name": "python3"
  },
  "language_info": {
   "codemirror_mode": {
    "name": "ipython",
    "version": 3
   },
   "file_extension": ".py",
   "mimetype": "text/x-python",
   "name": "python",
   "nbconvert_exporter": "python",
   "pygments_lexer": "ipython3",
   "version": "3.8.16"
  }
 },
 "nbformat": 4,
 "nbformat_minor": 5
}
